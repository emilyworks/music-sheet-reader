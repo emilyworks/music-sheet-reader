{
  "cells": [
    {
      "cell_type": "markdown",
      "metadata": {
        "id": "c1Wpq3zFTY8i"
      },
      "source": [
        "## Setup, Installations, and Imports"
      ]
    },
    {
      "cell_type": "code",
      "execution_count": null,
      "metadata": {
        "colab": {
          "base_uri": "https://localhost:8080/"
        },
        "id": "r8h7taqTjMuV",
        "outputId": "7646c81c-9e97-49c4-f07a-a93fbd6bea5c"
      },
      "outputs": [
        {
          "name": "stdout",
          "output_type": "stream",
          "text": [
            "\u001b[2K     \u001b[90m━━━━━━━━━━━━━━━━━━━━━━━━━━━━━━━━━━━━━━━━\u001b[0m \u001b[32m3.4/3.4 MB\u001b[0m \u001b[31m6.6 MB/s\u001b[0m eta \u001b[36m0:00:00\u001b[0m\n",
            "\u001b[?25h"
          ]
        }
      ],
      "source": [
        "#install packages as necessary\n",
        "!pip -q install accelerate datasets transformers evaluate jiwer"
      ]
    },
    {
      "cell_type": "code",
      "execution_count": null,
      "metadata": {
        "id": "pZzmy9LTSxeJ"
      },
      "outputs": [],
      "source": [
        "#import our packages\n",
        "import os\n",
        "import torch\n",
        "from torchvision import datasets, models, transforms\n",
        "from torch.utils.data import DataLoader, Dataset\n",
        "from datasets import load_metric\n",
        "from transformers import AutoImageProcessor, AutoModelForImageClassification, Trainer, TrainingArguments, BlipProcessor, BlipForConditionalGeneration\n",
        "import matplotlib.pyplot as plt\n",
        "import accelerate\n",
        "import numpy as np\n",
        "import pickle\n",
        "import random\n",
        "import tqdm\n",
        "import requests\n",
        "import evaluate\n",
        "from PIL import Image\n",
        "import copy\n",
        "from rich.progress import track"
      ]
    },
    {
      "cell_type": "code",
      "execution_count": null,
      "metadata": {
        "colab": {
          "base_uri": "https://localhost:8080/"
        },
        "id": "Ni6h_FYqS42Y",
        "outputId": "a06c5417-cb6f-4cbf-a32f-3a77834807b9"
      },
      "outputs": [
        {
          "name": "stdout",
          "output_type": "stream",
          "text": [
            "Mounted at /content/drive/\n"
          ]
        }
      ],
      "source": [
        "#mount the drive (for saving files to google drive (so the data will not have to be reprocessed everytime colab restarts a session))\n",
        "from google.colab import drive\n",
        "drive.mount('/content/drive/')"
      ]
    },
    {
      "cell_type": "markdown",
      "metadata": {
        "id": "QZCFV-HrShGd"
      },
      "source": [
        "## Poliphonic Data Extraction and Preprocessing"
      ]
    },
    {
      "cell_type": "code",
      "execution_count": null,
      "metadata": {},
      "outputs": [],
      "source": [
        "'''\n",
        "Note: \n",
        "- This section is just meant to extract the data from the original tgz file, process it into a Poliphonic dataset object, and save it accordingly (such that it can persist beyond individual Google Colab sessions)\n",
        "If all of the above has already been done, skip this section.\n",
        "- This section was originally a part of code for another model we were experimenting with. Not all of it is necessary for the finetuned blip model but since\n",
        "the datasets were already created anyway for prior experiments, we leave it and leverage a piece of it for the finetuned blip model\n",
        "'''"
      ]
    },
    {
      "cell_type": "code",
      "execution_count": null,
      "metadata": {
        "id": "WvgOynZZp1bs"
      },
      "outputs": [],
      "source": [
        "#this specific cell block is based on the original paper that created the raw dataset we're using.\n",
        "#it's been modified/adapted for our use case but credit goes to that paper and its authors. It provides some processing of bekrn files\n",
        "#that has been helpful for our group, since we are not familiar with the notation or the predecessor notation it was based on\n",
        "\n",
        "def load_data(partition_file, resize_ratio=1., use_raw_krn=False, load_distorted=False, extension=\".bekrn\"):\n",
        "    X = []\n",
        "    Y = []\n",
        "    with open(partition_file) as partfile:\n",
        "        part_lines = partfile.read()\n",
        "        part_lines = part_lines.split(\"\\n\")\n",
        "        for file_path in track(part_lines, description=\"Loading...\"):\n",
        "            if extension != \".bekrn\":\n",
        "                file_path = file_path.replace(\".bekrn\", extension)\n",
        "            krn = None\n",
        "            krnlines = []\n",
        "            file_path = f\"{file_path}\"\n",
        "            if os.path.isfile(file_path):\n",
        "                with open(file_path) as krnfile:\n",
        "                    try:\n",
        "                      krn = krnfile.read()\n",
        "                    except:\n",
        "                      continue\n",
        "                    krn = krn.replace(\" \", \" <s> \")\n",
        "                    krn = krn.replace(\"·\", \" \")\n",
        "                    lines = krn.split(\"\\n\")\n",
        "                    for line in lines:\n",
        "                        line = line.replace(\"\\t\", \" <t> \")\n",
        "                        line = line.split(\" \")\n",
        "                        if len(line) > 1:\n",
        "                            line.append(\"<b>\")\n",
        "                            krnlines.append(line)\n",
        "                    if os.path.exists(f\"{file_path.split('.')[0]}.jpg\"):\n",
        "                        if load_distorted:\n",
        "                            height = 256\n",
        "                            img = cv2.imread(f\"{file_path.split('.')[0]}_distorted.jpg\", 0)\n",
        "                            width = int(float(height * img.shape[1]) / img.shape[0])\n",
        "                            img =  cv2.resize(img, (width, height), interpolation=cv2.INTER_LINEAR)\n",
        "                            if (height//8) * (width//16) > len(sum(krnlines, [])):\n",
        "                                width = int(np.ceil(img.shape[1] * resize_ratio))\n",
        "                                height = int(np.ceil(img.shape[0] * resize_ratio))\n",
        "                                img = cv2.resize(img, (width, height), interpolation=cv2.INTER_LINEAR)\n",
        "                                img = cv2.rotate(img, cv2.ROTATE_90_CLOCKWISE)\n",
        "                                X.append(img)\n",
        "                                Y.append(sum(krnlines, []))\n",
        "                        else:\n",
        "                            img = cv2.imread(f\"{file_path.split('.')[0]}.jpg\", 0)\n",
        "                            width = int(np.ceil(img.shape[1] * resize_ratio))\n",
        "                            height = int(np.ceil(img.shape[0] * resize_ratio))\n",
        "                            img = cv2.resize(img, (width, height), interpolation=cv2.INTER_LINEAR)\n",
        "                            img = cv2.rotate(img, cv2.ROTATE_90_CLOCKWISE)\n",
        "                            X.append(img)\n",
        "                            Y.append(sum(krnlines, []))\n",
        "    print(len(X)), print(len(Y))\n",
        "    return X, Y\n",
        "\n",
        "\n",
        "class PoliphonicDataset(Dataset):\n",
        "    def __init__(self, partition_file) -> None:\n",
        "        self.x, self.y = load_data(partition_file)\n",
        "        self.tensorTransform = transforms.ToTensor()\n",
        "\n",
        "    def __len__(self):\n",
        "        return len(self.x)\n",
        "\n",
        "    def __getitem__(self, index):\n",
        "        image = self.tensorTransform(self.x[index])\n",
        "        gt = torch.from_numpy(np.asarray([self.w2i[token] for token in self.y[index]]))\n",
        "\n",
        "        return image, gt, (image.shape[2] // 8) * (image.shape[1] // 16), len(gt)\n",
        "\n",
        "    def get_max_hw(self):\n",
        "        m_width = np.max([img.shape[1] for img in self.x])\n",
        "        m_height = np.max([img.shape[0] for img in self.x])\n",
        "\n",
        "        return m_height, m_width\n",
        "\n",
        "    def get_max_seqlen(self):\n",
        "        return np.max([len(seq) for seq in self.y])\n",
        "\n",
        "    def vocab_size(self):\n",
        "        return len(self.w2i)\n",
        "\n",
        "    def get_gt(self):\n",
        "        return self.y\n",
        "\n",
        "    def set_dictionaries(self, w2i, i2w):\n",
        "        self.w2i = w2i\n",
        "        self.i2w = i2w\n",
        "        self.padding_token = w2i['<pad>']\n",
        "\n",
        "    def get_dictionaries(self):\n",
        "        return self.w2i, self.i2w\n",
        "\n",
        "    def get_i2w(self):\n",
        "        return self.i2w"
      ]
    },
    {
      "cell_type": "code",
      "execution_count": null,
      "metadata": {
        "colab": {
          "base_uri": "https://localhost:8080/"
        },
        "id": "mb1z3pwBpMfw",
        "outputId": "104eff53-e297-4dde-a235-3223c8170004"
      },
      "outputs": [
        {
          "name": "stdout",
          "output_type": "stream",
          "text": [
            "tar: Ignoring unknown extended header keyword 'LIBARCHIVE.xattr.com.apple.quarantine'\n",
            "tar: Ignoring unknown extended header keyword 'LIBARCHIVE.xattr.com.apple.quarantine'\n",
            "tar: Ignoring unknown extended header keyword 'LIBARCHIVE.xattr.com.apple.quarantine'\n",
            "tar: Ignoring unknown extended header keyword 'LIBARCHIVE.xattr.com.apple.lastuseddate#PS'\n",
            "tar: Ignoring unknown extended header keyword 'LIBARCHIVE.xattr.com.apple.lastuseddate#PS'\n",
            "tar: Ignoring unknown extended header keyword 'LIBARCHIVE.xattr.com.apple.lastuseddate#PS'\n",
            "tar: Ignoring unknown extended header keyword 'LIBARCHIVE.xattr.com.apple.lastuseddate#PS'\n",
            "tar: Ignoring unknown extended header keyword 'LIBARCHIVE.xattr.com.apple.quarantine'\n",
            "tar: Ignoring unknown extended header keyword 'LIBARCHIVE.xattr.com.apple.lastuseddate#PS'\n",
            "tar: Ignoring unknown extended header keyword 'LIBARCHIVE.xattr.com.apple.quarantine'\n",
            "tar: Ignoring unknown extended header keyword 'LIBARCHIVE.xattr.com.apple.quarantine'\n",
            "tar: Ignoring unknown extended header keyword 'LIBARCHIVE.xattr.com.apple.quarantine'\n",
            "tar: Ignoring unknown extended header keyword 'LIBARCHIVE.xattr.com.apple.quarantine'\n",
            "tar: Ignoring unknown extended header keyword 'LIBARCHIVE.xattr.com.apple.lastuseddate#PS'\n",
            "tar: Ignoring unknown extended header keyword 'LIBARCHIVE.xattr.com.apple.quarantine'\n",
            "tar: Ignoring unknown extended header keyword 'LIBARCHIVE.xattr.com.apple.lastuseddate#PS'\n",
            "tar: Ignoring unknown extended header keyword 'LIBARCHIVE.xattr.com.apple.quarantine'\n",
            "tar: Ignoring unknown extended header keyword 'LIBARCHIVE.xattr.com.apple.lastuseddate#PS'\n"
          ]
        }
      ],
      "source": [
        "#unzip the tgz raw data file.\n",
        "#note: change the below string paths as appropriate.\n",
        "\n",
        "!tar -xzf \"grandstaff.tgz\" -C \"grandstaff_dataset/\""
      ]
    },
    {
      "cell_type": "code",
      "execution_count": null,
      "metadata": {
        "id": "zPLsfyfzSzQ5"
      },
      "outputs": [],
      "source": [
        "#Set up the train, val, and test sets as Dataset objects\n",
        "train_path = \"drive/MyDrive/train_shuffled.txt\"\n",
        "val_path = \"drive/MyDrive/val_shuffled.txt\"\n",
        "test_path = \"drive/MyDrive/test_shuffled.txt\"\n",
        "\n",
        "#create the PoliphonicDataset objects\n",
        "train_dataset = PoliphonicDataset(partition_file=train_path)\n",
        "val_dataset = PoliphonicDataset(partition_file=val_path)\n",
        "test_dataset = PoliphonicDataset(partition_file=test_path)\n"
      ]
    },
    {
      "cell_type": "code",
      "execution_count": null,
      "metadata": {
        "colab": {
          "base_uri": "https://localhost:8080/"
        },
        "id": "VCNTZ-vdxs0v",
        "outputId": "23c77d6e-48f0-4b78-e85a-dde28d4b21b7"
      },
      "outputs": [
        {
          "data": {
            "text/plain": [
              "(32330, 10776, 10776)"
            ]
          },
          "execution_count": 4,
          "metadata": {},
          "output_type": "execute_result"
        }
      ],
      "source": [
        "#double check that the lengths of the datasets we just read in are as expected\n",
        "len(train_dataset), len(test_dataset), len(val_dataset)"
      ]
    },
    {
      "cell_type": "markdown",
      "metadata": {
        "id": "jRJtNZBB35N9"
      },
      "source": [
        "## Create the train, test, and val files"
      ]
    },
    {
      "cell_type": "code",
      "execution_count": null,
      "metadata": {
        "id": "T9VYqnj2oLWe"
      },
      "outputs": [],
      "source": [
        "'''\n",
        "Note: This section is only for denominating which samples will go into train vs test vs val datasets. If that's already been determined by some other method,\n",
        "skip this section.\n",
        "'''"
      ]
    },
    {
      "cell_type": "code",
      "execution_count": null,
      "metadata": {
        "colab": {
          "base_uri": "https://localhost:8080/"
        },
        "id": "n4byij69n6Hg",
        "outputId": "4271a87c-6cbb-41fd-eb10-23d789ae4490"
      },
      "outputs": [
        {
          "name": "stdout",
          "output_type": "stream",
          "text": [
            "\u001b[1;30;43mStreaming output truncated to the last 5000 lines.\u001b[0m\n",
            "grandstaff_dataset/chopin/mazurkas/mazurka33-2/min3_up_m-16-20.bekrn\n",
            "grandstaff_dataset/chopin/mazurkas/mazurka33-2/maj2_down_m-8-12.bekrn\n",
            "grandstaff_dataset/chopin/mazurkas/mazurka33-2/min3_down_m-84-87.bekrn\n",
            "grandstaff_dataset/chopin/mazurkas/mazurka33-2/min3_down_m-21-24.bekrn\n",
            "grandstaff_dataset/chopin/mazurkas/mazurka33-2/maj2_up_m-18-21.bekrn\n",
            "grandstaff_dataset/chopin/mazurkas/mazurka33-2/maj3_down_m-85-90.bekrn\n",
            "grandstaff_dataset/chopin/mazurkas/mazurka33-2/min3_down_m-126-129.bekrn\n",
            "grandstaff_dataset/chopin/mazurkas/mazurka33-2/maj2_down_m-116-120.bekrn\n",
            "grandstaff_dataset/chopin/mazurkas/mazurka33-2/min3_down_m-96-99.bekrn\n",
            "grandstaff_dataset/chopin/mazurkas/mazurka33-2/maj3_up_m-128-132.bekrn\n",
            "grandstaff_dataset/chopin/mazurkas/mazurka33-2/maj2_up_m-54-57.bekrn\n",
            "grandstaff_dataset/chopin/mazurkas/mazurka33-2/min3_down_m-30-33.bekrn\n",
            "grandstaff_dataset/chopin/mazurkas/mazurka33-2/original_m-128-132.bekrn\n",
            "grandstaff_dataset/chopin/mazurkas/mazurka33-2/original_m-100-104.bekrn\n",
            "grandstaff_dataset/chopin/mazurkas/mazurka33-2/maj3_up_m-16-20.bekrn\n",
            "grandstaff_dataset/chopin/mazurkas/mazurka33-2/original_m-120-124.bekrn\n",
            "grandstaff_dataset/chopin/mazurkas/mazurka33-2/maj3_down_m-125-130.bekrn\n",
            "grandstaff_dataset/chopin/mazurkas/mazurka33-2/original_m-4-8.bekrn\n",
            "grandstaff_dataset/chopin/mazurkas/mazurka33-2/original_m-16-20.bekrn\n",
            "grandstaff_dataset/chopin/mazurkas/mazurka33-2/min3_up_m-28-32.bekrn\n",
            "grandstaff_dataset/chopin/mazurkas/mazurka33-2/min3_down_m-78-81.bekrn\n",
            "grandstaff_dataset/chopin/mazurkas/mazurka33-2/maj2_down_m-124-128.bekrn\n",
            "grandstaff_dataset/chopin/mazurkas/mazurka33-2/original_m-80-84.bekrn\n",
            "grandstaff_dataset/chopin/mazurkas/mazurka33-2/maj2_down_m-60-64.bekrn\n",
            "grandstaff_dataset/chopin/mazurkas/mazurka33-2/maj2_up_m-93-96.bekrn\n",
            "grandstaff_dataset/chopin/mazurkas/mazurka33-2/maj3_up_m-88-92.bekrn\n",
            "grandstaff_dataset/chopin/mazurkas/mazurka33-2/maj2_up_m-24-27.bekrn\n",
            "grandstaff_dataset/chopin/mazurkas/mazurka33-2/maj3_up_m-40-44.bekrn\n",
            "grandstaff_dataset/chopin/mazurkas/mazurka33-2/min3_down_m-36-39.bekrn\n",
            "grandstaff_dataset/chopin/mazurkas/mazurka33-2/maj2_up_m-30-33.bekrn\n",
            "grandstaff_dataset/chopin/mazurkas/mazurka33-2/min3_down_m-123-126.bekrn\n",
            "grandstaff_dataset/chopin/mazurkas/mazurka33-2/original_m-76-80.bekrn\n",
            "grandstaff_dataset/chopin/mazurkas/mazurka33-2/maj2_up_m-57-60.bekrn\n",
            "grandstaff_dataset/chopin/mazurkas/mazurka68-1/maj3_up_m-45-49.bekrn\n",
            "grandstaff_dataset/chopin/mazurkas/mazurka68-1/min3_up_m-46-51.bekrn\n",
            "grandstaff_dataset/chopin/mazurkas/mazurka68-1/maj3_down_m-73-76.bekrn\n",
            "grandstaff_dataset/chopin/mazurkas/mazurka68-1/maj3_down_m-46-49.bekrn\n",
            "grandstaff_dataset/chopin/mazurkas/mazurka68-1/maj2_up_m-49-53.bekrn\n",
            "grandstaff_dataset/chopin/mazurkas/mazurka68-1/maj3_down_m-37-40.bekrn\n",
            "grandstaff_dataset/chopin/mazurkas/mazurka68-1/maj2_up_m-45-49.bekrn\n",
            "grandstaff_dataset/chopin/mazurkas/mazurka68-1/maj3_down_m-19-22.bekrn\n",
            "grandstaff_dataset/chopin/mazurkas/mazurka68-1/maj2_down_m-71-76.bekrn\n",
            "grandstaff_dataset/chopin/mazurkas/mazurka68-1/min3_down_m-71-76.bekrn\n",
            "grandstaff_dataset/chopin/mazurkas/mazurka68-1/min3_up_m-31-36.bekrn\n",
            "grandstaff_dataset/chopin/mazurkas/mazurka68-1/maj2_down_m-31-36.bekrn\n",
            "grandstaff_dataset/chopin/mazurkas/mazurka68-1/maj3_down_m-31-34.bekrn\n",
            "grandstaff_dataset/chopin/mazurkas/mazurka68-1/maj3_down_m-61-64.bekrn\n",
            "grandstaff_dataset/chopin/mazurkas/mazurka68-1/maj3_down_m-49-52.bekrn\n",
            "grandstaff_dataset/chopin/mazurkas/mazurka68-1/maj3_down_m-43-46.bekrn\n",
            "grandstaff_dataset/chopin/mazurkas/mazurka68-1/maj3_up_m-73-77.bekrn\n",
            "grandstaff_dataset/chopin/mazurkas/mazurka68-1/maj2_up_m-73-77.bekrn\n",
            "grandstaff_dataset/chopin/mazurkas/mazurka68-1/maj3_up_m-49-53.bekrn\n",
            "grandstaff_dataset/chopin/mazurkas/mazurka68-1/original_m-45-49.bekrn\n",
            "grandstaff_dataset/chopin/mazurkas/mazurka68-1/min3_up_m-71-76.bekrn\n",
            "grandstaff_dataset/chopin/mazurkas/mazurka68-1/min3_down_m-31-36.bekrn\n",
            "grandstaff_dataset/chopin/mazurkas/mazurka68-1/original_m-49-53.bekrn\n",
            "grandstaff_dataset/chopin/mazurkas/mazurka68-1/min3_down_m-46-51.bekrn\n",
            "grandstaff_dataset/chopin/mazurkas/mazurka68-1/maj2_down_m-46-51.bekrn\n",
            "grandstaff_dataset/chopin/mazurkas/mazurka68-1/original_m-73-77.bekrn\n",
            "grandstaff_dataset/chopin/mazurkas/mazurka68-1/maj3_down_m-1-4.bekrn\n",
            "grandstaff_dataset/chopin/mazurkas/mazurka67-2/maj3_up_m-20-24.bekrn\n",
            "grandstaff_dataset/chopin/mazurkas/mazurka67-2/maj2_down_m-21-24.bekrn\n",
            "grandstaff_dataset/chopin/mazurkas/mazurka67-2/maj3_up_m-56-60.bekrn\n",
            "grandstaff_dataset/chopin/mazurkas/mazurka67-2/maj2_up_m-20-24.bekrn\n",
            "grandstaff_dataset/chopin/mazurkas/mazurka67-2/min3_down_m-32-36.bekrn\n",
            "grandstaff_dataset/chopin/mazurkas/mazurka67-2/min3_up_m-36-39.bekrn\n",
            "grandstaff_dataset/chopin/mazurkas/mazurka67-2/maj3_up_m-28-32.bekrn\n",
            "grandstaff_dataset/chopin/mazurkas/mazurka67-2/maj3_up_m-32-36.bekrn\n",
            "grandstaff_dataset/chopin/mazurkas/mazurka67-2/maj2_down_m-30-33.bekrn\n",
            "grandstaff_dataset/chopin/mazurkas/mazurka67-2/maj2_up_m-36-40.bekrn\n",
            "grandstaff_dataset/chopin/mazurkas/mazurka67-2/min3_down_m-36-40.bekrn\n",
            "grandstaff_dataset/chopin/mazurkas/mazurka67-2/min3_up_m-21-24.bekrn\n",
            "grandstaff_dataset/chopin/mazurkas/mazurka67-2/min3_down_m-20-24.bekrn\n",
            "grandstaff_dataset/chopin/mazurkas/mazurka67-2/maj2_up_m-28-32.bekrn\n",
            "grandstaff_dataset/chopin/mazurkas/mazurka67-2/original_m-30-35.bekrn\n",
            "grandstaff_dataset/chopin/mazurkas/mazurka67-2/maj2_down_m-36-39.bekrn\n",
            "grandstaff_dataset/chopin/mazurkas/mazurka67-2/maj3_up_m-36-40.bekrn\n",
            "grandstaff_dataset/chopin/mazurkas/mazurka67-2/min3_down_m-56-60.bekrn\n",
            "grandstaff_dataset/chopin/mazurkas/mazurka67-2/min3_down_m-28-32.bekrn\n",
            "grandstaff_dataset/chopin/mazurkas/mazurka67-2/maj2_up_m-32-36.bekrn\n",
            "grandstaff_dataset/chopin/mazurkas/mazurka67-2/maj3_down_m-35-40.bekrn\n",
            "grandstaff_dataset/chopin/mazurkas/mazurka67-2/maj3_down_m-30-35.bekrn\n",
            "grandstaff_dataset/chopin/mazurkas/mazurka67-2/min3_up_m-30-33.bekrn\n",
            "grandstaff_dataset/chopin/mazurkas/mazurka67-2/original_m-35-40.bekrn\n",
            "grandstaff_dataset/chopin/mazurkas/mazurka67-2/maj2_up_m-56-60.bekrn\n",
            "grandstaff_dataset/chopin/mazurkas/mazurka56-3/maj2_down_m-0-5.bekrn\n",
            "grandstaff_dataset/chopin/mazurkas/mazurka56-3/maj3_down_m-0-4.bekrn\n",
            "grandstaff_dataset/chopin/mazurkas/mazurka56-3/maj3_up_m-108-112.bekrn\n",
            "grandstaff_dataset/chopin/mazurkas/mazurka56-3/min3_up_m-112-116.bekrn\n",
            "grandstaff_dataset/chopin/mazurkas/mazurka56-3/maj2_down_m-160-165.bekrn\n",
            "grandstaff_dataset/chopin/mazurkas/mazurka56-3/original_m-52-56.bekrn\n",
            "grandstaff_dataset/chopin/mazurkas/mazurka56-3/maj3_up_m-96-100.bekrn\n",
            "grandstaff_dataset/chopin/mazurkas/mazurka56-3/min3_down_m-176-180.bekrn\n",
            "grandstaff_dataset/chopin/mazurkas/mazurka56-3/min3_down_m-48-52.bekrn\n",
            "grandstaff_dataset/chopin/mazurkas/mazurka56-3/original_m-56-60.bekrn\n",
            "grandstaff_dataset/chopin/mazurkas/mazurka56-3/original_m-184-188.bekrn\n",
            "grandstaff_dataset/chopin/mazurkas/mazurka56-3/maj2_up_m-110-115.bekrn\n",
            "grandstaff_dataset/chopin/mazurkas/mazurka56-3/min3_down_m-88-92.bekrn\n",
            "grandstaff_dataset/chopin/mazurkas/mazurka56-3/min3_up_m-92-96.bekrn\n",
            "grandstaff_dataset/chopin/mazurkas/mazurka56-3/original_m-108-112.bekrn\n",
            "grandstaff_dataset/chopin/mazurkas/mazurka56-3/min3_up_m-212-216.bekrn\n",
            "grandstaff_dataset/chopin/mazurkas/mazurka56-3/min3_up_m-176-180.bekrn\n",
            "grandstaff_dataset/chopin/mazurkas/mazurka56-3/maj3_down_m-96-100.bekrn\n",
            "grandstaff_dataset/chopin/mazurkas/mazurka56-3/maj3_down_m-188-192.bekrn\n",
            "grandstaff_dataset/chopin/mazurkas/mazurka56-3/maj3_down_m-88-92.bekrn\n",
            "grandstaff_dataset/chopin/mazurkas/mazurka56-3/maj3_up_m-92-96.bekrn\n",
            "grandstaff_dataset/chopin/mazurkas/mazurka56-3/maj2_down_m-180-185.bekrn\n",
            "grandstaff_dataset/chopin/mazurkas/mazurka56-3/maj2_up_m-25-30.bekrn\n",
            "grandstaff_dataset/chopin/mazurkas/mazurka56-3/original_m-96-100.bekrn\n",
            "grandstaff_dataset/chopin/mazurkas/mazurka56-3/maj2_up_m-220-225.bekrn\n",
            "grandstaff_dataset/chopin/mazurkas/mazurka56-3/maj3_up_m-56-60.bekrn\n",
            "grandstaff_dataset/chopin/mazurkas/mazurka56-3/maj2_up_m-160-165.bekrn\n",
            "grandstaff_dataset/chopin/mazurkas/mazurka56-3/min3_down_m-52-56.bekrn\n",
            "grandstaff_dataset/chopin/mazurkas/mazurka56-3/maj3_up_m-0-4.bekrn\n",
            "grandstaff_dataset/chopin/mazurkas/mazurka56-3/original_m-212-216.bekrn\n",
            "grandstaff_dataset/chopin/mazurkas/mazurka56-3/original_m-180-184.bekrn\n",
            "grandstaff_dataset/chopin/mazurkas/mazurka56-3/maj3_down_m-184-188.bekrn\n",
            "grandstaff_dataset/chopin/mazurkas/mazurka56-3/min3_down_m-24-28.bekrn\n",
            "grandstaff_dataset/chopin/mazurkas/mazurka56-3/original_m-176-180.bekrn\n",
            "grandstaff_dataset/chopin/mazurkas/mazurka56-3/original_m-188-192.bekrn\n",
            "grandstaff_dataset/chopin/mazurkas/mazurka56-3/maj3_down_m-160-164.bekrn\n",
            "grandstaff_dataset/chopin/mazurkas/mazurka56-3/maj3_down_m-212-216.bekrn\n",
            "grandstaff_dataset/chopin/mazurkas/mazurka56-3/original_m-92-96.bekrn\n",
            "grandstaff_dataset/chopin/mazurkas/mazurka56-3/min3_up_m-88-92.bekrn\n",
            "grandstaff_dataset/chopin/mazurkas/mazurka56-3/maj3_down_m-108-112.bekrn\n",
            "grandstaff_dataset/chopin/mazurkas/mazurka56-3/maj2_down_m-55-60.bekrn\n",
            "grandstaff_dataset/chopin/mazurkas/mazurka56-3/min3_down_m-104-108.bekrn\n",
            "grandstaff_dataset/chopin/mazurkas/mazurka56-3/maj3_up_m-160-164.bekrn\n",
            "grandstaff_dataset/chopin/mazurkas/mazurka56-3/maj3_down_m-84-88.bekrn\n",
            "grandstaff_dataset/chopin/mazurkas/mazurka56-3/min3_down_m-184-188.bekrn\n",
            "grandstaff_dataset/chopin/mazurkas/mazurka56-3/min3_up_m-188-192.bekrn\n",
            "grandstaff_dataset/chopin/mazurkas/mazurka56-3/min3_up_m-56-60.bekrn\n",
            "grandstaff_dataset/chopin/mazurkas/mazurka56-3/maj2_down_m-50-55.bekrn\n",
            "grandstaff_dataset/chopin/mazurkas/mazurka56-3/original_m-116-120.bekrn\n",
            "grandstaff_dataset/chopin/mazurkas/mazurka56-3/min3_down_m-96-100.bekrn\n",
            "grandstaff_dataset/chopin/mazurkas/mazurka56-3/maj3_down_m-112-116.bekrn\n",
            "grandstaff_dataset/chopin/mazurkas/mazurka56-3/maj2_down_m-220-225.bekrn\n",
            "grandstaff_dataset/chopin/mazurkas/mazurka56-3/maj3_down_m-100-104.bekrn\n",
            "grandstaff_dataset/chopin/mazurkas/mazurka56-3/maj3_up_m-100-104.bekrn\n",
            "grandstaff_dataset/chopin/mazurkas/mazurka56-3/maj3_up_m-24-28.bekrn\n",
            "grandstaff_dataset/chopin/mazurkas/mazurka56-3/maj3_up_m-112-116.bekrn\n",
            "grandstaff_dataset/chopin/mazurkas/mazurka56-3/maj2_down_m-100-105.bekrn\n",
            "grandstaff_dataset/chopin/mazurkas/mazurka56-3/min3_up_m-96-100.bekrn\n",
            "grandstaff_dataset/chopin/mazurkas/mazurka56-3/maj3_up_m-180-184.bekrn\n",
            "grandstaff_dataset/chopin/mazurkas/mazurka56-3/maj2_up_m-0-5.bekrn\n",
            "grandstaff_dataset/chopin/mazurkas/mazurka56-3/maj3_up_m-116-120.bekrn\n",
            "grandstaff_dataset/chopin/mazurkas/mazurka56-3/min3_down_m-220-224.bekrn\n",
            "grandstaff_dataset/chopin/mazurkas/mazurka56-3/maj3_up_m-48-52.bekrn\n",
            "grandstaff_dataset/chopin/mazurkas/mazurka56-3/maj3_down_m-116-120.bekrn\n",
            "grandstaff_dataset/chopin/mazurkas/mazurka56-3/maj2_down_m-85-90.bekrn\n",
            "grandstaff_dataset/chopin/mazurkas/mazurka56-3/min3_up_m-24-28.bekrn\n",
            "grandstaff_dataset/chopin/mazurkas/mazurka56-3/original_m-48-52.bekrn\n",
            "grandstaff_dataset/chopin/mazurkas/mazurka56-3/original_m-104-108.bekrn\n",
            "grandstaff_dataset/chopin/mazurkas/mazurka56-3/min3_up_m-160-164.bekrn\n",
            "grandstaff_dataset/chopin/mazurkas/mazurka56-3/maj2_up_m-190-195.bekrn\n",
            "grandstaff_dataset/chopin/mazurkas/mazurka56-3/original_m-160-164.bekrn\n",
            "grandstaff_dataset/chopin/mazurkas/mazurka56-3/maj3_up_m-52-56.bekrn\n",
            "grandstaff_dataset/chopin/mazurkas/mazurka56-3/maj3_up_m-84-88.bekrn\n",
            "grandstaff_dataset/chopin/mazurkas/mazurka56-3/maj2_down_m-90-95.bekrn\n",
            "grandstaff_dataset/chopin/mazurkas/mazurka56-3/original_m-220-224.bekrn\n",
            "grandstaff_dataset/chopin/mazurkas/mazurka56-3/min3_up_m-104-108.bekrn\n",
            "grandstaff_dataset/chopin/mazurkas/mazurka56-3/maj3_up_m-176-180.bekrn\n",
            "grandstaff_dataset/chopin/mazurkas/mazurka56-3/min3_up_m-48-52.bekrn\n",
            "grandstaff_dataset/chopin/mazurkas/mazurka56-3/maj3_down_m-104-108.bekrn\n",
            "grandstaff_dataset/chopin/mazurkas/mazurka56-3/maj3_down_m-56-60.bekrn\n",
            "grandstaff_dataset/chopin/mazurkas/mazurka56-3/original_m-88-92.bekrn\n",
            "grandstaff_dataset/chopin/mazurkas/mazurka56-3/min3_down_m-112-116.bekrn\n",
            "grandstaff_dataset/chopin/mazurkas/mazurka56-3/min3_up_m-184-188.bekrn\n",
            "grandstaff_dataset/chopin/mazurkas/mazurka56-3/min3_down_m-84-88.bekrn\n",
            "grandstaff_dataset/chopin/mazurkas/mazurka56-3/maj3_down_m-220-224.bekrn\n",
            "grandstaff_dataset/chopin/mazurkas/mazurka56-3/maj2_down_m-215-220.bekrn\n",
            "grandstaff_dataset/chopin/mazurkas/mazurka56-3/maj3_down_m-24-28.bekrn\n",
            "grandstaff_dataset/chopin/mazurkas/mazurka56-3/maj3_up_m-212-216.bekrn\n",
            "grandstaff_dataset/chopin/mazurkas/mazurka56-3/min3_down_m-56-60.bekrn\n",
            "grandstaff_dataset/chopin/mazurkas/mazurka56-3/maj3_down_m-48-52.bekrn\n",
            "grandstaff_dataset/chopin/mazurkas/mazurka56-3/min3_down_m-92-96.bekrn\n",
            "grandstaff_dataset/chopin/mazurkas/mazurka56-3/min3_down_m-108-112.bekrn\n",
            "grandstaff_dataset/chopin/mazurkas/mazurka56-3/maj3_up_m-184-188.bekrn\n",
            "grandstaff_dataset/chopin/mazurkas/mazurka56-3/maj3_up_m-188-192.bekrn\n",
            "grandstaff_dataset/chopin/mazurkas/mazurka56-3/maj2_down_m-15-20.bekrn\n",
            "grandstaff_dataset/chopin/mazurkas/mazurka56-3/min3_up_m-108-112.bekrn\n",
            "grandstaff_dataset/chopin/mazurkas/mazurka56-3/maj2_down_m-95-100.bekrn\n",
            "grandstaff_dataset/chopin/mazurkas/mazurka56-3/original_m-112-116.bekrn\n",
            "grandstaff_dataset/chopin/mazurkas/mazurka56-3/min3_down_m-116-120.bekrn\n",
            "grandstaff_dataset/chopin/mazurkas/mazurka56-3/original_m-84-88.bekrn\n",
            "grandstaff_dataset/chopin/mazurkas/mazurka56-3/maj2_down_m-115-120.bekrn\n",
            "grandstaff_dataset/chopin/mazurkas/mazurka56-3/original_m-24-28.bekrn\n",
            "grandstaff_dataset/chopin/mazurkas/mazurka56-3/maj3_down_m-180-184.bekrn\n",
            "grandstaff_dataset/chopin/mazurkas/mazurka56-3/min3_up_m-84-88.bekrn\n",
            "grandstaff_dataset/chopin/mazurkas/mazurka56-3/maj2_up_m-50-55.bekrn\n",
            "grandstaff_dataset/chopin/mazurkas/mazurka56-3/min3_up_m-116-120.bekrn\n",
            "grandstaff_dataset/chopin/mazurkas/mazurka56-3/maj2_up_m-180-185.bekrn\n",
            "grandstaff_dataset/chopin/mazurkas/mazurka56-3/maj2_up_m-185-190.bekrn\n",
            "grandstaff_dataset/chopin/mazurkas/mazurka56-3/min3_up_m-180-184.bekrn\n",
            "grandstaff_dataset/chopin/mazurkas/mazurka56-3/maj3_up_m-220-224.bekrn\n",
            "grandstaff_dataset/chopin/mazurkas/mazurka56-3/maj2_up_m-90-95.bekrn\n",
            "grandstaff_dataset/chopin/mazurkas/mazurka56-3/min3_down_m-188-192.bekrn\n",
            "grandstaff_dataset/chopin/mazurkas/mazurka56-3/min3_down_m-180-184.bekrn\n",
            "grandstaff_dataset/chopin/mazurkas/mazurka56-3/maj2_up_m-215-220.bekrn\n",
            "grandstaff_dataset/chopin/mazurkas/mazurka56-3/maj2_up_m-115-120.bekrn\n",
            "grandstaff_dataset/chopin/mazurkas/mazurka56-3/maj3_up_m-104-108.bekrn\n",
            "grandstaff_dataset/chopin/mazurkas/mazurka56-3/maj2_down_m-25-30.bekrn\n",
            "grandstaff_dataset/chopin/mazurkas/mazurka56-3/min3_up_m-52-56.bekrn\n",
            "grandstaff_dataset/chopin/mazurkas/mazurka56-3/maj3_down_m-92-96.bekrn\n",
            "grandstaff_dataset/chopin/mazurkas/mazurka56-3/original_m-0-4.bekrn\n",
            "grandstaff_dataset/chopin/mazurkas/mazurka56-3/min3_up_m-100-104.bekrn\n",
            "grandstaff_dataset/chopin/mazurkas/mazurka56-3/maj2_down_m-205-210.bekrn\n",
            "grandstaff_dataset/chopin/mazurkas/mazurka56-3/min3_up_m-0-4.bekrn\n",
            "grandstaff_dataset/chopin/mazurkas/mazurka56-3/min3_up_m-220-224.bekrn\n",
            "grandstaff_dataset/chopin/mazurkas/mazurka56-3/min3_down_m-0-4.bekrn\n",
            "grandstaff_dataset/chopin/mazurkas/mazurka56-3/maj2_up_m-205-210.bekrn\n",
            "grandstaff_dataset/chopin/mazurkas/mazurka56-3/maj3_down_m-176-180.bekrn\n",
            "grandstaff_dataset/chopin/mazurkas/mazurka56-3/maj2_up_m-95-100.bekrn\n",
            "grandstaff_dataset/chopin/mazurkas/mazurka56-3/original_m-100-104.bekrn\n",
            "grandstaff_dataset/chopin/mazurkas/mazurka56-3/maj2_down_m-110-115.bekrn\n",
            "grandstaff_dataset/chopin/mazurkas/mazurka56-3/maj2_up_m-15-20.bekrn\n",
            "grandstaff_dataset/chopin/mazurkas/mazurka56-3/maj2_up_m-55-60.bekrn\n",
            "grandstaff_dataset/chopin/mazurkas/mazurka56-3/maj2_up_m-105-110.bekrn\n",
            "grandstaff_dataset/chopin/mazurkas/mazurka56-3/maj2_up_m-85-90.bekrn\n",
            "grandstaff_dataset/chopin/mazurkas/mazurka56-3/min3_down_m-160-164.bekrn\n",
            "grandstaff_dataset/chopin/mazurkas/mazurka56-3/maj2_down_m-105-110.bekrn\n",
            "grandstaff_dataset/chopin/mazurkas/mazurka56-3/maj2_down_m-185-190.bekrn\n",
            "grandstaff_dataset/chopin/mazurkas/mazurka56-3/maj3_down_m-52-56.bekrn\n",
            "grandstaff_dataset/chopin/mazurkas/mazurka56-3/maj2_up_m-100-105.bekrn\n",
            "grandstaff_dataset/chopin/mazurkas/mazurka56-3/maj2_down_m-190-195.bekrn\n",
            "grandstaff_dataset/chopin/mazurkas/mazurka56-3/maj3_up_m-88-92.bekrn\n",
            "grandstaff_dataset/chopin/mazurkas/mazurka56-3/min3_down_m-100-104.bekrn\n",
            "grandstaff_dataset/chopin/mazurkas/mazurka56-3/min3_down_m-212-216.bekrn\n",
            "grandstaff_dataset/chopin/mazurkas/mazurka33-3/maj3_down_m-45-48.bekrn\n",
            "grandstaff_dataset/chopin/mazurkas/mazurka33-3/maj2_down_m-0-5.bekrn\n",
            "grandstaff_dataset/chopin/mazurkas/mazurka33-3/maj2_down_m-5-10.bekrn\n",
            "grandstaff_dataset/chopin/mazurkas/mazurka33-3/maj2_up_m-9-12.bekrn\n",
            "grandstaff_dataset/chopin/mazurkas/mazurka33-3/maj2_down_m-40-45.bekrn\n",
            "grandstaff_dataset/chopin/mazurkas/mazurka33-3/min3_up_m-40-44.bekrn\n",
            "grandstaff_dataset/chopin/mazurkas/mazurka33-3/maj2_down_m-20-25.bekrn\n",
            "grandstaff_dataset/chopin/mazurkas/mazurka33-3/maj3_up_m-18-21.bekrn\n",
            "grandstaff_dataset/chopin/mazurkas/mazurka33-3/maj3_down_m-24-27.bekrn\n",
            "grandstaff_dataset/chopin/mazurkas/mazurka33-3/original_m-0-5.bekrn\n",
            "grandstaff_dataset/chopin/mazurkas/mazurka33-3/maj3_up_m-24-27.bekrn\n",
            "grandstaff_dataset/chopin/mazurkas/mazurka33-3/maj3_up_m-0-3.bekrn\n",
            "grandstaff_dataset/chopin/mazurkas/mazurka33-3/min3_up_m-8-12.bekrn\n",
            "grandstaff_dataset/chopin/mazurkas/mazurka33-3/maj3_down_m-18-21.bekrn\n",
            "grandstaff_dataset/chopin/mazurkas/mazurka33-3/min3_down_m-18-21.bekrn\n",
            "grandstaff_dataset/chopin/mazurkas/mazurka33-3/maj3_up_m-39-42.bekrn\n",
            "grandstaff_dataset/chopin/mazurkas/mazurka33-3/maj3_up_m-9-12.bekrn\n",
            "grandstaff_dataset/chopin/mazurkas/mazurka33-3/maj2_down_m-30-35.bekrn\n",
            "grandstaff_dataset/chopin/mazurkas/mazurka33-3/original_m-15-20.bekrn\n",
            "grandstaff_dataset/chopin/mazurkas/mazurka33-3/maj2_up_m-48-51.bekrn\n",
            "grandstaff_dataset/chopin/mazurkas/mazurka33-3/min3_down_m-39-42.bekrn\n",
            "grandstaff_dataset/chopin/mazurkas/mazurka33-3/min3_down_m-45-48.bekrn\n",
            "grandstaff_dataset/chopin/mazurkas/mazurka33-3/min3_down_m-15-18.bekrn\n",
            "grandstaff_dataset/chopin/mazurkas/mazurka33-3/maj2_down_m-45-50.bekrn\n",
            "grandstaff_dataset/chopin/mazurkas/mazurka33-3/maj3_down_m-30-33.bekrn\n",
            "grandstaff_dataset/chopin/mazurkas/mazurka33-3/min3_down_m-24-27.bekrn\n",
            "grandstaff_dataset/chopin/mazurkas/mazurka33-3/maj2_up_m-33-36.bekrn\n",
            "grandstaff_dataset/chopin/mazurkas/mazurka33-3/original_m-30-35.bekrn\n",
            "grandstaff_dataset/chopin/mazurkas/mazurka33-3/maj3_down_m-0-3.bekrn\n",
            "grandstaff_dataset/chopin/mazurkas/mazurka33-3/min3_up_m-20-24.bekrn\n",
            "grandstaff_dataset/chopin/mazurkas/mazurka33-3/min3_down_m-0-3.bekrn\n",
            "grandstaff_dataset/chopin/mazurkas/mazurka33-3/min3_up_m-48-52.bekrn\n",
            "grandstaff_dataset/chopin/mazurkas/mazurka33-3/original_m-40-45.bekrn\n",
            "grandstaff_dataset/chopin/mazurkas/mazurka33-3/maj2_up_m-45-48.bekrn\n",
            "grandstaff_dataset/chopin/mazurkas/mazurka33-3/maj3_down_m-33-36.bekrn\n",
            "grandstaff_dataset/chopin/mazurkas/mazurka33-3/maj3_up_m-15-18.bekrn\n",
            "grandstaff_dataset/chopin/mazurkas/mazurka33-3/min3_down_m-33-36.bekrn\n",
            "grandstaff_dataset/chopin/mazurkas/mazurka33-3/original_m-45-50.bekrn\n",
            "grandstaff_dataset/chopin/mazurkas/mazurka33-3/maj2_up_m-0-3.bekrn\n",
            "grandstaff_dataset/chopin/mazurkas/mazurka33-3/maj2_up_m-39-42.bekrn\n",
            "grandstaff_dataset/chopin/mazurkas/mazurka33-3/maj2_down_m-15-20.bekrn\n",
            "grandstaff_dataset/chopin/mazurkas/mazurka33-3/min3_down_m-48-51.bekrn\n",
            "grandstaff_dataset/chopin/mazurkas/mazurka33-3/maj2_up_m-15-18.bekrn\n",
            "grandstaff_dataset/chopin/mazurkas/mazurka33-3/min3_up_m-32-36.bekrn\n",
            "grandstaff_dataset/chopin/mazurkas/mazurka33-3/maj3_up_m-33-36.bekrn\n",
            "grandstaff_dataset/chopin/mazurkas/mazurka33-3/min3_up_m-16-20.bekrn\n",
            "grandstaff_dataset/chopin/mazurkas/mazurka33-3/maj3_down_m-39-42.bekrn\n",
            "grandstaff_dataset/chopin/mazurkas/mazurka33-3/min3_up_m-0-4.bekrn\n",
            "grandstaff_dataset/chopin/mazurkas/mazurka33-3/maj3_down_m-9-12.bekrn\n",
            "grandstaff_dataset/chopin/mazurkas/mazurka33-3/maj2_up_m-18-21.bekrn\n",
            "grandstaff_dataset/chopin/mazurkas/mazurka33-3/maj3_up_m-45-48.bekrn\n",
            "grandstaff_dataset/chopin/mazurkas/mazurka33-3/min3_down_m-30-33.bekrn\n",
            "grandstaff_dataset/chopin/mazurkas/mazurka33-3/original_m-20-25.bekrn\n",
            "grandstaff_dataset/chopin/mazurkas/mazurka33-3/min3_down_m-9-12.bekrn\n",
            "grandstaff_dataset/chopin/mazurkas/mazurka33-3/maj3_up_m-30-33.bekrn\n",
            "grandstaff_dataset/chopin/mazurkas/mazurka33-3/maj2_up_m-24-27.bekrn\n",
            "grandstaff_dataset/chopin/mazurkas/mazurka33-3/original_m-5-10.bekrn\n",
            "grandstaff_dataset/chopin/mazurkas/mazurka33-3/maj3_down_m-15-18.bekrn\n",
            "grandstaff_dataset/chopin/mazurkas/mazurka33-3/maj3_up_m-48-51.bekrn\n",
            "grandstaff_dataset/chopin/mazurkas/mazurka33-3/maj2_up_m-30-33.bekrn\n",
            "grandstaff_dataset/chopin/mazurkas/mazurka33-3/maj3_down_m-48-51.bekrn\n",
            "grandstaff_dataset/chopin/mazurkas/mazurka07-3/min3_up_m-16-19.bekrn\n",
            "grandstaff_dataset/chopin/mazurkas/mazurka07-3/maj3_up_m-94-97.bekrn\n",
            "grandstaff_dataset/chopin/mazurkas/mazurka07-3/maj2_down_m-88-91.bekrn\n",
            "grandstaff_dataset/chopin/mazurkas/mazurka07-3/min3_up_m-94-97.bekrn\n",
            "grandstaff_dataset/chopin/mazurkas/mazurka07-3/min3_down_m-73-77.bekrn\n",
            "grandstaff_dataset/chopin/mazurkas/mazurka07-3/original_m-53-57.bekrn\n",
            "grandstaff_dataset/chopin/mazurkas/mazurka07-3/maj2_down_m-91-94.bekrn\n",
            "grandstaff_dataset/chopin/mazurkas/mazurka07-3/maj3_up_m-85-88.bekrn\n",
            "grandstaff_dataset/chopin/mazurkas/mazurka07-3/min3_down_m-29-33.bekrn\n",
            "grandstaff_dataset/chopin/mazurkas/mazurka07-3/maj2_up_m-101-106.bekrn\n",
            "grandstaff_dataset/chopin/mazurkas/mazurka07-3/maj3_down_m-86-91.bekrn\n",
            "grandstaff_dataset/chopin/mazurkas/mazurka07-3/maj2_down_m-100-103.bekrn\n",
            "grandstaff_dataset/chopin/mazurkas/mazurka07-3/min3_up_m-1-4.bekrn\n",
            "grandstaff_dataset/chopin/mazurkas/mazurka07-3/original_m-1-5.bekrn\n",
            "grandstaff_dataset/chopin/mazurkas/mazurka07-3/original_m-97-101.bekrn\n",
            "grandstaff_dataset/chopin/mazurkas/mazurka07-3/maj3_down_m-16-21.bekrn\n",
            "grandstaff_dataset/chopin/mazurkas/mazurka07-3/maj2_down_m-97-100.bekrn\n",
            "grandstaff_dataset/chopin/mazurkas/mazurka07-3/maj3_up_m-16-19.bekrn\n",
            "grandstaff_dataset/chopin/mazurkas/mazurka07-3/maj3_up_m-46-49.bekrn\n",
            "grandstaff_dataset/chopin/mazurkas/mazurka07-3/min3_up_m-88-91.bekrn\n",
            "grandstaff_dataset/chopin/mazurkas/mazurka07-3/min3_up_m-100-103.bekrn\n",
            "grandstaff_dataset/chopin/mazurkas/mazurka07-3/maj2_down_m-73-76.bekrn\n",
            "grandstaff_dataset/chopin/mazurkas/mazurka07-3/min3_down_m-17-21.bekrn\n",
            "grandstaff_dataset/chopin/mazurkas/mazurka07-3/min3_down_m-1-5.bekrn\n",
            "grandstaff_dataset/chopin/mazurkas/mazurka07-3/min3_down_m-97-101.bekrn\n",
            "grandstaff_dataset/chopin/mazurkas/mazurka07-3/maj2_down_m-10-13.bekrn\n",
            "grandstaff_dataset/chopin/mazurkas/mazurka07-3/min3_up_m-91-94.bekrn\n",
            "grandstaff_dataset/chopin/mazurkas/mazurka07-3/maj3_down_m-91-96.bekrn\n",
            "grandstaff_dataset/chopin/mazurkas/mazurka07-3/maj2_down_m-46-49.bekrn\n",
            "grandstaff_dataset/chopin/mazurkas/mazurka07-3/original_m-17-21.bekrn\n",
            "grandstaff_dataset/chopin/mazurkas/mazurka07-3/original_m-29-33.bekrn\n",
            "grandstaff_dataset/chopin/mazurkas/mazurka07-3/min3_up_m-19-22.bekrn\n",
            "grandstaff_dataset/chopin/mazurkas/mazurka07-3/maj3_down_m-101-106.bekrn\n",
            "grandstaff_dataset/chopin/mazurkas/mazurka07-3/maj2_up_m-1-6.bekrn\n",
            "grandstaff_dataset/chopin/mazurkas/mazurka07-3/min3_down_m-37-41.bekrn\n",
            "grandstaff_dataset/chopin/mazurkas/mazurka07-3/min3_up_m-10-13.bekrn\n",
            "grandstaff_dataset/chopin/mazurkas/mazurka07-3/min3_down_m-85-89.bekrn\n",
            "grandstaff_dataset/chopin/mazurkas/mazurka07-3/min3_up_m-37-40.bekrn\n",
            "grandstaff_dataset/chopin/mazurkas/mazurka07-3/maj2_down_m-55-58.bekrn\n",
            "grandstaff_dataset/chopin/mazurkas/mazurka07-3/maj3_up_m-88-91.bekrn\n",
            "grandstaff_dataset/chopin/mazurkas/mazurka07-3/maj2_down_m-19-22.bekrn\n",
            "grandstaff_dataset/chopin/mazurkas/mazurka07-3/original_m-101-105.bekrn\n",
            "grandstaff_dataset/chopin/mazurkas/mazurka07-3/maj2_up_m-86-91.bekrn\n",
            "grandstaff_dataset/chopin/mazurkas/mazurka07-3/min3_down_m-93-97.bekrn\n",
            "grandstaff_dataset/chopin/mazurkas/mazurka07-3/min3_up_m-97-100.bekrn\n",
            "grandstaff_dataset/chopin/mazurkas/mazurka07-3/maj2_down_m-85-88.bekrn\n",
            "grandstaff_dataset/chopin/mazurkas/mazurka07-3/min3_up_m-85-88.bekrn\n",
            "grandstaff_dataset/chopin/mazurkas/mazurka07-3/maj3_up_m-37-40.bekrn\n",
            "grandstaff_dataset/chopin/mazurkas/mazurka07-3/maj3_up_m-91-94.bekrn\n",
            "grandstaff_dataset/chopin/mazurkas/mazurka07-3/maj3_up_m-19-22.bekrn\n",
            "grandstaff_dataset/chopin/mazurkas/mazurka07-3/maj2_down_m-16-19.bekrn\n",
            "grandstaff_dataset/chopin/mazurkas/mazurka07-3/maj3_up_m-100-103.bekrn\n",
            "grandstaff_dataset/chopin/mazurkas/mazurka07-3/maj3_down_m-1-6.bekrn\n",
            "grandstaff_dataset/chopin/mazurkas/mazurka07-3/min3_up_m-73-76.bekrn\n",
            "grandstaff_dataset/chopin/mazurkas/mazurka07-3/original_m-85-89.bekrn\n",
            "grandstaff_dataset/chopin/mazurkas/mazurka07-3/min3_down_m-45-49.bekrn\n",
            "grandstaff_dataset/chopin/mazurkas/mazurka07-3/maj3_up_m-97-100.bekrn\n",
            "grandstaff_dataset/chopin/mazurkas/mazurka07-3/min3_up_m-46-49.bekrn\n",
            "grandstaff_dataset/chopin/mazurkas/mazurka07-3/maj3_down_m-96-101.bekrn\n",
            "grandstaff_dataset/chopin/mazurkas/mazurka07-3/original_m-9-13.bekrn\n",
            "grandstaff_dataset/chopin/mazurkas/mazurka07-3/maj2_up_m-16-21.bekrn\n",
            "grandstaff_dataset/chopin/mazurkas/mazurka07-3/original_m-89-93.bekrn\n",
            "grandstaff_dataset/chopin/mazurkas/mazurka07-3/min3_down_m-101-105.bekrn\n",
            "grandstaff_dataset/chopin/mazurkas/mazurka07-3/original_m-37-41.bekrn\n",
            "grandstaff_dataset/chopin/mazurkas/mazurka07-3/maj2_down_m-37-40.bekrn\n",
            "grandstaff_dataset/chopin/mazurkas/mazurka07-3/original_m-93-97.bekrn\n",
            "grandstaff_dataset/chopin/mazurkas/mazurka07-3/min3_down_m-53-57.bekrn\n",
            "grandstaff_dataset/chopin/mazurkas/mazurka07-3/original_m-45-49.bekrn\n",
            "grandstaff_dataset/chopin/mazurkas/mazurka07-3/min3_up_m-31-34.bekrn\n",
            "grandstaff_dataset/chopin/mazurkas/mazurka07-3/maj2_up_m-91-96.bekrn\n",
            "grandstaff_dataset/chopin/mazurkas/mazurka07-3/maj3_up_m-55-58.bekrn\n",
            "grandstaff_dataset/chopin/mazurkas/mazurka07-3/maj2_down_m-94-97.bekrn\n",
            "grandstaff_dataset/chopin/mazurkas/mazurka07-3/maj2_up_m-96-101.bekrn\n",
            "grandstaff_dataset/chopin/mazurkas/mazurka07-3/min3_down_m-105-109.bekrn\n",
            "grandstaff_dataset/chopin/mazurkas/mazurka07-3/maj3_up_m-31-34.bekrn\n",
            "grandstaff_dataset/chopin/mazurkas/mazurka07-3/min3_down_m-9-13.bekrn\n",
            "grandstaff_dataset/chopin/mazurkas/mazurka07-3/maj2_down_m-1-4.bekrn\n",
            "grandstaff_dataset/chopin/mazurkas/mazurka07-3/maj2_down_m-31-34.bekrn\n",
            "grandstaff_dataset/chopin/mazurkas/mazurka07-3/original_m-105-109.bekrn\n",
            "grandstaff_dataset/chopin/mazurkas/mazurka07-3/original_m-73-77.bekrn\n",
            "grandstaff_dataset/chopin/mazurkas/mazurka07-3/min3_up_m-103-106.bekrn\n",
            "grandstaff_dataset/chopin/mazurkas/mazurka07-3/maj3_up_m-10-13.bekrn\n",
            "grandstaff_dataset/chopin/mazurkas/mazurka07-3/maj2_down_m-103-106.bekrn\n",
            "grandstaff_dataset/chopin/mazurkas/mazurka07-3/maj3_up_m-1-4.bekrn\n",
            "grandstaff_dataset/chopin/mazurkas/mazurka07-3/maj3_up_m-73-76.bekrn\n",
            "grandstaff_dataset/chopin/mazurkas/mazurka07-3/min3_up_m-55-58.bekrn\n",
            "grandstaff_dataset/chopin/mazurkas/mazurka07-3/min3_down_m-89-93.bekrn\n",
            "grandstaff_dataset/chopin/mazurkas/mazurka07-3/maj3_up_m-103-106.bekrn\n",
            "grandstaff_dataset/chopin/mazurkas/mazurka30-3/maj3_up_m-94-97.bekrn\n",
            "grandstaff_dataset/chopin/mazurkas/mazurka30-3/min3_up_m-86-91.bekrn\n",
            "grandstaff_dataset/chopin/mazurkas/mazurka30-3/maj2_up_m-11-16.bekrn\n",
            "grandstaff_dataset/chopin/mazurkas/mazurka30-3/maj3_up_m-85-88.bekrn\n",
            "grandstaff_dataset/chopin/mazurkas/mazurka30-3/min3_down_m-13-16.bekrn\n",
            "grandstaff_dataset/chopin/mazurkas/mazurka30-3/original_m-91-94.bekrn\n",
            "grandstaff_dataset/chopin/mazurkas/mazurka30-3/min3_up_m-46-51.bekrn\n",
            "grandstaff_dataset/chopin/mazurkas/mazurka30-3/maj2_down_m-49-53.bekrn\n",
            "grandstaff_dataset/chopin/mazurkas/mazurka30-3/maj3_down_m-86-91.bekrn\n",
            "grandstaff_dataset/chopin/mazurkas/mazurka30-3/original_m-88-91.bekrn\n",
            "grandstaff_dataset/chopin/mazurkas/mazurka30-3/maj2_up_m-41-46.bekrn\n",
            "grandstaff_dataset/chopin/mazurkas/mazurka30-3/original_m-85-88.bekrn\n",
            "grandstaff_dataset/chopin/mazurkas/mazurka30-3/maj2_down_m-85-89.bekrn\n",
            "grandstaff_dataset/chopin/mazurkas/mazurka30-3/original_m-79-82.bekrn\n",
            "grandstaff_dataset/chopin/mazurkas/mazurka30-3/min3_down_m-10-13.bekrn\n",
            "grandstaff_dataset/chopin/mazurkas/mazurka30-3/original_m-73-76.bekrn\n",
            "grandstaff_dataset/chopin/mazurkas/mazurka30-3/maj3_down_m-21-26.bekrn\n",
            "grandstaff_dataset/chopin/mazurkas/mazurka30-3/min3_down_m-82-85.bekrn\n",
            "grandstaff_dataset/chopin/mazurkas/mazurka30-3/original_m-16-19.bekrn\n",
            "grandstaff_dataset/chopin/mazurkas/mazurka30-3/maj2_down_m-29-33.bekrn\n",
            "grandstaff_dataset/chopin/mazurkas/mazurka30-3/min3_down_m-4-7.bekrn\n",
            "grandstaff_dataset/chopin/mazurkas/mazurka30-3/maj3_down_m-16-21.bekrn\n",
            "grandstaff_dataset/chopin/mazurkas/mazurka30-3/min3_down_m-37-40.bekrn\n",
            "grandstaff_dataset/chopin/mazurkas/mazurka30-3/original_m-43-46.bekrn\n",
            "grandstaff_dataset/chopin/mazurkas/mazurka30-3/maj3_up_m-16-19.bekrn\n",
            "grandstaff_dataset/chopin/mazurkas/mazurka30-3/maj3_up_m-46-49.bekrn\n",
            "grandstaff_dataset/chopin/mazurkas/mazurka30-3/original_m-40-43.bekrn\n",
            "grandstaff_dataset/chopin/mazurkas/mazurka30-3/maj3_down_m-81-86.bekrn\n",
            "grandstaff_dataset/chopin/mazurkas/mazurka30-3/min3_down_m-88-91.bekrn\n",
            "grandstaff_dataset/chopin/mazurkas/mazurka30-3/maj2_down_m-45-49.bekrn\n",
            "grandstaff_dataset/chopin/mazurkas/mazurka30-3/maj3_up_m-79-82.bekrn\n",
            "grandstaff_dataset/chopin/mazurkas/mazurka30-3/maj3_up_m-22-25.bekrn\n",
            "grandstaff_dataset/chopin/mazurkas/mazurka30-3/min3_down_m-28-31.bekrn\n",
            "grandstaff_dataset/chopin/mazurkas/mazurka30-3/original_m-28-31.bekrn\n",
            "grandstaff_dataset/chopin/mazurkas/mazurka30-3/maj3_down_m-91-96.bekrn\n",
            "grandstaff_dataset/chopin/mazurkas/mazurka30-3/original_m-19-22.bekrn\n",
            "grandstaff_dataset/chopin/mazurkas/mazurka30-3/maj2_up_m-71-76.bekrn\n",
            "grandstaff_dataset/chopin/mazurkas/mazurka30-3/maj3_up_m-4-7.bekrn\n",
            "grandstaff_dataset/chopin/mazurkas/mazurka30-3/maj2_down_m-81-85.bekrn\n",
            "grandstaff_dataset/chopin/mazurkas/mazurka30-3/maj3_down_m-6-11.bekrn\n",
            "grandstaff_dataset/chopin/mazurkas/mazurka30-3/maj3_down_m-31-36.bekrn\n",
            "grandstaff_dataset/chopin/mazurkas/mazurka30-3/maj2_down_m-89-93.bekrn\n",
            "grandstaff_dataset/chopin/mazurkas/mazurka30-3/min3_up_m-91-96.bekrn\n",
            "grandstaff_dataset/chopin/mazurkas/mazurka30-3/maj2_up_m-21-26.bekrn\n",
            "grandstaff_dataset/chopin/mazurkas/mazurka30-3/maj2_up_m-1-6.bekrn\n",
            "grandstaff_dataset/chopin/mazurkas/mazurka30-3/maj3_up_m-28-31.bekrn\n",
            "grandstaff_dataset/chopin/mazurkas/mazurka30-3/min3_down_m-64-67.bekrn\n",
            "grandstaff_dataset/chopin/mazurkas/mazurka30-3/maj2_down_m-13-17.bekrn\n",
            "grandstaff_dataset/chopin/mazurkas/mazurka30-3/min3_down_m-70-73.bekrn\n",
            "grandstaff_dataset/chopin/mazurkas/mazurka30-3/min3_up_m-31-36.bekrn\n",
            "grandstaff_dataset/chopin/mazurkas/mazurka30-3/original_m-46-49.bekrn\n",
            "grandstaff_dataset/chopin/mazurkas/mazurka30-3/original_m-13-16.bekrn\n",
            "grandstaff_dataset/chopin/mazurkas/mazurka30-3/maj3_up_m-82-85.bekrn\n",
            "grandstaff_dataset/chopin/mazurkas/mazurka30-3/maj2_down_m-93-97.bekrn\n",
            "grandstaff_dataset/chopin/mazurkas/mazurka30-3/maj3_up_m-88-91.bekrn\n",
            "grandstaff_dataset/chopin/mazurkas/mazurka30-3/maj3_up_m-43-46.bekrn\n",
            "grandstaff_dataset/chopin/mazurkas/mazurka30-3/original_m-94-97.bekrn\n",
            "grandstaff_dataset/chopin/mazurkas/mazurka30-3/min3_down_m-7-10.bekrn\n",
            "grandstaff_dataset/chopin/mazurkas/mazurka30-3/maj3_down_m-41-46.bekrn\n",
            "grandstaff_dataset/chopin/mazurkas/mazurka30-3/maj3_down_m-36-41.bekrn\n",
            "grandstaff_dataset/chopin/mazurkas/mazurka30-3/min3_down_m-79-82.bekrn\n",
            "grandstaff_dataset/chopin/mazurkas/mazurka30-3/maj3_down_m-71-76.bekrn\n",
            "grandstaff_dataset/chopin/mazurkas/mazurka30-3/min3_up_m-11-16.bekrn\n",
            "grandstaff_dataset/chopin/mazurkas/mazurka30-3/original_m-37-40.bekrn\n",
            "grandstaff_dataset/chopin/mazurkas/mazurka30-3/min3_up_m-16-21.bekrn\n",
            "grandstaff_dataset/chopin/mazurkas/mazurka30-3/maj2_up_m-86-91.bekrn\n",
            "grandstaff_dataset/chopin/mazurkas/mazurka30-3/min3_down_m-31-34.bekrn\n",
            "grandstaff_dataset/chopin/mazurkas/mazurka30-3/maj2_up_m-81-86.bekrn\n",
            "grandstaff_dataset/chopin/mazurkas/mazurka30-3/maj2_down_m-5-9.bekrn\n",
            "grandstaff_dataset/chopin/mazurkas/mazurka30-3/maj3_up_m-37-40.bekrn\n",
            "grandstaff_dataset/chopin/mazurkas/mazurka30-3/maj3_up_m-91-94.bekrn\n",
            "grandstaff_dataset/chopin/mazurkas/mazurka30-3/maj3_down_m-46-51.bekrn\n",
            "grandstaff_dataset/chopin/mazurkas/mazurka30-3/min3_down_m-46-49.bekrn\n",
            "grandstaff_dataset/chopin/mazurkas/mazurka30-3/maj3_up_m-19-22.bekrn\n",
            "grandstaff_dataset/chopin/mazurkas/mazurka30-3/original_m-22-25.bekrn\n",
            "grandstaff_dataset/chopin/mazurkas/mazurka30-3/original_m-7-10.bekrn\n",
            "grandstaff_dataset/chopin/mazurkas/mazurka30-3/maj3_down_m-1-6.bekrn\n",
            "grandstaff_dataset/chopin/mazurkas/mazurka30-3/min3_down_m-94-97.bekrn\n",
            "grandstaff_dataset/chopin/mazurkas/mazurka30-3/min3_up_m-21-26.bekrn\n",
            "grandstaff_dataset/chopin/mazurkas/mazurka30-3/maj2_up_m-46-51.bekrn\n",
            "grandstaff_dataset/chopin/mazurkas/mazurka30-3/min3_down_m-16-19.bekrn\n",
            "grandstaff_dataset/chopin/mazurkas/mazurka30-3/original_m-82-85.bekrn\n",
            "grandstaff_dataset/chopin/mazurkas/mazurka30-3/original_m-49-52.bekrn\n",
            "grandstaff_dataset/chopin/mazurkas/mazurka30-3/min3_up_m-81-86.bekrn\n",
            "grandstaff_dataset/chopin/mazurkas/mazurka30-3/maj2_down_m-21-25.bekrn\n",
            "grandstaff_dataset/chopin/mazurkas/mazurka30-3/maj2_up_m-36-41.bekrn\n",
            "grandstaff_dataset/chopin/mazurkas/mazurka30-3/maj2_down_m-33-37.bekrn\n",
            "grandstaff_dataset/chopin/mazurkas/mazurka30-3/original_m-31-34.bekrn\n",
            "grandstaff_dataset/chopin/mazurkas/mazurka30-3/maj3_down_m-11-16.bekrn\n",
            "grandstaff_dataset/chopin/mazurkas/mazurka30-3/maj2_up_m-16-21.bekrn\n",
            "grandstaff_dataset/chopin/mazurkas/mazurka30-3/maj3_up_m-40-43.bekrn\n",
            "grandstaff_dataset/chopin/mazurkas/mazurka30-3/min3_down_m-91-94.bekrn\n",
            "grandstaff_dataset/chopin/mazurkas/mazurka30-3/maj2_down_m-17-21.bekrn\n",
            "grandstaff_dataset/chopin/mazurkas/mazurka30-3/maj3_up_m-7-10.bekrn\n",
            "grandstaff_dataset/chopin/mazurkas/mazurka30-3/original_m-1-4.bekrn\n",
            "grandstaff_dataset/chopin/mazurkas/mazurka30-3/original_m-70-73.bekrn\n",
            "grandstaff_dataset/chopin/mazurkas/mazurka30-3/original_m-4-7.bekrn\n",
            "grandstaff_dataset/chopin/mazurkas/mazurka30-3/min3_down_m-49-52.bekrn\n",
            "grandstaff_dataset/chopin/mazurkas/mazurka30-3/maj2_down_m-41-45.bekrn\n",
            "grandstaff_dataset/chopin/mazurkas/mazurka30-3/min3_down_m-85-88.bekrn\n",
            "grandstaff_dataset/chopin/mazurkas/mazurka30-3/maj2_down_m-37-41.bekrn\n",
            "grandstaff_dataset/chopin/mazurkas/mazurka30-3/min3_up_m-1-6.bekrn\n",
            "grandstaff_dataset/chopin/mazurkas/mazurka30-3/min3_down_m-40-43.bekrn\n",
            "grandstaff_dataset/chopin/mazurkas/mazurka30-3/min3_up_m-71-76.bekrn\n",
            "grandstaff_dataset/chopin/mazurkas/mazurka30-3/min3_up_m-36-41.bekrn\n",
            "grandstaff_dataset/chopin/mazurkas/mazurka30-3/original_m-64-67.bekrn\n",
            "grandstaff_dataset/chopin/mazurkas/mazurka30-3/maj2_up_m-91-96.bekrn\n",
            "grandstaff_dataset/chopin/mazurkas/mazurka30-3/maj3_up_m-13-16.bekrn\n",
            "grandstaff_dataset/chopin/mazurkas/mazurka30-3/maj3_up_m-70-73.bekrn\n",
            "grandstaff_dataset/chopin/mazurkas/mazurka30-3/min3_down_m-1-4.bekrn\n",
            "grandstaff_dataset/chopin/mazurkas/mazurka30-3/min3_up_m-6-11.bekrn\n",
            "grandstaff_dataset/chopin/mazurkas/mazurka30-3/maj2_down_m-1-5.bekrn\n",
            "grandstaff_dataset/chopin/mazurkas/mazurka30-3/maj3_up_m-64-67.bekrn\n",
            "grandstaff_dataset/chopin/mazurkas/mazurka30-3/maj2_up_m-6-11.bekrn\n",
            "grandstaff_dataset/chopin/mazurkas/mazurka30-3/min3_up_m-41-46.bekrn\n",
            "grandstaff_dataset/chopin/mazurkas/mazurka30-3/maj3_up_m-31-34.bekrn\n",
            "grandstaff_dataset/chopin/mazurkas/mazurka30-3/maj2_down_m-73-77.bekrn\n",
            "grandstaff_dataset/chopin/mazurkas/mazurka30-3/min3_down_m-19-22.bekrn\n",
            "grandstaff_dataset/chopin/mazurkas/mazurka30-3/min3_down_m-73-76.bekrn\n",
            "grandstaff_dataset/chopin/mazurkas/mazurka30-3/original_m-10-13.bekrn\n",
            "grandstaff_dataset/chopin/mazurkas/mazurka30-3/maj3_up_m-10-13.bekrn\n",
            "grandstaff_dataset/chopin/mazurkas/mazurka30-3/maj3_up_m-1-4.bekrn\n",
            "grandstaff_dataset/chopin/mazurkas/mazurka30-3/min3_down_m-22-25.bekrn\n",
            "grandstaff_dataset/chopin/mazurkas/mazurka30-3/maj3_up_m-73-76.bekrn\n",
            "grandstaff_dataset/chopin/mazurkas/mazurka30-3/maj3_up_m-49-52.bekrn\n",
            "grandstaff_dataset/chopin/mazurkas/mazurka30-3/min3_down_m-43-46.bekrn\n",
            "grandstaff_dataset/chopin/mazurkas/mazurka30-3/maj2_up_m-31-36.bekrn\n",
            "grandstaff_dataset/chopin/mazurkas/mazurka17-4/maj2_up_m-125-129.bekrn\n",
            "grandstaff_dataset/chopin/mazurkas/mazurka17-4/maj3_down_m-7-10.bekrn\n",
            "grandstaff_dataset/chopin/mazurkas/mazurka17-4/min3_up_m-1-4.bekrn\n",
            "grandstaff_dataset/chopin/mazurkas/mazurka17-4/maj3_down_m-127-130.bekrn\n",
            "grandstaff_dataset/chopin/mazurkas/mazurka17-4/original_m-1-5.bekrn\n",
            "grandstaff_dataset/chopin/mazurkas/mazurka17-4/maj3_down_m-73-76.bekrn\n",
            "grandstaff_dataset/chopin/mazurkas/mazurka17-4/maj2_down_m-97-100.bekrn\n",
            "grandstaff_dataset/chopin/mazurkas/mazurka17-4/min3_up_m-82-85.bekrn\n",
            "grandstaff_dataset/chopin/mazurkas/mazurka17-4/maj2_down_m-124-127.bekrn\n",
            "grandstaff_dataset/chopin/mazurkas/mazurka17-4/maj3_down_m-97-100.bekrn\n",
            "grandstaff_dataset/chopin/mazurkas/mazurka17-4/maj2_down_m-73-76.bekrn\n",
            "grandstaff_dataset/chopin/mazurkas/mazurka17-4/min3_up_m-49-52.bekrn\n",
            "grandstaff_dataset/chopin/mazurkas/mazurka17-4/maj2_down_m-10-13.bekrn\n",
            "grandstaff_dataset/chopin/mazurkas/mazurka17-4/original_m-125-129.bekrn\n",
            "grandstaff_dataset/chopin/mazurkas/mazurka17-4/maj2_up_m-49-53.bekrn\n",
            "grandstaff_dataset/chopin/mazurkas/mazurka17-4/min3_down_m-126-131.bekrn\n",
            "grandstaff_dataset/chopin/mazurkas/mazurka17-4/min3_up_m-124-127.bekrn\n",
            "grandstaff_dataset/chopin/mazurkas/mazurka17-4/maj3_up_m-81-86.bekrn\n",
            "grandstaff_dataset/chopin/mazurkas/mazurka17-4/original_m-65-69.bekrn\n",
            "grandstaff_dataset/chopin/mazurkas/mazurka17-4/maj3_down_m-37-40.bekrn\n",
            "grandstaff_dataset/chopin/mazurkas/mazurka17-4/original_m-81-85.bekrn\n",
            "grandstaff_dataset/chopin/mazurkas/mazurka17-4/min3_up_m-10-13.bekrn\n",
            "grandstaff_dataset/chopin/mazurkas/mazurka17-4/maj2_down_m-49-52.bekrn\n",
            "grandstaff_dataset/chopin/mazurkas/mazurka17-4/min3_up_m-37-40.bekrn\n",
            "grandstaff_dataset/chopin/mazurkas/mazurka17-4/maj3_down_m-82-85.bekrn\n",
            "grandstaff_dataset/chopin/mazurkas/mazurka17-4/maj2_down_m-82-85.bekrn\n",
            "grandstaff_dataset/chopin/mazurkas/mazurka17-4/maj2_down_m-25-28.bekrn\n",
            "grandstaff_dataset/chopin/mazurkas/mazurka17-4/maj2_down_m-55-58.bekrn\n",
            "grandstaff_dataset/chopin/mazurkas/mazurka17-4/maj2_up_m-1-5.bekrn\n",
            "grandstaff_dataset/chopin/mazurkas/mazurka17-4/maj2_down_m-127-130.bekrn\n",
            "grandstaff_dataset/chopin/mazurkas/mazurka17-4/maj3_up_m-131-136.bekrn\n",
            "grandstaff_dataset/chopin/mazurkas/mazurka17-4/maj3_up_m-126-131.bekrn\n",
            "grandstaff_dataset/chopin/mazurkas/mazurka17-4/original_m-25-29.bekrn\n",
            "grandstaff_dataset/chopin/mazurkas/mazurka17-4/maj2_up_m-81-85.bekrn\n",
            "grandstaff_dataset/chopin/mazurkas/mazurka17-4/min3_up_m-97-100.bekrn\n",
            "grandstaff_dataset/chopin/mazurkas/mazurka17-4/maj3_down_m-10-13.bekrn\n",
            "grandstaff_dataset/chopin/mazurkas/mazurka17-4/maj3_down_m-55-58.bekrn\n",
            "grandstaff_dataset/chopin/mazurkas/mazurka17-4/maj3_down_m-49-52.bekrn\n",
            "grandstaff_dataset/chopin/mazurkas/mazurka17-4/min3_up_m-73-76.bekrn\n",
            "grandstaff_dataset/chopin/mazurkas/mazurka17-4/maj3_down_m-124-127.bekrn\n",
            "grandstaff_dataset/chopin/mazurkas/mazurka17-4/maj2_up_m-73-77.bekrn\n",
            "grandstaff_dataset/chopin/mazurkas/mazurka17-4/original_m-9-13.bekrn\n",
            "grandstaff_dataset/chopin/mazurkas/mazurka17-4/min3_up_m-25-28.bekrn\n",
            "grandstaff_dataset/chopin/mazurkas/mazurka17-4/maj2_up_m-25-29.bekrn\n",
            "grandstaff_dataset/chopin/mazurkas/mazurka17-4/min3_down_m-131-136.bekrn\n",
            "grandstaff_dataset/chopin/mazurkas/mazurka17-4/maj2_up_m-9-13.bekrn\n",
            "grandstaff_dataset/chopin/mazurkas/mazurka17-4/min3_up_m-7-10.bekrn\n",
            "grandstaff_dataset/chopin/mazurkas/mazurka17-4/maj2_down_m-37-40.bekrn\n",
            "grandstaff_dataset/chopin/mazurkas/mazurka17-4/maj2_down_m-7-10.bekrn\n",
            "grandstaff_dataset/chopin/mazurkas/mazurka17-4/min3_up_m-127-130.bekrn\n",
            "grandstaff_dataset/chopin/mazurkas/mazurka17-4/min3_down_m-81-86.bekrn\n",
            "grandstaff_dataset/chopin/mazurkas/mazurka17-4/maj2_up_m-65-69.bekrn\n",
            "grandstaff_dataset/chopin/mazurkas/mazurka17-4/original_m-49-53.bekrn\n",
            "grandstaff_dataset/chopin/mazurkas/mazurka17-4/maj2_down_m-1-4.bekrn\n",
            "grandstaff_dataset/chopin/mazurkas/mazurka17-4/original_m-73-77.bekrn\n",
            "grandstaff_dataset/chopin/mazurkas/mazurka17-4/maj3_down_m-1-4.bekrn\n",
            "grandstaff_dataset/chopin/mazurkas/mazurka17-4/min3_up_m-55-58.bekrn\n",
            "grandstaff_dataset/chopin/mazurkas/mazurka17-4/maj3_down_m-25-28.bekrn\n",
            "grandstaff_dataset/chopin/mazurkas/mazurka67-4/min3_down_m-70-75.bekrn\n",
            "grandstaff_dataset/chopin/mazurkas/mazurka67-4/min3_up_m-3-6.bekrn\n",
            "grandstaff_dataset/chopin/mazurkas/mazurka67-4/min3_down_m-80-85.bekrn\n",
            "grandstaff_dataset/chopin/mazurkas/mazurka67-4/maj2_up_m-3-6.bekrn\n",
            "grandstaff_dataset/chopin/mazurkas/mazurka67-4/original_m-52-56.bekrn\n",
            "grandstaff_dataset/chopin/mazurkas/mazurka67-4/min3_up_m-9-12.bekrn\n",
            "grandstaff_dataset/chopin/mazurkas/mazurka67-4/maj2_up_m-9-12.bekrn\n",
            "grandstaff_dataset/chopin/mazurkas/mazurka67-4/maj2_up_m-81-84.bekrn\n",
            "grandstaff_dataset/chopin/mazurkas/mazurka67-4/maj2_down_m-57-60.bekrn\n",
            "grandstaff_dataset/chopin/mazurkas/mazurka67-4/maj2_down_m-24-27.bekrn\n",
            "grandstaff_dataset/chopin/mazurkas/mazurka67-4/original_m-36-40.bekrn\n",
            "grandstaff_dataset/chopin/mazurkas/mazurka67-4/maj3_up_m-70-75.bekrn\n",
            "grandstaff_dataset/chopin/mazurkas/mazurka67-4/original_m-56-60.bekrn\n",
            "grandstaff_dataset/chopin/mazurkas/mazurka67-4/min3_up_m-69-72.bekrn\n",
            "grandstaff_dataset/chopin/mazurkas/mazurka67-4/maj3_down_m-54-57.bekrn\n",
            "grandstaff_dataset/chopin/mazurkas/mazurka67-4/maj2_down_m-21-24.bekrn\n",
            "grandstaff_dataset/chopin/mazurkas/mazurka67-4/min3_down_m-20-25.bekrn\n",
            "grandstaff_dataset/chopin/mazurkas/mazurka67-4/min3_down_m-60-65.bekrn\n",
            "grandstaff_dataset/chopin/mazurkas/mazurka67-4/maj3_down_m-24-27.bekrn\n",
            "grandstaff_dataset/chopin/mazurkas/mazurka67-4/min3_up_m-24-27.bekrn\n",
            "grandstaff_dataset/chopin/mazurkas/mazurka67-4/maj3_up_m-10-15.bekrn\n",
            "grandstaff_dataset/chopin/mazurkas/mazurka67-4/maj3_up_m-55-60.bekrn\n",
            "grandstaff_dataset/chopin/mazurkas/mazurka67-4/maj3_up_m-30-35.bekrn\n",
            "grandstaff_dataset/chopin/mazurkas/mazurka67-4/maj2_down_m-54-57.bekrn\n",
            "grandstaff_dataset/chopin/mazurkas/mazurka67-4/min3_up_m-18-21.bekrn\n",
            "grandstaff_dataset/chopin/mazurkas/mazurka67-4/maj3_down_m-66-69.bekrn\n",
            "grandstaff_dataset/chopin/mazurkas/mazurka67-4/maj3_down_m-78-81.bekrn\n",
            "grandstaff_dataset/chopin/mazurkas/mazurka67-4/maj2_down_m-69-72.bekrn\n",
            "grandstaff_dataset/chopin/mazurkas/mazurka67-4/maj3_up_m-5-10.bekrn\n",
            "grandstaff_dataset/chopin/mazurkas/mazurka67-4/min3_up_m-63-66.bekrn\n",
            "grandstaff_dataset/chopin/mazurkas/mazurka67-4/maj3_up_m-0-5.bekrn\n",
            "grandstaff_dataset/chopin/mazurkas/mazurka67-4/min3_down_m-35-40.bekrn\n",
            "grandstaff_dataset/chopin/mazurkas/mazurka67-4/maj3_down_m-18-21.bekrn\n",
            "grandstaff_dataset/chopin/mazurkas/mazurka67-4/maj2_up_m-27-30.bekrn\n",
            "grandstaff_dataset/chopin/mazurkas/mazurka67-4/maj3_up_m-25-30.bekrn\n",
            "grandstaff_dataset/chopin/mazurkas/mazurka67-4/original_m-20-24.bekrn\n",
            "grandstaff_dataset/chopin/mazurkas/mazurka67-4/maj2_up_m-36-39.bekrn\n",
            "grandstaff_dataset/chopin/mazurkas/mazurka67-4/maj2_down_m-0-3.bekrn\n",
            "grandstaff_dataset/chopin/mazurkas/mazurka67-4/min3_up_m-36-39.bekrn\n",
            "grandstaff_dataset/chopin/mazurkas/mazurka67-4/maj2_down_m-78-81.bekrn\n",
            "grandstaff_dataset/chopin/mazurkas/mazurka67-4/min3_down_m-55-60.bekrn\n",
            "grandstaff_dataset/chopin/mazurkas/mazurka67-4/maj2_down_m-42-45.bekrn\n",
            "grandstaff_dataset/chopin/mazurkas/mazurka67-4/maj3_up_m-80-85.bekrn\n",
            "grandstaff_dataset/chopin/mazurkas/mazurka67-4/maj2_down_m-30-33.bekrn\n",
            "grandstaff_dataset/chopin/mazurkas/mazurka67-4/maj2_up_m-75-78.bekrn\n",
            "grandstaff_dataset/chopin/mazurkas/mazurka67-4/original_m-32-36.bekrn\n",
            "grandstaff_dataset/chopin/mazurkas/mazurka67-4/min3_up_m-54-57.bekrn\n",
            "grandstaff_dataset/chopin/mazurkas/mazurka67-4/min3_up_m-27-30.bekrn\n",
            "grandstaff_dataset/chopin/mazurkas/mazurka67-4/maj3_up_m-20-25.bekrn\n",
            "grandstaff_dataset/chopin/mazurkas/mazurka67-4/min3_down_m-5-10.bekrn\n",
            "grandstaff_dataset/chopin/mazurkas/mazurka67-4/maj3_down_m-63-66.bekrn\n",
            "grandstaff_dataset/chopin/mazurkas/mazurka67-4/min3_up_m-21-24.bekrn\n",
            "grandstaff_dataset/chopin/mazurkas/mazurka67-4/min3_up_m-81-84.bekrn\n",
            "grandstaff_dataset/chopin/mazurkas/mazurka67-4/maj2_up_m-78-81.bekrn\n",
            "grandstaff_dataset/chopin/mazurkas/mazurka67-4/min3_up_m-42-45.bekrn\n",
            "grandstaff_dataset/chopin/mazurkas/mazurka67-4/maj3_down_m-30-33.bekrn\n",
            "grandstaff_dataset/chopin/mazurkas/mazurka67-4/maj3_down_m-12-15.bekrn\n",
            "grandstaff_dataset/chopin/mazurkas/mazurka67-4/maj3_down_m-69-72.bekrn\n",
            "grandstaff_dataset/chopin/mazurkas/mazurka67-4/maj3_down_m-6-9.bekrn\n",
            "grandstaff_dataset/chopin/mazurkas/mazurka67-4/maj2_up_m-72-75.bekrn\n",
            "grandstaff_dataset/chopin/mazurkas/mazurka67-4/maj2_down_m-60-63.bekrn\n",
            "grandstaff_dataset/chopin/mazurkas/mazurka67-4/maj2_up_m-6-9.bekrn\n",
            "grandstaff_dataset/chopin/mazurkas/mazurka67-4/original_m-72-76.bekrn\n",
            "grandstaff_dataset/chopin/mazurkas/mazurka67-4/maj3_down_m-0-3.bekrn\n",
            "grandstaff_dataset/chopin/mazurkas/mazurka67-4/min3_up_m-75-78.bekrn\n",
            "grandstaff_dataset/chopin/mazurkas/mazurka67-4/maj2_down_m-36-39.bekrn\n",
            "grandstaff_dataset/chopin/mazurkas/mazurka67-4/maj2_down_m-75-78.bekrn\n",
            "grandstaff_dataset/chopin/mazurkas/mazurka67-4/min3_up_m-15-18.bekrn\n",
            "grandstaff_dataset/chopin/mazurkas/mazurka67-4/maj3_down_m-81-84.bekrn\n",
            "grandstaff_dataset/chopin/mazurkas/mazurka67-4/maj2_up_m-12-15.bekrn\n",
            "grandstaff_dataset/chopin/mazurkas/mazurka67-4/maj3_up_m-15-20.bekrn\n",
            "grandstaff_dataset/chopin/mazurkas/mazurka67-4/min3_up_m-60-63.bekrn\n",
            "grandstaff_dataset/chopin/mazurkas/mazurka67-4/min3_up_m-6-9.bekrn\n",
            "grandstaff_dataset/chopin/mazurkas/mazurka67-4/maj3_down_m-72-75.bekrn\n",
            "grandstaff_dataset/chopin/mazurkas/mazurka67-4/maj2_up_m-42-45.bekrn\n",
            "grandstaff_dataset/chopin/mazurkas/mazurka67-4/maj2_down_m-18-21.bekrn\n",
            "grandstaff_dataset/chopin/mazurkas/mazurka67-4/original_m-12-16.bekrn\n",
            "grandstaff_dataset/chopin/mazurkas/mazurka67-4/maj2_down_m-66-69.bekrn\n",
            "grandstaff_dataset/chopin/mazurkas/mazurka67-4/min3_up_m-0-3.bekrn\n",
            "grandstaff_dataset/chopin/mazurkas/mazurka67-4/maj2_up_m-0-3.bekrn\n",
            "grandstaff_dataset/chopin/mazurkas/mazurka67-4/original_m-8-12.bekrn\n",
            "grandstaff_dataset/chopin/mazurkas/mazurka67-4/maj2_down_m-81-84.bekrn\n",
            "grandstaff_dataset/chopin/mazurkas/mazurka67-4/maj2_down_m-12-15.bekrn\n",
            "grandstaff_dataset/chopin/mazurkas/mazurka67-4/maj2_down_m-3-6.bekrn\n",
            "grandstaff_dataset/chopin/mazurkas/mazurka67-4/min3_down_m-25-30.bekrn\n",
            "grandstaff_dataset/chopin/mazurkas/mazurka67-4/maj2_down_m-6-9.bekrn\n",
            "grandstaff_dataset/chopin/mazurkas/mazurka67-4/original_m-28-32.bekrn\n",
            "grandstaff_dataset/chopin/mazurkas/mazurka67-4/maj3_down_m-57-60.bekrn\n",
            "grandstaff_dataset/chopin/mazurkas/mazurka67-4/original_m-24-28.bekrn\n",
            "grandstaff_dataset/chopin/mazurkas/mazurka67-4/maj2_up_m-66-69.bekrn\n",
            "grandstaff_dataset/chopin/mazurkas/mazurka67-4/maj2_up_m-21-24.bekrn\n",
            "grandstaff_dataset/chopin/mazurkas/mazurka67-4/min3_up_m-12-15.bekrn\n",
            "grandstaff_dataset/chopin/mazurkas/mazurka67-4/maj3_down_m-27-30.bekrn\n",
            "grandstaff_dataset/chopin/mazurkas/mazurka67-4/min3_down_m-75-80.bekrn\n",
            "grandstaff_dataset/chopin/mazurkas/mazurka67-4/maj3_down_m-42-45.bekrn\n",
            "grandstaff_dataset/chopin/mazurkas/mazurka67-4/maj2_up_m-15-18.bekrn\n",
            "grandstaff_dataset/chopin/mazurkas/mazurka67-4/min3_up_m-30-33.bekrn\n",
            "grandstaff_dataset/chopin/mazurkas/mazurka67-4/maj3_down_m-21-24.bekrn\n",
            "grandstaff_dataset/chopin/mazurkas/mazurka67-4/maj2_down_m-9-12.bekrn\n",
            "grandstaff_dataset/chopin/mazurkas/mazurka67-4/original_m-68-72.bekrn\n",
            "grandstaff_dataset/chopin/mazurkas/mazurka67-4/maj2_up_m-63-66.bekrn\n",
            "grandstaff_dataset/chopin/mazurkas/mazurka67-4/min3_up_m-78-81.bekrn\n",
            "grandstaff_dataset/chopin/mazurkas/mazurka67-4/maj2_up_m-60-63.bekrn\n",
            "grandstaff_dataset/chopin/mazurkas/mazurka67-4/original_m-60-64.bekrn\n",
            "grandstaff_dataset/chopin/mazurkas/mazurka67-4/maj2_down_m-72-75.bekrn\n",
            "grandstaff_dataset/chopin/mazurkas/mazurka67-4/original_m-0-4.bekrn\n",
            "grandstaff_dataset/chopin/mazurkas/mazurka67-4/maj3_up_m-65-70.bekrn\n",
            "grandstaff_dataset/chopin/mazurkas/mazurka67-4/min3_up_m-66-69.bekrn\n",
            "grandstaff_dataset/chopin/mazurkas/mazurka67-4/original_m-64-68.bekrn\n",
            "grandstaff_dataset/chopin/mazurkas/mazurka67-4/min3_down_m-15-20.bekrn\n",
            "grandstaff_dataset/chopin/mazurkas/mazurka67-4/maj2_down_m-15-18.bekrn\n",
            "grandstaff_dataset/chopin/mazurkas/mazurka67-4/min3_down_m-65-70.bekrn\n",
            "grandstaff_dataset/chopin/mazurkas/mazurka67-4/maj2_up_m-69-72.bekrn\n",
            "grandstaff_dataset/chopin/mazurkas/mazurka67-4/min3_up_m-57-60.bekrn\n",
            "grandstaff_dataset/chopin/mazurkas/mazurka67-4/maj3_down_m-9-12.bekrn\n",
            "grandstaff_dataset/chopin/mazurkas/mazurka67-4/maj2_up_m-18-21.bekrn\n",
            "grandstaff_dataset/chopin/mazurkas/mazurka67-4/maj3_down_m-75-78.bekrn\n",
            "grandstaff_dataset/chopin/mazurkas/mazurka67-4/maj2_up_m-54-57.bekrn\n",
            "grandstaff_dataset/chopin/mazurkas/mazurka67-4/maj3_up_m-75-80.bekrn\n",
            "grandstaff_dataset/chopin/mazurkas/mazurka67-4/maj3_down_m-60-63.bekrn\n",
            "grandstaff_dataset/chopin/mazurkas/mazurka67-4/min3_down_m-0-5.bekrn\n",
            "grandstaff_dataset/chopin/mazurkas/mazurka67-4/maj2_down_m-63-66.bekrn\n",
            "grandstaff_dataset/chopin/mazurkas/mazurka67-4/original_m-4-8.bekrn\n",
            "grandstaff_dataset/chopin/mazurkas/mazurka67-4/original_m-16-20.bekrn\n",
            "grandstaff_dataset/chopin/mazurkas/mazurka67-4/maj3_down_m-36-39.bekrn\n",
            "grandstaff_dataset/chopin/mazurkas/mazurka67-4/original_m-80-84.bekrn\n",
            "grandstaff_dataset/chopin/mazurkas/mazurka67-4/maj2_down_m-27-30.bekrn\n",
            "grandstaff_dataset/chopin/mazurkas/mazurka67-4/maj2_up_m-24-27.bekrn\n",
            "grandstaff_dataset/chopin/mazurkas/mazurka67-4/min3_up_m-72-75.bekrn\n",
            "grandstaff_dataset/chopin/mazurkas/mazurka67-4/maj3_down_m-15-18.bekrn\n",
            "grandstaff_dataset/chopin/mazurkas/mazurka67-4/maj2_up_m-30-33.bekrn\n",
            "grandstaff_dataset/chopin/mazurkas/mazurka67-4/maj3_up_m-60-65.bekrn\n",
            "grandstaff_dataset/chopin/mazurkas/mazurka67-4/maj3_up_m-35-40.bekrn\n",
            "grandstaff_dataset/chopin/mazurkas/mazurka67-4/min3_down_m-30-35.bekrn\n",
            "grandstaff_dataset/chopin/mazurkas/mazurka67-4/original_m-76-80.bekrn\n",
            "grandstaff_dataset/chopin/mazurkas/mazurka67-4/maj3_down_m-3-6.bekrn\n",
            "grandstaff_dataset/chopin/mazurkas/mazurka67-4/maj2_up_m-57-60.bekrn\n",
            "grandstaff_dataset/chopin/mazurkas/mazurka67-4/min3_down_m-10-15.bekrn\n",
            "grandstaff_dataset/chopin/mazurkas/mazurka67-1/maj3_down_m-58-61.bekrn\n",
            "grandstaff_dataset/chopin/mazurkas/mazurka67-1/min3_down_m-58-61.bekrn\n",
            "grandstaff_dataset/chopin/mazurkas/mazurka67-1/min3_down_m-1-4.bekrn\n",
            "grandstaff_dataset/chopin/mazurkas/mazurka67-1/maj3_down_m-1-4.bekrn\n",
            "grandstaff_dataset/chopin/mazurkas/mazurka07-4/maj2_down_m-0-5.bekrn\n",
            "grandstaff_dataset/chopin/mazurkas/mazurka07-4/maj2_up_m-3-6.bekrn\n",
            "grandstaff_dataset/chopin/mazurkas/mazurka07-4/original_m-39-42.bekrn\n",
            "grandstaff_dataset/chopin/mazurkas/mazurka07-4/maj2_down_m-40-45.bekrn\n",
            "grandstaff_dataset/chopin/mazurkas/mazurka07-4/min3_up_m-40-44.bekrn\n",
            "grandstaff_dataset/chopin/mazurkas/mazurka07-4/maj2_down_m-20-25.bekrn\n",
            "grandstaff_dataset/chopin/mazurkas/mazurka07-4/min3_down_m-20-25.bekrn\n",
            "grandstaff_dataset/chopin/mazurkas/mazurka07-4/maj3_down_m-20-25.bekrn\n",
            "grandstaff_dataset/chopin/mazurkas/mazurka07-4/maj3_up_m-30-35.bekrn\n",
            "grandstaff_dataset/chopin/mazurkas/mazurka07-4/original_m-33-36.bekrn\n",
            "grandstaff_dataset/chopin/mazurkas/mazurka07-4/maj3_up_m-0-5.bekrn\n",
            "grandstaff_dataset/chopin/mazurkas/mazurka07-4/min3_down_m-35-40.bekrn\n",
            "grandstaff_dataset/chopin/mazurkas/mazurka07-4/min3_up_m-8-12.bekrn\n",
            "grandstaff_dataset/chopin/mazurkas/mazurka07-4/maj2_up_m-27-30.bekrn\n",
            "grandstaff_dataset/chopin/mazurkas/mazurka07-4/maj2_up_m-36-39.bekrn\n",
            "grandstaff_dataset/chopin/mazurkas/mazurka07-4/maj2_down_m-30-35.bekrn\n",
            "grandstaff_dataset/chopin/mazurkas/mazurka07-4/maj3_down_m-0-5.bekrn\n",
            "grandstaff_dataset/chopin/mazurkas/mazurka07-4/original_m-30-33.bekrn\n",
            "grandstaff_dataset/chopin/mazurkas/mazurka07-4/maj3_down_m-40-45.bekrn\n",
            "grandstaff_dataset/chopin/mazurkas/mazurka07-4/original_m-18-21.bekrn\n",
            "grandstaff_dataset/chopin/mazurkas/mazurka07-4/min3_up_m-24-28.bekrn\n",
            "grandstaff_dataset/chopin/mazurkas/mazurka07-4/maj3_up_m-20-25.bekrn\n",
            "grandstaff_dataset/chopin/mazurkas/mazurka07-4/min3_up_m-44-48.bekrn\n",
            "grandstaff_dataset/chopin/mazurkas/mazurka07-4/maj2_up_m-33-36.bekrn\n",
            "grandstaff_dataset/chopin/mazurkas/mazurka07-4/original_m-24-27.bekrn\n",
            "grandstaff_dataset/chopin/mazurkas/mazurka07-4/maj2_up_m-6-9.bekrn\n",
            "grandstaff_dataset/chopin/mazurkas/mazurka07-4/min3_up_m-20-24.bekrn\n",
            "grandstaff_dataset/chopin/mazurkas/mazurka07-4/original_m-27-30.bekrn\n",
            "grandstaff_dataset/chopin/mazurkas/mazurka07-4/min3_up_m-4-8.bekrn\n",
            "grandstaff_dataset/chopin/mazurkas/mazurka07-4/maj2_up_m-42-45.bekrn\n",
            "grandstaff_dataset/chopin/mazurkas/mazurka07-4/min3_up_m-36-40.bekrn\n",
            "grandstaff_dataset/chopin/mazurkas/mazurka07-4/maj3_up_m-40-45.bekrn\n",
            "grandstaff_dataset/chopin/mazurkas/mazurka07-4/maj2_up_m-0-3.bekrn\n",
            "grandstaff_dataset/chopin/mazurkas/mazurka07-4/original_m-3-6.bekrn\n",
            "grandstaff_dataset/chopin/mazurkas/mazurka07-4/maj2_up_m-39-42.bekrn\n",
            "grandstaff_dataset/chopin/mazurkas/mazurka07-4/min3_down_m-40-45.bekrn\n",
            "grandstaff_dataset/chopin/mazurkas/mazurka07-4/maj3_down_m-35-40.bekrn\n",
            "grandstaff_dataset/chopin/mazurkas/mazurka07-4/maj3_down_m-30-35.bekrn\n",
            "grandstaff_dataset/chopin/mazurkas/mazurka07-4/original_m-6-9.bekrn\n",
            "grandstaff_dataset/chopin/mazurkas/mazurka07-4/min3_up_m-32-36.bekrn\n",
            "grandstaff_dataset/chopin/mazurkas/mazurka07-4/original_m-36-39.bekrn\n",
            "grandstaff_dataset/chopin/mazurkas/mazurka07-4/min3_up_m-0-4.bekrn\n",
            "grandstaff_dataset/chopin/mazurkas/mazurka07-4/maj2_up_m-18-21.bekrn\n",
            "grandstaff_dataset/chopin/mazurkas/mazurka07-4/original_m-42-45.bekrn\n",
            "grandstaff_dataset/chopin/mazurkas/mazurka07-4/min3_down_m-0-5.bekrn\n",
            "grandstaff_dataset/chopin/mazurkas/mazurka07-4/min3_up_m-28-32.bekrn\n",
            "grandstaff_dataset/chopin/mazurkas/mazurka07-4/maj2_down_m-35-40.bekrn\n",
            "grandstaff_dataset/chopin/mazurkas/mazurka07-4/original_m-0-3.bekrn\n",
            "grandstaff_dataset/chopin/mazurkas/mazurka07-4/maj2_up_m-24-27.bekrn\n",
            "grandstaff_dataset/chopin/mazurkas/mazurka07-4/maj2_up_m-30-33.bekrn\n",
            "grandstaff_dataset/chopin/mazurkas/mazurka07-4/maj3_up_m-35-40.bekrn\n",
            "grandstaff_dataset/chopin/mazurkas/mazurka07-4/min3_down_m-30-35.bekrn\n",
            "grandstaff_dataset/chopin/mazurkas/mazurka-50/maj2_down_m-0-5.bekrn\n",
            "grandstaff_dataset/chopin/mazurkas/mazurka-50/maj3_down_m-0-4.bekrn\n",
            "grandstaff_dataset/chopin/mazurkas/mazurka-50/maj2_down_m-5-10.bekrn\n",
            "grandstaff_dataset/chopin/mazurkas/mazurka-50/min3_down_m-8-12.bekrn\n",
            "grandstaff_dataset/chopin/mazurkas/mazurka-50/min3_up_m-112-116.bekrn\n",
            "grandstaff_dataset/chopin/mazurkas/mazurka-50/min3_up_m-76-80.bekrn\n",
            "grandstaff_dataset/chopin/mazurkas/mazurka-50/min3_down_m-80-84.bekrn\n",
            "grandstaff_dataset/chopin/mazurkas/mazurka-50/maj2_up_m-3-6.bekrn\n",
            "grandstaff_dataset/chopin/mazurkas/mazurka-50/original_m-52-56.bekrn\n",
            "grandstaff_dataset/chopin/mazurkas/mazurka-50/maj3_up_m-85-90.bekrn\n",
            "grandstaff_dataset/chopin/mazurkas/mazurka-50/maj2_up_m-9-12.bekrn\n",
            "grandstaff_dataset/chopin/mazurkas/mazurka-50/maj2_up_m-81-84.bekrn\n",
            "grandstaff_dataset/chopin/mazurkas/mazurka-50/original_m-36-40.bekrn\n",
            "grandstaff_dataset/chopin/mazurkas/mazurka-50/maj3_up_m-70-75.bekrn\n",
            "grandstaff_dataset/chopin/mazurkas/mazurka-50/maj2_down_m-40-45.bekrn\n",
            "grandstaff_dataset/chopin/mazurkas/mazurka-50/min3_down_m-48-52.bekrn\n",
            "grandstaff_dataset/chopin/mazurkas/mazurka-50/min3_up_m-40-44.bekrn\n",
            "grandstaff_dataset/chopin/mazurkas/mazurka-50/original_m-56-60.bekrn\n",
            "grandstaff_dataset/chopin/mazurkas/mazurka-50/min3_down_m-88-92.bekrn\n",
            "grandstaff_dataset/chopin/mazurkas/mazurka-50/min3_up_m-92-96.bekrn\n",
            "grandstaff_dataset/chopin/mazurkas/mazurka-50/maj3_down_m-68-72.bekrn\n",
            "grandstaff_dataset/chopin/mazurkas/mazurka-50/min3_up_m-64-68.bekrn\n",
            "grandstaff_dataset/chopin/mazurkas/mazurka-50/min3_down_m-68-72.bekrn\n",
            "grandstaff_dataset/chopin/mazurkas/mazurka-50/min3_up_m-72-76.bekrn\n",
            "grandstaff_dataset/chopin/mazurkas/mazurka-50/maj3_up_m-55-60.bekrn\n",
            "grandstaff_dataset/chopin/mazurkas/mazurka-50/min3_down_m-72-76.bekrn\n",
            "grandstaff_dataset/chopin/mazurkas/mazurka-50/maj3_down_m-32-36.bekrn\n",
            "grandstaff_dataset/chopin/mazurkas/mazurka-50/maj3_down_m-88-92.bekrn\n",
            "grandstaff_dataset/chopin/mazurkas/mazurka-50/maj2_up_m-102-105.bekrn\n",
            "grandstaff_dataset/chopin/mazurkas/mazurka-50/maj2_up_m-84-87.bekrn\n",
            "grandstaff_dataset/chopin/mazurkas/mazurka-50/maj2_up_m-51-54.bekrn\n",
            "grandstaff_dataset/chopin/mazurkas/mazurka-50/maj3_down_m-36-40.bekrn\n",
            "grandstaff_dataset/chopin/mazurkas/mazurka-50/min3_down_m-52-56.bekrn\n",
            "grandstaff_dataset/chopin/mazurkas/mazurka-50/min3_down_m-32-36.bekrn\n",
            "grandstaff_dataset/chopin/mazurkas/mazurka-50/maj2_up_m-87-90.bekrn\n",
            "grandstaff_dataset/chopin/mazurkas/mazurka-50/maj3_up_m-5-10.bekrn\n",
            "grandstaff_dataset/chopin/mazurkas/mazurka-50/maj3_down_m-40-44.bekrn\n",
            "grandstaff_dataset/chopin/mazurkas/mazurka-50/min3_down_m-60-64.bekrn\n",
            "grandstaff_dataset/chopin/mazurkas/mazurka-50/maj3_up_m-0-5.bekrn\n",
            "grandstaff_dataset/chopin/mazurkas/mazurka-50/min3_up_m-8-12.bekrn\n",
            "grandstaff_dataset/chopin/mazurkas/mazurka-50/min3_down_m-4-8.bekrn\n",
            "grandstaff_dataset/chopin/mazurkas/mazurka-50/original_m-92-96.bekrn\n",
            "grandstaff_dataset/chopin/mazurkas/mazurka-50/min3_up_m-88-92.bekrn\n",
            "grandstaff_dataset/chopin/mazurkas/mazurka-50/min3_down_m-44-48.bekrn\n",
            "grandstaff_dataset/chopin/mazurkas/mazurka-50/maj2_down_m-55-60.bekrn\n",
            "grandstaff_dataset/chopin/mazurkas/mazurka-50/maj2_up_m-36-39.bekrn\n",
            "grandstaff_dataset/chopin/mazurkas/mazurka-50/maj2_down_m-60-65.bekrn\n",
            "grandstaff_dataset/chopin/mazurkas/mazurka-50/maj3_down_m-84-88.bekrn\n",
            "grandstaff_dataset/chopin/mazurkas/mazurka-50/maj2_up_m-48-51.bekrn\n",
            "grandstaff_dataset/chopin/mazurkas/mazurka-50/maj3_up_m-50-55.bekrn\n",
            "grandstaff_dataset/chopin/mazurkas/mazurka-50/min3_up_m-56-60.bekrn\n",
            "grandstaff_dataset/chopin/mazurkas/mazurka-50/maj3_up_m-110-115.bekrn\n",
            "grandstaff_dataset/chopin/mazurkas/mazurka-50/maj2_down_m-50-55.bekrn\n",
            "grandstaff_dataset/chopin/mazurkas/mazurka-50/maj3_down_m-72-76.bekrn\n",
            "grandstaff_dataset/chopin/mazurkas/mazurka-50/maj3_down_m-112-116.bekrn\n",
            "grandstaff_dataset/chopin/mazurkas/mazurka-50/maj2_down_m-65-70.bekrn\n",
            "grandstaff_dataset/chopin/mazurkas/mazurka-50/maj3_down_m-80-84.bekrn\n",
            "grandstaff_dataset/chopin/mazurkas/mazurka-50/maj3_up_m-80-85.bekrn\n",
            "grandstaff_dataset/chopin/mazurkas/mazurka-50/min3_up_m-80-84.bekrn\n",
            "grandstaff_dataset/chopin/mazurkas/mazurka-50/maj2_up_m-75-78.bekrn\n",
            "grandstaff_dataset/chopin/mazurkas/mazurka-50/original_m-32-36.bekrn\n",
            "grandstaff_dataset/chopin/mazurkas/mazurka-50/maj2_down_m-85-90.bekrn\n",
            "grandstaff_dataset/chopin/mazurkas/mazurka-50/min3_down_m-36-40.bekrn\n",
            "grandstaff_dataset/chopin/mazurkas/mazurka-50/original_m-48-52.bekrn\n",
            "grandstaff_dataset/chopin/mazurkas/mazurka-50/maj2_down_m-45-50.bekrn\n",
            "grandstaff_dataset/chopin/mazurkas/mazurka-50/maj2_up_m-78-81.bekrn\n",
            "grandstaff_dataset/chopin/mazurkas/mazurka-50/min3_up_m-44-48.bekrn\n",
            "grandstaff_dataset/chopin/mazurkas/mazurka-50/maj3_down_m-60-64.bekrn\n",
            "grandstaff_dataset/chopin/mazurkas/mazurka-50/maj2_up_m-33-36.bekrn\n",
            "grandstaff_dataset/chopin/mazurkas/mazurka-50/maj2_up_m-72-75.bekrn\n",
            "grandstaff_dataset/chopin/mazurkas/mazurka-50/maj2_up_m-6-9.bekrn\n",
            "grandstaff_dataset/chopin/mazurkas/mazurka-50/original_m-72-76.bekrn\n",
            "grandstaff_dataset/chopin/mazurkas/mazurka-50/maj3_down_m-12-16.bekrn\n",
            "grandstaff_dataset/chopin/mazurkas/mazurka-50/min3_up_m-48-52.bekrn\n",
            "grandstaff_dataset/chopin/mazurkas/mazurka-50/maj3_down_m-56-60.bekrn\n",
            "grandstaff_dataset/chopin/mazurkas/mazurka-50/maj3_down_m-8-12.bekrn\n",
            "grandstaff_dataset/chopin/mazurkas/mazurka-50/maj2_up_m-45-48.bekrn\n",
            "grandstaff_dataset/chopin/mazurkas/mazurka-50/min3_up_m-12-16.bekrn\n",
            "grandstaff_dataset/chopin/mazurkas/mazurka-50/maj2_down_m-80-85.bekrn\n",
            "grandstaff_dataset/chopin/mazurkas/mazurka-50/original_m-88-92.bekrn\n",
            "grandstaff_dataset/chopin/mazurkas/mazurka-50/min3_down_m-112-116.bekrn\n",
            "grandstaff_dataset/chopin/mazurkas/mazurka-50/original_m-44-48.bekrn\n",
            "grandstaff_dataset/chopin/mazurkas/mazurka-50/maj2_up_m-12-15.bekrn\n",
            "grandstaff_dataset/chopin/mazurkas/mazurka-50/min3_down_m-40-44.bekrn\n",
            "grandstaff_dataset/chopin/mazurkas/mazurka-50/min3_down_m-84-88.bekrn\n",
            "grandstaff_dataset/chopin/mazurkas/mazurka-50/min3_up_m-68-72.bekrn\n",
            "grandstaff_dataset/chopin/mazurkas/mazurka-50/min3_up_m-4-8.bekrn\n",
            "grandstaff_dataset/chopin/mazurkas/mazurka-50/maj2_up_m-42-45.bekrn\n",
            "grandstaff_dataset/chopin/mazurkas/mazurka-50/min3_up_m-36-40.bekrn\n",
            "grandstaff_dataset/chopin/mazurkas/mazurka-50/original_m-12-16.bekrn\n",
            "grandstaff_dataset/chopin/mazurkas/mazurka-50/maj3_up_m-40-45.bekrn\n",
            "grandstaff_dataset/chopin/mazurkas/mazurka-50/maj2_up_m-0-3.bekrn\n",
            "grandstaff_dataset/chopin/mazurkas/mazurka-50/min3_down_m-56-60.bekrn\n",
            "grandstaff_dataset/chopin/mazurkas/mazurka-50/original_m-8-12.bekrn\n",
            "grandstaff_dataset/chopin/mazurkas/mazurka-50/maj3_down_m-48-52.bekrn\n",
            "grandstaff_dataset/chopin/mazurkas/mazurka-50/original_m-40-44.bekrn\n",
            "grandstaff_dataset/chopin/mazurkas/mazurka-50/min3_down_m-92-96.bekrn\n",
            "grandstaff_dataset/chopin/mazurkas/mazurka-50/maj3_up_m-45-50.bekrn\n",
            "grandstaff_dataset/chopin/mazurkas/mazurka-50/maj2_up_m-39-42.bekrn\n",
            "grandstaff_dataset/chopin/mazurkas/mazurka-50/min3_down_m-76-80.bekrn\n",
            "grandstaff_dataset/chopin/mazurkas/mazurka-50/original_m-112-116.bekrn\n",
            "grandstaff_dataset/chopin/mazurkas/mazurka-50/original_m-84-88.bekrn\n",
            "grandstaff_dataset/chopin/mazurkas/mazurka-50/maj2_down_m-70-75.bekrn\n",
            "grandstaff_dataset/chopin/mazurkas/mazurka-50/maj2_up_m-66-69.bekrn\n",
            "grandstaff_dataset/chopin/mazurkas/mazurka-50/min3_up_m-84-88.bekrn\n",
            "grandstaff_dataset/chopin/mazurkas/mazurka-50/maj2_up_m-15-18.bekrn\n",
            "grandstaff_dataset/chopin/mazurkas/mazurka-50/min3_up_m-32-36.bekrn\n",
            "grandstaff_dataset/chopin/mazurkas/mazurka-50/min3_up_m-60-64.bekrn\n",
            "grandstaff_dataset/chopin/mazurkas/mazurka-50/maj2_down_m-75-80.bekrn\n",
            "grandstaff_dataset/chopin/mazurkas/mazurka-50/original_m-68-72.bekrn\n",
            "grandstaff_dataset/chopin/mazurkas/mazurka-50/maj2_up_m-63-66.bekrn\n",
            "grandstaff_dataset/chopin/mazurkas/mazurka-50/maj3_down_m-76-80.bekrn\n",
            "grandstaff_dataset/chopin/mazurkas/mazurka-50/maj2_up_m-60-63.bekrn\n",
            "grandstaff_dataset/chopin/mazurkas/mazurka-50/min3_up_m-52-56.bekrn\n",
            "grandstaff_dataset/chopin/mazurkas/mazurka-50/original_m-60-64.bekrn\n",
            "grandstaff_dataset/chopin/mazurkas/mazurka-50/maj3_down_m-44-48.bekrn\n",
            "grandstaff_dataset/chopin/mazurkas/mazurka-50/min3_down_m-64-68.bekrn\n",
            "grandstaff_dataset/chopin/mazurkas/mazurka-50/maj3_down_m-92-96.bekrn\n",
            "grandstaff_dataset/chopin/mazurkas/mazurka-50/original_m-0-4.bekrn\n",
            "grandstaff_dataset/chopin/mazurkas/mazurka-50/maj3_up_m-65-70.bekrn\n",
            "grandstaff_dataset/chopin/mazurkas/mazurka-50/original_m-64-68.bekrn\n",
            "grandstaff_dataset/chopin/mazurkas/mazurka-50/maj3_down_m-4-8.bekrn\n",
            "grandstaff_dataset/chopin/mazurkas/mazurka-50/min3_up_m-0-4.bekrn\n",
            "grandstaff_dataset/chopin/mazurkas/mazurka-50/maj2_up_m-69-72.bekrn\n",
            "grandstaff_dataset/chopin/mazurkas/mazurka-50/min3_down_m-0-4.bekrn\n",
            "grandstaff_dataset/chopin/mazurkas/mazurka-50/maj2_up_m-54-57.bekrn\n",
            "grandstaff_dataset/chopin/mazurkas/mazurka-50/maj3_up_m-75-80.bekrn\n",
            "grandstaff_dataset/chopin/mazurkas/mazurka-50/maj2_down_m-110-115.bekrn\n",
            "grandstaff_dataset/chopin/mazurkas/mazurka-50/original_m-4-8.bekrn\n",
            "grandstaff_dataset/chopin/mazurkas/mazurka-50/original_m-80-84.bekrn\n",
            "grandstaff_dataset/chopin/mazurkas/mazurka-50/maj3_down_m-52-56.bekrn\n",
            "grandstaff_dataset/chopin/mazurkas/mazurka-50/maj2_down_m-35-40.bekrn\n",
            "grandstaff_dataset/chopin/mazurkas/mazurka-50/maj2_up_m-93-96.bekrn\n",
            "grandstaff_dataset/chopin/mazurkas/mazurka-50/maj3_down_m-64-68.bekrn\n",
            "grandstaff_dataset/chopin/mazurkas/mazurka-50/maj3_up_m-60-65.bekrn\n",
            "grandstaff_dataset/chopin/mazurkas/mazurka-50/maj3_up_m-35-40.bekrn\n",
            "grandstaff_dataset/chopin/mazurkas/mazurka-50/original_m-76-80.bekrn\n",
            "grandstaff_dataset/chopin/mazurkas/mazurka-50/min3_down_m-12-16.bekrn\n",
            "grandstaff_dataset/chopin/mazurkas/mazurka-50/maj2_up_m-57-60.bekrn\n",
            "grandstaff_dataset/chopin/mazurkas/mazurka67-3/original_m-52-56.bekrn\n",
            "grandstaff_dataset/chopin/mazurkas/mazurka67-3/original_m-56-60.bekrn\n",
            "grandstaff_dataset/chopin/mazurkas/mazurka67-3/original_m-20-24.bekrn\n",
            "grandstaff_dataset/chopin/mazurkas/mazurka67-3/original_m-48-52.bekrn\n",
            "grandstaff_dataset/chopin/mazurkas/mazurka67-3/original_m-44-48.bekrn\n",
            "grandstaff_dataset/chopin/mazurkas/mazurka67-3/original_m-12-16.bekrn\n",
            "grandstaff_dataset/chopin/mazurkas/mazurka67-3/original_m-8-12.bekrn\n",
            "grandstaff_dataset/chopin/mazurkas/mazurka67-3/original_m-40-44.bekrn\n",
            "grandstaff_dataset/chopin/mazurkas/mazurka67-3/original_m-28-32.bekrn\n",
            "grandstaff_dataset/chopin/mazurkas/mazurka67-3/original_m-24-28.bekrn\n",
            "grandstaff_dataset/chopin/mazurkas/mazurka67-3/original_m-0-4.bekrn\n",
            "grandstaff_dataset/chopin/mazurkas/mazurka67-3/original_m-4-8.bekrn\n",
            "grandstaff_dataset/chopin/mazurkas/mazurka67-3/original_m-16-20.bekrn\n",
            "grandstaff_dataset/chopin/mazurkas/mazurka50-1/maj3_up_m-93-96.bekrn\n",
            "grandstaff_dataset/chopin/mazurkas/mazurka50-1/min3_up_m-84-87.bekrn\n",
            "grandstaff_dataset/chopin/mazurkas/mazurka50-1/maj3_down_m-45-48.bekrn\n",
            "grandstaff_dataset/chopin/mazurkas/mazurka50-1/maj3_up_m-36-39.bekrn\n",
            "grandstaff_dataset/chopin/mazurkas/mazurka50-1/min3_down_m-80-84.bekrn\n",
            "grandstaff_dataset/chopin/mazurkas/mazurka50-1/maj2_up_m-70-75.bekrn\n",
            "grandstaff_dataset/chopin/mazurkas/mazurka50-1/min3_up_m-96-99.bekrn\n",
            "grandstaff_dataset/chopin/mazurkas/mazurka50-1/maj2_down_m-39-42.bekrn\n",
            "grandstaff_dataset/chopin/mazurkas/mazurka50-1/min3_up_m-69-72.bekrn\n",
            "grandstaff_dataset/chopin/mazurkas/mazurka50-1/min3_down_m-88-92.bekrn\n",
            "grandstaff_dataset/chopin/mazurkas/mazurka50-1/maj3_down_m-99-102.bekrn\n",
            "grandstaff_dataset/chopin/mazurkas/mazurka50-1/min3_down_m-68-72.bekrn\n",
            "grandstaff_dataset/chopin/mazurkas/mazurka50-1/min3_down_m-72-76.bekrn\n",
            "grandstaff_dataset/chopin/mazurkas/mazurka50-1/min3_up_m-99-102.bekrn\n",
            "grandstaff_dataset/chopin/mazurkas/mazurka50-1/maj2_down_m-99-102.bekrn\n",
            "grandstaff_dataset/chopin/mazurkas/mazurka50-1/maj3_down_m-84-87.bekrn\n",
            "grandstaff_dataset/chopin/mazurkas/mazurka50-1/maj2_down_m-69-72.bekrn\n",
            "grandstaff_dataset/chopin/mazurkas/mazurka50-1/maj2_down_m-102-105.bekrn\n",
            "grandstaff_dataset/chopin/mazurkas/mazurka50-1/maj3_up_m-39-42.bekrn\n",
            "grandstaff_dataset/chopin/mazurkas/mazurka50-1/min3_up_m-36-39.bekrn\n",
            "grandstaff_dataset/chopin/mazurkas/mazurka50-1/original_m-80-85.bekrn\n",
            "grandstaff_dataset/chopin/mazurkas/mazurka50-1/min3_down_m-96-100.bekrn\n",
            "grandstaff_dataset/chopin/mazurkas/mazurka50-1/maj3_up_m-96-99.bekrn\n",
            "grandstaff_dataset/chopin/mazurkas/mazurka50-1/original_m-95-100.bekrn\n",
            "grandstaff_dataset/chopin/mazurkas/mazurka50-1/maj2_up_m-80-85.bekrn\n",
            "grandstaff_dataset/chopin/mazurkas/mazurka50-1/min3_down_m-36-40.bekrn\n",
            "grandstaff_dataset/chopin/mazurkas/mazurka50-1/maj3_up_m-81-84.bekrn\n",
            "grandstaff_dataset/chopin/mazurkas/mazurka50-1/min3_up_m-102-105.bekrn\n",
            "grandstaff_dataset/chopin/mazurkas/mazurka50-1/maj2_up_m-45-50.bekrn\n",
            "grandstaff_dataset/chopin/mazurkas/mazurka50-1/min3_up_m-81-84.bekrn\n",
            "grandstaff_dataset/chopin/mazurkas/mazurka50-1/maj3_down_m-12-15.bekrn\n",
            "grandstaff_dataset/chopin/mazurkas/mazurka50-1/maj3_down_m-69-72.bekrn\n",
            "grandstaff_dataset/chopin/mazurkas/mazurka50-1/min3_up_m-39-42.bekrn\n",
            "grandstaff_dataset/chopin/mazurkas/mazurka50-1/min3_up_m-45-48.bekrn\n",
            "grandstaff_dataset/chopin/mazurkas/mazurka50-1/maj2_down_m-87-90.bekrn\n",
            "grandstaff_dataset/chopin/mazurkas/mazurka50-1/maj2_down_m-93-96.bekrn\n",
            "grandstaff_dataset/chopin/mazurkas/mazurka50-1/maj2_down_m-36-39.bekrn\n",
            "grandstaff_dataset/chopin/mazurkas/mazurka50-1/maj3_down_m-81-84.bekrn\n",
            "grandstaff_dataset/chopin/mazurkas/mazurka50-1/maj2_down_m-96-99.bekrn\n",
            "grandstaff_dataset/chopin/mazurkas/mazurka50-1/min3_down_m-84-88.bekrn\n",
            "grandstaff_dataset/chopin/mazurkas/mazurka50-1/maj3_down_m-87-90.bekrn\n",
            "grandstaff_dataset/chopin/mazurkas/mazurka50-1/maj3_down_m-72-75.bekrn\n",
            "grandstaff_dataset/chopin/mazurkas/mazurka50-1/original_m-45-50.bekrn\n",
            "grandstaff_dataset/chopin/mazurkas/mazurka50-1/maj3_up_m-84-87.bekrn\n",
            "grandstaff_dataset/chopin/mazurkas/mazurka50-1/maj2_down_m-81-84.bekrn\n",
            "grandstaff_dataset/chopin/mazurkas/mazurka50-1/maj2_down_m-12-15.bekrn\n",
            "grandstaff_dataset/chopin/mazurkas/mazurka50-1/maj3_down_m-96-99.bekrn\n",
            "grandstaff_dataset/chopin/mazurkas/mazurka50-1/min3_down_m-92-96.bekrn\n",
            "grandstaff_dataset/chopin/mazurkas/mazurka50-1/maj3_up_m-87-90.bekrn\n",
            "grandstaff_dataset/chopin/mazurkas/mazurka50-1/maj3_up_m-12-15.bekrn\n",
            "grandstaff_dataset/chopin/mazurkas/mazurka50-1/min3_up_m-87-90.bekrn\n",
            "grandstaff_dataset/chopin/mazurkas/mazurka50-1/maj3_up_m-69-72.bekrn\n",
            "grandstaff_dataset/chopin/mazurkas/mazurka50-1/min3_up_m-12-15.bekrn\n",
            "grandstaff_dataset/chopin/mazurkas/mazurka50-1/original_m-70-75.bekrn\n",
            "grandstaff_dataset/chopin/mazurkas/mazurka50-1/maj3_down_m-102-105.bekrn\n",
            "grandstaff_dataset/chopin/mazurkas/mazurka50-1/maj3_up_m-72-75.bekrn\n",
            "grandstaff_dataset/chopin/mazurkas/mazurka50-1/maj2_down_m-72-75.bekrn\n",
            "grandstaff_dataset/chopin/mazurkas/mazurka50-1/maj3_down_m-39-42.bekrn\n",
            "grandstaff_dataset/chopin/mazurkas/mazurka50-1/maj2_down_m-84-87.bekrn\n",
            "grandstaff_dataset/chopin/mazurkas/mazurka50-1/min3_up_m-93-96.bekrn\n",
            "grandstaff_dataset/chopin/mazurkas/mazurka50-1/maj3_up_m-45-48.bekrn\n",
            "grandstaff_dataset/chopin/mazurkas/mazurka50-1/maj3_up_m-99-102.bekrn\n",
            "grandstaff_dataset/chopin/mazurkas/mazurka50-1/maj2_up_m-95-100.bekrn\n",
            "grandstaff_dataset/chopin/mazurkas/mazurka50-1/maj2_down_m-45-48.bekrn\n",
            "grandstaff_dataset/chopin/mazurkas/mazurka50-1/maj3_down_m-36-39.bekrn\n",
            "grandstaff_dataset/chopin/mazurkas/mazurka50-1/min3_up_m-72-75.bekrn\n",
            "grandstaff_dataset/chopin/mazurkas/mazurka50-1/maj3_down_m-93-96.bekrn\n",
            "grandstaff_dataset/chopin/mazurkas/mazurka50-1/min3_down_m-12-16.bekrn\n",
            "grandstaff_dataset/chopin/mazurkas/mazurka50-1/maj3_up_m-102-105.bekrn\n",
            "grandstaff_dataset/chopin/mazurkas/mazurka30-4/maj2_up_m-125-129.bekrn\n",
            "grandstaff_dataset/chopin/mazurkas/mazurka30-4/min3_down_m-127-130.bekrn\n",
            "grandstaff_dataset/chopin/mazurkas/mazurka30-4/maj3_up_m-94-97.bekrn\n",
            "grandstaff_dataset/chopin/mazurkas/mazurka30-4/maj3_down_m-29-33.bekrn\n",
            "grandstaff_dataset/chopin/mazurkas/mazurka30-4/min3_up_m-136-139.bekrn\n",
            "grandstaff_dataset/chopin/mazurkas/mazurka30-4/min3_up_m-94-97.bekrn\n",
            "grandstaff_dataset/chopin/mazurkas/mazurka30-4/maj2_down_m-117-121.bekrn\n",
            "grandstaff_dataset/chopin/mazurkas/mazurka30-4/maj3_down_m-73-77.bekrn\n",
            "grandstaff_dataset/chopin/mazurkas/mazurka30-4/min3_down_m-13-16.bekrn\n",
            "grandstaff_dataset/chopin/mazurkas/mazurka30-4/maj2_up_m-117-121.bekrn\n",
            "grandstaff_dataset/chopin/mazurkas/mazurka30-4/maj2_up_m-129-133.bekrn\n",
            "grandstaff_dataset/chopin/mazurkas/mazurka30-4/maj3_down_m-125-129.bekrn\n",
            "grandstaff_dataset/chopin/mazurkas/mazurka30-4/maj2_up_m-113-117.bekrn\n",
            "grandstaff_dataset/chopin/mazurkas/mazurka30-4/original_m-61-65.bekrn\n",
            "grandstaff_dataset/chopin/mazurkas/mazurka30-4/min3_down_m-139-142.bekrn\n",
            "grandstaff_dataset/chopin/mazurkas/mazurka30-4/maj2_down_m-85-89.bekrn\n",
            "grandstaff_dataset/chopin/mazurkas/mazurka30-4/min3_down_m-112-115.bekrn\n",
            "grandstaff_dataset/chopin/mazurkas/mazurka30-4/min3_up_m-1-4.bekrn\n",
            "grandstaff_dataset/chopin/mazurkas/mazurka30-4/min3_down_m-103-106.bekrn\n",
            "grandstaff_dataset/chopin/mazurkas/mazurka30-4/maj3_up_m-58-61.bekrn\n",
            "grandstaff_dataset/chopin/mazurkas/mazurka30-4/min3_down_m-82-85.bekrn\n",
            "grandstaff_dataset/chopin/mazurkas/mazurka30-4/maj2_up_m-85-89.bekrn\n",
            "grandstaff_dataset/chopin/mazurkas/mazurka30-4/original_m-121-125.bekrn\n",
            "grandstaff_dataset/chopin/mazurkas/mazurka30-4/min3_up_m-76-79.bekrn\n",
            "grandstaff_dataset/chopin/mazurkas/mazurka30-4/original_m-33-37.bekrn\n",
            "grandstaff_dataset/chopin/mazurkas/mazurka30-4/maj2_down_m-29-33.bekrn\n",
            "grandstaff_dataset/chopin/mazurkas/mazurka30-4/maj2_down_m-133-137.bekrn\n",
            "grandstaff_dataset/chopin/mazurkas/mazurka30-4/maj3_down_m-37-41.bekrn\n",
            "grandstaff_dataset/chopin/mazurkas/mazurka30-4/min3_up_m-115-118.bekrn\n",
            "grandstaff_dataset/chopin/mazurkas/mazurka30-4/original_m-97-101.bekrn\n",
            "grandstaff_dataset/chopin/mazurkas/mazurka30-4/min3_down_m-37-40.bekrn\n",
            "grandstaff_dataset/chopin/mazurkas/mazurka30-4/min3_up_m-82-85.bekrn\n",
            "grandstaff_dataset/chopin/mazurkas/mazurka30-4/maj3_up_m-46-49.bekrn\n",
            "grandstaff_dataset/chopin/mazurkas/mazurka30-4/min3_up_m-88-91.bekrn\n",
            "grandstaff_dataset/chopin/mazurkas/mazurka30-4/maj2_up_m-89-93.bekrn\n",
            "grandstaff_dataset/chopin/mazurkas/mazurka30-4/maj3_down_m-133-137.bekrn\n",
            "grandstaff_dataset/chopin/mazurkas/mazurka30-4/maj3_up_m-34-37.bekrn\n",
            "grandstaff_dataset/chopin/mazurkas/mazurka30-4/min3_up_m-58-61.bekrn\n",
            "grandstaff_dataset/chopin/mazurkas/mazurka30-4/min3_down_m-88-91.bekrn\n",
            "grandstaff_dataset/chopin/mazurkas/mazurka30-4/maj2_down_m-45-49.bekrn\n",
            "grandstaff_dataset/chopin/mazurkas/mazurka30-4/min3_up_m-49-52.bekrn\n",
            "grandstaff_dataset/chopin/mazurkas/mazurka30-4/maj2_down_m-105-109.bekrn\n",
            "grandstaff_dataset/chopin/mazurkas/mazurka30-4/min3_down_m-76-79.bekrn\n",
            "grandstaff_dataset/chopin/mazurkas/mazurka30-4/min3_up_m-91-94.bekrn\n",
            "grandstaff_dataset/chopin/mazurkas/mazurka30-4/original_m-125-129.bekrn\n",
            "grandstaff_dataset/chopin/mazurkas/mazurka30-4/maj2_up_m-33-37.bekrn\n",
            "grandstaff_dataset/chopin/mazurkas/mazurka30-4/min3_down_m-28-31.bekrn\n",
            "grandstaff_dataset/chopin/mazurkas/mazurka30-4/maj2_down_m-69-73.bekrn\n",
            "grandstaff_dataset/chopin/mazurkas/mazurka30-4/maj3_down_m-9-13.bekrn\n",
            "grandstaff_dataset/chopin/mazurkas/mazurka30-4/original_m-57-61.bekrn\n",
            "grandstaff_dataset/chopin/mazurkas/mazurka30-4/maj2_up_m-57-61.bekrn\n",
            "grandstaff_dataset/chopin/mazurkas/mazurka30-4/min3_up_m-124-127.bekrn\n",
            "grandstaff_dataset/chopin/mazurkas/mazurka30-4/min3_down_m-136-139.bekrn\n",
            "grandstaff_dataset/chopin/mazurkas/mazurka30-4/min3_up_m-43-46.bekrn\n",
            "grandstaff_dataset/chopin/mazurkas/mazurka30-4/min3_up_m-112-115.bekrn\n",
            "grandstaff_dataset/chopin/mazurkas/mazurka30-4/maj3_up_m-127-130.bekrn\n",
            "grandstaff_dataset/chopin/mazurkas/mazurka30-4/min3_up_m-139-142.bekrn\n",
            "grandstaff_dataset/chopin/mazurkas/mazurka30-4/original_m-29-33.bekrn\n",
            "grandstaff_dataset/chopin/mazurkas/mazurka30-4/original_m-65-69.bekrn\n",
            "grandstaff_dataset/chopin/mazurkas/mazurka30-4/maj3_down_m-13-17.bekrn\n",
            "grandstaff_dataset/chopin/mazurkas/mazurka30-4/min3_up_m-133-136.bekrn\n",
            "grandstaff_dataset/chopin/mazurkas/mazurka30-4/maj2_up_m-121-125.bekrn\n",
            "grandstaff_dataset/chopin/mazurkas/mazurka30-4/maj3_down_m-61-65.bekrn\n",
            "grandstaff_dataset/chopin/mazurkas/mazurka30-4/maj2_down_m-81-85.bekrn\n",
            "grandstaff_dataset/chopin/mazurkas/mazurka30-4/maj3_down_m-57-61.bekrn\n",
            "grandstaff_dataset/chopin/mazurkas/mazurka30-4/maj2_down_m-89-93.bekrn\n",
            "grandstaff_dataset/chopin/mazurkas/mazurka30-4/maj3_down_m-129-133.bekrn\n",
            "grandstaff_dataset/chopin/mazurkas/mazurka30-4/original_m-81-85.bekrn\n",
            "grandstaff_dataset/chopin/mazurkas/mazurka30-4/maj3_up_m-118-121.bekrn\n",
            "grandstaff_dataset/chopin/mazurkas/mazurka30-4/maj2_down_m-65-69.bekrn\n",
            "grandstaff_dataset/chopin/mazurkas/mazurka30-4/maj3_up_m-139-142.bekrn\n",
            "grandstaff_dataset/chopin/mazurkas/mazurka30-4/maj2_up_m-45-49.bekrn\n",
            "grandstaff_dataset/chopin/mazurkas/mazurka30-4/maj3_down_m-41-45.bekrn\n",
            "grandstaff_dataset/chopin/mazurkas/mazurka30-4/min3_down_m-67-70.bekrn\n",
            "grandstaff_dataset/chopin/mazurkas/mazurka30-4/maj3_up_m-28-31.bekrn\n",
            "grandstaff_dataset/chopin/mazurkas/mazurka30-4/min3_down_m-64-67.bekrn\n",
            "grandstaff_dataset/chopin/mazurkas/mazurka30-4/maj2_down_m-13-17.bekrn\n",
            "grandstaff_dataset/chopin/mazurkas/mazurka30-4/maj3_down_m-33-37.bekrn\n",
            "grandstaff_dataset/chopin/mazurkas/mazurka30-4/min3_down_m-70-73.bekrn\n",
            "grandstaff_dataset/chopin/mazurkas/mazurka30-4/maj3_down_m-45-49.bekrn\n",
            "grandstaff_dataset/chopin/mazurkas/mazurka30-4/maj2_up_m-41-45.bekrn\n",
            "grandstaff_dataset/chopin/mazurkas/mazurka30-4/min3_down_m-55-58.bekrn\n",
            "grandstaff_dataset/chopin/mazurkas/mazurka30-4/maj2_down_m-121-125.bekrn\n",
            "grandstaff_dataset/chopin/mazurkas/mazurka30-4/maj3_up_m-124-127.bekrn\n",
            "grandstaff_dataset/chopin/mazurkas/mazurka30-4/min3_up_m-37-40.bekrn\n",
            "grandstaff_dataset/chopin/mazurkas/mazurka30-4/original_m-109-113.bekrn\n",
            "grandstaff_dataset/chopin/mazurkas/mazurka30-4/maj2_down_m-97-101.bekrn\n",
            "grandstaff_dataset/chopin/mazurkas/mazurka30-4/original_m-117-121.bekrn\n",
            "grandstaff_dataset/chopin/mazurkas/mazurka30-4/maj2_down_m-93-97.bekrn\n",
            "grandstaff_dataset/chopin/mazurkas/mazurka30-4/min3_up_m-121-124.bekrn\n",
            "grandstaff_dataset/chopin/mazurkas/mazurka30-4/maj3_up_m-109-112.bekrn\n",
            "grandstaff_dataset/chopin/mazurkas/mazurka30-4/maj3_down_m-97-101.bekrn\n",
            "grandstaff_dataset/chopin/mazurkas/mazurka30-4/maj2_down_m-101-105.bekrn\n",
            "grandstaff_dataset/chopin/mazurkas/mazurka30-4/min3_down_m-115-118.bekrn\n",
            "grandstaff_dataset/chopin/mazurkas/mazurka30-4/maj3_up_m-43-46.bekrn\n",
            "grandstaff_dataset/chopin/mazurkas/mazurka30-4/original_m-25-29.bekrn\n",
            "grandstaff_dataset/chopin/mazurkas/mazurka30-4/maj2_up_m-97-101.bekrn\n",
            "grandstaff_dataset/chopin/mazurkas/mazurka30-4/min3_up_m-67-70.bekrn\n",
            "grandstaff_dataset/chopin/mazurkas/mazurka30-4/min3_down_m-109-112.bekrn\n",
            "grandstaff_dataset/chopin/mazurkas/mazurka30-4/min3_down_m-7-10.bekrn\n",
            "grandstaff_dataset/chopin/mazurkas/mazurka30-4/maj3_up_m-76-79.bekrn\n",
            "grandstaff_dataset/chopin/mazurkas/mazurka30-4/original_m-101-105.bekrn\n",
            "grandstaff_dataset/chopin/mazurkas/mazurka30-4/original_m-13-17.bekrn\n",
            "grandstaff_dataset/chopin/mazurkas/mazurka30-4/maj2_down_m-137-141.bekrn\n",
            "grandstaff_dataset/chopin/mazurkas/mazurka30-4/min3_down_m-31-34.bekrn\n",
            "grandstaff_dataset/chopin/mazurkas/mazurka30-4/maj2_down_m-5-9.bekrn\n",
            "grandstaff_dataset/chopin/mazurkas/mazurka30-4/maj2_up_m-109-113.bekrn\n",
            "grandstaff_dataset/chopin/mazurkas/mazurka30-4/maj3_up_m-115-118.bekrn\n",
            "grandstaff_dataset/chopin/mazurkas/mazurka30-4/maj2_up_m-81-85.bekrn\n",
            "grandstaff_dataset/chopin/mazurkas/mazurka30-4/maj2_down_m-129-133.bekrn\n",
            "grandstaff_dataset/chopin/mazurkas/mazurka30-4/maj3_up_m-133-136.bekrn\n",
            "grandstaff_dataset/chopin/mazurkas/mazurka30-4/min3_up_m-97-100.bekrn\n",
            "grandstaff_dataset/chopin/mazurkas/mazurka30-4/min3_up_m-85-88.bekrn\n",
            "grandstaff_dataset/chopin/mazurkas/mazurka30-4/maj3_down_m-105-109.bekrn\n",
            "grandstaff_dataset/chopin/mazurkas/mazurka30-4/maj3_up_m-37-40.bekrn\n",
            "grandstaff_dataset/chopin/mazurkas/mazurka30-4/original_m-133-137.bekrn\n",
            "grandstaff_dataset/chopin/mazurkas/mazurka30-4/maj3_up_m-91-94.bekrn\n",
            "grandstaff_dataset/chopin/mazurkas/mazurka30-4/maj2_up_m-37-41.bekrn\n",
            "grandstaff_dataset/chopin/mazurkas/mazurka30-4/original_m-69-73.bekrn\n",
            "grandstaff_dataset/chopin/mazurkas/mazurka30-4/min3_down_m-46-49.bekrn\n",
            "grandstaff_dataset/chopin/mazurkas/mazurka30-4/min3_up_m-28-31.bekrn\n",
            "grandstaff_dataset/chopin/mazurkas/mazurka30-4/maj2_up_m-29-33.bekrn\n",
            "grandstaff_dataset/chopin/mazurkas/mazurka30-4/maj3_up_m-121-124.bekrn\n",
            "grandstaff_dataset/chopin/mazurkas/mazurka30-4/maj2_down_m-57-61.bekrn\n",
            "grandstaff_dataset/chopin/mazurkas/mazurka30-4/maj3_down_m-85-89.bekrn\n",
            "grandstaff_dataset/chopin/mazurkas/mazurka30-4/maj2_up_m-69-73.bekrn\n",
            "grandstaff_dataset/chopin/mazurkas/mazurka30-4/min3_down_m-25-28.bekrn\n",
            "grandstaff_dataset/chopin/mazurkas/mazurka30-4/min3_up_m-73-76.bekrn\n",
            "grandstaff_dataset/chopin/mazurkas/mazurka30-4/min3_down_m-94-97.bekrn\n",
            "grandstaff_dataset/chopin/mazurkas/mazurka30-4/maj3_down_m-113-117.bekrn\n",
            "grandstaff_dataset/chopin/mazurkas/mazurka30-4/original_m-85-89.bekrn\n",
            "grandstaff_dataset/chopin/mazurkas/mazurka30-4/maj2_down_m-109-113.bekrn\n",
            "grandstaff_dataset/chopin/mazurkas/mazurka30-4/min3_down_m-97-100.bekrn\n",
            "grandstaff_dataset/chopin/mazurkas/mazurka30-4/min3_up_m-34-37.bekrn\n",
            "grandstaff_dataset/chopin/mazurkas/mazurka30-4/maj2_up_m-61-65.bekrn\n",
            "grandstaff_dataset/chopin/mazurkas/mazurka30-4/maj3_down_m-65-69.bekrn\n",
            "grandstaff_dataset/chopin/mazurkas/mazurka30-4/maj3_down_m-5-9.bekrn\n",
            "grandstaff_dataset/chopin/mazurkas/mazurka30-4/maj3_down_m-93-97.bekrn\n",
            "grandstaff_dataset/chopin/mazurkas/mazurka30-4/maj2_up_m-5-9.bekrn\n",
            "grandstaff_dataset/chopin/mazurkas/mazurka30-4/maj2_up_m-101-105.bekrn\n",
            "grandstaff_dataset/chopin/mazurkas/mazurka30-4/maj2_up_m-73-77.bekrn\n",
            "grandstaff_dataset/chopin/mazurkas/mazurka30-4/maj3_down_m-81-85.bekrn\n",
            "grandstaff_dataset/chopin/mazurkas/mazurka30-4/maj3_up_m-97-100.bekrn\n",
            "grandstaff_dataset/chopin/mazurkas/mazurka30-4/min3_up_m-46-49.bekrn\n",
            "grandstaff_dataset/chopin/mazurkas/mazurka30-4/maj3_down_m-89-93.bekrn\n",
            "grandstaff_dataset/chopin/mazurkas/mazurka30-4/maj3_down_m-25-29.bekrn\n",
            "grandstaff_dataset/chopin/mazurkas/mazurka30-4/maj2_down_m-33-37.bekrn\n",
            "grandstaff_dataset/chopin/mazurkas/mazurka30-4/original_m-9-13.bekrn\n",
            "grandstaff_dataset/chopin/mazurkas/mazurka30-4/maj3_down_m-109-113.bekrn\n",
            "grandstaff_dataset/chopin/mazurkas/mazurka30-4/min3_up_m-13-16.bekrn\n",
            "grandstaff_dataset/chopin/mazurkas/mazurka30-4/maj2_down_m-25-29.bekrn\n",
            "grandstaff_dataset/chopin/mazurkas/mazurka30-4/min3_down_m-124-127.bekrn\n",
            "grandstaff_dataset/chopin/mazurkas/mazurka30-4/original_m-89-93.bekrn\n",
            "grandstaff_dataset/chopin/mazurkas/mazurka30-4/maj3_down_m-137-141.bekrn\n",
            "grandstaff_dataset/chopin/mazurkas/mazurka30-4/maj3_down_m-69-73.bekrn\n",
            "grandstaff_dataset/chopin/mazurkas/mazurka30-4/min3_up_m-25-28.bekrn\n",
            "grandstaff_dataset/chopin/mazurkas/mazurka30-4/maj2_up_m-25-29.bekrn\n",
            "grandstaff_dataset/chopin/mazurkas/mazurka30-4/maj3_up_m-136-139.bekrn\n",
            "grandstaff_dataset/chopin/mazurkas/mazurka30-4/maj3_up_m-112-115.bekrn\n",
            "grandstaff_dataset/chopin/mazurkas/mazurka30-4/min3_down_m-91-94.bekrn\n",
            "grandstaff_dataset/chopin/mazurkas/mazurka30-4/maj3_up_m-25-28.bekrn\n",
            "grandstaff_dataset/chopin/mazurkas/mazurka30-4/min3_down_m-58-61.bekrn\n",
            "grandstaff_dataset/chopin/mazurkas/mazurka30-4/min3_up_m-109-112.bekrn\n",
            "grandstaff_dataset/chopin/mazurkas/mazurka30-4/original_m-37-41.bekrn\n",
            "grandstaff_dataset/chopin/mazurkas/mazurka30-4/maj2_up_m-13-17.bekrn\n",
            "grandstaff_dataset/chopin/mazurkas/mazurka30-4/maj2_up_m-133-137.bekrn\n",
            "grandstaff_dataset/chopin/mazurkas/mazurka30-4/maj2_up_m-9-13.bekrn\n",
            "grandstaff_dataset/chopin/mazurkas/mazurka30-4/min3_up_m-7-10.bekrn\n",
            "grandstaff_dataset/chopin/mazurkas/mazurka30-4/original_m-137-141.bekrn\n",
            "grandstaff_dataset/chopin/mazurkas/mazurka30-4/min3_up_m-127-130.bekrn\n",
            "grandstaff_dataset/chopin/mazurkas/mazurka30-4/maj3_up_m-7-10.bekrn\n",
            "grandstaff_dataset/chopin/mazurkas/mazurka30-4/maj3_up_m-61-64.bekrn\n",
            "grandstaff_dataset/chopin/mazurkas/mazurka30-4/original_m-93-97.bekrn\n",
            "grandstaff_dataset/chopin/mazurkas/mazurka30-4/min3_down_m-61-64.bekrn\n",
            "grandstaff_dataset/chopin/mazurkas/mazurka30-4/min3_down_m-49-52.bekrn\n",
            "grandstaff_dataset/chopin/mazurkas/mazurka30-4/maj2_down_m-41-45.bekrn\n",
            "grandstaff_dataset/chopin/mazurkas/mazurka30-4/min3_down_m-85-88.bekrn\n",
            "grandstaff_dataset/chopin/mazurkas/mazurka30-4/maj2_down_m-37-41.bekrn\n",
            "grandstaff_dataset/chopin/mazurkas/mazurka30-4/original_m-45-49.bekrn\n",
            "grandstaff_dataset/chopin/mazurkas/mazurka30-4/maj2_up_m-65-69.bekrn\n",
            "grandstaff_dataset/chopin/mazurkas/mazurka30-4/._original_m-113-117.bekrn\n",
            "grandstaff_dataset/chopin/mazurkas/mazurka30-4/maj2_down_m-9-13.bekrn\n",
            "grandstaff_dataset/chopin/mazurkas/mazurka30-4/min3_up_m-31-34.bekrn\n",
            "grandstaff_dataset/chopin/mazurkas/mazurka30-4/maj2_up_m-93-97.bekrn\n",
            "grandstaff_dataset/chopin/mazurkas/mazurka30-4/maj3_up_m-13-16.bekrn\n",
            "grandstaff_dataset/chopin/mazurkas/mazurka30-4/maj3_down_m-121-125.bekrn\n",
            "grandstaff_dataset/chopin/mazurkas/mazurka30-4/min3_down_m-1-4.bekrn\n",
            "grandstaff_dataset/chopin/mazurkas/mazurka30-4/original_m-129-133.bekrn\n",
            "grandstaff_dataset/chopin/mazurkas/mazurka30-4/maj3_up_m-55-58.bekrn\n",
            "grandstaff_dataset/chopin/mazurkas/mazurka30-4/maj2_down_m-113-117.bekrn\n",
            "grandstaff_dataset/chopin/mazurkas/mazurka30-4/maj2_up_m-137-141.bekrn\n",
            "grandstaff_dataset/chopin/mazurkas/mazurka30-4/maj3_up_m-64-67.bekrn\n",
            "grandstaff_dataset/chopin/mazurkas/mazurka30-4/maj2_down_m-125-129.bekrn\n",
            "grandstaff_dataset/chopin/mazurkas/mazurka30-4/original_m-41-45.bekrn\n",
            "grandstaff_dataset/chopin/mazurkas/mazurka30-4/min3_up_m-130-133.bekrn\n",
            "grandstaff_dataset/chopin/mazurkas/mazurka30-4/min3_up_m-70-73.bekrn\n",
            "grandstaff_dataset/chopin/mazurkas/mazurka30-4/maj3_up_m-130-133.bekrn\n",
            "grandstaff_dataset/chopin/mazurkas/mazurka30-4/maj2_down_m-61-65.bekrn\n",
            "grandstaff_dataset/chopin/mazurkas/mazurka30-4/min3_down_m-130-133.bekrn\n",
            "grandstaff_dataset/chopin/mazurkas/mazurka30-4/maj2_up_m-105-109.bekrn\n",
            "grandstaff_dataset/chopin/mazurkas/mazurka30-4/maj3_up_m-31-34.bekrn\n",
            "grandstaff_dataset/chopin/mazurkas/mazurka30-4/maj2_down_m-73-77.bekrn\n",
            "grandstaff_dataset/chopin/mazurkas/mazurka30-4/min3_up_m-61-64.bekrn\n",
            "grandstaff_dataset/chopin/mazurkas/mazurka30-4/maj3_down_m-101-105.bekrn\n",
            "grandstaff_dataset/chopin/mazurkas/mazurka30-4/min3_up_m-118-121.bekrn\n",
            "grandstaff_dataset/chopin/mazurkas/mazurka30-4/min3_down_m-34-37.bekrn\n",
            "grandstaff_dataset/chopin/mazurkas/mazurka30-4/min3_down_m-121-124.bekrn\n",
            "grandstaff_dataset/chopin/mazurkas/mazurka30-4/original_m-105-109.bekrn\n",
            "grandstaff_dataset/chopin/mazurkas/mazurka30-4/original_m-73-77.bekrn\n",
            "grandstaff_dataset/chopin/mazurkas/mazurka30-4/min3_down_m-73-76.bekrn\n",
            "grandstaff_dataset/chopin/mazurkas/mazurka30-4/min3_up_m-103-106.bekrn\n",
            "grandstaff_dataset/chopin/mazurkas/mazurka30-4/min3_down_m-133-136.bekrn\n",
            "grandstaff_dataset/chopin/mazurkas/mazurka30-4/min3_up_m-64-67.bekrn\n",
            "grandstaff_dataset/chopin/mazurkas/mazurka30-4/maj3_up_m-1-4.bekrn\n",
            "grandstaff_dataset/chopin/mazurkas/mazurka30-4/original_m-5-9.bekrn\n",
            "grandstaff_dataset/chopin/mazurkas/mazurka30-4/min3_up_m-55-58.bekrn\n",
            "grandstaff_dataset/chopin/mazurkas/mazurka30-4/maj3_up_m-49-52.bekrn\n",
            "grandstaff_dataset/chopin/mazurkas/mazurka30-4/min3_down_m-43-46.bekrn\n",
            "grandstaff_dataset/chopin/mazurkas/mazurka30-4/min3_down_m-118-121.bekrn\n",
            "grandstaff_dataset/chopin/mazurkas/mazurka30-4/original_m-113-117.bekrn\n",
            "grandstaff_dataset/chopin/mazurkas/mazurka30-4/maj3_down_m-117-121.bekrn\n",
            "grandstaff_dataset/chopin/mazurkas/mazurka30-4/maj3_up_m-103-106.bekrn\n",
            "grandstaff_dataset/chopin/mazurkas/mazurka17-1/maj3_down_m-60-65.bekrn\n",
            "grandstaff_dataset/chopin/mazurkas/mazurka17-1/min3_down_m-8-12.bekrn\n",
            "grandstaff_dataset/chopin/mazurkas/mazurka17-1/original_m-60-65.bekrn\n",
            "grandstaff_dataset/chopin/mazurkas/mazurka17-1/min3_up_m-20-25.bekrn\n",
            "grandstaff_dataset/chopin/mazurkas/mazurka17-1/maj2_down_m-36-40.bekrn\n",
            "grandstaff_dataset/chopin/mazurkas/mazurka17-1/maj3_up_m-10-15.bekrn\n",
            "grandstaff_dataset/chopin/mazurkas/mazurka17-1/maj3_down_m-20-25.bekrn\n",
            "grandstaff_dataset/chopin/mazurkas/mazurka17-1/min3_down_m-24-28.bekrn\n",
            "grandstaff_dataset/chopin/mazurkas/mazurka17-1/min3_down_m-60-64.bekrn\n",
            "grandstaff_dataset/chopin/mazurkas/mazurka17-1/maj2_up_m-27-30.bekrn\n",
            "grandstaff_dataset/chopin/mazurkas/mazurka17-1/min3_up_m-25-30.bekrn\n",
            "grandstaff_dataset/chopin/mazurkas/mazurka17-1/maj3_up_m-25-30.bekrn\n",
            "grandstaff_dataset/chopin/mazurkas/mazurka17-1/maj2_down_m-20-24.bekrn\n",
            "grandstaff_dataset/chopin/mazurkas/mazurka17-1/maj2_up_m-36-39.bekrn\n",
            "grandstaff_dataset/chopin/mazurkas/mazurka17-1/maj3_down_m-25-30.bekrn\n",
            "grandstaff_dataset/chopin/mazurkas/mazurka17-1/min3_up_m-35-40.bekrn\n",
            "grandstaff_dataset/chopin/mazurkas/mazurka17-1/min3_down_m-36-40.bekrn\n",
            "grandstaff_dataset/chopin/mazurkas/mazurka17-1/maj3_up_m-20-25.bekrn\n",
            "grandstaff_dataset/chopin/mazurkas/mazurka17-1/maj2_down_m-40-44.bekrn\n",
            "grandstaff_dataset/chopin/mazurkas/mazurka17-1/maj3_down_m-10-15.bekrn\n",
            "grandstaff_dataset/chopin/mazurkas/mazurka17-1/min3_down_m-20-24.bekrn\n",
            "grandstaff_dataset/chopin/mazurkas/mazurka17-1/maj2_up_m-6-9.bekrn\n",
            "grandstaff_dataset/chopin/mazurkas/mazurka17-1/maj2_up_m-12-15.bekrn\n",
            "grandstaff_dataset/chopin/mazurkas/mazurka17-1/min3_down_m-40-44.bekrn\n",
            "grandstaff_dataset/chopin/mazurkas/mazurka17-1/min3_up_m-10-15.bekrn\n",
            "grandstaff_dataset/chopin/mazurkas/mazurka17-1/maj2_down_m-12-16.bekrn\n",
            "grandstaff_dataset/chopin/mazurkas/mazurka17-1/min3_up_m-60-65.bekrn\n",
            "grandstaff_dataset/chopin/mazurkas/mazurka17-1/min3_down_m-28-32.bekrn\n",
            "grandstaff_dataset/chopin/mazurkas/mazurka17-1/original_m-25-30.bekrn\n",
            "grandstaff_dataset/chopin/mazurkas/mazurka17-1/maj2_up_m-39-42.bekrn\n",
            "grandstaff_dataset/chopin/mazurkas/mazurka17-1/maj3_down_m-35-40.bekrn\n",
            "grandstaff_dataset/chopin/mazurkas/mazurka17-1/maj2_up_m-21-24.bekrn\n",
            "grandstaff_dataset/chopin/mazurkas/mazurka17-1/maj2_down_m-24-28.bekrn\n",
            "grandstaff_dataset/chopin/mazurkas/mazurka17-1/maj2_down_m-28-32.bekrn\n",
            "grandstaff_dataset/chopin/mazurkas/mazurka17-1/maj2_up_m-60-63.bekrn\n",
            "grandstaff_dataset/chopin/mazurkas/mazurka17-1/maj2_down_m-8-12.bekrn\n",
            "grandstaff_dataset/chopin/mazurkas/mazurka17-1/maj2_up_m-18-21.bekrn\n",
            "grandstaff_dataset/chopin/mazurkas/mazurka17-1/original_m-20-25.bekrn\n",
            "grandstaff_dataset/chopin/mazurkas/mazurka17-1/maj2_down_m-60-64.bekrn\n",
            "grandstaff_dataset/chopin/mazurkas/mazurka17-1/original_m-10-15.bekrn\n",
            "grandstaff_dataset/chopin/mazurkas/mazurka17-1/maj2_up_m-24-27.bekrn\n",
            "grandstaff_dataset/chopin/mazurkas/mazurka17-1/original_m-35-40.bekrn\n",
            "grandstaff_dataset/chopin/mazurkas/mazurka17-1/maj3_up_m-60-65.bekrn\n",
            "grandstaff_dataset/chopin/mazurkas/mazurka17-1/maj3_up_m-35-40.bekrn\n",
            "grandstaff_dataset/chopin/mazurkas/mazurka17-1/min3_down_m-12-16.bekrn\n",
            "grandstaff_dataset/chopin/mazurkas/mazurka50-2/maj2_down_m-81-86.bekrn\n",
            "grandstaff_dataset/chopin/mazurkas/mazurka50-2/maj3_down_m-29-33.bekrn\n",
            "grandstaff_dataset/chopin/mazurkas/mazurka50-2/maj3_up_m-1-6.bekrn\n",
            "grandstaff_dataset/chopin/mazurkas/mazurka50-2/min3_up_m-52-55.bekrn\n",
            "grandstaff_dataset/chopin/mazurkas/mazurka50-2/min3_up_m-22-25.bekrn\n",
            "grandstaff_dataset/chopin/mazurkas/mazurka50-2/maj3_up_m-21-26.bekrn\n",
            "grandstaff_dataset/chopin/mazurkas/mazurka50-2/maj2_up_m-101-106.bekrn\n",
            "grandstaff_dataset/chopin/mazurkas/mazurka50-2/maj3_down_m-1-5.bekrn\n",
            "grandstaff_dataset/chopin/mazurkas/mazurka50-2/maj2_up_m-41-46.bekrn\n",
            "grandstaff_dataset/chopin/mazurkas/mazurka50-2/original_m-85-88.bekrn\n",
            "grandstaff_dataset/chopin/mazurkas/mazurka50-2/maj2_down_m-101-106.bekrn\n",
            "grandstaff_dataset/chopin/mazurkas/mazurka50-2/maj2_down_m-41-46.bekrn\n",
            "grandstaff_dataset/chopin/mazurkas/mazurka50-2/maj3_up_m-101-106.bekrn\n",
            "grandstaff_dataset/chopin/mazurkas/mazurka50-2/min3_down_m-10-13.bekrn\n",
            "grandstaff_dataset/chopin/mazurkas/mazurka50-2/min3_up_m-1-4.bekrn\n",
            "grandstaff_dataset/chopin/mazurkas/mazurka50-2/min3_down_m-103-106.bekrn\n",
            "grandstaff_dataset/chopin/mazurkas/mazurka50-2/min3_down_m-52-55.bekrn\n",
            "grandstaff_dataset/chopin/mazurkas/mazurka50-2/min3_down_m-82-85.bekrn\n",
            "grandstaff_dataset/chopin/mazurkas/mazurka50-2/min3_up_m-76-79.bekrn\n",
            "grandstaff_dataset/chopin/mazurkas/mazurka50-2/min3_down_m-4-7.bekrn\n",
            "grandstaff_dataset/chopin/mazurkas/mazurka50-2/original_m-43-46.bekrn\n",
            "grandstaff_dataset/chopin/mazurkas/mazurka50-2/min3_up_m-82-85.bekrn\n",
            "grandstaff_dataset/chopin/mazurkas/mazurka50-2/maj3_up_m-76-81.bekrn\n",
            "grandstaff_dataset/chopin/mazurkas/mazurka50-2/min3_up_m-100-103.bekrn\n",
            "grandstaff_dataset/chopin/mazurkas/mazurka50-2/original_m-40-43.bekrn\n",
            "grandstaff_dataset/chopin/mazurkas/mazurka50-2/original_m-100-103.bekrn\n",
            "grandstaff_dataset/chopin/mazurkas/mazurka50-2/min3_up_m-58-61.bekrn\n",
            "grandstaff_dataset/chopin/mazurkas/mazurka50-2/maj3_up_m-56-61.bekrn\n",
            "grandstaff_dataset/chopin/mazurkas/mazurka50-2/min3_up_m-49-52.bekrn\n",
            "grandstaff_dataset/chopin/mazurkas/mazurka50-2/min3_down_m-76-79.bekrn\n",
            "grandstaff_dataset/chopin/mazurkas/mazurka50-2/maj2_down_m-21-26.bekrn\n",
            "grandstaff_dataset/chopin/mazurkas/mazurka50-2/maj2_down_m-1-6.bekrn\n",
            "grandstaff_dataset/chopin/mazurkas/mazurka50-2/min3_down_m-28-31.bekrn\n",
            "grandstaff_dataset/chopin/mazurkas/mazurka50-2/original_m-28-31.bekrn\n",
            "grandstaff_dataset/chopin/mazurkas/mazurka50-2/original_m-52-55.bekrn\n",
            "grandstaff_dataset/chopin/mazurkas/mazurka50-2/maj3_down_m-9-13.bekrn\n",
            "grandstaff_dataset/chopin/mazurkas/mazurka50-2/min3_up_m-43-46.bekrn\n",
            "grandstaff_dataset/chopin/mazurkas/mazurka50-2/maj3_up_m-81-86.bekrn\n",
            "grandstaff_dataset/chopin/mazurkas/mazurka50-2/min3_down_m-100-103.bekrn\n",
            "grandstaff_dataset/chopin/mazurkas/mazurka50-2/maj2_down_m-6-11.bekrn\n",
            "grandstaff_dataset/chopin/mazurkas/mazurka50-2/maj3_up_m-31-36.bekrn\n",
            "grandstaff_dataset/chopin/mazurkas/mazurka50-2/maj2_down_m-51-56.bekrn\n",
            "grandstaff_dataset/chopin/mazurkas/mazurka50-2/maj3_down_m-61-65.bekrn\n",
            "grandstaff_dataset/chopin/mazurkas/mazurka50-2/maj3_down_m-57-61.bekrn\n",
            "grandstaff_dataset/chopin/mazurkas/mazurka50-2/maj2_up_m-21-26.bekrn\n",
            "grandstaff_dataset/chopin/mazurkas/mazurka50-2/maj3_down_m-41-45.bekrn\n",
            "grandstaff_dataset/chopin/mazurkas/mazurka50-2/maj2_up_m-1-6.bekrn\n",
            "grandstaff_dataset/chopin/mazurkas/mazurka50-2/maj3_down_m-33-37.bekrn\n",
            "grandstaff_dataset/chopin/mazurkas/mazurka50-2/maj3_up_m-36-41.bekrn\n",
            "grandstaff_dataset/chopin/mazurkas/mazurka50-2/min3_down_m-70-73.bekrn\n",
            "grandstaff_dataset/chopin/mazurkas/mazurka50-2/min3_up_m-10-13.bekrn\n",
            "grandstaff_dataset/chopin/mazurkas/mazurka50-2/min3_down_m-55-58.bekrn\n",
            "grandstaff_dataset/chopin/mazurkas/mazurka50-2/maj3_down_m-21-25.bekrn\n",
            "grandstaff_dataset/chopin/mazurkas/mazurka50-2/original_m-55-58.bekrn\n",
            "grandstaff_dataset/chopin/mazurkas/mazurka50-2/maj2_down_m-31-36.bekrn\n",
            "grandstaff_dataset/chopin/mazurkas/mazurka50-2/maj2_down_m-26-31.bekrn\n",
            "grandstaff_dataset/chopin/mazurkas/mazurka50-2/maj3_down_m-97-101.bekrn\n",
            "grandstaff_dataset/chopin/mazurkas/mazurka50-2/maj2_up_m-26-31.bekrn\n",
            "grandstaff_dataset/chopin/mazurkas/mazurka50-2/maj3_down_m-77-81.bekrn\n",
            "grandstaff_dataset/chopin/mazurkas/mazurka50-2/maj3_up_m-96-101.bekrn\n",
            "grandstaff_dataset/chopin/mazurkas/mazurka50-2/maj3_down_m-53-57.bekrn\n",
            "grandstaff_dataset/chopin/mazurkas/mazurka50-2/min3_down_m-7-10.bekrn\n",
            "grandstaff_dataset/chopin/mazurkas/mazurka50-2/original_m-103-106.bekrn\n",
            "grandstaff_dataset/chopin/mazurkas/mazurka50-2/min3_down_m-31-34.bekrn\n",
            "grandstaff_dataset/chopin/mazurkas/mazurka50-2/maj2_up_m-81-86.bekrn\n",
            "grandstaff_dataset/chopin/mazurkas/mazurka50-2/maj2_up_m-76-81.bekrn\n",
            "grandstaff_dataset/chopin/mazurkas/mazurka50-2/min3_up_m-97-100.bekrn\n",
            "grandstaff_dataset/chopin/mazurkas/mazurka50-2/maj3_down_m-49-53.bekrn\n",
            "grandstaff_dataset/chopin/mazurkas/mazurka50-2/min3_up_m-85-88.bekrn\n",
            "grandstaff_dataset/chopin/mazurkas/mazurka50-2/min3_up_m-28-31.bekrn\n",
            "grandstaff_dataset/chopin/mazurkas/mazurka50-2/original_m-76-79.bekrn\n",
            "grandstaff_dataset/chopin/mazurkas/mazurka50-2/maj3_up_m-6-11.bekrn\n",
            "grandstaff_dataset/chopin/mazurkas/mazurka50-2/original_m-22-25.bekrn\n",
            "grandstaff_dataset/chopin/mazurkas/mazurka50-2/original_m-7-10.bekrn\n",
            "grandstaff_dataset/chopin/mazurkas/mazurka50-2/maj3_down_m-85-89.bekrn\n",
            "grandstaff_dataset/chopin/mazurkas/mazurka50-2/min3_down_m-25-28.bekrn\n",
            "grandstaff_dataset/chopin/mazurkas/mazurka50-2/min3_down_m-97-100.bekrn\n",
            "grandstaff_dataset/chopin/mazurkas/mazurka50-2/min3_up_m-34-37.bekrn\n",
            "grandstaff_dataset/chopin/mazurkas/mazurka50-2/maj3_down_m-5-9.bekrn\n",
            "grandstaff_dataset/chopin/mazurkas/mazurka50-2/maj3_down_m-93-97.bekrn\n",
            "grandstaff_dataset/chopin/mazurkas/mazurka50-2/maj3_up_m-41-46.bekrn\n",
            "grandstaff_dataset/chopin/mazurkas/mazurka50-2/original_m-82-85.bekrn\n",
            "grandstaff_dataset/chopin/mazurkas/mazurka50-2/original_m-49-52.bekrn\n",
            "grandstaff_dataset/chopin/mazurkas/mazurka50-2/maj2_down_m-76-81.bekrn\n",
            "grandstaff_dataset/chopin/mazurkas/mazurka50-2/maj3_down_m-81-85.bekrn\n",
            "grandstaff_dataset/chopin/mazurkas/mazurka50-2/maj2_up_m-36-41.bekrn\n",
            "grandstaff_dataset/chopin/mazurkas/mazurka50-2/maj3_down_m-25-29.bekrn\n",
            "grandstaff_dataset/chopin/mazurkas/mazurka50-2/original_m-31-34.bekrn\n",
            "grandstaff_dataset/chopin/mazurkas/mazurka50-2/original_m-25-28.bekrn\n",
            "grandstaff_dataset/chopin/mazurkas/mazurka50-2/maj3_down_m-69-73.bekrn\n",
            "grandstaff_dataset/chopin/mazurkas/mazurka50-2/min3_up_m-25-28.bekrn\n",
            "grandstaff_dataset/chopin/mazurkas/mazurka50-2/min3_down_m-58-61.bekrn\n",
            "grandstaff_dataset/chopin/mazurkas/mazurka50-2/maj3_up_m-26-31.bekrn\n",
            "grandstaff_dataset/chopin/mazurkas/mazurka50-2/min3_up_m-7-10.bekrn\n",
            "grandstaff_dataset/chopin/mazurkas/mazurka50-2/original_m-1-4.bekrn\n",
            "grandstaff_dataset/chopin/mazurkas/mazurka50-2/original_m-58-61.bekrn\n",
            "grandstaff_dataset/chopin/mazurkas/mazurka50-2/original_m-70-73.bekrn\n",
            "grandstaff_dataset/chopin/mazurkas/mazurka50-2/min3_down_m-61-64.bekrn\n",
            "grandstaff_dataset/chopin/mazurkas/mazurka50-2/original_m-4-7.bekrn\n",
            "grandstaff_dataset/chopin/mazurkas/mazurka50-2/min3_down_m-49-52.bekrn\n",
            "grandstaff_dataset/chopin/mazurkas/mazurka50-2/min3_down_m-85-88.bekrn\n",
            "grandstaff_dataset/chopin/mazurkas/mazurka50-2/min3_down_m-40-43.bekrn\n",
            "grandstaff_dataset/chopin/mazurkas/mazurka50-2/maj2_up_m-51-56.bekrn\n",
            "grandstaff_dataset/chopin/mazurkas/mazurka50-2/maj2_up_m-56-61.bekrn\n",
            "grandstaff_dataset/chopin/mazurkas/mazurka50-2/original_m-97-100.bekrn\n",
            "grandstaff_dataset/chopin/mazurkas/mazurka50-2/min3_up_m-4-7.bekrn\n",
            "grandstaff_dataset/chopin/mazurkas/mazurka50-2/maj2_down_m-36-41.bekrn\n",
            "grandstaff_dataset/chopin/mazurkas/mazurka50-2/min3_up_m-31-34.bekrn\n",
            "grandstaff_dataset/chopin/mazurkas/mazurka50-2/min3_down_m-1-4.bekrn\n",
            "grandstaff_dataset/chopin/mazurkas/mazurka50-2/maj2_up_m-6-11.bekrn\n",
            "grandstaff_dataset/chopin/mazurkas/mazurka50-2/maj2_up_m-96-101.bekrn\n",
            "grandstaff_dataset/chopin/mazurkas/mazurka50-2/min3_up_m-70-73.bekrn\n",
            "grandstaff_dataset/chopin/mazurkas/mazurka50-2/min3_up_m-40-43.bekrn\n",
            "grandstaff_dataset/chopin/mazurkas/mazurka50-2/maj3_up_m-51-56.bekrn\n",
            "grandstaff_dataset/chopin/mazurkas/mazurka50-2/min3_up_m-61-64.bekrn\n",
            "grandstaff_dataset/chopin/mazurkas/mazurka50-2/maj3_down_m-101-105.bekrn\n",
            "grandstaff_dataset/chopin/mazurkas/mazurka50-2/min3_down_m-34-37.bekrn\n",
            "grandstaff_dataset/chopin/mazurkas/mazurka50-2/original_m-34-37.bekrn\n",
            "grandstaff_dataset/chopin/mazurkas/mazurka50-2/maj2_down_m-96-101.bekrn\n",
            "grandstaff_dataset/chopin/mazurkas/mazurka50-2/min3_up_m-103-106.bekrn\n",
            "grandstaff_dataset/chopin/mazurkas/mazurka50-2/original_m-10-13.bekrn\n",
            "grandstaff_dataset/chopin/mazurkas/mazurka50-2/original_m-61-64.bekrn\n",
            "grandstaff_dataset/chopin/mazurkas/mazurka50-2/min3_down_m-22-25.bekrn\n",
            "grandstaff_dataset/chopin/mazurkas/mazurka50-2/min3_up_m-55-58.bekrn\n",
            "grandstaff_dataset/chopin/mazurkas/mazurka50-2/min3_down_m-43-46.bekrn\n",
            "grandstaff_dataset/chopin/mazurkas/mazurka50-2/maj2_down_m-56-61.bekrn\n",
            "grandstaff_dataset/chopin/mazurkas/mazurka50-2/maj2_up_m-31-36.bekrn\n",
            "grandstaff_dataset/chopin/mazurkas/mazurka30-1/maj3_up_m-27-30.bekrn\n",
            "grandstaff_dataset/chopin/mazurkas/mazurka30-1/maj3_down_m-24-27.bekrn\n",
            "grandstaff_dataset/chopin/mazurkas/mazurka30-1/min3_up_m-24-27.bekrn\n",
            "grandstaff_dataset/chopin/mazurkas/mazurka30-1/maj3_up_m-24-27.bekrn\n",
            "grandstaff_dataset/chopin/mazurkas/mazurka30-1/maj2_up_m-25-30.bekrn\n",
            "grandstaff_dataset/chopin/mazurkas/mazurka30-1/original_m-33-36.bekrn\n",
            "grandstaff_dataset/chopin/mazurkas/mazurka30-1/original_m-30-33.bekrn\n",
            "grandstaff_dataset/chopin/mazurkas/mazurka30-1/maj2_down_m-32-36.bekrn\n",
            "grandstaff_dataset/chopin/mazurkas/mazurka30-1/min3_up_m-27-30.bekrn\n",
            "grandstaff_dataset/chopin/mazurkas/mazurka30-1/maj3_down_m-30-33.bekrn\n",
            "grandstaff_dataset/chopin/mazurkas/mazurka30-1/min3_down_m-24-27.bekrn\n",
            "grandstaff_dataset/chopin/mazurkas/mazurka30-1/original_m-24-27.bekrn\n",
            "grandstaff_dataset/chopin/mazurkas/mazurka30-1/min3_up_m-33-36.bekrn\n",
            "grandstaff_dataset/chopin/mazurkas/mazurka30-1/original_m-27-30.bekrn\n",
            "grandstaff_dataset/chopin/mazurkas/mazurka30-1/maj3_down_m-33-36.bekrn\n",
            "grandstaff_dataset/chopin/mazurkas/mazurka30-1/min3_down_m-33-36.bekrn\n",
            "grandstaff_dataset/chopin/mazurkas/mazurka30-1/min3_down_m-27-30.bekrn\n",
            "grandstaff_dataset/chopin/mazurkas/mazurka30-1/maj3_down_m-27-30.bekrn\n",
            "grandstaff_dataset/chopin/mazurkas/mazurka30-1/maj2_down_m-24-28.bekrn\n",
            "grandstaff_dataset/chopin/mazurkas/mazurka30-1/min3_up_m-30-33.bekrn\n",
            "grandstaff_dataset/chopin/mazurkas/mazurka30-1/maj2_down_m-28-32.bekrn\n",
            "grandstaff_dataset/chopin/mazurkas/mazurka30-1/maj3_up_m-33-36.bekrn\n",
            "grandstaff_dataset/chopin/mazurkas/mazurka30-1/min3_down_m-30-33.bekrn\n",
            "grandstaff_dataset/chopin/mazurkas/mazurka30-1/maj2_up_m-30-35.bekrn\n",
            "grandstaff_dataset/chopin/mazurkas/mazurka30-1/maj3_up_m-30-33.bekrn\n",
            "grandstaff_dataset/chopin/mazurkas/mazurka41-1/maj2_up_m-77-81.bekrn\n",
            "grandstaff_dataset/chopin/mazurkas/mazurka41-1/maj2_up_m-125-129.bekrn\n",
            "grandstaff_dataset/chopin/mazurkas/mazurka41-1/original_m-91-96.bekrn\n",
            "grandstaff_dataset/chopin/mazurkas/mazurka41-1/min3_down_m-127-130.bekrn\n",
            "grandstaff_dataset/chopin/mazurkas/mazurka41-1/maj3_down_m-133-136.bekrn\n",
            "grandstaff_dataset/chopin/mazurkas/mazurka41-1/maj2_down_m-88-91.bekrn\n",
            "grandstaff_dataset/chopin/mazurkas/mazurka41-1/maj3_up_m-45-49.bekrn\n",
            "grandstaff_dataset/chopin/mazurkas/mazurka41-1/maj2_down_m-115-118.bekrn\n",
            "grandstaff_dataset/chopin/mazurkas/mazurka41-1/maj3_down_m-7-10.bekrn\n",
            "grandstaff_dataset/chopin/mazurkas/mazurka41-1/original_m-131-136.bekrn\n",
            "grandstaff_dataset/chopin/mazurkas/mazurka41-1/maj2_down_m-91-94.bekrn\n",
            "grandstaff_dataset/chopin/mazurkas/mazurka41-1/min3_down_m-13-16.bekrn\n",
            "grandstaff_dataset/chopin/mazurkas/mazurka41-1/maj3_up_m-109-113.bekrn\n",
            "grandstaff_dataset/chopin/mazurkas/mazurka41-1/maj3_down_m-118-121.bekrn\n",
            "grandstaff_dataset/chopin/mazurkas/mazurka41-1/maj2_down_m-79-82.bekrn\n",
            "grandstaff_dataset/chopin/mazurkas/mazurka41-1/maj3_up_m-121-125.bekrn\n",
            "grandstaff_dataset/chopin/mazurkas/mazurka41-1/maj2_up_m-129-133.bekrn\n",
            "grandstaff_dataset/chopin/mazurkas/mazurka41-1/min3_down_m-139-142.bekrn\n",
            "grandstaff_dataset/chopin/mazurkas/mazurka41-1/maj3_down_m-106-109.bekrn\n",
            "grandstaff_dataset/chopin/mazurkas/mazurka41-1/maj2_down_m-100-103.bekrn\n",
            "grandstaff_dataset/chopin/mazurkas/mazurka41-1/min3_down_m-112-115.bekrn\n",
            "grandstaff_dataset/chopin/mazurkas/mazurka41-1/min3_down_m-10-13.bekrn\n",
            "grandstaff_dataset/chopin/mazurkas/mazurka41-1/maj3_down_m-127-130.bekrn\n",
            "grandstaff_dataset/chopin/mazurkas/mazurka41-1/min3_down_m-82-85.bekrn\n",
            "grandstaff_dataset/chopin/mazurkas/mazurka41-1/maj2_up_m-85-89.bekrn\n",
            "grandstaff_dataset/chopin/mazurkas/mazurka41-1/maj2_down_m-109-112.bekrn\n",
            "grandstaff_dataset/chopin/mazurkas/mazurka41-1/min3_down_m-4-7.bekrn\n",
            "grandstaff_dataset/chopin/mazurkas/mazurka41-1/maj3_down_m-73-76.bekrn\n",
            "grandstaff_dataset/chopin/mazurkas/mazurka41-1/maj3_down_m-139-142.bekrn\n",
            "grandstaff_dataset/chopin/mazurkas/mazurka41-1/min3_up_m-97-101.bekrn\n",
            "grandstaff_dataset/chopin/mazurkas/mazurka41-1/maj3_down_m-46-49.bekrn\n",
            "grandstaff_dataset/chopin/mazurkas/mazurka41-1/maj2_down_m-13-16.bekrn\n",
            "grandstaff_dataset/chopin/mazurkas/mazurka41-1/min3_up_m-45-49.bekrn\n",
            "grandstaff_dataset/chopin/mazurkas/mazurka41-1/maj2_down_m-97-100.bekrn\n",
            "grandstaff_dataset/chopin/mazurkas/mazurka41-1/maj2_down_m-124-127.bekrn\n",
            "grandstaff_dataset/chopin/mazurkas/mazurka41-1/min3_up_m-17-21.bekrn\n",
            "grandstaff_dataset/chopin/mazurkas/mazurka41-1/maj3_down_m-97-100.bekrn\n",
            "grandstaff_dataset/chopin/mazurkas/mazurka41-1/maj2_down_m-73-76.bekrn\n",
            "grandstaff_dataset/chopin/mazurkas/mazurka41-1/maj2_up_m-89-93.bekrn\n",
            "grandstaff_dataset/chopin/mazurkas/mazurka41-1/min3_up_m-133-137.bekrn\n",
            "grandstaff_dataset/chopin/mazurkas/mazurka41-1/maj3_down_m-22-25.bekrn\n",
            "grandstaff_dataset/chopin/mazurkas/mazurka41-1/min3_down_m-88-91.bekrn\n",
            "grandstaff_dataset/chopin/mazurkas/mazurka41-1/min3_up_m-129-133.bekrn\n",
            "grandstaff_dataset/chopin/mazurkas/mazurka41-1/maj3_down_m-13-16.bekrn\n",
            "grandstaff_dataset/chopin/mazurkas/mazurka41-1/maj2_down_m-133-136.bekrn\n",
            "grandstaff_dataset/chopin/mazurkas/mazurka41-1/original_m-16-21.bekrn\n",
            "grandstaff_dataset/chopin/mazurkas/mazurka41-1/min3_down_m-76-79.bekrn\n",
            "grandstaff_dataset/chopin/mazurkas/mazurka41-1/maj2_down_m-10-13.bekrn\n",
            "grandstaff_dataset/chopin/mazurkas/mazurka41-1/min3_up_m-29-33.bekrn\n",
            "grandstaff_dataset/chopin/mazurkas/mazurka41-1/maj2_up_m-33-37.bekrn\n",
            "grandstaff_dataset/chopin/mazurkas/mazurka41-1/min3_down_m-28-31.bekrn\n",
            "grandstaff_dataset/chopin/mazurkas/mazurka41-1/maj2_up_m-17-21.bekrn\n",
            "grandstaff_dataset/chopin/mazurkas/mazurka41-1/maj3_up_m-133-137.bekrn\n",
            "grandstaff_dataset/chopin/mazurkas/mazurka41-1/maj2_down_m-46-49.bekrn\n",
            "grandstaff_dataset/chopin/mazurkas/mazurka41-1/maj3_down_m-94-97.bekrn\n",
            "grandstaff_dataset/chopin/mazurkas/mazurka41-1/min3_down_m-100-103.bekrn\n",
            "grandstaff_dataset/chopin/mazurkas/mazurka41-1/min3_up_m-21-25.bekrn\n",
            "grandstaff_dataset/chopin/mazurkas/mazurka41-1/maj3_up_m-125-129.bekrn\n",
            "grandstaff_dataset/chopin/mazurkas/mazurka41-1/min3_up_m-73-77.bekrn\n",
            "grandstaff_dataset/chopin/mazurkas/mazurka41-1/maj2_up_m-121-125.bekrn\n",
            "grandstaff_dataset/chopin/mazurkas/mazurka41-1/maj3_down_m-88-91.bekrn\n",
            "grandstaff_dataset/chopin/mazurkas/mazurka41-1/min3_up_m-85-89.bekrn\n",
            "grandstaff_dataset/chopin/mazurkas/mazurka41-1/maj3_down_m-76-79.bekrn\n",
            "grandstaff_dataset/chopin/mazurkas/mazurka41-1/maj3_up_m-81-85.bekrn\n",
            "grandstaff_dataset/chopin/mazurkas/mazurka41-1/maj2_up_m-45-49.bekrn\n",
            "grandstaff_dataset/chopin/mazurkas/mazurka41-1/maj3_down_m-19-22.bekrn\n",
            "grandstaff_dataset/chopin/mazurkas/mazurka41-1/original_m-71-76.bekrn\n",
            "grandstaff_dataset/chopin/mazurkas/mazurka41-1/maj3_down_m-85-88.bekrn\n",
            "grandstaff_dataset/chopin/mazurkas/mazurka41-1/min3_up_m-13-17.bekrn\n",
            "grandstaff_dataset/chopin/mazurkas/mazurka41-1/min3_up_m-1-5.bekrn\n",
            "grandstaff_dataset/chopin/mazurkas/mazurka41-1/maj3_down_m-82-85.bekrn\n",
            "grandstaff_dataset/chopin/mazurkas/mazurka41-1/maj2_down_m-82-85.bekrn\n",
            "grandstaff_dataset/chopin/mazurkas/mazurka41-1/maj2_down_m-25-28.bekrn\n",
            "grandstaff_dataset/chopin/mazurkas/mazurka41-1/maj2_up_m-1-5.bekrn\n",
            "grandstaff_dataset/chopin/mazurkas/mazurka41-1/maj2_down_m-127-130.bekrn\n",
            "grandstaff_dataset/chopin/mazurkas/mazurka41-1/min3_up_m-89-93.bekrn\n",
            "grandstaff_dataset/chopin/mazurkas/mazurka41-1/maj3_down_m-100-103.bekrn\n",
            "grandstaff_dataset/chopin/mazurkas/mazurka41-1/min3_up_m-121-125.bekrn\n",
            "grandstaff_dataset/chopin/mazurkas/mazurka41-1/maj2_down_m-139-142.bekrn\n",
            "grandstaff_dataset/chopin/mazurkas/mazurka41-1/min3_down_m-115-118.bekrn\n",
            "grandstaff_dataset/chopin/mazurkas/mazurka41-1/maj2_down_m-19-22.bekrn\n",
            "grandstaff_dataset/chopin/mazurkas/mazurka41-1/original_m-81-86.bekrn\n",
            "grandstaff_dataset/chopin/mazurkas/mazurka41-1/min3_up_m-109-113.bekrn\n",
            "grandstaff_dataset/chopin/mazurkas/mazurka41-1/maj2_up_m-97-101.bekrn\n",
            "grandstaff_dataset/chopin/mazurkas/mazurka41-1/min3_down_m-109-112.bekrn\n",
            "grandstaff_dataset/chopin/mazurkas/mazurka41-1/min3_down_m-7-10.bekrn\n",
            "grandstaff_dataset/chopin/mazurkas/mazurka41-1/min3_down_m-79-82.bekrn\n",
            "grandstaff_dataset/chopin/mazurkas/mazurka41-1/maj3_up_m-129-133.bekrn\n",
            "grandstaff_dataset/chopin/mazurkas/mazurka41-1/min3_up_m-105-109.bekrn\n",
            "grandstaff_dataset/chopin/mazurkas/mazurka41-1/min3_down_m-31-34.bekrn\n",
            "grandstaff_dataset/chopin/mazurkas/mazurka41-1/original_m-6-11.bekrn\n",
            "grandstaff_dataset/chopin/mazurkas/mazurka41-1/original_m-26-31.bekrn\n",
            "grandstaff_dataset/chopin/mazurkas/mazurka41-1/maj3_up_m-77-81.bekrn\n",
            "grandstaff_dataset/chopin/mazurkas/mazurka41-1/maj2_up_m-109-113.bekrn\n",
            "grandstaff_dataset/chopin/mazurkas/mazurka41-1/maj2_up_m-81-85.bekrn\n",
            "grandstaff_dataset/chopin/mazurkas/mazurka41-1/maj3_down_m-31-34.bekrn\n",
            "grandstaff_dataset/chopin/mazurkas/mazurka41-1/maj3_up_m-33-37.bekrn\n",
            "grandstaff_dataset/chopin/mazurkas/mazurka41-1/maj2_down_m-85-88.bekrn\n",
            "grandstaff_dataset/chopin/mazurkas/mazurka41-1/min3_up_m-93-97.bekrn\n",
            "grandstaff_dataset/chopin/mazurkas/mazurka41-1/maj3_up_m-85-89.bekrn\n",
            "grandstaff_dataset/chopin/mazurkas/mazurka41-1/maj3_down_m-10-13.bekrn\n",
            "grandstaff_dataset/chopin/mazurkas/mazurka41-1/maj3_down_m-4-7.bekrn\n",
            "grandstaff_dataset/chopin/mazurkas/mazurka41-1/min3_up_m-5-9.bekrn\n",
            "grandstaff_dataset/chopin/mazurkas/mazurka41-1/maj2_down_m-43-46.bekrn\n",
            "grandstaff_dataset/chopin/mazurkas/mazurka41-1/maj2_down_m-4-7.bekrn\n",
            "grandstaff_dataset/chopin/mazurkas/mazurka41-1/min3_down_m-46-49.bekrn\n",
            "grandstaff_dataset/chopin/mazurkas/mazurka41-1/maj2_up_m-29-33.bekrn\n",
            "grandstaff_dataset/chopin/mazurkas/mazurka41-1/maj2_down_m-16-19.bekrn\n",
            "grandstaff_dataset/chopin/mazurkas/mazurka41-1/maj2_down_m-106-109.bekrn\n",
            "grandstaff_dataset/chopin/mazurkas/mazurka41-1/original_m-21-26.bekrn\n",
            "grandstaff_dataset/chopin/mazurkas/mazurka41-1/original_m-11-16.bekrn\n",
            "grandstaff_dataset/chopin/mazurkas/mazurka41-1/min3_down_m-25-28.bekrn\n",
            "grandstaff_dataset/chopin/mazurkas/mazurka41-1/min3_down_m-94-97.bekrn\n",
            "grandstaff_dataset/chopin/mazurkas/mazurka41-1/maj2_up_m-21-25.bekrn\n",
            "grandstaff_dataset/chopin/mazurkas/mazurka41-1/maj3_down_m-43-46.bekrn\n",
            "grandstaff_dataset/chopin/mazurkas/mazurka41-1/maj3_up_m-73-77.bekrn\n",
            "grandstaff_dataset/chopin/mazurkas/mazurka41-1/min3_down_m-97-100.bekrn\n",
            "grandstaff_dataset/chopin/mazurkas/mazurka41-1/maj2_down_m-28-31.bekrn\n",
            "grandstaff_dataset/chopin/mazurkas/mazurka41-1/maj3_down_m-124-127.bekrn\n",
            "grandstaff_dataset/chopin/mazurkas/mazurka41-1/maj2_up_m-5-9.bekrn\n",
            "grandstaff_dataset/chopin/mazurkas/mazurka41-1/min3_down_m-16-19.bekrn\n",
            "grandstaff_dataset/chopin/mazurkas/mazurka41-1/maj3_up_m-5-9.bekrn\n",
            "grandstaff_dataset/chopin/mazurkas/mazurka41-1/maj2_up_m-73-77.bekrn\n",
            "grandstaff_dataset/chopin/mazurkas/mazurka41-1/maj3_down_m-115-118.bekrn\n",
            "grandstaff_dataset/chopin/mazurkas/mazurka41-1/maj3_down_m-112-115.bekrn\n",
            "grandstaff_dataset/chopin/mazurkas/mazurka41-1/maj3_down_m-91-94.bekrn\n",
            "grandstaff_dataset/chopin/mazurkas/mazurka41-1/original_m-96-101.bekrn\n",
            "grandstaff_dataset/chopin/mazurkas/mazurka41-1/min3_down_m-124-127.bekrn\n",
            "grandstaff_dataset/chopin/mazurkas/mazurka41-1/maj2_down_m-118-121.bekrn\n",
            "grandstaff_dataset/chopin/mazurkas/mazurka41-1/min3_up_m-81-85.bekrn\n",
            "grandstaff_dataset/chopin/mazurkas/mazurka41-1/maj2_up_m-25-29.bekrn\n",
            "grandstaff_dataset/chopin/mazurkas/mazurka41-1/maj3_down_m-121-124.bekrn\n",
            "grandstaff_dataset/chopin/mazurkas/mazurka41-1/min3_down_m-91-94.bekrn\n",
            "grandstaff_dataset/chopin/mazurkas/mazurka41-1/maj3_down_m-16-19.bekrn\n",
            "grandstaff_dataset/chopin/mazurkas/mazurka41-1/maj2_up_m-13-17.bekrn\n",
            "grandstaff_dataset/chopin/mazurkas/mazurka41-1/maj2_up_m-133-137.bekrn\n",
            "grandstaff_dataset/chopin/mazurkas/mazurka41-1/maj2_down_m-76-79.bekrn\n",
            "grandstaff_dataset/chopin/mazurkas/mazurka41-1/maj2_down_m-7-10.bekrn\n",
            "grandstaff_dataset/chopin/mazurkas/mazurka41-1/min3_down_m-85-88.bekrn\n",
            "grandstaff_dataset/chopin/mazurkas/mazurka41-1/original_m-76-81.bekrn\n",
            "grandstaff_dataset/chopin/mazurkas/mazurka41-1/original_m-1-6.bekrn\n",
            "grandstaff_dataset/chopin/mazurkas/mazurka41-1/maj2_up_m-93-97.bekrn\n",
            "grandstaff_dataset/chopin/mazurkas/mazurka41-1/min3_up_m-25-29.bekrn\n",
            "grandstaff_dataset/chopin/mazurkas/mazurka41-1/maj3_down_m-109-112.bekrn\n",
            "grandstaff_dataset/chopin/mazurkas/mazurka41-1/min3_down_m-1-4.bekrn\n",
            "grandstaff_dataset/chopin/mazurkas/mazurka41-1/min3_up_m-33-37.bekrn\n",
            "grandstaff_dataset/chopin/mazurkas/mazurka41-1/min3_up_m-77-81.bekrn\n",
            "grandstaff_dataset/chopin/mazurkas/mazurka41-1/maj2_down_m-121-124.bekrn\n",
            "grandstaff_dataset/chopin/mazurkas/mazurka41-1/maj2_down_m-94-97.bekrn\n",
            "grandstaff_dataset/chopin/mazurkas/mazurka41-1/original_m-111-116.bekrn\n",
            "grandstaff_dataset/chopin/mazurkas/mazurka41-1/maj2_down_m-112-115.bekrn\n",
            "grandstaff_dataset/chopin/mazurkas/mazurka41-1/original_m-116-121.bekrn\n",
            "grandstaff_dataset/chopin/mazurkas/mazurka41-1/maj2_up_m-105-109.bekrn\n",
            "grandstaff_dataset/chopin/mazurkas/mazurka41-1/maj3_down_m-79-82.bekrn\n",
            "grandstaff_dataset/chopin/mazurkas/mazurka41-1/maj2_down_m-1-4.bekrn\n",
            "grandstaff_dataset/chopin/mazurkas/mazurka41-1/original_m-106-111.bekrn\n",
            "grandstaff_dataset/chopin/mazurkas/mazurka41-1/min3_down_m-121-124.bekrn\n",
            "grandstaff_dataset/chopin/mazurkas/mazurka41-1/maj2_down_m-31-34.bekrn\n",
            "grandstaff_dataset/chopin/mazurkas/mazurka41-1/min3_down_m-19-22.bekrn\n",
            "grandstaff_dataset/chopin/mazurkas/mazurka41-1/original_m-126-131.bekrn\n",
            "grandstaff_dataset/chopin/mazurkas/mazurka41-1/maj3_up_m-13-17.bekrn\n",
            "grandstaff_dataset/chopin/mazurkas/mazurka41-1/min3_down_m-73-76.bekrn\n",
            "grandstaff_dataset/chopin/mazurkas/mazurka41-1/original_m-86-91.bekrn\n",
            "grandstaff_dataset/chopin/mazurkas/mazurka41-1/min3_down_m-133-136.bekrn\n",
            "grandstaff_dataset/chopin/mazurkas/mazurka41-1/maj3_down_m-1-4.bekrn\n",
            "grandstaff_dataset/chopin/mazurkas/mazurka41-1/min3_down_m-22-25.bekrn\n",
            "grandstaff_dataset/chopin/mazurkas/mazurka41-1/maj3_up_m-105-109.bekrn\n",
            "grandstaff_dataset/chopin/mazurkas/mazurka41-1/min3_down_m-106-109.bekrn\n",
            "grandstaff_dataset/chopin/mazurkas/mazurka41-1/original_m-31-36.bekrn\n",
            "grandstaff_dataset/chopin/mazurkas/mazurka41-1/maj3_down_m-28-31.bekrn\n",
            "grandstaff_dataset/chopin/mazurkas/mazurka41-1/min3_down_m-43-46.bekrn\n",
            "grandstaff_dataset/chopin/mazurkas/mazurka41-1/maj2_down_m-22-25.bekrn\n",
            "grandstaff_dataset/chopin/mazurkas/mazurka41-1/min3_down_m-118-121.bekrn\n",
            "grandstaff_dataset/chopin/mazurkas/mazurka41-1/maj3_down_m-25-28.bekrn\n",
            "grandstaff_dataset/chopin/mazurkas/mazurka41-1/maj3_up_m-1-5.bekrn\n",
            "grandstaff_dataset/chopin/mazurkas/mazurka41-1/min3_up_m-125-129.bekrn\n",
            "grandstaff_dataset/chopin/mazurkas/mazurka41-1/original_m-121-126.bekrn\n",
            "grandstaff_dataset/chopin/mazurkas/mazurka-52/maj3_down_m-111-116.bekrn\n",
            "grandstaff_dataset/chopin/mazurkas/mazurka-52/maj2_down_m-81-86.bekrn\n",
            "grandstaff_dataset/chopin/mazurkas/mazurka-52/original_m-66-71.bekrn\n",
            "grandstaff_dataset/chopin/mazurkas/mazurka-52/original_m-91-96.bekrn\n",
            "grandstaff_dataset/chopin/mazurkas/mazurka-52/maj3_up_m-94-97.bekrn\n",
            "grandstaff_dataset/chopin/mazurkas/mazurka-52/maj3_down_m-56-61.bekrn\n",
            "grandstaff_dataset/chopin/mazurkas/mazurka-52/maj2_down_m-16-21.bekrn\n",
            "grandstaff_dataset/chopin/mazurkas/mazurka-52/min3_down_m-73-77.bekrn\n",
            "grandstaff_dataset/chopin/mazurkas/mazurka-52/maj3_up_m-85-88.bekrn\n",
            "grandstaff_dataset/chopin/mazurkas/mazurka-52/maj2_up_m-73-76.bekrn\n",
            "grandstaff_dataset/chopin/mazurkas/mazurka-52/min3_down_m-29-33.bekrn\n",
            "grandstaff_dataset/chopin/mazurkas/mazurka-52/maj3_down_m-86-91.bekrn\n",
            "grandstaff_dataset/chopin/mazurkas/mazurka-52/maj2_up_m-22-25.bekrn\n",
            "grandstaff_dataset/chopin/mazurkas/mazurka-52/original_m-101-106.bekrn\n",
            "grandstaff_dataset/chopin/mazurkas/mazurka-52/maj2_down_m-101-106.bekrn\n",
            "grandstaff_dataset/chopin/mazurkas/mazurka-52/maj2_up_m-10-13.bekrn\n",
            "grandstaff_dataset/chopin/mazurkas/mazurka-52/min3_down_m-109-113.bekrn\n",
            "grandstaff_dataset/chopin/mazurkas/mazurka-52/min3_up_m-9-13.bekrn\n",
            "grandstaff_dataset/chopin/mazurkas/mazurka-52/maj2_down_m-41-46.bekrn\n",
            "grandstaff_dataset/chopin/mazurkas/mazurka-52/original_m-41-46.bekrn\n",
            "grandstaff_dataset/chopin/mazurkas/mazurka-52/maj2_up_m-76-79.bekrn\n",
            "grandstaff_dataset/chopin/mazurkas/mazurka-52/maj3_up_m-58-61.bekrn\n",
            "grandstaff_dataset/chopin/mazurkas/mazurka-52/maj3_down_m-21-26.bekrn\n",
            "grandstaff_dataset/chopin/mazurkas/mazurka-52/min3_up_m-37-41.bekrn\n",
            "grandstaff_dataset/chopin/mazurkas/mazurka-52/maj2_up_m-97-100.bekrn\n",
            "grandstaff_dataset/chopin/mazurkas/mazurka-52/min3_up_m-97-101.bekrn\n",
            "grandstaff_dataset/chopin/mazurkas/mazurka-52/maj2_up_m-28-31.bekrn\n",
            "grandstaff_dataset/chopin/mazurkas/mazurka-52/min3_up_m-45-49.bekrn\n",
            "grandstaff_dataset/chopin/mazurkas/mazurka-52/maj3_down_m-16-21.bekrn\n",
            "grandstaff_dataset/chopin/mazurkas/mazurka-52/min3_up_m-65-69.bekrn\n",
            "grandstaff_dataset/chopin/mazurkas/mazurka-52/maj3_up_m-16-19.bekrn\n",
            "grandstaff_dataset/chopin/mazurkas/mazurka-52/maj2_up_m-82-85.bekrn\n",
            "grandstaff_dataset/chopin/mazurkas/mazurka-52/maj3_up_m-46-49.bekrn\n",
            "grandstaff_dataset/chopin/mazurkas/mazurka-52/min3_up_m-17-21.bekrn\n",
            "grandstaff_dataset/chopin/mazurkas/mazurka-52/maj3_down_m-81-86.bekrn\n",
            "grandstaff_dataset/chopin/mazurkas/mazurka-52/maj3_up_m-34-37.bekrn\n",
            "grandstaff_dataset/chopin/mazurkas/mazurka-52/min3_down_m-17-21.bekrn\n",
            "grandstaff_dataset/chopin/mazurkas/mazurka-52/maj2_up_m-58-61.bekrn\n",
            "grandstaff_dataset/chopin/mazurkas/mazurka-52/min3_down_m-1-5.bekrn\n",
            "grandstaff_dataset/chopin/mazurkas/mazurka-52/maj3_up_m-79-82.bekrn\n",
            "grandstaff_dataset/chopin/mazurkas/mazurka-52/maj3_up_m-22-25.bekrn\n",
            "grandstaff_dataset/chopin/mazurkas/mazurka-52/min3_down_m-97-101.bekrn\n",
            "grandstaff_dataset/chopin/mazurkas/mazurka-52/original_m-16-21.bekrn\n",
            "grandstaff_dataset/chopin/mazurkas/mazurka-52/maj3_down_m-66-71.bekrn\n",
            "grandstaff_dataset/chopin/mazurkas/mazurka-52/maj2_down_m-21-26.bekrn\n",
            "grandstaff_dataset/chopin/mazurkas/mazurka-52/min3_up_m-29-33.bekrn\n",
            "grandstaff_dataset/chopin/mazurkas/mazurka-52/maj2_down_m-1-6.bekrn\n",
            "grandstaff_dataset/chopin/mazurkas/mazurka-52/maj3_down_m-91-96.bekrn\n",
            "grandstaff_dataset/chopin/mazurkas/mazurka-52/maj3_down_m-51-56.bekrn\n",
            "grandstaff_dataset/chopin/mazurkas/mazurka-52/maj2_down_m-6-11.bekrn\n",
            "grandstaff_dataset/chopin/mazurkas/mazurka-52/original_m-56-61.bekrn\n",
            "grandstaff_dataset/chopin/mazurkas/mazurka-52/min3_up_m-21-25.bekrn\n",
            "grandstaff_dataset/chopin/mazurkas/mazurka-52/min3_up_m-73-77.bekrn\n",
            "grandstaff_dataset/chopin/mazurkas/mazurka-52/maj2_up_m-88-91.bekrn\n",
            "grandstaff_dataset/chopin/mazurkas/mazurka-52/min3_down_m-41-45.bekrn\n",
            "grandstaff_dataset/chopin/mazurkas/mazurka-52/min3_up_m-49-53.bekrn\n",
            "grandstaff_dataset/chopin/mazurkas/mazurka-52/maj2_down_m-51-56.bekrn\n",
            "grandstaff_dataset/chopin/mazurkas/mazurka-52/maj3_up_m-4-7.bekrn\n",
            "grandstaff_dataset/chopin/mazurkas/mazurka-52/maj2_down_m-86-91.bekrn\n",
            "grandstaff_dataset/chopin/mazurkas/mazurka-52/maj3_down_m-6-11.bekrn\n",
            "grandstaff_dataset/chopin/mazurkas/mazurka-52/maj3_down_m-31-36.bekrn\n",
            "grandstaff_dataset/chopin/mazurkas/mazurka-52/min3_up_m-85-89.bekrn\n",
            "grandstaff_dataset/chopin/mazurkas/mazurka-52/maj2_up_m-40-43.bekrn\n",
            "grandstaff_dataset/chopin/mazurkas/mazurka-52/original_m-71-76.bekrn\n",
            "grandstaff_dataset/chopin/mazurkas/mazurka-52/maj3_down_m-101-106.bekrn\n",
            "grandstaff_dataset/chopin/mazurkas/mazurka-52/maj3_up_m-28-31.bekrn\n",
            "grandstaff_dataset/chopin/mazurkas/mazurka-52/maj2_down_m-71-76.bekrn\n",
            "grandstaff_dataset/chopin/mazurkas/mazurka-52/maj3_up_m-52-55.bekrn\n",
            "grandstaff_dataset/chopin/mazurkas/mazurka-52/min3_down_m-37-41.bekrn\n",
            "grandstaff_dataset/chopin/mazurkas/mazurka-52/min3_down_m-85-89.bekrn\n",
            "grandstaff_dataset/chopin/mazurkas/mazurka-52/maj2_up_m-112-115.bekrn\n",
            "grandstaff_dataset/chopin/mazurkas/mazurka-52/min3_up_m-13-17.bekrn\n",
            "grandstaff_dataset/chopin/mazurkas/mazurka-52/maj2_down_m-31-36.bekrn\n",
            "grandstaff_dataset/chopin/mazurkas/mazurka-52/min3_up_m-1-5.bekrn\n",
            "grandstaff_dataset/chopin/mazurkas/mazurka-52/maj3_up_m-67-70.bekrn\n",
            "grandstaff_dataset/chopin/mazurkas/mazurka-52/maj2_up_m-91-94.bekrn\n",
            "grandstaff_dataset/chopin/mazurkas/mazurka-52/maj2_up_m-49-52.bekrn\n",
            "grandstaff_dataset/chopin/mazurkas/mazurka-52/original_m-46-51.bekrn\n",
            "grandstaff_dataset/chopin/mazurkas/mazurka-52/min3_up_m-89-93.bekrn\n",
            "grandstaff_dataset/chopin/mazurkas/mazurka-52/min3_up_m-69-73.bekrn\n",
            "grandstaff_dataset/chopin/mazurkas/mazurka-52/maj2_up_m-100-103.bekrn\n",
            "grandstaff_dataset/chopin/mazurkas/mazurka-52/maj3_up_m-82-85.bekrn\n",
            "grandstaff_dataset/chopin/mazurkas/mazurka-52/maj2_up_m-52-55.bekrn\n",
            "grandstaff_dataset/chopin/mazurkas/mazurka-52/maj2_down_m-26-31.bekrn\n",
            "grandstaff_dataset/chopin/mazurkas/mazurka-52/maj3_up_m-109-112.bekrn\n",
            "grandstaff_dataset/chopin/mazurkas/mazurka-52/maj3_up_m-88-91.bekrn\n",
            "grandstaff_dataset/chopin/mazurkas/mazurka-52/maj2_down_m-106-111.bekrn\n",
            "grandstaff_dataset/chopin/mazurkas/mazurka-52/maj2_down_m-66-71.bekrn\n",
            "grandstaff_dataset/chopin/mazurkas/mazurka-52/maj3_up_m-43-46.bekrn\n",
            "grandstaff_dataset/chopin/mazurkas/mazurka-52/original_m-81-86.bekrn\n",
            "grandstaff_dataset/chopin/mazurkas/mazurka-52/min3_up_m-109-113.bekrn\n",
            "grandstaff_dataset/chopin/mazurkas/mazurka-52/maj3_down_m-41-46.bekrn\n",
            "grandstaff_dataset/chopin/mazurkas/mazurka-52/maj3_down_m-36-41.bekrn\n",
            "grandstaff_dataset/chopin/mazurkas/mazurka-52/maj3_up_m-76-79.bekrn\n",
            "grandstaff_dataset/chopin/mazurkas/mazurka-52/maj3_down_m-71-76.bekrn\n",
            "grandstaff_dataset/chopin/mazurkas/mazurka-52/maj2_up_m-34-37.bekrn\n",
            "grandstaff_dataset/chopin/mazurkas/mazurka-52/maj2_up_m-103-106.bekrn\n",
            "grandstaff_dataset/chopin/mazurkas/mazurka-52/min3_up_m-105-109.bekrn\n",
            "grandstaff_dataset/chopin/mazurkas/mazurka-52/original_m-6-11.bekrn\n",
            "grandstaff_dataset/chopin/mazurkas/mazurka-52/maj3_down_m-76-81.bekrn\n",
            "grandstaff_dataset/chopin/mazurkas/mazurka-52/original_m-26-31.bekrn\n",
            "grandstaff_dataset/chopin/mazurkas/mazurka-52/maj2_up_m-79-82.bekrn\n",
            "grandstaff_dataset/chopin/mazurkas/mazurka-52/maj2_up_m-43-46.bekrn\n",
            "grandstaff_dataset/chopin/mazurkas/mazurka-52/maj2_up_m-46-49.bekrn\n",
            "grandstaff_dataset/chopin/mazurkas/mazurka-52/maj2_up_m-1-4.bekrn\n",
            "grandstaff_dataset/chopin/mazurkas/mazurka-52/min3_down_m-93-97.bekrn\n",
            "grandstaff_dataset/chopin/mazurkas/mazurka-52/min3_up_m-93-97.bekrn\n",
            "grandstaff_dataset/chopin/mazurkas/mazurka-52/original_m-36-41.bekrn\n",
            "grandstaff_dataset/chopin/mazurkas/mazurka-52/min3_up_m-5-9.bekrn\n",
            "grandstaff_dataset/chopin/mazurkas/mazurka-52/maj3_up_m-37-40.bekrn\n",
            "grandstaff_dataset/chopin/mazurkas/mazurka-52/maj3_up_m-91-94.bekrn\n",
            "grandstaff_dataset/chopin/mazurkas/mazurka-52/maj3_down_m-46-51.bekrn\n",
            "grandstaff_dataset/chopin/mazurkas/mazurka-52/maj2_up_m-61-64.bekrn\n",
            "grandstaff_dataset/chopin/mazurkas/mazurka-52/maj3_up_m-19-22.bekrn\n",
            "grandstaff_dataset/chopin/mazurkas/mazurka-52/maj3_up_m-100-103.bekrn\n",
            "grandstaff_dataset/chopin/mazurkas/mazurka-52/maj3_down_m-1-6.bekrn\n",
            "grandstaff_dataset/chopin/mazurkas/mazurka-52/original_m-21-26.bekrn\n",
            "grandstaff_dataset/chopin/mazurkas/mazurka-52/original_m-11-16.bekrn\n",
            "grandstaff_dataset/chopin/mazurkas/mazurka-52/maj2_down_m-11-16.bekrn\n",
            "grandstaff_dataset/chopin/mazurkas/mazurka-52/maj2_up_m-55-58.bekrn\n",
            "grandstaff_dataset/chopin/mazurkas/mazurka-52/maj2_up_m-4-7.bekrn\n",
            "grandstaff_dataset/chopin/mazurkas/mazurka-52/maj2_down_m-91-96.bekrn\n",
            "grandstaff_dataset/chopin/mazurkas/mazurka-52/min3_down_m-21-25.bekrn\n",
            "grandstaff_dataset/chopin/mazurkas/mazurka-52/original_m-51-56.bekrn\n",
            "grandstaff_dataset/chopin/mazurkas/mazurka-52/maj2_up_m-67-70.bekrn\n",
            "grandstaff_dataset/chopin/mazurkas/mazurka-52/min3_up_m-53-57.bekrn\n",
            "grandstaff_dataset/chopin/mazurkas/mazurka-52/maj2_down_m-111-116.bekrn\n",
            "grandstaff_dataset/chopin/mazurkas/mazurka-52/min3_down_m-45-49.bekrn\n",
            "grandstaff_dataset/chopin/mazurkas/mazurka-52/min3_down_m-81-85.bekrn\n",
            "grandstaff_dataset/chopin/mazurkas/mazurka-52/maj2_down_m-76-81.bekrn\n",
            "grandstaff_dataset/chopin/mazurkas/mazurka-52/maj3_down_m-106-111.bekrn\n",
            "grandstaff_dataset/chopin/mazurkas/mazurka-52/maj3_up_m-97-100.bekrn\n",
            "grandstaff_dataset/chopin/mazurkas/mazurka-52/maj2_up_m-70-73.bekrn\n",
            "grandstaff_dataset/chopin/mazurkas/mazurka-52/original_m-96-101.bekrn\n",
            "grandstaff_dataset/chopin/mazurkas/mazurka-52/maj3_down_m-96-101.bekrn\n",
            "grandstaff_dataset/chopin/mazurkas/mazurka-52/maj3_down_m-11-16.bekrn\n",
            "grandstaff_dataset/chopin/mazurkas/mazurka-52/min3_down_m-25-29.bekrn\n",
            "grandstaff_dataset/chopin/mazurkas/mazurka-52/maj3_up_m-40-43.bekrn\n",
            "grandstaff_dataset/chopin/mazurkas/mazurka-52/maj3_down_m-61-66.bekrn\n",
            "grandstaff_dataset/chopin/mazurkas/mazurka-52/min3_up_m-81-85.bekrn\n",
            "grandstaff_dataset/chopin/mazurkas/mazurka-52/maj2_up_m-94-97.bekrn\n",
            "grandstaff_dataset/chopin/mazurkas/mazurka-52/min3_down_m-101-105.bekrn\n",
            "grandstaff_dataset/chopin/mazurkas/mazurka-52/maj3_up_m-112-115.bekrn\n",
            "grandstaff_dataset/chopin/mazurkas/mazurka-52/min3_down_m-77-81.bekrn\n",
            "grandstaff_dataset/chopin/mazurkas/mazurka-52/maj3_up_m-25-28.bekrn\n",
            "grandstaff_dataset/chopin/mazurkas/mazurka-52/maj2_up_m-13-16.bekrn\n",
            "grandstaff_dataset/chopin/mazurkas/mazurka-52/maj2_up_m-109-112.bekrn\n",
            "grandstaff_dataset/chopin/mazurkas/mazurka-52/maj2_up_m-64-67.bekrn\n",
            "grandstaff_dataset/chopin/mazurkas/mazurka-52/original_m-61-66.bekrn\n",
            "grandstaff_dataset/chopin/mazurkas/mazurka-52/maj3_up_m-7-10.bekrn\n",
            "grandstaff_dataset/chopin/mazurkas/mazurka-52/maj2_up_m-25-28.bekrn\n",
            "grandstaff_dataset/chopin/mazurkas/mazurka-52/maj3_up_m-61-64.bekrn\n",
            "grandstaff_dataset/chopin/mazurkas/mazurka-52/maj2_up_m-31-34.bekrn\n",
            "grandstaff_dataset/chopin/mazurkas/mazurka-52/min3_down_m-53-57.bekrn\n",
            "grandstaff_dataset/chopin/mazurkas/mazurka-52/maj2_up_m-106-109.bekrn\n",
            "grandstaff_dataset/chopin/mazurkas/mazurka-52/min3_up_m-41-45.bekrn\n",
            "grandstaff_dataset/chopin/mazurkas/mazurka-52/min3_down_m-13-17.bekrn\n",
            "grandstaff_dataset/chopin/mazurkas/mazurka-52/original_m-76-81.bekrn\n",
            "grandstaff_dataset/chopin/mazurkas/mazurka-52/min3_down_m-49-53.bekrn\n",
            "grandstaff_dataset/chopin/mazurkas/mazurka-52/original_m-1-6.bekrn\n",
            "grandstaff_dataset/chopin/mazurkas/mazurka-52/maj2_down_m-36-41.bekrn\n",
            "grandstaff_dataset/chopin/mazurkas/mazurka-52/min3_up_m-25-29.bekrn\n",
            "grandstaff_dataset/chopin/mazurkas/mazurka-52/min3_down_m-5-9.bekrn\n",
            "grandstaff_dataset/chopin/mazurkas/mazurka-52/maj3_up_m-13-16.bekrn\n",
            "grandstaff_dataset/chopin/mazurkas/mazurka-52/min3_down_m-61-65.bekrn\n",
            "grandstaff_dataset/chopin/mazurkas/mazurka-52/maj3_up_m-70-73.bekrn\n",
            "grandstaff_dataset/chopin/mazurkas/mazurka-52/maj2_up_m-85-88.bekrn\n",
            "grandstaff_dataset/chopin/mazurkas/mazurka-52/min3_up_m-77-81.bekrn\n",
            "grandstaff_dataset/chopin/mazurkas/mazurka-52/maj3_up_m-55-58.bekrn\n",
            "grandstaff_dataset/chopin/mazurkas/mazurka-52/maj3_up_m-64-67.bekrn\n",
            "grandstaff_dataset/chopin/mazurkas/mazurka-52/original_m-111-116.bekrn\n",
            "grandstaff_dataset/chopin/mazurkas/mazurka-52/min3_down_m-65-69.bekrn\n",
            "grandstaff_dataset/chopin/mazurkas/mazurka-52/maj3_down_m-26-31.bekrn\n",
            "grandstaff_dataset/chopin/mazurkas/mazurka-52/min3_down_m-69-73.bekrn\n",
            "grandstaff_dataset/chopin/mazurkas/mazurka-52/min3_down_m-105-109.bekrn\n",
            "grandstaff_dataset/chopin/mazurkas/mazurka-52/maj3_up_m-31-34.bekrn\n",
            "grandstaff_dataset/chopin/mazurkas/mazurka-52/min3_down_m-9-13.bekrn\n",
            "grandstaff_dataset/chopin/mazurkas/mazurka-52/maj2_down_m-61-66.bekrn\n",
            "grandstaff_dataset/chopin/mazurkas/mazurka-52/original_m-106-111.bekrn\n",
            "grandstaff_dataset/chopin/mazurkas/mazurka-52/maj2_up_m-19-22.bekrn\n",
            "grandstaff_dataset/chopin/mazurkas/mazurka-52/maj2_down_m-46-51.bekrn\n",
            "grandstaff_dataset/chopin/mazurkas/mazurka-52/maj2_up_m-16-19.bekrn\n",
            "grandstaff_dataset/chopin/mazurkas/mazurka-52/maj3_up_m-106-109.bekrn\n",
            "grandstaff_dataset/chopin/mazurkas/mazurka-52/maj2_down_m-96-101.bekrn\n",
            "grandstaff_dataset/chopin/mazurkas/mazurka-52/min3_up_m-101-105.bekrn\n",
            "grandstaff_dataset/chopin/mazurkas/mazurka-52/original_m-86-91.bekrn\n",
            "grandstaff_dataset/chopin/mazurkas/mazurka-52/maj3_up_m-10-13.bekrn\n",
            "grandstaff_dataset/chopin/mazurkas/mazurka-52/maj3_up_m-1-4.bekrn\n",
            "grandstaff_dataset/chopin/mazurkas/mazurka-52/min3_up_m-61-65.bekrn\n",
            "grandstaff_dataset/chopin/mazurkas/mazurka-52/maj2_up_m-37-40.bekrn\n",
            "grandstaff_dataset/chopin/mazurkas/mazurka-52/original_m-31-36.bekrn\n",
            "grandstaff_dataset/chopin/mazurkas/mazurka-52/maj3_up_m-73-76.bekrn\n",
            "grandstaff_dataset/chopin/mazurkas/mazurka-52/maj2_up_m-7-10.bekrn\n",
            "grandstaff_dataset/chopin/mazurkas/mazurka-52/maj3_up_m-49-52.bekrn\n",
            "grandstaff_dataset/chopin/mazurkas/mazurka-52/min3_down_m-89-93.bekrn\n",
            "grandstaff_dataset/chopin/mazurkas/mazurka-52/maj2_down_m-56-61.bekrn\n",
            "grandstaff_dataset/chopin/mazurkas/mazurka-52/maj3_up_m-103-106.bekrn\n",
            "grandstaff_dataset/chopin/mazurkas/mazurka24-2/maj3_down_m-111-116.bekrn\n",
            "grandstaff_dataset/chopin/mazurkas/mazurka24-2/maj2_up_m-77-81.bekrn\n",
            "grandstaff_dataset/chopin/mazurkas/mazurka24-2/original_m-66-71.bekrn\n",
            "grandstaff_dataset/chopin/mazurkas/mazurka24-2/original_m-91-96.bekrn\n",
            "grandstaff_dataset/chopin/mazurkas/mazurka24-2/maj3_down_m-56-61.bekrn\n",
            "grandstaff_dataset/chopin/mazurkas/mazurka24-2/maj3_up_m-45-49.bekrn\n",
            "grandstaff_dataset/chopin/mazurkas/mazurka24-2/maj2_down_m-117-121.bekrn\n",
            "grandstaff_dataset/chopin/mazurkas/mazurka24-2/maj3_up_m-109-113.bekrn\n",
            "grandstaff_dataset/chopin/mazurkas/mazurka24-2/maj2_up_m-117-121.bekrn\n",
            "grandstaff_dataset/chopin/mazurkas/mazurka24-2/maj2_down_m-49-53.bekrn\n",
            "grandstaff_dataset/chopin/mazurkas/mazurka24-2/maj3_down_m-86-91.bekrn\n",
            "grandstaff_dataset/chopin/mazurkas/mazurka24-2/maj2_up_m-113-117.bekrn\n",
            "grandstaff_dataset/chopin/mazurkas/mazurka24-2/original_m-101-106.bekrn\n",
            "grandstaff_dataset/chopin/mazurkas/mazurka24-2/maj2_down_m-85-89.bekrn\n",
            "grandstaff_dataset/chopin/mazurkas/mazurka24-2/min3_down_m-76-81.bekrn\n",
            "grandstaff_dataset/chopin/mazurkas/mazurka24-2/min3_up_m-9-13.bekrn\n",
            "grandstaff_dataset/chopin/mazurkas/mazurka24-2/original_m-41-46.bekrn\n",
            "grandstaff_dataset/chopin/mazurkas/mazurka24-2/min3_up_m-37-41.bekrn\n",
            "grandstaff_dataset/chopin/mazurkas/mazurka24-2/maj2_up_m-85-89.bekrn\n",
            "grandstaff_dataset/chopin/mazurkas/mazurka24-2/maj2_down_m-29-33.bekrn\n",
            "grandstaff_dataset/chopin/mazurkas/mazurka24-2/maj3_up_m-101-105.bekrn\n",
            "grandstaff_dataset/chopin/mazurkas/mazurka24-2/maj3_up_m-69-73.bekrn\n",
            "grandstaff_dataset/chopin/mazurkas/mazurka24-2/min3_up_m-97-101.bekrn\n",
            "grandstaff_dataset/chopin/mazurkas/mazurka24-2/min3_up_m-45-49.bekrn\n",
            "grandstaff_dataset/chopin/mazurkas/mazurka24-2/min3_up_m-65-69.bekrn\n",
            "grandstaff_dataset/chopin/mazurkas/mazurka24-2/min3_down_m-36-41.bekrn\n",
            "grandstaff_dataset/chopin/mazurkas/mazurka24-2/min3_down_m-106-111.bekrn\n",
            "grandstaff_dataset/chopin/mazurkas/mazurka24-2/maj3_down_m-81-86.bekrn\n",
            "grandstaff_dataset/chopin/mazurkas/mazurka24-2/maj3_down_m-116-121.bekrn\n",
            "grandstaff_dataset/chopin/mazurkas/mazurka24-2/maj3_up_m-65-69.bekrn\n",
            "grandstaff_dataset/chopin/mazurkas/mazurka24-2/maj2_down_m-45-49.bekrn\n",
            "grandstaff_dataset/chopin/mazurkas/mazurka24-2/maj2_down_m-105-109.bekrn\n",
            "grandstaff_dataset/chopin/mazurkas/mazurka24-2/maj3_up_m-113-117.bekrn\n",
            "grandstaff_dataset/chopin/mazurkas/mazurka24-2/maj3_down_m-66-71.bekrn\n",
            "grandstaff_dataset/chopin/mazurkas/mazurka24-2/min3_up_m-29-33.bekrn\n",
            "grandstaff_dataset/chopin/mazurkas/mazurka24-2/maj2_up_m-33-37.bekrn\n",
            "grandstaff_dataset/chopin/mazurkas/mazurka24-2/min3_down_m-86-91.bekrn\n",
            "grandstaff_dataset/chopin/mazurkas/mazurka24-2/maj2_down_m-69-73.bekrn\n",
            "grandstaff_dataset/chopin/mazurkas/mazurka24-2/maj2_up_m-49-53.bekrn\n",
            "grandstaff_dataset/chopin/mazurkas/mazurka24-2/maj3_down_m-91-96.bekrn\n",
            "grandstaff_dataset/chopin/mazurkas/mazurka24-2/original_m-56-61.bekrn\n",
            "grandstaff_dataset/chopin/mazurkas/mazurka24-2/min3_up_m-73-77.bekrn\n",
            "grandstaff_dataset/chopin/mazurkas/mazurka24-2/min3_up_m-49-53.bekrn\n",
            "grandstaff_dataset/chopin/mazurkas/mazurka24-2/maj2_down_m-81-85.bekrn\n",
            "grandstaff_dataset/chopin/mazurkas/mazurka24-2/maj3_down_m-6-11.bekrn\n",
            "grandstaff_dataset/chopin/mazurkas/mazurka24-2/min3_down_m-66-71.bekrn\n",
            "grandstaff_dataset/chopin/mazurkas/mazurka24-2/maj3_down_m-31-36.bekrn\n",
            "grandstaff_dataset/chopin/mazurkas/mazurka24-2/min3_up_m-85-89.bekrn\n",
            "grandstaff_dataset/chopin/mazurkas/mazurka24-2/maj3_up_m-29-33.bekrn\n",
            "grandstaff_dataset/chopin/mazurkas/mazurka24-2/maj2_down_m-65-69.bekrn\n",
            "grandstaff_dataset/chopin/mazurkas/mazurka24-2/maj3_up_m-81-85.bekrn\n",
            "grandstaff_dataset/chopin/mazurkas/mazurka24-2/maj2_up_m-45-49.bekrn\n",
            "grandstaff_dataset/chopin/mazurkas/mazurka24-2/original_m-71-76.bekrn\n",
            "grandstaff_dataset/chopin/mazurkas/mazurka24-2/maj3_down_m-101-106.bekrn\n",
            "grandstaff_dataset/chopin/mazurkas/mazurka24-2/maj2_down_m-13-17.bekrn\n",
            "grandstaff_dataset/chopin/mazurkas/mazurka24-2/min3_down_m-71-76.bekrn\n",
            "grandstaff_dataset/chopin/mazurkas/mazurka24-2/maj2_up_m-41-45.bekrn\n",
            "grandstaff_dataset/chopin/mazurkas/mazurka24-2/maj3_up_m-37-41.bekrn\n",
            "grandstaff_dataset/chopin/mazurkas/mazurka24-2/min3_down_m-116-121.bekrn\n",
            "grandstaff_dataset/chopin/mazurkas/mazurka24-2/maj3_up_m-9-13.bekrn\n",
            "grandstaff_dataset/chopin/mazurkas/mazurka24-2/min3_up_m-13-17.bekrn\n",
            "grandstaff_dataset/chopin/mazurkas/mazurka24-2/min3_up_m-1-5.bekrn\n",
            "grandstaff_dataset/chopin/mazurkas/mazurka24-2/maj2_down_m-97-101.bekrn\n",
            "grandstaff_dataset/chopin/mazurkas/mazurka24-2/min3_up_m-117-121.bekrn\n",
            "grandstaff_dataset/chopin/mazurkas/mazurka24-2/maj2_up_m-1-5.bekrn\n",
            "grandstaff_dataset/chopin/mazurkas/mazurka24-2/original_m-46-51.bekrn\n",
            "grandstaff_dataset/chopin/mazurkas/mazurka24-2/min3_down_m-101-106.bekrn\n",
            "grandstaff_dataset/chopin/mazurkas/mazurka24-2/min3_up_m-69-73.bekrn\n",
            "grandstaff_dataset/chopin/mazurkas/mazurka24-2/maj2_down_m-93-97.bekrn\n",
            "grandstaff_dataset/chopin/mazurkas/mazurka24-2/maj2_down_m-101-105.bekrn\n",
            "grandstaff_dataset/chopin/mazurkas/mazurka24-2/original_m-81-86.bekrn\n",
            "grandstaff_dataset/chopin/mazurkas/mazurka24-2/maj3_up_m-97-101.bekrn\n",
            "grandstaff_dataset/chopin/mazurkas/mazurka24-2/min3_up_m-109-113.bekrn\n",
            "grandstaff_dataset/chopin/mazurkas/mazurka24-2/maj2_up_m-97-101.bekrn\n",
            "grandstaff_dataset/chopin/mazurkas/mazurka24-2/maj3_down_m-41-46.bekrn\n",
            "grandstaff_dataset/chopin/mazurkas/mazurka24-2/maj3_down_m-36-41.bekrn\n",
            "grandstaff_dataset/chopin/mazurkas/mazurka24-2/maj3_down_m-71-76.bekrn\n",
            "grandstaff_dataset/chopin/mazurkas/mazurka24-2/min3_down_m-26-31.bekrn\n",
            "grandstaff_dataset/chopin/mazurkas/mazurka24-2/min3_up_m-105-109.bekrn\n",
            "grandstaff_dataset/chopin/mazurkas/mazurka24-2/original_m-6-11.bekrn\n",
            "grandstaff_dataset/chopin/mazurkas/mazurka24-2/maj3_down_m-76-81.bekrn\n",
            "grandstaff_dataset/chopin/mazurkas/mazurka24-2/original_m-26-31.bekrn\n",
            "grandstaff_dataset/chopin/mazurkas/mazurka24-2/min3_down_m-1-6.bekrn\n",
            "grandstaff_dataset/chopin/mazurkas/mazurka24-2/maj2_down_m-5-9.bekrn\n",
            "grandstaff_dataset/chopin/mazurkas/mazurka24-2/maj3_up_m-77-81.bekrn\n",
            "grandstaff_dataset/chopin/mazurkas/mazurka24-2/maj2_up_m-109-113.bekrn\n",
            "grandstaff_dataset/chopin/mazurkas/mazurka24-2/maj2_up_m-81-85.bekrn\n",
            "grandstaff_dataset/chopin/mazurkas/mazurka24-2/maj3_up_m-33-37.bekrn\n",
            "grandstaff_dataset/chopin/mazurkas/mazurka24-2/min3_up_m-93-97.bekrn\n",
            "grandstaff_dataset/chopin/mazurkas/mazurka24-2/maj3_up_m-85-89.bekrn\n",
            "grandstaff_dataset/chopin/mazurkas/mazurka24-2/maj3_up_m-117-121.bekrn\n",
            "grandstaff_dataset/chopin/mazurkas/mazurka24-2/original_m-36-41.bekrn\n",
            "grandstaff_dataset/chopin/mazurkas/mazurka24-2/min3_up_m-5-9.bekrn\n",
            "grandstaff_dataset/chopin/mazurkas/mazurka24-2/min3_down_m-56-61.bekrn\n",
            "grandstaff_dataset/chopin/mazurkas/mazurka24-2/maj2_up_m-37-41.bekrn\n",
            "grandstaff_dataset/chopin/mazurkas/mazurka24-2/maj3_down_m-46-51.bekrn\n",
            "grandstaff_dataset/chopin/mazurkas/mazurka24-2/maj2_up_m-29-33.bekrn\n",
            "grandstaff_dataset/chopin/mazurkas/mazurka24-2/min3_down_m-111-116.bekrn\n",
            "grandstaff_dataset/chopin/mazurkas/mazurka24-2/maj3_down_m-1-6.bekrn\n",
            "grandstaff_dataset/chopin/mazurkas/mazurka24-2/original_m-11-16.bekrn\n",
            "grandstaff_dataset/chopin/mazurkas/mazurka24-2/maj2_up_m-69-73.bekrn\n",
            "grandstaff_dataset/chopin/mazurkas/mazurka24-2/min3_down_m-41-46.bekrn\n",
            "grandstaff_dataset/chopin/mazurkas/mazurka24-2/maj3_up_m-73-77.bekrn\n",
            "grandstaff_dataset/chopin/mazurkas/mazurka24-2/min3_down_m-61-66.bekrn\n",
            "grandstaff_dataset/chopin/mazurkas/mazurka24-2/maj2_down_m-109-113.bekrn\n",
            "grandstaff_dataset/chopin/mazurkas/mazurka24-2/maj2_up_m-61-65.bekrn\n",
            "grandstaff_dataset/chopin/mazurkas/mazurka24-2/maj2_up_m-5-9.bekrn\n",
            "grandstaff_dataset/chopin/mazurkas/mazurka24-2/maj3_up_m-5-9.bekrn\n",
            "grandstaff_dataset/chopin/mazurkas/mazurka24-2/min3_down_m-91-96.bekrn\n",
            "grandstaff_dataset/chopin/mazurkas/mazurka24-2/maj2_up_m-101-105.bekrn\n",
            "grandstaff_dataset/chopin/mazurkas/mazurka24-2/maj2_up_m-73-77.bekrn\n",
            "grandstaff_dataset/chopin/mazurkas/mazurka24-2/maj3_down_m-106-111.bekrn\n",
            "grandstaff_dataset/chopin/mazurkas/mazurka24-2/original_m-96-101.bekrn\n",
            "grandstaff_dataset/chopin/mazurkas/mazurka24-2/maj3_up_m-49-53.bekrn\n",
            "grandstaff_dataset/chopin/mazurkas/mazurka24-2/maj2_down_m-33-37.bekrn\n",
            "grandstaff_dataset/chopin/mazurkas/mazurka24-2/maj3_down_m-96-101.bekrn\n",
            "grandstaff_dataset/chopin/mazurkas/mazurka24-2/maj3_down_m-11-16.bekrn\n",
            "grandstaff_dataset/chopin/mazurkas/mazurka24-2/maj2_down_m-25-29.bekrn\n",
            "grandstaff_dataset/chopin/mazurkas/mazurka24-2/maj3_down_m-61-66.bekrn\n",
            "grandstaff_dataset/chopin/mazurkas/mazurka24-2/min3_up_m-81-85.bekrn\n",
            "grandstaff_dataset/chopin/mazurkas/mazurka24-2/maj2_up_m-25-29.bekrn\n",
            "grandstaff_dataset/chopin/mazurkas/mazurka24-2/min3_down_m-6-11.bekrn\n",
            "grandstaff_dataset/chopin/mazurkas/mazurka24-2/maj2_up_m-13-17.bekrn\n",
            "grandstaff_dataset/chopin/mazurkas/mazurka24-2/min3_up_m-113-117.bekrn\n",
            "grandstaff_dataset/chopin/mazurkas/mazurka24-2/maj2_up_m-9-13.bekrn\n",
            "grandstaff_dataset/chopin/mazurkas/mazurka24-2/maj3_up_m-93-97.bekrn\n",
            "grandstaff_dataset/chopin/mazurkas/mazurka24-2/original_m-61-66.bekrn\n",
            "grandstaff_dataset/chopin/mazurkas/mazurka24-2/maj2_down_m-41-45.bekrn\n",
            "grandstaff_dataset/chopin/mazurkas/mazurka24-2/maj2_down_m-77-81.bekrn\n",
            "grandstaff_dataset/chopin/mazurkas/mazurka24-2/maj2_down_m-37-41.bekrn\n",
            "grandstaff_dataset/chopin/mazurkas/mazurka24-2/min3_up_m-41-45.bekrn\n",
            "grandstaff_dataset/chopin/mazurkas/mazurka24-2/min3_down_m-81-86.bekrn\n",
            "grandstaff_dataset/chopin/mazurkas/mazurka24-2/original_m-76-81.bekrn\n",
            "grandstaff_dataset/chopin/mazurkas/mazurka24-2/original_m-1-6.bekrn\n",
            "grandstaff_dataset/chopin/mazurkas/mazurka24-2/maj2_up_m-65-69.bekrn\n",
            "grandstaff_dataset/chopin/mazurkas/mazurka24-2/maj2_down_m-9-13.bekrn\n",
            "grandstaff_dataset/chopin/mazurkas/mazurka24-2/maj2_up_m-93-97.bekrn\n",
            "grandstaff_dataset/chopin/mazurkas/mazurka24-2/min3_up_m-25-29.bekrn\n",
            "grandstaff_dataset/chopin/mazurkas/mazurka24-2/min3_up_m-33-37.bekrn\n",
            "grandstaff_dataset/chopin/mazurkas/mazurka24-2/maj3_up_m-41-45.bekrn\n",
            "grandstaff_dataset/chopin/mazurkas/mazurka24-2/min3_up_m-77-81.bekrn\n",
            "grandstaff_dataset/chopin/mazurkas/mazurka24-2/min3_down_m-96-101.bekrn\n",
            "grandstaff_dataset/chopin/mazurkas/mazurka24-2/maj2_down_m-1-5.bekrn\n",
            "grandstaff_dataset/chopin/mazurkas/mazurka24-2/maj2_down_m-113-117.bekrn\n",
            "grandstaff_dataset/chopin/mazurkas/mazurka24-2/min3_down_m-31-36.bekrn\n",
            "grandstaff_dataset/chopin/mazurkas/mazurka24-2/original_m-111-116.bekrn\n",
            "grandstaff_dataset/chopin/mazurkas/mazurka24-2/min3_down_m-46-51.bekrn\n",
            "grandstaff_dataset/chopin/mazurkas/mazurka24-2/maj3_up_m-61-65.bekrn\n",
            "grandstaff_dataset/chopin/mazurkas/mazurka24-2/maj3_down_m-26-31.bekrn\n",
            "grandstaff_dataset/chopin/mazurkas/mazurka24-2/maj2_down_m-61-65.bekrn\n",
            "grandstaff_dataset/chopin/mazurkas/mazurka24-2/original_m-116-121.bekrn\n",
            "grandstaff_dataset/chopin/mazurkas/mazurka24-2/maj2_up_m-105-109.bekrn\n",
            "grandstaff_dataset/chopin/mazurkas/mazurka24-2/maj2_down_m-73-77.bekrn\n",
            "grandstaff_dataset/chopin/mazurkas/mazurka24-2/min3_down_m-11-16.bekrn\n",
            "grandstaff_dataset/chopin/mazurkas/mazurka24-2/original_m-106-111.bekrn\n",
            "grandstaff_dataset/chopin/mazurkas/mazurka24-2/maj3_up_m-13-17.bekrn\n",
            "grandstaff_dataset/chopin/mazurkas/mazurka24-2/min3_up_m-101-105.bekrn\n",
            "grandstaff_dataset/chopin/mazurkas/mazurka24-2/original_m-86-91.bekrn\n",
            "grandstaff_dataset/chopin/mazurkas/mazurka24-2/min3_up_m-61-65.bekrn\n",
            "grandstaff_dataset/chopin/mazurkas/mazurka24-2/maj3_up_m-105-109.bekrn\n",
            "grandstaff_dataset/chopin/mazurkas/mazurka24-2/maj3_up_m-25-29.bekrn\n",
            "grandstaff_dataset/chopin/mazurkas/mazurka24-2/original_m-31-36.bekrn\n",
            "grandstaff_dataset/chopin/mazurkas/mazurka24-2/maj3_up_m-1-5.bekrn\n",
            "grandstaff_dataset/chopin/mazurkas/mazurka06-2/min3_up_m-16-19.bekrn\n",
            "grandstaff_dataset/chopin/mazurkas/mazurka06-2/maj3_down_m-29-33.bekrn\n",
            "grandstaff_dataset/chopin/mazurkas/mazurka06-2/maj3_up_m-1-6.bekrn\n",
            "grandstaff_dataset/chopin/mazurkas/mazurka06-2/min3_up_m-52-55.bekrn\n",
            "grandstaff_dataset/chopin/mazurkas/mazurka06-2/min3_up_m-22-25.bekrn\n",
            "grandstaff_dataset/chopin/mazurkas/mazurka06-2/original_m-53-57.bekrn\n",
            "grandstaff_dataset/chopin/mazurkas/mazurka06-2/maj3_up_m-21-26.bekrn\n",
            "grandstaff_dataset/chopin/mazurkas/mazurka06-2/min3_down_m-16-21.bekrn\n",
            "grandstaff_dataset/chopin/mazurkas/mazurka06-2/maj2_down_m-49-53.bekrn\n",
            "grandstaff_dataset/chopin/mazurkas/mazurka06-2/maj3_up_m-16-21.bekrn\n",
            "grandstaff_dataset/chopin/mazurkas/mazurka06-2/maj3_down_m-1-5.bekrn\n",
            "grandstaff_dataset/chopin/mazurkas/mazurka06-2/original_m-61-65.bekrn\n",
            "grandstaff_dataset/chopin/mazurkas/mazurka06-2/min3_up_m-1-4.bekrn\n",
            "grandstaff_dataset/chopin/mazurkas/mazurka06-2/original_m-1-5.bekrn\n",
            "grandstaff_dataset/chopin/mazurkas/mazurka06-2/original_m-33-37.bekrn\n",
            "grandstaff_dataset/chopin/mazurkas/mazurka06-2/maj2_down_m-29-33.bekrn\n",
            "grandstaff_dataset/chopin/mazurkas/mazurka06-2/maj2_up_m-53-57.bekrn\n",
            "grandstaff_dataset/chopin/mazurkas/mazurka06-2/min3_down_m-36-41.bekrn\n",
            "grandstaff_dataset/chopin/mazurkas/mazurka06-2/maj3_up_m-11-16.bekrn\n",
            "grandstaff_dataset/chopin/mazurkas/mazurka06-2/maj3_up_m-71-76.bekrn\n",
            "grandstaff_dataset/chopin/mazurkas/mazurka06-2/original_m-21-25.bekrn\n",
            "grandstaff_dataset/chopin/mazurkas/mazurka06-2/min3_up_m-58-61.bekrn\n",
            "grandstaff_dataset/chopin/mazurkas/mazurka06-2/maj2_down_m-53-57.bekrn\n",
            "grandstaff_dataset/chopin/mazurkas/mazurka06-2/maj3_up_m-56-61.bekrn\n",
            "grandstaff_dataset/chopin/mazurkas/mazurka06-2/min3_up_m-49-52.bekrn\n",
            "grandstaff_dataset/chopin/mazurkas/mazurka06-2/maj2_up_m-33-37.bekrn\n",
            "grandstaff_dataset/chopin/mazurkas/mazurka06-2/maj2_up_m-17-21.bekrn\n",
            "grandstaff_dataset/chopin/mazurkas/mazurka06-2/maj2_down_m-69-73.bekrn\n",
            "grandstaff_dataset/chopin/mazurkas/mazurka06-2/maj2_up_m-49-53.bekrn\n",
            "grandstaff_dataset/chopin/mazurkas/mazurka06-2/maj3_down_m-9-13.bekrn\n",
            "grandstaff_dataset/chopin/mazurkas/mazurka06-2/original_m-57-61.bekrn\n",
            "grandstaff_dataset/chopin/mazurkas/mazurka06-2/maj2_up_m-57-61.bekrn\n",
            "grandstaff_dataset/chopin/mazurkas/mazurka06-2/original_m-17-21.bekrn\n",
            "grandstaff_dataset/chopin/mazurkas/mazurka06-2/min3_up_m-43-46.bekrn\n",
            "grandstaff_dataset/chopin/mazurkas/mazurka06-2/min3_down_m-51-56.bekrn\n",
            "grandstaff_dataset/chopin/mazurkas/mazurka06-2/maj3_up_m-31-36.bekrn\n",
            "grandstaff_dataset/chopin/mazurkas/mazurka06-2/original_m-29-33.bekrn\n",
            "grandstaff_dataset/chopin/mazurkas/mazurka06-2/original_m-65-69.bekrn\n",
            "grandstaff_dataset/chopin/mazurkas/mazurka06-2/maj3_down_m-17-21.bekrn\n",
            "grandstaff_dataset/chopin/mazurkas/mazurka06-2/maj3_down_m-13-17.bekrn\n",
            "grandstaff_dataset/chopin/mazurkas/mazurka06-2/maj3_up_m-61-66.bekrn\n",
            "grandstaff_dataset/chopin/mazurkas/mazurka06-2/min3_up_m-19-22.bekrn\n",
            "grandstaff_dataset/chopin/mazurkas/mazurka06-2/maj3_down_m-61-65.bekrn\n",
            "grandstaff_dataset/chopin/mazurkas/mazurka06-2/maj3_down_m-57-61.bekrn\n",
            "grandstaff_dataset/chopin/mazurkas/mazurka06-2/min3_down_m-66-71.bekrn\n",
            "grandstaff_dataset/chopin/mazurkas/mazurka06-2/maj2_down_m-65-69.bekrn\n",
            "grandstaff_dataset/chopin/mazurkas/mazurka06-2/maj3_down_m-41-45.bekrn\n",
            "grandstaff_dataset/chopin/mazurkas/mazurka06-2/maj2_down_m-13-17.bekrn\n",
            "grandstaff_dataset/chopin/mazurkas/mazurka06-2/maj3_down_m-33-37.bekrn\n",
            "grandstaff_dataset/chopin/mazurkas/mazurka06-2/maj3_up_m-36-41.bekrn\n",
            "grandstaff_dataset/chopin/mazurkas/mazurka06-2/min3_up_m-10-13.bekrn\n",
            "grandstaff_dataset/chopin/mazurkas/mazurka06-2/min3_down_m-71-76.bekrn\n",
            "grandstaff_dataset/chopin/mazurkas/mazurka06-2/maj2_up_m-41-45.bekrn\n",
            "grandstaff_dataset/chopin/mazurkas/mazurka06-2/maj3_down_m-21-25.bekrn\n",
            "grandstaff_dataset/chopin/mazurkas/mazurka06-2/maj2_up_m-1-5.bekrn\n",
            "grandstaff_dataset/chopin/mazurkas/mazurka06-2/original_m-25-29.bekrn\n",
            "grandstaff_dataset/chopin/mazurkas/mazurka06-2/min3_up_m-67-70.bekrn\n",
            "grandstaff_dataset/chopin/mazurkas/mazurka06-2/maj3_down_m-53-57.bekrn\n",
            "grandstaff_dataset/chopin/mazurkas/mazurka06-2/original_m-13-17.bekrn\n",
            "grandstaff_dataset/chopin/mazurkas/mazurka06-2/min3_down_m-26-31.bekrn\n",
            "grandstaff_dataset/chopin/mazurkas/mazurka06-2/min3_down_m-1-6.bekrn\n",
            "grandstaff_dataset/chopin/mazurkas/mazurka06-2/maj2_down_m-5-9.bekrn\n",
            "grandstaff_dataset/chopin/mazurkas/mazurka06-2/maj3_up_m-46-51.bekrn\n",
            "grandstaff_dataset/chopin/mazurkas/mazurka06-2/maj3_down_m-49-53.bekrn\n",
            "grandstaff_dataset/chopin/mazurkas/mazurka06-2/min3_down_m-56-61.bekrn\n",
            "grandstaff_dataset/chopin/mazurkas/mazurka06-2/min3_down_m-21-26.bekrn\n",
            "grandstaff_dataset/chopin/mazurkas/mazurka06-2/original_m-69-73.bekrn\n",
            "grandstaff_dataset/chopin/mazurkas/mazurka06-2/min3_up_m-28-31.bekrn\n",
            "grandstaff_dataset/chopin/mazurkas/mazurka06-2/maj2_up_m-29-33.bekrn\n",
            "grandstaff_dataset/chopin/mazurkas/mazurka06-2/maj3_up_m-6-11.bekrn\n",
            "grandstaff_dataset/chopin/mazurkas/mazurka06-2/maj2_down_m-57-61.bekrn\n",
            "grandstaff_dataset/chopin/mazurkas/mazurka06-2/maj2_up_m-69-73.bekrn\n",
            "grandstaff_dataset/chopin/mazurkas/mazurka06-2/min3_down_m-41-46.bekrn\n",
            "grandstaff_dataset/chopin/mazurkas/mazurka06-2/maj2_up_m-21-25.bekrn\n",
            "grandstaff_dataset/chopin/mazurkas/mazurka06-2/min3_down_m-61-66.bekrn\n",
            "grandstaff_dataset/chopin/mazurkas/mazurka06-2/min3_up_m-34-37.bekrn\n",
            "grandstaff_dataset/chopin/mazurkas/mazurka06-2/maj2_up_m-61-65.bekrn\n",
            "grandstaff_dataset/chopin/mazurkas/mazurka06-2/maj3_down_m-65-69.bekrn\n",
            "grandstaff_dataset/chopin/mazurkas/mazurka06-2/maj3_down_m-5-9.bekrn\n",
            "grandstaff_dataset/chopin/mazurkas/mazurka06-2/maj2_up_m-5-9.bekrn\n",
            "grandstaff_dataset/chopin/mazurkas/mazurka06-2/maj3_up_m-41-46.bekrn\n",
            "grandstaff_dataset/chopin/mazurkas/mazurka06-2/maj2_down_m-21-25.bekrn\n",
            "grandstaff_dataset/chopin/mazurkas/mazurka06-2/min3_up_m-46-49.bekrn\n",
            "grandstaff_dataset/chopin/mazurkas/mazurka06-2/maj3_down_m-25-29.bekrn\n",
            "grandstaff_dataset/chopin/mazurkas/mazurka06-2/maj2_down_m-33-37.bekrn\n",
            "grandstaff_dataset/chopin/mazurkas/mazurka06-2/original_m-9-13.bekrn\n",
            "grandstaff_dataset/chopin/mazurkas/mazurka06-2/min3_up_m-13-16.bekrn\n",
            "grandstaff_dataset/chopin/mazurkas/mazurka06-2/maj2_down_m-25-29.bekrn\n",
            "grandstaff_dataset/chopin/mazurkas/mazurka06-2/maj3_down_m-69-73.bekrn\n",
            "grandstaff_dataset/chopin/mazurkas/mazurka06-2/min3_up_m-25-28.bekrn\n",
            "grandstaff_dataset/chopin/mazurkas/mazurka06-2/maj2_up_m-25-29.bekrn\n",
            "grandstaff_dataset/chopin/mazurkas/mazurka06-2/min3_down_m-6-11.bekrn\n",
            "grandstaff_dataset/chopin/mazurkas/mazurka06-2/maj2_down_m-17-21.bekrn\n",
            "grandstaff_dataset/chopin/mazurkas/mazurka06-2/maj2_up_m-13-17.bekrn\n",
            "grandstaff_dataset/chopin/mazurkas/mazurka06-2/maj2_up_m-9-13.bekrn\n",
            "grandstaff_dataset/chopin/mazurkas/mazurka06-2/maj3_up_m-26-31.bekrn\n",
            "grandstaff_dataset/chopin/mazurkas/mazurka06-2/min3_up_m-7-10.bekrn\n",
            "grandstaff_dataset/chopin/mazurkas/mazurka06-2/maj3_up_m-66-71.bekrn\n",
            "grandstaff_dataset/chopin/mazurkas/mazurka06-2/maj2_down_m-41-45.bekrn\n",
            "grandstaff_dataset/chopin/mazurkas/mazurka06-2/min3_up_m-4-7.bekrn\n",
            "grandstaff_dataset/chopin/mazurkas/mazurka06-2/maj2_up_m-65-69.bekrn\n",
            "grandstaff_dataset/chopin/mazurkas/mazurka06-2/maj2_down_m-9-13.bekrn\n",
            "grandstaff_dataset/chopin/mazurkas/mazurka06-2/min3_up_m-31-34.bekrn\n",
            "grandstaff_dataset/chopin/mazurkas/mazurka06-2/maj2_down_m-1-5.bekrn\n",
            "grandstaff_dataset/chopin/mazurkas/mazurka06-2/min3_down_m-31-36.bekrn\n",
            "grandstaff_dataset/chopin/mazurkas/mazurka06-2/original_m-41-45.bekrn\n",
            "grandstaff_dataset/chopin/mazurkas/mazurka06-2/original_m-49-53.bekrn\n",
            "grandstaff_dataset/chopin/mazurkas/mazurka06-2/min3_down_m-46-51.bekrn\n",
            "grandstaff_dataset/chopin/mazurkas/mazurka06-2/min3_up_m-70-73.bekrn\n",
            "grandstaff_dataset/chopin/mazurkas/mazurka06-2/min3_up_m-40-43.bekrn\n",
            "grandstaff_dataset/chopin/mazurkas/mazurka06-2/maj2_down_m-61-65.bekrn\n",
            "grandstaff_dataset/chopin/mazurkas/mazurka06-2/maj3_up_m-51-56.bekrn\n",
            "grandstaff_dataset/chopin/mazurkas/mazurka06-2/min3_up_m-61-64.bekrn\n",
            "grandstaff_dataset/chopin/mazurkas/mazurka06-2/min3_down_m-11-16.bekrn\n",
            "grandstaff_dataset/chopin/mazurkas/mazurka06-2/min3_up_m-64-67.bekrn\n",
            "grandstaff_dataset/chopin/mazurkas/mazurka06-2/original_m-5-9.bekrn\n",
            "grandstaff_dataset/chopin/mazurkas/mazurka06-2/min3_up_m-55-58.bekrn\n",
            "grandstaff_dataset/chopin/mazurkas/mazurka68-4/maj3_down_m-29-33.bekrn\n",
            "grandstaff_dataset/chopin/mazurkas/mazurka68-4/min3_down_m-13-16.bekrn\n",
            "grandstaff_dataset/chopin/mazurkas/mazurka68-4/maj2_down_m-40-43.bekrn\n",
            "grandstaff_dataset/chopin/mazurkas/mazurka68-4/maj3_down_m-1-5.bekrn\n",
            "grandstaff_dataset/chopin/mazurkas/mazurka68-4/maj2_up_m-10-13.bekrn\n",
            "grandstaff_dataset/chopin/mazurkas/mazurka68-4/min3_up_m-9-13.bekrn\n",
            "grandstaff_dataset/chopin/mazurkas/mazurka68-4/min3_down_m-10-13.bekrn\n",
            "grandstaff_dataset/chopin/mazurkas/mazurka68-4/min3_up_m-37-41.bekrn\n",
            "grandstaff_dataset/chopin/mazurkas/mazurka68-4/min3_down_m-4-7.bekrn\n",
            "grandstaff_dataset/chopin/mazurkas/mazurka68-4/maj3_down_m-37-41.bekrn\n",
            "grandstaff_dataset/chopin/mazurkas/mazurka68-4/maj2_up_m-28-31.bekrn\n",
            "grandstaff_dataset/chopin/mazurkas/mazurka68-4/maj2_down_m-13-16.bekrn\n",
            "grandstaff_dataset/chopin/mazurkas/mazurka68-4/min3_down_m-37-40.bekrn\n",
            "grandstaff_dataset/chopin/mazurkas/mazurka68-4/maj3_up_m-16-19.bekrn\n",
            "grandstaff_dataset/chopin/mazurkas/mazurka68-4/min3_up_m-17-21.bekrn\n",
            "grandstaff_dataset/chopin/mazurkas/mazurka68-4/original_m-16-21.bekrn\n",
            "grandstaff_dataset/chopin/mazurkas/mazurka68-4/maj2_down_m-10-13.bekrn\n",
            "grandstaff_dataset/chopin/mazurkas/mazurka68-4/min3_up_m-29-33.bekrn\n",
            "grandstaff_dataset/chopin/mazurkas/mazurka68-4/min3_down_m-28-31.bekrn\n",
            "grandstaff_dataset/chopin/mazurkas/mazurka68-4/maj3_down_m-9-13.bekrn\n",
            "grandstaff_dataset/chopin/mazurkas/mazurka68-4/maj3_down_m-17-21.bekrn\n",
            "grandstaff_dataset/chopin/mazurkas/mazurka68-4/maj3_down_m-13-17.bekrn\n",
            "grandstaff_dataset/chopin/mazurkas/mazurka68-4/maj3_up_m-4-7.bekrn\n",
            "grandstaff_dataset/chopin/mazurkas/mazurka68-4/maj2_up_m-40-43.bekrn\n",
            "grandstaff_dataset/chopin/mazurkas/mazurka68-4/maj3_up_m-28-31.bekrn\n",
            "grandstaff_dataset/chopin/mazurkas/mazurka68-4/maj3_down_m-33-37.bekrn\n",
            "grandstaff_dataset/chopin/mazurkas/mazurka68-4/min3_up_m-13-17.bekrn\n",
            "grandstaff_dataset/chopin/mazurkas/mazurka68-4/min3_up_m-1-5.bekrn\n",
            "grandstaff_dataset/chopin/mazurkas/mazurka68-4/maj2_down_m-25-28.bekrn\n",
            "grandstaff_dataset/chopin/mazurkas/mazurka68-4/min3_down_m-7-10.bekrn\n",
            "grandstaff_dataset/chopin/mazurkas/mazurka68-4/min3_down_m-31-34.bekrn\n",
            "grandstaff_dataset/chopin/mazurkas/mazurka68-4/original_m-6-11.bekrn\n",
            "grandstaff_dataset/chopin/mazurkas/mazurka68-4/original_m-26-31.bekrn\n",
            "grandstaff_dataset/chopin/mazurkas/mazurka68-4/maj2_up_m-1-4.bekrn\n",
            "grandstaff_dataset/chopin/mazurkas/mazurka68-4/min3_up_m-5-9.bekrn\n",
            "grandstaff_dataset/chopin/mazurkas/mazurka68-4/maj3_up_m-37-40.bekrn\n",
            "grandstaff_dataset/chopin/mazurkas/mazurka68-4/maj2_down_m-4-7.bekrn\n",
            "grandstaff_dataset/chopin/mazurkas/mazurka68-4/maj2_down_m-16-19.bekrn\n",
            "grandstaff_dataset/chopin/mazurkas/mazurka68-4/original_m-11-16.bekrn\n",
            "grandstaff_dataset/chopin/mazurkas/mazurka68-4/min3_down_m-25-28.bekrn\n",
            "grandstaff_dataset/chopin/mazurkas/mazurka68-4/maj2_up_m-4-7.bekrn\n",
            "grandstaff_dataset/chopin/mazurkas/mazurka68-4/maj2_down_m-28-31.bekrn\n",
            "grandstaff_dataset/chopin/mazurkas/mazurka68-4/maj3_down_m-5-9.bekrn\n",
            "grandstaff_dataset/chopin/mazurkas/mazurka68-4/min3_down_m-16-19.bekrn\n",
            "grandstaff_dataset/chopin/mazurkas/mazurka68-4/maj3_down_m-25-29.bekrn\n",
            "grandstaff_dataset/chopin/mazurkas/mazurka68-4/maj3_up_m-40-43.bekrn\n",
            "grandstaff_dataset/chopin/mazurkas/mazurka68-4/maj3_up_m-25-28.bekrn\n",
            "grandstaff_dataset/chopin/mazurkas/mazurka68-4/maj2_up_m-13-16.bekrn\n",
            "grandstaff_dataset/chopin/mazurkas/mazurka68-4/maj2_down_m-37-40.bekrn\n",
            "grandstaff_dataset/chopin/mazurkas/mazurka68-4/maj2_down_m-7-10.bekrn\n",
            "grandstaff_dataset/chopin/mazurkas/mazurka68-4/maj3_up_m-7-10.bekrn\n",
            "grandstaff_dataset/chopin/mazurkas/mazurka68-4/maj2_up_m-25-28.bekrn\n",
            "grandstaff_dataset/chopin/mazurkas/mazurka68-4/maj2_up_m-31-34.bekrn\n",
            "grandstaff_dataset/chopin/mazurkas/mazurka68-4/min3_down_m-40-43.bekrn\n",
            "grandstaff_dataset/chopin/mazurkas/mazurka68-4/original_m-1-6.bekrn\n",
            "grandstaff_dataset/chopin/mazurkas/mazurka68-4/min3_up_m-25-29.bekrn\n",
            "grandstaff_dataset/chopin/mazurkas/mazurka68-4/maj3_up_m-13-16.bekrn\n",
            "grandstaff_dataset/chopin/mazurkas/mazurka68-4/min3_down_m-1-4.bekrn\n",
            "grandstaff_dataset/chopin/mazurkas/mazurka68-4/min3_up_m-33-37.bekrn\n",
            "grandstaff_dataset/chopin/mazurkas/mazurka68-4/maj3_up_m-31-34.bekrn\n",
            "grandstaff_dataset/chopin/mazurkas/mazurka68-4/maj2_down_m-1-4.bekrn\n",
            "grandstaff_dataset/chopin/mazurkas/mazurka68-4/maj2_up_m-16-19.bekrn\n",
            "grandstaff_dataset/chopin/mazurkas/mazurka68-4/maj2_down_m-31-34.bekrn\n",
            "grandstaff_dataset/chopin/mazurkas/mazurka68-4/maj3_up_m-10-13.bekrn\n",
            "grandstaff_dataset/chopin/mazurkas/mazurka68-4/maj3_up_m-1-4.bekrn\n",
            "grandstaff_dataset/chopin/mazurkas/mazurka68-4/maj2_up_m-37-40.bekrn\n",
            "grandstaff_dataset/chopin/mazurkas/mazurka68-4/original_m-31-36.bekrn\n",
            "grandstaff_dataset/chopin/mazurkas/mazurka68-4/maj2_up_m-7-10.bekrn\n",
            "grandstaff_dataset/chopin/mazurkas/mazurka06-4/maj3_down_m-24-27.bekrn\n",
            "grandstaff_dataset/chopin/mazurkas/mazurka06-4/maj3_up_m-24-27.bekrn\n",
            "grandstaff_dataset/chopin/mazurkas/mazurka06-4/maj3_up_m-0-3.bekrn\n",
            "grandstaff_dataset/chopin/mazurkas/mazurka06-4/min3_down_m-24-28.bekrn\n",
            "grandstaff_dataset/chopin/mazurkas/mazurka06-4/maj2_down_m-0-4.bekrn\n",
            "grandstaff_dataset/chopin/mazurkas/mazurka06-4/maj3_up_m-21-24.bekrn\n",
            "grandstaff_dataset/chopin/mazurkas/mazurka06-4/maj3_down_m-0-3.bekrn\n",
            "grandstaff_dataset/chopin/mazurkas/mazurka06-4/maj2_up_m-0-3.bekrn\n",
            "grandstaff_dataset/chopin/mazurkas/mazurka06-4/original_m-24-28.bekrn\n",
            "grandstaff_dataset/chopin/mazurkas/mazurka06-4/maj2_up_m-21-24.bekrn\n",
            "grandstaff_dataset/chopin/mazurkas/mazurka06-4/maj2_down_m-24-28.bekrn\n",
            "grandstaff_dataset/chopin/mazurkas/mazurka06-4/maj3_down_m-21-24.bekrn\n",
            "grandstaff_dataset/chopin/mazurkas/mazurka06-4/original_m-0-4.bekrn\n",
            "grandstaff_dataset/chopin/mazurkas/mazurka06-4/min3_down_m-0-4.bekrn\n",
            "grandstaff_dataset/chopin/mazurkas/mazurka06-4/maj2_up_m-24-27.bekrn\n",
            "grandstaff_dataset/chopin/mazurkas/mazurka59-2/min3_up_m-16-19.bekrn\n",
            "grandstaff_dataset/chopin/mazurkas/mazurka59-2/maj3_down_m-29-33.bekrn\n",
            "grandstaff_dataset/chopin/mazurkas/mazurka59-2/min3_up_m-94-97.bekrn\n",
            "grandstaff_dataset/chopin/mazurkas/mazurka59-2/maj3_up_m-1-6.bekrn\n",
            "grandstaff_dataset/chopin/mazurkas/mazurka59-2/min3_up_m-52-55.bekrn\n",
            "grandstaff_dataset/chopin/mazurkas/mazurka59-2/min3_up_m-22-25.bekrn\n",
            "grandstaff_dataset/chopin/mazurkas/mazurka59-2/maj3_down_m-73-77.bekrn\n",
            "grandstaff_dataset/chopin/mazurkas/mazurka59-2/original_m-53-57.bekrn\n",
            "grandstaff_dataset/chopin/mazurkas/mazurka59-2/maj2_up_m-11-16.bekrn\n",
            "grandstaff_dataset/chopin/mazurkas/mazurka59-2/min3_down_m-13-16.bekrn\n",
            "grandstaff_dataset/chopin/mazurkas/mazurka59-2/maj3_up_m-21-26.bekrn\n",
            "grandstaff_dataset/chopin/mazurkas/mazurka59-2/maj2_down_m-49-53.bekrn\n",
            "grandstaff_dataset/chopin/mazurkas/mazurka59-2/maj3_up_m-16-21.bekrn\n",
            "grandstaff_dataset/chopin/mazurkas/mazurka59-2/maj3_down_m-1-5.bekrn\n",
            "grandstaff_dataset/chopin/mazurkas/mazurka59-2/maj2_up_m-41-46.bekrn\n",
            "grandstaff_dataset/chopin/mazurkas/mazurka59-2/maj2_down_m-85-89.bekrn\n",
            "grandstaff_dataset/chopin/mazurkas/mazurka59-2/min3_down_m-10-13.bekrn\n",
            "grandstaff_dataset/chopin/mazurkas/mazurka59-2/min3_up_m-1-4.bekrn\n",
            "grandstaff_dataset/chopin/mazurkas/mazurka59-2/min3_down_m-103-106.bekrn\n",
            "grandstaff_dataset/chopin/mazurkas/mazurka59-2/min3_down_m-52-55.bekrn\n",
            "grandstaff_dataset/chopin/mazurkas/mazurka59-2/original_m-1-5.bekrn\n",
            "grandstaff_dataset/chopin/mazurkas/mazurka59-2/min3_up_m-76-79.bekrn\n",
            "grandstaff_dataset/chopin/mazurkas/mazurka59-2/original_m-33-37.bekrn\n",
            "grandstaff_dataset/chopin/mazurkas/mazurka59-2/maj2_down_m-29-33.bekrn\n",
            "grandstaff_dataset/chopin/mazurkas/mazurka59-2/min3_down_m-4-7.bekrn\n",
            "grandstaff_dataset/chopin/mazurkas/mazurka59-2/maj3_down_m-37-41.bekrn\n",
            "grandstaff_dataset/chopin/mazurkas/mazurka59-2/min3_down_m-37-40.bekrn\n",
            "grandstaff_dataset/chopin/mazurkas/mazurka59-2/maj3_up_m-76-81.bekrn\n",
            "grandstaff_dataset/chopin/mazurkas/mazurka59-2/min3_up_m-88-91.bekrn\n",
            "grandstaff_dataset/chopin/mazurkas/mazurka59-2/maj3_up_m-11-16.bekrn\n",
            "grandstaff_dataset/chopin/mazurkas/mazurka59-2/maj3_up_m-71-76.bekrn\n",
            "grandstaff_dataset/chopin/mazurkas/mazurka59-2/original_m-21-25.bekrn\n",
            "grandstaff_dataset/chopin/mazurkas/mazurka59-2/maj2_down_m-53-57.bekrn\n",
            "grandstaff_dataset/chopin/mazurkas/mazurka59-2/maj3_up_m-56-61.bekrn\n",
            "grandstaff_dataset/chopin/mazurkas/mazurka59-2/min3_down_m-88-91.bekrn\n",
            "grandstaff_dataset/chopin/mazurkas/mazurka59-2/maj2_down_m-45-49.bekrn\n",
            "grandstaff_dataset/chopin/mazurkas/mazurka59-2/min3_up_m-49-52.bekrn\n",
            "grandstaff_dataset/chopin/mazurkas/mazurka59-2/maj2_down_m-105-109.bekrn\n",
            "grandstaff_dataset/chopin/mazurkas/mazurka59-2/min3_down_m-76-79.bekrn\n",
            "grandstaff_dataset/chopin/mazurkas/mazurka59-2/min3_up_m-91-94.bekrn\n",
            "grandstaff_dataset/chopin/mazurkas/mazurka59-2/min3_down_m-28-31.bekrn\n",
            "grandstaff_dataset/chopin/mazurkas/mazurka59-2/maj2_down_m-69-73.bekrn\n",
            "grandstaff_dataset/chopin/mazurkas/mazurka59-2/maj3_down_m-9-13.bekrn\n",
            "grandstaff_dataset/chopin/mazurkas/mazurka59-2/original_m-57-61.bekrn\n",
            "grandstaff_dataset/chopin/mazurkas/mazurka59-2/original_m-17-21.bekrn\n",
            "grandstaff_dataset/chopin/mazurkas/mazurka59-2/min3_up_m-43-46.bekrn\n",
            "grandstaff_dataset/chopin/mazurkas/mazurka59-2/maj3_up_m-81-86.bekrn\n",
            "grandstaff_dataset/chopin/mazurkas/mazurka59-2/maj2_up_m-71-76.bekrn\n",
            "grandstaff_dataset/chopin/mazurkas/mazurka59-2/maj3_up_m-31-36.bekrn\n",
            "grandstaff_dataset/chopin/mazurkas/mazurka59-2/original_m-29-33.bekrn\n",
            "grandstaff_dataset/chopin/mazurkas/mazurka59-2/maj3_down_m-17-21.bekrn\n",
            "grandstaff_dataset/chopin/mazurkas/mazurka59-2/maj3_down_m-13-17.bekrn\n",
            "grandstaff_dataset/chopin/mazurkas/mazurka59-2/min3_up_m-106-109.bekrn\n",
            "grandstaff_dataset/chopin/mazurkas/mazurka59-2/min3_up_m-19-22.bekrn\n",
            "grandstaff_dataset/chopin/mazurkas/mazurka59-2/maj2_down_m-81-85.bekrn\n",
            "grandstaff_dataset/chopin/mazurkas/mazurka59-2/maj3_down_m-57-61.bekrn\n",
            "grandstaff_dataset/chopin/mazurkas/mazurka59-2/maj2_down_m-89-93.bekrn\n",
            "grandstaff_dataset/chopin/mazurkas/mazurka59-2/original_m-81-85.bekrn\n",
            "grandstaff_dataset/chopin/mazurkas/mazurka59-2/maj2_up_m-21-26.bekrn\n",
            "grandstaff_dataset/chopin/mazurkas/mazurka59-2/maj3_down_m-41-45.bekrn\n",
            "grandstaff_dataset/chopin/mazurkas/mazurka59-2/maj2_up_m-1-6.bekrn\n",
            "grandstaff_dataset/chopin/mazurkas/mazurka59-2/maj2_down_m-13-17.bekrn\n",
            "grandstaff_dataset/chopin/mazurkas/mazurka59-2/maj3_down_m-33-37.bekrn\n",
            "grandstaff_dataset/chopin/mazurkas/mazurka59-2/maj3_up_m-36-41.bekrn\n",
            "grandstaff_dataset/chopin/mazurkas/mazurka59-2/min3_down_m-70-73.bekrn\n",
            "grandstaff_dataset/chopin/mazurkas/mazurka59-2/min3_up_m-10-13.bekrn\n",
            "grandstaff_dataset/chopin/mazurkas/mazurka59-2/maj3_down_m-45-49.bekrn\n",
            "grandstaff_dataset/chopin/mazurkas/mazurka59-2/maj3_down_m-21-25.bekrn\n",
            "grandstaff_dataset/chopin/mazurkas/mazurka59-2/min3_up_m-79-82.bekrn\n",
            "grandstaff_dataset/chopin/mazurkas/mazurka59-2/min3_up_m-37-40.bekrn\n",
            "grandstaff_dataset/chopin/mazurkas/mazurka59-2/original_m-109-113.bekrn\n",
            "grandstaff_dataset/chopin/mazurkas/mazurka59-2/maj3_up_m-86-91.bekrn\n",
            "grandstaff_dataset/chopin/mazurkas/mazurka59-2/maj2_down_m-93-97.bekrn\n",
            "grandstaff_dataset/chopin/mazurkas/mazurka59-2/maj2_up_m-26-31.bekrn\n",
            "grandstaff_dataset/chopin/mazurkas/mazurka59-2/maj3_down_m-77-81.bekrn\n",
            "grandstaff_dataset/chopin/mazurkas/mazurka59-2/original_m-25-29.bekrn\n",
            "grandstaff_dataset/chopin/mazurkas/mazurka59-2/min3_down_m-109-112.bekrn\n",
            "grandstaff_dataset/chopin/mazurkas/mazurka59-2/maj3_down_m-53-57.bekrn\n",
            "grandstaff_dataset/chopin/mazurkas/mazurka59-2/min3_down_m-7-10.bekrn\n",
            "grandstaff_dataset/chopin/mazurkas/mazurka59-2/min3_down_m-79-82.bekrn\n",
            "grandstaff_dataset/chopin/mazurkas/mazurka59-2/original_m-13-17.bekrn\n",
            "grandstaff_dataset/chopin/mazurkas/mazurka59-2/maj2_up_m-86-91.bekrn\n",
            "grandstaff_dataset/chopin/mazurkas/mazurka59-2/original_m-77-81.bekrn\n",
            "grandstaff_dataset/chopin/mazurkas/mazurka59-2/min3_down_m-31-34.bekrn\n",
            "grandstaff_dataset/chopin/mazurkas/mazurka59-2/maj2_up_m-81-86.bekrn\n",
            "grandstaff_dataset/chopin/mazurkas/mazurka59-2/maj2_down_m-5-9.bekrn\n",
            "grandstaff_dataset/chopin/mazurkas/mazurka59-2/maj2_up_m-76-81.bekrn\n",
            "grandstaff_dataset/chopin/mazurkas/mazurka59-2/maj2_up_m-106-111.bekrn\n",
            "grandstaff_dataset/chopin/mazurkas/mazurka59-2/min3_up_m-97-100.bekrn\n",
            "grandstaff_dataset/chopin/mazurkas/mazurka59-2/maj3_down_m-49-53.bekrn\n",
            "grandstaff_dataset/chopin/mazurkas/mazurka59-2/min3_up_m-85-88.bekrn\n",
            "grandstaff_dataset/chopin/mazurkas/mazurka59-2/maj3_up_m-106-111.bekrn\n",
            "grandstaff_dataset/chopin/mazurkas/mazurka59-2/maj3_down_m-105-109.bekrn\n",
            "grandstaff_dataset/chopin/mazurkas/mazurka59-2/maj3_up_m-91-96.bekrn\n",
            "grandstaff_dataset/chopin/mazurkas/mazurka59-2/original_m-69-73.bekrn\n",
            "grandstaff_dataset/chopin/mazurkas/mazurka59-2/min3_up_m-28-31.bekrn\n",
            "grandstaff_dataset/chopin/mazurkas/mazurka59-2/maj3_up_m-6-11.bekrn\n",
            "grandstaff_dataset/chopin/mazurkas/mazurka59-2/maj2_down_m-57-61.bekrn\n",
            "grandstaff_dataset/chopin/mazurkas/mazurka59-2/maj3_down_m-85-89.bekrn\n",
            "grandstaff_dataset/chopin/mazurkas/mazurka59-2/min3_down_m-25-28.bekrn\n",
            "grandstaff_dataset/chopin/mazurkas/mazurka59-2/min3_up_m-73-76.bekrn\n",
            "grandstaff_dataset/chopin/mazurkas/mazurka59-2/min3_down_m-94-97.bekrn\n",
            "grandstaff_dataset/chopin/mazurkas/mazurka59-2/original_m-85-89.bekrn\n",
            "grandstaff_dataset/chopin/mazurkas/mazurka59-2/maj2_down_m-109-113.bekrn\n",
            "grandstaff_dataset/chopin/mazurkas/mazurka59-2/min3_down_m-97-100.bekrn\n",
            "grandstaff_dataset/chopin/mazurkas/mazurka59-2/min3_up_m-34-37.bekrn\n",
            "grandstaff_dataset/chopin/mazurkas/mazurka59-2/maj3_down_m-5-9.bekrn\n",
            "grandstaff_dataset/chopin/mazurkas/mazurka59-2/maj3_down_m-93-97.bekrn\n",
            "grandstaff_dataset/chopin/mazurkas/mazurka59-2/min3_down_m-16-19.bekrn\n",
            "grandstaff_dataset/chopin/mazurkas/mazurka59-2/maj3_up_m-41-46.bekrn\n",
            "grandstaff_dataset/chopin/mazurkas/mazurka59-2/maj3_down_m-81-85.bekrn\n",
            "grandstaff_dataset/chopin/mazurkas/mazurka59-2/maj2_down_m-21-25.bekrn\n",
            "grandstaff_dataset/chopin/mazurkas/mazurka59-2/maj3_down_m-89-93.bekrn\n",
            "grandstaff_dataset/chopin/mazurkas/mazurka59-2/maj2_up_m-36-41.bekrn\n",
            "grandstaff_dataset/chopin/mazurkas/mazurka59-2/maj3_down_m-25-29.bekrn\n",
            "grandstaff_dataset/chopin/mazurkas/mazurka59-2/maj2_down_m-33-37.bekrn\n",
            "grandstaff_dataset/chopin/mazurkas/mazurka59-2/original_m-9-13.bekrn\n",
            "grandstaff_dataset/chopin/mazurkas/mazurka59-2/maj3_down_m-109-113.bekrn\n",
            "grandstaff_dataset/chopin/mazurkas/mazurka59-2/maj2_up_m-16-21.bekrn\n",
            "grandstaff_dataset/chopin/mazurkas/mazurka59-2/min3_up_m-13-16.bekrn\n",
            "grandstaff_dataset/chopin/mazurkas/mazurka59-2/maj2_down_m-25-29.bekrn\n",
            "grandstaff_dataset/chopin/mazurkas/mazurka59-2/original_m-89-93.bekrn\n",
            "grandstaff_dataset/chopin/mazurkas/mazurka59-2/maj3_down_m-69-73.bekrn\n",
            "grandstaff_dataset/chopin/mazurkas/mazurka59-2/min3_up_m-25-28.bekrn\n",
            "grandstaff_dataset/chopin/mazurkas/mazurka59-2/min3_down_m-91-94.bekrn\n",
            "grandstaff_dataset/chopin/mazurkas/mazurka59-2/maj2_down_m-17-21.bekrn\n",
            "grandstaff_dataset/chopin/mazurkas/mazurka59-2/min3_up_m-109-112.bekrn\n",
            "grandstaff_dataset/chopin/mazurkas/mazurka59-2/original_m-37-41.bekrn\n",
            "grandstaff_dataset/chopin/mazurkas/mazurka59-2/maj3_up_m-26-31.bekrn\n",
            "grandstaff_dataset/chopin/mazurkas/mazurka59-2/min3_up_m-7-10.bekrn\n",
            "grandstaff_dataset/chopin/mazurkas/mazurka59-2/original_m-93-97.bekrn\n",
            "grandstaff_dataset/chopin/mazurkas/mazurka59-2/min3_down_m-49-52.bekrn\n",
            "grandstaff_dataset/chopin/mazurkas/mazurka59-2/maj2_down_m-41-45.bekrn\n",
            "grandstaff_dataset/chopin/mazurkas/mazurka59-2/min3_down_m-85-88.bekrn\n",
            "grandstaff_dataset/chopin/mazurkas/mazurka59-2/maj2_down_m-77-81.bekrn\n",
            "grandstaff_dataset/chopin/mazurkas/mazurka59-2/maj2_down_m-37-41.bekrn\n",
            "grandstaff_dataset/chopin/mazurkas/mazurka59-2/min3_down_m-40-43.bekrn\n",
            "grandstaff_dataset/chopin/mazurkas/mazurka59-2/maj2_up_m-56-61.bekrn\n",
            "grandstaff_dataset/chopin/mazurkas/mazurka59-2/original_m-45-49.bekrn\n",
            "grandstaff_dataset/chopin/mazurkas/mazurka59-2/min3_up_m-4-7.bekrn\n",
            "grandstaff_dataset/chopin/mazurkas/mazurka59-2/maj2_down_m-9-13.bekrn\n",
            "grandstaff_dataset/chopin/mazurkas/mazurka59-2/min3_up_m-31-34.bekrn\n",
            "grandstaff_dataset/chopin/mazurkas/mazurka59-2/maj2_up_m-91-96.bekrn\n",
            "grandstaff_dataset/chopin/mazurkas/mazurka59-2/min3_down_m-1-4.bekrn\n",
            "grandstaff_dataset/chopin/mazurkas/mazurka59-2/maj2_down_m-1-5.bekrn\n",
            "grandstaff_dataset/chopin/mazurkas/mazurka59-2/maj3_up_m-111-116.bekrn\n",
            "grandstaff_dataset/chopin/mazurkas/mazurka59-2/original_m-41-45.bekrn\n",
            "grandstaff_dataset/chopin/mazurkas/mazurka59-2/original_m-49-53.bekrn\n",
            "grandstaff_dataset/chopin/mazurkas/mazurka59-2/maj2_up_m-6-11.bekrn\n",
            "grandstaff_dataset/chopin/mazurkas/mazurka59-2/min3_up_m-70-73.bekrn\n",
            "grandstaff_dataset/chopin/mazurkas/mazurka59-2/min3_up_m-40-43.bekrn\n",
            "grandstaff_dataset/chopin/mazurkas/mazurka59-2/maj2_down_m-73-77.bekrn\n",
            "grandstaff_dataset/chopin/mazurkas/mazurka59-2/min3_down_m-34-37.bekrn\n",
            "grandstaff_dataset/chopin/mazurkas/mazurka59-2/original_m-105-109.bekrn\n",
            "grandstaff_dataset/chopin/mazurkas/mazurka59-2/min3_down_m-19-22.bekrn\n",
            "grandstaff_dataset/chopin/mazurkas/mazurka59-2/original_m-73-77.bekrn\n",
            "grandstaff_dataset/chopin/mazurkas/mazurka59-2/min3_down_m-73-76.bekrn\n",
            "grandstaff_dataset/chopin/mazurkas/mazurka59-2/min3_up_m-103-106.bekrn\n",
            "grandstaff_dataset/chopin/mazurkas/mazurka59-2/original_m-5-9.bekrn\n",
            "grandstaff_dataset/chopin/mazurkas/mazurka59-2/min3_down_m-22-25.bekrn\n",
            "grandstaff_dataset/chopin/mazurkas/mazurka59-2/min3_down_m-106-109.bekrn\n",
            "grandstaff_dataset/chopin/mazurkas/mazurka59-2/maj2_up_m-111-116.bekrn\n",
            "grandstaff_dataset/chopin/mazurkas/mazurka59-2/min3_down_m-43-46.bekrn\n",
            "grandstaff_dataset/chopin/mazurkas/mazurka59-2/maj2_up_m-31-36.bekrn\n",
            "grandstaff_dataset/chopin/mazurkas/mazurka24-1/maj2_down_m-4-8.bekrn\n",
            "grandstaff_dataset/chopin/mazurkas/mazurka24-1/maj3_down_m-45-48.bekrn\n",
            "grandstaff_dataset/chopin/mazurkas/mazurka24-1/min3_up_m-51-54.bekrn\n",
            "grandstaff_dataset/chopin/mazurkas/mazurka24-1/maj3_up_m-64-68.bekrn\n",
            "grandstaff_dataset/chopin/mazurkas/mazurka24-1/maj3_up_m-8-12.bekrn\n",
            "grandstaff_dataset/chopin/mazurkas/mazurka24-1/min3_up_m-3-6.bekrn\n",
            "grandstaff_dataset/chopin/mazurkas/mazurka24-1/min3_down_m-8-12.bekrn\n",
            "grandstaff_dataset/chopin/mazurkas/mazurka24-1/maj2_down_m-56-60.bekrn\n",
            "grandstaff_dataset/chopin/mazurkas/mazurka24-1/min3_down_m-48-52.bekrn\n",
            "grandstaff_dataset/chopin/mazurkas/mazurka24-1/maj3_up_m-20-24.bekrn\n",
            "grandstaff_dataset/chopin/mazurkas/mazurka24-1/maj3_down_m-54-57.bekrn\n",
            "grandstaff_dataset/chopin/mazurkas/mazurka24-1/original_m-60-65.bekrn\n",
            "grandstaff_dataset/chopin/mazurkas/mazurka24-1/maj2_up_m-64-68.bekrn\n",
            "grandstaff_dataset/chopin/mazurkas/mazurka24-1/maj2_down_m-36-40.bekrn\n",
            "grandstaff_dataset/chopin/mazurkas/mazurka24-1/maj3_up_m-12-16.bekrn\n",
            "grandstaff_dataset/chopin/mazurkas/mazurka24-1/maj3_down_m-24-27.bekrn\n",
            "grandstaff_dataset/chopin/mazurkas/mazurka24-1/min3_up_m-24-27.bekrn\n",
            "grandstaff_dataset/chopin/mazurkas/mazurka24-1/maj2_up_m-40-44.bekrn\n",
            "grandstaff_dataset/chopin/mazurkas/mazurka24-1/original_m-0-5.bekrn\n",
            "grandstaff_dataset/chopin/mazurkas/mazurka24-1/min3_up_m-18-21.bekrn\n",
            "grandstaff_dataset/chopin/mazurkas/mazurka24-1/maj3_up_m-56-60.bekrn\n",
            "grandstaff_dataset/chopin/mazurkas/mazurka24-1/min3_down_m-52-56.bekrn\n",
            "grandstaff_dataset/chopin/mazurkas/mazurka24-1/maj2_down_m-52-56.bekrn\n",
            "grandstaff_dataset/chopin/mazurkas/mazurka24-1/maj2_up_m-20-24.bekrn\n",
            "grandstaff_dataset/chopin/mazurkas/mazurka24-1/maj3_up_m-0-4.bekrn\n",
            "grandstaff_dataset/chopin/mazurkas/mazurka24-1/min3_down_m-32-36.bekrn\n",
            "grandstaff_dataset/chopin/mazurkas/mazurka24-1/min3_down_m-24-28.bekrn\n",
            "grandstaff_dataset/chopin/mazurkas/mazurka24-1/min3_up_m-63-66.bekrn\n",
            "grandstaff_dataset/chopin/mazurkas/mazurka24-1/maj2_up_m-16-20.bekrn\n",
            "grandstaff_dataset/chopin/mazurkas/mazurka24-1/min3_down_m-60-64.bekrn\n",
            "grandstaff_dataset/chopin/mazurkas/mazurka24-1/maj3_down_m-18-21.bekrn\n",
            "grandstaff_dataset/chopin/mazurkas/mazurka24-1/min3_down_m-4-8.bekrn\n",
            "grandstaff_dataset/chopin/mazurkas/mazurka24-1/min3_down_m-44-48.bekrn\n",
            "grandstaff_dataset/chopin/mazurkas/mazurka24-1/maj2_up_m-4-8.bekrn\n",
            "grandstaff_dataset/chopin/mazurkas/mazurka24-1/maj2_down_m-20-24.bekrn\n",
            "grandstaff_dataset/chopin/mazurkas/mazurka24-1/min3_up_m-36-39.bekrn\n",
            "grandstaff_dataset/chopin/mazurkas/mazurka24-1/original_m-15-20.bekrn\n",
            "grandstaff_dataset/chopin/mazurkas/mazurka24-1/maj2_up_m-0-4.bekrn\n",
            "grandstaff_dataset/chopin/mazurkas/mazurka24-1/maj2_down_m-44-48.bekrn\n",
            "grandstaff_dataset/chopin/mazurkas/mazurka24-1/maj3_up_m-28-32.bekrn\n",
            "grandstaff_dataset/chopin/mazurkas/mazurka24-1/maj2_down_m-0-4.bekrn\n",
            "grandstaff_dataset/chopin/mazurkas/mazurka24-1/maj2_down_m-32-36.bekrn\n",
            "grandstaff_dataset/chopin/mazurkas/mazurka24-1/maj3_up_m-24-28.bekrn\n",
            "grandstaff_dataset/chopin/mazurkas/mazurka24-1/maj3_up_m-32-36.bekrn\n",
            "grandstaff_dataset/chopin/mazurkas/mazurka24-1/maj2_up_m-36-40.bekrn\n",
            "grandstaff_dataset/chopin/mazurkas/mazurka24-1/maj3_up_m-4-8.bekrn\n",
            "grandstaff_dataset/chopin/mazurkas/mazurka24-1/maj2_up_m-8-12.bekrn\n",
            "grandstaff_dataset/chopin/mazurkas/mazurka24-1/maj3_up_m-48-52.bekrn\n",
            "grandstaff_dataset/chopin/mazurkas/mazurka24-1/min3_down_m-36-40.bekrn\n",
            "grandstaff_dataset/chopin/mazurkas/mazurka24-1/min3_up_m-54-57.bekrn\n",
            "grandstaff_dataset/chopin/mazurkas/mazurka24-1/maj2_down_m-16-20.bekrn\n",
            "grandstaff_dataset/chopin/mazurkas/mazurka24-1/min3_up_m-27-30.bekrn\n",
            "grandstaff_dataset/chopin/mazurkas/mazurka24-1/maj3_down_m-63-66.bekrn\n",
            "grandstaff_dataset/chopin/mazurkas/mazurka24-1/maj2_up_m-60-64.bekrn\n",
            "grandstaff_dataset/chopin/mazurkas/mazurka24-1/maj2_down_m-40-44.bekrn\n",
            "grandstaff_dataset/chopin/mazurkas/mazurka24-1/maj3_up_m-52-56.bekrn\n",
            "grandstaff_dataset/chopin/mazurkas/mazurka24-1/min3_up_m-21-24.bekrn\n",
            "grandstaff_dataset/chopin/mazurkas/mazurka24-1/min3_up_m-42-45.bekrn\n",
            "grandstaff_dataset/chopin/mazurkas/mazurka24-1/maj3_down_m-30-33.bekrn\n",
            "grandstaff_dataset/chopin/mazurkas/mazurka24-1/maj3_down_m-12-15.bekrn\n",
            "grandstaff_dataset/chopin/mazurkas/mazurka24-1/min3_down_m-20-24.bekrn\n",
            "grandstaff_dataset/chopin/mazurkas/mazurka24-1/maj2_up_m-28-32.bekrn\n",
            "grandstaff_dataset/chopin/mazurkas/mazurka24-1/min3_up_m-39-42.bekrn\n",
            "grandstaff_dataset/chopin/mazurkas/mazurka24-1/maj3_down_m-6-9.bekrn\n",
            "grandstaff_dataset/chopin/mazurkas/mazurka24-1/min3_up_m-45-48.bekrn\n",
            "grandstaff_dataset/chopin/mazurkas/mazurka24-1/original_m-30-35.bekrn\n",
            "grandstaff_dataset/chopin/mazurkas/mazurka24-1/maj2_up_m-44-48.bekrn\n",
            "grandstaff_dataset/chopin/mazurkas/mazurka24-1/maj3_down_m-0-3.bekrn\n",
            "grandstaff_dataset/chopin/mazurkas/mazurka24-1/maj2_up_m-52-56.bekrn\n",
            "grandstaff_dataset/chopin/mazurkas/mazurka24-1/original_m-40-45.bekrn\n",
            "grandstaff_dataset/chopin/mazurkas/mazurka24-1/min3_up_m-15-18.bekrn\n",
            "grandstaff_dataset/chopin/mazurkas/mazurka24-1/min3_down_m-40-44.bekrn\n",
            "grandstaff_dataset/chopin/mazurkas/mazurka24-1/maj3_up_m-36-40.bekrn\n",
            "grandstaff_dataset/chopin/mazurkas/mazurka24-1/original_m-65-70.bekrn\n",
            "grandstaff_dataset/chopin/mazurkas/mazurka24-1/maj2_up_m-24-28.bekrn\n",
            "grandstaff_dataset/chopin/mazurkas/mazurka24-1/maj2_up_m-48-52.bekrn\n",
            "grandstaff_dataset/chopin/mazurkas/mazurka24-1/min3_up_m-60-63.bekrn\n",
            "grandstaff_dataset/chopin/mazurkas/mazurka24-1/min3_up_m-6-9.bekrn\n",
            "grandstaff_dataset/chopin/mazurkas/mazurka24-1/min3_down_m-16-20.bekrn\n",
            "grandstaff_dataset/chopin/mazurkas/mazurka24-1/original_m-45-50.bekrn\n",
            "grandstaff_dataset/chopin/mazurkas/mazurka24-1/min3_up_m-0-3.bekrn\n",
            "grandstaff_dataset/chopin/mazurkas/mazurka24-1/maj2_down_m-12-16.bekrn\n",
            "grandstaff_dataset/chopin/mazurkas/mazurka24-1/maj3_up_m-44-48.bekrn\n",
            "grandstaff_dataset/chopin/mazurkas/mazurka24-1/min3_down_m-56-60.bekrn\n",
            "grandstaff_dataset/chopin/mazurkas/mazurka24-1/min3_down_m-28-32.bekrn\n",
            "grandstaff_dataset/chopin/mazurkas/mazurka24-1/original_m-25-30.bekrn\n",
            "grandstaff_dataset/chopin/mazurkas/mazurka24-1/maj2_down_m-64-68.bekrn\n",
            "grandstaff_dataset/chopin/mazurkas/mazurka24-1/min3_up_m-48-51.bekrn\n",
            "grandstaff_dataset/chopin/mazurkas/mazurka24-1/maj3_down_m-57-60.bekrn\n",
            "grandstaff_dataset/chopin/mazurkas/mazurka24-1/maj2_up_m-32-36.bekrn\n",
            "grandstaff_dataset/chopin/mazurkas/mazurka24-1/maj2_up_m-12-16.bekrn\n",
            "grandstaff_dataset/chopin/mazurkas/mazurka24-1/min3_up_m-12-15.bekrn\n",
            "grandstaff_dataset/chopin/mazurkas/mazurka24-1/maj3_down_m-27-30.bekrn\n",
            "grandstaff_dataset/chopin/mazurkas/mazurka24-1/maj3_down_m-42-45.bekrn\n",
            "grandstaff_dataset/chopin/mazurkas/mazurka24-1/maj2_down_m-24-28.bekrn\n",
            "grandstaff_dataset/chopin/mazurkas/mazurka24-1/maj3_up_m-60-64.bekrn\n",
            "grandstaff_dataset/chopin/mazurkas/mazurka24-1/min3_up_m-30-33.bekrn\n",
            "grandstaff_dataset/chopin/mazurkas/mazurka24-1/maj3_down_m-21-24.bekrn\n",
            "grandstaff_dataset/chopin/mazurkas/mazurka24-1/maj2_down_m-28-32.bekrn\n",
            "grandstaff_dataset/chopin/mazurkas/mazurka24-1/maj3_down_m-51-54.bekrn\n",
            "grandstaff_dataset/chopin/mazurkas/mazurka24-1/min3_down_m-64-68.bekrn\n",
            "grandstaff_dataset/chopin/mazurkas/mazurka24-1/maj2_down_m-48-52.bekrn\n",
            "grandstaff_dataset/chopin/mazurkas/mazurka24-1/maj2_down_m-8-12.bekrn\n",
            "grandstaff_dataset/chopin/mazurkas/mazurka24-1/maj3_down_m-39-42.bekrn\n",
            "grandstaff_dataset/chopin/mazurkas/mazurka24-1/min3_up_m-57-60.bekrn\n",
            "grandstaff_dataset/chopin/mazurkas/mazurka24-1/original_m-50-55.bekrn\n",
            "grandstaff_dataset/chopin/mazurkas/mazurka24-1/min3_down_m-0-4.bekrn\n",
            "grandstaff_dataset/chopin/mazurkas/mazurka24-1/maj3_down_m-60-63.bekrn\n",
            "grandstaff_dataset/chopin/mazurkas/mazurka24-1/maj3_up_m-16-20.bekrn\n",
            "grandstaff_dataset/chopin/mazurkas/mazurka24-1/maj3_down_m-36-39.bekrn\n",
            "grandstaff_dataset/chopin/mazurkas/mazurka24-1/original_m-20-25.bekrn\n",
            "grandstaff_dataset/chopin/mazurkas/mazurka24-1/maj2_down_m-60-64.bekrn\n",
            "grandstaff_dataset/chopin/mazurkas/mazurka24-1/original_m-10-15.bekrn\n",
            "grandstaff_dataset/chopin/mazurkas/mazurka24-1/maj3_up_m-40-44.bekrn\n",
            "grandstaff_dataset/chopin/mazurkas/mazurka24-1/original_m-55-60.bekrn\n",
            "grandstaff_dataset/chopin/mazurkas/mazurka24-1/original_m-5-10.bekrn\n",
            "grandstaff_dataset/chopin/mazurkas/mazurka24-1/maj3_down_m-15-18.bekrn\n",
            "grandstaff_dataset/chopin/mazurkas/mazurka24-1/original_m-35-40.bekrn\n",
            "grandstaff_dataset/chopin/mazurkas/mazurka24-1/maj3_down_m-48-51.bekrn\n",
            "grandstaff_dataset/chopin/mazurkas/mazurka24-1/min3_down_m-12-16.bekrn\n",
            "grandstaff_dataset/chopin/mazurkas/mazurka24-1/maj3_down_m-3-6.bekrn\n",
            "grandstaff_dataset/chopin/mazurkas/mazurka24-1/maj2_up_m-56-60.bekrn\n",
            "grandstaff_dataset/chopin/mazurkas/mazurka24-3/maj3_down_m-45-48.bekrn\n",
            "grandstaff_dataset/chopin/mazurkas/mazurka24-3/maj3_up_m-8-12.bekrn\n",
            "grandstaff_dataset/chopin/mazurkas/mazurka24-3/original_m-39-42.bekrn\n",
            "grandstaff_dataset/chopin/mazurkas/mazurka24-3/maj2_down_m-39-42.bekrn\n",
            "grandstaff_dataset/chopin/mazurkas/mazurka24-3/min3_up_m-40-44.bekrn\n",
            "grandstaff_dataset/chopin/mazurkas/mazurka24-3/maj3_up_m-12-16.bekrn\n",
            "grandstaff_dataset/chopin/mazurkas/mazurka24-3/original_m-33-36.bekrn\n",
            "grandstaff_dataset/chopin/mazurkas/mazurka24-3/maj3_up_m-0-4.bekrn\n",
            "grandstaff_dataset/chopin/mazurkas/mazurka24-3/maj2_up_m-5-10.bekrn\n",
            "grandstaff_dataset/chopin/mazurkas/mazurka24-3/min3_down_m-35-40.bekrn\n",
            "grandstaff_dataset/chopin/mazurkas/mazurka24-3/min3_up_m-8-12.bekrn\n",
            "grandstaff_dataset/chopin/mazurkas/mazurka24-3/maj2_down_m-0-3.bekrn\n",
            "grandstaff_dataset/chopin/mazurkas/mazurka24-3/maj2_up_m-40-45.bekrn\n",
            "grandstaff_dataset/chopin/mazurkas/mazurka24-3/maj3_up_m-28-32.bekrn\n",
            "grandstaff_dataset/chopin/mazurkas/mazurka24-3/original_m-30-33.bekrn\n",
            "grandstaff_dataset/chopin/mazurkas/mazurka24-3/maj2_down_m-42-45.bekrn\n",
            "grandstaff_dataset/chopin/mazurkas/mazurka24-3/maj3_up_m-32-36.bekrn\n",
            "grandstaff_dataset/chopin/mazurkas/mazurka24-3/maj2_down_m-30-33.bekrn\n",
            "grandstaff_dataset/chopin/mazurkas/mazurka24-3/maj3_up_m-4-8.bekrn\n",
            "grandstaff_dataset/chopin/mazurkas/mazurka24-3/maj2_up_m-0-5.bekrn\n",
            "grandstaff_dataset/chopin/mazurkas/mazurka24-3/min3_down_m-5-10.bekrn\n",
            "grandstaff_dataset/chopin/mazurkas/mazurka24-3/original_m-45-48.bekrn\n",
            "grandstaff_dataset/chopin/mazurkas/mazurka24-3/maj2_up_m-45-50.bekrn\n",
            "grandstaff_dataset/chopin/mazurkas/mazurka24-3/min3_up_m-44-48.bekrn\n",
            "grandstaff_dataset/chopin/mazurkas/mazurka24-3/original_m-9-12.bekrn\n",
            "grandstaff_dataset/chopin/mazurkas/mazurka24-3/maj3_down_m-30-33.bekrn\n",
            "grandstaff_dataset/chopin/mazurkas/mazurka24-3/maj3_down_m-12-15.bekrn\n",
            "grandstaff_dataset/chopin/mazurkas/mazurka24-3/maj3_down_m-6-9.bekrn\n",
            "grandstaff_dataset/chopin/mazurkas/mazurka24-3/maj3_down_m-0-3.bekrn\n",
            "grandstaff_dataset/chopin/mazurkas/mazurka24-3/maj2_down_m-36-39.bekrn\n",
            "grandstaff_dataset/chopin/mazurkas/mazurka24-3/original_m-27-30.bekrn\n",
            "grandstaff_dataset/chopin/mazurkas/mazurka24-3/min3_up_m-12-16.bekrn\n",
            "grandstaff_dataset/chopin/mazurkas/mazurka24-3/maj3_down_m-33-36.bekrn\n",
            "grandstaff_dataset/chopin/mazurkas/mazurka24-3/maj3_up_m-36-40.bekrn\n",
            "grandstaff_dataset/chopin/mazurkas/mazurka24-3/min3_up_m-4-8.bekrn\n",
            "grandstaff_dataset/chopin/mazurkas/mazurka24-3/min3_up_m-36-40.bekrn\n",
            "grandstaff_dataset/chopin/mazurkas/mazurka24-3/maj3_up_m-44-48.bekrn\n",
            "grandstaff_dataset/chopin/mazurkas/mazurka24-3/maj2_down_m-12-15.bekrn\n",
            "grandstaff_dataset/chopin/mazurkas/mazurka24-3/original_m-12-15.bekrn\n",
            "grandstaff_dataset/chopin/mazurkas/mazurka24-3/original_m-3-6.bekrn\n",
            "grandstaff_dataset/chopin/mazurkas/mazurka24-3/maj2_down_m-3-6.bekrn\n",
            "grandstaff_dataset/chopin/mazurkas/mazurka24-3/min3_down_m-40-45.bekrn\n",
            "grandstaff_dataset/chopin/mazurkas/mazurka24-3/maj2_down_m-6-9.bekrn\n",
            "grandstaff_dataset/chopin/mazurkas/mazurka24-3/min3_down_m-45-50.bekrn\n",
            "grandstaff_dataset/chopin/mazurkas/mazurka24-3/maj2_up_m-10-15.bekrn\n",
            "grandstaff_dataset/chopin/mazurkas/mazurka24-3/maj3_down_m-27-30.bekrn\n",
            "grandstaff_dataset/chopin/mazurkas/mazurka24-3/maj3_down_m-42-45.bekrn\n",
            "grandstaff_dataset/chopin/mazurkas/mazurka24-3/original_m-6-9.bekrn\n",
            "grandstaff_dataset/chopin/mazurkas/mazurka24-3/min3_up_m-32-36.bekrn\n",
            "grandstaff_dataset/chopin/mazurkas/mazurka24-3/maj2_down_m-9-12.bekrn\n",
            "grandstaff_dataset/chopin/mazurkas/mazurka24-3/original_m-36-39.bekrn\n",
            "grandstaff_dataset/chopin/mazurkas/mazurka24-3/maj3_down_m-39-42.bekrn\n",
            "grandstaff_dataset/chopin/mazurkas/mazurka24-3/min3_up_m-0-4.bekrn\n",
            "grandstaff_dataset/chopin/mazurkas/mazurka24-3/maj3_down_m-9-12.bekrn\n",
            "grandstaff_dataset/chopin/mazurkas/mazurka24-3/original_m-42-45.bekrn\n",
            "grandstaff_dataset/chopin/mazurkas/mazurka24-3/min3_down_m-0-5.bekrn\n",
            "grandstaff_dataset/chopin/mazurkas/mazurka24-3/maj2_down_m-45-48.bekrn\n",
            "grandstaff_dataset/chopin/mazurkas/mazurka24-3/min3_up_m-28-32.bekrn\n",
            "grandstaff_dataset/chopin/mazurkas/mazurka24-3/maj3_down_m-36-39.bekrn\n",
            "grandstaff_dataset/chopin/mazurkas/mazurka24-3/maj2_up_m-30-35.bekrn\n",
            "grandstaff_dataset/chopin/mazurkas/mazurka24-3/maj2_down_m-27-30.bekrn\n",
            "grandstaff_dataset/chopin/mazurkas/mazurka24-3/original_m-0-3.bekrn\n",
            "grandstaff_dataset/chopin/mazurkas/mazurka24-3/maj2_down_m-33-36.bekrn\n",
            "grandstaff_dataset/chopin/mazurkas/mazurka24-3/maj3_up_m-40-44.bekrn\n",
            "grandstaff_dataset/chopin/mazurkas/mazurka24-3/min3_down_m-30-35.bekrn\n",
            "grandstaff_dataset/chopin/mazurkas/mazurka24-3/maj3_down_m-3-6.bekrn\n",
            "grandstaff_dataset/chopin/mazurkas/mazurka24-3/maj2_up_m-35-40.bekrn\n",
            "grandstaff_dataset/chopin/mazurkas/mazurka24-3/min3_down_m-10-15.bekrn\n",
            "grandstaff_dataset/chopin/mazurkas/mazurka33-1/maj3_down_m-0-4.bekrn\n",
            "grandstaff_dataset/chopin/mazurkas/mazurka33-1/min3_down_m-8-12.bekrn\n",
            "grandstaff_dataset/chopin/mazurkas/mazurka33-1/maj3_up_m-36-39.bekrn\n",
            "grandstaff_dataset/chopin/mazurkas/mazurka33-1/maj3_down_m-28-32.bekrn\n",
            "grandstaff_dataset/chopin/mazurkas/mazurka33-1/min3_up_m-9-12.bekrn\n",
            "grandstaff_dataset/chopin/mazurkas/mazurka33-1/original_m-36-40.bekrn\n",
            "grandstaff_dataset/chopin/mazurkas/mazurka33-1/min3_down_m-48-52.bekrn\n",
            "grandstaff_dataset/chopin/mazurkas/mazurka33-1/maj3_up_m-27-30.bekrn\n",
            "grandstaff_dataset/chopin/mazurkas/mazurka33-1/min3_up_m-24-27.bekrn\n",
            "grandstaff_dataset/chopin/mazurkas/mazurka33-1/maj3_down_m-32-36.bekrn\n",
            "grandstaff_dataset/chopin/mazurkas/mazurka33-1/maj3_up_m-24-27.bekrn\n",
            "grandstaff_dataset/chopin/mazurkas/mazurka33-1/maj3_down_m-36-40.bekrn\n",
            "grandstaff_dataset/chopin/mazurkas/mazurka33-1/maj3_up_m-0-3.bekrn\n",
            "grandstaff_dataset/chopin/mazurkas/mazurka33-1/maj3_up_m-6-9.bekrn\n",
            "grandstaff_dataset/chopin/mazurkas/mazurka33-1/min3_down_m-32-36.bekrn\n",
            "grandstaff_dataset/chopin/mazurkas/mazurka33-1/min3_down_m-24-28.bekrn\n",
            "grandstaff_dataset/chopin/mazurkas/mazurka33-1/min3_down_m-44-48.bekrn\n",
            "grandstaff_dataset/chopin/mazurkas/mazurka33-1/maj3_up_m-9-12.bekrn\n",
            "grandstaff_dataset/chopin/mazurkas/mazurka33-1/min3_up_m-36-39.bekrn\n",
            "grandstaff_dataset/chopin/mazurkas/mazurka33-1/maj2_down_m-30-35.bekrn\n",
            "grandstaff_dataset/chopin/mazurkas/mazurka33-1/maj2_up_m-0-4.bekrn\n",
            "grandstaff_dataset/chopin/mazurkas/mazurka33-1/maj2_up_m-36-40.bekrn\n",
            "grandstaff_dataset/chopin/mazurkas/mazurka33-1/maj2_up_m-8-12.bekrn\n",
            "grandstaff_dataset/chopin/mazurkas/mazurka33-1/original_m-32-36.bekrn\n",
            "grandstaff_dataset/chopin/mazurkas/mazurka33-1/min3_down_m-36-40.bekrn\n",
            "grandstaff_dataset/chopin/mazurkas/mazurka33-1/original_m-48-52.bekrn\n",
            "grandstaff_dataset/chopin/mazurkas/mazurka33-1/min3_up_m-27-30.bekrn\n",
            "grandstaff_dataset/chopin/mazurkas/mazurka33-1/maj2_down_m-45-50.bekrn\n",
            "grandstaff_dataset/chopin/mazurkas/mazurka33-1/min3_up_m-42-45.bekrn\n",
            "grandstaff_dataset/chopin/mazurkas/mazurka33-1/maj2_up_m-28-32.bekrn\n",
            "grandstaff_dataset/chopin/mazurkas/mazurka33-1/maj3_up_m-42-45.bekrn\n",
            "grandstaff_dataset/chopin/mazurkas/mazurka33-1/min3_up_m-45-48.bekrn\n",
            "grandstaff_dataset/chopin/mazurkas/mazurka33-1/min3_up_m-33-36.bekrn\n",
            "grandstaff_dataset/chopin/mazurkas/mazurka33-1/maj2_up_m-44-48.bekrn\n",
            "grandstaff_dataset/chopin/mazurkas/mazurka33-1/maj3_down_m-12-16.bekrn\n",
            "grandstaff_dataset/chopin/mazurkas/mazurka33-1/maj3_down_m-8-12.bekrn\n",
            "grandstaff_dataset/chopin/mazurkas/mazurka33-1/original_m-44-48.bekrn\n",
            "grandstaff_dataset/chopin/mazurkas/mazurka33-1/maj2_up_m-24-28.bekrn\n",
            "grandstaff_dataset/chopin/mazurkas/mazurka33-1/maj2_up_m-48-52.bekrn\n",
            "grandstaff_dataset/chopin/mazurkas/mazurka33-1/min3_up_m-6-9.bekrn\n",
            "grandstaff_dataset/chopin/mazurkas/mazurka33-1/original_m-12-16.bekrn\n",
            "grandstaff_dataset/chopin/mazurkas/mazurka33-1/maj3_down_m-24-28.bekrn\n",
            "grandstaff_dataset/chopin/mazurkas/mazurka33-1/min3_up_m-0-3.bekrn\n",
            "grandstaff_dataset/chopin/mazurkas/mazurka33-1/original_m-8-12.bekrn\n",
            "grandstaff_dataset/chopin/mazurkas/mazurka33-1/maj3_down_m-48-52.bekrn\n",
            "grandstaff_dataset/chopin/mazurkas/mazurka33-1/min3_down_m-28-32.bekrn\n",
            "grandstaff_dataset/chopin/mazurkas/mazurka33-1/min3_up_m-48-51.bekrn\n",
            "grandstaff_dataset/chopin/mazurkas/mazurka33-1/original_m-28-32.bekrn\n",
            "grandstaff_dataset/chopin/mazurkas/mazurka33-1/maj2_up_m-32-36.bekrn\n",
            "grandstaff_dataset/chopin/mazurkas/mazurka33-1/maj3_up_m-12-15.bekrn\n",
            "grandstaff_dataset/chopin/mazurkas/mazurka33-1/original_m-24-28.bekrn\n",
            "grandstaff_dataset/chopin/mazurkas/mazurka33-1/maj2_up_m-12-16.bekrn\n",
            "grandstaff_dataset/chopin/mazurkas/mazurka33-1/min3_up_m-12-15.bekrn\n",
            "grandstaff_dataset/chopin/mazurkas/mazurka33-1/min3_up_m-30-33.bekrn\n",
            "grandstaff_dataset/chopin/mazurkas/mazurka33-1/maj2_down_m-25-30.bekrn\n",
            "grandstaff_dataset/chopin/mazurkas/mazurka33-1/maj3_down_m-44-48.bekrn\n",
            "grandstaff_dataset/chopin/mazurkas/mazurka33-1/original_m-0-4.bekrn\n",
            "grandstaff_dataset/chopin/mazurkas/mazurka33-1/maj3_up_m-33-36.bekrn\n",
            "grandstaff_dataset/chopin/mazurkas/mazurka33-1/min3_down_m-0-4.bekrn\n",
            "grandstaff_dataset/chopin/mazurkas/mazurka33-1/maj3_up_m-45-48.bekrn\n",
            "grandstaff_dataset/chopin/mazurkas/mazurka33-1/maj2_down_m-35-40.bekrn\n",
            "grandstaff_dataset/chopin/mazurkas/mazurka33-1/maj3_up_m-30-33.bekrn\n",
            "grandstaff_dataset/chopin/mazurkas/mazurka33-1/maj2_down_m-10-15.bekrn\n",
            "grandstaff_dataset/chopin/mazurkas/mazurka33-1/maj3_up_m-48-51.bekrn\n",
            "grandstaff_dataset/chopin/mazurkas/mazurka33-1/min3_down_m-12-16.bekrn\n",
            "grandstaff_dataset/chopin/mazurkas/mazurka33-4/maj2_up_m-212-216.bekrn\n",
            "grandstaff_dataset/chopin/mazurkas/mazurka33-4/min3_down_m-70-75.bekrn\n",
            "grandstaff_dataset/chopin/mazurkas/mazurka33-4/maj3_up_m-93-96.bekrn\n",
            "grandstaff_dataset/chopin/mazurkas/mazurka33-4/min3_up_m-84-87.bekrn\n",
            "grandstaff_dataset/chopin/mazurkas/mazurka33-4/min3_up_m-171-174.bekrn\n",
            "grandstaff_dataset/chopin/mazurkas/mazurka33-4/min3_up_m-51-54.bekrn\n",
            "grandstaff_dataset/chopin/mazurkas/mazurka33-4/maj2_down_m-0-5.bekrn\n",
            "grandstaff_dataset/chopin/mazurkas/mazurka33-4/maj3_up_m-162-165.bekrn\n",
            "grandstaff_dataset/chopin/mazurkas/mazurka33-4/maj2_down_m-135-140.bekrn\n",
            "grandstaff_dataset/chopin/mazurkas/mazurka33-4/maj2_up_m-172-176.bekrn\n",
            "grandstaff_dataset/chopin/mazurkas/mazurka33-4/maj2_down_m-5-10.bekrn\n",
            "grandstaff_dataset/chopin/mazurkas/mazurka33-4/min3_up_m-3-6.bekrn\n",
            "grandstaff_dataset/chopin/mazurkas/mazurka33-4/maj3_up_m-210-213.bekrn\n",
            "grandstaff_dataset/chopin/mazurkas/mazurka33-4/maj3_up_m-120-123.bekrn\n",
            "grandstaff_dataset/chopin/mazurkas/mazurka33-4/min3_down_m-80-85.bekrn\n",
            "grandstaff_dataset/chopin/mazurkas/mazurka33-4/maj2_up_m-164-168.bekrn\n",
            "grandstaff_dataset/chopin/mazurkas/mazurka33-4/maj2_down_m-160-165.bekrn\n",
            "grandstaff_dataset/chopin/mazurkas/mazurka33-4/maj3_down_m-110-115.bekrn\n",
            "grandstaff_dataset/chopin/mazurkas/mazurka33-4/original_m-110-115.bekrn\n",
            "grandstaff_dataset/chopin/mazurkas/mazurka33-4/maj3_up_m-201-204.bekrn\n",
            "grandstaff_dataset/chopin/mazurkas/mazurka33-4/min3_up_m-9-12.bekrn\n",
            "grandstaff_dataset/chopin/mazurkas/mazurka33-4/min3_up_m-96-99.bekrn\n",
            "grandstaff_dataset/chopin/mazurkas/mazurka33-4/maj2_up_m-184-188.bekrn\n",
            "grandstaff_dataset/chopin/mazurkas/mazurka33-4/min3_up_m-141-144.bekrn\n",
            "grandstaff_dataset/chopin/mazurkas/mazurka33-4/maj2_up_m-224-228.bekrn\n",
            "grandstaff_dataset/chopin/mazurkas/mazurka33-4/maj2_down_m-40-45.bekrn\n",
            "grandstaff_dataset/chopin/mazurkas/mazurka33-4/maj2_up_m-168-172.bekrn\n",
            "grandstaff_dataset/chopin/mazurkas/mazurka33-4/maj2_up_m-68-72.bekrn\n",
            "grandstaff_dataset/chopin/mazurkas/mazurka33-4/min3_up_m-135-138.bekrn\n",
            "grandstaff_dataset/chopin/mazurkas/mazurka33-4/min3_up_m-69-72.bekrn\n",
            "grandstaff_dataset/chopin/mazurkas/mazurka33-4/maj3_up_m-132-135.bekrn\n",
            "grandstaff_dataset/chopin/mazurkas/mazurka33-4/maj3_up_m-27-30.bekrn\n",
            "grandstaff_dataset/chopin/mazurkas/mazurka33-4/maj3_down_m-160-165.bekrn\n",
            "grandstaff_dataset/chopin/mazurkas/mazurka33-4/maj2_down_m-20-25.bekrn\n",
            "grandstaff_dataset/chopin/mazurkas/mazurka33-4/original_m-75-80.bekrn\n",
            "grandstaff_dataset/chopin/mazurkas/mazurka33-4/maj2_up_m-64-68.bekrn\n",
            "grandstaff_dataset/chopin/mazurkas/mazurka33-4/maj2_up_m-88-92.bekrn\n",
            "grandstaff_dataset/chopin/mazurkas/mazurka33-4/min3_down_m-20-25.bekrn\n",
            "grandstaff_dataset/chopin/mazurkas/mazurka33-4/maj2_down_m-170-175.bekrn\n",
            "grandstaff_dataset/chopin/mazurkas/mazurka33-4/maj2_up_m-152-156.bekrn\n",
            "grandstaff_dataset/chopin/mazurkas/mazurka33-4/maj3_up_m-18-21.bekrn\n",
            "grandstaff_dataset/chopin/mazurkas/mazurka33-4/maj3_up_m-219-222.bekrn\n",
            "grandstaff_dataset/chopin/mazurkas/mazurka33-4/min3_up_m-24-27.bekrn\n",
            "grandstaff_dataset/chopin/mazurkas/mazurka33-4/maj2_up_m-40-44.bekrn\n",
            "grandstaff_dataset/chopin/mazurkas/mazurka33-4/maj3_down_m-20-25.bekrn\n",
            "grandstaff_dataset/chopin/mazurkas/mazurka33-4/maj2_down_m-165-170.bekrn\n",
            "grandstaff_dataset/chopin/mazurkas/mazurka33-4/min3_down_m-90-95.bekrn\n",
            "grandstaff_dataset/chopin/mazurkas/mazurka33-4/original_m-0-5.bekrn\n",
            "grandstaff_dataset/chopin/mazurkas/mazurka33-4/maj3_up_m-24-27.bekrn\n",
            "grandstaff_dataset/chopin/mazurkas/mazurka33-4/maj2_up_m-180-184.bekrn\n",
            "grandstaff_dataset/chopin/mazurkas/mazurka33-4/original_m-195-200.bekrn\n",
            "grandstaff_dataset/chopin/mazurkas/mazurka33-4/original_m-200-205.bekrn\n",
            "grandstaff_dataset/chopin/mazurkas/mazurka33-4/min3_down_m-210-215.bekrn\n",
            "grandstaff_dataset/chopin/mazurkas/mazurka33-4/maj2_down_m-180-185.bekrn\n",
            "grandstaff_dataset/chopin/mazurkas/mazurka33-4/min3_up_m-216-219.bekrn\n",
            "grandstaff_dataset/chopin/mazurkas/mazurka33-4/maj3_up_m-147-150.bekrn\n",
            "grandstaff_dataset/chopin/mazurkas/mazurka33-4/min3_up_m-99-102.bekrn\n",
            "grandstaff_dataset/chopin/mazurkas/mazurka33-4/maj2_up_m-92-96.bekrn\n",
            "grandstaff_dataset/chopin/mazurkas/mazurka33-4/maj3_down_m-200-205.bekrn\n",
            "grandstaff_dataset/chopin/mazurkas/mazurka33-4/maj3_up_m-216-219.bekrn\n",
            "grandstaff_dataset/chopin/mazurkas/mazurka33-4/min3_up_m-18-21.bekrn\n",
            "grandstaff_dataset/chopin/mazurkas/mazurka33-4/maj3_up_m-51-54.bekrn\n",
            "grandstaff_dataset/chopin/mazurkas/mazurka33-4/maj3_up_m-54-57.bekrn\n",
            "grandstaff_dataset/chopin/mazurkas/mazurka33-4/maj3_up_m-0-3.bekrn\n",
            "grandstaff_dataset/chopin/mazurkas/mazurka33-4/maj3_down_m-115-120.bekrn\n",
            "grandstaff_dataset/chopin/mazurkas/mazurka33-4/min3_down_m-115-120.bekrn\n",
            "grandstaff_dataset/chopin/mazurkas/mazurka33-4/maj3_up_m-6-9.bekrn\n",
            "grandstaff_dataset/chopin/mazurkas/mazurka33-4/min3_up_m-213-216.bekrn\n",
            "grandstaff_dataset/chopin/mazurkas/mazurka33-4/maj2_up_m-80-84.bekrn\n",
            "grandstaff_dataset/chopin/mazurkas/mazurka33-4/maj2_up_m-20-24.bekrn\n",
            "grandstaff_dataset/chopin/mazurkas/mazurka33-4/min3_down_m-135-140.bekrn\n",
            "grandstaff_dataset/chopin/mazurkas/mazurka33-4/maj3_down_m-170-175.bekrn\n",
            "grandstaff_dataset/chopin/mazurkas/mazurka33-4/min3_up_m-165-168.bekrn\n",
            "grandstaff_dataset/chopin/mazurkas/mazurka33-4/min3_up_m-210-213.bekrn\n",
            "grandstaff_dataset/chopin/mazurkas/mazurka33-4/maj3_up_m-75-78.bekrn\n",
            "grandstaff_dataset/chopin/mazurkas/mazurka33-4/min3_up_m-63-66.bekrn\n",
            "grandstaff_dataset/chopin/mazurkas/mazurka33-4/maj2_up_m-16-20.bekrn\n",
            "grandstaff_dataset/chopin/mazurkas/mazurka33-4/min3_down_m-35-40.bekrn\n",
            "grandstaff_dataset/chopin/mazurkas/mazurka33-4/original_m-140-145.bekrn\n",
            "grandstaff_dataset/chopin/mazurkas/mazurka33-4/maj3_down_m-215-220.bekrn\n",
            "grandstaff_dataset/chopin/mazurkas/mazurka33-4/min3_up_m-147-150.bekrn\n",
            "grandstaff_dataset/chopin/mazurkas/mazurka33-4/min3_up_m-132-135.bekrn\n",
            "grandstaff_dataset/chopin/mazurkas/mazurka33-4/maj3_up_m-171-174.bekrn\n",
            "grandstaff_dataset/chopin/mazurkas/mazurka33-4/maj3_up_m-177-180.bekrn\n",
            "grandstaff_dataset/chopin/mazurkas/mazurka33-4/maj3_down_m-175-180.bekrn\n",
            "grandstaff_dataset/chopin/mazurkas/mazurka33-4/maj2_up_m-140-144.bekrn\n",
            "grandstaff_dataset/chopin/mazurkas/mazurka33-4/maj2_up_m-200-204.bekrn\n",
            "grandstaff_dataset/chopin/mazurkas/mazurka33-4/maj3_up_m-39-42.bekrn\n",
            "grandstaff_dataset/chopin/mazurkas/mazurka33-4/maj3_up_m-135-138.bekrn\n",
            "grandstaff_dataset/chopin/mazurkas/mazurka33-4/maj2_down_m-55-60.bekrn\n",
            "grandstaff_dataset/chopin/mazurkas/mazurka33-4/maj2_up_m-4-8.bekrn\n",
            "grandstaff_dataset/chopin/mazurkas/mazurka33-4/maj3_down_m-145-150.bekrn\n",
            "grandstaff_dataset/chopin/mazurkas/mazurka33-4/maj3_down_m-75-80.bekrn\n",
            "grandstaff_dataset/chopin/mazurkas/mazurka33-4/maj3_up_m-108-111.bekrn\n",
            "grandstaff_dataset/chopin/mazurkas/mazurka33-4/maj3_up_m-9-12.bekrn\n",
            "grandstaff_dataset/chopin/mazurkas/mazurka33-4/maj3_up_m-117-120.bekrn\n",
            "grandstaff_dataset/chopin/mazurkas/mazurka33-4/min3_down_m-85-90.bekrn\n",
            "grandstaff_dataset/chopin/mazurkas/mazurka33-4/maj3_down_m-165-170.bekrn\n",
            "grandstaff_dataset/chopin/mazurkas/mazurka33-4/maj2_down_m-30-35.bekrn\n",
            "grandstaff_dataset/chopin/mazurkas/mazurka33-4/original_m-15-20.bekrn\n",
            "grandstaff_dataset/chopin/mazurkas/mazurka33-4/maj3_up_m-153-156.bekrn\n",
            "grandstaff_dataset/chopin/mazurkas/mazurka33-4/maj3_down_m-25-30.bekrn\n",
            "grandstaff_dataset/chopin/mazurkas/mazurka33-4/min3_up_m-183-186.bekrn\n",
            "grandstaff_dataset/chopin/mazurkas/mazurka33-4/maj2_down_m-200-205.bekrn\n",
            "grandstaff_dataset/chopin/mazurkas/mazurka33-4/maj3_up_m-141-144.bekrn\n",
            "grandstaff_dataset/chopin/mazurkas/mazurka33-4/maj2_up_m-0-4.bekrn\n",
            "grandstaff_dataset/chopin/mazurkas/mazurka33-4/min3_down_m-175-180.bekrn\n",
            "grandstaff_dataset/chopin/mazurkas/mazurka33-4/maj3_down_m-135-140.bekrn\n",
            "grandstaff_dataset/chopin/mazurkas/mazurka33-4/original_m-115-120.bekrn\n",
            "grandstaff_dataset/chopin/mazurkas/mazurka33-4/maj2_up_m-216-220.bekrn\n",
            "grandstaff_dataset/chopin/mazurkas/mazurka33-4/original_m-80-85.bekrn\n",
            "grandstaff_dataset/chopin/mazurkas/mazurka33-4/maj3_down_m-0-5.bekrn\n",
            "grandstaff_dataset/chopin/mazurkas/mazurka33-4/maj2_down_m-50-55.bekrn\n",
            "grandstaff_dataset/chopin/mazurkas/mazurka33-4/maj2_down_m-145-150.bekrn\n",
            "grandstaff_dataset/chopin/mazurkas/mazurka33-4/min3_down_m-55-60.bekrn\n",
            "grandstaff_dataset/chopin/mazurkas/mazurka33-4/maj3_up_m-96-99.bekrn\n",
            "grandstaff_dataset/chopin/mazurkas/mazurka33-4/maj3_down_m-220-225.bekrn\n",
            "grandstaff_dataset/chopin/mazurkas/mazurka33-4/min3_up_m-108-111.bekrn\n",
            "grandstaff_dataset/chopin/mazurkas/mazurka33-4/maj3_down_m-5-10.bekrn\n",
            "grandstaff_dataset/chopin/mazurkas/mazurka33-4/min3_down_m-180-185.bekrn\n",
            "grandstaff_dataset/chopin/mazurkas/mazurka33-4/maj3_up_m-183-186.bekrn\n",
            "grandstaff_dataset/chopin/mazurkas/mazurka33-4/min3_down_m-185-190.bekrn\n",
            "grandstaff_dataset/chopin/mazurkas/mazurka33-4/maj3_down_m-195-200.bekrn\n",
            "grandstaff_dataset/chopin/mazurkas/mazurka33-4/maj3_up_m-207-210.bekrn\n",
            "grandstaff_dataset/chopin/mazurkas/mazurka33-4/maj2_down_m-65-70.bekrn\n",
            "grandstaff_dataset/chopin/mazurkas/mazurka33-4/maj2_down_m-220-225.bekrn\n",
            "grandstaff_dataset/chopin/mazurkas/mazurka33-4/min3_up_m-120-123.bekrn\n",
            "grandstaff_dataset/chopin/mazurkas/mazurka33-4/original_m-155-160.bekrn\n",
            "grandstaff_dataset/chopin/mazurkas/mazurka33-4/maj3_down_m-80-85.bekrn\n",
            "grandstaff_dataset/chopin/mazurkas/mazurka33-4/original_m-215-220.bekrn\n",
            "grandstaff_dataset/chopin/mazurkas/mazurka33-4/original_m-210-215.bekrn\n",
            "grandstaff_dataset/chopin/mazurkas/mazurka33-4/maj3_down_m-40-45.bekrn\n",
            "grandstaff_dataset/chopin/mazurkas/mazurka33-4/maj2_up_m-8-12.bekrn\n",
            "grandstaff_dataset/chopin/mazurkas/mazurka33-4/maj2_down_m-210-215.bekrn\n",
            "grandstaff_dataset/chopin/mazurkas/mazurka33-4/maj2_down_m-155-160.bekrn\n",
            "grandstaff_dataset/chopin/mazurkas/mazurka33-4/maj3_up_m-21-24.bekrn\n",
            "grandstaff_dataset/chopin/mazurkas/mazurka33-4/original_m-160-165.bekrn\n",
            "grandstaff_dataset/chopin/mazurkas/mazurka33-4/maj2_down_m-85-90.bekrn\n",
            "grandstaff_dataset/chopin/mazurkas/mazurka33-4/maj3_up_m-81-84.bekrn\n",
            "grandstaff_dataset/chopin/mazurkas/mazurka33-4/min3_up_m-54-57.bekrn\n",
            "grandstaff_dataset/chopin/mazurkas/mazurka33-4/maj3_up_m-198-201.bekrn\n",
            "grandstaff_dataset/chopin/mazurkas/mazurka33-4/min3_up_m-27-30.bekrn\n",
            "grandstaff_dataset/chopin/mazurkas/mazurka33-4/original_m-85-90.bekrn\n",
            "grandstaff_dataset/chopin/mazurkas/mazurka33-4/min3_up_m-102-105.bekrn\n",
            "grandstaff_dataset/chopin/mazurkas/mazurka33-4/maj3_up_m-168-171.bekrn\n",
            "grandstaff_dataset/chopin/mazurkas/mazurka33-4/min3_down_m-5-10.bekrn\n",
            "grandstaff_dataset/chopin/mazurkas/mazurka33-4/original_m-170-175.bekrn\n",
            "grandstaff_dataset/chopin/mazurkas/mazurka33-4/maj3_down_m-140-145.bekrn\n",
            "grandstaff_dataset/chopin/mazurkas/mazurka33-4/maj3_down_m-150-155.bekrn\n",
            "grandstaff_dataset/chopin/mazurkas/mazurka33-4/min3_down_m-155-160.bekrn\n",
            "grandstaff_dataset/chopin/mazurkas/mazurka33-4/min3_up_m-177-180.bekrn\n",
            "grandstaff_dataset/chopin/mazurkas/mazurka33-4/min3_up_m-198-201.bekrn\n",
            "grandstaff_dataset/chopin/mazurkas/mazurka33-4/original_m-165-170.bekrn\n",
            "grandstaff_dataset/chopin/mazurkas/mazurka33-4/original_m-185-190.bekrn\n",
            "grandstaff_dataset/chopin/mazurkas/mazurka33-4/min3_up_m-21-24.bekrn\n",
            "grandstaff_dataset/chopin/mazurkas/mazurka33-4/maj3_down_m-185-190.bekrn\n",
            "grandstaff_dataset/chopin/mazurkas/mazurka33-4/maj3_down_m-210-215.bekrn\n",
            "grandstaff_dataset/chopin/mazurkas/mazurka33-4/maj2_down_m-45-50.bekrn\n",
            "grandstaff_dataset/chopin/mazurkas/mazurka33-4/min3_up_m-81-84.bekrn\n",
            "grandstaff_dataset/chopin/mazurkas/mazurka33-4/maj3_up_m-165-168.bekrn\n",
            "grandstaff_dataset/chopin/mazurkas/mazurka33-4/min3_up_m-129-132.bekrn\n",
            "grandstaff_dataset/chopin/mazurkas/mazurka33-4/min3_down_m-170-175.bekrn\n",
            "grandstaff_dataset/chopin/mazurkas/mazurka33-4/maj3_down_m-55-60.bekrn\n",
            "grandstaff_dataset/chopin/mazurkas/mazurka33-4/min3_up_m-42-45.bekrn\n",
            "grandstaff_dataset/chopin/mazurkas/mazurka33-4/maj3_up_m-63-66.bekrn\n",
            "grandstaff_dataset/chopin/mazurkas/mazurka33-4/maj2_down_m-90-95.bekrn\n",
            "grandstaff_dataset/chopin/mazurkas/mazurka33-4/maj2_up_m-28-32.bekrn\n",
            "grandstaff_dataset/chopin/mazurkas/mazurka33-4/maj3_up_m-186-189.bekrn\n",
            "grandstaff_dataset/chopin/mazurkas/mazurka33-4/min3_up_m-39-42.bekrn\n",
            "grandstaff_dataset/chopin/mazurkas/mazurka33-4/maj3_up_m-42-45.bekrn\n",
            "grandstaff_dataset/chopin/mazurkas/mazurka33-4/min3_down_m-195-200.bekrn\n",
            "grandstaff_dataset/chopin/mazurkas/mazurka33-4/min3_up_m-45-48.bekrn\n",
            "grandstaff_dataset/chopin/mazurkas/mazurka33-4/original_m-145-150.bekrn\n",
            "grandstaff_dataset/chopin/mazurkas/mazurka33-4/min3_up_m-33-36.bekrn\n",
            "grandstaff_dataset/chopin/mazurkas/mazurka33-4/original_m-135-140.bekrn\n",
            "grandstaff_dataset/chopin/mazurkas/mazurka33-4/min3_down_m-165-170.bekrn\n",
            "grandstaff_dataset/chopin/mazurkas/mazurka33-4/original_m-30-35.bekrn\n",
            "grandstaff_dataset/chopin/mazurkas/mazurka33-4/maj2_up_m-44-48.bekrn\n",
            "grandstaff_dataset/chopin/mazurkas/mazurka33-4/maj2_up_m-52-56.bekrn\n",
            "grandstaff_dataset/chopin/mazurkas/mazurka33-4/min3_up_m-192-195.bekrn\n",
            "grandstaff_dataset/chopin/mazurkas/mazurka33-4/min3_up_m-75-78.bekrn\n",
            "grandstaff_dataset/chopin/mazurkas/mazurka33-4/maj3_up_m-156-159.bekrn\n",
            "grandstaff_dataset/chopin/mazurkas/mazurka33-4/maj3_up_m-144-147.bekrn\n",
            "grandstaff_dataset/chopin/mazurkas/mazurka33-4/original_m-40-45.bekrn\n",
            "grandstaff_dataset/chopin/mazurkas/mazurka33-4/maj3_up_m-129-132.bekrn\n",
            "grandstaff_dataset/chopin/mazurkas/mazurka33-4/maj3_up_m-213-216.bekrn\n",
            "grandstaff_dataset/chopin/mazurkas/mazurka33-4/min3_up_m-201-204.bekrn\n",
            "grandstaff_dataset/chopin/mazurkas/mazurka33-4/maj2_up_m-176-180.bekrn\n",
            "grandstaff_dataset/chopin/mazurkas/mazurka33-4/original_m-130-135.bekrn\n",
            "grandstaff_dataset/chopin/mazurkas/mazurka33-4/min3_up_m-15-18.bekrn\n",
            "grandstaff_dataset/chopin/mazurkas/mazurka33-4/maj2_down_m-80-85.bekrn\n",
            "grandstaff_dataset/chopin/mazurkas/mazurka33-4/maj3_up_m-189-192.bekrn\n",
            "grandstaff_dataset/chopin/mazurkas/mazurka33-4/maj2_up_m-208-212.bekrn\n",
            "grandstaff_dataset/chopin/mazurkas/mazurka33-4/original_m-190-195.bekrn\n",
            "grandstaff_dataset/chopin/mazurkas/mazurka33-4/maj3_up_m-180-183.bekrn\n",
            "grandstaff_dataset/chopin/mazurkas/mazurka33-4/maj2_up_m-188-192.bekrn\n",
            "grandstaff_dataset/chopin/mazurkas/mazurka33-4/maj2_down_m-175-180.bekrn\n",
            "grandstaff_dataset/chopin/mazurkas/mazurka33-4/maj3_up_m-15-18.bekrn\n",
            "grandstaff_dataset/chopin/mazurkas/mazurka33-4/min3_up_m-90-93.bekrn\n",
            "grandstaff_dataset/chopin/mazurkas/mazurka33-4/maj3_down_m-155-160.bekrn\n",
            "grandstaff_dataset/chopin/mazurkas/mazurka33-4/maj3_up_m-90-93.bekrn\n",
            "grandstaff_dataset/chopin/mazurkas/mazurka33-4/original_m-65-70.bekrn\n",
            "grandstaff_dataset/chopin/mazurkas/mazurka33-4/maj3_up_m-150-153.bekrn\n",
            "grandstaff_dataset/chopin/mazurkas/mazurka33-4/maj2_up_m-24-28.bekrn\n",
            "grandstaff_dataset/chopin/mazurkas/mazurka33-4/maj2_up_m-48-52.bekrn\n",
            "grandstaff_dataset/chopin/mazurkas/mazurka33-4/min3_up_m-6-9.bekrn\n",
            "grandstaff_dataset/chopin/mazurkas/mazurka33-4/maj2_down_m-215-220.bekrn\n",
            "grandstaff_dataset/chopin/mazurkas/mazurka33-4/min3_up_m-111-114.bekrn\n",
            "grandstaff_dataset/chopin/mazurkas/mazurka33-4/min3_up_m-189-192.bekrn\n",
            "grandstaff_dataset/chopin/mazurkas/mazurka33-4/original_m-45-50.bekrn\n",
            "grandstaff_dataset/chopin/mazurkas/mazurka33-4/min3_up_m-150-153.bekrn\n",
            "grandstaff_dataset/chopin/mazurkas/mazurka33-4/maj3_up_m-84-87.bekrn\n",
            "grandstaff_dataset/chopin/mazurkas/mazurka33-4/min3_up_m-0-3.bekrn\n",
            "grandstaff_dataset/chopin/mazurkas/mazurka33-4/maj3_down_m-180-185.bekrn\n",
            "grandstaff_dataset/chopin/mazurkas/mazurka33-4/min3_up_m-168-171.bekrn\n",
            "grandstaff_dataset/chopin/mazurkas/mazurka33-4/min3_up_m-162-165.bekrn\n",
            "grandstaff_dataset/chopin/mazurkas/mazurka33-4/maj3_down_m-65-70.bekrn\n",
            "grandstaff_dataset/chopin/mazurkas/mazurka33-4/maj2_up_m-192-196.bekrn\n",
            "grandstaff_dataset/chopin/mazurkas/mazurka33-4/maj3_up_m-195-198.bekrn\n",
            "grandstaff_dataset/chopin/mazurkas/mazurka33-4/maj2_up_m-72-76.bekrn\n",
            "grandstaff_dataset/chopin/mazurkas/mazurka33-4/min3_up_m-153-156.bekrn\n",
            "grandstaff_dataset/chopin/mazurkas/mazurka33-4/maj3_down_m-70-75.bekrn\n",
            "grandstaff_dataset/chopin/mazurkas/mazurka33-4/maj2_up_m-160-164.bekrn\n",
            "grandstaff_dataset/chopin/mazurkas/mazurka33-4/min3_up_m-159-162.bekrn\n",
            "grandstaff_dataset/chopin/mazurkas/mazurka33-4/original_m-150-155.bekrn\n",
            "grandstaff_dataset/chopin/mazurkas/mazurka33-4/maj3_up_m-57-60.bekrn\n",
            "grandstaff_dataset/chopin/mazurkas/mazurka33-4/original_m-25-30.bekrn\n",
            "grandstaff_dataset/chopin/mazurkas/mazurka33-4/maj2_up_m-132-136.bekrn\n",
            "grandstaff_dataset/chopin/mazurkas/mazurka33-4/maj2_up_m-220-224.bekrn\n",
            "grandstaff_dataset/chopin/mazurkas/mazurka33-4/min3_down_m-25-30.bekrn\n",
            "grandstaff_dataset/chopin/mazurkas/mazurka33-4/maj2_up_m-96-100.bekrn\n",
            "grandstaff_dataset/chopin/mazurkas/mazurka33-4/min3_down_m-40-45.bekrn\n",
            "grandstaff_dataset/chopin/mazurkas/mazurka33-4/min3_up_m-48-51.bekrn\n",
            "grandstaff_dataset/chopin/mazurkas/mazurka33-4/maj3_up_m-87-90.bekrn\n",
            "grandstaff_dataset/chopin/mazurkas/mazurka33-4/maj2_down_m-15-20.bekrn\n",
            "grandstaff_dataset/chopin/mazurkas/mazurka33-4/min3_up_m-207-210.bekrn\n",
            "grandstaff_dataset/chopin/mazurkas/mazurka33-4/min3_down_m-45-50.bekrn\n",
            "grandstaff_dataset/chopin/mazurkas/mazurka33-4/maj2_up_m-128-132.bekrn\n",
            "grandstaff_dataset/chopin/mazurkas/mazurka33-4/maj2_up_m-32-36.bekrn\n",
            "grandstaff_dataset/chopin/mazurkas/mazurka33-4/maj3_down_m-45-50.bekrn\n",
            "grandstaff_dataset/chopin/mazurkas/mazurka33-4/maj3_down_m-35-40.bekrn\n",
            "grandstaff_dataset/chopin/mazurkas/mazurka33-4/maj3_down_m-30-35.bekrn\n",
            "grandstaff_dataset/chopin/mazurkas/mazurka33-4/maj2_down_m-70-75.bekrn\n",
            "grandstaff_dataset/chopin/mazurkas/mazurka33-4/maj2_up_m-156-160.bekrn\n",
            "grandstaff_dataset/chopin/mazurkas/mazurka33-4/maj2_down_m-115-120.bekrn\n",
            "grandstaff_dataset/chopin/mazurkas/mazurka33-4/maj3_up_m-174-177.bekrn\n",
            "grandstaff_dataset/chopin/mazurkas/mazurka33-4/maj2_up_m-148-152.bekrn\n",
            "grandstaff_dataset/chopin/mazurkas/mazurka33-4/min3_up_m-87-90.bekrn\n",
            "grandstaff_dataset/chopin/mazurkas/mazurka33-4/maj3_up_m-69-72.bekrn\n",
            "grandstaff_dataset/chopin/mazurkas/mazurka33-4/original_m-90-95.bekrn\n",
            "grandstaff_dataset/chopin/mazurkas/mazurka33-4/maj2_down_m-195-200.bekrn\n",
            "grandstaff_dataset/chopin/mazurkas/mazurka33-4/original_m-70-75.bekrn\n",
            "grandstaff_dataset/chopin/mazurkas/mazurka33-4/min3_down_m-75-80.bekrn\n",
            "grandstaff_dataset/chopin/mazurkas/mazurka33-4/maj3_up_m-3-6.bekrn\n",
            "grandstaff_dataset/chopin/mazurkas/mazurka33-4/maj3_up_m-159-162.bekrn\n",
            "grandstaff_dataset/chopin/mazurkas/mazurka33-4/min3_up_m-174-177.bekrn\n",
            "grandstaff_dataset/chopin/mazurkas/mazurka33-4/maj2_up_m-104-108.bekrn\n",
            "grandstaff_dataset/chopin/mazurkas/mazurka33-4/min3_down_m-145-150.bekrn\n",
            "grandstaff_dataset/chopin/mazurkas/mazurka33-4/min3_up_m-156-159.bekrn\n",
            "grandstaff_dataset/chopin/mazurkas/mazurka33-4/min3_up_m-30-33.bekrn\n",
            "grandstaff_dataset/chopin/mazurkas/mazurka33-4/min3_up_m-219-222.bekrn\n",
            "grandstaff_dataset/chopin/mazurkas/mazurka33-4/maj3_down_m-50-55.bekrn\n",
            "grandstaff_dataset/chopin/mazurkas/mazurka33-4/maj2_down_m-75-80.bekrn\n",
            "grandstaff_dataset/chopin/mazurkas/mazurka33-4/maj3_up_m-72-75.bekrn\n",
            "grandstaff_dataset/chopin/mazurkas/mazurka33-4/maj3_down_m-130-135.bekrn\n",
            "grandstaff_dataset/chopin/mazurkas/mazurka33-4/maj3_down_m-90-95.bekrn\n",
            "grandstaff_dataset/chopin/mazurkas/mazurka33-4/maj2_up_m-116-120.bekrn\n",
            "grandstaff_dataset/chopin/mazurkas/mazurka33-4/min3_up_m-78-81.bekrn\n",
            "grandstaff_dataset/chopin/mazurkas/mazurka33-4/maj2_down_m-150-155.bekrn\n",
            "grandstaff_dataset/chopin/mazurkas/mazurka33-4/maj2_down_m-25-30.bekrn\n",
            "grandstaff_dataset/chopin/mazurkas/mazurka33-4/maj3_up_m-114-117.bekrn\n",
            "grandstaff_dataset/chopin/mazurkas/mazurka33-4/maj3_down_m-15-20.bekrn\n",
            "grandstaff_dataset/chopin/mazurkas/mazurka33-4/min3_down_m-190-195.bekrn\n",
            "grandstaff_dataset/chopin/mazurkas/mazurka33-4/maj2_up_m-136-140.bekrn\n",
            "grandstaff_dataset/chopin/mazurkas/mazurka33-4/maj3_up_m-33-36.bekrn\n",
            "grandstaff_dataset/chopin/mazurkas/mazurka33-4/min3_up_m-66-69.bekrn\n",
            "grandstaff_dataset/chopin/mazurkas/mazurka33-4/min3_down_m-140-145.bekrn\n",
            "grandstaff_dataset/chopin/mazurkas/mazurka33-4/min3_down_m-160-165.bekrn\n",
            "grandstaff_dataset/chopin/mazurkas/mazurka33-4/min3_down_m-200-205.bekrn\n",
            "grandstaff_dataset/chopin/mazurkas/mazurka33-4/maj2_up_m-84-88.bekrn\n",
            "grandstaff_dataset/chopin/mazurkas/mazurka33-4/min3_down_m-15-20.bekrn\n",
            "grandstaff_dataset/chopin/mazurkas/mazurka33-4/maj2_up_m-112-116.bekrn\n",
            "grandstaff_dataset/chopin/mazurkas/mazurka33-4/min3_up_m-144-147.bekrn\n",
            "grandstaff_dataset/chopin/mazurkas/mazurka33-4/min3_down_m-65-70.bekrn\n",
            "grandstaff_dataset/chopin/mazurkas/mazurka33-4/min3_up_m-57-60.bekrn\n",
            "grandstaff_dataset/chopin/mazurkas/mazurka33-4/original_m-50-55.bekrn\n",
            "grandstaff_dataset/chopin/mazurkas/mazurka33-4/maj3_down_m-85-90.bekrn\n",
            "grandstaff_dataset/chopin/mazurkas/mazurka33-4/min3_up_m-138-141.bekrn\n",
            "grandstaff_dataset/chopin/mazurkas/mazurka33-4/maj3_up_m-192-195.bekrn\n",
            "grandstaff_dataset/chopin/mazurkas/mazurka33-4/min3_up_m-93-96.bekrn\n",
            "grandstaff_dataset/chopin/mazurkas/mazurka33-4/maj3_up_m-45-48.bekrn\n",
            "grandstaff_dataset/chopin/mazurkas/mazurka33-4/maj2_down_m-130-135.bekrn\n",
            "grandstaff_dataset/chopin/mazurkas/mazurka33-4/original_m-175-180.bekrn\n",
            "grandstaff_dataset/chopin/mazurkas/mazurka33-4/maj3_up_m-99-102.bekrn\n",
            "grandstaff_dataset/chopin/mazurkas/mazurka33-4/min3_up_m-126-129.bekrn\n",
            "grandstaff_dataset/chopin/mazurkas/mazurka33-4/min3_up_m-186-189.bekrn\n",
            "grandstaff_dataset/chopin/mazurkas/mazurka33-4/min3_up_m-114-117.bekrn\n",
            "grandstaff_dataset/chopin/mazurkas/mazurka33-4/maj3_up_m-111-114.bekrn\n",
            "grandstaff_dataset/chopin/mazurkas/mazurka33-4/maj2_down_m-110-115.bekrn\n",
            "grandstaff_dataset/chopin/mazurkas/mazurka33-4/min3_down_m-0-5.bekrn\n",
            "grandstaff_dataset/chopin/mazurkas/mazurka33-4/maj3_up_m-138-141.bekrn\n",
            "grandstaff_dataset/chopin/mazurkas/mazurka33-4/maj2_up_m-144-148.bekrn\n",
            "grandstaff_dataset/chopin/mazurkas/mazurka33-4/min3_down_m-110-115.bekrn\n",
            "grandstaff_dataset/chopin/mazurkas/mazurka33-4/maj3_down_m-190-195.bekrn\n",
            "grandstaff_dataset/chopin/mazurkas/mazurka33-4/min3_up_m-195-198.bekrn\n",
            "grandstaff_dataset/chopin/mazurkas/mazurka33-4/original_m-20-25.bekrn\n",
            "grandstaff_dataset/chopin/mazurkas/mazurka33-4/maj2_down_m-185-190.bekrn\n",
            "grandstaff_dataset/chopin/mazurkas/mazurka33-4/maj2_down_m-35-40.bekrn\n",
            "grandstaff_dataset/chopin/mazurkas/mazurka33-4/maj3_up_m-30-33.bekrn\n",
            "grandstaff_dataset/chopin/mazurkas/mazurka33-4/min3_up_m-117-120.bekrn\n",
            "grandstaff_dataset/chopin/mazurkas/mazurka33-4/maj2_up_m-196-200.bekrn\n",
            "grandstaff_dataset/chopin/mazurkas/mazurka33-4/maj2_up_m-108-112.bekrn\n",
            "grandstaff_dataset/chopin/mazurkas/mazurka33-4/maj3_up_m-126-129.bekrn\n",
            "grandstaff_dataset/chopin/mazurkas/mazurka33-4/maj2_up_m-120-124.bekrn\n",
            "grandstaff_dataset/chopin/mazurkas/mazurka33-4/maj2_down_m-190-195.bekrn\n",
            "grandstaff_dataset/chopin/mazurkas/mazurka33-4/original_m-55-60.bekrn\n",
            "grandstaff_dataset/chopin/mazurkas/mazurka33-4/original_m-5-10.bekrn\n",
            "grandstaff_dataset/chopin/mazurkas/mazurka33-4/min3_up_m-72-75.bekrn\n",
            "grandstaff_dataset/chopin/mazurkas/mazurka33-4/min3_down_m-220-225.bekrn\n",
            "grandstaff_dataset/chopin/mazurkas/mazurka33-4/maj3_up_m-78-81.bekrn\n",
            "grandstaff_dataset/chopin/mazurkas/mazurka33-4/original_m-220-225.bekrn\n",
            "grandstaff_dataset/chopin/mazurkas/mazurka33-4/original_m-180-185.bekrn\n",
            "grandstaff_dataset/chopin/mazurkas/mazurka33-4/min3_down_m-50-55.bekrn\n",
            "grandstaff_dataset/chopin/mazurkas/mazurka33-4/min3_up_m-180-183.bekrn\n",
            "grandstaff_dataset/chopin/mazurkas/mazurka33-4/maj2_down_m-140-145.bekrn\n",
            "grandstaff_dataset/chopin/mazurkas/mazurka33-4/min3_down_m-215-220.bekrn\n",
            "grandstaff_dataset/chopin/mazurkas/mazurka33-4/original_m-35-40.bekrn\n",
            "grandstaff_dataset/chopin/mazurkas/mazurka33-4/maj3_up_m-48-51.bekrn\n",
            "grandstaff_dataset/chopin/mazurkas/mazurka33-4/maj3_up_m-66-69.bekrn\n",
            "grandstaff_dataset/chopin/mazurkas/mazurka33-4/min3_down_m-30-35.bekrn\n",
            "grandstaff_dataset/chopin/mazurkas/mazurka33-4/maj3_up_m-102-105.bekrn\n",
            "grandstaff_dataset/chopin/mazurkas/mazurka33-4/min3_down_m-150-155.bekrn\n",
            "grandstaff_dataset/chopin/mazurkas/mazurka33-4/min3_down_m-130-135.bekrn\n",
            "grandstaff_dataset/chopin/mazurkas/mazurka33-4/maj2_up_m-56-60.bekrn\n",
            "grandstaff_dataset/chopin/mazurkas/mazurka07-2/maj2_down_m-0-5.bekrn\n",
            "grandstaff_dataset/chopin/mazurkas/mazurka07-2/maj2_down_m-5-10.bekrn\n",
            "grandstaff_dataset/chopin/mazurkas/mazurka07-2/original_m-39-42.bekrn\n",
            "grandstaff_dataset/chopin/mazurkas/mazurka07-2/maj2_down_m-40-45.bekrn\n",
            "grandstaff_dataset/chopin/mazurkas/mazurka07-2/min3_up_m-5-10.bekrn\n",
            "grandstaff_dataset/chopin/mazurkas/mazurka07-2/maj2_down_m-20-25.bekrn\n",
            "grandstaff_dataset/chopin/mazurkas/mazurka07-2/min3_up_m-20-25.bekrn\n",
            "grandstaff_dataset/chopin/mazurkas/mazurka07-2/min3_down_m-20-25.bekrn\n",
            "grandstaff_dataset/chopin/mazurkas/mazurka07-2/maj3_up_m-55-60.bekrn\n",
            "grandstaff_dataset/chopin/mazurkas/mazurka07-2/maj2_up_m-40-44.bekrn\n",
            "grandstaff_dataset/chopin/mazurkas/mazurka07-2/maj3_down_m-20-25.bekrn\n",
            "grandstaff_dataset/chopin/mazurkas/mazurka07-2/maj3_up_m-30-35.bekrn\n",
            "grandstaff_dataset/chopin/mazurkas/mazurka07-2/min3_up_m-55-60.bekrn\n",
            "grandstaff_dataset/chopin/mazurkas/mazurka07-2/maj2_up_m-20-24.bekrn\n",
            "grandstaff_dataset/chopin/mazurkas/mazurka07-2/maj3_up_m-5-10.bekrn\n",
            "grandstaff_dataset/chopin/mazurkas/mazurka07-2/min3_up_m-50-55.bekrn\n",
            "grandstaff_dataset/chopin/mazurkas/mazurka07-2/maj2_up_m-16-20.bekrn\n",
            "grandstaff_dataset/chopin/mazurkas/mazurka07-2/maj3_up_m-0-5.bekrn\n",
            "grandstaff_dataset/chopin/mazurkas/mazurka07-2/min3_down_m-35-40.bekrn\n",
            "grandstaff_dataset/chopin/mazurkas/mazurka07-2/min3_up_m-25-30.bekrn\n",
            "grandstaff_dataset/chopin/mazurkas/mazurka07-2/maj2_down_m-55-60.bekrn\n",
            "grandstaff_dataset/chopin/mazurkas/mazurka07-2/maj2_up_m-4-8.bekrn\n",
            "grandstaff_dataset/chopin/mazurkas/mazurka07-2/maj3_up_m-25-30.bekrn\n",
            "grandstaff_dataset/chopin/mazurkas/mazurka07-2/maj2_down_m-30-35.bekrn\n",
            "grandstaff_dataset/chopin/mazurkas/mazurka07-2/maj3_down_m-25-30.bekrn\n",
            "grandstaff_dataset/chopin/mazurkas/mazurka07-2/maj2_up_m-0-4.bekrn\n",
            "grandstaff_dataset/chopin/mazurkas/mazurka07-2/maj3_up_m-50-55.bekrn\n",
            "grandstaff_dataset/chopin/mazurkas/mazurka07-2/maj3_down_m-0-5.bekrn\n",
            "grandstaff_dataset/chopin/mazurkas/mazurka07-2/maj2_down_m-50-55.bekrn\n",
            "grandstaff_dataset/chopin/mazurkas/mazurka07-2/min3_up_m-0-5.bekrn\n",
            "grandstaff_dataset/chopin/mazurkas/mazurka07-2/min3_down_m-55-60.bekrn\n",
            "grandstaff_dataset/chopin/mazurkas/mazurka07-2/maj3_down_m-5-10.bekrn\n",
            "grandstaff_dataset/chopin/mazurkas/mazurka07-2/original_m-30-33.bekrn\n",
            "grandstaff_dataset/chopin/mazurkas/mazurka07-2/min3_up_m-35-40.bekrn\n",
            "grandstaff_dataset/chopin/mazurkas/mazurka07-2/maj3_down_m-40-45.bekrn\n",
            "grandstaff_dataset/chopin/mazurkas/mazurka07-2/maj2_up_m-36-40.bekrn\n",
            "grandstaff_dataset/chopin/mazurkas/mazurka07-2/original_m-18-21.bekrn\n",
            "grandstaff_dataset/chopin/mazurkas/mazurka07-2/original_m-51-54.bekrn\n",
            "grandstaff_dataset/chopin/mazurkas/mazurka07-2/maj3_up_m-20-25.bekrn\n",
            "grandstaff_dataset/chopin/mazurkas/mazurka07-2/min3_down_m-5-10.bekrn\n",
            "grandstaff_dataset/chopin/mazurkas/mazurka07-2/original_m-45-48.bekrn\n",
            "grandstaff_dataset/chopin/mazurkas/mazurka07-2/maj3_down_m-55-60.bekrn\n",
            "grandstaff_dataset/chopin/mazurkas/mazurka07-2/maj2_up_m-28-32.bekrn\n",
            "grandstaff_dataset/chopin/mazurkas/mazurka07-2/original_m-24-27.bekrn\n",
            "grandstaff_dataset/chopin/mazurkas/mazurka07-2/maj2_up_m-44-48.bekrn\n",
            "grandstaff_dataset/chopin/mazurkas/mazurka07-2/maj2_up_m-52-56.bekrn\n",
            "grandstaff_dataset/chopin/mazurkas/mazurka07-2/original_m-27-30.bekrn\n",
            "grandstaff_dataset/chopin/mazurkas/mazurka07-2/maj3_up_m-15-20.bekrn\n",
            "grandstaff_dataset/chopin/mazurkas/mazurka07-2/maj2_up_m-24-28.bekrn\n",
            "grandstaff_dataset/chopin/mazurkas/mazurka07-2/original_m-15-18.bekrn\n",
            "grandstaff_dataset/chopin/mazurkas/mazurka07-2/maj3_up_m-40-45.bekrn\n",
            "grandstaff_dataset/chopin/mazurkas/mazurka07-2/original_m-12-15.bekrn\n",
            "grandstaff_dataset/chopin/mazurkas/mazurka07-2/original_m-3-6.bekrn\n",
            "grandstaff_dataset/chopin/mazurkas/mazurka07-2/min3_up_m-40-45.bekrn\n",
            "grandstaff_dataset/chopin/mazurkas/mazurka07-2/min3_down_m-25-30.bekrn\n",
            "grandstaff_dataset/chopin/mazurkas/mazurka07-2/min3_down_m-40-45.bekrn\n",
            "grandstaff_dataset/chopin/mazurkas/mazurka07-2/maj2_down_m-15-20.bekrn\n",
            "grandstaff_dataset/chopin/mazurkas/mazurka07-2/original_m-57-60.bekrn\n",
            "grandstaff_dataset/chopin/mazurkas/mazurka07-2/maj2_up_m-32-36.bekrn\n",
            "grandstaff_dataset/chopin/mazurkas/mazurka07-2/maj3_down_m-35-40.bekrn\n",
            "grandstaff_dataset/chopin/mazurkas/mazurka07-2/maj3_down_m-30-35.bekrn\n",
            "grandstaff_dataset/chopin/mazurkas/mazurka07-2/maj2_up_m-12-16.bekrn\n",
            "grandstaff_dataset/chopin/mazurkas/mazurka07-2/original_m-6-9.bekrn\n",
            "grandstaff_dataset/chopin/mazurkas/mazurka07-2/maj3_down_m-50-55.bekrn\n",
            "grandstaff_dataset/chopin/mazurkas/mazurka07-2/maj2_down_m-25-30.bekrn\n",
            "grandstaff_dataset/chopin/mazurkas/mazurka07-2/maj3_down_m-15-20.bekrn\n",
            "grandstaff_dataset/chopin/mazurkas/mazurka07-2/original_m-36-39.bekrn\n",
            "grandstaff_dataset/chopin/mazurkas/mazurka07-2/min3_up_m-30-35.bekrn\n",
            "grandstaff_dataset/chopin/mazurkas/mazurka07-2/original_m-21-24.bekrn\n",
            "grandstaff_dataset/chopin/mazurkas/mazurka07-2/min3_down_m-15-20.bekrn\n",
            "grandstaff_dataset/chopin/mazurkas/mazurka07-2/original_m-54-57.bekrn\n",
            "grandstaff_dataset/chopin/mazurkas/mazurka07-2/min3_down_m-0-5.bekrn\n",
            "grandstaff_dataset/chopin/mazurkas/mazurka07-2/maj2_down_m-35-40.bekrn\n",
            "grandstaff_dataset/chopin/mazurkas/mazurka07-2/original_m-0-3.bekrn\n",
            "grandstaff_dataset/chopin/mazurkas/mazurka07-2/min3_up_m-15-20.bekrn\n",
            "grandstaff_dataset/chopin/mazurkas/mazurka07-2/min3_down_m-50-55.bekrn\n",
            "grandstaff_dataset/chopin/mazurkas/mazurka07-2/maj3_up_m-35-40.bekrn\n",
            "grandstaff_dataset/chopin/mazurkas/mazurka07-2/min3_down_m-30-35.bekrn\n",
            "grandstaff_dataset/chopin/mazurkas/mazurka07-2/maj2_up_m-56-60.bekrn\n",
            "grandstaff_dataset/chopin/mazurkas/mazurka56-2/maj3_up_m-45-49.bekrn\n",
            "grandstaff_dataset/chopin/mazurkas/mazurka56-2/maj2_down_m-34-37.bekrn\n",
            "grandstaff_dataset/chopin/mazurkas/mazurka56-2/maj2_down_m-40-43.bekrn\n",
            "grandstaff_dataset/chopin/mazurkas/mazurka56-2/maj3_down_m-1-5.bekrn\n",
            "grandstaff_dataset/chopin/mazurkas/mazurka56-2/maj2_up_m-28-31.bekrn\n",
            "grandstaff_dataset/chopin/mazurkas/mazurka56-2/original_m-43-46.bekrn\n",
            "grandstaff_dataset/chopin/mazurkas/mazurka56-2/maj2_up_m-82-85.bekrn\n",
            "grandstaff_dataset/chopin/mazurkas/mazurka56-2/original_m-40-43.bekrn\n",
            "grandstaff_dataset/chopin/mazurkas/mazurka56-2/min3_down_m-1-5.bekrn\n",
            "grandstaff_dataset/chopin/mazurkas/mazurka56-2/min3_up_m-26-31.bekrn\n",
            "grandstaff_dataset/chopin/mazurkas/mazurka56-2/original_m-28-31.bekrn\n",
            "grandstaff_dataset/chopin/mazurkas/mazurka56-2/original_m-19-22.bekrn\n",
            "grandstaff_dataset/chopin/mazurkas/mazurka56-2/min3_down_m-41-45.bekrn\n",
            "grandstaff_dataset/chopin/mazurkas/mazurka56-2/maj2_up_m-40-43.bekrn\n",
            "grandstaff_dataset/chopin/mazurkas/mazurka56-2/maj3_down_m-41-45.bekrn\n",
            "grandstaff_dataset/chopin/mazurkas/mazurka56-2/maj3_down_m-33-37.bekrn\n",
            "grandstaff_dataset/chopin/mazurkas/mazurka56-2/maj3_down_m-45-49.bekrn\n",
            "grandstaff_dataset/chopin/mazurkas/mazurka56-2/min3_down_m-33-37.bekrn\n",
            "grandstaff_dataset/chopin/mazurkas/mazurka56-2/original_m-55-58.bekrn\n",
            "grandstaff_dataset/chopin/mazurkas/mazurka56-2/min3_up_m-31-36.bekrn\n",
            "grandstaff_dataset/chopin/mazurkas/mazurka56-2/maj2_down_m-82-85.bekrn\n",
            "grandstaff_dataset/chopin/mazurkas/mazurka56-2/maj2_down_m-55-58.bekrn\n",
            "grandstaff_dataset/chopin/mazurkas/mazurka56-2/maj2_down_m-19-22.bekrn\n",
            "grandstaff_dataset/chopin/mazurkas/mazurka56-2/maj2_up_m-34-37.bekrn\n",
            "grandstaff_dataset/chopin/mazurkas/mazurka56-2/maj2_up_m-43-46.bekrn\n",
            "grandstaff_dataset/chopin/mazurkas/mazurka56-2/maj3_up_m-33-37.bekrn\n",
            "grandstaff_dataset/chopin/mazurkas/mazurka56-2/maj2_up_m-1-4.bekrn\n",
            "grandstaff_dataset/chopin/mazurkas/mazurka56-2/maj2_down_m-43-46.bekrn\n",
            "grandstaff_dataset/chopin/mazurkas/mazurka56-2/maj2_up_m-55-58.bekrn\n",
            "grandstaff_dataset/chopin/mazurkas/mazurka56-2/maj2_down_m-28-31.bekrn\n",
            "grandstaff_dataset/chopin/mazurkas/mazurka56-2/min3_down_m-45-49.bekrn\n",
            "grandstaff_dataset/chopin/mazurkas/mazurka56-2/original_m-82-85.bekrn\n",
            "grandstaff_dataset/chopin/mazurkas/mazurka56-2/original_m-31-34.bekrn\n",
            "grandstaff_dataset/chopin/mazurkas/mazurka56-2/maj2_down_m-64-67.bekrn\n",
            "grandstaff_dataset/chopin/mazurkas/mazurka56-2/maj2_up_m-64-67.bekrn\n",
            "grandstaff_dataset/chopin/mazurkas/mazurka56-2/original_m-1-4.bekrn\n",
            "grandstaff_dataset/chopin/mazurkas/mazurka56-2/maj2_up_m-31-34.bekrn\n",
            "grandstaff_dataset/chopin/mazurkas/mazurka56-2/min3_up_m-1-6.bekrn\n",
            "grandstaff_dataset/chopin/mazurkas/mazurka56-2/min3_up_m-36-41.bekrn\n",
            "grandstaff_dataset/chopin/mazurkas/mazurka56-2/original_m-64-67.bekrn\n",
            "grandstaff_dataset/chopin/mazurkas/mazurka56-2/maj3_up_m-41-45.bekrn\n",
            "grandstaff_dataset/chopin/mazurkas/mazurka56-2/min3_up_m-41-46.bekrn\n",
            "grandstaff_dataset/chopin/mazurkas/mazurka56-2/maj2_down_m-1-4.bekrn\n",
            "grandstaff_dataset/chopin/mazurkas/mazurka56-2/maj2_up_m-19-22.bekrn\n",
            "grandstaff_dataset/chopin/mazurkas/mazurka56-2/original_m-34-37.bekrn\n",
            "grandstaff_dataset/chopin/mazurkas/mazurka56-2/maj2_down_m-31-34.bekrn\n",
            "grandstaff_dataset/chopin/mazurkas/mazurka56-2/maj3_up_m-1-5.bekrn\n",
            "grandstaff_dataset/chopin/mazurkas/mazurka68-2/maj2_down_m-40-45.bekrn\n",
            "grandstaff_dataset/chopin/mazurkas/mazurka68-2/maj3_up_m-24-27.bekrn\n",
            "grandstaff_dataset/chopin/mazurkas/mazurka68-2/maj3_down_m-40-44.bekrn\n",
            "grandstaff_dataset/chopin/mazurkas/mazurka68-2/maj3_up_m-39-42.bekrn\n",
            "grandstaff_dataset/chopin/mazurkas/mazurka68-2/maj2_up_m-40-45.bekrn\n",
            "grandstaff_dataset/chopin/mazurkas/mazurka68-2/maj3_up_m-60-63.bekrn\n",
            "grandstaff_dataset/chopin/mazurkas/mazurka68-2/original_m-48-52.bekrn\n",
            "grandstaff_dataset/chopin/mazurkas/mazurka68-2/maj3_down_m-60-64.bekrn\n",
            "grandstaff_dataset/chopin/mazurkas/mazurka68-2/maj3_up_m-42-45.bekrn\n",
            "grandstaff_dataset/chopin/mazurkas/mazurka68-2/min3_up_m-10-15.bekrn\n",
            "grandstaff_dataset/chopin/mazurkas/mazurka68-2/maj3_down_m-48-52.bekrn\n",
            "grandstaff_dataset/chopin/mazurkas/mazurka68-2/original_m-40-44.bekrn\n",
            "grandstaff_dataset/chopin/mazurkas/mazurka68-2/min3_up_m-40-45.bekrn\n",
            "grandstaff_dataset/chopin/mazurkas/mazurka68-2/min3_down_m-40-45.bekrn\n",
            "grandstaff_dataset/chopin/mazurkas/mazurka68-2/maj3_up_m-12-15.bekrn\n",
            "grandstaff_dataset/chopin/mazurkas/mazurka68-2/maj2_up_m-10-15.bekrn\n",
            "grandstaff_dataset/chopin/mazurkas/mazurka68-2/maj3_up_m-3-6.bekrn\n",
            "grandstaff_dataset/chopin/mazurkas/mazurka68-2/original_m-60-64.bekrn\n",
            "grandstaff_dataset/chopin/mazurkas/mazurka68-2/maj2_down_m-10-15.bekrn\n",
            "grandstaff_dataset/chopin/mazurkas/mazurka68-2/maj3_up_m-48-51.bekrn\n",
            "grandstaff_dataset/chopin/mazurkas/mazurka68-2/min3_down_m-10-15.bekrn\n",
            "grandstaff_dataset/chopin/mazurkas/mazurka50-3/maj2_down_m-125-130.bekrn\n",
            "grandstaff_dataset/chopin/mazurkas/mazurka50-3/maj2_up_m-20-25.bekrn\n",
            "grandstaff_dataset/chopin/mazurkas/mazurka50-3/maj3_up_m-115-120.bekrn\n",
            "grandstaff_dataset/chopin/mazurkas/mazurka50-3/maj3_up_m-100-105.bekrn\n",
            "grandstaff_dataset/chopin/mazurkas/mazurka50-3/min3_up_m-112-116.bekrn\n",
            "grandstaff_dataset/chopin/mazurkas/mazurka50-3/maj2_down_m-160-165.bekrn\n",
            "grandstaff_dataset/chopin/mazurkas/mazurka50-3/maj2_up_m-150-155.bekrn\n",
            "grandstaff_dataset/chopin/mazurkas/mazurka50-3/min3_up_m-76-80.bekrn\n",
            "grandstaff_dataset/chopin/mazurkas/mazurka50-3/original_m-110-115.bekrn\n",
            "grandstaff_dataset/chopin/mazurkas/mazurka50-3/min3_down_m-80-84.bekrn\n",
            "grandstaff_dataset/chopin/mazurkas/mazurka50-3/maj2_up_m-70-75.bekrn\n",
            "grandstaff_dataset/chopin/mazurkas/mazurka50-3/maj3_up_m-85-90.bekrn\n",
            "grandstaff_dataset/chopin/mazurkas/mazurka50-3/min3_down_m-176-180.bekrn\n",
            "grandstaff_dataset/chopin/mazurkas/mazurka50-3/maj3_up_m-70-75.bekrn\n",
            "grandstaff_dataset/chopin/mazurkas/mazurka50-3/min3_down_m-48-52.bekrn\n",
            "grandstaff_dataset/chopin/mazurkas/mazurka50-3/maj2_up_m-110-115.bekrn\n",
            "grandstaff_dataset/chopin/mazurkas/mazurka50-3/min3_down_m-88-92.bekrn\n",
            "grandstaff_dataset/chopin/mazurkas/mazurka50-3/maj2_down_m-20-25.bekrn\n",
            "grandstaff_dataset/chopin/mazurkas/mazurka50-3/original_m-60-65.bekrn\n",
            "grandstaff_dataset/chopin/mazurkas/mazurka50-3/original_m-75-80.bekrn\n",
            "grandstaff_dataset/chopin/mazurkas/mazurka50-3/maj3_down_m-152-156.bekrn\n",
            "grandstaff_dataset/chopin/mazurkas/mazurka50-3/maj3_down_m-68-72.bekrn\n",
            "grandstaff_dataset/chopin/mazurkas/mazurka50-3/maj2_down_m-170-175.bekrn\n",
            "grandstaff_dataset/chopin/mazurkas/mazurka50-3/min3_up_m-64-68.bekrn\n",
            "grandstaff_dataset/chopin/mazurkas/mazurka50-3/min3_up_m-176-180.bekrn\n",
            "grandstaff_dataset/chopin/mazurkas/mazurka50-3/maj3_down_m-188-192.bekrn\n",
            "grandstaff_dataset/chopin/mazurkas/mazurka50-3/min3_down_m-68-72.bekrn\n",
            "grandstaff_dataset/chopin/mazurkas/mazurka50-3/min3_up_m-72-76.bekrn\n",
            "grandstaff_dataset/chopin/mazurkas/mazurka50-3/maj3_up_m-55-60.bekrn\n",
            "grandstaff_dataset/chopin/mazurkas/mazurka50-3/min3_down_m-72-76.bekrn\n",
            "grandstaff_dataset/chopin/mazurkas/mazurka50-3/maj2_down_m-165-170.bekrn\n",
            "grandstaff_dataset/chopin/mazurkas/mazurka50-3/min3_down_m-164-168.bekrn\n",
            "grandstaff_dataset/chopin/mazurkas/mazurka50-3/maj3_down_m-88-92.bekrn\n",
            "grandstaff_dataset/chopin/mazurkas/mazurka50-3/maj3_down_m-172-176.bekrn\n",
            "grandstaff_dataset/chopin/mazurkas/mazurka50-3/maj3_down_m-20-24.bekrn\n",
            "grandstaff_dataset/chopin/mazurkas/mazurka50-3/maj2_up_m-160-165.bekrn\n",
            "grandstaff_dataset/chopin/mazurkas/mazurka50-3/maj2_up_m-65-70.bekrn\n",
            "grandstaff_dataset/chopin/mazurkas/mazurka50-3/maj2_up_m-60-65.bekrn\n",
            "grandstaff_dataset/chopin/mazurkas/mazurka50-3/min3_down_m-52-56.bekrn\n",
            "grandstaff_dataset/chopin/mazurkas/mazurka50-3/min3_down_m-24-28.bekrn\n",
            "grandstaff_dataset/chopin/mazurkas/mazurka50-3/maj3_up_m-155-160.bekrn\n",
            "grandstaff_dataset/chopin/mazurkas/mazurka50-3/min3_down_m-60-64.bekrn\n",
            "grandstaff_dataset/chopin/mazurkas/mazurka50-3/maj3_down_m-160-164.bekrn\n",
            "grandstaff_dataset/chopin/mazurkas/mazurka50-3/maj3_up_m-125-130.bekrn\n",
            "grandstaff_dataset/chopin/mazurkas/mazurka50-3/min3_up_m-88-92.bekrn\n",
            "grandstaff_dataset/chopin/mazurkas/mazurka50-3/maj3_down_m-108-112.bekrn\n",
            "grandstaff_dataset/chopin/mazurkas/mazurka50-3/maj3_up_m-90-95.bekrn\n",
            "grandstaff_dataset/chopin/mazurkas/mazurka50-3/min3_down_m-44-48.bekrn\n",
            "grandstaff_dataset/chopin/mazurkas/mazurka50-3/maj2_down_m-55-60.bekrn\n",
            "grandstaff_dataset/chopin/mazurkas/mazurka50-3/min3_down_m-104-108.bekrn\n",
            "grandstaff_dataset/chopin/mazurkas/mazurka50-3/maj3_up_m-105-110.bekrn\n",
            "grandstaff_dataset/chopin/mazurkas/mazurka50-3/maj2_up_m-165-170.bekrn\n",
            "grandstaff_dataset/chopin/mazurkas/mazurka50-3/maj2_up_m-175-180.bekrn\n",
            "grandstaff_dataset/chopin/mazurkas/mazurka50-3/maj2_down_m-60-65.bekrn\n",
            "grandstaff_dataset/chopin/mazurkas/mazurka50-3/maj3_down_m-84-88.bekrn\n",
            "grandstaff_dataset/chopin/mazurkas/mazurka50-3/maj3_up_m-185-190.bekrn\n",
            "grandstaff_dataset/chopin/mazurkas/mazurka50-3/original_m-15-20.bekrn\n",
            "grandstaff_dataset/chopin/mazurkas/mazurka50-3/maj3_up_m-50-55.bekrn\n",
            "grandstaff_dataset/chopin/mazurkas/mazurka50-3/min3_up_m-152-156.bekrn\n",
            "grandstaff_dataset/chopin/mazurkas/mazurka50-3/original_m-115-120.bekrn\n",
            "grandstaff_dataset/chopin/mazurkas/mazurka50-3/original_m-80-85.bekrn\n",
            "grandstaff_dataset/chopin/mazurkas/mazurka50-3/min3_up_m-188-192.bekrn\n",
            "grandstaff_dataset/chopin/mazurkas/mazurka50-3/min3_up_m-56-60.bekrn\n",
            "grandstaff_dataset/chopin/mazurkas/mazurka50-3/maj3_up_m-110-115.bekrn\n",
            "grandstaff_dataset/chopin/mazurkas/mazurka50-3/maj2_down_m-50-55.bekrn\n",
            "grandstaff_dataset/chopin/mazurkas/mazurka50-3/maj3_down_m-72-76.bekrn\n",
            "grandstaff_dataset/chopin/mazurkas/mazurka50-3/maj2_down_m-145-150.bekrn\n",
            "grandstaff_dataset/chopin/mazurkas/mazurka50-3/min3_down_m-172-176.bekrn\n",
            "grandstaff_dataset/chopin/mazurkas/mazurka50-3/maj3_down_m-112-116.bekrn\n",
            "grandstaff_dataset/chopin/mazurkas/mazurka50-3/maj2_down_m-65-70.bekrn\n",
            "grandstaff_dataset/chopin/mazurkas/mazurka50-3/original_m-155-160.bekrn\n",
            "grandstaff_dataset/chopin/mazurkas/mazurka50-3/maj3_down_m-80-84.bekrn\n",
            "grandstaff_dataset/chopin/mazurkas/mazurka50-3/maj3_up_m-80-85.bekrn\n",
            "grandstaff_dataset/chopin/mazurkas/mazurka50-3/maj3_down_m-100-104.bekrn\n",
            "grandstaff_dataset/chopin/mazurkas/mazurka50-3/min3_up_m-80-84.bekrn\n",
            "grandstaff_dataset/chopin/mazurkas/mazurka50-3/min3_up_m-156-160.bekrn\n",
            "grandstaff_dataset/chopin/mazurkas/mazurka50-3/maj2_down_m-100-105.bekrn\n",
            "grandstaff_dataset/chopin/mazurkas/mazurka50-3/original_m-105-110.bekrn\n",
            "grandstaff_dataset/chopin/mazurkas/mazurka50-3/maj2_down_m-155-160.bekrn\n",
            "grandstaff_dataset/chopin/mazurkas/mazurka50-3/maj3_down_m-116-120.bekrn\n",
            "grandstaff_dataset/chopin/mazurkas/mazurka50-3/maj2_up_m-80-85.bekrn\n",
            "grandstaff_dataset/chopin/mazurkas/mazurka50-3/original_m-160-165.bekrn\n",
            "grandstaff_dataset/chopin/mazurkas/mazurka50-3/maj2_down_m-85-90.bekrn\n",
            "grandstaff_dataset/chopin/mazurkas/mazurka50-3/min3_up_m-24-28.bekrn\n",
            "grandstaff_dataset/chopin/mazurkas/mazurka50-3/maj3_up_m-170-175.bekrn\n",
            "grandstaff_dataset/chopin/mazurkas/mazurka50-3/min3_up_m-164-168.bekrn\n",
            "grandstaff_dataset/chopin/mazurkas/mazurka50-3/original_m-85-90.bekrn\n",
            "grandstaff_dataset/chopin/mazurkas/mazurka50-3/maj3_up_m-20-25.bekrn\n",
            "grandstaff_dataset/chopin/mazurkas/mazurka50-3/original_m-170-175.bekrn\n",
            "grandstaff_dataset/chopin/mazurkas/mazurka50-3/min3_up_m-160-164.bekrn\n",
            "grandstaff_dataset/chopin/mazurkas/mazurka50-3/maj2_up_m-75-80.bekrn\n",
            "grandstaff_dataset/chopin/mazurkas/mazurka50-3/maj2_up_m-190-195.bekrn\n",
            "grandstaff_dataset/chopin/mazurkas/mazurka50-3/maj3_up_m-145-150.bekrn\n",
            "grandstaff_dataset/chopin/mazurkas/mazurka50-3/maj3_up_m-165-170.bekrn\n",
            "grandstaff_dataset/chopin/mazurkas/mazurka50-3/original_m-165-170.bekrn\n",
            "grandstaff_dataset/chopin/mazurkas/mazurka50-3/original_m-185-190.bekrn\n",
            "grandstaff_dataset/chopin/mazurkas/mazurka50-3/maj2_up_m-45-50.bekrn\n",
            "grandstaff_dataset/chopin/mazurkas/mazurka50-3/maj2_down_m-45-50.bekrn\n",
            "grandstaff_dataset/chopin/mazurkas/mazurka50-3/min3_up_m-44-48.bekrn\n",
            "grandstaff_dataset/chopin/mazurkas/mazurka50-3/maj3_down_m-60-64.bekrn\n",
            "grandstaff_dataset/chopin/mazurkas/mazurka50-3/min3_down_m-20-24.bekrn\n",
            "grandstaff_dataset/chopin/mazurkas/mazurka50-3/maj2_down_m-90-95.bekrn\n",
            "grandstaff_dataset/chopin/mazurkas/mazurka50-3/maj2_up_m-145-150.bekrn\n",
            "grandstaff_dataset/chopin/mazurkas/mazurka50-3/original_m-145-150.bekrn\n",
            "grandstaff_dataset/chopin/mazurkas/mazurka50-3/min3_up_m-104-108.bekrn\n",
            "grandstaff_dataset/chopin/mazurkas/mazurka50-3/maj3_down_m-12-16.bekrn\n",
            "grandstaff_dataset/chopin/mazurkas/mazurka50-3/min3_up_m-20-24.bekrn\n",
            "grandstaff_dataset/chopin/mazurkas/mazurka50-3/min3_up_m-168-172.bekrn\n",
            "grandstaff_dataset/chopin/mazurkas/mazurka50-3/min3_up_m-48-52.bekrn\n",
            "grandstaff_dataset/chopin/mazurkas/mazurka50-3/min3_down_m-168-172.bekrn\n",
            "grandstaff_dataset/chopin/mazurkas/mazurka50-3/maj3_down_m-104-108.bekrn\n",
            "grandstaff_dataset/chopin/mazurkas/mazurka50-3/maj3_down_m-56-60.bekrn\n",
            "grandstaff_dataset/chopin/mazurkas/mazurka50-3/min3_up_m-12-16.bekrn\n",
            "grandstaff_dataset/chopin/mazurkas/mazurka50-3/maj2_down_m-80-85.bekrn\n",
            "grandstaff_dataset/chopin/mazurkas/mazurka50-3/min3_down_m-112-116.bekrn\n",
            "grandstaff_dataset/chopin/mazurkas/mazurka50-3/min3_down_m-84-88.bekrn\n",
            "grandstaff_dataset/chopin/mazurkas/mazurka50-3/original_m-190-195.bekrn\n",
            "grandstaff_dataset/chopin/mazurkas/mazurka50-3/maj3_up_m-15-20.bekrn\n",
            "grandstaff_dataset/chopin/mazurkas/mazurka50-3/maj2_down_m-175-180.bekrn\n",
            "grandstaff_dataset/chopin/mazurkas/mazurka50-3/min3_up_m-68-72.bekrn\n",
            "grandstaff_dataset/chopin/mazurkas/mazurka50-3/original_m-65-70.bekrn\n",
            "grandstaff_dataset/chopin/mazurkas/mazurka50-3/min3_down_m-16-20.bekrn\n",
            "grandstaff_dataset/chopin/mazurkas/mazurka50-3/maj3_down_m-156-160.bekrn\n",
            "grandstaff_dataset/chopin/mazurkas/mazurka50-3/original_m-45-50.bekrn\n",
            "grandstaff_dataset/chopin/mazurkas/mazurka50-3/maj3_down_m-24-28.bekrn\n",
            "grandstaff_dataset/chopin/mazurkas/mazurka50-3/original_m-100-105.bekrn\n",
            "grandstaff_dataset/chopin/mazurkas/mazurka50-3/maj3_down_m-148-152.bekrn\n",
            "grandstaff_dataset/chopin/mazurkas/mazurka50-3/min3_down_m-56-60.bekrn\n",
            "grandstaff_dataset/chopin/mazurkas/mazurka50-3/maj3_down_m-48-52.bekrn\n",
            "grandstaff_dataset/chopin/mazurkas/mazurka50-3/original_m-150-155.bekrn\n",
            "grandstaff_dataset/chopin/mazurkas/mazurka50-3/min3_down_m-108-112.bekrn\n",
            "grandstaff_dataset/chopin/mazurkas/mazurka50-3/maj3_up_m-45-50.bekrn\n",
            "grandstaff_dataset/chopin/mazurkas/mazurka50-3/maj3_up_m-175-180.bekrn\n",
            "grandstaff_dataset/chopin/mazurkas/mazurka50-3/maj2_up_m-125-130.bekrn\n",
            "grandstaff_dataset/chopin/mazurkas/mazurka50-3/maj2_down_m-15-20.bekrn\n",
            "grandstaff_dataset/chopin/mazurkas/mazurka50-3/min3_up_m-172-176.bekrn\n",
            "grandstaff_dataset/chopin/mazurkas/mazurka50-3/min3_up_m-108-112.bekrn\n",
            "grandstaff_dataset/chopin/mazurkas/mazurka50-3/min3_down_m-76-80.bekrn\n",
            "grandstaff_dataset/chopin/mazurkas/mazurka50-3/min3_down_m-116-120.bekrn\n",
            "grandstaff_dataset/chopin/mazurkas/mazurka50-3/maj2_down_m-70-75.bekrn\n",
            "grandstaff_dataset/chopin/mazurkas/mazurka50-3/maj2_down_m-115-120.bekrn\n",
            "grandstaff_dataset/chopin/mazurkas/mazurka50-3/min3_down_m-156-160.bekrn\n",
            "grandstaff_dataset/chopin/mazurkas/mazurka50-3/original_m-90-95.bekrn\n",
            "grandstaff_dataset/chopin/mazurkas/mazurka50-3/min3_up_m-84-88.bekrn\n",
            "grandstaff_dataset/chopin/mazurkas/mazurka50-3/original_m-70-75.bekrn\n",
            "grandstaff_dataset/chopin/mazurkas/mazurka50-3/maj2_up_m-50-55.bekrn\n",
            "grandstaff_dataset/chopin/mazurkas/mazurka50-3/min3_up_m-116-120.bekrn\n",
            "grandstaff_dataset/chopin/mazurkas/mazurka50-3/maj2_up_m-155-160.bekrn\n",
            "grandstaff_dataset/chopin/mazurkas/mazurka50-3/maj3_up_m-160-165.bekrn\n",
            "grandstaff_dataset/chopin/mazurkas/mazurka50-3/maj2_up_m-185-190.bekrn\n",
            "grandstaff_dataset/chopin/mazurkas/mazurka50-3/min3_down_m-148-152.bekrn\n",
            "grandstaff_dataset/chopin/mazurkas/mazurka50-3/maj2_up_m-90-95.bekrn\n",
            "grandstaff_dataset/chopin/mazurkas/mazurka50-3/min3_up_m-60-64.bekrn\n",
            "grandstaff_dataset/chopin/mazurkas/mazurka50-3/maj2_down_m-75-80.bekrn\n",
            "grandstaff_dataset/chopin/mazurkas/mazurka50-3/min3_down_m-188-192.bekrn\n",
            "grandstaff_dataset/chopin/mazurkas/mazurka50-3/maj2_down_m-150-155.bekrn\n",
            "grandstaff_dataset/chopin/mazurkas/mazurka50-3/maj2_up_m-115-120.bekrn\n",
            "grandstaff_dataset/chopin/mazurkas/mazurka50-3/maj3_down_m-76-80.bekrn\n",
            "grandstaff_dataset/chopin/mazurkas/mazurka50-3/min3_up_m-52-56.bekrn\n",
            "grandstaff_dataset/chopin/mazurkas/mazurka50-3/maj3_down_m-44-48.bekrn\n",
            "grandstaff_dataset/chopin/mazurkas/mazurka50-3/min3_down_m-64-68.bekrn\n",
            "grandstaff_dataset/chopin/mazurkas/mazurka50-3/maj3_up_m-190-195.bekrn\n",
            "grandstaff_dataset/chopin/mazurkas/mazurka50-3/maj3_up_m-65-70.bekrn\n",
            "grandstaff_dataset/chopin/mazurkas/mazurka50-3/min3_up_m-100-104.bekrn\n",
            "grandstaff_dataset/chopin/mazurkas/mazurka50-3/min3_up_m-16-20.bekrn\n",
            "grandstaff_dataset/chopin/mazurkas/mazurka50-3/original_m-50-55.bekrn\n",
            "grandstaff_dataset/chopin/mazurkas/mazurka50-3/min3_down_m-152-156.bekrn\n",
            "grandstaff_dataset/chopin/mazurkas/mazurka50-3/maj3_down_m-176-180.bekrn\n",
            "grandstaff_dataset/chopin/mazurkas/mazurka50-3/min3_up_m-148-152.bekrn\n",
            "grandstaff_dataset/chopin/mazurkas/mazurka50-3/original_m-175-180.bekrn\n",
            "grandstaff_dataset/chopin/mazurkas/mazurka50-3/maj3_up_m-75-80.bekrn\n",
            "grandstaff_dataset/chopin/mazurkas/mazurka50-3/maj2_down_m-110-115.bekrn\n",
            "grandstaff_dataset/chopin/mazurkas/mazurka50-3/maj2_up_m-15-20.bekrn\n",
            "grandstaff_dataset/chopin/mazurkas/mazurka50-3/maj3_down_m-16-20.bekrn\n",
            "grandstaff_dataset/chopin/mazurkas/mazurka50-3/maj2_up_m-55-60.bekrn\n",
            "grandstaff_dataset/chopin/mazurkas/mazurka50-3/maj3_up_m-150-155.bekrn\n",
            "grandstaff_dataset/chopin/mazurkas/mazurka50-3/maj3_down_m-164-168.bekrn\n",
            "grandstaff_dataset/chopin/mazurkas/mazurka50-3/maj2_up_m-105-110.bekrn\n",
            "grandstaff_dataset/chopin/mazurkas/mazurka50-3/maj2_up_m-85-90.bekrn\n",
            "grandstaff_dataset/chopin/mazurkas/mazurka50-3/min3_down_m-160-164.bekrn\n",
            "grandstaff_dataset/chopin/mazurkas/mazurka50-3/maj2_down_m-105-110.bekrn\n",
            "grandstaff_dataset/chopin/mazurkas/mazurka50-3/original_m-20-25.bekrn\n",
            "grandstaff_dataset/chopin/mazurkas/mazurka50-3/maj2_down_m-185-190.bekrn\n",
            "grandstaff_dataset/chopin/mazurkas/mazurka50-3/maj3_down_m-52-56.bekrn\n",
            "grandstaff_dataset/chopin/mazurkas/mazurka50-3/maj2_up_m-170-175.bekrn\n",
            "grandstaff_dataset/chopin/mazurkas/mazurka50-3/maj2_up_m-100-105.bekrn\n",
            "grandstaff_dataset/chopin/mazurkas/mazurka50-3/maj2_down_m-190-195.bekrn\n",
            "grandstaff_dataset/chopin/mazurkas/mazurka50-3/maj3_down_m-168-172.bekrn\n",
            "grandstaff_dataset/chopin/mazurkas/mazurka50-3/min3_down_m-100-104.bekrn\n",
            "grandstaff_dataset/chopin/mazurkas/mazurka50-3/original_m-55-60.bekrn\n",
            "grandstaff_dataset/chopin/mazurkas/mazurka50-3/original_m-125-130.bekrn\n",
            "grandstaff_dataset/chopin/mazurkas/mazurka50-3/maj3_down_m-64-68.bekrn\n",
            "grandstaff_dataset/chopin/mazurkas/mazurka50-3/maj3_up_m-60-65.bekrn\n",
            "grandstaff_dataset/chopin/mazurkas/mazurka50-3/min3_down_m-12-16.bekrn\n",
            "grandstaff_dataset/chopin/mazurkas/mazurka59-3/maj2_up_m-141-144.bekrn\n",
            "grandstaff_dataset/chopin/mazurkas/mazurka59-3/min3_up_m-84-87.bekrn\n",
            "grandstaff_dataset/chopin/mazurkas/mazurka59-3/min3_up_m-51-54.bekrn\n",
            "grandstaff_dataset/chopin/mazurkas/mazurka59-3/maj2_down_m-0-5.bekrn\n",
            "grandstaff_dataset/chopin/mazurkas/mazurka59-3/maj3_down_m-0-4.bekrn\n",
            "grandstaff_dataset/chopin/mazurkas/mazurka59-3/maj2_down_m-5-10.bekrn\n",
            "grandstaff_dataset/chopin/mazurkas/mazurka59-3/min3_up_m-3-6.bekrn\n",
            "grandstaff_dataset/chopin/mazurkas/mazurka59-3/maj3_up_m-120-123.bekrn\n",
            "grandstaff_dataset/chopin/mazurkas/mazurka59-3/min3_down_m-8-12.bekrn\n",
            "grandstaff_dataset/chopin/mazurkas/mazurka59-3/min3_down_m-80-84.bekrn\n",
            "grandstaff_dataset/chopin/mazurkas/mazurka59-3/maj2_up_m-3-6.bekrn\n",
            "grandstaff_dataset/chopin/mazurkas/mazurka59-3/maj3_down_m-28-32.bekrn\n",
            "grandstaff_dataset/chopin/mazurkas/mazurka59-3/min3_up_m-9-12.bekrn\n",
            "grandstaff_dataset/chopin/mazurkas/mazurka59-3/maj2_up_m-9-12.bekrn\n",
            "grandstaff_dataset/chopin/mazurkas/mazurka59-3/maj2_up_m-81-84.bekrn\n",
            "grandstaff_dataset/chopin/mazurkas/mazurka59-3/min3_up_m-141-144.bekrn\n",
            "grandstaff_dataset/chopin/mazurkas/mazurka59-3/min3_up_m-69-72.bekrn\n",
            "grandstaff_dataset/chopin/mazurkas/mazurka59-3/maj3_up_m-27-30.bekrn\n",
            "grandstaff_dataset/chopin/mazurkas/mazurka59-3/maj2_up_m-111-114.bekrn\n",
            "grandstaff_dataset/chopin/mazurkas/mazurka59-3/maj2_down_m-20-25.bekrn\n",
            "grandstaff_dataset/chopin/mazurkas/mazurka59-3/maj3_down_m-152-156.bekrn\n",
            "grandstaff_dataset/chopin/mazurkas/mazurka59-3/maj3_down_m-68-72.bekrn\n",
            "grandstaff_dataset/chopin/mazurkas/mazurka59-3/maj3_up_m-18-21.bekrn\n",
            "grandstaff_dataset/chopin/mazurkas/mazurka59-3/min3_down_m-68-72.bekrn\n",
            "grandstaff_dataset/chopin/mazurkas/mazurka59-3/min3_up_m-24-27.bekrn\n",
            "grandstaff_dataset/chopin/mazurkas/mazurka59-3/maj2_up_m-126-129.bekrn\n",
            "grandstaff_dataset/chopin/mazurkas/mazurka59-3/original_m-138-141.bekrn\n",
            "grandstaff_dataset/chopin/mazurkas/mazurka59-3/min3_down_m-72-76.bekrn\n",
            "grandstaff_dataset/chopin/mazurkas/mazurka59-3/maj3_down_m-32-36.bekrn\n",
            "grandstaff_dataset/chopin/mazurkas/mazurka59-3/maj3_up_m-24-27.bekrn\n",
            "grandstaff_dataset/chopin/mazurkas/mazurka59-3/maj2_up_m-102-105.bekrn\n",
            "grandstaff_dataset/chopin/mazurkas/mazurka59-3/maj3_up_m-147-150.bekrn\n",
            "grandstaff_dataset/chopin/mazurkas/mazurka59-3/min3_up_m-99-102.bekrn\n",
            "grandstaff_dataset/chopin/mazurkas/mazurka59-3/maj2_up_m-84-87.bekrn\n",
            "grandstaff_dataset/chopin/mazurkas/mazurka59-3/original_m-141-144.bekrn\n",
            "grandstaff_dataset/chopin/mazurkas/mazurka59-3/min3_up_m-18-21.bekrn\n",
            "grandstaff_dataset/chopin/mazurkas/mazurka59-3/original_m-33-36.bekrn\n",
            "grandstaff_dataset/chopin/mazurkas/mazurka59-3/maj2_up_m-147-150.bekrn\n",
            "grandstaff_dataset/chopin/mazurkas/mazurka59-3/maj3_down_m-20-24.bekrn\n",
            "grandstaff_dataset/chopin/mazurkas/mazurka59-3/maj3_up_m-51-54.bekrn\n",
            "grandstaff_dataset/chopin/mazurkas/mazurka59-3/maj2_up_m-51-54.bekrn\n",
            "grandstaff_dataset/chopin/mazurkas/mazurka59-3/maj3_up_m-0-3.bekrn\n",
            "grandstaff_dataset/chopin/mazurkas/mazurka59-3/original_m-99-102.bekrn\n",
            "grandstaff_dataset/chopin/mazurkas/mazurka59-3/maj3_up_m-6-9.bekrn\n",
            "grandstaff_dataset/chopin/mazurkas/mazurka59-3/min3_down_m-32-36.bekrn\n",
            "grandstaff_dataset/chopin/mazurkas/mazurka59-3/maj2_up_m-87-90.bekrn\n",
            "grandstaff_dataset/chopin/mazurkas/mazurka59-3/min3_down_m-24-28.bekrn\n",
            "grandstaff_dataset/chopin/mazurkas/mazurka59-3/min3_up_m-105-108.bekrn\n",
            "grandstaff_dataset/chopin/mazurkas/mazurka59-3/original_m-153-156.bekrn\n",
            "grandstaff_dataset/chopin/mazurkas/mazurka59-3/maj3_up_m-75-78.bekrn\n",
            "grandstaff_dataset/chopin/mazurkas/mazurka59-3/min3_up_m-63-66.bekrn\n",
            "grandstaff_dataset/chopin/mazurkas/mazurka59-3/maj2_up_m-114-117.bekrn\n",
            "grandstaff_dataset/chopin/mazurkas/mazurka59-3/original_m-72-75.bekrn\n",
            "grandstaff_dataset/chopin/mazurkas/mazurka59-3/min3_up_m-147-150.bekrn\n",
            "grandstaff_dataset/chopin/mazurkas/mazurka59-3/min3_down_m-4-8.bekrn\n",
            "grandstaff_dataset/chopin/mazurkas/mazurka59-3/maj2_up_m-27-30.bekrn\n",
            "grandstaff_dataset/chopin/mazurkas/mazurka59-3/maj2_up_m-150-153.bekrn\n",
            "grandstaff_dataset/chopin/mazurkas/mazurka59-3/original_m-66-69.bekrn\n",
            "grandstaff_dataset/chopin/mazurkas/mazurka59-3/original_m-81-84.bekrn\n",
            "grandstaff_dataset/chopin/mazurkas/mazurka59-3/original_m-126-129.bekrn\n",
            "grandstaff_dataset/chopin/mazurkas/mazurka59-3/original_m-111-114.bekrn\n",
            "grandstaff_dataset/chopin/mazurkas/mazurka59-3/maj3_up_m-9-12.bekrn\n",
            "grandstaff_dataset/chopin/mazurkas/mazurka59-3/maj2_down_m-30-35.bekrn\n",
            "grandstaff_dataset/chopin/mazurkas/mazurka59-3/maj3_down_m-84-88.bekrn\n",
            "grandstaff_dataset/chopin/mazurkas/mazurka59-3/maj3_up_m-153-156.bekrn\n",
            "grandstaff_dataset/chopin/mazurkas/mazurka59-3/maj3_up_m-141-144.bekrn\n",
            "grandstaff_dataset/chopin/mazurkas/mazurka59-3/maj3_up_m-105-108.bekrn\n",
            "grandstaff_dataset/chopin/mazurkas/mazurka59-3/maj3_down_m-72-76.bekrn\n",
            "grandstaff_dataset/chopin/mazurkas/mazurka59-3/maj2_down_m-145-150.bekrn\n",
            "grandstaff_dataset/chopin/mazurkas/mazurka59-3/original_m-147-150.bekrn\n",
            "grandstaff_dataset/chopin/mazurkas/mazurka59-3/maj3_down_m-112-116.bekrn\n",
            "grandstaff_dataset/chopin/mazurkas/mazurka59-3/maj2_down_m-65-70.bekrn\n",
            "grandstaff_dataset/chopin/mazurkas/mazurka59-3/original_m-30-33.bekrn\n",
            "grandstaff_dataset/chopin/mazurkas/mazurka59-3/min3_up_m-120-123.bekrn\n",
            "grandstaff_dataset/chopin/mazurkas/mazurka59-3/min3_down_m-136-140.bekrn\n",
            "grandstaff_dataset/chopin/mazurkas/mazurka59-3/maj3_down_m-80-84.bekrn\n",
            "grandstaff_dataset/chopin/mazurkas/mazurka59-3/maj3_down_m-100-104.bekrn\n",
            "grandstaff_dataset/chopin/mazurkas/mazurka59-3/original_m-120-123.bekrn\n",
            "grandstaff_dataset/chopin/mazurkas/mazurka59-3/maj3_down_m-120-124.bekrn\n",
            "grandstaff_dataset/chopin/mazurkas/mazurka59-3/original_m-84-87.bekrn\n",
            "grandstaff_dataset/chopin/mazurkas/mazurka59-3/maj2_down_m-100-105.bekrn\n",
            "grandstaff_dataset/chopin/mazurkas/mazurka59-3/maj2_up_m-75-78.bekrn\n",
            "grandstaff_dataset/chopin/mazurkas/mazurka59-3/maj2_up_m-120-123.bekrn\n",
            "grandstaff_dataset/chopin/mazurkas/mazurka59-3/original_m-114-117.bekrn\n",
            "grandstaff_dataset/chopin/mazurkas/mazurka59-3/original_m-18-21.bekrn\n",
            "grandstaff_dataset/chopin/mazurkas/mazurka59-3/maj3_up_m-21-24.bekrn\n",
            "grandstaff_dataset/chopin/mazurkas/mazurka59-3/original_m-51-54.bekrn\n",
            "grandstaff_dataset/chopin/mazurkas/mazurka59-3/maj2_down_m-85-90.bekrn\n",
            "grandstaff_dataset/chopin/mazurkas/mazurka59-3/maj3_up_m-81-84.bekrn\n",
            "grandstaff_dataset/chopin/mazurkas/mazurka59-3/min3_up_m-27-30.bekrn\n",
            "grandstaff_dataset/chopin/mazurkas/mazurka59-3/min3_up_m-102-105.bekrn\n",
            "grandstaff_dataset/chopin/mazurkas/mazurka59-3/original_m-144-147.bekrn\n",
            "grandstaff_dataset/chopin/mazurkas/mazurka59-3/min3_up_m-21-24.bekrn\n",
            "grandstaff_dataset/chopin/mazurkas/mazurka59-3/min3_up_m-81-84.bekrn\n",
            "grandstaff_dataset/chopin/mazurkas/mazurka59-3/maj2_up_m-78-81.bekrn\n",
            "grandstaff_dataset/chopin/mazurkas/mazurka59-3/original_m-9-12.bekrn\n",
            "grandstaff_dataset/chopin/mazurkas/mazurka59-3/min3_down_m-20-24.bekrn\n",
            "grandstaff_dataset/chopin/mazurkas/mazurka59-3/maj3_up_m-63-66.bekrn\n",
            "grandstaff_dataset/chopin/mazurkas/mazurka59-3/original_m-69-72.bekrn\n",
            "grandstaff_dataset/chopin/mazurkas/mazurka59-3/maj2_up_m-33-36.bekrn\n",
            "grandstaff_dataset/chopin/mazurkas/mazurka59-3/maj2_up_m-72-75.bekrn\n",
            "grandstaff_dataset/chopin/mazurkas/mazurka59-3/min3_down_m-140-144.bekrn\n",
            "grandstaff_dataset/chopin/mazurkas/mazurka59-3/maj2_down_m-120-125.bekrn\n",
            "grandstaff_dataset/chopin/mazurkas/mazurka59-3/original_m-24-27.bekrn\n",
            "grandstaff_dataset/chopin/mazurkas/mazurka59-3/maj2_up_m-6-9.bekrn\n",
            "grandstaff_dataset/chopin/mazurkas/mazurka59-3/min3_up_m-33-36.bekrn\n",
            "grandstaff_dataset/chopin/mazurkas/mazurka59-3/original_m-63-66.bekrn\n",
            "grandstaff_dataset/chopin/mazurkas/mazurka59-3/maj3_down_m-12-16.bekrn\n",
            "grandstaff_dataset/chopin/mazurkas/mazurka59-3/min3_up_m-75-78.bekrn\n",
            "grandstaff_dataset/chopin/mazurkas/mazurka59-3/min3_down_m-144-148.bekrn\n",
            "grandstaff_dataset/chopin/mazurkas/mazurka59-3/original_m-27-30.bekrn\n",
            "grandstaff_dataset/chopin/mazurkas/mazurka59-3/maj3_up_m-144-147.bekrn\n",
            "grandstaff_dataset/chopin/mazurkas/mazurka59-3/maj3_down_m-8-12.bekrn\n",
            "grandstaff_dataset/chopin/mazurkas/mazurka59-3/maj3_down_m-140-144.bekrn\n",
            "grandstaff_dataset/chopin/mazurkas/mazurka59-3/min3_up_m-15-18.bekrn\n",
            "grandstaff_dataset/chopin/mazurkas/mazurka59-3/maj2_down_m-80-85.bekrn\n",
            "grandstaff_dataset/chopin/mazurkas/mazurka59-3/min3_up_m-123-126.bekrn\n",
            "grandstaff_dataset/chopin/mazurkas/mazurka59-3/min3_down_m-112-116.bekrn\n",
            "grandstaff_dataset/chopin/mazurkas/mazurka59-3/maj2_up_m-12-15.bekrn\n",
            "grandstaff_dataset/chopin/mazurkas/mazurka59-3/min3_down_m-84-88.bekrn\n",
            "grandstaff_dataset/chopin/mazurkas/mazurka59-3/original_m-87-90.bekrn\n",
            "grandstaff_dataset/chopin/mazurkas/mazurka59-3/maj3_up_m-15-18.bekrn\n",
            "grandstaff_dataset/chopin/mazurkas/mazurka59-3/maj3_up_m-150-153.bekrn\n",
            "grandstaff_dataset/chopin/mazurkas/mazurka59-3/min3_up_m-6-9.bekrn\n",
            "grandstaff_dataset/chopin/mazurkas/mazurka59-3/min3_down_m-16-20.bekrn\n",
            "grandstaff_dataset/chopin/mazurkas/mazurka59-3/min3_up_m-111-114.bekrn\n",
            "grandstaff_dataset/chopin/mazurkas/mazurka59-3/original_m-15-18.bekrn\n",
            "grandstaff_dataset/chopin/mazurkas/mazurka59-3/min3_up_m-150-153.bekrn\n",
            "grandstaff_dataset/chopin/mazurkas/mazurka59-3/maj3_up_m-84-87.bekrn\n",
            "grandstaff_dataset/chopin/mazurkas/mazurka59-3/maj3_down_m-24-28.bekrn\n",
            "grandstaff_dataset/chopin/mazurkas/mazurka59-3/min3_up_m-0-3.bekrn\n",
            "grandstaff_dataset/chopin/mazurkas/mazurka59-3/maj3_down_m-148-152.bekrn\n",
            "grandstaff_dataset/chopin/mazurkas/mazurka59-3/maj2_up_m-0-3.bekrn\n",
            "grandstaff_dataset/chopin/mazurkas/mazurka59-3/min3_down_m-124-128.bekrn\n",
            "grandstaff_dataset/chopin/mazurkas/mazurka59-3/original_m-12-15.bekrn\n",
            "grandstaff_dataset/chopin/mazurkas/mazurka59-3/min3_up_m-153-156.bekrn\n",
            "grandstaff_dataset/chopin/mazurkas/mazurka59-3/original_m-3-6.bekrn\n",
            "grandstaff_dataset/chopin/mazurkas/mazurka59-3/min3_down_m-28-32.bekrn\n",
            "grandstaff_dataset/chopin/mazurkas/mazurka59-3/maj3_up_m-87-90.bekrn\n",
            "grandstaff_dataset/chopin/mazurkas/mazurka59-3/maj2_down_m-15-20.bekrn\n",
            "grandstaff_dataset/chopin/mazurkas/mazurka59-3/original_m-75-78.bekrn\n",
            "grandstaff_dataset/chopin/mazurkas/mazurka59-3/min3_down_m-76-80.bekrn\n",
            "grandstaff_dataset/chopin/mazurkas/mazurka59-3/maj2_down_m-95-100.bekrn\n",
            "grandstaff_dataset/chopin/mazurkas/mazurka59-3/original_m-123-126.bekrn\n",
            "grandstaff_dataset/chopin/mazurkas/mazurka59-3/maj2_up_m-144-147.bekrn\n",
            "grandstaff_dataset/chopin/mazurkas/mazurka59-3/maj3_up_m-12-15.bekrn\n",
            "grandstaff_dataset/chopin/mazurkas/mazurka59-3/maj2_down_m-70-75.bekrn\n",
            "grandstaff_dataset/chopin/mazurkas/mazurka59-3/maj2_up_m-66-69.bekrn\n",
            "grandstaff_dataset/chopin/mazurkas/mazurka59-3/min3_up_m-87-90.bekrn\n",
            "grandstaff_dataset/chopin/mazurkas/mazurka59-3/maj2_up_m-21-24.bekrn\n",
            "grandstaff_dataset/chopin/mazurkas/mazurka59-3/maj3_up_m-69-72.bekrn\n",
            "grandstaff_dataset/chopin/mazurkas/mazurka59-3/min3_up_m-12-15.bekrn\n",
            "grandstaff_dataset/chopin/mazurkas/mazurka59-3/maj3_up_m-3-6.bekrn\n",
            "grandstaff_dataset/chopin/mazurkas/mazurka59-3/maj2_up_m-123-126.bekrn\n",
            "grandstaff_dataset/chopin/mazurkas/mazurka59-3/maj2_up_m-99-102.bekrn\n",
            "grandstaff_dataset/chopin/mazurkas/mazurka59-3/maj3_down_m-136-140.bekrn\n",
            "grandstaff_dataset/chopin/mazurkas/mazurka59-3/maj2_up_m-15-18.bekrn\n",
            "grandstaff_dataset/chopin/mazurkas/mazurka59-3/min3_down_m-148-152.bekrn\n",
            "grandstaff_dataset/chopin/mazurkas/mazurka59-3/original_m-6-9.bekrn\n",
            "grandstaff_dataset/chopin/mazurkas/mazurka59-3/min3_up_m-30-33.bekrn\n",
            "grandstaff_dataset/chopin/mazurkas/mazurka59-3/maj2_down_m-75-80.bekrn\n",
            "grandstaff_dataset/chopin/mazurkas/mazurka59-3/maj3_up_m-72-75.bekrn\n",
            "grandstaff_dataset/chopin/mazurkas/mazurka59-3/original_m-150-153.bekrn\n",
            "grandstaff_dataset/chopin/mazurkas/mazurka59-3/maj2_up_m-63-66.bekrn\n",
            "grandstaff_dataset/chopin/mazurkas/mazurka59-3/min3_up_m-78-81.bekrn\n",
            "grandstaff_dataset/chopin/mazurkas/mazurka59-3/maj2_down_m-150-155.bekrn\n",
            "grandstaff_dataset/chopin/mazurkas/mazurka59-3/maj3_down_m-76-80.bekrn\n",
            "grandstaff_dataset/chopin/mazurkas/mazurka59-3/maj2_down_m-25-30.bekrn\n",
            "grandstaff_dataset/chopin/mazurkas/mazurka59-3/maj3_up_m-114-117.bekrn\n",
            "grandstaff_dataset/chopin/mazurkas/mazurka59-3/min3_down_m-64-68.bekrn\n",
            "grandstaff_dataset/chopin/mazurkas/mazurka59-3/maj3_up_m-33-36.bekrn\n",
            "grandstaff_dataset/chopin/mazurkas/mazurka59-3/min3_up_m-66-69.bekrn\n",
            "grandstaff_dataset/chopin/mazurkas/mazurka59-3/maj3_down_m-4-8.bekrn\n",
            "grandstaff_dataset/chopin/mazurkas/mazurka59-3/original_m-21-24.bekrn\n",
            "grandstaff_dataset/chopin/mazurkas/mazurka59-3/min3_up_m-144-147.bekrn\n",
            "grandstaff_dataset/chopin/mazurkas/mazurka59-3/maj2_up_m-69-72.bekrn\n",
            "grandstaff_dataset/chopin/mazurkas/mazurka59-3/min3_down_m-0-4.bekrn\n",
            "grandstaff_dataset/chopin/mazurkas/mazurka59-3/maj2_up_m-18-21.bekrn\n",
            "grandstaff_dataset/chopin/mazurkas/mazurka59-3/min3_down_m-152-156.bekrn\n",
            "grandstaff_dataset/chopin/mazurkas/mazurka59-3/min3_up_m-138-141.bekrn\n",
            "grandstaff_dataset/chopin/mazurkas/mazurka59-3/maj3_up_m-123-126.bekrn\n",
            "grandstaff_dataset/chopin/mazurkas/mazurka59-3/maj2_up_m-138-141.bekrn\n",
            "grandstaff_dataset/chopin/mazurkas/mazurka59-3/maj3_up_m-99-102.bekrn\n",
            "grandstaff_dataset/chopin/mazurkas/mazurka59-3/min3_up_m-126-129.bekrn\n",
            "grandstaff_dataset/chopin/mazurkas/mazurka59-3/min3_up_m-114-117.bekrn\n",
            "grandstaff_dataset/chopin/mazurkas/mazurka59-3/min3_down_m-120-124.bekrn\n",
            "grandstaff_dataset/chopin/mazurkas/mazurka59-3/maj3_up_m-111-114.bekrn\n",
            "grandstaff_dataset/chopin/mazurkas/mazurka59-3/original_m-78-81.bekrn\n",
            "grandstaff_dataset/chopin/mazurkas/mazurka59-3/maj3_down_m-16-20.bekrn\n",
            "grandstaff_dataset/chopin/mazurkas/mazurka59-3/maj3_up_m-138-141.bekrn\n",
            "grandstaff_dataset/chopin/mazurkas/mazurka59-3/maj3_down_m-144-148.bekrn\n",
            "grandstaff_dataset/chopin/mazurkas/mazurka59-3/maj3_up_m-30-33.bekrn\n",
            "grandstaff_dataset/chopin/mazurkas/mazurka59-3/original_m-0-3.bekrn\n",
            "grandstaff_dataset/chopin/mazurkas/mazurka59-3/maj3_up_m-126-129.bekrn\n",
            "grandstaff_dataset/chopin/mazurkas/mazurka59-3/maj2_up_m-153-156.bekrn\n",
            "grandstaff_dataset/chopin/mazurkas/mazurka59-3/maj2_down_m-10-15.bekrn\n",
            "grandstaff_dataset/chopin/mazurkas/mazurka59-3/maj2_up_m-24-27.bekrn\n",
            "grandstaff_dataset/chopin/mazurkas/mazurka59-3/min3_down_m-100-104.bekrn\n",
            "grandstaff_dataset/chopin/mazurkas/mazurka59-3/min3_up_m-72-75.bekrn\n",
            "grandstaff_dataset/chopin/mazurkas/mazurka59-3/maj3_down_m-124-128.bekrn\n",
            "grandstaff_dataset/chopin/mazurkas/mazurka59-3/maj3_up_m-78-81.bekrn\n",
            "grandstaff_dataset/chopin/mazurkas/mazurka59-3/maj2_down_m-140-145.bekrn\n",
            "grandstaff_dataset/chopin/mazurkas/mazurka59-3/maj3_down_m-64-68.bekrn\n",
            "grandstaff_dataset/chopin/mazurkas/mazurka59-3/original_m-105-108.bekrn\n",
            "grandstaff_dataset/chopin/mazurkas/mazurka59-3/maj2_up_m-30-33.bekrn\n",
            "grandstaff_dataset/chopin/mazurkas/mazurka59-3/original_m-102-105.bekrn\n",
            "grandstaff_dataset/chopin/mazurkas/mazurka59-3/maj3_up_m-66-69.bekrn\n",
            "grandstaff_dataset/chopin/mazurkas/mazurka59-3/min3_down_m-12-16.bekrn\n",
            "grandstaff_dataset/chopin/mazurkas/mazurka59-3/maj3_up_m-102-105.bekrn\n",
            "grandstaff_dataset/chopin/mazurkas/mazurka59-3/maj2_up_m-105-108.bekrn\n",
            "grandstaff_dataset/chopin/mazurkas/mazurka41-2/original_m-66-71.bekrn\n",
            "grandstaff_dataset/chopin/mazurkas/mazurka41-2/maj3_down_m-29-33.bekrn\n",
            "grandstaff_dataset/chopin/mazurkas/mazurka41-2/min3_up_m-57-61.bekrn\n",
            "grandstaff_dataset/chopin/mazurkas/mazurka41-2/maj3_up_m-1-6.bekrn\n",
            "grandstaff_dataset/chopin/mazurkas/mazurka41-2/maj3_up_m-21-26.bekrn\n",
            "grandstaff_dataset/chopin/mazurkas/mazurka41-2/maj2_down_m-49-53.bekrn\n",
            "grandstaff_dataset/chopin/mazurkas/mazurka41-2/maj3_down_m-1-5.bekrn\n",
            "grandstaff_dataset/chopin/mazurkas/mazurka41-2/maj2_up_m-10-13.bekrn\n",
            "grandstaff_dataset/chopin/mazurkas/mazurka41-2/min3_up_m-9-13.bekrn\n",
            "grandstaff_dataset/chopin/mazurkas/mazurka41-2/original_m-41-46.bekrn\n",
            "grandstaff_dataset/chopin/mazurkas/mazurka41-2/min3_down_m-10-13.bekrn\n",
            "grandstaff_dataset/chopin/mazurkas/mazurka41-2/min3_up_m-37-41.bekrn\n",
            "grandstaff_dataset/chopin/mazurkas/mazurka41-2/maj2_down_m-29-33.bekrn\n",
            "grandstaff_dataset/chopin/mazurkas/mazurka41-2/min3_down_m-4-7.bekrn\n",
            "grandstaff_dataset/chopin/mazurkas/mazurka41-2/maj3_down_m-37-41.bekrn\n",
            "grandstaff_dataset/chopin/mazurkas/mazurka41-2/min3_up_m-45-49.bekrn\n",
            "grandstaff_dataset/chopin/mazurkas/mazurka41-2/min3_up_m-65-69.bekrn\n",
            "grandstaff_dataset/chopin/mazurkas/mazurka41-2/min3_down_m-37-40.bekrn\n",
            "grandstaff_dataset/chopin/mazurkas/mazurka41-2/maj2_down_m-53-57.bekrn\n",
            "grandstaff_dataset/chopin/mazurkas/mazurka41-2/maj2_up_m-58-61.bekrn\n",
            "grandstaff_dataset/chopin/mazurkas/mazurka41-2/maj2_down_m-45-49.bekrn\n",
            "grandstaff_dataset/chopin/mazurkas/mazurka41-2/min3_up_m-29-33.bekrn\n",
            "grandstaff_dataset/chopin/mazurkas/mazurka41-2/maj3_down_m-9-13.bekrn\n",
            "grandstaff_dataset/chopin/mazurkas/mazurka41-2/maj3_up_m-31-36.bekrn\n",
            "grandstaff_dataset/chopin/mazurkas/mazurka41-2/min3_up_m-21-25.bekrn\n",
            "grandstaff_dataset/chopin/mazurkas/mazurka41-2/min3_up_m-49-53.bekrn\n",
            "grandstaff_dataset/chopin/mazurkas/mazurka41-2/maj3_up_m-61-66.bekrn\n",
            "grandstaff_dataset/chopin/mazurkas/mazurka41-2/maj3_down_m-57-61.bekrn\n",
            "grandstaff_dataset/chopin/mazurkas/mazurka41-2/maj2_up_m-40-43.bekrn\n",
            "grandstaff_dataset/chopin/mazurkas/mazurka41-2/maj2_down_m-65-69.bekrn\n",
            "grandstaff_dataset/chopin/mazurkas/mazurka41-2/maj3_down_m-41-45.bekrn\n",
            "grandstaff_dataset/chopin/mazurkas/mazurka41-2/min3_down_m-67-70.bekrn\n",
            "grandstaff_dataset/chopin/mazurkas/mazurka41-2/min3_down_m-64-67.bekrn\n",
            "grandstaff_dataset/chopin/mazurkas/mazurka41-2/maj3_down_m-33-37.bekrn\n",
            "grandstaff_dataset/chopin/mazurkas/mazurka41-2/maj3_up_m-36-41.bekrn\n",
            "grandstaff_dataset/chopin/mazurkas/mazurka41-2/maj3_down_m-45-49.bekrn\n",
            "grandstaff_dataset/chopin/mazurkas/mazurka41-2/min3_down_m-55-58.bekrn\n",
            "grandstaff_dataset/chopin/mazurkas/mazurka41-2/maj3_down_m-21-25.bekrn\n",
            "grandstaff_dataset/chopin/mazurkas/mazurka41-2/._maj3_down_m-25-29.bekrn\n",
            "grandstaff_dataset/chopin/mazurkas/mazurka41-2/min3_up_m-1-5.bekrn\n",
            "grandstaff_dataset/chopin/mazurkas/mazurka41-2/maj2_up_m-49-52.bekrn\n",
            "grandstaff_dataset/chopin/mazurkas/mazurka41-2/maj3_down_m-53-57.bekrn\n",
            "grandstaff_dataset/chopin/mazurkas/mazurka41-2/min3_down_m-7-10.bekrn\n",
            "grandstaff_dataset/chopin/mazurkas/mazurka41-2/maj2_up_m-34-37.bekrn\n",
            "grandstaff_dataset/chopin/mazurkas/mazurka41-2/min3_down_m-31-34.bekrn\n",
            "grandstaff_dataset/chopin/mazurkas/mazurka41-2/original_m-6-11.bekrn\n",
            "grandstaff_dataset/chopin/mazurkas/mazurka41-2/maj2_down_m-5-9.bekrn\n",
            "grandstaff_dataset/chopin/mazurkas/mazurka41-2/maj2_up_m-1-4.bekrn\n",
            "grandstaff_dataset/chopin/mazurkas/mazurka41-2/maj3_down_m-49-53.bekrn\n",
            "grandstaff_dataset/chopin/mazurkas/mazurka41-2/original_m-36-41.bekrn\n",
            "grandstaff_dataset/chopin/mazurkas/mazurka41-2/min3_up_m-5-9.bekrn\n",
            "grandstaff_dataset/chopin/mazurkas/mazurka41-2/maj3_up_m-6-11.bekrn\n",
            "grandstaff_dataset/chopin/mazurkas/mazurka41-2/maj2_down_m-57-61.bekrn\n",
            "grandstaff_dataset/chopin/mazurkas/mazurka41-2/original_m-21-26.bekrn\n",
            "grandstaff_dataset/chopin/mazurkas/mazurka41-2/min3_down_m-25-28.bekrn\n",
            "grandstaff_dataset/chopin/mazurkas/mazurka41-2/maj2_up_m-55-58.bekrn\n",
            "grandstaff_dataset/chopin/mazurkas/mazurka41-2/maj2_up_m-4-7.bekrn\n",
            "grandstaff_dataset/chopin/mazurkas/mazurka41-2/maj2_up_m-67-70.bekrn\n",
            "grandstaff_dataset/chopin/mazurkas/mazurka41-2/maj3_down_m-65-69.bekrn\n",
            "grandstaff_dataset/chopin/mazurkas/mazurka41-2/min3_up_m-53-57.bekrn\n",
            "grandstaff_dataset/chopin/mazurkas/mazurka41-2/maj3_down_m-5-9.bekrn\n",
            "grandstaff_dataset/chopin/mazurkas/mazurka41-2/maj3_up_m-41-46.bekrn\n",
            "grandstaff_dataset/chopin/mazurkas/mazurka41-2/maj2_down_m-21-25.bekrn\n",
            "grandstaff_dataset/chopin/mazurkas/mazurka41-2/maj3_down_m-25-29.bekrn\n",
            "grandstaff_dataset/chopin/mazurkas/mazurka41-2/maj2_down_m-33-37.bekrn\n",
            "grandstaff_dataset/chopin/mazurkas/mazurka41-2/maj2_down_m-25-29.bekrn\n",
            "grandstaff_dataset/chopin/mazurkas/mazurka41-2/min3_down_m-58-61.bekrn\n",
            "grandstaff_dataset/chopin/mazurkas/mazurka41-2/maj2_up_m-64-67.bekrn\n",
            "grandstaff_dataset/chopin/mazurkas/mazurka41-2/maj3_up_m-66-71.bekrn\n",
            "grandstaff_dataset/chopin/mazurkas/mazurka41-2/original_m-61-66.bekrn\n",
            "grandstaff_dataset/chopin/mazurkas/mazurka41-2/maj2_up_m-25-28.bekrn\n",
            "grandstaff_dataset/chopin/mazurkas/mazurka41-2/maj2_up_m-31-34.bekrn\n",
            "grandstaff_dataset/chopin/mazurkas/mazurka41-2/min3_down_m-49-52.bekrn\n",
            "grandstaff_dataset/chopin/mazurkas/mazurka41-2/maj2_down_m-41-45.bekrn\n",
            "grandstaff_dataset/chopin/mazurkas/mazurka41-2/maj2_down_m-37-41.bekrn\n",
            "grandstaff_dataset/chopin/mazurkas/mazurka41-2/min3_up_m-41-45.bekrn\n",
            "grandstaff_dataset/chopin/mazurkas/mazurka41-2/min3_down_m-40-43.bekrn\n",
            "grandstaff_dataset/chopin/mazurkas/mazurka41-2/original_m-1-6.bekrn\n",
            "grandstaff_dataset/chopin/mazurkas/mazurka41-2/maj2_down_m-9-13.bekrn\n",
            "grandstaff_dataset/chopin/mazurkas/mazurka41-2/min3_up_m-25-29.bekrn\n",
            "grandstaff_dataset/chopin/mazurkas/mazurka41-2/min3_down_m-1-4.bekrn\n",
            "grandstaff_dataset/chopin/mazurkas/mazurka41-2/min3_up_m-33-37.bekrn\n",
            "grandstaff_dataset/chopin/mazurkas/mazurka41-2/maj2_down_m-1-5.bekrn\n",
            "grandstaff_dataset/chopin/mazurkas/mazurka41-2/min3_down_m-34-37.bekrn\n",
            "grandstaff_dataset/chopin/mazurkas/mazurka41-2/maj2_up_m-37-40.bekrn\n",
            "grandstaff_dataset/chopin/mazurkas/mazurka41-2/original_m-31-36.bekrn\n",
            "grandstaff_dataset/chopin/mazurkas/mazurka41-2/maj2_up_m-7-10.bekrn\n",
            "grandstaff_dataset/chopin/mazurkas/mazurka17-3/min3_down_m-70-75.bekrn\n",
            "grandstaff_dataset/chopin/mazurkas/mazurka17-3/min3_up_m-51-54.bekrn\n",
            "grandstaff_dataset/chopin/mazurkas/mazurka17-3/min3_down_m-80-85.bekrn\n",
            "grandstaff_dataset/chopin/mazurkas/mazurka17-3/maj3_down_m-60-65.bekrn\n",
            "grandstaff_dataset/chopin/mazurkas/mazurka17-3/maj3_up_m-36-39.bekrn\n",
            "grandstaff_dataset/chopin/mazurkas/mazurka17-3/min3_up_m-9-12.bekrn\n",
            "grandstaff_dataset/chopin/mazurkas/mazurka17-3/maj2_up_m-9-12.bekrn\n",
            "grandstaff_dataset/chopin/mazurkas/mazurka17-3/maj2_up_m-81-84.bekrn\n",
            "grandstaff_dataset/chopin/mazurkas/mazurka17-3/original_m-39-42.bekrn\n",
            "grandstaff_dataset/chopin/mazurkas/mazurka17-3/min3_up_m-69-72.bekrn\n",
            "grandstaff_dataset/chopin/mazurkas/mazurka17-3/min3_down_m-60-65.bekrn\n",
            "grandstaff_dataset/chopin/mazurkas/mazurka17-3/maj2_down_m-36-40.bekrn\n",
            "grandstaff_dataset/chopin/mazurkas/mazurka17-3/original_m-33-36.bekrn\n",
            "grandstaff_dataset/chopin/mazurkas/mazurka17-3/maj3_up_m-51-54.bekrn\n",
            "grandstaff_dataset/chopin/mazurkas/mazurka17-3/maj2_up_m-51-54.bekrn\n",
            "grandstaff_dataset/chopin/mazurkas/mazurka17-3/maj3_up_m-54-57.bekrn\n",
            "grandstaff_dataset/chopin/mazurkas/mazurka17-3/maj3_up_m-0-3.bekrn\n",
            "grandstaff_dataset/chopin/mazurkas/mazurka17-3/maj3_up_m-6-9.bekrn\n",
            "grandstaff_dataset/chopin/mazurkas/mazurka17-3/maj3_up_m-75-78.bekrn\n",
            "grandstaff_dataset/chopin/mazurkas/mazurka17-3/min3_up_m-63-66.bekrn\n",
            "grandstaff_dataset/chopin/mazurkas/mazurka17-3/min3_down_m-35-40.bekrn\n",
            "grandstaff_dataset/chopin/mazurkas/mazurka17-3/original_m-72-75.bekrn\n",
            "grandstaff_dataset/chopin/mazurkas/mazurka17-3/maj3_up_m-39-42.bekrn\n",
            "grandstaff_dataset/chopin/mazurkas/mazurka17-3/original_m-66-69.bekrn\n",
            "grandstaff_dataset/chopin/mazurkas/mazurka17-3/maj3_down_m-75-80.bekrn\n",
            "grandstaff_dataset/chopin/mazurkas/mazurka17-3/original_m-81-84.bekrn\n",
            "grandstaff_dataset/chopin/mazurkas/mazurka17-3/maj3_up_m-9-12.bekrn\n",
            "grandstaff_dataset/chopin/mazurkas/mazurka17-3/maj2_up_m-36-39.bekrn\n",
            "grandstaff_dataset/chopin/mazurkas/mazurka17-3/min3_up_m-36-39.bekrn\n",
            "grandstaff_dataset/chopin/mazurkas/mazurka17-3/maj2_up_m-48-51.bekrn\n",
            "grandstaff_dataset/chopin/mazurkas/mazurka17-3/maj3_down_m-0-5.bekrn\n",
            "grandstaff_dataset/chopin/mazurkas/mazurka17-3/original_m-60-63.bekrn\n",
            "grandstaff_dataset/chopin/mazurkas/mazurka17-3/maj2_down_m-0-4.bekrn\n",
            "grandstaff_dataset/chopin/mazurkas/mazurka17-3/original_m-48-51.bekrn\n",
            "grandstaff_dataset/chopin/mazurkas/mazurka17-3/maj3_up_m-60-63.bekrn\n",
            "grandstaff_dataset/chopin/mazurkas/mazurka17-3/original_m-30-33.bekrn\n",
            "grandstaff_dataset/chopin/mazurkas/mazurka17-3/maj2_down_m-32-36.bekrn\n",
            "grandstaff_dataset/chopin/mazurkas/mazurka17-3/maj3_down_m-80-85.bekrn\n",
            "grandstaff_dataset/chopin/mazurkas/mazurka17-3/maj3_down_m-40-45.bekrn\n",
            "grandstaff_dataset/chopin/mazurkas/mazurka17-3/maj2_up_m-75-78.bekrn\n",
            "grandstaff_dataset/chopin/mazurkas/mazurka17-3/original_m-51-54.bekrn\n",
            "grandstaff_dataset/chopin/mazurkas/mazurka17-3/maj3_up_m-81-84.bekrn\n",
            "grandstaff_dataset/chopin/mazurkas/mazurka17-3/min3_up_m-54-57.bekrn\n",
            "grandstaff_dataset/chopin/mazurkas/mazurka17-3/maj2_down_m-40-44.bekrn\n",
            "grandstaff_dataset/chopin/mazurkas/mazurka17-3/original_m-45-48.bekrn\n",
            "grandstaff_dataset/chopin/mazurkas/mazurka17-3/min3_up_m-81-84.bekrn\n",
            "grandstaff_dataset/chopin/mazurkas/mazurka17-3/maj2_up_m-78-81.bekrn\n",
            "grandstaff_dataset/chopin/mazurkas/mazurka17-3/min3_up_m-42-45.bekrn\n",
            "grandstaff_dataset/chopin/mazurkas/mazurka17-3/original_m-9-12.bekrn\n",
            "grandstaff_dataset/chopin/mazurkas/mazurka17-3/maj3_up_m-63-66.bekrn\n",
            "grandstaff_dataset/chopin/mazurkas/mazurka17-3/original_m-69-72.bekrn\n",
            "grandstaff_dataset/chopin/mazurkas/mazurka17-3/min3_up_m-39-42.bekrn\n",
            "grandstaff_dataset/chopin/mazurkas/mazurka17-3/maj3_up_m-42-45.bekrn\n",
            "grandstaff_dataset/chopin/mazurkas/mazurka17-3/maj2_up_m-33-36.bekrn\n",
            "grandstaff_dataset/chopin/mazurkas/mazurka17-3/min3_up_m-45-48.bekrn\n",
            "grandstaff_dataset/chopin/mazurkas/mazurka17-3/maj2_up_m-72-75.bekrn\n",
            "grandstaff_dataset/chopin/mazurkas/mazurka17-3/maj2_up_m-6-9.bekrn\n",
            "grandstaff_dataset/chopin/mazurkas/mazurka17-3/min3_up_m-33-36.bekrn\n",
            "grandstaff_dataset/chopin/mazurkas/mazurka17-3/original_m-63-66.bekrn\n",
            "grandstaff_dataset/chopin/mazurkas/mazurka17-3/min3_up_m-75-78.bekrn\n",
            "grandstaff_dataset/chopin/mazurkas/mazurka17-3/maj2_up_m-45-48.bekrn\n",
            "grandstaff_dataset/chopin/mazurkas/mazurka17-3/maj2_up_m-12-15.bekrn\n",
            "grandstaff_dataset/chopin/mazurkas/mazurka17-3/min3_up_m-60-63.bekrn\n",
            "grandstaff_dataset/chopin/mazurkas/mazurka17-3/min3_up_m-6-9.bekrn\n",
            "grandstaff_dataset/chopin/mazurkas/mazurka17-3/maj2_up_m-42-45.bekrn\n",
            "grandstaff_dataset/chopin/mazurkas/mazurka17-3/min3_up_m-0-3.bekrn\n",
            "grandstaff_dataset/chopin/mazurkas/mazurka17-3/maj2_down_m-12-16.bekrn\n",
            "grandstaff_dataset/chopin/mazurkas/mazurka17-3/maj2_up_m-0-3.bekrn\n",
            "grandstaff_dataset/chopin/mazurkas/mazurka17-3/maj3_down_m-65-70.bekrn\n",
            "grandstaff_dataset/chopin/mazurkas/mazurka17-3/original_m-12-15.bekrn\n",
            "grandstaff_dataset/chopin/mazurkas/mazurka17-3/maj3_down_m-70-75.bekrn\n",
            "grandstaff_dataset/chopin/mazurkas/mazurka17-3/maj2_down_m-64-68.bekrn\n",
            "grandstaff_dataset/chopin/mazurkas/mazurka17-3/maj2_up_m-39-42.bekrn\n",
            "grandstaff_dataset/chopin/mazurkas/mazurka17-3/min3_down_m-40-45.bekrn\n",
            "grandstaff_dataset/chopin/mazurkas/mazurka17-3/min3_up_m-48-51.bekrn\n",
            "grandstaff_dataset/chopin/mazurkas/mazurka17-3/original_m-75-78.bekrn\n",
            "grandstaff_dataset/chopin/mazurkas/mazurka17-3/min3_down_m-45-50.bekrn\n",
            "grandstaff_dataset/chopin/mazurkas/mazurka17-3/maj3_up_m-12-15.bekrn\n",
            "grandstaff_dataset/chopin/mazurkas/mazurka17-3/maj3_down_m-45-50.bekrn\n",
            "grandstaff_dataset/chopin/mazurkas/mazurka17-3/maj3_down_m-35-40.bekrn\n",
            "grandstaff_dataset/chopin/mazurkas/mazurka17-3/maj3_down_m-30-35.bekrn\n",
            "grandstaff_dataset/chopin/mazurkas/mazurka17-3/maj2_down_m-80-84.bekrn\n",
            "grandstaff_dataset/chopin/mazurkas/mazurka17-3/maj2_up_m-66-69.bekrn\n",
            "grandstaff_dataset/chopin/mazurkas/mazurka17-3/maj3_up_m-69-72.bekrn\n",
            "grandstaff_dataset/chopin/mazurkas/mazurka17-3/min3_up_m-12-15.bekrn\n",
            "grandstaff_dataset/chopin/mazurkas/mazurka17-3/min3_down_m-75-80.bekrn\n",
            "grandstaff_dataset/chopin/mazurkas/mazurka17-3/original_m-6-9.bekrn\n",
            "grandstaff_dataset/chopin/mazurkas/mazurka17-3/min3_up_m-30-33.bekrn\n",
            "grandstaff_dataset/chopin/mazurkas/mazurka17-3/maj3_down_m-50-55.bekrn\n",
            "grandstaff_dataset/chopin/mazurkas/mazurka17-3/maj3_up_m-72-75.bekrn\n",
            "grandstaff_dataset/chopin/mazurkas/mazurka17-3/maj2_up_m-63-66.bekrn\n",
            "grandstaff_dataset/chopin/mazurkas/mazurka17-3/min3_up_m-78-81.bekrn\n",
            "grandstaff_dataset/chopin/mazurkas/mazurka17-3/maj2_up_m-60-63.bekrn\n",
            "grandstaff_dataset/chopin/mazurkas/mazurka17-3/original_m-36-39.bekrn\n",
            "grandstaff_dataset/chopin/mazurkas/mazurka17-3/maj3_up_m-33-36.bekrn\n",
            "grandstaff_dataset/chopin/mazurkas/mazurka17-3/min3_up_m-66-69.bekrn\n",
            "grandstaff_dataset/chopin/mazurkas/mazurka17-3/maj2_down_m-48-52.bekrn\n",
            "grandstaff_dataset/chopin/mazurkas/mazurka17-3/maj2_down_m-8-12.bekrn\n",
            "grandstaff_dataset/chopin/mazurkas/mazurka17-3/min3_down_m-65-70.bekrn\n",
            "grandstaff_dataset/chopin/mazurkas/mazurka17-3/maj2_up_m-69-72.bekrn\n",
            "grandstaff_dataset/chopin/mazurkas/mazurka17-3/maj3_up_m-45-48.bekrn\n",
            "grandstaff_dataset/chopin/mazurkas/mazurka17-3/maj2_up_m-54-57.bekrn\n",
            "grandstaff_dataset/chopin/mazurkas/mazurka17-3/original_m-54-57.bekrn\n",
            "grandstaff_dataset/chopin/mazurkas/mazurka17-3/original_m-42-45.bekrn\n",
            "grandstaff_dataset/chopin/mazurkas/mazurka17-3/original_m-78-81.bekrn\n",
            "grandstaff_dataset/chopin/mazurkas/mazurka17-3/min3_down_m-0-5.bekrn\n",
            "grandstaff_dataset/chopin/mazurkas/mazurka17-3/maj2_down_m-60-64.bekrn\n",
            "grandstaff_dataset/chopin/mazurkas/mazurka17-3/maj3_up_m-30-33.bekrn\n",
            "grandstaff_dataset/chopin/mazurkas/mazurka17-3/original_m-0-3.bekrn\n",
            "grandstaff_dataset/chopin/mazurkas/mazurka17-3/min3_up_m-72-75.bekrn\n",
            "grandstaff_dataset/chopin/mazurkas/mazurka17-3/maj3_up_m-78-81.bekrn\n",
            "grandstaff_dataset/chopin/mazurkas/mazurka17-3/min3_down_m-50-55.bekrn\n",
            "grandstaff_dataset/chopin/mazurkas/mazurka17-3/maj3_up_m-48-51.bekrn\n",
            "grandstaff_dataset/chopin/mazurkas/mazurka17-3/maj2_up_m-30-33.bekrn\n",
            "grandstaff_dataset/chopin/mazurkas/mazurka17-3/maj3_up_m-66-69.bekrn\n",
            "grandstaff_dataset/chopin/mazurkas/mazurka17-3/maj2_down_m-72-76.bekrn\n",
            "grandstaff_dataset/chopin/mazurkas/mazurka17-3/min3_down_m-30-35.bekrn\n",
            "grandstaff_dataset/chopin/mazurkas/mazurka07-1/maj3_down_m-52-55.bekrn\n",
            "grandstaff_dataset/chopin/mazurkas/mazurka07-1/min3_down_m-52-55.bekrn\n",
            "grandstaff_dataset/chopin/mazurkas/mazurka07-1/maj3_down_m-46-49.bekrn\n",
            "grandstaff_dataset/chopin/mazurkas/mazurka07-1/min3_up_m-45-49.bekrn\n",
            "grandstaff_dataset/chopin/mazurkas/mazurka07-1/min3_down_m-28-31.bekrn\n",
            "grandstaff_dataset/chopin/mazurkas/mazurka07-1/maj2_up_m-49-53.bekrn\n",
            "grandstaff_dataset/chopin/mazurkas/mazurka07-1/maj3_down_m-64-67.bekrn\n",
            "grandstaff_dataset/chopin/mazurkas/mazurka07-1/min3_up_m-49-53.bekrn\n",
            "grandstaff_dataset/chopin/mazurkas/mazurka07-1/maj2_up_m-45-49.bekrn\n",
            "grandstaff_dataset/chopin/mazurkas/mazurka07-1/min3_down_m-64-67.bekrn\n",
            "grandstaff_dataset/chopin/mazurkas/mazurka07-1/maj2_down_m-26-31.bekrn\n",
            "grandstaff_dataset/chopin/mazurkas/mazurka07-1/original_m-25-29.bekrn\n",
            "grandstaff_dataset/chopin/mazurkas/mazurka07-1/maj3_up_m-46-51.bekrn\n",
            "grandstaff_dataset/chopin/mazurkas/mazurka07-1/min3_down_m-46-49.bekrn\n",
            "grandstaff_dataset/chopin/mazurkas/mazurka07-1/maj3_down_m-49-52.bekrn\n",
            "grandstaff_dataset/chopin/mazurkas/mazurka07-1/min3_down_m-25-28.bekrn\n",
            "grandstaff_dataset/chopin/mazurkas/mazurka07-1/maj3_down_m-43-46.bekrn\n",
            "grandstaff_dataset/chopin/mazurkas/mazurka07-1/maj2_up_m-25-29.bekrn\n",
            "grandstaff_dataset/chopin/mazurkas/mazurka07-1/maj3_up_m-26-31.bekrn\n",
            "grandstaff_dataset/chopin/mazurkas/mazurka07-1/min3_down_m-49-52.bekrn\n",
            "grandstaff_dataset/chopin/mazurkas/mazurka07-1/original_m-45-49.bekrn\n",
            "grandstaff_dataset/chopin/mazurkas/mazurka07-1/min3_up_m-25-29.bekrn\n",
            "grandstaff_dataset/chopin/mazurkas/mazurka07-1/original_m-49-53.bekrn\n",
            "grandstaff_dataset/chopin/mazurkas/mazurka07-1/maj2_down_m-46-51.bekrn\n",
            "grandstaff_dataset/chopin/mazurkas/mazurka07-1/maj3_down_m-28-31.bekrn\n",
            "grandstaff_dataset/chopin/mazurkas/mazurka07-1/min3_down_m-43-46.bekrn\n",
            "grandstaff_dataset/chopin/mazurkas/mazurka07-1/maj3_down_m-25-28.bekrn\n",
            "grandstaff_dataset/chopin/mazurkas/mazurka07-5/maj2_up_m-11-16.bekrn\n",
            "grandstaff_dataset/chopin/mazurkas/mazurka07-5/min3_down_m-13-16.bekrn\n",
            "grandstaff_dataset/chopin/mazurkas/mazurka07-5/min3_down_m-10-13.bekrn\n",
            "grandstaff_dataset/chopin/mazurkas/mazurka07-5/min3_down_m-4-7.bekrn\n",
            "grandstaff_dataset/chopin/mazurkas/mazurka07-5/maj2_down_m-13-16.bekrn\n",
            "grandstaff_dataset/chopin/mazurkas/mazurka07-5/maj3_down_m-16-21.bekrn\n",
            "grandstaff_dataset/chopin/mazurkas/mazurka07-5/maj3_up_m-16-19.bekrn\n",
            "grandstaff_dataset/chopin/mazurkas/mazurka07-5/original_m-16-21.bekrn\n",
            "grandstaff_dataset/chopin/mazurkas/mazurka07-5/maj2_down_m-10-13.bekrn\n",
            "grandstaff_dataset/chopin/mazurkas/mazurka07-5/maj3_up_m-4-7.bekrn\n",
            "grandstaff_dataset/chopin/mazurkas/mazurka07-5/maj3_down_m-6-11.bekrn\n",
            "grandstaff_dataset/chopin/mazurkas/mazurka07-5/maj2_up_m-1-6.bekrn\n",
            "grandstaff_dataset/chopin/mazurkas/mazurka07-5/maj2_down_m-19-22.bekrn\n",
            "grandstaff_dataset/chopin/mazurkas/mazurka07-5/min3_down_m-7-10.bekrn\n",
            "grandstaff_dataset/chopin/mazurkas/mazurka07-5/min3_up_m-11-16.bekrn\n",
            "grandstaff_dataset/chopin/mazurkas/mazurka07-5/min3_up_m-16-21.bekrn\n",
            "grandstaff_dataset/chopin/mazurkas/mazurka07-5/original_m-6-11.bekrn\n",
            "grandstaff_dataset/chopin/mazurkas/mazurka07-5/maj2_down_m-4-7.bekrn\n",
            "grandstaff_dataset/chopin/mazurkas/mazurka07-5/maj3_up_m-19-22.bekrn\n",
            "grandstaff_dataset/chopin/mazurkas/mazurka07-5/maj2_down_m-16-19.bekrn\n",
            "grandstaff_dataset/chopin/mazurkas/mazurka07-5/maj3_down_m-1-6.bekrn\n",
            "grandstaff_dataset/chopin/mazurkas/mazurka07-5/original_m-11-16.bekrn\n",
            "grandstaff_dataset/chopin/mazurkas/mazurka07-5/min3_down_m-16-19.bekrn\n",
            "grandstaff_dataset/chopin/mazurkas/mazurka07-5/maj3_down_m-11-16.bekrn\n",
            "grandstaff_dataset/chopin/mazurkas/mazurka07-5/maj2_up_m-16-21.bekrn\n",
            "grandstaff_dataset/chopin/mazurkas/mazurka07-5/maj2_down_m-7-10.bekrn\n",
            "grandstaff_dataset/chopin/mazurkas/mazurka07-5/maj3_up_m-7-10.bekrn\n",
            "grandstaff_dataset/chopin/mazurkas/mazurka07-5/min3_up_m-1-6.bekrn\n",
            "grandstaff_dataset/chopin/mazurkas/mazurka07-5/original_m-1-6.bekrn\n",
            "grandstaff_dataset/chopin/mazurkas/mazurka07-5/maj3_up_m-13-16.bekrn\n",
            "grandstaff_dataset/chopin/mazurkas/mazurka07-5/min3_down_m-1-4.bekrn\n",
            "grandstaff_dataset/chopin/mazurkas/mazurka07-5/min3_up_m-6-11.bekrn\n",
            "grandstaff_dataset/chopin/mazurkas/mazurka07-5/maj2_up_m-6-11.bekrn\n",
            "grandstaff_dataset/chopin/mazurkas/mazurka07-5/maj2_down_m-1-4.bekrn\n",
            "grandstaff_dataset/chopin/mazurkas/mazurka07-5/min3_down_m-19-22.bekrn\n",
            "grandstaff_dataset/chopin/mazurkas/mazurka07-5/maj3_up_m-10-13.bekrn\n",
            "grandstaff_dataset/chopin/mazurkas/mazurka07-5/maj3_up_m-1-4.bekrn\n",
            "grandstaff_dataset/chopin/mazurkas/mazurka06-1/maj2_down_m-57-60.bekrn\n",
            "grandstaff_dataset/chopin/mazurkas/mazurka06-1/original_m-56-60.bekrn\n",
            "grandstaff_dataset/chopin/mazurkas/mazurka06-1/maj3_up_m-56-60.bekrn\n",
            "grandstaff_dataset/chopin/mazurkas/mazurka06-1/min3_down_m-57-60.bekrn\n",
            "grandstaff_dataset/chopin/mazurkas/mazurka06-1/maj3_up_m-0-4.bekrn\n",
            "grandstaff_dataset/chopin/mazurkas/mazurka06-1/maj2_up_m-16-20.bekrn\n",
            "grandstaff_dataset/chopin/mazurkas/mazurka06-1/maj2_down_m-0-3.bekrn\n",
            "grandstaff_dataset/chopin/mazurkas/mazurka06-1/maj2_up_m-0-4.bekrn\n",
            "grandstaff_dataset/chopin/mazurkas/mazurka06-1/maj3_down_m-55-60.bekrn\n",
            "grandstaff_dataset/chopin/mazurkas/mazurka06-1/min3_down_m-0-3.bekrn\n",
            "grandstaff_dataset/chopin/mazurkas/mazurka06-1/min3_up_m-0-3.bekrn\n",
            "grandstaff_dataset/chopin/mazurkas/mazurka06-1/original_m-0-4.bekrn\n",
            "grandstaff_dataset/chopin/mazurkas/mazurka06-1/min3_up_m-57-60.bekrn\n",
            "grandstaff_dataset/chopin/mazurkas/mazurka06-1/maj3_up_m-16-20.bekrn\n",
            "grandstaff_dataset/chopin/mazurkas/mazurka06-1/original_m-16-20.bekrn\n",
            "grandstaff_dataset/chopin/mazurkas/mazurka06-1/maj2_up_m-56-60.bekrn\n",
            "grandstaff_dataset/chopin/mazurkas/mazurka-51/min3_down_m-70-75.bekrn\n",
            "grandstaff_dataset/chopin/mazurkas/mazurka-51/maj2_down_m-4-8.bekrn\n",
            "grandstaff_dataset/chopin/mazurkas/mazurka-51/maj3_down_m-0-4.bekrn\n",
            "grandstaff_dataset/chopin/mazurkas/mazurka-51/maj3_up_m-64-68.bekrn\n",
            "grandstaff_dataset/chopin/mazurkas/mazurka-51/maj3_up_m-108-112.bekrn\n",
            "grandstaff_dataset/chopin/mazurkas/mazurka-51/min3_up_m-76-80.bekrn\n",
            "grandstaff_dataset/chopin/mazurkas/mazurka-51/maj2_up_m-3-6.bekrn\n",
            "grandstaff_dataset/chopin/mazurkas/mazurka-51/maj3_down_m-28-32.bekrn\n",
            "grandstaff_dataset/chopin/mazurkas/mazurka-51/maj3_up_m-96-100.bekrn\n",
            "grandstaff_dataset/chopin/mazurkas/mazurka-51/min3_down_m-105-110.bekrn\n",
            "grandstaff_dataset/chopin/mazurkas/mazurka-51/maj2_up_m-81-84.bekrn\n",
            "grandstaff_dataset/chopin/mazurkas/mazurka-51/min3_up_m-40-44.bekrn\n",
            "grandstaff_dataset/chopin/mazurkas/mazurka-51/maj3_up_m-20-24.bekrn\n",
            "grandstaff_dataset/chopin/mazurkas/mazurka-51/maj2_up_m-111-114.bekrn\n",
            "grandstaff_dataset/chopin/mazurkas/mazurka-51/original_m-60-65.bekrn\n",
            "grandstaff_dataset/chopin/mazurkas/mazurka-51/original_m-75-80.bekrn\n",
            "grandstaff_dataset/chopin/mazurkas/mazurka-51/maj2_up_m-96-99.bekrn\n",
            "grandstaff_dataset/chopin/mazurkas/mazurka-51/min3_down_m-95-100.bekrn\n",
            "grandstaff_dataset/chopin/mazurkas/mazurka-51/maj3_up_m-76-80.bekrn\n",
            "grandstaff_dataset/chopin/mazurkas/mazurka-51/maj3_down_m-68-72.bekrn\n",
            "grandstaff_dataset/chopin/mazurkas/mazurka-51/min3_down_m-20-25.bekrn\n",
            "grandstaff_dataset/chopin/mazurkas/mazurka-51/min3_down_m-60-65.bekrn\n",
            "grandstaff_dataset/chopin/mazurkas/mazurka-51/min3_up_m-64-68.bekrn\n",
            "grandstaff_dataset/chopin/mazurkas/mazurka-51/maj2_down_m-36-40.bekrn\n",
            "grandstaff_dataset/chopin/mazurkas/mazurka-51/maj3_down_m-96-100.bekrn\n",
            "grandstaff_dataset/chopin/mazurkas/mazurka-51/maj2_up_m-126-129.bekrn\n",
            "grandstaff_dataset/chopin/mazurkas/mazurka-51/min3_up_m-72-76.bekrn\n",
            "grandstaff_dataset/chopin/mazurkas/mazurka-51/maj2_down_m-128-132.bekrn\n",
            "grandstaff_dataset/chopin/mazurkas/mazurka-51/original_m-0-5.bekrn\n",
            "grandstaff_dataset/chopin/mazurkas/mazurka-51/maj3_down_m-32-36.bekrn\n",
            "grandstaff_dataset/chopin/mazurkas/mazurka-51/maj2_down_m-108-112.bekrn\n",
            "grandstaff_dataset/chopin/mazurkas/mazurka-51/maj2_up_m-102-105.bekrn\n",
            "grandstaff_dataset/chopin/mazurkas/mazurka-51/maj3_down_m-20-24.bekrn\n",
            "grandstaff_dataset/chopin/mazurkas/mazurka-51/maj2_up_m-51-54.bekrn\n",
            "grandstaff_dataset/chopin/mazurkas/mazurka-51/maj3_down_m-36-40.bekrn\n",
            "grandstaff_dataset/chopin/mazurkas/mazurka-51/maj2_down_m-52-56.bekrn\n",
            "grandstaff_dataset/chopin/mazurkas/mazurka-51/maj3_up_m-0-4.bekrn\n",
            "grandstaff_dataset/chopin/mazurkas/mazurka-51/maj3_down_m-40-44.bekrn\n",
            "grandstaff_dataset/chopin/mazurkas/mazurka-51/maj2_down_m-104-108.bekrn\n",
            "grandstaff_dataset/chopin/mazurkas/mazurka-51/min3_down_m-35-40.bekrn\n",
            "grandstaff_dataset/chopin/mazurkas/mazurka-51/maj2_up_m-27-30.bekrn\n",
            "grandstaff_dataset/chopin/mazurkas/mazurka-51/maj3_down_m-108-112.bekrn\n",
            "grandstaff_dataset/chopin/mazurkas/mazurka-51/maj2_down_m-20-24.bekrn\n",
            "grandstaff_dataset/chopin/mazurkas/mazurka-51/maj2_up_m-36-39.bekrn\n",
            "grandstaff_dataset/chopin/mazurkas/mazurka-51/maj2_down_m-100-104.bekrn\n",
            "grandstaff_dataset/chopin/mazurkas/mazurka-51/maj2_down_m-44-48.bekrn\n",
            "grandstaff_dataset/chopin/mazurkas/mazurka-51/maj2_down_m-68-72.bekrn\n",
            "grandstaff_dataset/chopin/mazurkas/mazurka-51/maj3_down_m-72-76.bekrn\n",
            "grandstaff_dataset/chopin/mazurkas/mazurka-51/maj3_up_m-28-32.bekrn\n",
            "grandstaff_dataset/chopin/mazurkas/mazurka-51/maj2_down_m-0-4.bekrn\n",
            "grandstaff_dataset/chopin/mazurkas/mazurka-51/original_m-95-100.bekrn\n",
            "grandstaff_dataset/chopin/mazurkas/mazurka-51/maj2_down_m-32-36.bekrn\n",
            "grandstaff_dataset/chopin/mazurkas/mazurka-51/maj3_down_m-80-84.bekrn\n",
            "grandstaff_dataset/chopin/mazurkas/mazurka-51/maj3_down_m-100-104.bekrn\n",
            "grandstaff_dataset/chopin/mazurkas/mazurka-51/maj3_up_m-100-104.bekrn\n",
            "grandstaff_dataset/chopin/mazurkas/mazurka-51/min3_up_m-80-84.bekrn\n",
            "grandstaff_dataset/chopin/mazurkas/mazurka-51/maj3_up_m-24-28.bekrn\n",
            "grandstaff_dataset/chopin/mazurkas/mazurka-51/maj3_up_m-32-36.bekrn\n",
            "grandstaff_dataset/chopin/mazurkas/mazurka-51/maj2_up_m-75-78.bekrn\n",
            "grandstaff_dataset/chopin/mazurkas/mazurka-51/maj3_up_m-4-8.bekrn\n",
            "grandstaff_dataset/chopin/mazurkas/mazurka-51/min3_up_m-96-100.bekrn\n",
            "grandstaff_dataset/chopin/mazurkas/mazurka-51/original_m-105-110.bekrn\n",
            "grandstaff_dataset/chopin/mazurkas/mazurka-51/maj3_up_m-124-128.bekrn\n",
            "grandstaff_dataset/chopin/mazurkas/mazurka-51/min3_up_m-24-28.bekrn\n",
            "grandstaff_dataset/chopin/mazurkas/mazurka-51/min3_down_m-5-10.bekrn\n",
            "grandstaff_dataset/chopin/mazurkas/mazurka-51/maj2_down_m-40-44.bekrn\n",
            "grandstaff_dataset/chopin/mazurkas/mazurka-51/maj3_up_m-52-56.bekrn\n",
            "grandstaff_dataset/chopin/mazurkas/mazurka-51/maj2_up_m-78-81.bekrn\n",
            "grandstaff_dataset/chopin/mazurkas/mazurka-51/min3_up_m-44-48.bekrn\n",
            "grandstaff_dataset/chopin/mazurkas/mazurka-51/maj3_down_m-60-64.bekrn\n",
            "grandstaff_dataset/chopin/mazurkas/mazurka-51/maj2_up_m-33-36.bekrn\n",
            "grandstaff_dataset/chopin/mazurkas/mazurka-51/maj3_down_m-128-132.bekrn\n",
            "grandstaff_dataset/chopin/mazurkas/mazurka-51/maj2_up_m-72-75.bekrn\n",
            "grandstaff_dataset/chopin/mazurkas/mazurka-51/maj2_up_m-6-9.bekrn\n",
            "grandstaff_dataset/chopin/mazurkas/mazurka-51/min3_up_m-104-108.bekrn\n",
            "grandstaff_dataset/chopin/mazurkas/mazurka-51/original_m-30-35.bekrn\n",
            "grandstaff_dataset/chopin/mazurkas/mazurka-51/min3_up_m-20-24.bekrn\n",
            "grandstaff_dataset/chopin/mazurkas/mazurka-51/maj3_down_m-104-108.bekrn\n",
            "grandstaff_dataset/chopin/mazurkas/mazurka-51/original_m-40-45.bekrn\n",
            "grandstaff_dataset/chopin/mazurkas/mazurka-51/maj3_up_m-72-76.bekrn\n",
            "grandstaff_dataset/chopin/mazurkas/mazurka-51/maj2_up_m-45-48.bekrn\n",
            "grandstaff_dataset/chopin/mazurkas/mazurka-51/maj2_down_m-96-100.bekrn\n",
            "grandstaff_dataset/chopin/mazurkas/mazurka-51/original_m-130-135.bekrn\n",
            "grandstaff_dataset/chopin/mazurkas/mazurka-51/maj3_up_m-80-84.bekrn\n",
            "grandstaff_dataset/chopin/mazurkas/mazurka-51/maj2_up_m-108-111.bekrn\n",
            "grandstaff_dataset/chopin/mazurkas/mazurka-51/maj3_up_m-36-40.bekrn\n",
            "grandstaff_dataset/chopin/mazurkas/mazurka-51/min3_up_m-68-72.bekrn\n",
            "grandstaff_dataset/chopin/mazurkas/mazurka-51/maj2_down_m-76-80.bekrn\n",
            "grandstaff_dataset/chopin/mazurkas/mazurka-51/min3_up_m-4-8.bekrn\n",
            "grandstaff_dataset/chopin/mazurkas/mazurka-51/original_m-65-70.bekrn\n",
            "grandstaff_dataset/chopin/mazurkas/mazurka-51/min3_down_m-125-130.bekrn\n",
            "grandstaff_dataset/chopin/mazurkas/mazurka-51/maj2_up_m-42-45.bekrn\n",
            "grandstaff_dataset/chopin/mazurkas/mazurka-51/min3_up_m-36-40.bekrn\n",
            "grandstaff_dataset/chopin/mazurkas/mazurka-51/min3_up_m-124-128.bekrn\n",
            "grandstaff_dataset/chopin/mazurkas/mazurka-51/maj3_down_m-24-28.bekrn\n",
            "grandstaff_dataset/chopin/mazurkas/mazurka-51/original_m-100-105.bekrn\n",
            "grandstaff_dataset/chopin/mazurkas/mazurka-51/maj3_up_m-44-48.bekrn\n",
            "grandstaff_dataset/chopin/mazurkas/mazurka-51/maj2_up_m-0-3.bekrn\n",
            "grandstaff_dataset/chopin/mazurkas/mazurka-51/original_m-25-30.bekrn\n",
            "grandstaff_dataset/chopin/mazurkas/mazurka-51/min3_down_m-25-30.bekrn\n",
            "grandstaff_dataset/chopin/mazurkas/mazurka-51/maj2_down_m-64-68.bekrn\n",
            "grandstaff_dataset/chopin/mazurkas/mazurka-51/maj2_up_m-39-42.bekrn\n",
            "grandstaff_dataset/chopin/mazurkas/mazurka-51/min3_down_m-40-45.bekrn\n",
            "grandstaff_dataset/chopin/mazurkas/mazurka-51/min3_up_m-108-112.bekrn\n",
            "grandstaff_dataset/chopin/mazurkas/mazurka-51/maj2_down_m-80-84.bekrn\n",
            "grandstaff_dataset/chopin/mazurkas/mazurka-51/maj2_up_m-66-69.bekrn\n",
            "grandstaff_dataset/chopin/mazurkas/mazurka-51/min3_up_m-128-132.bekrn\n",
            "grandstaff_dataset/chopin/mazurkas/mazurka-51/maj2_up_m-21-24.bekrn\n",
            "grandstaff_dataset/chopin/mazurkas/mazurka-51/original_m-70-75.bekrn\n",
            "grandstaff_dataset/chopin/mazurkas/mazurka-51/min3_down_m-75-80.bekrn\n",
            "grandstaff_dataset/chopin/mazurkas/mazurka-51/maj2_up_m-123-126.bekrn\n",
            "grandstaff_dataset/chopin/mazurkas/mazurka-51/maj2_up_m-99-102.bekrn\n",
            "grandstaff_dataset/chopin/mazurkas/mazurka-51/maj2_down_m-24-28.bekrn\n",
            "grandstaff_dataset/chopin/mazurkas/mazurka-51/maj3_up_m-60-64.bekrn\n",
            "grandstaff_dataset/chopin/mazurkas/mazurka-51/min3_up_m-32-36.bekrn\n",
            "grandstaff_dataset/chopin/mazurkas/mazurka-51/min3_up_m-60-64.bekrn\n",
            "grandstaff_dataset/chopin/mazurkas/mazurka-51/maj2_up_m-63-66.bekrn\n",
            "grandstaff_dataset/chopin/mazurkas/mazurka-51/maj3_down_m-76-80.bekrn\n",
            "grandstaff_dataset/chopin/mazurkas/mazurka-51/maj3_up_m-104-108.bekrn\n",
            "grandstaff_dataset/chopin/mazurkas/mazurka-51/maj2_down_m-28-32.bekrn\n",
            "grandstaff_dataset/chopin/mazurkas/mazurka-51/maj2_up_m-60-63.bekrn\n",
            "grandstaff_dataset/chopin/mazurkas/mazurka-51/min3_up_m-52-56.bekrn\n",
            "grandstaff_dataset/chopin/mazurkas/mazurka-51/maj3_down_m-44-48.bekrn\n",
            "grandstaff_dataset/chopin/mazurkas/mazurka-51/min3_up_m-100-104.bekrn\n",
            "grandstaff_dataset/chopin/mazurkas/mazurka-51/maj2_up_m-129-132.bekrn\n",
            "grandstaff_dataset/chopin/mazurkas/mazurka-51/maj3_down_m-4-8.bekrn\n",
            "grandstaff_dataset/chopin/mazurkas/mazurka-51/min3_up_m-0-4.bekrn\n",
            "grandstaff_dataset/chopin/mazurkas/mazurka-51/min3_down_m-65-70.bekrn\n",
            "grandstaff_dataset/chopin/mazurkas/mazurka-51/maj2_up_m-69-72.bekrn\n",
            "grandstaff_dataset/chopin/mazurkas/mazurka-51/original_m-50-55.bekrn\n",
            "grandstaff_dataset/chopin/mazurkas/mazurka-51/maj2_up_m-18-21.bekrn\n",
            "grandstaff_dataset/chopin/mazurkas/mazurka-51/maj3_up_m-128-132.bekrn\n",
            "grandstaff_dataset/chopin/mazurkas/mazurka-51/min3_down_m-0-5.bekrn\n",
            "grandstaff_dataset/chopin/mazurkas/mazurka-51/maj3_up_m-68-72.bekrn\n",
            "grandstaff_dataset/chopin/mazurkas/mazurka-51/min3_up_m-28-32.bekrn\n",
            "grandstaff_dataset/chopin/mazurkas/mazurka-51/maj2_down_m-124-128.bekrn\n",
            "grandstaff_dataset/chopin/mazurkas/mazurka-51/original_m-20-25.bekrn\n",
            "grandstaff_dataset/chopin/mazurkas/mazurka-51/maj3_down_m-52-56.bekrn\n",
            "grandstaff_dataset/chopin/mazurkas/mazurka-51/maj2_down_m-60-64.bekrn\n",
            "grandstaff_dataset/chopin/mazurkas/mazurka-51/maj2_up_m-24-27.bekrn\n",
            "grandstaff_dataset/chopin/mazurkas/mazurka-51/maj3_up_m-40-44.bekrn\n",
            "grandstaff_dataset/chopin/mazurkas/mazurka-51/original_m-5-10.bekrn\n",
            "grandstaff_dataset/chopin/mazurkas/mazurka-51/maj3_down_m-124-128.bekrn\n",
            "grandstaff_dataset/chopin/mazurkas/mazurka-51/original_m-125-130.bekrn\n",
            "grandstaff_dataset/chopin/mazurkas/mazurka-51/min3_down_m-100-105.bekrn\n",
            "grandstaff_dataset/chopin/mazurkas/mazurka-51/min3_down_m-50-55.bekrn\n",
            "grandstaff_dataset/chopin/mazurkas/mazurka-51/maj3_down_m-64-68.bekrn\n",
            "grandstaff_dataset/chopin/mazurkas/mazurka-51/original_m-35-40.bekrn\n",
            "grandstaff_dataset/chopin/mazurkas/mazurka-51/maj2_up_m-30-33.bekrn\n",
            "grandstaff_dataset/chopin/mazurkas/mazurka-51/maj2_down_m-72-76.bekrn\n",
            "grandstaff_dataset/chopin/mazurkas/mazurka-51/min3_down_m-30-35.bekrn\n",
            "grandstaff_dataset/chopin/mazurkas/mazurka-51/maj2_up_m-105-108.bekrn\n",
            "grandstaff_dataset/chopin/mazurkas/mazurka-51/min3_down_m-130-135.bekrn\n",
            "grandstaff_dataset/chopin/preludes/prelude28-14/maj2_down_m-0-5.bekrn\n",
            "grandstaff_dataset/chopin/preludes/prelude28-14/maj2_down_m-5-10.bekrn\n",
            "grandstaff_dataset/chopin/preludes/prelude28-14/min3_up_m-5-10.bekrn\n",
            "grandstaff_dataset/chopin/preludes/prelude28-14/min3_down_m-6-9.bekrn\n",
            "grandstaff_dataset/chopin/preludes/prelude28-14/maj3_up_m-10-15.bekrn\n",
            "grandstaff_dataset/chopin/preludes/prelude28-14/maj2_up_m-5-10.bekrn\n",
            "grandstaff_dataset/chopin/preludes/prelude28-14/maj3_up_m-5-10.bekrn\n",
            "grandstaff_dataset/chopin/preludes/prelude28-14/maj3_up_m-0-5.bekrn\n",
            "grandstaff_dataset/chopin/preludes/prelude28-14/min3_down_m-18-21.bekrn\n",
            "grandstaff_dataset/chopin/preludes/prelude28-14/maj3_down_m-0-5.bekrn\n",
            "grandstaff_dataset/chopin/preludes/prelude28-14/min3_up_m-0-5.bekrn\n",
            "grandstaff_dataset/chopin/preludes/prelude28-14/maj3_down_m-5-10.bekrn\n",
            "grandstaff_dataset/chopin/preludes/prelude28-14/maj2_up_m-0-5.bekrn\n",
            "grandstaff_dataset/chopin/preludes/prelude28-14/maj3_down_m-10-15.bekrn\n",
            "grandstaff_dataset/chopin/preludes/prelude28-14/min3_down_m-15-18.bekrn\n",
            "grandstaff_dataset/chopin/preludes/prelude28-14/min3_down_m-0-3.bekrn\n",
            "grandstaff_dataset/chopin/preludes/prelude28-14/min3_down_m-3-6.bekrn\n",
            "grandstaff_dataset/chopin/preludes/prelude28-14/maj3_up_m-15-20.bekrn\n",
            "grandstaff_dataset/chopin/preludes/prelude28-14/min3_up_m-10-15.bekrn\n",
            "grandstaff_dataset/chopin/preludes/prelude28-14/original_m-12-16.bekrn\n",
            "grandstaff_dataset/chopin/preludes/prelude28-14/original_m-8-12.bekrn\n",
            "grandstaff_dataset/chopin/preludes/prelude28-14/maj2_down_m-15-20.bekrn\n",
            "grandstaff_dataset/chopin/preludes/prelude28-14/maj2_up_m-10-15.bekrn\n",
            "grandstaff_dataset/chopin/preludes/prelude28-14/maj3_down_m-15-20.bekrn\n",
            "grandstaff_dataset/chopin/preludes/prelude28-14/original_m-0-4.bekrn\n",
            "grandstaff_dataset/chopin/preludes/prelude28-14/min3_down_m-12-15.bekrn\n",
            "grandstaff_dataset/chopin/preludes/prelude28-14/maj2_up_m-15-20.bekrn\n",
            "grandstaff_dataset/chopin/preludes/prelude28-14/original_m-4-8.bekrn\n",
            "grandstaff_dataset/chopin/preludes/prelude28-14/original_m-16-20.bekrn\n",
            "grandstaff_dataset/chopin/preludes/prelude28-14/min3_down_m-9-12.bekrn\n",
            "grandstaff_dataset/chopin/preludes/prelude28-14/min3_up_m-15-20.bekrn\n",
            "grandstaff_dataset/chopin/preludes/prelude28-14/maj2_down_m-10-15.bekrn\n",
            "grandstaff_dataset/chopin/preludes/prelude28-23/maj2_up_m-20-25.bekrn\n",
            "grandstaff_dataset/chopin/preludes/prelude28-23/maj3_up_m-20-24.bekrn\n",
            "grandstaff_dataset/chopin/preludes/prelude28-23/maj3_down_m-20-25.bekrn\n",
            "grandstaff_dataset/chopin/preludes/prelude28-23/min3_down_m-32-36.bekrn\n",
            "grandstaff_dataset/chopin/preludes/prelude28-23/maj2_down_m-20-24.bekrn\n",
            "grandstaff_dataset/chopin/preludes/prelude28-23/maj3_up_m-28-32.bekrn\n",
            "grandstaff_dataset/chopin/preludes/prelude28-23/maj2_down_m-32-36.bekrn\n",
            "grandstaff_dataset/chopin/preludes/prelude28-23/maj3_up_m-32-36.bekrn\n",
            "grandstaff_dataset/chopin/preludes/prelude28-23/min3_down_m-20-24.bekrn\n",
            "grandstaff_dataset/chopin/preludes/prelude28-23/original_m-30-35.bekrn\n",
            "grandstaff_dataset/chopin/preludes/prelude28-23/min3_up_m-20-24.bekrn\n",
            "grandstaff_dataset/chopin/preludes/prelude28-23/min3_down_m-28-32.bekrn\n",
            "grandstaff_dataset/chopin/preludes/prelude28-23/maj3_down_m-30-35.bekrn\n",
            "grandstaff_dataset/chopin/preludes/prelude28-23/min3_up_m-32-36.bekrn\n",
            "grandstaff_dataset/chopin/preludes/prelude28-23/maj2_down_m-28-32.bekrn\n",
            "grandstaff_dataset/chopin/preludes/prelude28-23/min3_up_m-28-32.bekrn\n",
            "grandstaff_dataset/chopin/preludes/prelude28-23/maj2_up_m-30-35.bekrn\n",
            "grandstaff_dataset/chopin/preludes/prelude28-23/original_m-20-25.bekrn\n",
            "grandstaff_dataset/chopin/preludes/prelude28-24/maj3_down_m-56-61.bekrn\n",
            "grandstaff_dataset/chopin/preludes/prelude28-24/maj3_up_m-1-6.bekrn\n",
            "grandstaff_dataset/chopin/preludes/prelude28-24/min3_down_m-73-77.bekrn\n",
            "grandstaff_dataset/chopin/preludes/prelude28-24/maj2_up_m-73-76.bekrn\n",
            "grandstaff_dataset/chopin/preludes/prelude28-24/maj3_up_m-21-26.bekrn\n",
            "grandstaff_dataset/chopin/preludes/prelude28-24/min3_down_m-29-33.bekrn\n",
            "grandstaff_dataset/chopin/preludes/prelude28-24/maj2_up_m-10-13.bekrn\n",
            "grandstaff_dataset/chopin/preludes/prelude28-24/maj2_down_m-41-46.bekrn\n",
            "grandstaff_dataset/chopin/preludes/prelude28-24/original_m-41-46.bekrn\n",
            "grandstaff_dataset/chopin/preludes/prelude28-24/maj2_up_m-76-79.bekrn\n",
            "grandstaff_dataset/chopin/preludes/prelude28-24/min3_up_m-1-4.bekrn\n",
            "grandstaff_dataset/chopin/preludes/prelude28-24/maj3_down_m-21-26.bekrn\n",
            "grandstaff_dataset/chopin/preludes/prelude28-24/min3_up_m-76-79.bekrn\n",
            "grandstaff_dataset/chopin/preludes/prelude28-24/maj2_up_m-28-31.bekrn\n",
            "grandstaff_dataset/chopin/preludes/prelude28-24/maj3_up_m-76-81.bekrn\n",
            "grandstaff_dataset/chopin/preludes/prelude28-24/maj3_up_m-11-16.bekrn\n",
            "grandstaff_dataset/chopin/preludes/prelude28-24/maj3_up_m-71-76.bekrn\n",
            "grandstaff_dataset/chopin/preludes/prelude28-24/min3_down_m-1-5.bekrn\n",
            "grandstaff_dataset/chopin/preludes/prelude28-24/maj3_up_m-56-61.bekrn\n",
            "grandstaff_dataset/chopin/preludes/prelude28-24/min3_up_m-49-52.bekrn\n",
            "grandstaff_dataset/chopin/preludes/prelude28-24/maj2_down_m-21-26.bekrn\n",
            "grandstaff_dataset/chopin/preludes/prelude28-24/maj2_down_m-1-6.bekrn\n",
            "grandstaff_dataset/chopin/preludes/prelude28-24/maj3_down_m-51-56.bekrn\n",
            "grandstaff_dataset/chopin/preludes/prelude28-24/min3_up_m-43-46.bekrn\n",
            "grandstaff_dataset/chopin/preludes/prelude28-24/maj2_down_m-6-11.bekrn\n",
            "grandstaff_dataset/chopin/preludes/prelude28-24/original_m-56-61.bekrn\n",
            "grandstaff_dataset/chopin/preludes/prelude28-24/min3_down_m-41-45.bekrn\n",
            "grandstaff_dataset/chopin/preludes/prelude28-24/maj2_down_m-51-56.bekrn\n",
            "grandstaff_dataset/chopin/preludes/prelude28-24/min3_up_m-19-22.bekrn\n",
            "grandstaff_dataset/chopin/preludes/prelude28-24/maj3_down_m-6-11.bekrn\n",
            "grandstaff_dataset/chopin/preludes/prelude28-24/original_m-71-76.bekrn\n",
            "grandstaff_dataset/chopin/preludes/prelude28-24/maj2_down_m-71-76.bekrn\n",
            "grandstaff_dataset/chopin/preludes/prelude28-24/min3_down_m-37-41.bekrn\n",
            "grandstaff_dataset/chopin/preludes/prelude28-24/min3_up_m-10-13.bekrn\n",
            "grandstaff_dataset/chopin/preludes/prelude28-24/min3_up_m-37-40.bekrn\n",
            "grandstaff_dataset/chopin/preludes/prelude28-24/maj2_up_m-49-52.bekrn\n",
            "grandstaff_dataset/chopin/preludes/prelude28-24/original_m-46-51.bekrn\n",
            "grandstaff_dataset/chopin/preludes/prelude28-24/maj2_down_m-26-31.bekrn\n",
            "grandstaff_dataset/chopin/preludes/prelude28-24/maj3_down_m-41-46.bekrn\n",
            "grandstaff_dataset/chopin/preludes/prelude28-24/maj3_down_m-71-76.bekrn\n",
            "grandstaff_dataset/chopin/preludes/prelude28-24/original_m-6-11.bekrn\n",
            "grandstaff_dataset/chopin/preludes/prelude28-24/maj3_down_m-76-81.bekrn\n",
            "grandstaff_dataset/chopin/preludes/prelude28-24/original_m-26-31.bekrn\n",
            "grandstaff_dataset/chopin/preludes/prelude28-24/maj2_up_m-43-46.bekrn\n",
            "grandstaff_dataset/chopin/preludes/prelude28-24/maj2_up_m-46-49.bekrn\n",
            "grandstaff_dataset/chopin/preludes/prelude28-24/maj2_up_m-1-4.bekrn\n",
            "grandstaff_dataset/chopin/preludes/prelude28-24/maj3_up_m-46-51.bekrn\n",
            "grandstaff_dataset/chopin/preludes/prelude28-24/maj3_down_m-46-51.bekrn\n",
            "grandstaff_dataset/chopin/preludes/prelude28-24/maj2_up_m-61-64.bekrn\n",
            "grandstaff_dataset/chopin/preludes/prelude28-24/min3_up_m-28-31.bekrn\n",
            "grandstaff_dataset/chopin/preludes/prelude28-24/maj3_up_m-6-11.bekrn\n",
            "grandstaff_dataset/chopin/preludes/prelude28-24/maj3_down_m-1-6.bekrn\n",
            "grandstaff_dataset/chopin/preludes/prelude28-24/original_m-21-26.bekrn\n",
            "grandstaff_dataset/chopin/preludes/prelude28-24/original_m-11-16.bekrn\n",
            "grandstaff_dataset/chopin/preludes/prelude28-24/min3_up_m-73-76.bekrn\n",
            "grandstaff_dataset/chopin/preludes/prelude28-24/maj2_down_m-11-16.bekrn\n",
            "grandstaff_dataset/chopin/preludes/prelude28-24/maj2_up_m-55-58.bekrn\n",
            "grandstaff_dataset/chopin/preludes/prelude28-24/min3_down_m-21-25.bekrn\n",
            "grandstaff_dataset/chopin/preludes/prelude28-24/original_m-51-56.bekrn\n",
            "grandstaff_dataset/chopin/preludes/prelude28-24/min3_down_m-45-49.bekrn\n",
            "grandstaff_dataset/chopin/preludes/prelude28-24/maj3_up_m-41-46.bekrn\n",
            "grandstaff_dataset/chopin/preludes/prelude28-24/maj2_down_m-76-81.bekrn\n",
            "grandstaff_dataset/chopin/preludes/prelude28-24/min3_up_m-46-49.bekrn\n",
            "grandstaff_dataset/chopin/preludes/prelude28-24/maj3_down_m-11-16.bekrn\n",
            "grandstaff_dataset/chopin/preludes/prelude28-24/min3_down_m-25-29.bekrn\n",
            "grandstaff_dataset/chopin/preludes/prelude28-24/min3_up_m-13-16.bekrn\n",
            "grandstaff_dataset/chopin/preludes/prelude28-24/min3_up_m-25-28.bekrn\n",
            "grandstaff_dataset/chopin/preludes/prelude28-24/min3_down_m-77-81.bekrn\n",
            "grandstaff_dataset/chopin/preludes/prelude28-24/maj2_up_m-13-16.bekrn\n",
            "grandstaff_dataset/chopin/preludes/prelude28-24/maj3_up_m-26-31.bekrn\n",
            "grandstaff_dataset/chopin/preludes/prelude28-24/min3_up_m-7-10.bekrn\n",
            "grandstaff_dataset/chopin/preludes/prelude28-24/maj2_up_m-25-28.bekrn\n",
            "grandstaff_dataset/chopin/preludes/prelude28-24/maj2_up_m-31-34.bekrn\n",
            "grandstaff_dataset/chopin/preludes/prelude28-24/min3_down_m-53-57.bekrn\n",
            "grandstaff_dataset/chopin/preludes/prelude28-24/original_m-76-81.bekrn\n",
            "grandstaff_dataset/chopin/preludes/prelude28-24/min3_down_m-49-53.bekrn\n",
            "grandstaff_dataset/chopin/preludes/prelude28-24/original_m-1-6.bekrn\n",
            "grandstaff_dataset/chopin/preludes/prelude28-24/min3_up_m-31-34.bekrn\n",
            "grandstaff_dataset/chopin/preludes/prelude28-24/min3_down_m-5-9.bekrn\n",
            "grandstaff_dataset/chopin/preludes/prelude28-24/min3_down_m-61-65.bekrn\n",
            "grandstaff_dataset/chopin/preludes/prelude28-24/maj3_down_m-26-31.bekrn\n",
            "grandstaff_dataset/chopin/preludes/prelude28-24/maj3_up_m-51-56.bekrn\n",
            "grandstaff_dataset/chopin/preludes/prelude28-24/min3_down_m-9-13.bekrn\n",
            "grandstaff_dataset/chopin/preludes/prelude28-24/min3_up_m-61-64.bekrn\n",
            "grandstaff_dataset/chopin/preludes/prelude28-24/maj2_up_m-19-22.bekrn\n",
            "grandstaff_dataset/chopin/preludes/prelude28-24/maj2_down_m-46-51.bekrn\n",
            "grandstaff_dataset/chopin/preludes/prelude28-24/min3_down_m-57-61.bekrn\n",
            "grandstaff_dataset/chopin/preludes/prelude28-24/maj2_up_m-37-40.bekrn\n",
            "grandstaff_dataset/chopin/preludes/prelude28-24/min3_up_m-55-58.bekrn\n",
            "grandstaff_dataset/chopin/preludes/prelude28-24/maj2_up_m-7-10.bekrn\n",
            "grandstaff_dataset/chopin/preludes/prelude28-24/maj2_down_m-56-61.bekrn\n",
            "grandstaff_dataset/chopin/preludes/prelude28-18/maj2_up_m-20-25.bekrn\n",
            "grandstaff_dataset/chopin/preludes/prelude28-18/maj2_down_m-0-5.bekrn\n",
            "grandstaff_dataset/chopin/preludes/prelude28-18/maj3_up_m-8-12.bekrn\n",
            "grandstaff_dataset/chopin/preludes/prelude28-18/maj2_down_m-5-10.bekrn\n",
            "grandstaff_dataset/chopin/preludes/prelude28-18/min3_down_m-8-12.bekrn\n",
            "grandstaff_dataset/chopin/preludes/prelude28-18/min3_up_m-5-10.bekrn\n",
            "grandstaff_dataset/chopin/preludes/prelude28-18/maj3_up_m-20-24.bekrn\n",
            "grandstaff_dataset/chopin/preludes/prelude28-18/maj2_down_m-20-25.bekrn\n",
            "grandstaff_dataset/chopin/preludes/prelude28-18/min3_up_m-20-25.bekrn\n",
            "grandstaff_dataset/chopin/preludes/prelude28-18/maj3_up_m-12-16.bekrn\n",
            "grandstaff_dataset/chopin/preludes/prelude28-18/original_m-0-5.bekrn\n",
            "grandstaff_dataset/chopin/preludes/prelude28-18/maj3_up_m-0-4.bekrn\n",
            "grandstaff_dataset/chopin/preludes/prelude28-18/maj2_up_m-5-10.bekrn\n",
            "grandstaff_dataset/chopin/preludes/prelude28-18/maj3_down_m-18-21.bekrn\n",
            "grandstaff_dataset/chopin/preludes/prelude28-18/min3_down_m-4-8.bekrn\n",
            "grandstaff_dataset/chopin/preludes/prelude28-18/min3_up_m-0-5.bekrn\n",
            "grandstaff_dataset/chopin/preludes/prelude28-18/maj3_up_m-4-8.bekrn\n",
            "grandstaff_dataset/chopin/preludes/prelude28-18/maj2_up_m-0-5.bekrn\n",
            "grandstaff_dataset/chopin/preludes/prelude28-18/maj3_down_m-12-15.bekrn\n",
            "grandstaff_dataset/chopin/preludes/prelude28-18/min3_down_m-20-24.bekrn\n",
            "grandstaff_dataset/chopin/preludes/prelude28-18/maj3_down_m-6-9.bekrn\n",
            "grandstaff_dataset/chopin/preludes/prelude28-18/maj3_down_m-0-3.bekrn\n",
            "grandstaff_dataset/chopin/preludes/prelude28-18/min3_up_m-10-15.bekrn\n",
            "grandstaff_dataset/chopin/preludes/prelude28-18/maj2_up_m-10-15.bekrn\n",
            "grandstaff_dataset/chopin/preludes/prelude28-18/maj3_down_m-21-24.bekrn\n",
            "grandstaff_dataset/chopin/preludes/prelude28-18/maj3_down_m-9-12.bekrn\n",
            "grandstaff_dataset/chopin/preludes/prelude28-18/min3_down_m-0-4.bekrn\n",
            "grandstaff_dataset/chopin/preludes/prelude28-18/original_m-20-25.bekrn\n",
            "grandstaff_dataset/chopin/preludes/prelude28-18/original_m-10-15.bekrn\n",
            "grandstaff_dataset/chopin/preludes/prelude28-18/maj2_down_m-10-15.bekrn\n",
            "grandstaff_dataset/chopin/preludes/prelude28-18/original_m-5-10.bekrn\n",
            "grandstaff_dataset/chopin/preludes/prelude28-18/min3_down_m-12-16.bekrn\n",
            "grandstaff_dataset/chopin/preludes/prelude28-18/maj3_down_m-3-6.bekrn\n",
            "grandstaff_dataset/chopin/preludes/prelude28-15/maj3_down_m-29-33.bekrn\n",
            "grandstaff_dataset/chopin/preludes/prelude28-15/maj2_down_m-88-91.bekrn\n",
            "grandstaff_dataset/chopin/preludes/prelude28-15/maj3_up_m-45-49.bekrn\n",
            "grandstaff_dataset/chopin/preludes/prelude28-15/min3_up_m-86-91.bekrn\n",
            "grandstaff_dataset/chopin/preludes/prelude28-15/min3_down_m-73-77.bekrn\n",
            "grandstaff_dataset/chopin/preludes/prelude28-15/maj3_down_m-73-77.bekrn\n",
            "grandstaff_dataset/chopin/preludes/prelude28-15/maj2_up_m-73-76.bekrn\n",
            "grandstaff_dataset/chopin/preludes/prelude28-15/maj2_down_m-34-37.bekrn\n",
            "grandstaff_dataset/chopin/preludes/prelude28-15/min3_down_m-29-33.bekrn\n",
            "grandstaff_dataset/chopin/preludes/prelude28-15/maj2_down_m-79-82.bekrn\n",
            "grandstaff_dataset/chopin/preludes/prelude28-15/min3_up_m-46-51.bekrn\n",
            "grandstaff_dataset/chopin/preludes/prelude28-15/maj2_down_m-40-43.bekrn\n",
            "grandstaff_dataset/chopin/preludes/prelude28-15/maj2_up_m-22-25.bekrn\n",
            "grandstaff_dataset/chopin/preludes/prelude28-15/maj3_down_m-1-5.bekrn\n",
            "grandstaff_dataset/chopin/preludes/prelude28-15/original_m-61-65.bekrn\n",
            "grandstaff_dataset/chopin/preludes/prelude28-15/maj2_up_m-10-13.bekrn\n",
            "grandstaff_dataset/chopin/preludes/prelude28-15/maj2_up_m-76-79.bekrn\n",
            "grandstaff_dataset/chopin/preludes/prelude28-15/original_m-1-5.bekrn\n",
            "grandstaff_dataset/chopin/preludes/prelude28-15/original_m-33-37.bekrn\n",
            "grandstaff_dataset/chopin/preludes/prelude28-15/maj3_up_m-69-73.bekrn\n",
            "grandstaff_dataset/chopin/preludes/prelude28-15/maj2_up_m-28-31.bekrn\n",
            "grandstaff_dataset/chopin/preludes/prelude28-15/maj2_down_m-13-16.bekrn\n",
            "grandstaff_dataset/chopin/preludes/prelude28-15/min3_up_m-76-81.bekrn\n",
            "grandstaff_dataset/chopin/preludes/prelude28-15/maj2_down_m-73-76.bekrn\n",
            "grandstaff_dataset/chopin/preludes/prelude28-15/original_m-21-25.bekrn\n",
            "grandstaff_dataset/chopin/preludes/prelude28-15/min3_down_m-17-21.bekrn\n",
            "grandstaff_dataset/chopin/preludes/prelude28-15/maj2_up_m-58-61.bekrn\n",
            "grandstaff_dataset/chopin/preludes/prelude28-15/min3_down_m-1-5.bekrn\n",
            "grandstaff_dataset/chopin/preludes/prelude28-15/maj3_up_m-65-69.bekrn\n",
            "grandstaff_dataset/chopin/preludes/prelude28-15/min3_up_m-26-31.bekrn\n",
            "grandstaff_dataset/chopin/preludes/prelude28-15/maj2_down_m-10-13.bekrn\n",
            "grandstaff_dataset/chopin/preludes/prelude28-15/maj2_down_m-67-70.bekrn\n",
            "grandstaff_dataset/chopin/preludes/prelude28-15/min3_up_m-56-61.bekrn\n",
            "grandstaff_dataset/chopin/preludes/prelude28-15/maj3_down_m-9-13.bekrn\n",
            "grandstaff_dataset/chopin/preludes/prelude28-15/original_m-57-61.bekrn\n",
            "grandstaff_dataset/chopin/preludes/prelude28-15/maj2_down_m-46-49.bekrn\n",
            "grandstaff_dataset/chopin/preludes/prelude28-15/original_m-17-21.bekrn\n",
            "grandstaff_dataset/chopin/preludes/prelude28-15/original_m-29-33.bekrn\n",
            "grandstaff_dataset/chopin/preludes/prelude28-15/original_m-65-69.bekrn\n",
            "grandstaff_dataset/chopin/preludes/prelude28-15/maj3_down_m-17-21.bekrn\n",
            "grandstaff_dataset/chopin/preludes/prelude28-15/maj3_down_m-13-17.bekrn\n",
            "grandstaff_dataset/chopin/preludes/prelude28-15/maj2_up_m-88-91.bekrn\n",
            "grandstaff_dataset/chopin/preludes/prelude28-15/min3_down_m-41-45.bekrn\n",
            "grandstaff_dataset/chopin/preludes/prelude28-15/maj2_down_m-61-64.bekrn\n",
            "grandstaff_dataset/chopin/preludes/prelude28-15/maj3_up_m-57-61.bekrn\n",
            "grandstaff_dataset/chopin/preludes/prelude28-15/maj3_down_m-61-65.bekrn\n",
            "grandstaff_dataset/chopin/preludes/prelude28-15/maj3_down_m-57-61.bekrn\n",
            "grandstaff_dataset/chopin/preludes/prelude28-15/maj2_up_m-40-43.bekrn\n",
            "grandstaff_dataset/chopin/preludes/prelude28-15/original_m-81-85.bekrn\n",
            "grandstaff_dataset/chopin/preludes/prelude28-15/maj3_up_m-29-33.bekrn\n",
            "grandstaff_dataset/chopin/preludes/prelude28-15/maj3_up_m-81-85.bekrn\n",
            "grandstaff_dataset/chopin/preludes/prelude28-15/maj3_down_m-41-45.bekrn\n",
            "grandstaff_dataset/chopin/preludes/prelude28-15/maj3_down_m-33-37.bekrn\n",
            "grandstaff_dataset/chopin/preludes/prelude28-15/maj3_up_m-89-93.bekrn\n",
            "grandstaff_dataset/chopin/preludes/prelude28-15/maj3_down_m-45-49.bekrn\n",
            "grandstaff_dataset/chopin/preludes/prelude28-15/maj3_down_m-21-25.bekrn\n",
            "grandstaff_dataset/chopin/preludes/prelude28-15/min3_down_m-33-37.bekrn\n",
            "grandstaff_dataset/chopin/preludes/prelude28-15/maj2_down_m-49-52.bekrn\n",
            "grandstaff_dataset/chopin/preludes/prelude28-15/min3_down_m-85-89.bekrn\n",
            "grandstaff_dataset/chopin/preludes/prelude28-15/maj3_up_m-9-13.bekrn\n",
            "grandstaff_dataset/chopin/preludes/prelude28-15/min3_up_m-31-36.bekrn\n",
            "grandstaff_dataset/chopin/preludes/prelude28-15/maj2_down_m-25-28.bekrn\n",
            "grandstaff_dataset/chopin/preludes/prelude28-15/maj2_down_m-55-58.bekrn\n",
            "grandstaff_dataset/chopin/preludes/prelude28-15/maj3_up_m-21-25.bekrn\n",
            "grandstaff_dataset/chopin/preludes/prelude28-15/maj2_up_m-49-52.bekrn\n",
            "grandstaff_dataset/chopin/preludes/prelude28-15/maj3_down_m-77-81.bekrn\n",
            "grandstaff_dataset/chopin/preludes/prelude28-15/maj2_down_m-19-22.bekrn\n",
            "grandstaff_dataset/chopin/preludes/prelude28-15/original_m-25-29.bekrn\n",
            "grandstaff_dataset/chopin/preludes/prelude28-15/maj3_up_m-17-21.bekrn\n",
            "grandstaff_dataset/chopin/preludes/prelude28-15/min3_up_m-11-16.bekrn\n",
            "grandstaff_dataset/chopin/preludes/prelude28-15/maj2_up_m-34-37.bekrn\n",
            "grandstaff_dataset/chopin/preludes/prelude28-15/min3_up_m-16-21.bekrn\n",
            "grandstaff_dataset/chopin/preludes/prelude28-15/original_m-13-17.bekrn\n",
            "grandstaff_dataset/chopin/preludes/prelude28-15/original_m-77-81.bekrn\n",
            "grandstaff_dataset/chopin/preludes/prelude28-15/maj2_up_m-79-82.bekrn\n",
            "grandstaff_dataset/chopin/preludes/prelude28-15/maj3_up_m-77-81.bekrn\n",
            "grandstaff_dataset/chopin/preludes/prelude28-15/maj2_up_m-43-46.bekrn\n",
            "grandstaff_dataset/chopin/preludes/prelude28-15/maj3_up_m-33-37.bekrn\n",
            "grandstaff_dataset/chopin/preludes/prelude28-15/maj2_up_m-46-49.bekrn\n",
            "grandstaff_dataset/chopin/preludes/prelude28-15/maj2_up_m-1-4.bekrn\n",
            "grandstaff_dataset/chopin/preludes/prelude28-15/maj3_down_m-49-53.bekrn\n",
            "grandstaff_dataset/chopin/preludes/prelude28-15/maj2_down_m-85-88.bekrn\n",
            "grandstaff_dataset/chopin/preludes/prelude28-15/maj3_up_m-85-89.bekrn\n",
            "grandstaff_dataset/chopin/preludes/prelude28-15/min3_up_m-66-71.bekrn\n",
            "grandstaff_dataset/chopin/preludes/prelude28-15/maj2_down_m-43-46.bekrn\n",
            "grandstaff_dataset/chopin/preludes/prelude28-15/maj2_up_m-61-64.bekrn\n",
            "grandstaff_dataset/chopin/preludes/prelude28-15/maj2_down_m-4-7.bekrn\n",
            "grandstaff_dataset/chopin/preludes/prelude28-15/original_m-69-73.bekrn\n",
            "grandstaff_dataset/chopin/preludes/prelude28-15/maj2_down_m-16-19.bekrn\n",
            "grandstaff_dataset/chopin/preludes/prelude28-15/maj3_down_m-85-89.bekrn\n",
            "grandstaff_dataset/chopin/preludes/prelude28-15/maj2_up_m-55-58.bekrn\n",
            "grandstaff_dataset/chopin/preludes/prelude28-15/maj2_up_m-4-7.bekrn\n",
            "grandstaff_dataset/chopin/preludes/prelude28-15/min3_down_m-21-25.bekrn\n",
            "grandstaff_dataset/chopin/preludes/prelude28-15/original_m-85-89.bekrn\n",
            "grandstaff_dataset/chopin/preludes/prelude28-15/maj3_up_m-73-77.bekrn\n",
            "grandstaff_dataset/chopin/preludes/prelude28-15/maj2_down_m-28-31.bekrn\n",
            "grandstaff_dataset/chopin/preludes/prelude28-15/maj2_up_m-67-70.bekrn\n",
            "grandstaff_dataset/chopin/preludes/prelude28-15/maj3_down_m-65-69.bekrn\n",
            "grandstaff_dataset/chopin/preludes/prelude28-15/min3_up_m-21-26.bekrn\n",
            "grandstaff_dataset/chopin/preludes/prelude28-15/maj3_down_m-5-9.bekrn\n",
            "grandstaff_dataset/chopin/preludes/prelude28-15/maj3_up_m-5-9.bekrn\n",
            "grandstaff_dataset/chopin/preludes/prelude28-15/min3_up_m-61-66.bekrn\n",
            "grandstaff_dataset/chopin/preludes/prelude28-15/min3_down_m-45-49.bekrn\n",
            "grandstaff_dataset/chopin/preludes/prelude28-15/min3_down_m-81-85.bekrn\n",
            "grandstaff_dataset/chopin/preludes/prelude28-15/min3_up_m-81-86.bekrn\n",
            "grandstaff_dataset/chopin/preludes/prelude28-15/maj3_down_m-81-85.bekrn\n",
            "grandstaff_dataset/chopin/preludes/prelude28-15/maj2_up_m-70-73.bekrn\n",
            "grandstaff_dataset/chopin/preludes/prelude28-15/maj3_down_m-89-93.bekrn\n",
            "grandstaff_dataset/chopin/preludes/prelude28-15/maj3_down_m-25-29.bekrn\n",
            "grandstaff_dataset/chopin/preludes/prelude28-15/maj3_up_m-49-53.bekrn\n",
            "grandstaff_dataset/chopin/preludes/prelude28-15/original_m-9-13.bekrn\n",
            "grandstaff_dataset/chopin/preludes/prelude28-15/min3_down_m-25-29.bekrn\n",
            "grandstaff_dataset/chopin/preludes/prelude28-15/original_m-89-93.bekrn\n",
            "grandstaff_dataset/chopin/preludes/prelude28-15/maj2_down_m-64-67.bekrn\n",
            "grandstaff_dataset/chopin/preludes/prelude28-15/maj3_down_m-69-73.bekrn\n",
            "grandstaff_dataset/chopin/preludes/prelude28-15/min3_down_m-77-81.bekrn\n",
            "grandstaff_dataset/chopin/preludes/prelude28-15/maj2_up_m-13-16.bekrn\n",
            "grandstaff_dataset/chopin/preludes/prelude28-15/maj2_down_m-76-79.bekrn\n",
            "grandstaff_dataset/chopin/preludes/prelude28-15/maj2_down_m-7-10.bekrn\n",
            "grandstaff_dataset/chopin/preludes/prelude28-15/maj2_up_m-64-67.bekrn\n",
            "grandstaff_dataset/chopin/preludes/prelude28-15/maj2_up_m-25-28.bekrn\n",
            "grandstaff_dataset/chopin/preludes/prelude28-15/maj2_up_m-31-34.bekrn\n",
            "grandstaff_dataset/chopin/preludes/prelude28-15/min3_up_m-1-6.bekrn\n",
            "grandstaff_dataset/chopin/preludes/prelude28-15/original_m-45-49.bekrn\n",
            "grandstaff_dataset/chopin/preludes/prelude28-15/min3_down_m-13-17.bekrn\n",
            "grandstaff_dataset/chopin/preludes/prelude28-15/min3_up_m-71-76.bekrn\n",
            "grandstaff_dataset/chopin/preludes/prelude28-15/min3_down_m-49-53.bekrn\n",
            "grandstaff_dataset/chopin/preludes/prelude28-15/min3_down_m-5-9.bekrn\n",
            "grandstaff_dataset/chopin/preludes/prelude28-15/min3_down_m-61-65.bekrn\n",
            "grandstaff_dataset/chopin/preludes/prelude28-15/maj2_up_m-85-88.bekrn\n",
            "grandstaff_dataset/chopin/preludes/prelude28-15/maj3_up_m-41-45.bekrn\n",
            "grandstaff_dataset/chopin/preludes/prelude28-15/min3_up_m-6-11.bekrn\n",
            "grandstaff_dataset/chopin/preludes/prelude28-15/original_m-41-45.bekrn\n",
            "grandstaff_dataset/chopin/preludes/prelude28-15/original_m-49-53.bekrn\n",
            "grandstaff_dataset/chopin/preludes/prelude28-15/min3_down_m-65-69.bekrn\n",
            "grandstaff_dataset/chopin/preludes/prelude28-15/maj3_up_m-61-65.bekrn\n",
            "grandstaff_dataset/chopin/preludes/prelude28-15/min3_up_m-41-46.bekrn\n",
            "grandstaff_dataset/chopin/preludes/prelude28-15/min3_down_m-69-73.bekrn\n",
            "grandstaff_dataset/chopin/preludes/prelude28-15/min3_down_m-9-13.bekrn\n",
            "grandstaff_dataset/chopin/preludes/prelude28-15/maj2_down_m-1-4.bekrn\n",
            "grandstaff_dataset/chopin/preludes/prelude28-15/maj2_up_m-19-22.bekrn\n",
            "grandstaff_dataset/chopin/preludes/prelude28-15/maj2_up_m-16-19.bekrn\n",
            "grandstaff_dataset/chopin/preludes/prelude28-15/maj2_down_m-31-34.bekrn\n",
            "grandstaff_dataset/chopin/preludes/prelude28-15/original_m-73-77.bekrn\n",
            "grandstaff_dataset/chopin/preludes/prelude28-15/maj3_up_m-13-17.bekrn\n",
            "grandstaff_dataset/chopin/preludes/prelude28-15/min3_down_m-57-61.bekrn\n",
            "grandstaff_dataset/chopin/preludes/prelude28-15/maj2_down_m-70-73.bekrn\n",
            "grandstaff_dataset/chopin/preludes/prelude28-15/original_m-5-9.bekrn\n",
            "grandstaff_dataset/chopin/preludes/prelude28-15/maj2_down_m-58-61.bekrn\n",
            "grandstaff_dataset/chopin/preludes/prelude28-15/maj3_up_m-25-29.bekrn\n",
            "grandstaff_dataset/chopin/preludes/prelude28-15/maj2_up_m-7-10.bekrn\n",
            "grandstaff_dataset/chopin/preludes/prelude28-15/maj2_down_m-22-25.bekrn\n",
            "grandstaff_dataset/chopin/preludes/prelude28-15/min3_down_m-89-93.bekrn\n",
            "grandstaff_dataset/chopin/preludes/prelude28-15/maj3_up_m-1-5.bekrn\n",
            "grandstaff_dataset/chopin/preludes/prelude28-02/maj3_up_m-0-4.bekrn\n",
            "grandstaff_dataset/chopin/preludes/prelude28-02/maj2_down_m-0-3.bekrn\n",
            "grandstaff_dataset/chopin/preludes/prelude28-02/maj2_up_m-0-4.bekrn\n",
            "grandstaff_dataset/chopin/preludes/prelude28-02/maj2_down_m-6-9.bekrn\n",
            "grandstaff_dataset/chopin/preludes/prelude28-02/min3_up_m-0-4.bekrn\n",
            "grandstaff_dataset/chopin/preludes/prelude28-02/min3_down_m-0-4.bekrn\n",
            "grandstaff_dataset/chopin/preludes/prelude28-03/maj2_up_m-20-25.bekrn\n",
            "grandstaff_dataset/chopin/preludes/prelude28-03/maj2_down_m-0-5.bekrn\n",
            "grandstaff_dataset/chopin/preludes/prelude28-03/maj2_down_m-5-10.bekrn\n",
            "grandstaff_dataset/chopin/preludes/prelude28-03/maj3_up_m-27-30.bekrn\n",
            "grandstaff_dataset/chopin/preludes/prelude28-03/maj2_down_m-20-25.bekrn\n",
            "grandstaff_dataset/chopin/preludes/prelude28-03/min3_down_m-20-25.bekrn\n",
            "grandstaff_dataset/chopin/preludes/prelude28-03/maj3_up_m-18-21.bekrn\n",
            "grandstaff_dataset/chopin/preludes/prelude28-03/maj3_down_m-24-27.bekrn\n",
            "grandstaff_dataset/chopin/preludes/prelude28-03/original_m-0-5.bekrn\n",
            "grandstaff_dataset/chopin/preludes/prelude28-03/maj3_up_m-24-27.bekrn\n",
            "grandstaff_dataset/chopin/preludes/prelude28-03/maj2_up_m-25-30.bekrn\n",
            "grandstaff_dataset/chopin/preludes/prelude28-03/maj3_up_m-0-3.bekrn\n",
            "grandstaff_dataset/chopin/preludes/prelude28-03/maj3_up_m-6-9.bekrn\n",
            "grandstaff_dataset/chopin/preludes/prelude28-03/maj2_up_m-5-10.bekrn\n",
            "grandstaff_dataset/chopin/preludes/prelude28-03/min3_up_m-8-12.bekrn\n",
            "grandstaff_dataset/chopin/preludes/prelude28-03/maj3_down_m-18-21.bekrn\n",
            "grandstaff_dataset/chopin/preludes/prelude28-03/maj3_up_m-9-12.bekrn\n",
            "grandstaff_dataset/chopin/preludes/prelude28-03/maj2_down_m-30-35.bekrn\n",
            "grandstaff_dataset/chopin/preludes/prelude28-03/maj2_up_m-0-5.bekrn\n",
            "grandstaff_dataset/chopin/preludes/prelude28-03/maj3_up_m-21-24.bekrn\n",
            "grandstaff_dataset/chopin/preludes/prelude28-03/min3_up_m-24-28.bekrn\n",
            "grandstaff_dataset/chopin/preludes/prelude28-03/min3_down_m-5-10.bekrn\n",
            "grandstaff_dataset/chopin/preludes/prelude28-03/maj3_down_m-30-33.bekrn\n",
            "grandstaff_dataset/chopin/preludes/prelude28-03/maj3_down_m-12-15.bekrn\n",
            "grandstaff_dataset/chopin/preludes/prelude28-03/maj3_down_m-6-9.bekrn\n",
            "grandstaff_dataset/chopin/preludes/prelude28-03/original_m-30-35.bekrn\n",
            "grandstaff_dataset/chopin/preludes/prelude28-03/maj3_down_m-0-3.bekrn\n",
            "grandstaff_dataset/chopin/preludes/prelude28-03/min3_up_m-20-24.bekrn\n",
            "grandstaff_dataset/chopin/preludes/prelude28-03/min3_up_m-12-16.bekrn\n",
            "grandstaff_dataset/chopin/preludes/prelude28-03/maj3_down_m-33-36.bekrn\n",
            "grandstaff_dataset/chopin/preludes/prelude28-03/min3_up_m-4-8.bekrn\n",
            "grandstaff_dataset/chopin/preludes/prelude28-03/original_m-25-30.bekrn\n",
            "grandstaff_dataset/chopin/preludes/prelude28-03/min3_down_m-25-30.bekrn\n",
            "grandstaff_dataset/chopin/preludes/prelude28-03/maj3_up_m-12-15.bekrn\n",
            "grandstaff_dataset/chopin/preludes/prelude28-03/maj2_up_m-10-15.bekrn\n",
            "grandstaff_dataset/chopin/preludes/prelude28-03/maj3_down_m-27-30.bekrn\n",
            "grandstaff_dataset/chopin/preludes/prelude28-03/maj3_up_m-3-6.bekrn\n",
            "grandstaff_dataset/chopin/preludes/prelude28-03/min3_up_m-32-36.bekrn\n",
            "grandstaff_dataset/chopin/preludes/prelude28-03/maj3_down_m-21-24.bekrn\n",
            "grandstaff_dataset/chopin/preludes/prelude28-03/maj2_down_m-25-30.bekrn\n",
            "grandstaff_dataset/chopin/preludes/prelude28-03/maj3_up_m-33-36.bekrn\n",
            "grandstaff_dataset/chopin/preludes/prelude28-03/min3_up_m-0-4.bekrn\n",
            "grandstaff_dataset/chopin/preludes/prelude28-03/maj3_down_m-9-12.bekrn\n",
            "grandstaff_dataset/chopin/preludes/prelude28-03/min3_down_m-0-5.bekrn\n",
            "grandstaff_dataset/chopin/preludes/prelude28-03/min3_up_m-28-32.bekrn\n",
            "grandstaff_dataset/chopin/preludes/prelude28-03/maj2_up_m-30-35.bekrn\n",
            "grandstaff_dataset/chopin/preludes/prelude28-03/original_m-20-25.bekrn\n",
            "grandstaff_dataset/chopin/preludes/prelude28-03/maj3_up_m-30-33.bekrn\n",
            "grandstaff_dataset/chopin/preludes/prelude28-03/original_m-10-15.bekrn\n",
            "grandstaff_dataset/chopin/preludes/prelude28-03/maj2_down_m-10-15.bekrn\n",
            "grandstaff_dataset/chopin/preludes/prelude28-03/original_m-5-10.bekrn\n",
            "grandstaff_dataset/chopin/preludes/prelude28-03/min3_down_m-30-35.bekrn\n",
            "grandstaff_dataset/chopin/preludes/prelude28-03/maj3_down_m-3-6.bekrn\n",
            "grandstaff_dataset/chopin/preludes/prelude28-03/min3_down_m-10-15.bekrn\n",
            "grandstaff_dataset/chopin/preludes/prelude28-19/min3_down_m-70-75.bekrn\n",
            "grandstaff_dataset/chopin/preludes/prelude28-19/min3_up_m-51-54.bekrn\n",
            "grandstaff_dataset/chopin/preludes/prelude28-19/maj3_down_m-0-4.bekrn\n",
            "grandstaff_dataset/chopin/preludes/prelude28-19/min3_up_m-3-6.bekrn\n",
            "grandstaff_dataset/chopin/preludes/prelude28-19/maj2_up_m-3-6.bekrn\n",
            "grandstaff_dataset/chopin/preludes/prelude28-19/maj3_down_m-28-32.bekrn\n",
            "grandstaff_dataset/chopin/preludes/prelude28-19/min3_up_m-9-12.bekrn\n",
            "grandstaff_dataset/chopin/preludes/prelude28-19/maj2_up_m-9-12.bekrn\n",
            "grandstaff_dataset/chopin/preludes/prelude28-19/maj2_down_m-57-60.bekrn\n",
            "grandstaff_dataset/chopin/preludes/prelude28-19/maj2_down_m-24-27.bekrn\n",
            "grandstaff_dataset/chopin/preludes/prelude28-19/maj3_up_m-70-75.bekrn\n",
            "grandstaff_dataset/chopin/preludes/prelude28-19/maj2_down_m-39-42.bekrn\n",
            "grandstaff_dataset/chopin/preludes/prelude28-19/min3_up_m-69-72.bekrn\n",
            "grandstaff_dataset/chopin/preludes/prelude28-19/original_m-60-65.bekrn\n",
            "grandstaff_dataset/chopin/preludes/prelude28-19/maj2_down_m-21-24.bekrn\n",
            "grandstaff_dataset/chopin/preludes/prelude28-19/maj3_down_m-68-72.bekrn\n",
            "grandstaff_dataset/chopin/preludes/prelude28-19/min3_down_m-20-25.bekrn\n",
            "grandstaff_dataset/chopin/preludes/prelude28-19/min3_down_m-60-65.bekrn\n",
            "grandstaff_dataset/chopin/preludes/prelude28-19/min3_up_m-24-27.bekrn\n",
            "grandstaff_dataset/chopin/preludes/prelude28-19/maj3_up_m-10-15.bekrn\n",
            "grandstaff_dataset/chopin/preludes/prelude28-19/maj3_up_m-55-60.bekrn\n",
            "grandstaff_dataset/chopin/preludes/prelude28-19/original_m-0-5.bekrn\n",
            "grandstaff_dataset/chopin/preludes/prelude28-19/maj3_down_m-32-36.bekrn\n",
            "grandstaff_dataset/chopin/preludes/prelude28-19/maj3_up_m-30-35.bekrn\n",
            "grandstaff_dataset/chopin/preludes/prelude28-19/maj2_down_m-54-57.bekrn\n",
            "grandstaff_dataset/chopin/preludes/prelude28-19/min3_up_m-18-21.bekrn\n",
            "grandstaff_dataset/chopin/preludes/prelude28-19/maj3_down_m-20-24.bekrn\n",
            "grandstaff_dataset/chopin/preludes/prelude28-19/maj2_up_m-51-54.bekrn\n",
            "grandstaff_dataset/chopin/preludes/prelude28-19/maj3_down_m-36-40.bekrn\n",
            "grandstaff_dataset/chopin/preludes/prelude28-19/maj2_down_m-48-51.bekrn\n",
            "grandstaff_dataset/chopin/preludes/prelude28-19/maj2_down_m-69-72.bekrn\n",
            "grandstaff_dataset/chopin/preludes/prelude28-19/maj3_up_m-5-10.bekrn\n",
            "grandstaff_dataset/chopin/preludes/prelude28-19/maj3_down_m-40-44.bekrn\n",
            "grandstaff_dataset/chopin/preludes/prelude28-19/min3_up_m-63-66.bekrn\n",
            "grandstaff_dataset/chopin/preludes/prelude28-19/maj3_up_m-0-5.bekrn\n",
            "grandstaff_dataset/chopin/preludes/prelude28-19/min3_down_m-35-40.bekrn\n",
            "grandstaff_dataset/chopin/preludes/prelude28-19/maj2_down_m-51-54.bekrn\n",
            "grandstaff_dataset/chopin/preludes/prelude28-19/maj2_up_m-27-30.bekrn\n",
            "grandstaff_dataset/chopin/preludes/prelude28-19/maj3_up_m-25-30.bekrn\n",
            "grandstaff_dataset/chopin/preludes/prelude28-19/maj2_up_m-36-39.bekrn\n",
            "grandstaff_dataset/chopin/preludes/prelude28-19/maj2_down_m-0-3.bekrn\n",
            "grandstaff_dataset/chopin/preludes/prelude28-19/min3_up_m-36-39.bekrn\n",
            "grandstaff_dataset/chopin/preludes/prelude28-19/original_m-15-20.bekrn\n",
            "grandstaff_dataset/chopin/preludes/prelude28-19/maj2_up_m-48-51.bekrn\n",
            "grandstaff_dataset/chopin/preludes/prelude28-19/maj3_up_m-50-55.bekrn\n",
            "grandstaff_dataset/chopin/preludes/prelude28-19/min3_down_m-55-60.bekrn\n",
            "grandstaff_dataset/chopin/preludes/prelude28-19/maj2_down_m-42-45.bekrn\n",
            "grandstaff_dataset/chopin/preludes/prelude28-19/maj2_down_m-30-33.bekrn\n",
            "grandstaff_dataset/chopin/preludes/prelude28-19/min3_up_m-54-57.bekrn\n",
            "grandstaff_dataset/chopin/preludes/prelude28-19/min3_up_m-27-30.bekrn\n",
            "grandstaff_dataset/chopin/preludes/prelude28-19/maj3_up_m-20-25.bekrn\n",
            "grandstaff_dataset/chopin/preludes/prelude28-19/min3_down_m-5-10.bekrn\n",
            "grandstaff_dataset/chopin/preludes/prelude28-19/min3_up_m-21-24.bekrn\n",
            "grandstaff_dataset/chopin/preludes/prelude28-19/maj3_down_m-60-64.bekrn\n",
            "grandstaff_dataset/chopin/preludes/prelude28-19/min3_up_m-42-45.bekrn\n",
            "grandstaff_dataset/chopin/preludes/prelude28-19/min3_up_m-39-42.bekrn\n",
            "grandstaff_dataset/chopin/preludes/prelude28-19/maj2_up_m-33-36.bekrn\n",
            "grandstaff_dataset/chopin/preludes/prelude28-19/min3_up_m-45-48.bekrn\n",
            "grandstaff_dataset/chopin/preludes/prelude28-19/maj2_down_m-60-63.bekrn\n",
            "grandstaff_dataset/chopin/preludes/prelude28-19/maj2_up_m-6-9.bekrn\n",
            "grandstaff_dataset/chopin/preludes/prelude28-19/min3_up_m-33-36.bekrn\n",
            "grandstaff_dataset/chopin/preludes/prelude28-19/original_m-30-35.bekrn\n",
            "grandstaff_dataset/chopin/preludes/prelude28-19/maj3_down_m-12-16.bekrn\n",
            "grandstaff_dataset/chopin/preludes/prelude28-19/maj2_down_m-36-39.bekrn\n",
            "grandstaff_dataset/chopin/preludes/prelude28-19/original_m-40-45.bekrn\n",
            "grandstaff_dataset/chopin/preludes/prelude28-19/maj3_down_m-56-60.bekrn\n",
            "grandstaff_dataset/chopin/preludes/prelude28-19/maj3_down_m-8-12.bekrn\n",
            "grandstaff_dataset/chopin/preludes/prelude28-19/maj2_up_m-45-48.bekrn\n",
            "grandstaff_dataset/chopin/preludes/prelude28-19/min3_up_m-15-18.bekrn\n",
            "grandstaff_dataset/chopin/preludes/prelude28-19/maj2_up_m-12-15.bekrn\n",
            "grandstaff_dataset/chopin/preludes/prelude28-19/maj3_up_m-15-20.bekrn\n",
            "grandstaff_dataset/chopin/preludes/prelude28-19/original_m-65-70.bekrn\n",
            "grandstaff_dataset/chopin/preludes/prelude28-19/min3_up_m-60-63.bekrn\n",
            "grandstaff_dataset/chopin/preludes/prelude28-19/min3_up_m-6-9.bekrn\n",
            "grandstaff_dataset/chopin/preludes/prelude28-19/maj2_up_m-42-45.bekrn\n",
            "grandstaff_dataset/chopin/preludes/prelude28-19/maj2_down_m-18-21.bekrn\n",
            "grandstaff_dataset/chopin/preludes/prelude28-19/original_m-45-50.bekrn\n",
            "grandstaff_dataset/chopin/preludes/prelude28-19/maj2_down_m-66-69.bekrn\n",
            "grandstaff_dataset/chopin/preludes/prelude28-19/maj3_down_m-24-28.bekrn\n",
            "grandstaff_dataset/chopin/preludes/prelude28-19/maj3_up_m-40-45.bekrn\n",
            "grandstaff_dataset/chopin/preludes/prelude28-19/min3_up_m-0-3.bekrn\n",
            "grandstaff_dataset/chopin/preludes/prelude28-19/maj2_up_m-0-3.bekrn\n",
            "grandstaff_dataset/chopin/preludes/prelude28-19/maj3_down_m-48-52.bekrn\n",
            "grandstaff_dataset/chopin/preludes/prelude28-19/maj2_down_m-12-15.bekrn\n",
            "grandstaff_dataset/chopin/preludes/prelude28-19/original_m-25-30.bekrn\n",
            "grandstaff_dataset/chopin/preludes/prelude28-19/maj2_down_m-3-6.bekrn\n",
            "grandstaff_dataset/chopin/preludes/prelude28-19/maj3_up_m-45-50.bekrn\n",
            "grandstaff_dataset/chopin/preludes/prelude28-19/min3_down_m-25-30.bekrn\n",
            "grandstaff_dataset/chopin/preludes/prelude28-19/maj2_up_m-39-42.bekrn\n",
            "grandstaff_dataset/chopin/preludes/prelude28-19/min3_down_m-40-45.bekrn\n",
            "grandstaff_dataset/chopin/preludes/prelude28-19/maj2_down_m-6-9.bekrn\n",
            "grandstaff_dataset/chopin/preludes/prelude28-19/min3_up_m-48-51.bekrn\n",
            "grandstaff_dataset/chopin/preludes/prelude28-19/min3_down_m-45-50.bekrn\n",
            "grandstaff_dataset/chopin/preludes/prelude28-19/maj2_up_m-66-69.bekrn\n",
            "grandstaff_dataset/chopin/preludes/prelude28-19/maj2_up_m-21-24.bekrn\n",
            "grandstaff_dataset/chopin/preludes/prelude28-19/min3_up_m-12-15.bekrn\n",
            "grandstaff_dataset/chopin/preludes/prelude28-19/original_m-70-75.bekrn\n",
            "grandstaff_dataset/chopin/preludes/prelude28-19/maj2_up_m-15-18.bekrn\n",
            "grandstaff_dataset/chopin/preludes/prelude28-19/min3_up_m-30-33.bekrn\n",
            "grandstaff_dataset/chopin/preludes/prelude28-19/maj2_down_m-9-12.bekrn\n",
            "grandstaff_dataset/chopin/preludes/prelude28-19/maj2_up_m-63-66.bekrn\n",
            "grandstaff_dataset/chopin/preludes/prelude28-19/maj2_up_m-60-63.bekrn\n",
            "grandstaff_dataset/chopin/preludes/prelude28-19/maj3_down_m-44-48.bekrn\n",
            "grandstaff_dataset/chopin/preludes/prelude28-19/maj3_up_m-65-70.bekrn\n",
            "grandstaff_dataset/chopin/preludes/prelude28-19/min3_up_m-66-69.bekrn\n",
            "grandstaff_dataset/chopin/preludes/prelude28-19/maj3_down_m-4-8.bekrn\n",
            "grandstaff_dataset/chopin/preludes/prelude28-19/min3_down_m-15-20.bekrn\n",
            "grandstaff_dataset/chopin/preludes/prelude28-19/maj2_down_m-15-18.bekrn\n",
            "grandstaff_dataset/chopin/preludes/prelude28-19/min3_down_m-65-70.bekrn\n",
            "grandstaff_dataset/chopin/preludes/prelude28-19/maj2_up_m-69-72.bekrn\n",
            "grandstaff_dataset/chopin/preludes/prelude28-19/min3_up_m-57-60.bekrn\n",
            "grandstaff_dataset/chopin/preludes/prelude28-19/original_m-50-55.bekrn\n",
            "grandstaff_dataset/chopin/preludes/prelude28-19/maj2_up_m-18-21.bekrn\n",
            "grandstaff_dataset/chopin/preludes/prelude28-19/maj2_up_m-54-57.bekrn\n",
            "grandstaff_dataset/chopin/preludes/prelude28-19/min3_down_m-0-5.bekrn\n",
            "grandstaff_dataset/chopin/preludes/prelude28-19/maj3_down_m-16-20.bekrn\n",
            "grandstaff_dataset/chopin/preludes/prelude28-19/maj2_down_m-63-66.bekrn\n",
            "grandstaff_dataset/chopin/preludes/prelude28-19/maj2_down_m-45-48.bekrn\n",
            "grandstaff_dataset/chopin/preludes/prelude28-19/original_m-20-25.bekrn\n",
            "grandstaff_dataset/chopin/preludes/prelude28-19/maj2_down_m-27-30.bekrn\n",
            "grandstaff_dataset/chopin/preludes/prelude28-19/maj3_down_m-52-56.bekrn\n",
            "grandstaff_dataset/chopin/preludes/prelude28-19/original_m-10-15.bekrn\n",
            "grandstaff_dataset/chopin/preludes/prelude28-19/maj2_down_m-33-36.bekrn\n",
            "grandstaff_dataset/chopin/preludes/prelude28-19/maj2_up_m-24-27.bekrn\n",
            "grandstaff_dataset/chopin/preludes/prelude28-19/original_m-55-60.bekrn\n",
            "grandstaff_dataset/chopin/preludes/prelude28-19/original_m-5-10.bekrn\n",
            "grandstaff_dataset/chopin/preludes/prelude28-19/min3_down_m-50-55.bekrn\n",
            "grandstaff_dataset/chopin/preludes/prelude28-19/maj3_down_m-64-68.bekrn\n",
            "grandstaff_dataset/chopin/preludes/prelude28-19/original_m-35-40.bekrn\n",
            "grandstaff_dataset/chopin/preludes/prelude28-19/maj2_up_m-30-33.bekrn\n",
            "grandstaff_dataset/chopin/preludes/prelude28-19/maj3_up_m-60-65.bekrn\n",
            "grandstaff_dataset/chopin/preludes/prelude28-19/maj3_up_m-35-40.bekrn\n",
            "grandstaff_dataset/chopin/preludes/prelude28-19/min3_down_m-30-35.bekrn\n",
            "grandstaff_dataset/chopin/preludes/prelude28-19/maj2_up_m-57-60.bekrn\n",
            "grandstaff_dataset/chopin/preludes/prelude28-19/min3_down_m-10-15.bekrn\n",
            "grandstaff_dataset/chopin/preludes/prelude28-10/maj2_up_m-3-6.bekrn\n",
            "grandstaff_dataset/chopin/preludes/prelude28-10/min3_up_m-5-10.bekrn\n",
            "grandstaff_dataset/chopin/preludes/prelude28-10/maj3_up_m-0-4.bekrn\n",
            "grandstaff_dataset/chopin/preludes/prelude28-10/maj3_down_m-18-21.bekrn\n",
            "grandstaff_dataset/chopin/preludes/prelude28-10/min3_up_m-0-5.bekrn\n",
            "grandstaff_dataset/chopin/preludes/prelude28-10/maj2_down_m-0-4.bekrn\n",
            "grandstaff_dataset/chopin/preludes/prelude28-10/original_m-18-21.bekrn\n",
            "grandstaff_dataset/chopin/preludes/prelude28-10/maj2_down_m-16-20.bekrn\n",
            "grandstaff_dataset/chopin/preludes/prelude28-10/maj3_down_m-6-9.bekrn\n",
            "grandstaff_dataset/chopin/preludes/prelude28-10/maj2_up_m-6-9.bekrn\n",
            "grandstaff_dataset/chopin/preludes/prelude28-10/maj3_down_m-0-3.bekrn\n",
            "grandstaff_dataset/chopin/preludes/prelude28-10/min3_down_m-16-20.bekrn\n",
            "grandstaff_dataset/chopin/preludes/prelude28-10/original_m-15-18.bekrn\n",
            "grandstaff_dataset/chopin/preludes/prelude28-10/maj2_up_m-0-3.bekrn\n",
            "grandstaff_dataset/chopin/preludes/prelude28-10/original_m-3-6.bekrn\n",
            "grandstaff_dataset/chopin/preludes/prelude28-10/maj2_up_m-15-18.bekrn\n",
            "grandstaff_dataset/chopin/preludes/prelude28-10/original_m-6-9.bekrn\n",
            "grandstaff_dataset/chopin/preludes/prelude28-10/min3_down_m-0-4.bekrn\n",
            "grandstaff_dataset/chopin/preludes/prelude28-10/maj2_up_m-18-21.bekrn\n",
            "grandstaff_dataset/chopin/preludes/prelude28-10/maj3_up_m-16-20.bekrn\n",
            "grandstaff_dataset/chopin/preludes/prelude28-10/original_m-0-3.bekrn\n",
            "grandstaff_dataset/chopin/preludes/prelude28-10/min3_up_m-15-20.bekrn\n",
            "grandstaff_dataset/chopin/preludes/prelude28-10/maj3_down_m-15-18.bekrn\n",
            "grandstaff_dataset/chopin/preludes/prelude28-10/maj3_down_m-3-6.bekrn\n",
            "grandstaff_dataset/chopin/preludes/prelude28-09/maj3_down_m-1-5.bekrn\n",
            "grandstaff_dataset/chopin/preludes/prelude28-09/min3_up_m-1-4.bekrn\n",
            "grandstaff_dataset/chopin/preludes/prelude28-09/min3_down_m-4-7.bekrn\n",
            "grandstaff_dataset/chopin/preludes/prelude28-09/maj2_down_m-1-6.bekrn\n",
            "grandstaff_dataset/chopin/preludes/prelude28-09/maj2_down_m-6-11.bekrn\n",
            "grandstaff_dataset/chopin/preludes/prelude28-09/maj3_up_m-4-7.bekrn\n",
            "grandstaff_dataset/chopin/preludes/prelude28-09/maj2_up_m-1-5.bekrn\n",
            "grandstaff_dataset/chopin/preludes/prelude28-09/min3_down_m-7-10.bekrn\n",
            "grandstaff_dataset/chopin/preludes/prelude28-09/original_m-7-10.bekrn\n",
            "grandstaff_dataset/chopin/preludes/prelude28-09/maj3_down_m-5-9.bekrn\n",
            "grandstaff_dataset/chopin/preludes/prelude28-09/maj2_up_m-5-9.bekrn\n",
            "grandstaff_dataset/chopin/preludes/prelude28-09/min3_up_m-7-10.bekrn\n",
            "grandstaff_dataset/chopin/preludes/prelude28-09/maj3_up_m-7-10.bekrn\n",
            "grandstaff_dataset/chopin/preludes/prelude28-09/original_m-1-4.bekrn\n",
            "grandstaff_dataset/chopin/preludes/prelude28-09/original_m-4-7.bekrn\n",
            "grandstaff_dataset/chopin/preludes/prelude28-09/min3_up_m-4-7.bekrn\n",
            "grandstaff_dataset/chopin/preludes/prelude28-09/min3_down_m-1-4.bekrn\n",
            "grandstaff_dataset/chopin/preludes/prelude28-09/maj3_up_m-1-4.bekrn\n",
            "grandstaff_dataset/chopin/preludes/prelude28-07/maj2_down_m-0-5.bekrn\n",
            "grandstaff_dataset/chopin/preludes/prelude28-07/maj3_down_m-0-4.bekrn\n",
            "grandstaff_dataset/chopin/preludes/prelude28-07/min3_up_m-3-6.bekrn\n",
            "grandstaff_dataset/chopin/preludes/prelude28-07/maj3_up_m-0-4.bekrn\n",
            "grandstaff_dataset/chopin/preludes/prelude28-07/maj2_up_m-0-5.bekrn\n",
            "grandstaff_dataset/chopin/preludes/prelude28-07/min3_up_m-0-3.bekrn\n",
            "grandstaff_dataset/chopin/preludes/prelude28-07/original_m-0-4.bekrn\n",
            "grandstaff_dataset/chopin/preludes/prelude28-07/min3_down_m-0-5.bekrn\n",
            "grandstaff_dataset/chopin/preludes/prelude28-17/min3_up_m-16-19.bekrn\n",
            "grandstaff_dataset/chopin/preludes/prelude28-17/maj3_down_m-29-33.bekrn\n",
            "grandstaff_dataset/chopin/preludes/prelude28-17/maj2_down_m-88-91.bekrn\n",
            "grandstaff_dataset/chopin/preludes/prelude28-17/min3_up_m-52-55.bekrn\n",
            "grandstaff_dataset/chopin/preludes/prelude28-17/min3_up_m-22-25.bekrn\n",
            "grandstaff_dataset/chopin/preludes/prelude28-17/maj3_down_m-73-77.bekrn\n",
            "grandstaff_dataset/chopin/preludes/prelude28-17/maj3_up_m-85-88.bekrn\n",
            "grandstaff_dataset/chopin/preludes/prelude28-17/maj2_down_m-34-37.bekrn\n",
            "grandstaff_dataset/chopin/preludes/prelude28-17/maj2_down_m-79-82.bekrn\n",
            "grandstaff_dataset/chopin/preludes/prelude28-17/min3_down_m-16-21.bekrn\n",
            "grandstaff_dataset/chopin/preludes/prelude28-17/maj2_down_m-40-43.bekrn\n",
            "grandstaff_dataset/chopin/preludes/prelude28-17/original_m-88-91.bekrn\n",
            "grandstaff_dataset/chopin/preludes/prelude28-17/maj3_down_m-1-5.bekrn\n",
            "grandstaff_dataset/chopin/preludes/prelude28-17/original_m-85-88.bekrn\n",
            "grandstaff_dataset/chopin/preludes/prelude28-17/min3_down_m-76-81.bekrn\n",
            "grandstaff_dataset/chopin/preludes/prelude28-17/original_m-79-82.bekrn\n",
            "grandstaff_dataset/chopin/preludes/prelude28-17/min3_up_m-1-4.bekrn\n",
            "grandstaff_dataset/chopin/preludes/prelude28-17/original_m-73-76.bekrn\n",
            "grandstaff_dataset/chopin/preludes/prelude28-17/original_m-16-19.bekrn\n",
            "grandstaff_dataset/chopin/preludes/prelude28-17/min3_up_m-76-79.bekrn\n",
            "grandstaff_dataset/chopin/preludes/prelude28-17/maj3_down_m-37-41.bekrn\n",
            "grandstaff_dataset/chopin/preludes/prelude28-17/original_m-43-46.bekrn\n",
            "grandstaff_dataset/chopin/preludes/prelude28-17/min3_up_m-82-85.bekrn\n",
            "grandstaff_dataset/chopin/preludes/prelude28-17/min3_down_m-36-41.bekrn\n",
            "grandstaff_dataset/chopin/preludes/prelude28-17/maj3_up_m-16-19.bekrn\n",
            "grandstaff_dataset/chopin/preludes/prelude28-17/min3_up_m-88-91.bekrn\n",
            "grandstaff_dataset/chopin/preludes/prelude28-17/maj2_down_m-73-76.bekrn\n",
            "grandstaff_dataset/chopin/preludes/prelude28-17/original_m-40-43.bekrn\n",
            "grandstaff_dataset/chopin/preludes/prelude28-17/maj3_up_m-34-37.bekrn\n",
            "grandstaff_dataset/chopin/preludes/prelude28-17/original_m-67-70.bekrn\n",
            "grandstaff_dataset/chopin/preludes/prelude28-17/maj3_up_m-79-82.bekrn\n",
            "grandstaff_dataset/chopin/preludes/prelude28-17/maj2_down_m-52-55.bekrn\n",
            "grandstaff_dataset/chopin/preludes/prelude28-17/maj3_up_m-22-25.bekrn\n",
            "grandstaff_dataset/chopin/preludes/prelude28-17/maj2_down_m-10-13.bekrn\n",
            "grandstaff_dataset/chopin/preludes/prelude28-17/maj2_down_m-67-70.bekrn\n",
            "grandstaff_dataset/chopin/preludes/prelude28-17/original_m-52-55.bekrn\n",
            "grandstaff_dataset/chopin/preludes/prelude28-17/original_m-19-22.bekrn\n",
            "grandstaff_dataset/chopin/preludes/prelude28-17/min3_up_m-43-46.bekrn\n",
            "grandstaff_dataset/chopin/preludes/prelude28-17/maj2_up_m-71-76.bekrn\n",
            "grandstaff_dataset/chopin/preludes/prelude28-17/min3_down_m-51-56.bekrn\n",
            "grandstaff_dataset/chopin/preludes/prelude28-17/maj2_down_m-61-64.bekrn\n",
            "grandstaff_dataset/chopin/preludes/prelude28-17/maj3_up_m-4-7.bekrn\n",
            "grandstaff_dataset/chopin/preludes/prelude28-17/min3_up_m-19-22.bekrn\n",
            "grandstaff_dataset/chopin/preludes/prelude28-17/maj3_down_m-61-65.bekrn\n",
            "grandstaff_dataset/chopin/preludes/prelude28-17/maj3_down_m-57-61.bekrn\n",
            "grandstaff_dataset/chopin/preludes/prelude28-17/min3_down_m-66-71.bekrn\n",
            "grandstaff_dataset/chopin/preludes/prelude28-17/maj2_up_m-21-26.bekrn\n",
            "grandstaff_dataset/chopin/preludes/prelude28-17/maj2_up_m-1-6.bekrn\n",
            "grandstaff_dataset/chopin/preludes/prelude28-17/maj3_down_m-33-37.bekrn\n",
            "grandstaff_dataset/chopin/preludes/prelude28-17/maj3_up_m-52-55.bekrn\n",
            "grandstaff_dataset/chopin/preludes/prelude28-17/min3_up_m-10-13.bekrn\n",
            "grandstaff_dataset/chopin/preludes/prelude28-17/min3_down_m-71-76.bekrn\n",
            "grandstaff_dataset/chopin/preludes/prelude28-17/maj3_down_m-21-25.bekrn\n",
            "grandstaff_dataset/chopin/preludes/prelude28-17/min3_up_m-79-82.bekrn\n",
            "grandstaff_dataset/chopin/preludes/prelude28-17/original_m-55-58.bekrn\n",
            "grandstaff_dataset/chopin/preludes/prelude28-17/min3_up_m-37-40.bekrn\n",
            "grandstaff_dataset/chopin/preludes/prelude28-17/maj3_up_m-67-70.bekrn\n",
            "grandstaff_dataset/chopin/preludes/prelude28-17/maj2_down_m-82-85.bekrn\n",
            "grandstaff_dataset/chopin/preludes/prelude28-17/maj2_down_m-25-28.bekrn\n",
            "grandstaff_dataset/chopin/preludes/prelude28-17/maj2_down_m-55-58.bekrn\n",
            "grandstaff_dataset/chopin/preludes/prelude28-17/maj3_up_m-82-85.bekrn\n",
            "grandstaff_dataset/chopin/preludes/prelude28-17/maj2_up_m-61-66.bekrn\n",
            "grandstaff_dataset/chopin/preludes/prelude28-17/maj3_up_m-88-91.bekrn\n",
            "grandstaff_dataset/chopin/preludes/prelude28-17/maj3_up_m-43-46.bekrn\n",
            "grandstaff_dataset/chopin/preludes/prelude28-17/maj2_up_m-26-31.bekrn\n",
            "grandstaff_dataset/chopin/preludes/prelude28-17/maj3_down_m-77-81.bekrn\n",
            "grandstaff_dataset/chopin/preludes/prelude28-17/maj2_down_m-19-22.bekrn\n",
            "grandstaff_dataset/chopin/preludes/prelude28-17/min3_up_m-67-70.bekrn\n",
            "grandstaff_dataset/chopin/preludes/prelude28-17/maj3_down_m-53-57.bekrn\n",
            "grandstaff_dataset/chopin/preludes/prelude28-17/maj3_up_m-76-79.bekrn\n",
            "grandstaff_dataset/chopin/preludes/prelude28-17/original_m-37-40.bekrn\n",
            "grandstaff_dataset/chopin/preludes/prelude28-17/min3_down_m-26-31.bekrn\n",
            "grandstaff_dataset/chopin/preludes/prelude28-17/maj2_up_m-86-91.bekrn\n",
            "grandstaff_dataset/chopin/preludes/prelude28-17/min3_down_m-1-6.bekrn\n",
            "grandstaff_dataset/chopin/preludes/prelude28-17/maj2_up_m-76-81.bekrn\n",
            "grandstaff_dataset/chopin/preludes/prelude28-17/maj2_down_m-85-88.bekrn\n",
            "grandstaff_dataset/chopin/preludes/prelude28-17/min3_up_m-85-88.bekrn\n",
            "grandstaff_dataset/chopin/preludes/prelude28-17/min3_down_m-56-61.bekrn\n",
            "grandstaff_dataset/chopin/preludes/prelude28-17/maj3_up_m-37-40.bekrn\n",
            "grandstaff_dataset/chopin/preludes/prelude28-17/maj2_down_m-43-46.bekrn\n",
            "grandstaff_dataset/chopin/preludes/prelude28-17/maj2_down_m-4-7.bekrn\n",
            "grandstaff_dataset/chopin/preludes/prelude28-17/min3_down_m-21-26.bekrn\n",
            "grandstaff_dataset/chopin/preludes/prelude28-17/original_m-76-79.bekrn\n",
            "grandstaff_dataset/chopin/preludes/prelude28-17/maj3_up_m-19-22.bekrn\n",
            "grandstaff_dataset/chopin/preludes/prelude28-17/maj2_down_m-16-19.bekrn\n",
            "grandstaff_dataset/chopin/preludes/prelude28-17/original_m-22-25.bekrn\n",
            "grandstaff_dataset/chopin/preludes/prelude28-17/min3_up_m-73-76.bekrn\n",
            "grandstaff_dataset/chopin/preludes/prelude28-17/maj2_up_m-66-71.bekrn\n",
            "grandstaff_dataset/chopin/preludes/prelude28-17/min3_down_m-61-66.bekrn\n",
            "grandstaff_dataset/chopin/preludes/prelude28-17/min3_up_m-34-37.bekrn\n",
            "grandstaff_dataset/chopin/preludes/prelude28-17/original_m-82-85.bekrn\n",
            "grandstaff_dataset/chopin/preludes/prelude28-17/maj2_up_m-36-41.bekrn\n",
            "grandstaff_dataset/chopin/preludes/prelude28-17/maj3_down_m-25-29.bekrn\n",
            "grandstaff_dataset/chopin/preludes/prelude28-17/original_m-31-34.bekrn\n",
            "grandstaff_dataset/chopin/preludes/prelude28-17/original_m-25-28.bekrn\n",
            "grandstaff_dataset/chopin/preludes/prelude28-17/maj2_up_m-16-21.bekrn\n",
            "grandstaff_dataset/chopin/preludes/prelude28-17/maj3_up_m-40-43.bekrn\n",
            "grandstaff_dataset/chopin/preludes/prelude28-17/maj2_down_m-64-67.bekrn\n",
            "grandstaff_dataset/chopin/preludes/prelude28-17/maj3_down_m-69-73.bekrn\n",
            "grandstaff_dataset/chopin/preludes/prelude28-17/min3_up_m-25-28.bekrn\n",
            "grandstaff_dataset/chopin/preludes/prelude28-17/min3_down_m-6-11.bekrn\n",
            "grandstaff_dataset/chopin/preludes/prelude28-17/maj3_up_m-25-28.bekrn\n",
            "grandstaff_dataset/chopin/preludes/prelude28-17/maj2_down_m-76-79.bekrn\n",
            "grandstaff_dataset/chopin/preludes/prelude28-17/maj2_down_m-37-40.bekrn\n",
            "grandstaff_dataset/chopin/preludes/prelude28-17/original_m-1-4.bekrn\n",
            "grandstaff_dataset/chopin/preludes/prelude28-17/maj3_up_m-61-64.bekrn\n",
            "grandstaff_dataset/chopin/preludes/prelude28-17/original_m-70-73.bekrn\n",
            "grandstaff_dataset/chopin/preludes/prelude28-17/original_m-4-7.bekrn\n",
            "grandstaff_dataset/chopin/preludes/prelude28-17/maj2_up_m-51-56.bekrn\n",
            "grandstaff_dataset/chopin/preludes/prelude28-17/maj2_up_m-56-61.bekrn\n",
            "grandstaff_dataset/chopin/preludes/prelude28-17/min3_up_m-4-7.bekrn\n",
            "grandstaff_dataset/chopin/preludes/prelude28-17/min3_up_m-31-34.bekrn\n",
            "grandstaff_dataset/chopin/preludes/prelude28-17/original_m-64-67.bekrn\n",
            "grandstaff_dataset/chopin/preludes/prelude28-17/maj3_up_m-70-73.bekrn\n",
            "grandstaff_dataset/chopin/preludes/prelude28-17/maj3_up_m-55-58.bekrn\n",
            "grandstaff_dataset/chopin/preludes/prelude28-17/min3_down_m-31-36.bekrn\n",
            "grandstaff_dataset/chopin/preludes/prelude28-17/maj3_up_m-64-67.bekrn\n",
            "grandstaff_dataset/chopin/preludes/prelude28-17/maj2_up_m-6-11.bekrn\n",
            "grandstaff_dataset/chopin/preludes/prelude28-17/min3_up_m-70-73.bekrn\n",
            "grandstaff_dataset/chopin/preludes/prelude28-17/min3_up_m-40-43.bekrn\n",
            "grandstaff_dataset/chopin/preludes/prelude28-17/maj3_up_m-31-34.bekrn\n",
            "grandstaff_dataset/chopin/preludes/prelude28-17/min3_up_m-61-64.bekrn\n",
            "grandstaff_dataset/chopin/preludes/prelude28-17/maj2_down_m-1-4.bekrn\n",
            "grandstaff_dataset/chopin/preludes/prelude28-17/original_m-34-37.bekrn\n",
            "grandstaff_dataset/chopin/preludes/prelude28-17/maj2_down_m-31-34.bekrn\n",
            "grandstaff_dataset/chopin/preludes/prelude28-17/min3_up_m-64-67.bekrn\n",
            "grandstaff_dataset/chopin/preludes/prelude28-17/original_m-10-13.bekrn\n",
            "grandstaff_dataset/chopin/preludes/prelude28-17/maj3_up_m-10-13.bekrn\n",
            "grandstaff_dataset/chopin/preludes/prelude28-17/original_m-61-64.bekrn\n",
            "grandstaff_dataset/chopin/preludes/prelude28-17/maj2_down_m-70-73.bekrn\n",
            "grandstaff_dataset/chopin/preludes/prelude28-17/maj3_up_m-1-4.bekrn\n",
            "grandstaff_dataset/chopin/preludes/prelude28-17/maj3_up_m-73-76.bekrn\n",
            "grandstaff_dataset/chopin/preludes/prelude28-17/min3_up_m-55-58.bekrn\n",
            "grandstaff_dataset/chopin/preludes/prelude28-17/maj2_down_m-22-25.bekrn\n",
            "grandstaff_dataset/chopin/preludes/prelude28-17/maj2_up_m-31-36.bekrn\n",
            "grandstaff_dataset/chopin/preludes/prelude28-05/min3_up_m-16-19.bekrn\n",
            "grandstaff_dataset/chopin/preludes/prelude28-05/maj3_down_m-29-33.bekrn\n",
            "grandstaff_dataset/chopin/preludes/prelude28-05/min3_up_m-22-25.bekrn\n",
            "grandstaff_dataset/chopin/preludes/prelude28-05/maj2_up_m-11-16.bekrn\n",
            "grandstaff_dataset/chopin/preludes/prelude28-05/min3_down_m-29-33.bekrn\n",
            "grandstaff_dataset/chopin/preludes/prelude28-05/maj3_down_m-1-5.bekrn\n",
            "grandstaff_dataset/chopin/preludes/prelude28-05/min3_up_m-1-4.bekrn\n",
            "grandstaff_dataset/chopin/preludes/prelude28-05/original_m-1-5.bekrn\n",
            "grandstaff_dataset/chopin/preludes/prelude28-05/original_m-33-37.bekrn\n",
            "grandstaff_dataset/chopin/preludes/prelude28-05/maj2_down_m-29-33.bekrn\n",
            "grandstaff_dataset/chopin/preludes/prelude28-05/maj3_down_m-37-41.bekrn\n",
            "grandstaff_dataset/chopin/preludes/prelude28-05/maj3_up_m-16-19.bekrn\n",
            "grandstaff_dataset/chopin/preludes/prelude28-05/original_m-21-25.bekrn\n",
            "grandstaff_dataset/chopin/preludes/prelude28-05/maj3_up_m-34-37.bekrn\n",
            "grandstaff_dataset/chopin/preludes/prelude28-05/min3_down_m-17-21.bekrn\n",
            "grandstaff_dataset/chopin/preludes/prelude28-05/min3_down_m-1-5.bekrn\n",
            "grandstaff_dataset/chopin/preludes/prelude28-05/maj3_up_m-22-25.bekrn\n",
            "grandstaff_dataset/chopin/preludes/prelude28-05/maj3_down_m-9-13.bekrn\n",
            "grandstaff_dataset/chopin/preludes/prelude28-05/original_m-17-21.bekrn\n",
            "grandstaff_dataset/chopin/preludes/prelude28-05/original_m-29-33.bekrn\n",
            "grandstaff_dataset/chopin/preludes/prelude28-05/maj3_down_m-17-21.bekrn\n",
            "grandstaff_dataset/chopin/preludes/prelude28-05/maj3_down_m-13-17.bekrn\n",
            "grandstaff_dataset/chopin/preludes/prelude28-05/maj3_up_m-4-7.bekrn\n",
            "grandstaff_dataset/chopin/preludes/prelude28-05/min3_up_m-19-22.bekrn\n",
            "grandstaff_dataset/chopin/preludes/prelude28-05/maj2_up_m-21-26.bekrn\n",
            "grandstaff_dataset/chopin/preludes/prelude28-05/maj2_up_m-1-6.bekrn\n",
            "grandstaff_dataset/chopin/preludes/prelude28-05/maj3_up_m-28-31.bekrn\n",
            "grandstaff_dataset/chopin/preludes/prelude28-05/maj2_down_m-13-17.bekrn\n",
            "grandstaff_dataset/chopin/preludes/prelude28-05/maj3_down_m-33-37.bekrn\n",
            "grandstaff_dataset/chopin/preludes/prelude28-05/min3_down_m-37-41.bekrn\n",
            "grandstaff_dataset/chopin/preludes/prelude28-05/min3_up_m-10-13.bekrn\n",
            "grandstaff_dataset/chopin/preludes/prelude28-05/maj3_down_m-21-25.bekrn\n",
            "grandstaff_dataset/chopin/preludes/prelude28-05/min3_down_m-33-37.bekrn\n",
            "grandstaff_dataset/chopin/preludes/prelude28-05/min3_up_m-37-40.bekrn\n",
            "grandstaff_dataset/chopin/preludes/prelude28-05/maj2_up_m-26-31.bekrn\n",
            "grandstaff_dataset/chopin/preludes/prelude28-05/original_m-25-29.bekrn\n",
            "grandstaff_dataset/chopin/preludes/prelude28-05/original_m-13-17.bekrn\n",
            "grandstaff_dataset/chopin/preludes/prelude28-05/maj2_down_m-5-9.bekrn\n",
            "grandstaff_dataset/chopin/preludes/prelude28-05/maj3_up_m-37-40.bekrn\n",
            "grandstaff_dataset/chopin/preludes/prelude28-05/min3_up_m-28-31.bekrn\n",
            "grandstaff_dataset/chopin/preludes/prelude28-05/maj3_up_m-19-22.bekrn\n",
            "grandstaff_dataset/chopin/preludes/prelude28-05/min3_down_m-21-25.bekrn\n",
            "grandstaff_dataset/chopin/preludes/prelude28-05/min3_up_m-34-37.bekrn\n",
            "grandstaff_dataset/chopin/preludes/prelude28-05/maj3_down_m-5-9.bekrn\n",
            "grandstaff_dataset/chopin/preludes/prelude28-05/maj2_down_m-21-25.bekrn\n",
            "grandstaff_dataset/chopin/preludes/prelude28-05/maj2_up_m-36-41.bekrn\n",
            "grandstaff_dataset/chopin/preludes/prelude28-05/maj3_down_m-25-29.bekrn\n",
            "grandstaff_dataset/chopin/preludes/prelude28-05/maj2_down_m-33-37.bekrn\n",
            "grandstaff_dataset/chopin/preludes/prelude28-05/original_m-9-13.bekrn\n",
            "grandstaff_dataset/chopin/preludes/prelude28-05/min3_down_m-25-29.bekrn\n",
            "grandstaff_dataset/chopin/preludes/prelude28-05/maj2_up_m-16-21.bekrn\n",
            "grandstaff_dataset/chopin/preludes/prelude28-05/min3_up_m-13-16.bekrn\n",
            "grandstaff_dataset/chopin/preludes/prelude28-05/maj2_down_m-25-29.bekrn\n",
            "grandstaff_dataset/chopin/preludes/prelude28-05/min3_up_m-25-28.bekrn\n",
            "grandstaff_dataset/chopin/preludes/prelude28-05/maj3_up_m-25-28.bekrn\n",
            "grandstaff_dataset/chopin/preludes/prelude28-05/maj2_down_m-17-21.bekrn\n",
            "grandstaff_dataset/chopin/preludes/prelude28-05/original_m-37-41.bekrn\n",
            "grandstaff_dataset/chopin/preludes/prelude28-05/min3_up_m-7-10.bekrn\n",
            "grandstaff_dataset/chopin/preludes/prelude28-05/maj3_up_m-7-10.bekrn\n",
            "grandstaff_dataset/chopin/preludes/prelude28-05/maj2_down_m-37-41.bekrn\n",
            "grandstaff_dataset/chopin/preludes/prelude28-05/min3_down_m-13-17.bekrn\n",
            "grandstaff_dataset/chopin/preludes/prelude28-05/min3_up_m-4-7.bekrn\n",
            "grandstaff_dataset/chopin/preludes/prelude28-05/maj2_down_m-9-13.bekrn\n",
            "grandstaff_dataset/chopin/preludes/prelude28-05/min3_up_m-31-34.bekrn\n",
            "grandstaff_dataset/chopin/preludes/prelude28-05/min3_down_m-5-9.bekrn\n",
            "grandstaff_dataset/chopin/preludes/prelude28-05/maj3_up_m-13-16.bekrn\n",
            "grandstaff_dataset/chopin/preludes/prelude28-05/maj2_down_m-1-5.bekrn\n",
            "grandstaff_dataset/chopin/preludes/prelude28-05/maj2_up_m-6-11.bekrn\n",
            "grandstaff_dataset/chopin/preludes/prelude28-05/maj3_up_m-31-34.bekrn\n",
            "grandstaff_dataset/chopin/preludes/prelude28-05/min3_down_m-9-13.bekrn\n",
            "grandstaff_dataset/chopin/preludes/prelude28-05/maj3_up_m-10-13.bekrn\n",
            "grandstaff_dataset/chopin/preludes/prelude28-05/maj3_up_m-1-4.bekrn\n",
            "grandstaff_dataset/chopin/preludes/prelude28-05/original_m-5-9.bekrn\n",
            "grandstaff_dataset/chopin/preludes/prelude28-05/maj2_up_m-31-36.bekrn\n",
            "grandstaff_dataset/chopin/preludes/prelude28-16/maj2_down_m-0-5.bekrn\n",
            "grandstaff_dataset/chopin/preludes/prelude28-16/maj3_down_m-0-4.bekrn\n",
            "grandstaff_dataset/chopin/preludes/prelude28-16/maj2_down_m-5-10.bekrn\n",
            "grandstaff_dataset/chopin/preludes/prelude28-16/maj2_up_m-3-6.bekrn\n",
            "grandstaff_dataset/chopin/preludes/prelude28-16/maj3_down_m-28-32.bekrn\n",
            "grandstaff_dataset/chopin/preludes/prelude28-16/maj2_up_m-9-12.bekrn\n",
            "grandstaff_dataset/chopin/preludes/prelude28-16/original_m-36-40.bekrn\n",
            "grandstaff_dataset/chopin/preludes/prelude28-16/maj2_down_m-40-45.bekrn\n",
            "grandstaff_dataset/chopin/preludes/prelude28-16/min3_up_m-40-44.bekrn\n",
            "grandstaff_dataset/chopin/preludes/prelude28-16/maj2_down_m-20-25.bekrn\n",
            "grandstaff_dataset/chopin/preludes/prelude28-16/min3_down_m-20-25.bekrn\n",
            "grandstaff_dataset/chopin/preludes/prelude28-16/maj3_up_m-10-15.bekrn\n",
            "grandstaff_dataset/chopin/preludes/prelude28-16/maj3_down_m-32-36.bekrn\n",
            "grandstaff_dataset/chopin/preludes/prelude28-16/maj3_up_m-30-35.bekrn\n",
            "grandstaff_dataset/chopin/preludes/prelude28-16/maj3_down_m-20-24.bekrn\n",
            "grandstaff_dataset/chopin/preludes/prelude28-16/maj3_down_m-36-40.bekrn\n",
            "grandstaff_dataset/chopin/preludes/prelude28-16/maj3_up_m-5-10.bekrn\n",
            "grandstaff_dataset/chopin/preludes/prelude28-16/maj3_down_m-40-44.bekrn\n",
            "grandstaff_dataset/chopin/preludes/prelude28-16/maj3_up_m-0-5.bekrn\n",
            "grandstaff_dataset/chopin/preludes/prelude28-16/min3_down_m-35-40.bekrn\n",
            "grandstaff_dataset/chopin/preludes/prelude28-16/min3_up_m-8-12.bekrn\n",
            "grandstaff_dataset/chopin/preludes/prelude28-16/maj2_up_m-27-30.bekrn\n",
            "grandstaff_dataset/chopin/preludes/prelude28-16/maj3_up_m-25-30.bekrn\n",
            "grandstaff_dataset/chopin/preludes/prelude28-16/original_m-20-24.bekrn\n",
            "grandstaff_dataset/chopin/preludes/prelude28-16/maj2_up_m-36-39.bekrn\n",
            "grandstaff_dataset/chopin/preludes/prelude28-16/maj2_down_m-30-35.bekrn\n",
            "grandstaff_dataset/chopin/preludes/prelude28-16/original_m-32-36.bekrn\n",
            "grandstaff_dataset/chopin/preludes/prelude28-16/min3_up_m-24-28.bekrn\n",
            "grandstaff_dataset/chopin/preludes/prelude28-16/maj3_up_m-20-25.bekrn\n",
            "grandstaff_dataset/chopin/preludes/prelude28-16/min3_down_m-5-10.bekrn\n",
            "grandstaff_dataset/chopin/preludes/prelude28-16/maj2_up_m-33-36.bekrn\n",
            "grandstaff_dataset/chopin/preludes/prelude28-16/maj2_up_m-6-9.bekrn\n",
            "grandstaff_dataset/chopin/preludes/prelude28-16/maj3_down_m-12-16.bekrn\n",
            "grandstaff_dataset/chopin/preludes/prelude28-16/min3_up_m-20-24.bekrn\n",
            "grandstaff_dataset/chopin/preludes/prelude28-16/maj3_down_m-8-12.bekrn\n",
            "grandstaff_dataset/chopin/preludes/prelude28-16/min3_up_m-12-16.bekrn\n",
            "grandstaff_dataset/chopin/preludes/prelude28-16/maj2_up_m-12-15.bekrn\n",
            "grandstaff_dataset/chopin/preludes/prelude28-16/maj3_up_m-15-20.bekrn\n",
            "grandstaff_dataset/chopin/preludes/prelude28-16/min3_up_m-4-8.bekrn\n",
            "grandstaff_dataset/chopin/preludes/prelude28-16/maj2_up_m-42-45.bekrn\n",
            "grandstaff_dataset/chopin/preludes/prelude28-16/min3_up_m-36-40.bekrn\n",
            "grandstaff_dataset/chopin/preludes/prelude28-16/original_m-12-16.bekrn\n",
            "grandstaff_dataset/chopin/preludes/prelude28-16/maj3_down_m-24-28.bekrn\n",
            "grandstaff_dataset/chopin/preludes/prelude28-16/maj3_up_m-40-45.bekrn\n",
            "grandstaff_dataset/chopin/preludes/prelude28-16/maj2_up_m-0-3.bekrn\n",
            "grandstaff_dataset/chopin/preludes/prelude28-16/original_m-8-12.bekrn\n",
            "grandstaff_dataset/chopin/preludes/prelude28-16/original_m-40-44.bekrn\n",
            "grandstaff_dataset/chopin/preludes/prelude28-16/min3_down_m-25-30.bekrn\n",
            "grandstaff_dataset/chopin/preludes/prelude28-16/maj2_up_m-39-42.bekrn\n",
            "grandstaff_dataset/chopin/preludes/prelude28-16/min3_down_m-40-45.bekrn\n",
            "grandstaff_dataset/chopin/preludes/prelude28-16/maj2_down_m-15-20.bekrn\n",
            "grandstaff_dataset/chopin/preludes/prelude28-16/original_m-28-32.bekrn\n",
            "grandstaff_dataset/chopin/preludes/prelude28-16/original_m-24-28.bekrn\n",
            "grandstaff_dataset/chopin/preludes/prelude28-16/maj2_up_m-21-24.bekrn\n",
            "grandstaff_dataset/chopin/preludes/prelude28-16/maj2_up_m-15-18.bekrn\n",
            "grandstaff_dataset/chopin/preludes/prelude28-16/min3_up_m-32-36.bekrn\n",
            "grandstaff_dataset/chopin/preludes/prelude28-16/maj2_down_m-25-30.bekrn\n",
            "grandstaff_dataset/chopin/preludes/prelude28-16/original_m-0-4.bekrn\n",
            "grandstaff_dataset/chopin/preludes/prelude28-16/maj3_down_m-4-8.bekrn\n",
            "grandstaff_dataset/chopin/preludes/prelude28-16/min3_up_m-16-20.bekrn\n",
            "grandstaff_dataset/chopin/preludes/prelude28-16/min3_down_m-15-20.bekrn\n",
            "grandstaff_dataset/chopin/preludes/prelude28-16/min3_up_m-0-4.bekrn\n",
            "grandstaff_dataset/chopin/preludes/prelude28-16/maj2_up_m-18-21.bekrn\n",
            "grandstaff_dataset/chopin/preludes/prelude28-16/min3_down_m-0-5.bekrn\n",
            "grandstaff_dataset/chopin/preludes/prelude28-16/maj3_down_m-16-20.bekrn\n",
            "grandstaff_dataset/chopin/preludes/prelude28-16/original_m-4-8.bekrn\n",
            "grandstaff_dataset/chopin/preludes/prelude28-16/original_m-16-20.bekrn\n",
            "grandstaff_dataset/chopin/preludes/prelude28-16/min3_up_m-28-32.bekrn\n",
            "grandstaff_dataset/chopin/preludes/prelude28-16/maj2_down_m-35-40.bekrn\n",
            "grandstaff_dataset/chopin/preludes/prelude28-16/maj2_down_m-10-15.bekrn\n",
            "grandstaff_dataset/chopin/preludes/prelude28-16/maj2_up_m-24-27.bekrn\n",
            "grandstaff_dataset/chopin/preludes/prelude28-16/maj2_up_m-30-33.bekrn\n",
            "grandstaff_dataset/chopin/preludes/prelude28-16/maj3_up_m-35-40.bekrn\n",
            "grandstaff_dataset/chopin/preludes/prelude28-16/min3_down_m-30-35.bekrn\n",
            "grandstaff_dataset/chopin/preludes/prelude28-16/min3_down_m-10-15.bekrn\n",
            "grandstaff_dataset/chopin/preludes/prelude28-21/maj3_up_m-45-49.bekrn\n",
            "grandstaff_dataset/chopin/preludes/prelude28-21/maj3_down_m-7-10.bekrn\n",
            "grandstaff_dataset/chopin/preludes/prelude28-21/maj2_down_m-34-37.bekrn\n",
            "grandstaff_dataset/chopin/preludes/prelude28-21/min3_down_m-16-21.bekrn\n",
            "grandstaff_dataset/chopin/preludes/prelude28-21/maj3_down_m-52-55.bekrn\n",
            "grandstaff_dataset/chopin/preludes/prelude28-21/maj2_down_m-40-43.bekrn\n",
            "grandstaff_dataset/chopin/preludes/prelude28-21/min3_up_m-9-13.bekrn\n",
            "grandstaff_dataset/chopin/preludes/prelude28-21/min3_up_m-37-41.bekrn\n",
            "grandstaff_dataset/chopin/preludes/prelude28-21/original_m-16-19.bekrn\n",
            "grandstaff_dataset/chopin/preludes/prelude28-21/maj3_down_m-46-49.bekrn\n",
            "grandstaff_dataset/chopin/preludes/prelude28-21/maj2_down_m-13-16.bekrn\n",
            "grandstaff_dataset/chopin/preludes/prelude28-21/maj2_up_m-53-57.bekrn\n",
            "grandstaff_dataset/chopin/preludes/prelude28-21/min3_up_m-45-49.bekrn\n",
            "grandstaff_dataset/chopin/preludes/prelude28-21/original_m-43-46.bekrn\n",
            "grandstaff_dataset/chopin/preludes/prelude28-21/min3_down_m-36-41.bekrn\n",
            "grandstaff_dataset/chopin/preludes/prelude28-21/min3_up_m-17-21.bekrn\n",
            "grandstaff_dataset/chopin/preludes/prelude28-21/original_m-40-43.bekrn\n",
            "grandstaff_dataset/chopin/preludes/prelude28-21/maj2_down_m-52-55.bekrn\n",
            "grandstaff_dataset/chopin/preludes/prelude28-21/maj3_down_m-13-16.bekrn\n",
            "grandstaff_dataset/chopin/preludes/prelude28-21/maj2_down_m-10-13.bekrn\n",
            "grandstaff_dataset/chopin/preludes/prelude28-21/min3_up_m-29-33.bekrn\n",
            "grandstaff_dataset/chopin/preludes/prelude28-21/maj2_up_m-33-37.bekrn\n",
            "grandstaff_dataset/chopin/preludes/prelude28-21/maj2_up_m-17-21.bekrn\n",
            "grandstaff_dataset/chopin/preludes/prelude28-21/original_m-28-31.bekrn\n",
            "grandstaff_dataset/chopin/preludes/prelude28-21/original_m-52-55.bekrn\n",
            "grandstaff_dataset/chopin/preludes/prelude28-21/maj2_up_m-49-53.bekrn\n",
            "grandstaff_dataset/chopin/preludes/prelude28-21/maj2_down_m-46-49.bekrn\n",
            "grandstaff_dataset/chopin/preludes/prelude28-21/original_m-19-22.bekrn\n",
            "grandstaff_dataset/chopin/preludes/prelude28-21/min3_down_m-51-56.bekrn\n",
            "grandstaff_dataset/chopin/preludes/prelude28-21/min3_up_m-49-53.bekrn\n",
            "grandstaff_dataset/chopin/preludes/prelude28-21/maj3_down_m-37-40.bekrn\n",
            "grandstaff_dataset/chopin/preludes/prelude28-21/maj3_up_m-29-33.bekrn\n",
            "grandstaff_dataset/chopin/preludes/prelude28-21/maj2_up_m-45-49.bekrn\n",
            "grandstaff_dataset/chopin/preludes/prelude28-21/maj3_down_m-19-22.bekrn\n",
            "grandstaff_dataset/chopin/preludes/prelude28-21/maj2_up_m-41-45.bekrn\n",
            "grandstaff_dataset/chopin/preludes/prelude28-21/maj3_up_m-37-41.bekrn\n",
            "grandstaff_dataset/chopin/preludes/prelude28-21/maj2_down_m-49-52.bekrn\n",
            "grandstaff_dataset/chopin/preludes/prelude28-21/maj3_up_m-9-13.bekrn\n",
            "grandstaff_dataset/chopin/preludes/prelude28-21/min3_up_m-13-17.bekrn\n",
            "grandstaff_dataset/chopin/preludes/prelude28-21/min3_up_m-1-5.bekrn\n",
            "grandstaff_dataset/chopin/preludes/prelude28-21/maj2_down_m-25-28.bekrn\n",
            "grandstaff_dataset/chopin/preludes/prelude28-21/original_m-46-49.bekrn\n",
            "grandstaff_dataset/chopin/preludes/prelude28-21/maj2_up_m-1-5.bekrn\n",
            "grandstaff_dataset/chopin/preludes/prelude28-21/original_m-13-16.bekrn\n",
            "grandstaff_dataset/chopin/preludes/prelude28-21/maj3_up_m-53-57.bekrn\n",
            "grandstaff_dataset/chopin/preludes/prelude28-21/maj2_down_m-19-22.bekrn\n",
            "grandstaff_dataset/chopin/preludes/prelude28-21/maj3_up_m-17-21.bekrn\n",
            "grandstaff_dataset/chopin/preludes/prelude28-21/original_m-37-40.bekrn\n",
            "grandstaff_dataset/chopin/preludes/prelude28-21/min3_down_m-26-31.bekrn\n",
            "grandstaff_dataset/chopin/preludes/prelude28-21/min3_down_m-1-6.bekrn\n",
            "grandstaff_dataset/chopin/preludes/prelude28-21/maj3_down_m-31-34.bekrn\n",
            "grandstaff_dataset/chopin/preludes/prelude28-21/maj3_up_m-33-37.bekrn\n",
            "grandstaff_dataset/chopin/preludes/prelude28-21/maj3_down_m-10-13.bekrn\n",
            "grandstaff_dataset/chopin/preludes/prelude28-21/maj3_down_m-4-7.bekrn\n",
            "grandstaff_dataset/chopin/preludes/prelude28-21/min3_up_m-5-9.bekrn\n",
            "grandstaff_dataset/chopin/preludes/prelude28-21/maj2_up_m-37-41.bekrn\n",
            "grandstaff_dataset/chopin/preludes/prelude28-21/maj2_down_m-43-46.bekrn\n",
            "grandstaff_dataset/chopin/preludes/prelude28-21/maj2_down_m-4-7.bekrn\n",
            "grandstaff_dataset/chopin/preludes/prelude28-21/maj2_up_m-29-33.bekrn\n",
            "grandstaff_dataset/chopin/preludes/prelude28-21/maj2_down_m-16-19.bekrn\n",
            "grandstaff_dataset/chopin/preludes/prelude28-21/original_m-7-10.bekrn\n",
            "grandstaff_dataset/chopin/preludes/prelude28-21/maj3_down_m-49-52.bekrn\n",
            "grandstaff_dataset/chopin/preludes/prelude28-21/min3_down_m-41-46.bekrn\n",
            "grandstaff_dataset/chopin/preludes/prelude28-21/maj3_down_m-43-46.bekrn\n",
            "grandstaff_dataset/chopin/preludes/prelude28-21/maj2_down_m-28-31.bekrn\n",
            "grandstaff_dataset/chopin/preludes/prelude28-21/min3_up_m-53-57.bekrn\n",
            "grandstaff_dataset/chopin/preludes/prelude28-21/maj2_up_m-5-9.bekrn\n",
            "grandstaff_dataset/chopin/preludes/prelude28-21/maj3_up_m-5-9.bekrn\n",
            "grandstaff_dataset/chopin/preludes/prelude28-21/original_m-49-52.bekrn\n",
            "grandstaff_dataset/chopin/preludes/prelude28-21/maj3_up_m-49-53.bekrn\n",
            "grandstaff_dataset/chopin/preludes/prelude28-21/original_m-31-34.bekrn\n",
            "grandstaff_dataset/chopin/preludes/prelude28-21/original_m-25-28.bekrn\n",
            "grandstaff_dataset/chopin/preludes/prelude28-21/maj2_up_m-25-29.bekrn\n",
            "grandstaff_dataset/chopin/preludes/prelude28-21/maj3_down_m-34-37.bekrn\n",
            "grandstaff_dataset/chopin/preludes/prelude28-21/min3_down_m-6-11.bekrn\n",
            "grandstaff_dataset/chopin/preludes/prelude28-21/maj3_down_m-16-19.bekrn\n",
            "grandstaff_dataset/chopin/preludes/prelude28-21/maj2_up_m-13-17.bekrn\n",
            "grandstaff_dataset/chopin/preludes/prelude28-21/maj2_up_m-9-13.bekrn\n",
            "grandstaff_dataset/chopin/preludes/prelude28-21/maj2_down_m-37-40.bekrn\n",
            "grandstaff_dataset/chopin/preludes/prelude28-21/maj2_down_m-7-10.bekrn\n",
            "grandstaff_dataset/chopin/preludes/prelude28-21/original_m-1-4.bekrn\n",
            "grandstaff_dataset/chopin/preludes/prelude28-21/original_m-4-7.bekrn\n",
            "grandstaff_dataset/chopin/preludes/prelude28-21/min3_up_m-41-45.bekrn\n",
            "grandstaff_dataset/chopin/preludes/prelude28-21/min3_up_m-25-29.bekrn\n",
            "grandstaff_dataset/chopin/preludes/prelude28-21/min3_up_m-33-37.bekrn\n",
            "grandstaff_dataset/chopin/preludes/prelude28-21/maj3_up_m-41-45.bekrn\n",
            "grandstaff_dataset/chopin/preludes/prelude28-21/min3_down_m-31-36.bekrn\n",
            "grandstaff_dataset/chopin/preludes/prelude28-21/min3_down_m-46-51.bekrn\n",
            "grandstaff_dataset/chopin/preludes/prelude28-21/min3_down_m-11-16.bekrn\n",
            "grandstaff_dataset/chopin/preludes/prelude28-21/maj2_down_m-1-4.bekrn\n",
            "grandstaff_dataset/chopin/preludes/prelude28-21/original_m-34-37.bekrn\n",
            "grandstaff_dataset/chopin/preludes/prelude28-21/maj2_down_m-31-34.bekrn\n",
            "grandstaff_dataset/chopin/preludes/prelude28-21/maj3_up_m-13-17.bekrn\n",
            "grandstaff_dataset/chopin/preludes/prelude28-21/original_m-10-13.bekrn\n",
            "grandstaff_dataset/chopin/preludes/prelude28-21/maj3_down_m-1-4.bekrn\n",
            "grandstaff_dataset/chopin/preludes/prelude28-21/maj3_up_m-25-29.bekrn\n",
            "grandstaff_dataset/chopin/preludes/prelude28-21/maj3_down_m-28-31.bekrn\n",
            "grandstaff_dataset/chopin/preludes/prelude28-21/maj3_down_m-40-43.bekrn\n",
            "grandstaff_dataset/chopin/preludes/prelude28-21/maj3_down_m-25-28.bekrn\n",
            "grandstaff_dataset/chopin/preludes/prelude28-21/maj3_up_m-1-5.bekrn\n",
            "grandstaff_dataset/chopin/preludes/prelude28-06/maj2_up_m-20-25.bekrn\n",
            "grandstaff_dataset/chopin/preludes/prelude28-06/min3_up_m-3-6.bekrn\n",
            "grandstaff_dataset/chopin/preludes/prelude28-06/min3_up_m-9-12.bekrn\n",
            "grandstaff_dataset/chopin/preludes/prelude28-06/min3_down_m-20-25.bekrn\n",
            "grandstaff_dataset/chopin/preludes/prelude28-06/maj3_up_m-18-21.bekrn\n",
            "grandstaff_dataset/chopin/preludes/prelude28-06/maj3_down_m-24-27.bekrn\n",
            "grandstaff_dataset/chopin/preludes/prelude28-06/min3_up_m-24-27.bekrn\n",
            "grandstaff_dataset/chopin/preludes/prelude28-06/maj3_up_m-24-27.bekrn\n",
            "grandstaff_dataset/chopin/preludes/prelude28-06/maj2_up_m-25-30.bekrn\n",
            "grandstaff_dataset/chopin/preludes/prelude28-06/min3_up_m-18-21.bekrn\n",
            "grandstaff_dataset/chopin/preludes/prelude28-06/maj3_up_m-0-3.bekrn\n",
            "grandstaff_dataset/chopin/preludes/prelude28-06/maj3_down_m-18-21.bekrn\n",
            "grandstaff_dataset/chopin/preludes/prelude28-06/maj3_up_m-9-12.bekrn\n",
            "grandstaff_dataset/chopin/preludes/prelude28-06/maj2_down_m-20-24.bekrn\n",
            "grandstaff_dataset/chopin/preludes/prelude28-06/maj2_down_m-0-4.bekrn\n",
            "grandstaff_dataset/chopin/preludes/prelude28-06/maj2_up_m-0-5.bekrn\n",
            "grandstaff_dataset/chopin/preludes/prelude28-06/original_m-18-21.bekrn\n",
            "grandstaff_dataset/chopin/preludes/prelude28-06/maj3_up_m-21-24.bekrn\n",
            "grandstaff_dataset/chopin/preludes/prelude28-06/maj2_down_m-16-20.bekrn\n",
            "grandstaff_dataset/chopin/preludes/prelude28-06/min3_up_m-21-24.bekrn\n",
            "grandstaff_dataset/chopin/preludes/prelude28-06/original_m-9-12.bekrn\n",
            "grandstaff_dataset/chopin/preludes/prelude28-06/maj3_down_m-12-15.bekrn\n",
            "grandstaff_dataset/chopin/preludes/prelude28-06/original_m-24-27.bekrn\n",
            "grandstaff_dataset/chopin/preludes/prelude28-06/maj3_down_m-0-3.bekrn\n",
            "grandstaff_dataset/chopin/preludes/prelude28-06/min3_up_m-15-18.bekrn\n",
            "grandstaff_dataset/chopin/preludes/prelude28-06/maj3_up_m-15-18.bekrn\n",
            "grandstaff_dataset/chopin/preludes/prelude28-06/original_m-15-18.bekrn\n",
            "grandstaff_dataset/chopin/preludes/prelude28-06/min3_up_m-0-3.bekrn\n",
            "grandstaff_dataset/chopin/preludes/prelude28-06/maj2_down_m-12-16.bekrn\n",
            "grandstaff_dataset/chopin/preludes/prelude28-06/original_m-12-15.bekrn\n",
            "grandstaff_dataset/chopin/preludes/prelude28-06/original_m-3-6.bekrn\n",
            "grandstaff_dataset/chopin/preludes/prelude28-06/min3_down_m-25-30.bekrn\n",
            "grandstaff_dataset/chopin/preludes/prelude28-06/maj3_up_m-12-15.bekrn\n",
            "grandstaff_dataset/chopin/preludes/prelude28-06/maj2_up_m-10-15.bekrn\n",
            "grandstaff_dataset/chopin/preludes/prelude28-06/min3_up_m-12-15.bekrn\n",
            "grandstaff_dataset/chopin/preludes/prelude28-06/maj3_up_m-3-6.bekrn\n",
            "grandstaff_dataset/chopin/preludes/prelude28-06/maj2_down_m-24-28.bekrn\n",
            "grandstaff_dataset/chopin/preludes/prelude28-06/maj3_down_m-21-24.bekrn\n",
            "grandstaff_dataset/chopin/preludes/prelude28-06/original_m-21-24.bekrn\n",
            "grandstaff_dataset/chopin/preludes/prelude28-06/min3_down_m-15-20.bekrn\n",
            "grandstaff_dataset/chopin/preludes/prelude28-06/maj2_down_m-8-12.bekrn\n",
            "grandstaff_dataset/chopin/preludes/prelude28-06/maj3_down_m-9-12.bekrn\n",
            "grandstaff_dataset/chopin/preludes/prelude28-06/maj2_up_m-15-20.bekrn\n",
            "grandstaff_dataset/chopin/preludes/prelude28-06/min3_down_m-0-5.bekrn\n",
            "grandstaff_dataset/chopin/preludes/prelude28-06/original_m-0-3.bekrn\n",
            "grandstaff_dataset/chopin/preludes/prelude28-06/maj3_down_m-15-18.bekrn\n",
            "grandstaff_dataset/chopin/preludes/prelude28-06/maj3_down_m-3-6.bekrn\n",
            "grandstaff_dataset/chopin/preludes/prelude28-06/min3_down_m-10-15.bekrn\n",
            "grandstaff_dataset/chopin/preludes/prelude28-13/maj3_down_m-29-33.bekrn\n",
            "grandstaff_dataset/chopin/preludes/prelude28-13/maj2_down_m-16-21.bekrn\n",
            "grandstaff_dataset/chopin/preludes/prelude28-13/min3_down_m-16-21.bekrn\n",
            "grandstaff_dataset/chopin/preludes/prelude28-13/maj3_down_m-1-5.bekrn\n",
            "grandstaff_dataset/chopin/preludes/prelude28-13/original_m-16-19.bekrn\n",
            "grandstaff_dataset/chopin/preludes/prelude28-13/maj3_down_m-37-41.bekrn\n",
            "grandstaff_dataset/chopin/preludes/prelude28-13/min3_down_m-36-41.bekrn\n",
            "grandstaff_dataset/chopin/preludes/prelude28-13/min3_up_m-26-31.bekrn\n",
            "grandstaff_dataset/chopin/preludes/prelude28-13/maj2_down_m-21-26.bekrn\n",
            "grandstaff_dataset/chopin/preludes/prelude28-13/maj2_down_m-1-6.bekrn\n",
            "grandstaff_dataset/chopin/preludes/prelude28-13/maj2_up_m-33-37.bekrn\n",
            "grandstaff_dataset/chopin/preludes/prelude28-13/maj2_up_m-17-21.bekrn\n",
            "grandstaff_dataset/chopin/preludes/prelude28-13/original_m-28-31.bekrn\n",
            "grandstaff_dataset/chopin/preludes/prelude28-13/original_m-19-22.bekrn\n",
            "grandstaff_dataset/chopin/preludes/prelude28-13/maj2_down_m-6-11.bekrn\n",
            "grandstaff_dataset/chopin/preludes/prelude28-13/maj3_down_m-17-21.bekrn\n",
            "grandstaff_dataset/chopin/preludes/prelude28-13/maj3_up_m-29-33.bekrn\n",
            "grandstaff_dataset/chopin/preludes/prelude28-13/maj3_down_m-33-37.bekrn\n",
            "grandstaff_dataset/chopin/preludes/prelude28-13/maj3_down_m-21-25.bekrn\n",
            "grandstaff_dataset/chopin/preludes/prelude28-13/maj3_up_m-37-41.bekrn\n",
            "grandstaff_dataset/chopin/preludes/prelude28-13/min3_up_m-31-36.bekrn\n",
            "grandstaff_dataset/chopin/preludes/prelude28-13/maj2_down_m-31-36.bekrn\n",
            "grandstaff_dataset/chopin/preludes/prelude28-13/maj3_up_m-21-25.bekrn\n",
            "grandstaff_dataset/chopin/preludes/prelude28-13/maj2_up_m-1-5.bekrn\n",
            "grandstaff_dataset/chopin/preludes/prelude28-13/maj2_down_m-26-31.bekrn\n",
            "grandstaff_dataset/chopin/preludes/prelude28-13/maj3_up_m-17-21.bekrn\n",
            "grandstaff_dataset/chopin/preludes/prelude28-13/original_m-37-40.bekrn\n",
            "grandstaff_dataset/chopin/preludes/prelude28-13/min3_up_m-16-21.bekrn\n",
            "grandstaff_dataset/chopin/preludes/prelude28-13/min3_down_m-26-31.bekrn\n",
            "grandstaff_dataset/chopin/preludes/prelude28-13/min3_down_m-1-6.bekrn\n",
            "grandstaff_dataset/chopin/preludes/prelude28-13/maj3_up_m-33-37.bekrn\n",
            "grandstaff_dataset/chopin/preludes/prelude28-13/maj2_up_m-37-41.bekrn\n",
            "grandstaff_dataset/chopin/preludes/prelude28-13/min3_down_m-21-26.bekrn\n",
            "grandstaff_dataset/chopin/preludes/prelude28-13/maj2_up_m-29-33.bekrn\n",
            "grandstaff_dataset/chopin/preludes/prelude28-13/original_m-22-25.bekrn\n",
            "grandstaff_dataset/chopin/preludes/prelude28-13/original_m-7-10.bekrn\n",
            "grandstaff_dataset/chopin/preludes/prelude28-13/maj2_up_m-21-25.bekrn\n",
            "grandstaff_dataset/chopin/preludes/prelude28-13/min3_up_m-21-26.bekrn\n",
            "grandstaff_dataset/chopin/preludes/prelude28-13/maj3_down_m-5-9.bekrn\n",
            "grandstaff_dataset/chopin/preludes/prelude28-13/maj2_up_m-5-9.bekrn\n",
            "grandstaff_dataset/chopin/preludes/prelude28-13/maj3_up_m-5-9.bekrn\n",
            "grandstaff_dataset/chopin/preludes/prelude28-13/maj3_down_m-25-29.bekrn\n",
            "grandstaff_dataset/chopin/preludes/prelude28-13/original_m-31-34.bekrn\n",
            "grandstaff_dataset/chopin/preludes/prelude28-13/original_m-25-28.bekrn\n",
            "grandstaff_dataset/chopin/preludes/prelude28-13/maj2_up_m-25-29.bekrn\n",
            "grandstaff_dataset/chopin/preludes/prelude28-13/min3_down_m-6-11.bekrn\n",
            "grandstaff_dataset/chopin/preludes/prelude28-13/original_m-1-4.bekrn\n",
            "grandstaff_dataset/chopin/preludes/prelude28-13/original_m-4-7.bekrn\n",
            "grandstaff_dataset/chopin/preludes/prelude28-13/min3_up_m-1-6.bekrn\n",
            "grandstaff_dataset/chopin/preludes/prelude28-13/maj2_down_m-36-41.bekrn\n",
            "grandstaff_dataset/chopin/preludes/prelude28-13/min3_up_m-36-41.bekrn\n",
            "grandstaff_dataset/chopin/preludes/prelude28-13/min3_up_m-6-11.bekrn\n",
            "grandstaff_dataset/chopin/preludes/prelude28-13/min3_down_m-31-36.bekrn\n",
            "grandstaff_dataset/chopin/preludes/prelude28-13/original_m-34-37.bekrn\n",
            "grandstaff_dataset/chopin/preludes/prelude28-13/maj3_up_m-25-29.bekrn\n",
            "grandstaff_dataset/chopin/preludes/prelude28-13/maj3_up_m-1-5.bekrn\n",
            "grandstaff_dataset/chopin/preludes/prelude28-04/maj2_down_m-4-8.bekrn\n",
            "grandstaff_dataset/chopin/preludes/prelude28-04/min3_up_m-5-10.bekrn\n",
            "grandstaff_dataset/chopin/preludes/prelude28-04/maj3_up_m-20-24.bekrn\n",
            "grandstaff_dataset/chopin/preludes/prelude28-04/min3_down_m-6-9.bekrn\n",
            "grandstaff_dataset/chopin/preludes/prelude28-04/min3_up_m-20-25.bekrn\n",
            "grandstaff_dataset/chopin/preludes/prelude28-04/maj3_up_m-12-16.bekrn\n",
            "grandstaff_dataset/chopin/preludes/prelude28-04/maj3_down_m-24-27.bekrn\n",
            "grandstaff_dataset/chopin/preludes/prelude28-04/maj2_up_m-20-24.bekrn\n",
            "grandstaff_dataset/chopin/preludes/prelude28-04/maj3_up_m-0-4.bekrn\n",
            "grandstaff_dataset/chopin/preludes/prelude28-04/min3_up_m-25-30.bekrn\n",
            "grandstaff_dataset/chopin/preludes/prelude28-04/maj2_up_m-4-8.bekrn\n",
            "grandstaff_dataset/chopin/preludes/prelude28-04/original_m-20-24.bekrn\n",
            "grandstaff_dataset/chopin/preludes/prelude28-04/maj2_down_m-20-24.bekrn\n",
            "grandstaff_dataset/chopin/preludes/prelude28-04/maj2_up_m-0-4.bekrn\n",
            "grandstaff_dataset/chopin/preludes/prelude28-04/min3_up_m-0-5.bekrn\n",
            "grandstaff_dataset/chopin/preludes/prelude28-04/maj2_down_m-0-4.bekrn\n",
            "grandstaff_dataset/chopin/preludes/prelude28-04/maj3_up_m-24-28.bekrn\n",
            "grandstaff_dataset/chopin/preludes/prelude28-04/maj3_up_m-4-8.bekrn\n",
            "grandstaff_dataset/chopin/preludes/prelude28-04/min3_down_m-15-18.bekrn\n",
            "grandstaff_dataset/chopin/preludes/prelude28-04/maj3_down_m-12-15.bekrn\n",
            "grandstaff_dataset/chopin/preludes/prelude28-04/min3_down_m-24-27.bekrn\n",
            "grandstaff_dataset/chopin/preludes/prelude28-04/maj3_down_m-6-9.bekrn\n",
            "grandstaff_dataset/chopin/preludes/prelude28-04/maj3_down_m-0-3.bekrn\n",
            "grandstaff_dataset/chopin/preludes/prelude28-04/min3_down_m-0-3.bekrn\n",
            "grandstaff_dataset/chopin/preludes/prelude28-04/min3_down_m-3-6.bekrn\n",
            "grandstaff_dataset/chopin/preludes/prelude28-04/maj2_up_m-24-28.bekrn\n",
            "grandstaff_dataset/chopin/preludes/prelude28-04/original_m-12-16.bekrn\n",
            "grandstaff_dataset/chopin/preludes/prelude28-04/maj2_down_m-12-16.bekrn\n",
            "grandstaff_dataset/chopin/preludes/prelude28-04/original_m-24-28.bekrn\n",
            "grandstaff_dataset/chopin/preludes/prelude28-04/maj2_up_m-12-16.bekrn\n",
            "grandstaff_dataset/chopin/preludes/prelude28-04/maj2_down_m-24-28.bekrn\n",
            "grandstaff_dataset/chopin/preludes/prelude28-04/maj3_down_m-21-24.bekrn\n",
            "grandstaff_dataset/chopin/preludes/prelude28-04/original_m-0-4.bekrn\n",
            "grandstaff_dataset/chopin/preludes/prelude28-04/min3_down_m-12-15.bekrn\n",
            "grandstaff_dataset/chopin/preludes/prelude28-04/min3_down_m-21-24.bekrn\n",
            "grandstaff_dataset/chopin/preludes/prelude28-04/original_m-4-8.bekrn\n",
            "grandstaff_dataset/chopin/preludes/prelude28-04/maj3_down_m-15-18.bekrn\n",
            "grandstaff_dataset/chopin/preludes/prelude28-04/maj3_down_m-3-6.bekrn\n",
            "grandstaff_dataset/chopin/preludes/prelude28-20/maj2_down_m-4-8.bekrn\n",
            "grandstaff_dataset/chopin/preludes/prelude28-20/maj2_up_m-3-6.bekrn\n",
            "grandstaff_dataset/chopin/preludes/prelude28-20/maj2_up_m-9-12.bekrn\n",
            "grandstaff_dataset/chopin/preludes/prelude28-20/min3_up_m-5-10.bekrn\n",
            "grandstaff_dataset/chopin/preludes/prelude28-20/min3_down_m-6-9.bekrn\n",
            "grandstaff_dataset/chopin/preludes/prelude28-20/maj3_up_m-10-15.bekrn\n",
            "grandstaff_dataset/chopin/preludes/prelude28-20/maj3_up_m-5-10.bekrn\n",
            "grandstaff_dataset/chopin/preludes/prelude28-20/maj3_up_m-0-5.bekrn\n",
            "grandstaff_dataset/chopin/preludes/prelude28-20/maj3_down_m-0-5.bekrn\n",
            "grandstaff_dataset/chopin/preludes/prelude28-20/min3_up_m-0-5.bekrn\n",
            "grandstaff_dataset/chopin/preludes/prelude28-20/maj2_down_m-0-4.bekrn\n",
            "grandstaff_dataset/chopin/preludes/prelude28-20/maj3_down_m-5-10.bekrn\n",
            "grandstaff_dataset/chopin/preludes/prelude28-20/maj3_down_m-10-15.bekrn\n",
            "grandstaff_dataset/chopin/preludes/prelude28-20/maj2_up_m-6-9.bekrn\n",
            "grandstaff_dataset/chopin/preludes/prelude28-20/min3_down_m-0-3.bekrn\n",
            "grandstaff_dataset/chopin/preludes/prelude28-20/min3_down_m-3-6.bekrn\n",
            "grandstaff_dataset/chopin/preludes/prelude28-20/maj2_up_m-12-15.bekrn\n",
            "grandstaff_dataset/chopin/preludes/prelude28-20/min3_up_m-10-15.bekrn\n",
            "grandstaff_dataset/chopin/preludes/prelude28-20/original_m-12-16.bekrn\n",
            "grandstaff_dataset/chopin/preludes/prelude28-20/maj2_down_m-12-16.bekrn\n",
            "grandstaff_dataset/chopin/preludes/prelude28-20/maj2_up_m-0-3.bekrn\n",
            "grandstaff_dataset/chopin/preludes/prelude28-20/original_m-8-12.bekrn\n",
            "grandstaff_dataset/chopin/preludes/prelude28-20/original_m-0-4.bekrn\n",
            "grandstaff_dataset/chopin/preludes/prelude28-20/min3_down_m-12-15.bekrn\n",
            "grandstaff_dataset/chopin/preludes/prelude28-20/maj2_down_m-8-12.bekrn\n",
            "grandstaff_dataset/chopin/preludes/prelude28-20/original_m-4-8.bekrn\n",
            "grandstaff_dataset/chopin/preludes/prelude28-20/min3_down_m-9-12.bekrn\n"
          ]
        }
      ],
      "source": [
        "#let's get the total number of samples from the dataset first\n",
        "sample_bekrn = [] #here, we're only interested in the bekern files (vs the krn files)\n",
        "\n",
        "for root, dirs, files in os.walk(\"grandstaff_dataset/\"):\n",
        "   for name in files:\n",
        "      if 'bekrn' in name:\n",
        "        print(os.path.join(root, name))\n",
        "        sample_bekrn.append(os.path.join(root, name))"
      ]
    },
    {
      "cell_type": "code",
      "execution_count": null,
      "metadata": {},
      "outputs": [],
      "source": [
        "len(sample_bekrn)"
      ]
    },
    {
      "cell_type": "code",
      "execution_count": null,
      "metadata": {
        "colab": {
          "base_uri": "https://localhost:8080/"
        },
        "id": "R6lDMuuhn6Hg",
        "outputId": "54522022-0ba8-4fb4-d129-e946ecb025f6"
      },
      "outputs": [
        {
          "data": {
            "text/plain": [
              "(32333.399999999998, 43111.200000000004)"
            ]
          },
          "execution_count": 18,
          "metadata": {},
          "output_type": "execute_result"
        }
      ],
      "source": [
        "#let's split the train-val-test sets such that each are 60%, 20%, and 20% of all the 53889 samples we have\n",
        "train_pt, val_pt = len(sample_bekrn)*0.6, len(sample_bekrn)*0.8\n",
        "train_pt, val_pt"
      ]
    },
    {
      "cell_type": "code",
      "execution_count": null,
      "metadata": {
        "colab": {
          "base_uri": "https://localhost:8080/"
        },
        "id": "WKGlUEPHn6Hg",
        "outputId": "61c31b62-0add-4ce5-9044-60bbcf09d865"
      },
      "outputs": [
        {
          "data": {
            "text/plain": [
              "(32333, 10778, 10778)"
            ]
          },
          "execution_count": 19,
          "metadata": {},
          "output_type": "execute_result"
        }
      ],
      "source": [
        "#do the split and double check that it works as expected\n",
        "\n",
        "#shuffle the list beforehand just in case so there isn't any weird slant in the data between train vs. val vs. test (since it is possible that\n",
        "#beethoven snippets or diff from, say, scarletti)\n",
        "random.seed(0) #seed for reproducibility\n",
        "random.shuffle(sample_bekrn)\n",
        "\n",
        "#split the data into different sets\n",
        "train, val, test = sample_bekrn[:int(train_pt)], sample_bekrn[int(train_pt):int(val_pt)], sample_bekrn[int(val_pt):]\n",
        "\n",
        "#and double check the size\n",
        "len(train), len(val), len(test)"
      ]
    },
    {
      "cell_type": "code",
      "execution_count": null,
      "metadata": {
        "id": "paHc4mAin6Hg"
      },
      "outputs": [],
      "source": [
        "#save the different dataset records to text files\n",
        "def write_testset_files(data, file_name):\n",
        "  '''\n",
        "  Save the given data in a file determined by the file_name. Samples are separated by a new line.\n",
        "  '''\n",
        "  with open(f'{file_name}', 'w') as f:\n",
        "      for samp in data:\n",
        "          f.write(f\"{samp}\\n\")"
      ]
    },
    {
      "cell_type": "code",
      "execution_count": null,
      "metadata": {
        "id": "5Ht6QPW3n6Hg"
      },
      "outputs": [],
      "source": [
        "#save it for use later just in case\n",
        "write_testset_files(train, 'drive/MyDrive/train_shuffled.txt')\n",
        "write_testset_files(test, 'drive/MyDrive/test_shuffled.txt')\n",
        "write_testset_files(val, 'drive/MyDrive/val_shuffled.txt')"
      ]
    },
    {
      "cell_type": "markdown",
      "metadata": {
        "id": "MRi71roHVe0n"
      },
      "source": [
        "## How do multimodals do out of the box?"
      ]
    },
    {
      "cell_type": "code",
      "execution_count": null,
      "metadata": {
        "id": "cTKYoqDy9qH2"
      },
      "outputs": [],
      "source": [
        "### let's test a popular vision-language model from salesforce called blip.\n",
        "### It seems to mostly be used for tasks like image-captioning, but mayeb we can train it to treat the sequence of musical notes as the 'caption'?"
      ]
    },
    {
      "cell_type": "code",
      "execution_count": null,
      "metadata": {
        "colab": {
          "base_uri": "https://localhost:8080/"
        },
        "id": "vcZt5VAWXt6H",
        "outputId": "49b5e5aa-8be1-4407-b2a6-578881b4a3f1"
      },
      "outputs": [
        {
          "name": "stderr",
          "output_type": "stream",
          "text": [
            "/usr/local/lib/python3.10/dist-packages/huggingface_hub/utils/_token.py:89: UserWarning: \n",
            "The secret `HF_TOKEN` does not exist in your Colab secrets.\n",
            "To authenticate with the Hugging Face Hub, create a token in your settings tab (https://huggingface.co/settings/tokens), set it as secret in your Google Colab and restart your session.\n",
            "You will be able to reuse this secret in all of your notebooks.\n",
            "Please note that authentication is recommended but still optional to access public models or datasets.\n",
            "  warnings.warn(\n",
            "/usr/local/lib/python3.10/dist-packages/transformers/generation/utils.py:1178: UserWarning: Using the model-agnostic default `max_length` (=20) to control the generation length. We recommend setting `max_new_tokens` to control the maximum length of the generation.\n",
            "  warnings.warn(\n"
          ]
        },
        {
          "name": "stdout",
          "output_type": "stream",
          "text": [
            "a list of music symbols starting with the symbol for the letter f\n",
            "a black and white image of a musical score with notes\n"
          ]
        }
      ],
      "source": [
        "#this cell block is from huggingface documentation for BLIP\n",
        "processor = BlipProcessor.from_pretrained(\"Salesforce/blip-image-captioning-large\")\n",
        "model = BlipForConditionalGeneration.from_pretrained(\"Salesforce/blip-image-captioning-large\").to(\"cuda\")\n",
        "\n",
        "img_url = 'grandstaff_dataset/beethoven/piano-sonatas/sonata31-2/maj2_down_m-1-5.jpg' #a random jpg image from our data\n",
        "raw_image = Image.open(img_url).convert('RGB')\n",
        "\n",
        "# conditional image captioning\n",
        "text = \"a list of music symbols starting with the symbol for \" #i tested a number of different leading texts here but none worked well\n",
        "inputs = processor(raw_image, text, return_tensors=\"pt\").to(\"cuda\", torch.float16)\n",
        "\n",
        "out = model.generate(**inputs)\n",
        "print(processor.decode(out[0], skip_special_tokens=True))\n",
        "\n",
        "# unconditional image captioning\n",
        "inputs = processor([raw_image, raw_image], return_tensors=\"pt\").to(\"cuda\", torch.float16) #sent the raw_image in twice just to sanity check that batched outputs are in the shape and have the content I expect\n",
        "\n",
        "out = model.generate(**inputs)\n",
        "print(processor.decode(out[0], skip_special_tokens=True))"
      ]
    },
    {
      "cell_type": "code",
      "execution_count": null,
      "metadata": {
        "id": "c0GHo108-PIu"
      },
      "outputs": [],
      "source": [
        "## the above is not really unreasonable but it's not useful nor specific enough. let's try finetuning to see if the model can do better?"
      ]
    },
    {
      "cell_type": "markdown",
      "metadata": {
        "id": "pcnNy8BfeI_Z"
      },
      "source": [
        "## Finetuning BLIP"
      ]
    },
    {
      "cell_type": "code",
      "execution_count": null,
      "metadata": {
        "id": "Fp44kcNRVHUA"
      },
      "outputs": [],
      "source": [
        "torch.cuda.empty_cache() #run to help free up a bit of memory if i'm out of it"
      ]
    },
    {
      "cell_type": "code",
      "execution_count": null,
      "metadata": {
        "id": "vQC8WyzUZoVe"
      },
      "outputs": [],
      "source": [
        "#ok, let's try finetuning and see if we can get better results that way\n",
        "class blip_music_dataset(torch.utils.data.Dataset):\n",
        "    '''\n",
        "    Make a music dataset object that can be then used as input for the BLIP model.\n",
        "    '''\n",
        "    def __init__(self, data_path, processor, poliphonic_formatted_gt, transforms=None):\n",
        "        '''\n",
        "        Constructor class.\n",
        "        Args:\n",
        "          data_path (str): the path to the data for which we want to create a Dataset object\n",
        "          processor (obj): the img-text processor for inputs that are intended for blip\n",
        "          poliphonic_formatted_gt (list): the list of processed ground truth text labels (processed by the Poliphonic dataset beforehand)\n",
        "          transforms (dict): optional image transformations applied before the image is sent to the processor and blip\n",
        "        '''\n",
        "        #set up the inputs\n",
        "        self.data_path=data_path\n",
        "        self.processor=processor\n",
        "        self.gt = poliphonic_formatted_gt\n",
        "        if transforms:\n",
        "          self.transforms = transforms\n",
        "        else:\n",
        "          self.transforms = None\n",
        "\n",
        "        #read in the sample file paths in the data file\n",
        "        self.sample_paths = []\n",
        "        with open(self.data_path, 'r') as f:\n",
        "          for line in f:\n",
        "            self.sample_paths.append(line)\n",
        "\n",
        "        #run a sweep to make sure there are no paths that coudl cause errors later\n",
        "        self.check_exists()\n",
        "\n",
        "    def check_exists(self):\n",
        "      '''\n",
        "      With this particular grandstaff_dataset source, there appear to be a few missing image files (i.e. bekrn exists but no jpg.).\n",
        "      This function roots them out so as not to cause errors when __getitem__ is called.\n",
        "      '''\n",
        "      with open(self.data_path) as f:\n",
        "        for line in f:\n",
        "          new = line.split('.')[0]+'.jpg'\n",
        "          if os.path.exists(new) == False:\n",
        "            print(f\"Could not locate image file for: {new}\")\n",
        "            self.sample_paths.remove(line)\n",
        "\n",
        "    def __len__(self):\n",
        "      '''\n",
        "      Get the number of samples in the dataset.\n",
        "\n",
        "      Returns:\n",
        "        int: the length/size of the dataset\n",
        "      '''\n",
        "      return len(self.sample_paths)\n",
        "\n",
        "    def __getitem__(self, idx):\n",
        "      '''\n",
        "      Retrieve processed sample from dataset\n",
        "\n",
        "      Args:\n",
        "        idx (int): the index of the sample within the dataset\n",
        "      Returns:\n",
        "        encoding (dict): dictionary of information about the dataset, including pixel_values, labels, attention_mask\n",
        "      '''\n",
        "\n",
        "      #get the image pixels\n",
        "      img_path = self.sample_paths[idx].split('.')[0] + '.jpg'\n",
        "      raw_image = Image.open(img_path).convert('RGB')\n",
        "      if self.transforms:\n",
        "        raw_image = self.transforms(raw_image)\n",
        "\n",
        "      #labels\n",
        "      labels = \"\".join(self.gt[idx])\n",
        "\n",
        "      #send it to the blip processor (due to model + gpu constraints, I'm going to allow for truncation)\n",
        "      encoding = self.processor(images=raw_image, text=labels, max_length=None, padding='max_length', truncation=True, return_tensors=\"pt\")\n",
        "\n",
        "      # remove batch dimension (this was taken from huggingface documentation)\n",
        "      encoding = {k:v.squeeze() for k,v in encoding.items()}\n",
        "\n",
        "      return encoding"
      ]
    },
    {
      "cell_type": "code",
      "execution_count": null,
      "metadata": {
        "colab": {
          "base_uri": "https://localhost:8080/"
        },
        "id": "DHMdvzxBwthf",
        "outputId": "007106c1-5c54-4249-8694-53b32e58b2fb"
      },
      "outputs": [
        {
          "name": "stdout",
          "output_type": "stream",
          "text": [
            "Could not locate image file for: grandstaff_dataset/mozart/piano-sonatas/sonata15-2/.jpg\n",
            "Could not locate image file for: grandstaff_dataset/mozart/piano-sonatas/sonata03-1/.jpg\n",
            "Could not locate image file for: grandstaff_dataset/hummel/preludes/prelude67-01/.jpg\n",
            "Could not locate image file for: grandstaff_dataset/hummel/preludes/prelude67-01/.jpg\n",
            "Could not locate image file for: grandstaff_dataset/chopin/mazurkas/mazurka30-4/.jpg\n",
            "Could not locate image file for: grandstaff_dataset/mozart/piano-sonatas/sonata06-3e/.jpg\n",
            "Could not locate image file for: grandstaff_dataset/chopin/mazurkas/mazurka41-2/.jpg\n"
          ]
        }
      ],
      "source": [
        "#make datasets and dataloaders. I kept the batch size=2 because I kept running out of cuda memory later on in the training loop if batch size > 2\n",
        "train_dataset_blip = blip_music_dataset('drive/MyDrive/train_shuffled.txt', processor, train_dataset.get_gt(), transforms=None)\n",
        "train_dataloader_blip = DataLoader(train_dataset_blip, shuffle=True, batch_size=2)\n",
        "\n",
        "val_dataset_blip = blip_music_dataset('drive/MyDrive/val_shuffled.txt', processor, val_dataset.get_gt(), transforms=None)\n",
        "val_dataloader_blip = DataLoader(val_dataset_blip, shuffle=True, batch_size=2)\n",
        "\n",
        "test_dataset_blip = blip_music_dataset('drive/MyDrive/test_shuffled.txt', processor, test_dataset.get_gt(), transforms=None)\n",
        "test_dataloader_blip = DataLoader(test_dataset_blip, shuffle=True, batch_size=2)\n"
      ]
    },
    {
      "cell_type": "code",
      "execution_count": null,
      "metadata": {
        "colab": {
          "base_uri": "https://localhost:8080/"
        },
        "id": "nWZZDc9Q8wLP",
        "outputId": "21c15613-5fe9-4e8e-8f7f-35eaef0f4c57"
      },
      "outputs": [
        {
          "data": {
            "text/plain": [
              "False"
            ]
          },
          "execution_count": 103,
          "metadata": {},
          "output_type": "execute_result"
        }
      ],
      "source": [
        "#note: it looks like from above that the extra '/' before '.jpg' is causing the path error but even after removing those, I could not find any associated image files\n",
        "#therefore, I'm just removing them since there aren't a lot (7 bekrn paths that caused errors)\n",
        "#as an example:\n",
        "os.path.exists(\"grandstaff_dataset/chopin/mazurkas/mazurka41-2.jpg\")"
      ]
    },
    {
      "cell_type": "code",
      "execution_count": null,
      "metadata": {
        "colab": {
          "base_uri": "https://localhost:8080/"
        },
        "id": "v9hpDM8OAWgp",
        "outputId": "9091e3fc-bfa7-44b4-bd42-cb5f542fb085"
      },
      "outputs": [
        {
          "data": {
            "text/plain": [
              "tensor([[ 101, 1008, 1008,  ..., 1028, 1012,  102],\n",
              "        [ 101, 1008, 1008,  ..., 2497, 1026,  102]])"
            ]
          },
          "execution_count": 14,
          "metadata": {},
          "output_type": "execute_result"
        }
      ],
      "source": [
        "#double check what the format of a sample looks like + that it looks as expected, esp. if it was just read in in this session\n",
        "test = next(iter(train_dataloader_blip))['input_ids']\n",
        "test"
      ]
    },
    {
      "cell_type": "markdown",
      "metadata": {},
      "source": [
        "Now let's load in the metric we want to use later: Word Error Rate.\n",
        "\n",
        "This (roughly) measures the number of \"errors\" -- where errors is defined as differences between what was predicted and the ground truth reference --\n",
        "(e.g., deletions, substitutions, insertions, etc.) divided by the number of words in the reference. The higher the WER value, the worse the match; WER = 0 indicates a perfect generation/prediction.\n",
        "\n",
        "We picked this metric over others for many reasons. It is sensitive to exact matches of words as well as the order of the words (which rouge-n, another popular image-captioning metric, does not always appear to be), and allows for more reasonable flexibility than other metrics like f1/precision/recall for our use case."
      ]
    },
    {
      "cell_type": "code",
      "execution_count": null,
      "metadata": {
        "id": "vhm7noflcIKh"
      },
      "outputs": [],
      "source": [
        "wer = evaluate.load('wer')"
      ]
    },
    {
      "cell_type": "markdown",
      "metadata": {},
      "source": [
        "Note: to avoid unfairly penalizing the model during WER eval, we put in a section below to truncate the ground truth label to 500 tokens if need be\n",
        "for the purposes of wer evaluation only. "
      ]
    },
    {
      "cell_type": "code",
      "execution_count": null,
      "metadata": {
        "colab": {
          "base_uri": "https://localhost:8080/"
        },
        "id": "eDe6k_K6yCvt",
        "outputId": "a1e80a4a-838f-489a-99ff-53cdaf60ac5f"
      },
      "outputs": [
        {
          "name": "stdout",
          "output_type": "stream",
          "text": [
            "Epoch: 0\n"
          ]
        },
        {
          "name": "stderr",
          "output_type": "stream",
          "text": [
            "\r  0%|          | 0/16165 [00:00<?, ?it/s]"
          ]
        },
        {
          "name": "stdout",
          "output_type": "stream",
          "text": [
            "train loss: 6.785060882568359\n"
          ]
        },
        {
          "name": "stderr",
          "output_type": "stream",
          "text": [
            "\r  0%|          | 1/16165 [00:01<8:13:39,  1.83s/it]"
          ]
        },
        {
          "name": "stdout",
          "output_type": "stream",
          "text": [
            "This was the generated caption: ['there are many birds sitting on a wire with music notes', 'arafed wire with birds sitting on it']\n",
            "This was the true caption: ['* * ekern _ 1. 0 < t > * * ekern _ 1. 0 < b > * cleff4 < t > * clefg2 < b > * k [ b - ] < t > * k [ b - ] < b > * m3 / 4 < t > * m3 / 4 < b > = - < t > = - < b > 4cc < t > 8. ddl < b >. < t > 16ccjk < b > 4c < s > 4e < s > 4b - < t > 4b - < b > 4c < s > 4e < s > 4b - < t > 8al < b >. < t > 8gj < b > = < t > = < b > 4ff < t > 8fl < b >. < t > 8gj < b > 4c < s > 4f < s > 4a < t > 4a < b > 4c < s > 4f < s > 4a < t > 8al < b >. < t > 8b - j < b > = < t > = < b > 4cc < t > 8ddl < b >. < t > 16r < b >. < t > 16ccjk < b > 4c < s > 4e < s > 4b - < t > 4b - < b > 4c < s > 4e < s > 4b - < t > 8al < b >. < t > 8gj < b > = < t > = < b > * ^ < t > * < b > 4ff < < t > 4r < t > 8fl < b >. < t >. < t > 8gj < b > 4f < s > 4a < t > 8cl < t > 2a < b >. < t > 8c # j < t >. < b > 4r < t > 4d < s > 4f < s > 4a < t >. < b > * v < t > * v < t > * < b > = < t > = < b > 4d < s > 4e < s > 4a < t > 8gl < b >. < t > 8fj < b > 4d < s > 4g < s > 4a < t > 4e < b > 4d < s', '* * ekern _ 1. 0 < t > * * ekern _ 1. 0 < b > * cleff4 < t > * clefg2 < b > * k [ f # c # g # d # a # e # ] < t > * k [ f # c # g # d # a # e # ] < b > * m6 / 8 < t > * m6 / 8 < b > = - < t > = - < b > 8c # l < t > 4r < b > 16f # l < t >. < b > 16g # j < t >. < b > 8bj < t > 8r < b > 8dl < t > 4r < b > 16f # l < t >. < b > 16g # j < t >. < b > 8b < s > 8gg # j < t > 8r < b > = < t > = < b > 8c # l < t > 4r < b > 16f # l < t >. < b > 16g # j < t >. < b > 8bj < t > 8r < b > 8dl < t > 4r < b > 16f # l < t >. < b > 16g # j < t >. < b > 8b < s > 8gg # j < t > 8r < b > = < t > = < b > 16c # ll < t > 4r < b > 16f # < t >. < b > 16g # < t >. < b > 16bj < t >. < b > 8e # j < t > 8bb < b > 4. f # < t > 8aal < b >. < t > 8ff # < b >. < t > 8ccc # j < b > = < t > = < b > 4. bb < s > 4. b < t > 8ddd # l < b >. < t > 8bb < b >. < t > 8gg # j [ < b > 4. c # < s > 4. c # < t > 8gg # l ] < b >. < t > 8ff # < b >. < t > 8ee # j < b > = < t > = < b > * - < t']\n",
            "Step 1 -- wer: 1.0\n",
            "train loss: 9.154265403747559\n"
          ]
        },
        {
          "name": "stderr",
          "output_type": "stream",
          "text": [
            "\r  0%|          | 2/16165 [00:03<8:11:10,  1.82s/it]"
          ]
        },
        {
          "name": "stdout",
          "output_type": "stream",
          "text": [
            "train loss: 6.565906524658203\n"
          ]
        },
        {
          "name": "stderr",
          "output_type": "stream",
          "text": [
            "\r  0%|          | 3/16165 [00:05<8:05:50,  1.80s/it]"
          ]
        },
        {
          "name": "stdout",
          "output_type": "stream",
          "text": [
            "train loss: 5.567357063293457\n"
          ]
        },
        {
          "name": "stderr",
          "output_type": "stream",
          "text": [
            "\r  0%|          | 4/16165 [00:07<8:09:52,  1.82s/it]"
          ]
        },
        {
          "name": "stdout",
          "output_type": "stream",
          "text": [
            "train loss: 6.604998588562012\n"
          ]
        },
        {
          "name": "stderr",
          "output_type": "stream",
          "text": [
            "\r  0%|          | 5/16165 [00:09<8:13:59,  1.83s/it]"
          ]
        },
        {
          "name": "stdout",
          "output_type": "stream",
          "text": [
            "train loss: 5.291231155395508\n"
          ]
        },
        {
          "name": "stderr",
          "output_type": "stream",
          "text": [
            "\r  0%|          | 6/16165 [00:10<8:12:16,  1.83s/it]"
          ]
        },
        {
          "name": "stdout",
          "output_type": "stream",
          "text": [
            "train loss: 5.168936729431152\n"
          ]
        },
        {
          "name": "stderr",
          "output_type": "stream",
          "text": [
            "\r  0%|          | 7/16165 [00:12<8:13:14,  1.83s/it]"
          ]
        },
        {
          "name": "stdout",
          "output_type": "stream",
          "text": [
            "train loss: 5.511659622192383\n"
          ]
        },
        {
          "name": "stderr",
          "output_type": "stream",
          "text": [
            "\r  0%|          | 8/16165 [00:14<8:13:35,  1.83s/it]"
          ]
        },
        {
          "name": "stdout",
          "output_type": "stream",
          "text": [
            "train loss: 4.920980453491211\n"
          ]
        },
        {
          "name": "stderr",
          "output_type": "stream",
          "text": [
            "\r  0%|          | 9/16165 [00:16<8:12:47,  1.83s/it]"
          ]
        },
        {
          "name": "stdout",
          "output_type": "stream",
          "text": [
            "train loss: 4.43996000289917\n"
          ]
        },
        {
          "name": "stderr",
          "output_type": "stream",
          "text": [
            "\r  0%|          | 10/16165 [00:18<8:12:35,  1.83s/it]"
          ]
        },
        {
          "name": "stdout",
          "output_type": "stream",
          "text": [
            "train loss: 4.05305290222168\n"
          ]
        },
        {
          "name": "stderr",
          "output_type": "stream",
          "text": [
            "\r  0%|          | 11/16165 [00:20<8:13:11,  1.83s/it]"
          ]
        },
        {
          "name": "stdout",
          "output_type": "stream",
          "text": [
            "train loss: 4.8976874351501465\n"
          ]
        },
        {
          "name": "stderr",
          "output_type": "stream",
          "text": [
            "\r  0%|          | 12/16165 [00:21<8:12:05,  1.83s/it]"
          ]
        },
        {
          "name": "stdout",
          "output_type": "stream",
          "text": [
            "train loss: 4.694485664367676\n"
          ]
        },
        {
          "name": "stderr",
          "output_type": "stream",
          "text": [
            "\r  0%|          | 13/16165 [00:23<8:11:04,  1.82s/it]"
          ]
        },
        {
          "name": "stdout",
          "output_type": "stream",
          "text": [
            "train loss: 4.11912202835083\n"
          ]
        },
        {
          "name": "stderr",
          "output_type": "stream",
          "text": [
            "\r  0%|          | 14/16165 [00:25<8:11:38,  1.83s/it]"
          ]
        },
        {
          "name": "stdout",
          "output_type": "stream",
          "text": [
            "train loss: 4.386322021484375\n"
          ]
        },
        {
          "name": "stderr",
          "output_type": "stream",
          "text": [
            "\r  0%|          | 15/16165 [00:27<8:14:27,  1.84s/it]"
          ]
        },
        {
          "name": "stdout",
          "output_type": "stream",
          "text": [
            "train loss: 7.187243461608887\n"
          ]
        },
        {
          "name": "stderr",
          "output_type": "stream",
          "text": [
            "\r  0%|          | 16/16165 [00:29<8:17:54,  1.85s/it]"
          ]
        },
        {
          "name": "stdout",
          "output_type": "stream",
          "text": [
            "train loss: 5.810055732727051\n"
          ]
        },
        {
          "name": "stderr",
          "output_type": "stream",
          "text": [
            "\r  0%|          | 17/16165 [00:31<8:20:42,  1.86s/it]"
          ]
        },
        {
          "name": "stdout",
          "output_type": "stream",
          "text": [
            "train loss: 3.824472188949585\n"
          ]
        },
        {
          "name": "stderr",
          "output_type": "stream",
          "text": [
            "\r  0%|          | 18/16165 [00:32<8:13:19,  1.83s/it]"
          ]
        },
        {
          "name": "stdout",
          "output_type": "stream",
          "text": [
            "train loss: 3.294266939163208\n"
          ]
        },
        {
          "name": "stderr",
          "output_type": "stream",
          "text": [
            "\r  0%|          | 19/16165 [00:34<8:08:21,  1.81s/it]"
          ]
        },
        {
          "name": "stdout",
          "output_type": "stream",
          "text": [
            "train loss: 3.881500244140625\n"
          ]
        },
        {
          "name": "stderr",
          "output_type": "stream",
          "text": [
            "\r  0%|          | 20/16165 [00:36<8:08:58,  1.82s/it]"
          ]
        },
        {
          "name": "stdout",
          "output_type": "stream",
          "text": [
            "train loss: 4.423997402191162\n"
          ]
        },
        {
          "name": "stderr",
          "output_type": "stream",
          "text": [
            "\r  0%|          | 21/16165 [00:38<8:09:48,  1.82s/it]"
          ]
        },
        {
          "name": "stdout",
          "output_type": "stream",
          "text": [
            "train loss: 3.69490909576416\n"
          ]
        },
        {
          "name": "stderr",
          "output_type": "stream",
          "text": [
            "\r  0%|          | 22/16165 [00:40<8:15:40,  1.84s/it]"
          ]
        },
        {
          "name": "stdout",
          "output_type": "stream",
          "text": [
            "train loss: 4.680509090423584\n"
          ]
        },
        {
          "name": "stderr",
          "output_type": "stream",
          "text": [
            "\r  0%|          | 23/16165 [00:42<8:17:52,  1.85s/it]"
          ]
        },
        {
          "name": "stdout",
          "output_type": "stream",
          "text": [
            "train loss: 3.910386562347412\n"
          ]
        },
        {
          "name": "stderr",
          "output_type": "stream",
          "text": [
            "\r  0%|          | 24/16165 [00:43<8:15:00,  1.84s/it]"
          ]
        },
        {
          "name": "stdout",
          "output_type": "stream",
          "text": [
            "train loss: 3.2180047035217285\n"
          ]
        },
        {
          "name": "stderr",
          "output_type": "stream",
          "text": [
            "\r  0%|          | 25/16165 [00:45<8:17:37,  1.85s/it]"
          ]
        },
        {
          "name": "stdout",
          "output_type": "stream",
          "text": [
            "train loss: 3.052232265472412\n"
          ]
        },
        {
          "name": "stderr",
          "output_type": "stream",
          "text": [
            "\r  0%|          | 26/16165 [00:47<8:20:34,  1.86s/it]"
          ]
        },
        {
          "name": "stdout",
          "output_type": "stream",
          "text": [
            "train loss: 3.3935508728027344\n"
          ]
        },
        {
          "name": "stderr",
          "output_type": "stream",
          "text": [
            "\r  0%|          | 27/16165 [00:49<8:15:25,  1.84s/it]"
          ]
        },
        {
          "name": "stdout",
          "output_type": "stream",
          "text": [
            "train loss: 3.4846038818359375\n"
          ]
        },
        {
          "name": "stderr",
          "output_type": "stream",
          "text": [
            "\r  0%|          | 28/16165 [00:51<8:11:23,  1.83s/it]"
          ]
        },
        {
          "name": "stdout",
          "output_type": "stream",
          "text": [
            "train loss: 3.227027654647827\n"
          ]
        },
        {
          "name": "stderr",
          "output_type": "stream",
          "text": [
            "\r  0%|          | 29/16165 [00:53<8:14:21,  1.84s/it]"
          ]
        },
        {
          "name": "stdout",
          "output_type": "stream",
          "text": [
            "train loss: 2.836740016937256\n"
          ]
        },
        {
          "name": "stderr",
          "output_type": "stream",
          "text": [
            "\r  0%|          | 30/16165 [00:55<8:16:32,  1.85s/it]"
          ]
        },
        {
          "name": "stdout",
          "output_type": "stream",
          "text": [
            "train loss: 2.9687929153442383\n"
          ]
        },
        {
          "name": "stderr",
          "output_type": "stream",
          "text": [
            "\r  0%|          | 31/16165 [00:56<8:13:33,  1.84s/it]"
          ]
        },
        {
          "name": "stdout",
          "output_type": "stream",
          "text": [
            "train loss: 3.7637314796447754\n"
          ]
        },
        {
          "name": "stderr",
          "output_type": "stream",
          "text": [
            "\r  0%|          | 32/16165 [00:58<8:11:10,  1.83s/it]"
          ]
        },
        {
          "name": "stdout",
          "output_type": "stream",
          "text": [
            "train loss: 2.8456239700317383\n"
          ]
        },
        {
          "name": "stderr",
          "output_type": "stream",
          "text": [
            "\r  0%|          | 33/16165 [01:00<8:12:53,  1.83s/it]"
          ]
        },
        {
          "name": "stdout",
          "output_type": "stream",
          "text": [
            "train loss: 3.324714183807373\n"
          ]
        },
        {
          "name": "stderr",
          "output_type": "stream",
          "text": [
            "\r  0%|          | 34/16165 [01:12<21:15:56,  4.75s/it]"
          ]
        },
        {
          "name": "stdout",
          "output_type": "stream",
          "text": [
            "train loss: 2.5086212158203125\n"
          ]
        },
        {
          "name": "stderr",
          "output_type": "stream",
          "text": [
            "\r  0%|          | 35/16165 [01:23<30:11:30,  6.74s/it]"
          ]
        },
        {
          "name": "stdout",
          "output_type": "stream",
          "text": [
            "train loss: 2.3986659049987793\n"
          ]
        },
        {
          "name": "stderr",
          "output_type": "stream",
          "text": [
            "\r  0%|          | 36/16165 [01:34<36:33:03,  8.16s/it]"
          ]
        },
        {
          "name": "stdout",
          "output_type": "stream",
          "text": [
            "train loss: 2.5228724479675293\n"
          ]
        },
        {
          "name": "stderr",
          "output_type": "stream",
          "text": [
            "\r  0%|          | 37/16165 [01:46<41:05:21,  9.17s/it]"
          ]
        },
        {
          "name": "stdout",
          "output_type": "stream",
          "text": [
            "train loss: 3.9952316284179688\n"
          ]
        },
        {
          "name": "stderr",
          "output_type": "stream",
          "text": [
            "\r  0%|          | 38/16165 [01:48<31:18:03,  6.99s/it]"
          ]
        },
        {
          "name": "stdout",
          "output_type": "stream",
          "text": [
            "train loss: 2.686800956726074\n"
          ]
        },
        {
          "name": "stderr",
          "output_type": "stream",
          "text": [
            "\r  0%|          | 39/16165 [01:50<24:27:45,  5.46s/it]"
          ]
        },
        {
          "name": "stdout",
          "output_type": "stream",
          "text": [
            "train loss: 2.8970258235931396\n"
          ]
        },
        {
          "name": "stderr",
          "output_type": "stream",
          "text": [
            "\r  0%|          | 40/16165 [01:52<19:37:16,  4.38s/it]"
          ]
        },
        {
          "name": "stdout",
          "output_type": "stream",
          "text": [
            "train loss: 2.2818715572357178\n"
          ]
        },
        {
          "name": "stderr",
          "output_type": "stream",
          "text": [
            "\r  0%|          | 41/16165 [02:03<29:15:00,  6.53s/it]"
          ]
        },
        {
          "name": "stdout",
          "output_type": "stream",
          "text": [
            "train loss: 2.1446077823638916\n"
          ]
        },
        {
          "name": "stderr",
          "output_type": "stream",
          "text": [
            "\r  0%|          | 42/16165 [02:15<35:57:34,  8.03s/it]"
          ]
        },
        {
          "name": "stdout",
          "output_type": "stream",
          "text": [
            "train loss: 2.179285764694214\n"
          ]
        },
        {
          "name": "stderr",
          "output_type": "stream",
          "text": [
            "\r  0%|          | 43/16165 [02:26<40:37:19,  9.07s/it]"
          ]
        },
        {
          "name": "stdout",
          "output_type": "stream",
          "text": [
            "train loss: 2.423391819000244\n"
          ]
        },
        {
          "name": "stderr",
          "output_type": "stream",
          "text": [
            "\r  0%|          | 44/16165 [02:38<43:50:16,  9.79s/it]"
          ]
        },
        {
          "name": "stdout",
          "output_type": "stream",
          "text": [
            "train loss: 1.9432594776153564\n"
          ]
        },
        {
          "name": "stderr",
          "output_type": "stream",
          "text": [
            "\r  0%|          | 45/16165 [02:49<46:04:26, 10.29s/it]"
          ]
        },
        {
          "name": "stdout",
          "output_type": "stream",
          "text": [
            "train loss: 3.2182183265686035\n"
          ]
        },
        {
          "name": "stderr",
          "output_type": "stream",
          "text": [
            "\r  0%|          | 46/16165 [02:51<34:42:12,  7.75s/it]"
          ]
        },
        {
          "name": "stdout",
          "output_type": "stream",
          "text": [
            "train loss: 2.52327299118042\n"
          ]
        },
        {
          "name": "stderr",
          "output_type": "stream",
          "text": [
            "\r  0%|          | 47/16165 [02:53<26:45:38,  5.98s/it]"
          ]
        },
        {
          "name": "stdout",
          "output_type": "stream",
          "text": [
            "train loss: 2.8417258262634277\n"
          ]
        },
        {
          "name": "stderr",
          "output_type": "stream",
          "text": [
            "\r  0%|          | 48/16165 [02:55<21:07:25,  4.72s/it]"
          ]
        },
        {
          "name": "stdout",
          "output_type": "stream",
          "text": [
            "train loss: 1.890350580215454\n"
          ]
        },
        {
          "name": "stderr",
          "output_type": "stream",
          "text": [
            "\r  0%|          | 49/16165 [02:56<17:10:45,  3.84s/it]"
          ]
        },
        {
          "name": "stdout",
          "output_type": "stream",
          "text": [
            "train loss: 2.3629534244537354\n"
          ]
        },
        {
          "name": "stderr",
          "output_type": "stream",
          "text": [
            "\r  0%|          | 50/16165 [02:58<14:30:39,  3.24s/it]"
          ]
        },
        {
          "name": "stdout",
          "output_type": "stream",
          "text": [
            "train loss: 2.0641233921051025\n"
          ]
        },
        {
          "name": "stderr",
          "output_type": "stream",
          "text": [
            "\r  0%|          | 51/16165 [03:00<12:37:40,  2.82s/it]"
          ]
        },
        {
          "name": "stdout",
          "output_type": "stream",
          "text": [
            "train loss: 3.091564416885376\n"
          ]
        },
        {
          "name": "stderr",
          "output_type": "stream",
          "text": [
            "\r  0%|          | 52/16165 [03:11<24:14:03,  5.41s/it]"
          ]
        },
        {
          "name": "stdout",
          "output_type": "stream",
          "text": [
            "train loss: 2.1313843727111816\n"
          ]
        },
        {
          "name": "stderr",
          "output_type": "stream",
          "text": [
            "\r  0%|          | 53/16165 [03:13<19:20:53,  4.32s/it]"
          ]
        },
        {
          "name": "stdout",
          "output_type": "stream",
          "text": [
            "train loss: 2.2723867893218994\n"
          ]
        },
        {
          "name": "stderr",
          "output_type": "stream",
          "text": [
            "\r  0%|          | 54/16165 [03:15<15:58:04,  3.57s/it]"
          ]
        },
        {
          "name": "stdout",
          "output_type": "stream",
          "text": [
            "train loss: 2.035977363586426\n"
          ]
        },
        {
          "name": "stderr",
          "output_type": "stream",
          "text": [
            "\r  0%|          | 55/16165 [03:17<13:40:17,  3.06s/it]"
          ]
        },
        {
          "name": "stdout",
          "output_type": "stream",
          "text": [
            "train loss: 1.6723631620407104\n"
          ]
        },
        {
          "name": "stderr",
          "output_type": "stream",
          "text": [
            "\r  0%|          | 56/16165 [03:19<12:03:59,  2.70s/it]"
          ]
        },
        {
          "name": "stdout",
          "output_type": "stream",
          "text": [
            "train loss: 1.8318439722061157\n"
          ]
        },
        {
          "name": "stderr",
          "output_type": "stream",
          "text": [
            "\r  0%|          | 57/16165 [03:21<10:52:06,  2.43s/it]"
          ]
        },
        {
          "name": "stdout",
          "output_type": "stream",
          "text": [
            "train loss: 2.0938332080841064\n"
          ]
        },
        {
          "name": "stderr",
          "output_type": "stream",
          "text": [
            "\r  0%|          | 58/16165 [03:22<10:02:28,  2.24s/it]"
          ]
        },
        {
          "name": "stdout",
          "output_type": "stream",
          "text": [
            "train loss: 3.266624689102173\n"
          ]
        },
        {
          "name": "stderr",
          "output_type": "stream",
          "text": [
            "\r  0%|          | 59/16165 [03:24<9:27:01,  2.11s/it] "
          ]
        },
        {
          "name": "stdout",
          "output_type": "stream",
          "text": [
            "train loss: 1.7110854387283325\n"
          ]
        },
        {
          "name": "stderr",
          "output_type": "stream",
          "text": [
            "\r  0%|          | 60/16165 [03:26<9:07:48,  2.04s/it]"
          ]
        },
        {
          "name": "stdout",
          "output_type": "stream",
          "text": [
            "train loss: 1.8245793581008911\n"
          ]
        },
        {
          "name": "stderr",
          "output_type": "stream",
          "text": [
            "\r  0%|          | 61/16165 [03:28<8:52:20,  1.98s/it]"
          ]
        },
        {
          "name": "stdout",
          "output_type": "stream",
          "text": [
            "train loss: 1.7319635152816772\n"
          ]
        },
        {
          "name": "stderr",
          "output_type": "stream",
          "text": [
            "\r  0%|          | 62/16165 [03:30<8:41:08,  1.94s/it]"
          ]
        },
        {
          "name": "stdout",
          "output_type": "stream",
          "text": [
            "train loss: 1.5398319959640503\n"
          ]
        },
        {
          "name": "stderr",
          "output_type": "stream",
          "text": [
            "\r  0%|          | 63/16165 [03:32<8:33:28,  1.91s/it]"
          ]
        },
        {
          "name": "stdout",
          "output_type": "stream",
          "text": [
            "train loss: 1.9368301630020142\n"
          ]
        },
        {
          "name": "stderr",
          "output_type": "stream",
          "text": [
            "\r  0%|          | 64/16165 [03:33<8:24:57,  1.88s/it]"
          ]
        },
        {
          "name": "stdout",
          "output_type": "stream",
          "text": [
            "train loss: 1.9492976665496826\n"
          ]
        },
        {
          "name": "stderr",
          "output_type": "stream",
          "text": [
            "\r  0%|          | 65/16165 [03:35<8:19:22,  1.86s/it]"
          ]
        },
        {
          "name": "stdout",
          "output_type": "stream",
          "text": [
            "train loss: 1.6573718786239624\n"
          ]
        },
        {
          "name": "stderr",
          "output_type": "stream",
          "text": [
            "\r  0%|          | 66/16165 [03:37<8:13:10,  1.84s/it]"
          ]
        },
        {
          "name": "stdout",
          "output_type": "stream",
          "text": [
            "train loss: 1.8093254566192627\n"
          ]
        },
        {
          "name": "stderr",
          "output_type": "stream",
          "text": [
            "\r  0%|          | 67/16165 [03:39<8:09:38,  1.82s/it]"
          ]
        },
        {
          "name": "stdout",
          "output_type": "stream",
          "text": [
            "train loss: 1.6470898389816284\n"
          ]
        },
        {
          "name": "stderr",
          "output_type": "stream",
          "text": [
            "\r  0%|          | 68/16165 [03:41<8:08:00,  1.82s/it]"
          ]
        },
        {
          "name": "stdout",
          "output_type": "stream",
          "text": [
            "train loss: 1.6058018207550049\n"
          ]
        },
        {
          "name": "stderr",
          "output_type": "stream",
          "text": [
            "\r  0%|          | 69/16165 [03:42<8:06:34,  1.81s/it]"
          ]
        },
        {
          "name": "stdout",
          "output_type": "stream",
          "text": [
            "train loss: 1.704673171043396\n"
          ]
        },
        {
          "name": "stderr",
          "output_type": "stream",
          "text": [
            "\r  0%|          | 70/16165 [03:44<8:06:16,  1.81s/it]"
          ]
        },
        {
          "name": "stdout",
          "output_type": "stream",
          "text": [
            "train loss: 2.0907840728759766\n"
          ]
        },
        {
          "name": "stderr",
          "output_type": "stream",
          "text": [
            "\r  0%|          | 71/16165 [03:46<8:04:45,  1.81s/it]"
          ]
        },
        {
          "name": "stdout",
          "output_type": "stream",
          "text": [
            "train loss: 1.7495744228363037\n"
          ]
        },
        {
          "name": "stderr",
          "output_type": "stream",
          "text": [
            "\r  0%|          | 72/16165 [03:48<8:04:47,  1.81s/it]"
          ]
        },
        {
          "name": "stdout",
          "output_type": "stream",
          "text": [
            "train loss: 1.6342225074768066\n"
          ]
        },
        {
          "name": "stderr",
          "output_type": "stream",
          "text": [
            "\r  0%|          | 73/16165 [03:50<8:03:55,  1.80s/it]"
          ]
        },
        {
          "name": "stdout",
          "output_type": "stream",
          "text": [
            "train loss: 1.7480543851852417\n"
          ]
        },
        {
          "name": "stderr",
          "output_type": "stream",
          "text": [
            "\r  0%|          | 74/16165 [03:51<8:02:11,  1.80s/it]"
          ]
        },
        {
          "name": "stdout",
          "output_type": "stream",
          "text": [
            "train loss: 1.6019563674926758\n"
          ]
        },
        {
          "name": "stderr",
          "output_type": "stream",
          "text": [
            "\r  0%|          | 75/16165 [03:53<8:03:52,  1.80s/it]"
          ]
        },
        {
          "name": "stdout",
          "output_type": "stream",
          "text": [
            "train loss: 1.5597256422042847\n"
          ]
        },
        {
          "name": "stderr",
          "output_type": "stream",
          "text": [
            "\r  0%|          | 76/16165 [03:55<8:03:59,  1.80s/it]"
          ]
        },
        {
          "name": "stdout",
          "output_type": "stream",
          "text": [
            "train loss: 1.6267222166061401\n"
          ]
        },
        {
          "name": "stderr",
          "output_type": "stream",
          "text": [
            "\r  0%|          | 77/16165 [04:07<21:04:10,  4.71s/it]"
          ]
        },
        {
          "name": "stdout",
          "output_type": "stream",
          "text": [
            "train loss: 1.60991370677948\n"
          ]
        },
        {
          "name": "stderr",
          "output_type": "stream",
          "text": [
            "\r  0%|          | 78/16165 [04:18<30:10:20,  6.75s/it]"
          ]
        },
        {
          "name": "stdout",
          "output_type": "stream",
          "text": [
            "train loss: 1.4873415231704712\n"
          ]
        },
        {
          "name": "stderr",
          "output_type": "stream",
          "text": [
            "\r  0%|          | 79/16165 [04:30<36:29:23,  8.17s/it]"
          ]
        },
        {
          "name": "stdout",
          "output_type": "stream",
          "text": [
            "train loss: 1.671089768409729\n"
          ]
        },
        {
          "name": "stderr",
          "output_type": "stream",
          "text": [
            "\r  0%|          | 80/16165 [04:41<40:56:06,  9.16s/it]"
          ]
        },
        {
          "name": "stdout",
          "output_type": "stream",
          "text": [
            "train loss: 1.7359634637832642\n"
          ]
        },
        {
          "name": "stderr",
          "output_type": "stream",
          "text": [
            "\r  1%|          | 81/16165 [04:53<44:06:52,  9.87s/it]"
          ]
        },
        {
          "name": "stdout",
          "output_type": "stream",
          "text": [
            "train loss: 1.5214803218841553\n"
          ]
        },
        {
          "name": "stderr",
          "output_type": "stream",
          "text": [
            "\r  1%|          | 82/16165 [05:04<46:18:26, 10.37s/it]"
          ]
        },
        {
          "name": "stdout",
          "output_type": "stream",
          "text": [
            "train loss: 1.4153013229370117\n"
          ]
        },
        {
          "name": "stderr",
          "output_type": "stream",
          "text": [
            "\r  1%|          | 83/16165 [05:16<47:50:41, 10.71s/it]"
          ]
        },
        {
          "name": "stdout",
          "output_type": "stream",
          "text": [
            "train loss: 1.906777262687683\n"
          ]
        },
        {
          "name": "stderr",
          "output_type": "stream",
          "text": [
            "\r  1%|          | 84/16165 [05:27<48:54:42, 10.95s/it]"
          ]
        },
        {
          "name": "stdout",
          "output_type": "stream",
          "text": [
            "train loss: 1.4221693277359009\n"
          ]
        },
        {
          "name": "stderr",
          "output_type": "stream",
          "text": [
            "\r  1%|          | 85/16165 [05:39<49:41:28, 11.12s/it]"
          ]
        },
        {
          "name": "stdout",
          "output_type": "stream",
          "text": [
            "train loss: 1.5409469604492188\n"
          ]
        },
        {
          "name": "stderr",
          "output_type": "stream",
          "text": [
            "\r  1%|          | 86/16165 [05:50<50:13:29, 11.25s/it]"
          ]
        },
        {
          "name": "stdout",
          "output_type": "stream",
          "text": [
            "train loss: 1.4928981065750122\n"
          ]
        },
        {
          "name": "stderr",
          "output_type": "stream",
          "text": [
            "\r  1%|          | 87/16165 [06:02<50:34:46, 11.33s/it]"
          ]
        },
        {
          "name": "stdout",
          "output_type": "stream",
          "text": [
            "train loss: 1.300754427909851\n"
          ]
        },
        {
          "name": "stderr",
          "output_type": "stream",
          "text": [
            "\r  1%|          | 88/16165 [06:13<50:50:07, 11.38s/it]"
          ]
        },
        {
          "name": "stdout",
          "output_type": "stream",
          "text": [
            "train loss: 1.8629893064498901\n"
          ]
        },
        {
          "name": "stderr",
          "output_type": "stream",
          "text": [
            "\r  1%|          | 89/16165 [06:25<50:58:41, 11.42s/it]"
          ]
        },
        {
          "name": "stdout",
          "output_type": "stream",
          "text": [
            "train loss: 1.6547787189483643\n"
          ]
        },
        {
          "name": "stderr",
          "output_type": "stream",
          "text": [
            "\r  1%|          | 90/16165 [06:36<51:03:48, 11.44s/it]"
          ]
        },
        {
          "name": "stdout",
          "output_type": "stream",
          "text": [
            "train loss: 1.845826506614685\n"
          ]
        },
        {
          "name": "stderr",
          "output_type": "stream",
          "text": [
            "\r  1%|          | 91/16165 [06:48<51:07:45, 11.45s/it]"
          ]
        },
        {
          "name": "stdout",
          "output_type": "stream",
          "text": [
            "train loss: 1.2426567077636719\n"
          ]
        },
        {
          "name": "stderr",
          "output_type": "stream",
          "text": [
            "\r  1%|          | 92/16165 [06:59<51:12:27, 11.47s/it]"
          ]
        },
        {
          "name": "stdout",
          "output_type": "stream",
          "text": [
            "train loss: 1.472185730934143\n"
          ]
        },
        {
          "name": "stderr",
          "output_type": "stream",
          "text": [
            "\r  1%|          | 93/16165 [07:11<51:15:18, 11.48s/it]"
          ]
        },
        {
          "name": "stdout",
          "output_type": "stream",
          "text": [
            "train loss: 1.507523536682129\n"
          ]
        },
        {
          "name": "stderr",
          "output_type": "stream",
          "text": [
            "\r  1%|          | 94/16165 [07:22<51:12:26, 11.47s/it]"
          ]
        },
        {
          "name": "stdout",
          "output_type": "stream",
          "text": [
            "train loss: 1.4616868495941162\n"
          ]
        },
        {
          "name": "stderr",
          "output_type": "stream",
          "text": [
            "\r  1%|          | 95/16165 [07:34<51:15:15, 11.48s/it]"
          ]
        },
        {
          "name": "stdout",
          "output_type": "stream",
          "text": [
            "train loss: 1.452836275100708\n"
          ]
        },
        {
          "name": "stderr",
          "output_type": "stream",
          "text": [
            "\r  1%|          | 96/16165 [07:45<51:17:26, 11.49s/it]"
          ]
        },
        {
          "name": "stdout",
          "output_type": "stream",
          "text": [
            "train loss: 1.4268378019332886\n"
          ]
        },
        {
          "name": "stderr",
          "output_type": "stream",
          "text": [
            "\r  1%|          | 97/16165 [07:57<51:20:05, 11.50s/it]"
          ]
        },
        {
          "name": "stdout",
          "output_type": "stream",
          "text": [
            "train loss: 1.5799334049224854\n"
          ]
        },
        {
          "name": "stderr",
          "output_type": "stream",
          "text": [
            "\r  1%|          | 98/16165 [08:08<51:19:57, 11.50s/it]"
          ]
        },
        {
          "name": "stdout",
          "output_type": "stream",
          "text": [
            "train loss: 1.4366884231567383\n"
          ]
        },
        {
          "name": "stderr",
          "output_type": "stream",
          "text": [
            "\r  1%|          | 99/16165 [08:20<51:22:18, 11.51s/it]"
          ]
        },
        {
          "name": "stdout",
          "output_type": "stream",
          "text": [
            "train loss: 1.478736400604248\n"
          ]
        },
        {
          "name": "stderr",
          "output_type": "stream",
          "text": [
            "\r  1%|          | 100/16165 [08:31<51:22:19, 11.51s/it]"
          ]
        },
        {
          "name": "stdout",
          "output_type": "stream",
          "text": [
            "train loss: 1.411198616027832\n"
          ]
        },
        {
          "name": "stderr",
          "output_type": "stream",
          "text": [
            "\r  1%|          | 101/16165 [08:43<51:20:06, 11.50s/it]"
          ]
        },
        {
          "name": "stdout",
          "output_type": "stream",
          "text": [
            "This was the generated caption: ['* * ekern _ 1 * 0 < t > * * ekern _ 1. 0 < b > * cleff4 < t > * clefg2 < t > * k [ f * k [ f * k [ f * k [ f * k [ f * k [ f * k [ f * k [ f * k [ f * k [ f * k [ f * ] < t > * k [ f * g < t > * ] < t > * ] < t > * k [ f * ] < t > * g * g * k [ f * g * g * < t > * g * k [ f * g * g * g * g * g * g * g * g * g * g * g * g * g * g * g * g * g * g * g * g * < t > * < t > * g * g * g * g * g * g * g * g * g * g * g * g * g * g * < t > * g * g * g * g * g * g * g * g * g * g * g * g * g * g * g * g * g * g * g * g * g * g * g * g * g * g * < t > * g * g * g * g * < t > * g * g * g * < t > * < t > * g * g * g * g * g * g * g * < t > * < t > * g * < t > * g * g * g * g * < t > * g * g * < t > * g * < t > * < t > * g * < t > * < t > * < t > * < t > * < t > * < t > * < t > * < t > * < t > * < t > * < t > * < t > * < t > * < t > * < t > * < t > * < t > * < t > * < t > * < t > * < t > * < t > * < t > * < t > * < t > * < t > * < t > * < t > * < t > * < t > * < t > * < t > * < t > * < t > * < t > *', '* * ekern _ 1 * 0 < t > * * ekern _ 1. 0 < b > * cleff4 < t > * clefg2 < t > * k [ f * k [ f * k [ f * k [ f * k [ f * k [ f * k [ f * k [ f * k [ f * k [ f * k [ f * ] < t > * k [ f * g < t > * ] < t > * ] < t > * k [ f * ] < t > * g * g * k [ f * g * g * < t > * g * k [ f * g * g * g * g * g * g * g * g * g * g * g * g * g * g * g * g * g * g * g * g * < t > * < t > * g * g * g * g * g * g * g * g * g * g * g * g * g * g * < t > * g * g * g * g * g * g * g * g * g * g * g * g * g * g * g * g * g * g * g * g * g * g * g * g * g * g * < t > * g * g * g * g * < t > * g * g * g * < t > * < t > * g * g * g * g * g * g * g * < t > * < t > * g * < t > * g * g * g * g * < t > * g * g * < t > * g * < t > * < t > * g * < t > * < t > * < t > * < t > * < t > * < t > * < t > * < t > * < t > * < t > * < t > * < t > * < t > * < t > * < t > * < t > * < t > * < t > * < t > * < t > * < t > * < t > * < t > * < t > * < t > * < t > * < t > * < t > * < t > * < t > * < t > * < t > * < t > * < t > * < t > *']\n",
            "This was the true caption: ['* * ekern _ 1. 0 < t > * * ekern _ 1. 0 < b > * < t > * ^ < b > * cleff4 < t > * clefg2 < t > * clefg2 < b > * k [ b - e - a - d - ] < t > * k [ b - e - a - d - ] < t > * k [ b - e - a - d - ] < b > * m2 / 2 < t > * m2 / 2 < t > * m2 / 2 < b > = - < t > = - < t > = - < b > 6g - < t > 2ee - < t > 2a - ] < b > 6e - < t >. < t >. < b > 6g - < t >. < t >. < b > 6e - < t > 2a - < t > 2a - [ < b > 6c < t >. < t >. < b > 6e - < t >. < t >. < b > = < t > = < t > = < b > 6f - < t > 2. dd - < t > 1a - _ < b > 6d - < t >. < t >. < b > 6f - < t >. < t >. < b > 6d - < t >. < t >. < b > 6aa - < t >. < t >. < b >. < t > 4ff - < t >. < b > 6d - < t >. < t >. < b > = < t > = < t > = < b > 6g - < t > 2ee - < t > 2a - ] < b > 6e - < t >. < t >. < b > 6g - < t >. < t >. < b > 6c < t > 2a - < t > 2a - [ < b > 6e - < t >. < t >. < b > 6c < t >. < t >. < b > = < t > = < t > = < b > 6d - < t > 2dd - < t > 1a - ] < b > 6f - < t >. < t >. < b > 6d - < t >. < t >. < b', '* * ekern _ 1. 0 < t > * * ekern _ 1. 0 < b > * cleff4 < t > * clefg2 < b > * k [ ] < t > * k [ ] < b > * m2 / 4 < t > * m2 / 4 < b > = - < t > = - < b > 16g # ll < t > 4b # < s > 4bb # < b > 16d # < t >. < b > 16d # < t >. < b > 16d # jj < t >. < b > 16g # ll < t > 8dd # < s > 8ddd # l < b > 16d # < t >. < b > 16d # < t > 8cc # < s > 8ccc # j < b > 16d # jj < t >. < b > = < t > = < b > 16f # # ll < t > 8b # < s > 8bb # l < b > 16d # < t >. < b > 16d # < t > 8a # < s > 8aa # j < b > 16d # jj < t >. < b > 16f # # ll < t > 8a # < s > 8aa # l < b > 16d # < t >. < b > 16g # # < t > 8b # < s > 8bb # j < b > 16d # jj < t >. < b > = < t > = < b > 16a # ll < t > 8cc # < s > 8ccc # l < b > 16d # < t >. < b > 16c # < t > 8ee # < s > 8eee # < b > 16d # jj < t >. < b > 16b # ll < t > 8dd # < s > 8ddd # j < b > 16d # < t >. < b > 16d # < s > 16a # < t > 8ff # # < s > 8fff # # < b > 16c # jj < t >. < b > = < t > = < b > 16g # < s > 16b # ll < t > 4gg # < s > 4ggg # < b > 16d # < t >. <']\n",
            "Step 101 -- wer: 0.9400192947395221\n",
            "train loss: 1.4289132356643677\n"
          ]
        },
        {
          "name": "stderr",
          "output_type": "stream",
          "text": [
            "\r  1%|          | 102/16165 [08:54<51:20:09, 11.51s/it]"
          ]
        },
        {
          "name": "stdout",
          "output_type": "stream",
          "text": [
            "train loss: 1.2774980068206787\n"
          ]
        },
        {
          "name": "stderr",
          "output_type": "stream",
          "text": [
            "\r  1%|          | 103/16165 [09:06<51:18:16, 11.50s/it]"
          ]
        },
        {
          "name": "stdout",
          "output_type": "stream",
          "text": [
            "train loss: 1.3346627950668335\n"
          ]
        },
        {
          "name": "stderr",
          "output_type": "stream",
          "text": [
            "\r  1%|          | 104/16165 [09:17<51:20:42, 11.51s/it]"
          ]
        },
        {
          "name": "stdout",
          "output_type": "stream",
          "text": [
            "train loss: 1.282429814338684\n"
          ]
        },
        {
          "name": "stderr",
          "output_type": "stream",
          "text": [
            "\r  1%|          | 105/16165 [09:29<51:20:26, 11.51s/it]"
          ]
        },
        {
          "name": "stdout",
          "output_type": "stream",
          "text": [
            "train loss: 1.4645605087280273\n"
          ]
        },
        {
          "name": "stderr",
          "output_type": "stream",
          "text": [
            "\r  1%|          | 106/16165 [09:40<51:18:28, 11.50s/it]"
          ]
        },
        {
          "name": "stdout",
          "output_type": "stream",
          "text": [
            "train loss: 1.4098286628723145\n"
          ]
        },
        {
          "name": "stderr",
          "output_type": "stream",
          "text": [
            "\r  1%|          | 107/16165 [09:52<51:15:27, 11.49s/it]"
          ]
        },
        {
          "name": "stdout",
          "output_type": "stream",
          "text": [
            "train loss: 1.346493124961853\n"
          ]
        },
        {
          "name": "stderr",
          "output_type": "stream",
          "text": [
            "\r  1%|          | 108/16165 [10:03<51:15:07, 11.49s/it]"
          ]
        },
        {
          "name": "stdout",
          "output_type": "stream",
          "text": [
            "train loss: 1.2513110637664795\n"
          ]
        },
        {
          "name": "stderr",
          "output_type": "stream",
          "text": [
            "\r  1%|          | 109/16165 [10:15<51:14:40, 11.49s/it]"
          ]
        },
        {
          "name": "stdout",
          "output_type": "stream",
          "text": [
            "train loss: 1.4049180746078491\n"
          ]
        },
        {
          "name": "stderr",
          "output_type": "stream",
          "text": [
            "\r  1%|          | 110/16165 [10:26<51:14:12, 11.49s/it]"
          ]
        },
        {
          "name": "stdout",
          "output_type": "stream",
          "text": [
            "train loss: 1.3986362218856812\n"
          ]
        },
        {
          "name": "stderr",
          "output_type": "stream",
          "text": [
            "\r  1%|          | 111/16165 [10:38<51:14:02, 11.49s/it]"
          ]
        },
        {
          "name": "stdout",
          "output_type": "stream",
          "text": [
            "train loss: 1.2847589254379272\n"
          ]
        },
        {
          "name": "stderr",
          "output_type": "stream",
          "text": [
            "\r  1%|          | 112/16165 [10:49<51:12:42, 11.48s/it]"
          ]
        },
        {
          "name": "stdout",
          "output_type": "stream",
          "text": [
            "train loss: 1.58637535572052\n"
          ]
        },
        {
          "name": "stderr",
          "output_type": "stream",
          "text": [
            "\r  1%|          | 113/16165 [11:01<51:11:41, 11.48s/it]"
          ]
        },
        {
          "name": "stdout",
          "output_type": "stream",
          "text": [
            "train loss: 1.4530786275863647\n"
          ]
        },
        {
          "name": "stderr",
          "output_type": "stream",
          "text": [
            "\r  1%|          | 114/16165 [11:12<51:10:06, 11.48s/it]"
          ]
        },
        {
          "name": "stdout",
          "output_type": "stream",
          "text": [
            "train loss: 1.1805167198181152\n"
          ]
        },
        {
          "name": "stderr",
          "output_type": "stream",
          "text": [
            "\r  1%|          | 115/16165 [11:23<51:08:51, 11.47s/it]"
          ]
        },
        {
          "name": "stdout",
          "output_type": "stream",
          "text": [
            "train loss: 1.7371546030044556\n"
          ]
        },
        {
          "name": "stderr",
          "output_type": "stream",
          "text": [
            "\r  1%|          | 116/16165 [11:35<51:08:17, 11.47s/it]"
          ]
        },
        {
          "name": "stdout",
          "output_type": "stream",
          "text": [
            "train loss: 1.510024070739746\n"
          ]
        },
        {
          "name": "stderr",
          "output_type": "stream",
          "text": [
            "\r  1%|          | 117/16165 [11:46<51:07:58, 11.47s/it]"
          ]
        },
        {
          "name": "stdout",
          "output_type": "stream",
          "text": [
            "train loss: 1.336954116821289\n"
          ]
        },
        {
          "name": "stderr",
          "output_type": "stream",
          "text": [
            "\r  1%|          | 118/16165 [11:58<51:07:18, 11.47s/it]"
          ]
        },
        {
          "name": "stdout",
          "output_type": "stream",
          "text": [
            "train loss: 1.2291557788848877\n"
          ]
        },
        {
          "name": "stderr",
          "output_type": "stream",
          "text": [
            "\r  1%|          | 119/16165 [12:09<51:08:19, 11.47s/it]"
          ]
        },
        {
          "name": "stdout",
          "output_type": "stream",
          "text": [
            "train loss: 1.2627068758010864\n"
          ]
        },
        {
          "name": "stderr",
          "output_type": "stream",
          "text": [
            "\r  1%|          | 120/16165 [12:21<51:07:57, 11.47s/it]"
          ]
        },
        {
          "name": "stdout",
          "output_type": "stream",
          "text": [
            "train loss: 1.352950096130371\n"
          ]
        },
        {
          "name": "stderr",
          "output_type": "stream",
          "text": [
            "\r  1%|          | 121/16165 [12:32<51:08:46, 11.48s/it]"
          ]
        },
        {
          "name": "stdout",
          "output_type": "stream",
          "text": [
            "train loss: 1.236096978187561\n"
          ]
        },
        {
          "name": "stderr",
          "output_type": "stream",
          "text": [
            "\r  1%|          | 122/16165 [12:44<51:08:17, 11.48s/it]"
          ]
        },
        {
          "name": "stdout",
          "output_type": "stream",
          "text": [
            "train loss: 1.329064965248108\n"
          ]
        },
        {
          "name": "stderr",
          "output_type": "stream",
          "text": [
            "\r  1%|          | 123/16165 [12:55<51:07:31, 11.47s/it]"
          ]
        },
        {
          "name": "stdout",
          "output_type": "stream",
          "text": [
            "train loss: 1.345861554145813\n"
          ]
        },
        {
          "name": "stderr",
          "output_type": "stream",
          "text": [
            "\r  1%|          | 124/16165 [13:07<51:06:47, 11.47s/it]"
          ]
        },
        {
          "name": "stdout",
          "output_type": "stream",
          "text": [
            "train loss: 1.414306879043579\n"
          ]
        },
        {
          "name": "stderr",
          "output_type": "stream",
          "text": [
            "\r  1%|          | 125/16165 [13:18<51:07:29, 11.47s/it]"
          ]
        },
        {
          "name": "stdout",
          "output_type": "stream",
          "text": [
            "train loss: 1.2459750175476074\n"
          ]
        },
        {
          "name": "stderr",
          "output_type": "stream",
          "text": [
            "\r  1%|          | 126/16165 [13:30<51:08:07, 11.48s/it]"
          ]
        },
        {
          "name": "stdout",
          "output_type": "stream",
          "text": [
            "train loss: 1.553471326828003\n"
          ]
        },
        {
          "name": "stderr",
          "output_type": "stream",
          "text": [
            "\r  1%|          | 127/16165 [13:41<51:12:11, 11.49s/it]"
          ]
        },
        {
          "name": "stdout",
          "output_type": "stream",
          "text": [
            "train loss: 1.3085546493530273\n"
          ]
        },
        {
          "name": "stderr",
          "output_type": "stream",
          "text": [
            "\r  1%|          | 128/16165 [13:53<51:14:55, 11.50s/it]"
          ]
        },
        {
          "name": "stdout",
          "output_type": "stream",
          "text": [
            "train loss: 1.3389090299606323\n"
          ]
        },
        {
          "name": "stderr",
          "output_type": "stream",
          "text": [
            "\r  1%|          | 129/16165 [14:04<51:13:42, 11.50s/it]"
          ]
        },
        {
          "name": "stdout",
          "output_type": "stream",
          "text": [
            "train loss: 1.2377700805664062\n"
          ]
        },
        {
          "name": "stderr",
          "output_type": "stream",
          "text": [
            "\r  1%|          | 130/16165 [14:16<51:13:58, 11.50s/it]"
          ]
        },
        {
          "name": "stdout",
          "output_type": "stream",
          "text": [
            "train loss: 1.414342999458313\n"
          ]
        },
        {
          "name": "stderr",
          "output_type": "stream",
          "text": [
            "\r  1%|          | 131/16165 [14:27<51:14:27, 11.50s/it]"
          ]
        },
        {
          "name": "stdout",
          "output_type": "stream",
          "text": [
            "train loss: 1.4466837644577026\n"
          ]
        },
        {
          "name": "stderr",
          "output_type": "stream",
          "text": [
            "\r  1%|          | 132/16165 [14:39<51:16:10, 11.51s/it]"
          ]
        },
        {
          "name": "stdout",
          "output_type": "stream",
          "text": [
            "train loss: 1.302763819694519\n"
          ]
        },
        {
          "name": "stderr",
          "output_type": "stream",
          "text": [
            "\r  1%|          | 133/16165 [14:50<51:14:14, 11.51s/it]"
          ]
        },
        {
          "name": "stdout",
          "output_type": "stream",
          "text": [
            "train loss: 1.2456114292144775\n"
          ]
        },
        {
          "name": "stderr",
          "output_type": "stream",
          "text": [
            "\r  1%|          | 134/16165 [15:02<51:16:07, 11.51s/it]"
          ]
        },
        {
          "name": "stdout",
          "output_type": "stream",
          "text": [
            "train loss: 1.2949347496032715\n"
          ]
        },
        {
          "name": "stderr",
          "output_type": "stream",
          "text": [
            "\r  1%|          | 135/16165 [15:13<51:14:03, 11.51s/it]"
          ]
        },
        {
          "name": "stdout",
          "output_type": "stream",
          "text": [
            "train loss: 1.2936718463897705\n"
          ]
        },
        {
          "name": "stderr",
          "output_type": "stream",
          "text": [
            "\r  1%|          | 136/16165 [15:25<51:12:49, 11.50s/it]"
          ]
        },
        {
          "name": "stdout",
          "output_type": "stream",
          "text": [
            "train loss: 1.1797266006469727\n"
          ]
        },
        {
          "name": "stderr",
          "output_type": "stream",
          "text": [
            "\r  1%|          | 137/16165 [15:36<51:13:05, 11.50s/it]"
          ]
        },
        {
          "name": "stdout",
          "output_type": "stream",
          "text": [
            "train loss: 1.2363743782043457\n"
          ]
        },
        {
          "name": "stderr",
          "output_type": "stream",
          "text": [
            "\r  1%|          | 138/16165 [15:48<51:13:11, 11.51s/it]"
          ]
        },
        {
          "name": "stdout",
          "output_type": "stream",
          "text": [
            "train loss: 1.3926244974136353\n"
          ]
        },
        {
          "name": "stderr",
          "output_type": "stream",
          "text": [
            "\r  1%|          | 139/16165 [15:59<51:14:24, 11.51s/it]"
          ]
        },
        {
          "name": "stdout",
          "output_type": "stream",
          "text": [
            "train loss: 1.2701929807662964\n"
          ]
        },
        {
          "name": "stderr",
          "output_type": "stream",
          "text": [
            "\r  1%|          | 140/16165 [16:11<51:11:17, 11.50s/it]"
          ]
        },
        {
          "name": "stdout",
          "output_type": "stream",
          "text": [
            "train loss: 1.177018165588379\n"
          ]
        },
        {
          "name": "stderr",
          "output_type": "stream",
          "text": [
            "\r  1%|          | 141/16165 [16:22<51:13:59, 11.51s/it]"
          ]
        },
        {
          "name": "stdout",
          "output_type": "stream",
          "text": [
            "train loss: 1.2385213375091553\n"
          ]
        },
        {
          "name": "stderr",
          "output_type": "stream",
          "text": [
            "\r  1%|          | 142/16165 [16:34<51:13:53, 11.51s/it]"
          ]
        },
        {
          "name": "stdout",
          "output_type": "stream",
          "text": [
            "train loss: 1.2808016538619995\n"
          ]
        },
        {
          "name": "stderr",
          "output_type": "stream",
          "text": [
            "\r  1%|          | 143/16165 [16:45<51:13:02, 11.51s/it]"
          ]
        },
        {
          "name": "stdout",
          "output_type": "stream",
          "text": [
            "train loss: 1.191558599472046\n"
          ]
        },
        {
          "name": "stderr",
          "output_type": "stream",
          "text": [
            "\r  1%|          | 144/16165 [16:57<51:14:14, 11.51s/it]"
          ]
        },
        {
          "name": "stdout",
          "output_type": "stream",
          "text": [
            "train loss: 1.22603440284729\n"
          ]
        },
        {
          "name": "stderr",
          "output_type": "stream",
          "text": [
            "\r  1%|          | 145/16165 [17:08<51:13:19, 11.51s/it]"
          ]
        },
        {
          "name": "stdout",
          "output_type": "stream",
          "text": [
            "train loss: 1.1429390907287598\n"
          ]
        },
        {
          "name": "stderr",
          "output_type": "stream",
          "text": [
            "\r  1%|          | 146/16165 [17:20<51:15:19, 11.52s/it]"
          ]
        },
        {
          "name": "stdout",
          "output_type": "stream",
          "text": [
            "train loss: 1.299393653869629\n"
          ]
        },
        {
          "name": "stderr",
          "output_type": "stream",
          "text": [
            "\r  1%|          | 147/16165 [17:31<51:11:14, 11.50s/it]"
          ]
        },
        {
          "name": "stdout",
          "output_type": "stream",
          "text": [
            "train loss: 1.2983863353729248\n"
          ]
        },
        {
          "name": "stderr",
          "output_type": "stream",
          "text": [
            "\r  1%|          | 148/16165 [17:43<51:08:01, 11.49s/it]"
          ]
        },
        {
          "name": "stdout",
          "output_type": "stream",
          "text": [
            "train loss: 1.1044694185256958\n"
          ]
        },
        {
          "name": "stderr",
          "output_type": "stream",
          "text": [
            "\r  1%|          | 149/16165 [17:54<51:07:09, 11.49s/it]"
          ]
        },
        {
          "name": "stdout",
          "output_type": "stream",
          "text": [
            "train loss: 1.130153775215149\n"
          ]
        },
        {
          "name": "stderr",
          "output_type": "stream",
          "text": [
            "\r  1%|          | 150/16165 [18:06<51:20:51, 11.54s/it]"
          ]
        },
        {
          "name": "stdout",
          "output_type": "stream",
          "text": [
            "train loss: 1.1724272966384888\n"
          ]
        },
        {
          "name": "stderr",
          "output_type": "stream",
          "text": [
            "\r  1%|          | 151/16165 [18:18<51:21:27, 11.55s/it]"
          ]
        },
        {
          "name": "stdout",
          "output_type": "stream",
          "text": [
            "train loss: 1.190872311592102\n"
          ]
        },
        {
          "name": "stderr",
          "output_type": "stream",
          "text": [
            "\r  1%|          | 152/16165 [18:29<51:17:17, 11.53s/it]"
          ]
        },
        {
          "name": "stdout",
          "output_type": "stream",
          "text": [
            "train loss: 1.0531201362609863\n"
          ]
        },
        {
          "name": "stderr",
          "output_type": "stream",
          "text": [
            "\r  1%|          | 153/16165 [18:41<51:13:59, 11.52s/it]"
          ]
        },
        {
          "name": "stdout",
          "output_type": "stream",
          "text": [
            "train loss: 1.1133413314819336\n"
          ]
        },
        {
          "name": "stderr",
          "output_type": "stream",
          "text": [
            "\r  1%|          | 154/16165 [18:52<51:11:26, 11.51s/it]"
          ]
        },
        {
          "name": "stdout",
          "output_type": "stream",
          "text": [
            "train loss: 1.235416293144226\n"
          ]
        },
        {
          "name": "stderr",
          "output_type": "stream",
          "text": [
            "\r  1%|          | 155/16165 [19:04<51:10:57, 11.51s/it]"
          ]
        },
        {
          "name": "stdout",
          "output_type": "stream",
          "text": [
            "train loss: 1.0119330883026123\n"
          ]
        },
        {
          "name": "stderr",
          "output_type": "stream",
          "text": [
            "\r  1%|          | 156/16165 [19:15<51:08:52, 11.50s/it]"
          ]
        },
        {
          "name": "stdout",
          "output_type": "stream",
          "text": [
            "train loss: 1.2120178937911987\n"
          ]
        },
        {
          "name": "stderr",
          "output_type": "stream",
          "text": [
            "\r  1%|          | 157/16165 [19:27<51:07:36, 11.50s/it]"
          ]
        },
        {
          "name": "stdout",
          "output_type": "stream",
          "text": [
            "train loss: 1.0886059999465942\n"
          ]
        },
        {
          "name": "stderr",
          "output_type": "stream",
          "text": [
            "\r  1%|          | 158/16165 [19:38<51:06:58, 11.50s/it]"
          ]
        },
        {
          "name": "stdout",
          "output_type": "stream",
          "text": [
            "train loss: 1.0553743839263916\n"
          ]
        },
        {
          "name": "stderr",
          "output_type": "stream",
          "text": [
            "\r  1%|          | 159/16165 [19:50<51:06:08, 11.49s/it]"
          ]
        },
        {
          "name": "stdout",
          "output_type": "stream",
          "text": [
            "train loss: 1.204396367073059\n"
          ]
        },
        {
          "name": "stderr",
          "output_type": "stream",
          "text": [
            "\r  1%|          | 160/16165 [20:01<51:05:15, 11.49s/it]"
          ]
        },
        {
          "name": "stdout",
          "output_type": "stream",
          "text": [
            "train loss: 1.0592732429504395\n"
          ]
        },
        {
          "name": "stderr",
          "output_type": "stream",
          "text": [
            "\r  1%|          | 161/16165 [20:13<51:09:48, 11.51s/it]"
          ]
        },
        {
          "name": "stdout",
          "output_type": "stream",
          "text": [
            "train loss: 1.1422297954559326\n"
          ]
        },
        {
          "name": "stderr",
          "output_type": "stream",
          "text": [
            "\r  1%|          | 162/16165 [20:24<51:15:03, 11.53s/it]"
          ]
        },
        {
          "name": "stdout",
          "output_type": "stream",
          "text": [
            "train loss: 1.1898399591445923\n"
          ]
        },
        {
          "name": "stderr",
          "output_type": "stream",
          "text": [
            "\r  1%|          | 163/16165 [20:36<51:17:09, 11.54s/it]"
          ]
        },
        {
          "name": "stdout",
          "output_type": "stream",
          "text": [
            "train loss: 1.0379115343093872\n"
          ]
        },
        {
          "name": "stderr",
          "output_type": "stream",
          "text": [
            "\r  1%|          | 164/16165 [20:47<51:16:21, 11.54s/it]"
          ]
        },
        {
          "name": "stdout",
          "output_type": "stream",
          "text": [
            "train loss: 1.0366129875183105\n"
          ]
        },
        {
          "name": "stderr",
          "output_type": "stream",
          "text": [
            "\r  1%|          | 165/16165 [20:59<51:24:07, 11.57s/it]"
          ]
        },
        {
          "name": "stdout",
          "output_type": "stream",
          "text": [
            "train loss: 1.2017405033111572\n"
          ]
        },
        {
          "name": "stderr",
          "output_type": "stream",
          "text": [
            "\r  1%|          | 166/16165 [21:10<51:26:00, 11.57s/it]"
          ]
        },
        {
          "name": "stdout",
          "output_type": "stream",
          "text": [
            "train loss: 1.207945466041565\n"
          ]
        },
        {
          "name": "stderr",
          "output_type": "stream",
          "text": [
            "\r  1%|          | 167/16165 [21:22<51:24:11, 11.57s/it]"
          ]
        },
        {
          "name": "stdout",
          "output_type": "stream",
          "text": [
            "train loss: 1.0332285165786743\n"
          ]
        },
        {
          "name": "stderr",
          "output_type": "stream",
          "text": [
            "\r  1%|          | 168/16165 [21:34<51:18:38, 11.55s/it]"
          ]
        },
        {
          "name": "stdout",
          "output_type": "stream",
          "text": [
            "train loss: 1.1726514101028442\n"
          ]
        },
        {
          "name": "stderr",
          "output_type": "stream",
          "text": [
            "\r  1%|          | 169/16165 [21:45<51:17:04, 11.54s/it]"
          ]
        },
        {
          "name": "stdout",
          "output_type": "stream",
          "text": [
            "train loss: 1.1108319759368896\n"
          ]
        },
        {
          "name": "stderr",
          "output_type": "stream",
          "text": [
            "\r  1%|          | 170/16165 [21:57<51:19:55, 11.55s/it]"
          ]
        },
        {
          "name": "stdout",
          "output_type": "stream",
          "text": [
            "train loss: 1.1846256256103516\n"
          ]
        },
        {
          "name": "stderr",
          "output_type": "stream",
          "text": [
            "\r  1%|          | 171/16165 [22:08<51:21:15, 11.56s/it]"
          ]
        },
        {
          "name": "stdout",
          "output_type": "stream",
          "text": [
            "train loss: 1.101175308227539\n"
          ]
        },
        {
          "name": "stderr",
          "output_type": "stream",
          "text": [
            "\r  1%|          | 172/16165 [22:20<51:34:10, 11.61s/it]"
          ]
        },
        {
          "name": "stdout",
          "output_type": "stream",
          "text": [
            "train loss: 1.1014795303344727\n"
          ]
        },
        {
          "name": "stderr",
          "output_type": "stream",
          "text": [
            "\r  1%|          | 173/16165 [22:32<51:34:49, 11.61s/it]"
          ]
        },
        {
          "name": "stdout",
          "output_type": "stream",
          "text": [
            "train loss: 1.024963617324829\n"
          ]
        },
        {
          "name": "stderr",
          "output_type": "stream",
          "text": [
            "\r  1%|          | 174/16165 [22:43<51:33:15, 11.61s/it]"
          ]
        },
        {
          "name": "stdout",
          "output_type": "stream",
          "text": [
            "train loss: 1.176780343055725\n"
          ]
        },
        {
          "name": "stderr",
          "output_type": "stream",
          "text": [
            "\r  1%|          | 175/16165 [22:55<52:14:55, 11.76s/it]"
          ]
        },
        {
          "name": "stdout",
          "output_type": "stream",
          "text": [
            "train loss: 1.1238194704055786\n"
          ]
        },
        {
          "name": "stderr",
          "output_type": "stream",
          "text": [
            "\r  1%|          | 176/16165 [23:07<52:31:04, 11.82s/it]"
          ]
        },
        {
          "name": "stdout",
          "output_type": "stream",
          "text": [
            "train loss: 1.1101021766662598\n"
          ]
        },
        {
          "name": "stderr",
          "output_type": "stream",
          "text": [
            "\r  1%|          | 177/16165 [23:19<52:19:12, 11.78s/it]"
          ]
        },
        {
          "name": "stdout",
          "output_type": "stream",
          "text": [
            "train loss: 1.0631252527236938\n"
          ]
        },
        {
          "name": "stderr",
          "output_type": "stream",
          "text": [
            "\r  1%|          | 178/16165 [23:30<52:02:41, 11.72s/it]"
          ]
        },
        {
          "name": "stdout",
          "output_type": "stream",
          "text": [
            "train loss: 1.2398301362991333\n"
          ]
        },
        {
          "name": "stderr",
          "output_type": "stream",
          "text": [
            "\r  1%|          | 179/16165 [23:42<51:50:56, 11.68s/it]"
          ]
        },
        {
          "name": "stdout",
          "output_type": "stream",
          "text": [
            "train loss: 1.329732894897461\n"
          ]
        },
        {
          "name": "stderr",
          "output_type": "stream",
          "text": [
            "\r  1%|          | 180/16165 [23:54<51:36:44, 11.62s/it]"
          ]
        },
        {
          "name": "stdout",
          "output_type": "stream",
          "text": [
            "train loss: 1.0501765012741089\n"
          ]
        },
        {
          "name": "stderr",
          "output_type": "stream",
          "text": [
            "\r  1%|          | 181/16165 [24:05<51:24:58, 11.58s/it]"
          ]
        },
        {
          "name": "stdout",
          "output_type": "stream",
          "text": [
            "train loss: 1.0510218143463135\n"
          ]
        },
        {
          "name": "stderr",
          "output_type": "stream",
          "text": [
            "\r  1%|          | 182/16165 [24:17<51:17:32, 11.55s/it]"
          ]
        },
        {
          "name": "stdout",
          "output_type": "stream",
          "text": [
            "train loss: 1.1235727071762085\n"
          ]
        },
        {
          "name": "stderr",
          "output_type": "stream",
          "text": [
            "\r  1%|          | 183/16165 [24:28<51:23:45, 11.58s/it]"
          ]
        },
        {
          "name": "stdout",
          "output_type": "stream",
          "text": [
            "train loss: 0.8601868748664856\n"
          ]
        },
        {
          "name": "stderr",
          "output_type": "stream",
          "text": [
            "\r  1%|          | 184/16165 [24:40<51:21:31, 11.57s/it]"
          ]
        },
        {
          "name": "stdout",
          "output_type": "stream",
          "text": [
            "train loss: 1.1207340955734253\n"
          ]
        },
        {
          "name": "stderr",
          "output_type": "stream",
          "text": [
            "\r  1%|          | 185/16165 [24:52<51:45:02, 11.66s/it]"
          ]
        },
        {
          "name": "stdout",
          "output_type": "stream",
          "text": [
            "train loss: 1.213465690612793\n"
          ]
        },
        {
          "name": "stderr",
          "output_type": "stream",
          "text": [
            "\r  1%|          | 186/16165 [25:03<51:58:41, 11.71s/it]"
          ]
        },
        {
          "name": "stdout",
          "output_type": "stream",
          "text": [
            "train loss: 0.9733908772468567\n"
          ]
        },
        {
          "name": "stderr",
          "output_type": "stream",
          "text": [
            "\r  1%|          | 187/16165 [25:15<51:50:50, 11.68s/it]"
          ]
        },
        {
          "name": "stdout",
          "output_type": "stream",
          "text": [
            "train loss: 1.1419981718063354\n"
          ]
        },
        {
          "name": "stderr",
          "output_type": "stream",
          "text": [
            "\r  1%|          | 188/16165 [25:27<51:38:15, 11.64s/it]"
          ]
        },
        {
          "name": "stdout",
          "output_type": "stream",
          "text": [
            "train loss: 1.2050844430923462\n"
          ]
        },
        {
          "name": "stderr",
          "output_type": "stream",
          "text": [
            "\r  1%|          | 189/16165 [25:38<51:46:24, 11.67s/it]"
          ]
        },
        {
          "name": "stdout",
          "output_type": "stream",
          "text": [
            "train loss: 0.9869406223297119\n"
          ]
        },
        {
          "name": "stderr",
          "output_type": "stream",
          "text": [
            "\r  1%|          | 190/16165 [25:50<51:36:47, 11.63s/it]"
          ]
        },
        {
          "name": "stdout",
          "output_type": "stream",
          "text": [
            "train loss: 1.053209662437439\n"
          ]
        },
        {
          "name": "stderr",
          "output_type": "stream",
          "text": [
            "\r  1%|          | 191/16165 [26:01<51:30:00, 11.61s/it]"
          ]
        },
        {
          "name": "stdout",
          "output_type": "stream",
          "text": [
            "train loss: 1.1133745908737183\n"
          ]
        },
        {
          "name": "stderr",
          "output_type": "stream",
          "text": [
            "\r  1%|          | 192/16165 [26:13<51:23:02, 11.58s/it]"
          ]
        },
        {
          "name": "stdout",
          "output_type": "stream",
          "text": [
            "train loss: 1.00644052028656\n"
          ]
        },
        {
          "name": "stderr",
          "output_type": "stream",
          "text": [
            "\r  1%|          | 193/16165 [26:24<51:17:28, 11.56s/it]"
          ]
        },
        {
          "name": "stdout",
          "output_type": "stream",
          "text": [
            "train loss: 0.9400385618209839\n"
          ]
        },
        {
          "name": "stderr",
          "output_type": "stream",
          "text": [
            "\r  1%|          | 194/16165 [26:36<51:12:40, 11.54s/it]"
          ]
        },
        {
          "name": "stdout",
          "output_type": "stream",
          "text": [
            "train loss: 1.0672733783721924\n"
          ]
        },
        {
          "name": "stderr",
          "output_type": "stream",
          "text": [
            "\r  1%|          | 195/16165 [26:47<51:08:24, 11.53s/it]"
          ]
        },
        {
          "name": "stdout",
          "output_type": "stream",
          "text": [
            "train loss: 1.067376971244812\n"
          ]
        },
        {
          "name": "stderr",
          "output_type": "stream",
          "text": [
            "\r  1%|          | 196/16165 [26:59<51:06:29, 11.52s/it]"
          ]
        },
        {
          "name": "stdout",
          "output_type": "stream",
          "text": [
            "train loss: 0.9564799666404724\n"
          ]
        },
        {
          "name": "stderr",
          "output_type": "stream",
          "text": [
            "\r  1%|          | 197/16165 [27:10<51:01:37, 11.50s/it]"
          ]
        },
        {
          "name": "stdout",
          "output_type": "stream",
          "text": [
            "train loss: 1.2743339538574219\n"
          ]
        },
        {
          "name": "stderr",
          "output_type": "stream",
          "text": [
            "\r  1%|          | 198/16165 [27:22<51:00:21, 11.50s/it]"
          ]
        },
        {
          "name": "stdout",
          "output_type": "stream",
          "text": [
            "train loss: 1.1365363597869873\n"
          ]
        },
        {
          "name": "stderr",
          "output_type": "stream",
          "text": [
            "\r  1%|          | 199/16165 [27:34<51:12:17, 11.55s/it]"
          ]
        },
        {
          "name": "stdout",
          "output_type": "stream",
          "text": [
            "train loss: 0.9430329203605652\n"
          ]
        },
        {
          "name": "stderr",
          "output_type": "stream",
          "text": [
            "\r  1%|          | 200/16165 [27:45<51:07:34, 11.53s/it]"
          ]
        },
        {
          "name": "stdout",
          "output_type": "stream",
          "text": [
            "train loss: 1.117624282836914\n"
          ]
        },
        {
          "name": "stderr",
          "output_type": "stream",
          "text": [
            "\r  1%|          | 201/16165 [27:56<51:02:10, 11.51s/it]"
          ]
        },
        {
          "name": "stdout",
          "output_type": "stream",
          "text": [
            "This was the generated caption: ['* * ekern _ 1. 0 < t > * * ekern _ 1. 0 < b > * cleff4 < t > * clefg2 < b > * k [ b - e - a - ] < t > * k [ b - ] < t > * m3 / 4 < t > * m3 / 4 < t > = - < t > = - < t > = - < t > = - < t > = - < t > = - < t > = - < t > = - < t > = - < t > = - < t > = - < t > = - < t > = - < t > = - < t > = - < t > = - < t > = - < t > = - < t > = - < t > = - < t > = - < t > = - < t > = - < t > = - < t > = - < t > = - < t > = - < t > = - < t > = - < t > = - < t > = - < t > = - < t > = - < t > = - < t > = - < t > = - < t > = - < t >. < t >. < t >. < t >. < t >. < t >. < t >. < t >. < t >. < t >. < t >. < t >. < t >. < t >. < t >. < t >. < t >. < t >. < t >. < t >. < t >. < t >. < t >. < t >. < t >. < t >. < t >. < t >. < t >. < t >. < t >. < t >. < t >. < t >. < t >. < t >. < t >. < t >. < t >. < t >. < t >. < t >. < t >. < t >. < t >. < t >. < t >. < t >. < t >. < t >. < t >. < t >. < t >. < t >. < t >. < t >. < t >. < t >. < t >. < t >. < t >.', '* * ekern _ 1. 0 < t > * * ekern _ 1. 0 < b > * cleff4 < t > * clefg2 < b > * k [ b - e - a - ] < t > * k [ b - ] < t > * m3 / 4 < t > * m3 / 4 < t > = - < t > = - < t > = - < t > = - < t > = - < t > = - < t > = - < t > = - < t > = - < t > = - < t > = - < t > = - < t > = - < t > = - < t > = - < t > = - < t > = - < t > = - < t > = - < t > = - < t > = - < t > = - < t > = - < t > = - < t > = - < t > = - < t > = - < t > = - < t > = - < t > = - < t > = - < t > = - < t > = - < t > = - < t > = - < t > = - < t > = - < t >. < t >. < t >. < t >. < t >. < t >. < t >. < t >. < t >. < t >. < t >. < t >. < t >. < t >. < t >. < t >. < t >. < t >. < t >. < t >. < t >. < t >. < t >. < t >. < t >. < t >. < t >. < t >. < t >. < t >. < t >. < t >. < t >. < t >. < t >. < t >. < t >. < t >. < t >. < t >. < t >. < t >. < t >. < t >. < t >. < t >. < t >. < t >. < t >. < t >. < t >. < t >. < t >. < t >. < t >. < t >. < t >. < t >. < t >. < t >. < t >.']\n",
            "This was the true caption: ['* * ekern _ 1. 0 < t > * * ekern _ 1. 0 < b > * cleff4 < t > * clefg2 < b > * k [ f # c # g # d # ] < t > * k [ f # c # g # d # ] < b > * m2 / 4 < t > * m2 / 4 < b > = - < t > = - < b > 8r < t > 32gg # lll < b >. < t > 32aa < b >. < t > 32bb < b >. < t > 32ccc # jj < b > 8e < s > 8el < t > 8bbj < b > 8g # < s > 8g # < t > 8eeel < b > 8b < s > 8bj < t > 8bbj < b > * clefg2 < t > * < b > = < t > = < b > 8e < s > 8eel < t > 16gg # ll < b >. < t > 16bb < b > 8aj < t > 16aa < b >. < t > 16ff # jj < b > 8bl < t > 8gg # l < b > 8bj < t > 8ff # j < b > * cleff4 < t > * < b > = < t > = < b > 8r < t > 4ee < b > 8ee < s > 8el < t >. < b > 8gg # < s > 8g # < t > 8r < b > 8bb < s > 8bj < t > 8bb < b > = < t > = < b > 8r < t > 32gg # lll < b >. < t > 32aa < b >. < t > 32bb < b >. < t > 32ccc # jj < b > 8ee < s > 8el < t > 8bbj < b > 8gg # < s > 8g # < t > 8eeel < b > 8bb < s > 8bj < t > 8bbj < b > = < t > = < b > 8r < t > 32gg # lll < b >. < t > 32aa < b >. < t > 32bb < b >. <', '* * ekern _ 1. 0 < t > * * ekern _ 1. 0 < b > * cleff4 < t > * clefg2 < b > * k [ ] < t > * k [ ] < b > * m4 / 4 < t > * m4 / 4 < b > * met ( c ) < t > * met ( c ) < b > = - < t > = - < b > 4d < t > 4d [ < b > 4b < t > 16dll ] < b >. < t > 32el < b >. < t > 32f # < b >. < t > 32g < b >. < t > 32a < b >. < t > 32b < b >. < t > 32cc # jjj < b > 4g < t > 4dd < b > 4a < t > 8. cc # l < b >. < t > 32bll < b >. < t > 32cc # jjj < b > = < t > = < b > * ^ < t > * < b > 4d < t > 1d < t > 8ddl < b >. < t >. < t > 8cc # j < b > 2d < t >. < t > 8bl < b >. < t >. < t > 8aj < b >. < t >. < t > 8gl < b >. < t >. < t > 16f # l < b >. < t >. < t > 16gjj < b > 4c [ < t >. < t > 8al < b >. < t >. < t > 16gl < b >. < t >. < t > 16f # jj < b > = < t > = < t > = < b > 4c ] < t > 2d < t > 4. d < b > 4b - < t >. < t >. < b >. < t >. < t > 8dd < b > 4c < t > 4c < t > 8ee - l < b >. < t >. < t > 8ccj < b > 4d < t > 4d < t > 8b - l < b >. < t >. < t > 8aj < b > = < t >']\n",
            "Step 201 -- wer: 0.8235437566304343\n",
            "train loss: 0.9966942071914673\n"
          ]
        },
        {
          "name": "stderr",
          "output_type": "stream",
          "text": [
            "\r  1%|          | 202/16165 [28:08<50:58:13, 11.49s/it]"
          ]
        },
        {
          "name": "stdout",
          "output_type": "stream",
          "text": [
            "train loss: 1.0041110515594482\n"
          ]
        },
        {
          "name": "stderr",
          "output_type": "stream",
          "text": [
            "\r  1%|▏         | 203/16165 [28:19<50:57:15, 11.49s/it]"
          ]
        },
        {
          "name": "stdout",
          "output_type": "stream",
          "text": [
            "train loss: 1.0244061946868896\n"
          ]
        },
        {
          "name": "stderr",
          "output_type": "stream",
          "text": [
            "\r  1%|▏         | 204/16165 [28:31<50:55:31, 11.49s/it]"
          ]
        },
        {
          "name": "stdout",
          "output_type": "stream",
          "text": [
            "train loss: 1.0567632913589478\n"
          ]
        },
        {
          "name": "stderr",
          "output_type": "stream",
          "text": [
            "\r  1%|▏         | 205/16165 [28:42<50:54:05, 11.48s/it]"
          ]
        },
        {
          "name": "stdout",
          "output_type": "stream",
          "text": [
            "train loss: 1.0217633247375488\n"
          ]
        },
        {
          "name": "stderr",
          "output_type": "stream",
          "text": [
            "\r  1%|▏         | 206/16165 [28:54<50:50:50, 11.47s/it]"
          ]
        },
        {
          "name": "stdout",
          "output_type": "stream",
          "text": [
            "train loss: 1.1500898599624634\n"
          ]
        },
        {
          "name": "stderr",
          "output_type": "stream",
          "text": [
            "\r  1%|▏         | 207/16165 [29:05<50:50:05, 11.47s/it]"
          ]
        },
        {
          "name": "stdout",
          "output_type": "stream",
          "text": [
            "train loss: 1.1129792928695679\n"
          ]
        },
        {
          "name": "stderr",
          "output_type": "stream",
          "text": [
            "\r  1%|▏         | 208/16165 [29:17<50:48:09, 11.46s/it]"
          ]
        },
        {
          "name": "stdout",
          "output_type": "stream",
          "text": [
            "train loss: 1.1309643983840942\n"
          ]
        },
        {
          "name": "stderr",
          "output_type": "stream",
          "text": [
            "\r  1%|▏         | 209/16165 [29:28<50:48:18, 11.46s/it]"
          ]
        },
        {
          "name": "stdout",
          "output_type": "stream",
          "text": [
            "train loss: 0.9383618831634521\n"
          ]
        },
        {
          "name": "stderr",
          "output_type": "stream",
          "text": [
            "\r  1%|▏         | 210/16165 [29:40<50:47:01, 11.46s/it]"
          ]
        },
        {
          "name": "stdout",
          "output_type": "stream",
          "text": [
            "train loss: 0.9397245049476624\n"
          ]
        },
        {
          "name": "stderr",
          "output_type": "stream",
          "text": [
            "\r  1%|▏         | 211/16165 [29:51<50:46:05, 11.46s/it]"
          ]
        },
        {
          "name": "stdout",
          "output_type": "stream",
          "text": [
            "train loss: 1.1493059396743774\n"
          ]
        },
        {
          "name": "stderr",
          "output_type": "stream",
          "text": [
            "\r  1%|▏         | 212/16165 [30:03<50:46:36, 11.46s/it]"
          ]
        },
        {
          "name": "stdout",
          "output_type": "stream",
          "text": [
            "train loss: 0.9849404096603394\n"
          ]
        },
        {
          "name": "stderr",
          "output_type": "stream",
          "text": [
            "\r  1%|▏         | 213/16165 [30:14<50:46:54, 11.46s/it]"
          ]
        },
        {
          "name": "stdout",
          "output_type": "stream",
          "text": [
            "train loss: 1.0851322412490845\n"
          ]
        },
        {
          "name": "stderr",
          "output_type": "stream",
          "text": [
            "\r  1%|▏         | 214/16165 [30:25<50:47:07, 11.46s/it]"
          ]
        },
        {
          "name": "stdout",
          "output_type": "stream",
          "text": [
            "train loss: 1.0483537912368774\n"
          ]
        },
        {
          "name": "stderr",
          "output_type": "stream",
          "text": [
            "\r  1%|▏         | 215/16165 [30:37<50:47:08, 11.46s/it]"
          ]
        },
        {
          "name": "stdout",
          "output_type": "stream",
          "text": [
            "train loss: 0.984506368637085\n"
          ]
        },
        {
          "name": "stderr",
          "output_type": "stream",
          "text": [
            "\r  1%|▏         | 216/16165 [30:48<50:47:42, 11.47s/it]"
          ]
        },
        {
          "name": "stdout",
          "output_type": "stream",
          "text": [
            "train loss: 0.8961498141288757\n"
          ]
        },
        {
          "name": "stderr",
          "output_type": "stream",
          "text": [
            "\r  1%|▏         | 217/16165 [31:00<50:49:23, 11.47s/it]"
          ]
        },
        {
          "name": "stdout",
          "output_type": "stream",
          "text": [
            "train loss: 1.100547194480896\n"
          ]
        },
        {
          "name": "stderr",
          "output_type": "stream",
          "text": [
            "\r  1%|▏         | 218/16165 [31:11<50:48:43, 11.47s/it]"
          ]
        },
        {
          "name": "stdout",
          "output_type": "stream",
          "text": [
            "train loss: 0.8555433750152588\n"
          ]
        },
        {
          "name": "stderr",
          "output_type": "stream",
          "text": [
            "\r  1%|▏         | 219/16165 [31:23<50:52:25, 11.49s/it]"
          ]
        },
        {
          "name": "stdout",
          "output_type": "stream",
          "text": [
            "train loss: 1.220692753791809\n"
          ]
        },
        {
          "name": "stderr",
          "output_type": "stream",
          "text": [
            "\r  1%|▏         | 220/16165 [31:34<50:52:21, 11.49s/it]"
          ]
        },
        {
          "name": "stdout",
          "output_type": "stream",
          "text": [
            "train loss: 1.0985935926437378\n"
          ]
        },
        {
          "name": "stderr",
          "output_type": "stream",
          "text": [
            "\r  1%|▏         | 221/16165 [31:46<50:52:22, 11.49s/it]"
          ]
        },
        {
          "name": "stdout",
          "output_type": "stream",
          "text": [
            "train loss: 1.017150640487671\n"
          ]
        },
        {
          "name": "stderr",
          "output_type": "stream",
          "text": [
            "\r  1%|▏         | 222/16165 [31:57<50:52:35, 11.49s/it]"
          ]
        },
        {
          "name": "stdout",
          "output_type": "stream",
          "text": [
            "train loss: 1.065344214439392\n"
          ]
        },
        {
          "name": "stderr",
          "output_type": "stream",
          "text": [
            "\r  1%|▏         | 223/16165 [32:09<50:53:47, 11.49s/it]"
          ]
        },
        {
          "name": "stdout",
          "output_type": "stream",
          "text": [
            "train loss: 0.920652449131012\n"
          ]
        },
        {
          "name": "stderr",
          "output_type": "stream",
          "text": [
            "\r  1%|▏         | 224/16165 [32:20<50:56:00, 11.50s/it]"
          ]
        },
        {
          "name": "stdout",
          "output_type": "stream",
          "text": [
            "train loss: 1.1316008567810059\n"
          ]
        },
        {
          "name": "stderr",
          "output_type": "stream",
          "text": [
            "\r  1%|▏         | 225/16165 [32:32<50:57:36, 11.51s/it]"
          ]
        },
        {
          "name": "stdout",
          "output_type": "stream",
          "text": [
            "train loss: 0.9287078976631165\n"
          ]
        },
        {
          "name": "stderr",
          "output_type": "stream",
          "text": [
            "\r  1%|▏         | 226/16165 [32:43<50:55:38, 11.50s/it]"
          ]
        },
        {
          "name": "stdout",
          "output_type": "stream",
          "text": [
            "train loss: 1.0159804821014404\n"
          ]
        },
        {
          "name": "stderr",
          "output_type": "stream",
          "text": [
            "\r  1%|▏         | 227/16165 [32:55<50:54:09, 11.50s/it]"
          ]
        },
        {
          "name": "stdout",
          "output_type": "stream",
          "text": [
            "train loss: 0.9845919013023376\n"
          ]
        },
        {
          "name": "stderr",
          "output_type": "stream",
          "text": [
            "\r  1%|▏         | 228/16165 [33:06<50:54:55, 11.50s/it]"
          ]
        },
        {
          "name": "stdout",
          "output_type": "stream",
          "text": [
            "train loss: 0.9749624729156494\n"
          ]
        },
        {
          "name": "stderr",
          "output_type": "stream",
          "text": [
            "\r  1%|▏         | 229/16165 [33:18<50:53:24, 11.50s/it]"
          ]
        },
        {
          "name": "stdout",
          "output_type": "stream",
          "text": [
            "train loss: 1.014125943183899\n"
          ]
        },
        {
          "name": "stderr",
          "output_type": "stream",
          "text": [
            "\r  1%|▏         | 230/16165 [33:29<50:52:31, 11.49s/it]"
          ]
        },
        {
          "name": "stdout",
          "output_type": "stream",
          "text": [
            "train loss: 0.9126140475273132\n"
          ]
        },
        {
          "name": "stderr",
          "output_type": "stream",
          "text": [
            "\r  1%|▏         | 231/16165 [33:41<50:51:14, 11.49s/it]"
          ]
        },
        {
          "name": "stdout",
          "output_type": "stream",
          "text": [
            "train loss: 1.0262681245803833\n"
          ]
        },
        {
          "name": "stderr",
          "output_type": "stream",
          "text": [
            "\r  1%|▏         | 232/16165 [33:52<50:52:11, 11.49s/it]"
          ]
        },
        {
          "name": "stdout",
          "output_type": "stream",
          "text": [
            "train loss: 0.9497554302215576\n"
          ]
        },
        {
          "name": "stderr",
          "output_type": "stream",
          "text": [
            "\r  1%|▏         | 233/16165 [34:04<50:51:45, 11.49s/it]"
          ]
        },
        {
          "name": "stdout",
          "output_type": "stream",
          "text": [
            "train loss: 1.0313963890075684\n"
          ]
        },
        {
          "name": "stderr",
          "output_type": "stream",
          "text": [
            "\r  1%|▏         | 234/16165 [34:15<50:51:33, 11.49s/it]"
          ]
        },
        {
          "name": "stdout",
          "output_type": "stream",
          "text": [
            "train loss: 1.0247355699539185\n"
          ]
        },
        {
          "name": "stderr",
          "output_type": "stream",
          "text": [
            "\r  1%|▏         | 235/16165 [34:27<50:51:11, 11.49s/it]"
          ]
        },
        {
          "name": "stdout",
          "output_type": "stream",
          "text": [
            "train loss: 1.0228140354156494\n"
          ]
        },
        {
          "name": "stderr",
          "output_type": "stream",
          "text": [
            "\r  1%|▏         | 236/16165 [34:38<50:50:29, 11.49s/it]"
          ]
        },
        {
          "name": "stdout",
          "output_type": "stream",
          "text": [
            "train loss: 0.9720300436019897\n"
          ]
        },
        {
          "name": "stderr",
          "output_type": "stream",
          "text": [
            "\r  1%|▏         | 237/16165 [34:50<50:51:12, 11.49s/it]"
          ]
        },
        {
          "name": "stdout",
          "output_type": "stream",
          "text": [
            "train loss: 0.996263325214386\n"
          ]
        },
        {
          "name": "stderr",
          "output_type": "stream",
          "text": [
            "\r  1%|▏         | 238/16165 [35:01<50:51:42, 11.50s/it]"
          ]
        },
        {
          "name": "stdout",
          "output_type": "stream",
          "text": [
            "train loss: 1.0791693925857544\n"
          ]
        },
        {
          "name": "stderr",
          "output_type": "stream",
          "text": [
            "\r  1%|▏         | 239/16165 [35:13<50:52:54, 11.50s/it]"
          ]
        },
        {
          "name": "stdout",
          "output_type": "stream",
          "text": [
            "train loss: 1.0513793230056763\n"
          ]
        },
        {
          "name": "stderr",
          "output_type": "stream",
          "text": [
            "\r  1%|▏         | 240/16165 [35:24<50:53:31, 11.50s/it]"
          ]
        },
        {
          "name": "stdout",
          "output_type": "stream",
          "text": [
            "train loss: 0.9164827466011047\n"
          ]
        },
        {
          "name": "stderr",
          "output_type": "stream",
          "text": [
            "\r  1%|▏         | 241/16165 [35:36<50:51:39, 11.50s/it]"
          ]
        },
        {
          "name": "stdout",
          "output_type": "stream",
          "text": [
            "train loss: 1.1042430400848389\n"
          ]
        },
        {
          "name": "stderr",
          "output_type": "stream",
          "text": [
            "\r  1%|▏         | 242/16165 [35:47<50:50:28, 11.49s/it]"
          ]
        },
        {
          "name": "stdout",
          "output_type": "stream",
          "text": [
            "train loss: 1.0477560758590698\n"
          ]
        },
        {
          "name": "stderr",
          "output_type": "stream",
          "text": [
            "\r  2%|▏         | 243/16165 [35:59<50:48:01, 11.49s/it]"
          ]
        },
        {
          "name": "stdout",
          "output_type": "stream",
          "text": [
            "train loss: 0.898464024066925\n"
          ]
        },
        {
          "name": "stderr",
          "output_type": "stream",
          "text": [
            "\r  2%|▏         | 244/16165 [36:10<50:47:42, 11.49s/it]"
          ]
        },
        {
          "name": "stdout",
          "output_type": "stream",
          "text": [
            "train loss: 1.0106923580169678\n"
          ]
        },
        {
          "name": "stderr",
          "output_type": "stream",
          "text": [
            "\r  2%|▏         | 245/16165 [36:22<50:46:48, 11.48s/it]"
          ]
        },
        {
          "name": "stdout",
          "output_type": "stream",
          "text": [
            "train loss: 1.0158859491348267\n"
          ]
        },
        {
          "name": "stderr",
          "output_type": "stream",
          "text": [
            "\r  2%|▏         | 246/16165 [36:33<50:46:52, 11.48s/it]"
          ]
        },
        {
          "name": "stdout",
          "output_type": "stream",
          "text": [
            "train loss: 0.875169038772583\n"
          ]
        },
        {
          "name": "stderr",
          "output_type": "stream",
          "text": [
            "\r  2%|▏         | 247/16165 [36:45<50:46:59, 11.49s/it]"
          ]
        },
        {
          "name": "stdout",
          "output_type": "stream",
          "text": [
            "train loss: 0.8453649878501892\n"
          ]
        },
        {
          "name": "stderr",
          "output_type": "stream",
          "text": [
            "\r  2%|▏         | 248/16165 [36:56<50:46:46, 11.48s/it]"
          ]
        },
        {
          "name": "stdout",
          "output_type": "stream",
          "text": [
            "train loss: 1.047399640083313\n"
          ]
        },
        {
          "name": "stderr",
          "output_type": "stream",
          "text": [
            "\r  2%|▏         | 249/16165 [37:08<50:46:46, 11.49s/it]"
          ]
        },
        {
          "name": "stdout",
          "output_type": "stream",
          "text": [
            "train loss: 0.9300259351730347\n"
          ]
        },
        {
          "name": "stderr",
          "output_type": "stream",
          "text": [
            "\r  2%|▏         | 250/16165 [37:19<50:46:47, 11.49s/it]"
          ]
        },
        {
          "name": "stdout",
          "output_type": "stream",
          "text": [
            "train loss: 0.9363964796066284\n"
          ]
        },
        {
          "name": "stderr",
          "output_type": "stream",
          "text": [
            "\r  2%|▏         | 251/16165 [37:31<50:45:30, 11.48s/it]"
          ]
        },
        {
          "name": "stdout",
          "output_type": "stream",
          "text": [
            "train loss: 1.0323035717010498\n"
          ]
        },
        {
          "name": "stderr",
          "output_type": "stream",
          "text": [
            "\r  2%|▏         | 252/16165 [37:42<50:44:24, 11.48s/it]"
          ]
        },
        {
          "name": "stdout",
          "output_type": "stream",
          "text": [
            "train loss: 0.9609911441802979\n"
          ]
        },
        {
          "name": "stderr",
          "output_type": "stream",
          "text": [
            "\r  2%|▏         | 253/16165 [37:54<50:42:53, 11.47s/it]"
          ]
        },
        {
          "name": "stdout",
          "output_type": "stream",
          "text": [
            "train loss: 0.9790931940078735\n"
          ]
        },
        {
          "name": "stderr",
          "output_type": "stream",
          "text": [
            "\r  2%|▏         | 254/16165 [38:05<50:43:45, 11.48s/it]"
          ]
        },
        {
          "name": "stdout",
          "output_type": "stream",
          "text": [
            "train loss: 0.9920989871025085\n"
          ]
        },
        {
          "name": "stderr",
          "output_type": "stream",
          "text": [
            "\r  2%|▏         | 255/16165 [38:17<50:42:31, 11.47s/it]"
          ]
        },
        {
          "name": "stdout",
          "output_type": "stream",
          "text": [
            "train loss: 1.0766210556030273\n"
          ]
        },
        {
          "name": "stderr",
          "output_type": "stream",
          "text": [
            "\r  2%|▏         | 256/16165 [38:28<50:42:55, 11.48s/it]"
          ]
        },
        {
          "name": "stdout",
          "output_type": "stream",
          "text": [
            "train loss: 0.8157442212104797\n"
          ]
        },
        {
          "name": "stderr",
          "output_type": "stream",
          "text": [
            "\r  2%|▏         | 257/16165 [38:39<50:43:50, 11.48s/it]"
          ]
        },
        {
          "name": "stdout",
          "output_type": "stream",
          "text": [
            "train loss: 0.8724854588508606\n"
          ]
        },
        {
          "name": "stderr",
          "output_type": "stream",
          "text": [
            "\r  2%|▏         | 258/16165 [38:51<50:42:48, 11.48s/it]"
          ]
        },
        {
          "name": "stdout",
          "output_type": "stream",
          "text": [
            "train loss: 0.8949875235557556\n"
          ]
        },
        {
          "name": "stderr",
          "output_type": "stream",
          "text": [
            "\r  2%|▏         | 259/16165 [39:02<50:41:38, 11.47s/it]"
          ]
        },
        {
          "name": "stdout",
          "output_type": "stream",
          "text": [
            "train loss: 1.1909263134002686\n"
          ]
        },
        {
          "name": "stderr",
          "output_type": "stream",
          "text": [
            "\r  2%|▏         | 260/16165 [39:14<50:42:20, 11.48s/it]"
          ]
        },
        {
          "name": "stdout",
          "output_type": "stream",
          "text": [
            "train loss: 1.121341347694397\n"
          ]
        },
        {
          "name": "stderr",
          "output_type": "stream",
          "text": [
            "\r  2%|▏         | 261/16165 [39:25<50:42:40, 11.48s/it]"
          ]
        },
        {
          "name": "stdout",
          "output_type": "stream",
          "text": [
            "train loss: 1.0033013820648193\n"
          ]
        },
        {
          "name": "stderr",
          "output_type": "stream",
          "text": [
            "\r  2%|▏         | 262/16165 [39:37<50:43:00, 11.48s/it]"
          ]
        },
        {
          "name": "stdout",
          "output_type": "stream",
          "text": [
            "train loss: 1.0109574794769287\n"
          ]
        },
        {
          "name": "stderr",
          "output_type": "stream",
          "text": [
            "\r  2%|▏         | 263/16165 [39:48<50:42:11, 11.48s/it]"
          ]
        },
        {
          "name": "stdout",
          "output_type": "stream",
          "text": [
            "train loss: 0.9631034731864929\n"
          ]
        },
        {
          "name": "stderr",
          "output_type": "stream",
          "text": [
            "\r  2%|▏         | 264/16165 [40:00<50:44:25, 11.49s/it]"
          ]
        },
        {
          "name": "stdout",
          "output_type": "stream",
          "text": [
            "train loss: 1.106876015663147\n"
          ]
        },
        {
          "name": "stderr",
          "output_type": "stream",
          "text": [
            "\r  2%|▏         | 265/16165 [40:11<50:47:17, 11.50s/it]"
          ]
        },
        {
          "name": "stdout",
          "output_type": "stream",
          "text": [
            "train loss: 1.0849391222000122\n"
          ]
        },
        {
          "name": "stderr",
          "output_type": "stream",
          "text": [
            "\r  2%|▏         | 266/16165 [40:23<50:52:25, 11.52s/it]"
          ]
        },
        {
          "name": "stdout",
          "output_type": "stream",
          "text": [
            "train loss: 0.8925009965896606\n"
          ]
        },
        {
          "name": "stderr",
          "output_type": "stream",
          "text": [
            "\r  2%|▏         | 267/16165 [40:35<50:54:09, 11.53s/it]"
          ]
        },
        {
          "name": "stdout",
          "output_type": "stream",
          "text": [
            "train loss: 1.2311139106750488\n"
          ]
        },
        {
          "name": "stderr",
          "output_type": "stream",
          "text": [
            "\r  2%|▏         | 268/16165 [40:46<50:55:35, 11.53s/it]"
          ]
        },
        {
          "name": "stdout",
          "output_type": "stream",
          "text": [
            "train loss: 1.0158977508544922\n"
          ]
        },
        {
          "name": "stderr",
          "output_type": "stream",
          "text": [
            "\r  2%|▏         | 269/16165 [40:58<50:55:30, 11.53s/it]"
          ]
        },
        {
          "name": "stdout",
          "output_type": "stream",
          "text": [
            "train loss: 0.8514686226844788\n"
          ]
        },
        {
          "name": "stderr",
          "output_type": "stream",
          "text": [
            "\r  2%|▏         | 270/16165 [41:09<50:54:07, 11.53s/it]"
          ]
        },
        {
          "name": "stdout",
          "output_type": "stream",
          "text": [
            "train loss: 1.1569963693618774\n"
          ]
        },
        {
          "name": "stderr",
          "output_type": "stream",
          "text": [
            "\r  2%|▏         | 271/16165 [41:21<50:52:14, 11.52s/it]"
          ]
        },
        {
          "name": "stdout",
          "output_type": "stream",
          "text": [
            "train loss: 0.9892265796661377\n"
          ]
        },
        {
          "name": "stderr",
          "output_type": "stream",
          "text": [
            "\r  2%|▏         | 272/16165 [41:32<50:50:35, 11.52s/it]"
          ]
        },
        {
          "name": "stdout",
          "output_type": "stream",
          "text": [
            "train loss: 0.8874739408493042\n"
          ]
        },
        {
          "name": "stderr",
          "output_type": "stream",
          "text": [
            "\r  2%|▏         | 273/16165 [41:44<50:49:20, 11.51s/it]"
          ]
        },
        {
          "name": "stdout",
          "output_type": "stream",
          "text": [
            "train loss: 0.8583935499191284\n"
          ]
        },
        {
          "name": "stderr",
          "output_type": "stream",
          "text": [
            "\r  2%|▏         | 274/16165 [41:55<50:47:30, 11.51s/it]"
          ]
        },
        {
          "name": "stdout",
          "output_type": "stream",
          "text": [
            "train loss: 1.0738155841827393\n"
          ]
        },
        {
          "name": "stderr",
          "output_type": "stream",
          "text": [
            "\r  2%|▏         | 275/16165 [42:07<50:49:04, 11.51s/it]"
          ]
        },
        {
          "name": "stdout",
          "output_type": "stream",
          "text": [
            "train loss: 1.1006832122802734\n"
          ]
        },
        {
          "name": "stderr",
          "output_type": "stream",
          "text": [
            "\r  2%|▏         | 276/16165 [42:18<50:50:11, 11.52s/it]"
          ]
        },
        {
          "name": "stdout",
          "output_type": "stream",
          "text": [
            "train loss: 0.9945022463798523\n"
          ]
        },
        {
          "name": "stderr",
          "output_type": "stream",
          "text": [
            "\r  2%|▏         | 277/16165 [42:30<50:50:32, 11.52s/it]"
          ]
        },
        {
          "name": "stdout",
          "output_type": "stream",
          "text": [
            "train loss: 1.064387559890747\n"
          ]
        },
        {
          "name": "stderr",
          "output_type": "stream",
          "text": [
            "\r  2%|▏         | 278/16165 [42:41<50:50:43, 11.52s/it]"
          ]
        },
        {
          "name": "stdout",
          "output_type": "stream",
          "text": [
            "train loss: 0.6689918041229248\n"
          ]
        },
        {
          "name": "stderr",
          "output_type": "stream",
          "text": [
            "\r  2%|▏         | 279/16165 [42:53<50:50:30, 11.52s/it]"
          ]
        },
        {
          "name": "stdout",
          "output_type": "stream",
          "text": [
            "train loss: 1.0510791540145874\n"
          ]
        }
      ],
      "source": [
        "#setting up our optimizer with 5e-5 learning rate\n",
        "optimizer = torch.optim.AdamW(model.parameters(), lr=5e-5)\n",
        "\n",
        "#prep the datasets that will be used/seen during the training loop\n",
        "name_datasets = ['train', 'val']\n",
        "datasets = [train_dataloader_blip, val_dataloader_blip]\n",
        "\n",
        "#set the device\n",
        "device = \"cuda\" if torch.cuda.is_available() else \"cpu\"\n",
        "model.to(device)\n",
        "\n",
        "#initialize the metrics\n",
        "best_wer = 1.0 #wer = 1 is the worst possible score; wer = 0 is the best possible score\n",
        "\n",
        "#let's run a simple training loop (not putting this in a function since I'm not really running this for a bunch of different datasets)\n",
        "for epoch in range(2): #keeping the epoch numbers small because performance seemed far worse when we previously trained beyond a few epochs\n",
        "\n",
        "  print(\"Epoch:\", epoch)\n",
        "\n",
        "  for name, data in zip(name_datasets, datasets):\n",
        "\n",
        "    if name == 'train':\n",
        "      model.train() #set model to training mode\n",
        "    else:\n",
        "      model.eval() #set model to eval mode\n",
        "\n",
        "\n",
        "    #keep a higher level list of running metric values\n",
        "    rwer = 0\n",
        "    epoch_agg_metrics = {}\n",
        "\n",
        "    for idx, batch in enumerate(tqdm.tqdm(data)):\n",
        "\n",
        "      #get the specific pieces of information we need from each sample\n",
        "      input_ids = batch.pop(\"input_ids\").to(device)\n",
        "      pixel_values = batch.pop(\"pixel_values\").to(device)\n",
        "      attention_mask = batch.pop(\"attention_mask\").to(device)\n",
        "\n",
        "      optimizer.zero_grad() #zero out the gradient\n",
        "\n",
        "      with torch.set_grad_enabled(name == 'train'):\n",
        "\n",
        "        #send the samples to the model\n",
        "        outputs = model(input_ids=input_ids,\n",
        "                        pixel_values=pixel_values,\n",
        "                        labels=input_ids,\n",
        "                        attention_mask=attention_mask)\n",
        "\n",
        "        #get and print loss\n",
        "        loss = outputs.loss\n",
        "        print(f\"{name} loss:\", loss.item())\n",
        "\n",
        "        #backprop\n",
        "        if name == 'train':\n",
        "          loss.backward()\n",
        "          optimizer.step()\n",
        "\n",
        "      #check how the current model at this stage of training fares on wer metrics\n",
        "      generated_ids = model.generate(pixel_values=pixel_values, max_new_tokens=500) #received warnings about degraded performance when I set max_new_tokens beyond 500, so keeping 500 here.\n",
        "      generated_caption = processor.batch_decode(generated_ids, skip_special_tokens=True)\n",
        "      gt_caption = processor.batch_decode([i[:500] for i in input_ids], skip_special_tokens=True) #truncating tokens to 500 so model is not unfairly penalized for 'deleted'/missing words when/if ground truth tokens exceed 500\n",
        "\n",
        "      if idx % 100 == 0:\n",
        "        print(f\"This was the generated caption: {generated_caption}\")\n",
        "        print(f\"This was the true caption: {gt_caption}\")\n",
        "\n",
        "      wer_score = wer.compute(predictions=generated_caption, references=gt_caption)\n",
        "      rwer += wer_score\n",
        "\n",
        "      #calculate the agg metrics for every 100 step interval. Logging this every 100 steps for the same reason listed below.\n",
        "      if idx % 100 == 0:\n",
        "        agg_wer = rwer/(idx+1)\n",
        "        print(f\"Step {idx+1} -- wer: {agg_wer}\")\n",
        "\n",
        "\n",
        "      #additional, more frequent checkpointing in case colab sessions time out\n",
        "      if idx%1000 == 0:\n",
        "        if agg_wer < best_wer:\n",
        "          best_wer = agg_wer\n",
        "          best_model_wts_wer = copy.deepcopy(model.state_dict())\n",
        "          torch.save(best_model_wts_wer, f'drive/MyDrive/fine_tuned_blip_wer_{name}_idx_{idx}')\n",
        "\n",
        "      #keep track of how well the model is doing on wer\n",
        "      #(note: the training dataset is massive and BLIP is relatively sensitive/response to samples, in my opinion (i.e., within a couple hundred\n",
        "      #steps, we can see pretty noticeable changes in training loss, wer scores, and outputted text). So I'm logging the wer metrics\n",
        "      #and saving the weights every 1000 steps instead of every epoch.)\n",
        "      if name == 'val' and idx%1000 == 0:\n",
        "        if agg_wer < best_wer: #the lower the score, the better\n",
        "          best_wer = agg_wer\n",
        "          best_model_wts_wer = copy.deepcopy(model.state_dict())\n",
        "          torch.save(best_model_wts_wer, 'drive/MyDrive/fine_tuned_blip_wer_WEIGHTS_ONLY')\n",
        "\n",
        "print(f\"BEST WER: {best_wer}\")"
      ]
    },
    {
      "cell_type": "code",
      "execution_count": null,
      "metadata": {
        "id": "C8VmV-kSpyMS"
      },
      "outputs": [],
      "source": [
        "#save the model in case the training was cancelled/\"keyboard-interrupted\" early bc of session limits \n",
        "best_model_wts = copy.deepcopy(model.state_dict())\n",
        "torch.save(best_model_wts, 'drive/MyDrive/fine_tuned_blip_early_stop_WEIGHTS_ONLY') #change path as needed"
      ]
    },
    {
      "cell_type": "code",
      "execution_count": null,
      "metadata": {},
      "outputs": [],
      "source": [
        "#for loading in a saved set of model weights when needed\n",
        "model.load_state_dict(torch.load(\"drive/MyDrive/fine_tuned_blip_wer_val_idx_0\")) #change path as needed"
      ]
    },
    {
      "cell_type": "markdown",
      "metadata": {
        "id": "odzNs0S-38EC"
      },
      "source": [
        "### Evaluation of Fine-Tuned BLIP"
      ]
    },
    {
      "cell_type": "markdown",
      "metadata": {},
      "source": [
        "Let's now see how the fine-tuned BLIP model does with the test set. Like before, eval here will be based on Word Error Rate (WER) which \n",
        "seems to be a better metric for this use case than other popular metrics like rouge-n. WER approximates the label of \"incorrect\" words divided by \n",
        "the total number of reference words. WER=1.0 means a perfect mismatch while WER=0.0 indicates a perfect match. So the lower the score, the better.\n",
        "\n",
        "(WER is sensitive to whether or not predicted words are exact matches to the reference labels + the order in which predicted words appear, two properties\n",
        "that are very important for our use case. E.g., if a predicted sequence has all the same words as the reference sequence but in a different order -- that is \n",
        "effectively a completely different musical score. \n",
        "\n",
        "The original paper that produced the raw dataset we're using also uses variations of WER to judge baseline model runs on its dataset.)"
      ]
    },
    {
      "cell_type": "code",
      "execution_count": null,
      "metadata": {
        "colab": {
          "base_uri": "https://localhost:8080/",
          "height": 525
        },
        "id": "laR-1baL7ItX",
        "outputId": "ee3210ad-4020-45f2-ed67-c9b9b347efd4"
      },
      "outputs": [],
      "source": [
        "model.eval() # set the model to eval mode if it wasn't there already\n",
        "\n",
        "all_gt_ids, all_gt_text = [], []\n",
        "all_pred_ids, all_pred_text = [], []\n",
        "\n",
        "rwer = 0\n",
        "\n",
        "with torch.no_grad(): #not computing gradients while testing\n",
        "  for idx, batch in enumerate(tqdm.tqdm(test_dataloader_blip)):\n",
        "\n",
        "    #retrieve the image and gt labels\n",
        "    pixel_values = batch.pop(\"pixel_values\").to(device)\n",
        "    labels = batch.pop(\"input_ids\").to(device)\n",
        "\n",
        "    #make prediction and get both the outputted ids and the text caption\n",
        "    generated_ids = model.generate(pixel_values=pixel_values, max_new_tokens=500)\n",
        "    generated_caption = processor.batch_decode(generated_ids, skip_special_tokens=True)\n",
        "\n",
        "    #get the text of the labels\n",
        "    gt_caption = processor.batch_decode([i[:500] for i in labels], skip_special_tokens=True)\n",
        "\n",
        "    wer_score = wer.compute(predictions=generated_caption, references=gt_caption)\n",
        "    rwer += wer_score\n",
        "\n",
        "    if idx % 100 == 0:\n",
        "      agg_wer = rwer/(idx+1)\n",
        "      print(f\"Step {idx+1} -- wer: {agg_wer}\")\n",
        "\n",
        "    #store the preds and gts for eval later\n",
        "    for pred_ids, pred_cap, gt_ids, gt_cap in zip(generated_ids, generated_caption, labels, gt_caption):\n",
        "      all_pred_ids.append(pred_ids)\n",
        "      all_pred_text.append(pred_cap)\n",
        "      all_gt_ids.append(gt_ids)\n",
        "      all_gt_text.append(gt_cap)"
      ]
    },
    {
      "cell_type": "code",
      "execution_count": null,
      "metadata": {
        "id": "vcNKS7NKL6TW"
      },
      "outputs": [],
      "source": [
        "#saving the predictions and the gt labels bc a full test run takes over a day w/ the gpu i'm on.\n",
        "#(so if more metrics need to be calc'd later or predictions need to be viewed, we can just load this back in)\n",
        "with open('drive/MyDrive/all_pred_ids.pickle', 'wb') as output:\n",
        "    pickle.dump(all_pred_ids, output)\n",
        "with open('drive/MyDrive/all_pred_text.pickle', 'wb') as output:\n",
        "    pickle.dump(all_pred_text, output)\n",
        "with open('drive/MyDrive/all_gt_ids.pickle', 'wb') as output:\n",
        "    pickle.dump(all_gt_ids, output)\n",
        "with open('drive/MyDrive/all_gt_text.pickle', 'wb') as output:\n",
        "    pickle.dump(all_gt_text, output)"
      ]
    }
  ],
  "metadata": {
    "accelerator": "GPU",
    "colab": {
      "collapsed_sections": [
        "jRJtNZBB35N9",
        "BBbqNpOo4AEv",
        "06Kun8LmoANX",
        "u-cc2I2jS6KU"
      ],
      "gpuType": "T4",
      "machine_shape": "hm",
      "provenance": []
    },
    "kernelspec": {
      "display_name": "Python 3",
      "name": "python3"
    },
    "language_info": {
      "codemirror_mode": {
        "name": "ipython",
        "version": 3
      },
      "file_extension": ".py",
      "mimetype": "text/x-python",
      "name": "python",
      "nbconvert_exporter": "python",
      "pygments_lexer": "ipython3",
      "version": "3.9.6"
    },
    "widgets": {
      "application/vnd.jupyter.widget-state+json": {
        "01c5d6f70929488f8025149e9dd51438": {
          "model_module": "@jupyter-widgets/controls",
          "model_module_version": "1.5.0",
          "model_name": "DescriptionStyleModel",
          "state": {
            "_model_module": "@jupyter-widgets/controls",
            "_model_module_version": "1.5.0",
            "_model_name": "DescriptionStyleModel",
            "_view_count": null,
            "_view_module": "@jupyter-widgets/base",
            "_view_module_version": "1.2.0",
            "_view_name": "StyleView",
            "description_width": ""
          }
        },
        "0ba2dfa92c5f467099388f819c02ea27": {
          "model_module": "@jupyter-widgets/controls",
          "model_module_version": "1.5.0",
          "model_name": "FloatProgressModel",
          "state": {
            "_dom_classes": [],
            "_model_module": "@jupyter-widgets/controls",
            "_model_module_version": "1.5.0",
            "_model_name": "FloatProgressModel",
            "_view_count": null,
            "_view_module": "@jupyter-widgets/controls",
            "_view_module_version": "1.5.0",
            "_view_name": "ProgressView",
            "bar_style": "success",
            "description": "",
            "description_tooltip": null,
            "layout": "IPY_MODEL_6c463b186fd84909adae03e1ddae3df9",
            "max": 891646390,
            "min": 0,
            "orientation": "horizontal",
            "style": "IPY_MODEL_79d5ebed493e4a668fe11a7e27f66904",
            "value": 891646390
          }
        },
        "0d5e0a6099c144b29a389090921edc7b": {
          "model_module": "@jupyter-widgets/controls",
          "model_module_version": "1.5.0",
          "model_name": "DescriptionStyleModel",
          "state": {
            "_model_module": "@jupyter-widgets/controls",
            "_model_module_version": "1.5.0",
            "_model_name": "DescriptionStyleModel",
            "_view_count": null,
            "_view_module": "@jupyter-widgets/base",
            "_view_module_version": "1.2.0",
            "_view_name": "StyleView",
            "description_width": ""
          }
        },
        "0f16094a74f540788ef0784baaf2393f": {
          "model_module": "@jupyter-widgets/base",
          "model_module_version": "1.2.0",
          "model_name": "LayoutModel",
          "state": {
            "_model_module": "@jupyter-widgets/base",
            "_model_module_version": "1.2.0",
            "_model_name": "LayoutModel",
            "_view_count": null,
            "_view_module": "@jupyter-widgets/base",
            "_view_module_version": "1.2.0",
            "_view_name": "LayoutView",
            "align_content": null,
            "align_items": null,
            "align_self": null,
            "border": null,
            "bottom": null,
            "display": null,
            "flex": null,
            "flex_flow": null,
            "grid_area": null,
            "grid_auto_columns": null,
            "grid_auto_flow": null,
            "grid_auto_rows": null,
            "grid_column": null,
            "grid_gap": null,
            "grid_row": null,
            "grid_template_areas": null,
            "grid_template_columns": null,
            "grid_template_rows": null,
            "height": null,
            "justify_content": null,
            "justify_items": null,
            "left": null,
            "margin": null,
            "max_height": null,
            "max_width": null,
            "min_height": null,
            "min_width": null,
            "object_fit": null,
            "object_position": null,
            "order": null,
            "overflow": null,
            "overflow_x": null,
            "overflow_y": null,
            "padding": null,
            "right": null,
            "top": null,
            "visibility": null,
            "width": null
          }
        },
        "0f65efc68cce477cb609c55c17af6266": {
          "model_module": "@jupyter-widgets/controls",
          "model_module_version": "1.5.0",
          "model_name": "DescriptionStyleModel",
          "state": {
            "_model_module": "@jupyter-widgets/controls",
            "_model_module_version": "1.5.0",
            "_model_name": "DescriptionStyleModel",
            "_view_count": null,
            "_view_module": "@jupyter-widgets/base",
            "_view_module_version": "1.2.0",
            "_view_name": "StyleView",
            "description_width": ""
          }
        },
        "0f803c19b48942bc8dd5e2d711b5d41b": {
          "model_module": "@jupyter-widgets/controls",
          "model_module_version": "1.5.0",
          "model_name": "FloatProgressModel",
          "state": {
            "_dom_classes": [],
            "_model_module": "@jupyter-widgets/controls",
            "_model_module_version": "1.5.0",
            "_model_name": "FloatProgressModel",
            "_view_count": null,
            "_view_module": "@jupyter-widgets/controls",
            "_view_module_version": "1.5.0",
            "_view_name": "ProgressView",
            "bar_style": "success",
            "description": "",
            "description_tooltip": null,
            "layout": "IPY_MODEL_57d7ff068aac45e38494b60ee08d03f4",
            "max": 2524,
            "min": 0,
            "orientation": "horizontal",
            "style": "IPY_MODEL_770cce28638b4409952fa357a4feb659",
            "value": 2524
          }
        },
        "126d07f16e6149b6a13c398e4aded97b": {
          "model_module": "@jupyter-widgets/controls",
          "model_module_version": "1.5.0",
          "model_name": "FloatProgressModel",
          "state": {
            "_dom_classes": [],
            "_model_module": "@jupyter-widgets/controls",
            "_model_module_version": "1.5.0",
            "_model_name": "FloatProgressModel",
            "_view_count": null,
            "_view_module": "@jupyter-widgets/controls",
            "_view_module_version": "1.5.0",
            "_view_name": "ProgressView",
            "bar_style": "success",
            "description": "",
            "description_tooltip": null,
            "layout": "IPY_MODEL_3b8948f83a584b7984af7bdca4a2ef05",
            "max": 1389353,
            "min": 0,
            "orientation": "horizontal",
            "style": "IPY_MODEL_a83bb28b4584473bb188237e7448edd8",
            "value": 1389353
          }
        },
        "149eff40fff9463dae2e744f74346efd": {
          "model_module": "@jupyter-widgets/controls",
          "model_module_version": "1.5.0",
          "model_name": "HTMLModel",
          "state": {
            "_dom_classes": [],
            "_model_module": "@jupyter-widgets/controls",
            "_model_module_version": "1.5.0",
            "_model_name": "HTMLModel",
            "_view_count": null,
            "_view_module": "@jupyter-widgets/controls",
            "_view_module_version": "1.5.0",
            "_view_name": "HTMLView",
            "description": "",
            "description_tooltip": null,
            "layout": "IPY_MODEL_0f16094a74f540788ef0784baaf2393f",
            "placeholder": "​",
            "style": "IPY_MODEL_0d5e0a6099c144b29a389090921edc7b",
            "value": "tokenizer.json: 100%"
          }
        },
        "155a05e275e147de916e253a137295f4": {
          "model_module": "@jupyter-widgets/controls",
          "model_module_version": "1.5.0",
          "model_name": "HTMLModel",
          "state": {
            "_dom_classes": [],
            "_model_module": "@jupyter-widgets/controls",
            "_model_module_version": "1.5.0",
            "_model_name": "HTMLModel",
            "_view_count": null,
            "_view_module": "@jupyter-widgets/controls",
            "_view_module_version": "1.5.0",
            "_view_name": "HTMLView",
            "description": "",
            "description_tooltip": null,
            "layout": "IPY_MODEL_21b72330db484a00abdf5cda41561edc",
            "placeholder": "​",
            "style": "IPY_MODEL_89be3ed701e94c09b36d1597c963f3be",
            "value": " 7.55k/? [00:00&lt;00:00, 627kB/s]"
          }
        },
        "16a48a4c5e5e4a8a8d0f0c27f27327c7": {
          "model_module": "@jupyter-widgets/controls",
          "model_module_version": "1.5.0",
          "model_name": "HTMLModel",
          "state": {
            "_dom_classes": [],
            "_model_module": "@jupyter-widgets/controls",
            "_model_module_version": "1.5.0",
            "_model_name": "HTMLModel",
            "_view_count": null,
            "_view_module": "@jupyter-widgets/controls",
            "_view_module_version": "1.5.0",
            "_view_name": "HTMLView",
            "description": "",
            "description_tooltip": null,
            "layout": "IPY_MODEL_31e5814fdc9d4a839101365b9c5aebac",
            "placeholder": "​",
            "style": "IPY_MODEL_b9eae471c9bd4703a8cfc9e60b829e81",
            "value": " 892M/892M [00:06&lt;00:00, 138MB/s]"
          }
        },
        "16d9f825323c4ce89a07db2bdf4afdb9": {
          "model_module": "@jupyter-widgets/controls",
          "model_module_version": "1.5.0",
          "model_name": "HTMLModel",
          "state": {
            "_dom_classes": [],
            "_model_module": "@jupyter-widgets/controls",
            "_model_module_version": "1.5.0",
            "_model_name": "HTMLModel",
            "_view_count": null,
            "_view_module": "@jupyter-widgets/controls",
            "_view_module_version": "1.5.0",
            "_view_name": "HTMLView",
            "description": "",
            "description_tooltip": null,
            "layout": "IPY_MODEL_7cf2186c18ff4b6f9612475e1ee23500",
            "placeholder": "​",
            "style": "IPY_MODEL_443c04e20082489e90055c2a526dd806",
            "value": "generation_config.json: 100%"
          }
        },
        "17ab3a58a00d4c848c1f1002c082a0b2": {
          "model_module": "@jupyter-widgets/controls",
          "model_module_version": "1.5.0",
          "model_name": "DescriptionStyleModel",
          "state": {
            "_model_module": "@jupyter-widgets/controls",
            "_model_module_version": "1.5.0",
            "_model_name": "DescriptionStyleModel",
            "_view_count": null,
            "_view_module": "@jupyter-widgets/base",
            "_view_module_version": "1.2.0",
            "_view_name": "StyleView",
            "description_width": ""
          }
        },
        "1d28f2449558474295454b92609abe93": {
          "model_module": "@jupyter-widgets/controls",
          "model_module_version": "1.5.0",
          "model_name": "HTMLModel",
          "state": {
            "_dom_classes": [],
            "_model_module": "@jupyter-widgets/controls",
            "_model_module_version": "1.5.0",
            "_model_name": "HTMLModel",
            "_view_count": null,
            "_view_module": "@jupyter-widgets/controls",
            "_view_module_version": "1.5.0",
            "_view_name": "HTMLView",
            "description": "",
            "description_tooltip": null,
            "layout": "IPY_MODEL_6b0151189d0344f4ac4a752409a92ac7",
            "placeholder": "​",
            "style": "IPY_MODEL_eb686f9f28a34481a4ff2fca1d837a34",
            "value": "Downloading builder script: "
          }
        },
        "20a2c0fbf28d4de29de9d3ad70427054": {
          "model_module": "@jupyter-widgets/controls",
          "model_module_version": "1.5.0",
          "model_name": "FloatProgressModel",
          "state": {
            "_dom_classes": [],
            "_model_module": "@jupyter-widgets/controls",
            "_model_module_version": "1.5.0",
            "_model_name": "FloatProgressModel",
            "_view_count": null,
            "_view_module": "@jupyter-widgets/controls",
            "_view_module_version": "1.5.0",
            "_view_name": "ProgressView",
            "bar_style": "success",
            "description": "",
            "description_tooltip": null,
            "layout": "IPY_MODEL_aa8a365873d140dcbb715a3a374040d8",
            "max": 2318,
            "min": 0,
            "orientation": "horizontal",
            "style": "IPY_MODEL_4dd03955ee8d401e919d66864421ef44",
            "value": 2318
          }
        },
        "211dc765395c4275a528d6526e7e3d32": {
          "model_module": "@jupyter-widgets/controls",
          "model_module_version": "1.5.0",
          "model_name": "HBoxModel",
          "state": {
            "_dom_classes": [],
            "_model_module": "@jupyter-widgets/controls",
            "_model_module_version": "1.5.0",
            "_model_name": "HBoxModel",
            "_view_count": null,
            "_view_module": "@jupyter-widgets/controls",
            "_view_module_version": "1.5.0",
            "_view_name": "HBoxView",
            "box_style": "",
            "children": [
              "IPY_MODEL_1d28f2449558474295454b92609abe93",
              "IPY_MODEL_405241c444644f7584f3ccedfee422f3",
              "IPY_MODEL_8ed8a192094a41b0ac2a2adabb53597e"
            ],
            "layout": "IPY_MODEL_74829b7487c24a33b0d542728ab92a0c"
          }
        },
        "212e65341f7d4c7094dbc1cab785f542": {
          "model_module": "@jupyter-widgets/controls",
          "model_module_version": "1.5.0",
          "model_name": "DescriptionStyleModel",
          "state": {
            "_model_module": "@jupyter-widgets/controls",
            "_model_module_version": "1.5.0",
            "_model_name": "DescriptionStyleModel",
            "_view_count": null,
            "_view_module": "@jupyter-widgets/base",
            "_view_module_version": "1.2.0",
            "_view_name": "StyleView",
            "description_width": ""
          }
        },
        "21b72330db484a00abdf5cda41561edc": {
          "model_module": "@jupyter-widgets/base",
          "model_module_version": "1.2.0",
          "model_name": "LayoutModel",
          "state": {
            "_model_module": "@jupyter-widgets/base",
            "_model_module_version": "1.2.0",
            "_model_name": "LayoutModel",
            "_view_count": null,
            "_view_module": "@jupyter-widgets/base",
            "_view_module_version": "1.2.0",
            "_view_name": "LayoutView",
            "align_content": null,
            "align_items": null,
            "align_self": null,
            "border": null,
            "bottom": null,
            "display": null,
            "flex": null,
            "flex_flow": null,
            "grid_area": null,
            "grid_auto_columns": null,
            "grid_auto_flow": null,
            "grid_auto_rows": null,
            "grid_column": null,
            "grid_gap": null,
            "grid_row": null,
            "grid_template_areas": null,
            "grid_template_columns": null,
            "grid_template_rows": null,
            "height": null,
            "justify_content": null,
            "justify_items": null,
            "left": null,
            "margin": null,
            "max_height": null,
            "max_width": null,
            "min_height": null,
            "min_width": null,
            "object_fit": null,
            "object_position": null,
            "order": null,
            "overflow": null,
            "overflow_x": null,
            "overflow_y": null,
            "padding": null,
            "right": null,
            "top": null,
            "visibility": null,
            "width": null
          }
        },
        "226a43cbc8a24c8cb3a83acebb566534": {
          "model_module": "@jupyter-widgets/controls",
          "model_module_version": "1.5.0",
          "model_name": "HTMLModel",
          "state": {
            "_dom_classes": [],
            "_model_module": "@jupyter-widgets/controls",
            "_model_module_version": "1.5.0",
            "_model_name": "HTMLModel",
            "_view_count": null,
            "_view_module": "@jupyter-widgets/controls",
            "_view_module_version": "1.5.0",
            "_view_name": "HTMLView",
            "description": "",
            "description_tooltip": null,
            "layout": "IPY_MODEL_627f11b2fd674df3884bd0a3f6fbe6d8",
            "placeholder": "​",
            "style": "IPY_MODEL_212e65341f7d4c7094dbc1cab785f542",
            "value": " 7.38k/? [00:00&lt;00:00, 574kB/s]"
          }
        },
        "25d9d4b771cf48bea8eeb9365a8482e6": {
          "model_module": "@jupyter-widgets/controls",
          "model_module_version": "1.5.0",
          "model_name": "FloatProgressModel",
          "state": {
            "_dom_classes": [],
            "_model_module": "@jupyter-widgets/controls",
            "_model_module_version": "1.5.0",
            "_model_name": "FloatProgressModel",
            "_view_count": null,
            "_view_module": "@jupyter-widgets/controls",
            "_view_module_version": "1.5.0",
            "_view_name": "ProgressView",
            "bar_style": "success",
            "description": "",
            "description_tooltip": null,
            "layout": "IPY_MODEL_a010f89e0ad24703a4b537bc967ea856",
            "max": 147,
            "min": 0,
            "orientation": "horizontal",
            "style": "IPY_MODEL_ae263dbc2be6471db093a1e674671658",
            "value": 147
          }
        },
        "26db76fa7a7249cb94bdf4c7f84f5033": {
          "model_module": "@jupyter-widgets/base",
          "model_module_version": "1.2.0",
          "model_name": "LayoutModel",
          "state": {
            "_model_module": "@jupyter-widgets/base",
            "_model_module_version": "1.2.0",
            "_model_name": "LayoutModel",
            "_view_count": null,
            "_view_module": "@jupyter-widgets/base",
            "_view_module_version": "1.2.0",
            "_view_name": "LayoutView",
            "align_content": null,
            "align_items": null,
            "align_self": null,
            "border": null,
            "bottom": null,
            "display": null,
            "flex": null,
            "flex_flow": null,
            "grid_area": null,
            "grid_auto_columns": null,
            "grid_auto_flow": null,
            "grid_auto_rows": null,
            "grid_column": null,
            "grid_gap": null,
            "grid_row": null,
            "grid_template_areas": null,
            "grid_template_columns": null,
            "grid_template_rows": null,
            "height": null,
            "justify_content": null,
            "justify_items": null,
            "left": null,
            "margin": null,
            "max_height": null,
            "max_width": null,
            "min_height": null,
            "min_width": null,
            "object_fit": null,
            "object_position": null,
            "order": null,
            "overflow": null,
            "overflow_x": null,
            "overflow_y": null,
            "padding": null,
            "right": null,
            "top": null,
            "visibility": null,
            "width": null
          }
        },
        "2e4323e5cba54dfaa176dca9b489defe": {
          "model_module": "@jupyter-widgets/base",
          "model_module_version": "1.2.0",
          "model_name": "LayoutModel",
          "state": {
            "_model_module": "@jupyter-widgets/base",
            "_model_module_version": "1.2.0",
            "_model_name": "LayoutModel",
            "_view_count": null,
            "_view_module": "@jupyter-widgets/base",
            "_view_module_version": "1.2.0",
            "_view_name": "LayoutView",
            "align_content": null,
            "align_items": null,
            "align_self": null,
            "border": null,
            "bottom": null,
            "display": null,
            "flex": null,
            "flex_flow": null,
            "grid_area": null,
            "grid_auto_columns": null,
            "grid_auto_flow": null,
            "grid_auto_rows": null,
            "grid_column": null,
            "grid_gap": null,
            "grid_row": null,
            "grid_template_areas": null,
            "grid_template_columns": null,
            "grid_template_rows": null,
            "height": null,
            "justify_content": null,
            "justify_items": null,
            "left": null,
            "margin": null,
            "max_height": null,
            "max_width": null,
            "min_height": null,
            "min_width": null,
            "object_fit": null,
            "object_position": null,
            "order": null,
            "overflow": null,
            "overflow_x": null,
            "overflow_y": null,
            "padding": null,
            "right": null,
            "top": null,
            "visibility": null,
            "width": null
          }
        },
        "2eb094e5c63048db973c32ada6b7d886": {
          "model_module": "@jupyter-widgets/controls",
          "model_module_version": "1.5.0",
          "model_name": "ProgressStyleModel",
          "state": {
            "_model_module": "@jupyter-widgets/controls",
            "_model_module_version": "1.5.0",
            "_model_name": "ProgressStyleModel",
            "_view_count": null,
            "_view_module": "@jupyter-widgets/base",
            "_view_module_version": "1.2.0",
            "_view_name": "StyleView",
            "bar_color": null,
            "description_width": ""
          }
        },
        "300da59f32364f38bb730d976543f9e4": {
          "model_module": "@jupyter-widgets/controls",
          "model_module_version": "1.5.0",
          "model_name": "HBoxModel",
          "state": {
            "_dom_classes": [],
            "_model_module": "@jupyter-widgets/controls",
            "_model_module_version": "1.5.0",
            "_model_name": "HBoxModel",
            "_view_count": null,
            "_view_module": "@jupyter-widgets/controls",
            "_view_module_version": "1.5.0",
            "_view_name": "HBoxView",
            "box_style": "",
            "children": [
              "IPY_MODEL_f415a515d9dc4d4bad0374551449e9ec",
              "IPY_MODEL_0ba2dfa92c5f467099388f819c02ea27",
              "IPY_MODEL_16a48a4c5e5e4a8a8d0f0c27f27327c7"
            ],
            "layout": "IPY_MODEL_39c40b93e53c4b5580bd8d560cadb438"
          }
        },
        "307e5edb5a134e0088023a5a25fafcd6": {
          "model_module": "@jupyter-widgets/controls",
          "model_module_version": "1.5.0",
          "model_name": "HTMLModel",
          "state": {
            "_dom_classes": [],
            "_model_module": "@jupyter-widgets/controls",
            "_model_module_version": "1.5.0",
            "_model_name": "HTMLModel",
            "_view_count": null,
            "_view_module": "@jupyter-widgets/controls",
            "_view_module_version": "1.5.0",
            "_view_name": "HTMLView",
            "description": "",
            "description_tooltip": null,
            "layout": "IPY_MODEL_daee9a040d1745a0965fb199d46649ac",
            "placeholder": "​",
            "style": "IPY_MODEL_01c5d6f70929488f8025149e9dd51438",
            "value": "Downloading builder script: "
          }
        },
        "31e5814fdc9d4a839101365b9c5aebac": {
          "model_module": "@jupyter-widgets/base",
          "model_module_version": "1.2.0",
          "model_name": "LayoutModel",
          "state": {
            "_model_module": "@jupyter-widgets/base",
            "_model_module_version": "1.2.0",
            "_model_name": "LayoutModel",
            "_view_count": null,
            "_view_module": "@jupyter-widgets/base",
            "_view_module_version": "1.2.0",
            "_view_name": "LayoutView",
            "align_content": null,
            "align_items": null,
            "align_self": null,
            "border": null,
            "bottom": null,
            "display": null,
            "flex": null,
            "flex_flow": null,
            "grid_area": null,
            "grid_auto_columns": null,
            "grid_auto_flow": null,
            "grid_auto_rows": null,
            "grid_column": null,
            "grid_gap": null,
            "grid_row": null,
            "grid_template_areas": null,
            "grid_template_columns": null,
            "grid_template_rows": null,
            "height": null,
            "justify_content": null,
            "justify_items": null,
            "left": null,
            "margin": null,
            "max_height": null,
            "max_width": null,
            "min_height": null,
            "min_width": null,
            "object_fit": null,
            "object_position": null,
            "order": null,
            "overflow": null,
            "overflow_x": null,
            "overflow_y": null,
            "padding": null,
            "right": null,
            "top": null,
            "visibility": null,
            "width": null
          }
        },
        "352ff2ec2e83449fab202ed84fcd482b": {
          "model_module": "@jupyter-widgets/controls",
          "model_module_version": "1.5.0",
          "model_name": "HTMLModel",
          "state": {
            "_dom_classes": [],
            "_model_module": "@jupyter-widgets/controls",
            "_model_module_version": "1.5.0",
            "_model_name": "HTMLModel",
            "_view_count": null,
            "_view_module": "@jupyter-widgets/controls",
            "_view_module_version": "1.5.0",
            "_view_name": "HTMLView",
            "description": "",
            "description_tooltip": null,
            "layout": "IPY_MODEL_c69fd47b973f41e08de59e1e034219b0",
            "placeholder": "​",
            "style": "IPY_MODEL_5fa3ee6efc704ad9b194b6fa5b8329f7",
            "value": "spiece.model: 100%"
          }
        },
        "3864fd63c2d245eca4308800d347dd5e": {
          "model_module": "@jupyter-widgets/controls",
          "model_module_version": "1.5.0",
          "model_name": "HTMLModel",
          "state": {
            "_dom_classes": [],
            "_model_module": "@jupyter-widgets/controls",
            "_model_module_version": "1.5.0",
            "_model_name": "HTMLModel",
            "_view_count": null,
            "_view_module": "@jupyter-widgets/controls",
            "_view_module_version": "1.5.0",
            "_view_name": "HTMLView",
            "description": "",
            "description_tooltip": null,
            "layout": "IPY_MODEL_bea735d3ecf44c458558476a00c34024",
            "placeholder": "​",
            "style": "IPY_MODEL_72b4b822036146daad27550b11abf2f5",
            "value": " 6.50k/? [00:00&lt;00:00, 518kB/s]"
          }
        },
        "39c40b93e53c4b5580bd8d560cadb438": {
          "model_module": "@jupyter-widgets/base",
          "model_module_version": "1.2.0",
          "model_name": "LayoutModel",
          "state": {
            "_model_module": "@jupyter-widgets/base",
            "_model_module_version": "1.2.0",
            "_model_name": "LayoutModel",
            "_view_count": null,
            "_view_module": "@jupyter-widgets/base",
            "_view_module_version": "1.2.0",
            "_view_name": "LayoutView",
            "align_content": null,
            "align_items": null,
            "align_self": null,
            "border": null,
            "bottom": null,
            "display": null,
            "flex": null,
            "flex_flow": null,
            "grid_area": null,
            "grid_auto_columns": null,
            "grid_auto_flow": null,
            "grid_auto_rows": null,
            "grid_column": null,
            "grid_gap": null,
            "grid_row": null,
            "grid_template_areas": null,
            "grid_template_columns": null,
            "grid_template_rows": null,
            "height": null,
            "justify_content": null,
            "justify_items": null,
            "left": null,
            "margin": null,
            "max_height": null,
            "max_width": null,
            "min_height": null,
            "min_width": null,
            "object_fit": null,
            "object_position": null,
            "order": null,
            "overflow": null,
            "overflow_x": null,
            "overflow_y": null,
            "padding": null,
            "right": null,
            "top": null,
            "visibility": null,
            "width": null
          }
        },
        "39c49901c6714b139085da50ae9d6957": {
          "model_module": "@jupyter-widgets/controls",
          "model_module_version": "1.5.0",
          "model_name": "HTMLModel",
          "state": {
            "_dom_classes": [],
            "_model_module": "@jupyter-widgets/controls",
            "_model_module_version": "1.5.0",
            "_model_name": "HTMLModel",
            "_view_count": null,
            "_view_module": "@jupyter-widgets/controls",
            "_view_module_version": "1.5.0",
            "_view_name": "HTMLView",
            "description": "",
            "description_tooltip": null,
            "layout": "IPY_MODEL_e6eedee662db41dc8bb54c6052565138",
            "placeholder": "​",
            "style": "IPY_MODEL_97076137c07649119bc899f5f73a167e",
            "value": " 147/147 [00:00&lt;00:00, 10.1kB/s]"
          }
        },
        "3a07eba219054827b071aac6f30635b6": {
          "model_module": "@jupyter-widgets/base",
          "model_module_version": "1.2.0",
          "model_name": "LayoutModel",
          "state": {
            "_model_module": "@jupyter-widgets/base",
            "_model_module_version": "1.2.0",
            "_model_name": "LayoutModel",
            "_view_count": null,
            "_view_module": "@jupyter-widgets/base",
            "_view_module_version": "1.2.0",
            "_view_name": "LayoutView",
            "align_content": null,
            "align_items": null,
            "align_self": null,
            "border": null,
            "bottom": null,
            "display": null,
            "flex": null,
            "flex_flow": null,
            "grid_area": null,
            "grid_auto_columns": null,
            "grid_auto_flow": null,
            "grid_auto_rows": null,
            "grid_column": null,
            "grid_gap": null,
            "grid_row": null,
            "grid_template_areas": null,
            "grid_template_columns": null,
            "grid_template_rows": null,
            "height": null,
            "justify_content": null,
            "justify_items": null,
            "left": null,
            "margin": null,
            "max_height": null,
            "max_width": null,
            "min_height": null,
            "min_width": null,
            "object_fit": null,
            "object_position": null,
            "order": null,
            "overflow": null,
            "overflow_x": null,
            "overflow_y": null,
            "padding": null,
            "right": null,
            "top": null,
            "visibility": null,
            "width": null
          }
        },
        "3b8948f83a584b7984af7bdca4a2ef05": {
          "model_module": "@jupyter-widgets/base",
          "model_module_version": "1.2.0",
          "model_name": "LayoutModel",
          "state": {
            "_model_module": "@jupyter-widgets/base",
            "_model_module_version": "1.2.0",
            "_model_name": "LayoutModel",
            "_view_count": null,
            "_view_module": "@jupyter-widgets/base",
            "_view_module_version": "1.2.0",
            "_view_name": "LayoutView",
            "align_content": null,
            "align_items": null,
            "align_self": null,
            "border": null,
            "bottom": null,
            "display": null,
            "flex": null,
            "flex_flow": null,
            "grid_area": null,
            "grid_auto_columns": null,
            "grid_auto_flow": null,
            "grid_auto_rows": null,
            "grid_column": null,
            "grid_gap": null,
            "grid_row": null,
            "grid_template_areas": null,
            "grid_template_columns": null,
            "grid_template_rows": null,
            "height": null,
            "justify_content": null,
            "justify_items": null,
            "left": null,
            "margin": null,
            "max_height": null,
            "max_width": null,
            "min_height": null,
            "min_width": null,
            "object_fit": null,
            "object_position": null,
            "order": null,
            "overflow": null,
            "overflow_x": null,
            "overflow_y": null,
            "padding": null,
            "right": null,
            "top": null,
            "visibility": null,
            "width": null
          }
        },
        "3c2b51c8efaa4969959aace7c0059e34": {
          "model_module": "@jupyter-widgets/controls",
          "model_module_version": "1.5.0",
          "model_name": "FloatProgressModel",
          "state": {
            "_dom_classes": [],
            "_model_module": "@jupyter-widgets/controls",
            "_model_module_version": "1.5.0",
            "_model_name": "FloatProgressModel",
            "_view_count": null,
            "_view_module": "@jupyter-widgets/controls",
            "_view_module_version": "1.5.0",
            "_view_name": "ProgressView",
            "bar_style": "success",
            "description": "",
            "description_tooltip": null,
            "layout": "IPY_MODEL_6e6a8085bc0b4b209005818eb30448c9",
            "max": 791656,
            "min": 0,
            "orientation": "horizontal",
            "style": "IPY_MODEL_2eb094e5c63048db973c32ada6b7d886",
            "value": 791656
          }
        },
        "405241c444644f7584f3ccedfee422f3": {
          "model_module": "@jupyter-widgets/controls",
          "model_module_version": "1.5.0",
          "model_name": "FloatProgressModel",
          "state": {
            "_dom_classes": [],
            "_model_module": "@jupyter-widgets/controls",
            "_model_module_version": "1.5.0",
            "_model_name": "FloatProgressModel",
            "_view_count": null,
            "_view_module": "@jupyter-widgets/controls",
            "_view_module_version": "1.5.0",
            "_view_name": "ProgressView",
            "bar_style": "success",
            "description": "",
            "description_tooltip": null,
            "layout": "IPY_MODEL_aabfb7a7ad7348e4bb3276bbb11108e3",
            "max": 2524,
            "min": 0,
            "orientation": "horizontal",
            "style": "IPY_MODEL_94b86900a1ec4982881a38d07e4bbd98",
            "value": 2524
          }
        },
        "443c04e20082489e90055c2a526dd806": {
          "model_module": "@jupyter-widgets/controls",
          "model_module_version": "1.5.0",
          "model_name": "DescriptionStyleModel",
          "state": {
            "_model_module": "@jupyter-widgets/controls",
            "_model_module_version": "1.5.0",
            "_model_name": "DescriptionStyleModel",
            "_view_count": null,
            "_view_module": "@jupyter-widgets/base",
            "_view_module_version": "1.2.0",
            "_view_name": "StyleView",
            "description_width": ""
          }
        },
        "47c83967b85e4d2bbfb2df5d95e10114": {
          "model_module": "@jupyter-widgets/controls",
          "model_module_version": "1.5.0",
          "model_name": "HBoxModel",
          "state": {
            "_dom_classes": [],
            "_model_module": "@jupyter-widgets/controls",
            "_model_module_version": "1.5.0",
            "_model_name": "HBoxModel",
            "_view_count": null,
            "_view_module": "@jupyter-widgets/controls",
            "_view_module_version": "1.5.0",
            "_view_name": "HBoxView",
            "box_style": "",
            "children": [
              "IPY_MODEL_307e5edb5a134e0088023a5a25fafcd6",
              "IPY_MODEL_aec42dcc30b34a4a97e54fe600409daa",
              "IPY_MODEL_155a05e275e147de916e253a137295f4"
            ],
            "layout": "IPY_MODEL_6c7728ae6b354e6a84bad4507c244169"
          }
        },
        "4c62d01f8cd24190901effff6f653dc5": {
          "model_module": "@jupyter-widgets/base",
          "model_module_version": "1.2.0",
          "model_name": "LayoutModel",
          "state": {
            "_model_module": "@jupyter-widgets/base",
            "_model_module_version": "1.2.0",
            "_model_name": "LayoutModel",
            "_view_count": null,
            "_view_module": "@jupyter-widgets/base",
            "_view_module_version": "1.2.0",
            "_view_name": "LayoutView",
            "align_content": null,
            "align_items": null,
            "align_self": null,
            "border": null,
            "bottom": null,
            "display": null,
            "flex": null,
            "flex_flow": null,
            "grid_area": null,
            "grid_auto_columns": null,
            "grid_auto_flow": null,
            "grid_auto_rows": null,
            "grid_column": null,
            "grid_gap": null,
            "grid_row": null,
            "grid_template_areas": null,
            "grid_template_columns": null,
            "grid_template_rows": null,
            "height": null,
            "justify_content": null,
            "justify_items": null,
            "left": null,
            "margin": null,
            "max_height": null,
            "max_width": null,
            "min_height": null,
            "min_width": null,
            "object_fit": null,
            "object_position": null,
            "order": null,
            "overflow": null,
            "overflow_x": null,
            "overflow_y": null,
            "padding": null,
            "right": null,
            "top": null,
            "visibility": null,
            "width": null
          }
        },
        "4dd03955ee8d401e919d66864421ef44": {
          "model_module": "@jupyter-widgets/controls",
          "model_module_version": "1.5.0",
          "model_name": "ProgressStyleModel",
          "state": {
            "_model_module": "@jupyter-widgets/controls",
            "_model_module_version": "1.5.0",
            "_model_name": "ProgressStyleModel",
            "_view_count": null,
            "_view_module": "@jupyter-widgets/base",
            "_view_module_version": "1.2.0",
            "_view_name": "StyleView",
            "bar_color": null,
            "description_width": ""
          }
        },
        "548ea76c456c4e26843ad771ab9e059b": {
          "model_module": "@jupyter-widgets/controls",
          "model_module_version": "1.5.0",
          "model_name": "HBoxModel",
          "state": {
            "_dom_classes": [],
            "_model_module": "@jupyter-widgets/controls",
            "_model_module_version": "1.5.0",
            "_model_name": "HBoxModel",
            "_view_count": null,
            "_view_module": "@jupyter-widgets/controls",
            "_view_module_version": "1.5.0",
            "_view_name": "HBoxView",
            "box_style": "",
            "children": [
              "IPY_MODEL_149eff40fff9463dae2e744f74346efd",
              "IPY_MODEL_126d07f16e6149b6a13c398e4aded97b",
              "IPY_MODEL_e83b7cfdc06449c0949ab834b73b7bbe"
            ],
            "layout": "IPY_MODEL_92c04573b6c24c20881102b8f3804360"
          }
        },
        "57d7ff068aac45e38494b60ee08d03f4": {
          "model_module": "@jupyter-widgets/base",
          "model_module_version": "1.2.0",
          "model_name": "LayoutModel",
          "state": {
            "_model_module": "@jupyter-widgets/base",
            "_model_module_version": "1.2.0",
            "_model_name": "LayoutModel",
            "_view_count": null,
            "_view_module": "@jupyter-widgets/base",
            "_view_module_version": "1.2.0",
            "_view_name": "LayoutView",
            "align_content": null,
            "align_items": null,
            "align_self": null,
            "border": null,
            "bottom": null,
            "display": null,
            "flex": null,
            "flex_flow": null,
            "grid_area": null,
            "grid_auto_columns": null,
            "grid_auto_flow": null,
            "grid_auto_rows": null,
            "grid_column": null,
            "grid_gap": null,
            "grid_row": null,
            "grid_template_areas": null,
            "grid_template_columns": null,
            "grid_template_rows": null,
            "height": null,
            "justify_content": null,
            "justify_items": null,
            "left": null,
            "margin": null,
            "max_height": null,
            "max_width": null,
            "min_height": null,
            "min_width": null,
            "object_fit": null,
            "object_position": null,
            "order": null,
            "overflow": null,
            "overflow_x": null,
            "overflow_y": null,
            "padding": null,
            "right": null,
            "top": null,
            "visibility": null,
            "width": null
          }
        },
        "593668e3b9bb454697b19a81a5f56775": {
          "model_module": "@jupyter-widgets/base",
          "model_module_version": "1.2.0",
          "model_name": "LayoutModel",
          "state": {
            "_model_module": "@jupyter-widgets/base",
            "_model_module_version": "1.2.0",
            "_model_name": "LayoutModel",
            "_view_count": null,
            "_view_module": "@jupyter-widgets/base",
            "_view_module_version": "1.2.0",
            "_view_name": "LayoutView",
            "align_content": null,
            "align_items": null,
            "align_self": null,
            "border": null,
            "bottom": null,
            "display": null,
            "flex": null,
            "flex_flow": null,
            "grid_area": null,
            "grid_auto_columns": null,
            "grid_auto_flow": null,
            "grid_auto_rows": null,
            "grid_column": null,
            "grid_gap": null,
            "grid_row": null,
            "grid_template_areas": null,
            "grid_template_columns": null,
            "grid_template_rows": null,
            "height": null,
            "justify_content": null,
            "justify_items": null,
            "left": null,
            "margin": null,
            "max_height": null,
            "max_width": null,
            "min_height": null,
            "min_width": null,
            "object_fit": null,
            "object_position": null,
            "order": null,
            "overflow": null,
            "overflow_x": null,
            "overflow_y": null,
            "padding": null,
            "right": null,
            "top": null,
            "visibility": null,
            "width": null
          }
        },
        "5c07ce56762f4fe5a432984b6689363e": {
          "model_module": "@jupyter-widgets/controls",
          "model_module_version": "1.5.0",
          "model_name": "HTMLModel",
          "state": {
            "_dom_classes": [],
            "_model_module": "@jupyter-widgets/controls",
            "_model_module_version": "1.5.0",
            "_model_name": "HTMLModel",
            "_view_count": null,
            "_view_module": "@jupyter-widgets/controls",
            "_view_module_version": "1.5.0",
            "_view_name": "HTMLView",
            "description": "",
            "description_tooltip": null,
            "layout": "IPY_MODEL_3a07eba219054827b071aac6f30635b6",
            "placeholder": "​",
            "style": "IPY_MODEL_a07f0595c1e346f3ae5efe856e9c1392",
            "value": "config.json: 100%"
          }
        },
        "5c315047660f4e2cb66a83c5f5d5797a": {
          "model_module": "@jupyter-widgets/controls",
          "model_module_version": "1.5.0",
          "model_name": "DescriptionStyleModel",
          "state": {
            "_model_module": "@jupyter-widgets/controls",
            "_model_module_version": "1.5.0",
            "_model_name": "DescriptionStyleModel",
            "_view_count": null,
            "_view_module": "@jupyter-widgets/base",
            "_view_module_version": "1.2.0",
            "_view_name": "StyleView",
            "description_width": ""
          }
        },
        "5fa3ee6efc704ad9b194b6fa5b8329f7": {
          "model_module": "@jupyter-widgets/controls",
          "model_module_version": "1.5.0",
          "model_name": "DescriptionStyleModel",
          "state": {
            "_model_module": "@jupyter-widgets/controls",
            "_model_module_version": "1.5.0",
            "_model_name": "DescriptionStyleModel",
            "_view_count": null,
            "_view_module": "@jupyter-widgets/base",
            "_view_module_version": "1.2.0",
            "_view_name": "StyleView",
            "description_width": ""
          }
        },
        "627f11b2fd674df3884bd0a3f6fbe6d8": {
          "model_module": "@jupyter-widgets/base",
          "model_module_version": "1.2.0",
          "model_name": "LayoutModel",
          "state": {
            "_model_module": "@jupyter-widgets/base",
            "_model_module_version": "1.2.0",
            "_model_name": "LayoutModel",
            "_view_count": null,
            "_view_module": "@jupyter-widgets/base",
            "_view_module_version": "1.2.0",
            "_view_name": "LayoutView",
            "align_content": null,
            "align_items": null,
            "align_self": null,
            "border": null,
            "bottom": null,
            "display": null,
            "flex": null,
            "flex_flow": null,
            "grid_area": null,
            "grid_auto_columns": null,
            "grid_auto_flow": null,
            "grid_auto_rows": null,
            "grid_column": null,
            "grid_gap": null,
            "grid_row": null,
            "grid_template_areas": null,
            "grid_template_columns": null,
            "grid_template_rows": null,
            "height": null,
            "justify_content": null,
            "justify_items": null,
            "left": null,
            "margin": null,
            "max_height": null,
            "max_width": null,
            "min_height": null,
            "min_width": null,
            "object_fit": null,
            "object_position": null,
            "order": null,
            "overflow": null,
            "overflow_x": null,
            "overflow_y": null,
            "padding": null,
            "right": null,
            "top": null,
            "visibility": null,
            "width": null
          }
        },
        "64ea0b3c020e4680b6bbace8b18bae60": {
          "model_module": "@jupyter-widgets/base",
          "model_module_version": "1.2.0",
          "model_name": "LayoutModel",
          "state": {
            "_model_module": "@jupyter-widgets/base",
            "_model_module_version": "1.2.0",
            "_model_name": "LayoutModel",
            "_view_count": null,
            "_view_module": "@jupyter-widgets/base",
            "_view_module_version": "1.2.0",
            "_view_name": "LayoutView",
            "align_content": null,
            "align_items": null,
            "align_self": null,
            "border": null,
            "bottom": null,
            "display": null,
            "flex": null,
            "flex_flow": null,
            "grid_area": null,
            "grid_auto_columns": null,
            "grid_auto_flow": null,
            "grid_auto_rows": null,
            "grid_column": null,
            "grid_gap": null,
            "grid_row": null,
            "grid_template_areas": null,
            "grid_template_columns": null,
            "grid_template_rows": null,
            "height": null,
            "justify_content": null,
            "justify_items": null,
            "left": null,
            "margin": null,
            "max_height": null,
            "max_width": null,
            "min_height": null,
            "min_width": null,
            "object_fit": null,
            "object_position": null,
            "order": null,
            "overflow": null,
            "overflow_x": null,
            "overflow_y": null,
            "padding": null,
            "right": null,
            "top": null,
            "visibility": null,
            "width": null
          }
        },
        "674783b9ceb64c1982ddc3f33762bb31": {
          "model_module": "@jupyter-widgets/controls",
          "model_module_version": "1.5.0",
          "model_name": "HTMLModel",
          "state": {
            "_dom_classes": [],
            "_model_module": "@jupyter-widgets/controls",
            "_model_module_version": "1.5.0",
            "_model_name": "HTMLModel",
            "_view_count": null,
            "_view_module": "@jupyter-widgets/controls",
            "_view_module_version": "1.5.0",
            "_view_name": "HTMLView",
            "description": "",
            "description_tooltip": null,
            "layout": "IPY_MODEL_593668e3b9bb454697b19a81a5f56775",
            "placeholder": "​",
            "style": "IPY_MODEL_0f65efc68cce477cb609c55c17af6266",
            "value": " 1.21k/1.21k [00:00&lt;00:00, 82.5kB/s]"
          }
        },
        "67d8e890e3a8417994c610a048dbf36d": {
          "model_module": "@jupyter-widgets/base",
          "model_module_version": "1.2.0",
          "model_name": "LayoutModel",
          "state": {
            "_model_module": "@jupyter-widgets/base",
            "_model_module_version": "1.2.0",
            "_model_name": "LayoutModel",
            "_view_count": null,
            "_view_module": "@jupyter-widgets/base",
            "_view_module_version": "1.2.0",
            "_view_name": "LayoutView",
            "align_content": null,
            "align_items": null,
            "align_self": null,
            "border": null,
            "bottom": null,
            "display": null,
            "flex": null,
            "flex_flow": null,
            "grid_area": null,
            "grid_auto_columns": null,
            "grid_auto_flow": null,
            "grid_auto_rows": null,
            "grid_column": null,
            "grid_gap": null,
            "grid_row": null,
            "grid_template_areas": null,
            "grid_template_columns": null,
            "grid_template_rows": null,
            "height": null,
            "justify_content": null,
            "justify_items": null,
            "left": null,
            "margin": null,
            "max_height": null,
            "max_width": null,
            "min_height": null,
            "min_width": null,
            "object_fit": null,
            "object_position": null,
            "order": null,
            "overflow": null,
            "overflow_x": null,
            "overflow_y": null,
            "padding": null,
            "right": null,
            "top": null,
            "visibility": null,
            "width": null
          }
        },
        "6841ccff49664f56a28dc7ee406e529f": {
          "model_module": "@jupyter-widgets/controls",
          "model_module_version": "1.5.0",
          "model_name": "HTMLModel",
          "state": {
            "_dom_classes": [],
            "_model_module": "@jupyter-widgets/controls",
            "_model_module_version": "1.5.0",
            "_model_name": "HTMLModel",
            "_view_count": null,
            "_view_module": "@jupyter-widgets/controls",
            "_view_module_version": "1.5.0",
            "_view_name": "HTMLView",
            "description": "",
            "description_tooltip": null,
            "layout": "IPY_MODEL_c3e7df88931648d499c514b2846489cc",
            "placeholder": "​",
            "style": "IPY_MODEL_92977458f51c4655bb3f455d83e23e68",
            "value": " 792k/792k [00:00&lt;00:00, 3.45MB/s]"
          }
        },
        "6b0151189d0344f4ac4a752409a92ac7": {
          "model_module": "@jupyter-widgets/base",
          "model_module_version": "1.2.0",
          "model_name": "LayoutModel",
          "state": {
            "_model_module": "@jupyter-widgets/base",
            "_model_module_version": "1.2.0",
            "_model_name": "LayoutModel",
            "_view_count": null,
            "_view_module": "@jupyter-widgets/base",
            "_view_module_version": "1.2.0",
            "_view_name": "LayoutView",
            "align_content": null,
            "align_items": null,
            "align_self": null,
            "border": null,
            "bottom": null,
            "display": null,
            "flex": null,
            "flex_flow": null,
            "grid_area": null,
            "grid_auto_columns": null,
            "grid_auto_flow": null,
            "grid_auto_rows": null,
            "grid_column": null,
            "grid_gap": null,
            "grid_row": null,
            "grid_template_areas": null,
            "grid_template_columns": null,
            "grid_template_rows": null,
            "height": null,
            "justify_content": null,
            "justify_items": null,
            "left": null,
            "margin": null,
            "max_height": null,
            "max_width": null,
            "min_height": null,
            "min_width": null,
            "object_fit": null,
            "object_position": null,
            "order": null,
            "overflow": null,
            "overflow_x": null,
            "overflow_y": null,
            "padding": null,
            "right": null,
            "top": null,
            "visibility": null,
            "width": null
          }
        },
        "6c463b186fd84909adae03e1ddae3df9": {
          "model_module": "@jupyter-widgets/base",
          "model_module_version": "1.2.0",
          "model_name": "LayoutModel",
          "state": {
            "_model_module": "@jupyter-widgets/base",
            "_model_module_version": "1.2.0",
            "_model_name": "LayoutModel",
            "_view_count": null,
            "_view_module": "@jupyter-widgets/base",
            "_view_module_version": "1.2.0",
            "_view_name": "LayoutView",
            "align_content": null,
            "align_items": null,
            "align_self": null,
            "border": null,
            "bottom": null,
            "display": null,
            "flex": null,
            "flex_flow": null,
            "grid_area": null,
            "grid_auto_columns": null,
            "grid_auto_flow": null,
            "grid_auto_rows": null,
            "grid_column": null,
            "grid_gap": null,
            "grid_row": null,
            "grid_template_areas": null,
            "grid_template_columns": null,
            "grid_template_rows": null,
            "height": null,
            "justify_content": null,
            "justify_items": null,
            "left": null,
            "margin": null,
            "max_height": null,
            "max_width": null,
            "min_height": null,
            "min_width": null,
            "object_fit": null,
            "object_position": null,
            "order": null,
            "overflow": null,
            "overflow_x": null,
            "overflow_y": null,
            "padding": null,
            "right": null,
            "top": null,
            "visibility": null,
            "width": null
          }
        },
        "6c7728ae6b354e6a84bad4507c244169": {
          "model_module": "@jupyter-widgets/base",
          "model_module_version": "1.2.0",
          "model_name": "LayoutModel",
          "state": {
            "_model_module": "@jupyter-widgets/base",
            "_model_module_version": "1.2.0",
            "_model_name": "LayoutModel",
            "_view_count": null,
            "_view_module": "@jupyter-widgets/base",
            "_view_module_version": "1.2.0",
            "_view_name": "LayoutView",
            "align_content": null,
            "align_items": null,
            "align_self": null,
            "border": null,
            "bottom": null,
            "display": null,
            "flex": null,
            "flex_flow": null,
            "grid_area": null,
            "grid_auto_columns": null,
            "grid_auto_flow": null,
            "grid_auto_rows": null,
            "grid_column": null,
            "grid_gap": null,
            "grid_row": null,
            "grid_template_areas": null,
            "grid_template_columns": null,
            "grid_template_rows": null,
            "height": null,
            "justify_content": null,
            "justify_items": null,
            "left": null,
            "margin": null,
            "max_height": null,
            "max_width": null,
            "min_height": null,
            "min_width": null,
            "object_fit": null,
            "object_position": null,
            "order": null,
            "overflow": null,
            "overflow_x": null,
            "overflow_y": null,
            "padding": null,
            "right": null,
            "top": null,
            "visibility": null,
            "width": null
          }
        },
        "6e6a8085bc0b4b209005818eb30448c9": {
          "model_module": "@jupyter-widgets/base",
          "model_module_version": "1.2.0",
          "model_name": "LayoutModel",
          "state": {
            "_model_module": "@jupyter-widgets/base",
            "_model_module_version": "1.2.0",
            "_model_name": "LayoutModel",
            "_view_count": null,
            "_view_module": "@jupyter-widgets/base",
            "_view_module_version": "1.2.0",
            "_view_name": "LayoutView",
            "align_content": null,
            "align_items": null,
            "align_self": null,
            "border": null,
            "bottom": null,
            "display": null,
            "flex": null,
            "flex_flow": null,
            "grid_area": null,
            "grid_auto_columns": null,
            "grid_auto_flow": null,
            "grid_auto_rows": null,
            "grid_column": null,
            "grid_gap": null,
            "grid_row": null,
            "grid_template_areas": null,
            "grid_template_columns": null,
            "grid_template_rows": null,
            "height": null,
            "justify_content": null,
            "justify_items": null,
            "left": null,
            "margin": null,
            "max_height": null,
            "max_width": null,
            "min_height": null,
            "min_width": null,
            "object_fit": null,
            "object_position": null,
            "order": null,
            "overflow": null,
            "overflow_x": null,
            "overflow_y": null,
            "padding": null,
            "right": null,
            "top": null,
            "visibility": null,
            "width": null
          }
        },
        "72b4b822036146daad27550b11abf2f5": {
          "model_module": "@jupyter-widgets/controls",
          "model_module_version": "1.5.0",
          "model_name": "DescriptionStyleModel",
          "state": {
            "_model_module": "@jupyter-widgets/controls",
            "_model_module_version": "1.5.0",
            "_model_name": "DescriptionStyleModel",
            "_view_count": null,
            "_view_module": "@jupyter-widgets/base",
            "_view_module_version": "1.2.0",
            "_view_name": "StyleView",
            "description_width": ""
          }
        },
        "74829b7487c24a33b0d542728ab92a0c": {
          "model_module": "@jupyter-widgets/base",
          "model_module_version": "1.2.0",
          "model_name": "LayoutModel",
          "state": {
            "_model_module": "@jupyter-widgets/base",
            "_model_module_version": "1.2.0",
            "_model_name": "LayoutModel",
            "_view_count": null,
            "_view_module": "@jupyter-widgets/base",
            "_view_module_version": "1.2.0",
            "_view_name": "LayoutView",
            "align_content": null,
            "align_items": null,
            "align_self": null,
            "border": null,
            "bottom": null,
            "display": null,
            "flex": null,
            "flex_flow": null,
            "grid_area": null,
            "grid_auto_columns": null,
            "grid_auto_flow": null,
            "grid_auto_rows": null,
            "grid_column": null,
            "grid_gap": null,
            "grid_row": null,
            "grid_template_areas": null,
            "grid_template_columns": null,
            "grid_template_rows": null,
            "height": null,
            "justify_content": null,
            "justify_items": null,
            "left": null,
            "margin": null,
            "max_height": null,
            "max_width": null,
            "min_height": null,
            "min_width": null,
            "object_fit": null,
            "object_position": null,
            "order": null,
            "overflow": null,
            "overflow_x": null,
            "overflow_y": null,
            "padding": null,
            "right": null,
            "top": null,
            "visibility": null,
            "width": null
          }
        },
        "74f4017288cb4d56a35b574a74045fae": {
          "model_module": "@jupyter-widgets/controls",
          "model_module_version": "1.5.0",
          "model_name": "HBoxModel",
          "state": {
            "_dom_classes": [],
            "_model_module": "@jupyter-widgets/controls",
            "_model_module_version": "1.5.0",
            "_model_name": "HBoxModel",
            "_view_count": null,
            "_view_module": "@jupyter-widgets/controls",
            "_view_module_version": "1.5.0",
            "_view_name": "HBoxView",
            "box_style": "",
            "children": [
              "IPY_MODEL_16d9f825323c4ce89a07db2bdf4afdb9",
              "IPY_MODEL_25d9d4b771cf48bea8eeb9365a8482e6",
              "IPY_MODEL_39c49901c6714b139085da50ae9d6957"
            ],
            "layout": "IPY_MODEL_67d8e890e3a8417994c610a048dbf36d"
          }
        },
        "770cce28638b4409952fa357a4feb659": {
          "model_module": "@jupyter-widgets/controls",
          "model_module_version": "1.5.0",
          "model_name": "ProgressStyleModel",
          "state": {
            "_model_module": "@jupyter-widgets/controls",
            "_model_module_version": "1.5.0",
            "_model_name": "ProgressStyleModel",
            "_view_count": null,
            "_view_module": "@jupyter-widgets/base",
            "_view_module_version": "1.2.0",
            "_view_name": "StyleView",
            "bar_color": null,
            "description_width": ""
          }
        },
        "79d5ebed493e4a668fe11a7e27f66904": {
          "model_module": "@jupyter-widgets/controls",
          "model_module_version": "1.5.0",
          "model_name": "ProgressStyleModel",
          "state": {
            "_model_module": "@jupyter-widgets/controls",
            "_model_module_version": "1.5.0",
            "_model_name": "ProgressStyleModel",
            "_view_count": null,
            "_view_module": "@jupyter-widgets/base",
            "_view_module_version": "1.2.0",
            "_view_name": "StyleView",
            "bar_color": null,
            "description_width": ""
          }
        },
        "7cf2186c18ff4b6f9612475e1ee23500": {
          "model_module": "@jupyter-widgets/base",
          "model_module_version": "1.2.0",
          "model_name": "LayoutModel",
          "state": {
            "_model_module": "@jupyter-widgets/base",
            "_model_module_version": "1.2.0",
            "_model_name": "LayoutModel",
            "_view_count": null,
            "_view_module": "@jupyter-widgets/base",
            "_view_module_version": "1.2.0",
            "_view_name": "LayoutView",
            "align_content": null,
            "align_items": null,
            "align_self": null,
            "border": null,
            "bottom": null,
            "display": null,
            "flex": null,
            "flex_flow": null,
            "grid_area": null,
            "grid_auto_columns": null,
            "grid_auto_flow": null,
            "grid_auto_rows": null,
            "grid_column": null,
            "grid_gap": null,
            "grid_row": null,
            "grid_template_areas": null,
            "grid_template_columns": null,
            "grid_template_rows": null,
            "height": null,
            "justify_content": null,
            "justify_items": null,
            "left": null,
            "margin": null,
            "max_height": null,
            "max_width": null,
            "min_height": null,
            "min_width": null,
            "object_fit": null,
            "object_position": null,
            "order": null,
            "overflow": null,
            "overflow_x": null,
            "overflow_y": null,
            "padding": null,
            "right": null,
            "top": null,
            "visibility": null,
            "width": null
          }
        },
        "7d55e4182d82437a83d9f98a8613c5b1": {
          "model_module": "@jupyter-widgets/base",
          "model_module_version": "1.2.0",
          "model_name": "LayoutModel",
          "state": {
            "_model_module": "@jupyter-widgets/base",
            "_model_module_version": "1.2.0",
            "_model_name": "LayoutModel",
            "_view_count": null,
            "_view_module": "@jupyter-widgets/base",
            "_view_module_version": "1.2.0",
            "_view_name": "LayoutView",
            "align_content": null,
            "align_items": null,
            "align_self": null,
            "border": null,
            "bottom": null,
            "display": null,
            "flex": null,
            "flex_flow": null,
            "grid_area": null,
            "grid_auto_columns": null,
            "grid_auto_flow": null,
            "grid_auto_rows": null,
            "grid_column": null,
            "grid_gap": null,
            "grid_row": null,
            "grid_template_areas": null,
            "grid_template_columns": null,
            "grid_template_rows": null,
            "height": null,
            "justify_content": null,
            "justify_items": null,
            "left": null,
            "margin": null,
            "max_height": null,
            "max_width": null,
            "min_height": null,
            "min_width": null,
            "object_fit": null,
            "object_position": null,
            "order": null,
            "overflow": null,
            "overflow_x": null,
            "overflow_y": null,
            "padding": null,
            "right": null,
            "top": null,
            "visibility": null,
            "width": null
          }
        },
        "85b05211693b41e38f2b3713a321ff81": {
          "model_module": "@jupyter-widgets/controls",
          "model_module_version": "1.5.0",
          "model_name": "HBoxModel",
          "state": {
            "_dom_classes": [],
            "_model_module": "@jupyter-widgets/controls",
            "_model_module_version": "1.5.0",
            "_model_name": "HBoxModel",
            "_view_count": null,
            "_view_module": "@jupyter-widgets/controls",
            "_view_module_version": "1.5.0",
            "_view_name": "HBoxView",
            "box_style": "",
            "children": [
              "IPY_MODEL_eb47d8aa16cd48a2ba7984f75260c3ed",
              "IPY_MODEL_20a2c0fbf28d4de29de9d3ad70427054",
              "IPY_MODEL_3864fd63c2d245eca4308800d347dd5e"
            ],
            "layout": "IPY_MODEL_986f882ab5b247d3854fc7ef4c9ba2e4"
          }
        },
        "85f9c507600347628971144e50413815": {
          "model_module": "@jupyter-widgets/controls",
          "model_module_version": "1.5.0",
          "model_name": "HBoxModel",
          "state": {
            "_dom_classes": [],
            "_model_module": "@jupyter-widgets/controls",
            "_model_module_version": "1.5.0",
            "_model_name": "HBoxModel",
            "_view_count": null,
            "_view_module": "@jupyter-widgets/controls",
            "_view_module_version": "1.5.0",
            "_view_name": "HBoxView",
            "box_style": "",
            "children": [
              "IPY_MODEL_352ff2ec2e83449fab202ed84fcd482b",
              "IPY_MODEL_3c2b51c8efaa4969959aace7c0059e34",
              "IPY_MODEL_6841ccff49664f56a28dc7ee406e529f"
            ],
            "layout": "IPY_MODEL_26db76fa7a7249cb94bdf4c7f84f5033"
          }
        },
        "89be3ed701e94c09b36d1597c963f3be": {
          "model_module": "@jupyter-widgets/controls",
          "model_module_version": "1.5.0",
          "model_name": "DescriptionStyleModel",
          "state": {
            "_model_module": "@jupyter-widgets/controls",
            "_model_module_version": "1.5.0",
            "_model_name": "DescriptionStyleModel",
            "_view_count": null,
            "_view_module": "@jupyter-widgets/base",
            "_view_module_version": "1.2.0",
            "_view_name": "StyleView",
            "description_width": ""
          }
        },
        "8c5fa7832fb94b869c145d0dcf52c325": {
          "model_module": "@jupyter-widgets/controls",
          "model_module_version": "1.5.0",
          "model_name": "DescriptionStyleModel",
          "state": {
            "_model_module": "@jupyter-widgets/controls",
            "_model_module_version": "1.5.0",
            "_model_name": "DescriptionStyleModel",
            "_view_count": null,
            "_view_module": "@jupyter-widgets/base",
            "_view_module_version": "1.2.0",
            "_view_name": "StyleView",
            "description_width": ""
          }
        },
        "8ca978db6c1542a7a95c10cff9428ab7": {
          "model_module": "@jupyter-widgets/controls",
          "model_module_version": "1.5.0",
          "model_name": "DescriptionStyleModel",
          "state": {
            "_model_module": "@jupyter-widgets/controls",
            "_model_module_version": "1.5.0",
            "_model_name": "DescriptionStyleModel",
            "_view_count": null,
            "_view_module": "@jupyter-widgets/base",
            "_view_module_version": "1.2.0",
            "_view_name": "StyleView",
            "description_width": ""
          }
        },
        "8ed8a192094a41b0ac2a2adabb53597e": {
          "model_module": "@jupyter-widgets/controls",
          "model_module_version": "1.5.0",
          "model_name": "HTMLModel",
          "state": {
            "_dom_classes": [],
            "_model_module": "@jupyter-widgets/controls",
            "_model_module_version": "1.5.0",
            "_model_name": "HTMLModel",
            "_view_count": null,
            "_view_module": "@jupyter-widgets/controls",
            "_view_module_version": "1.5.0",
            "_view_name": "HTMLView",
            "description": "",
            "description_tooltip": null,
            "layout": "IPY_MODEL_e9bb33164d9a432896eda2288020b7eb",
            "placeholder": "​",
            "style": "IPY_MODEL_17ab3a58a00d4c848c1f1002c082a0b2",
            "value": " 7.38k/? [00:00&lt;00:00, 611kB/s]"
          }
        },
        "92977458f51c4655bb3f455d83e23e68": {
          "model_module": "@jupyter-widgets/controls",
          "model_module_version": "1.5.0",
          "model_name": "DescriptionStyleModel",
          "state": {
            "_model_module": "@jupyter-widgets/controls",
            "_model_module_version": "1.5.0",
            "_model_name": "DescriptionStyleModel",
            "_view_count": null,
            "_view_module": "@jupyter-widgets/base",
            "_view_module_version": "1.2.0",
            "_view_name": "StyleView",
            "description_width": ""
          }
        },
        "92c04573b6c24c20881102b8f3804360": {
          "model_module": "@jupyter-widgets/base",
          "model_module_version": "1.2.0",
          "model_name": "LayoutModel",
          "state": {
            "_model_module": "@jupyter-widgets/base",
            "_model_module_version": "1.2.0",
            "_model_name": "LayoutModel",
            "_view_count": null,
            "_view_module": "@jupyter-widgets/base",
            "_view_module_version": "1.2.0",
            "_view_name": "LayoutView",
            "align_content": null,
            "align_items": null,
            "align_self": null,
            "border": null,
            "bottom": null,
            "display": null,
            "flex": null,
            "flex_flow": null,
            "grid_area": null,
            "grid_auto_columns": null,
            "grid_auto_flow": null,
            "grid_auto_rows": null,
            "grid_column": null,
            "grid_gap": null,
            "grid_row": null,
            "grid_template_areas": null,
            "grid_template_columns": null,
            "grid_template_rows": null,
            "height": null,
            "justify_content": null,
            "justify_items": null,
            "left": null,
            "margin": null,
            "max_height": null,
            "max_width": null,
            "min_height": null,
            "min_width": null,
            "object_fit": null,
            "object_position": null,
            "order": null,
            "overflow": null,
            "overflow_x": null,
            "overflow_y": null,
            "padding": null,
            "right": null,
            "top": null,
            "visibility": null,
            "width": null
          }
        },
        "94b86900a1ec4982881a38d07e4bbd98": {
          "model_module": "@jupyter-widgets/controls",
          "model_module_version": "1.5.0",
          "model_name": "ProgressStyleModel",
          "state": {
            "_model_module": "@jupyter-widgets/controls",
            "_model_module_version": "1.5.0",
            "_model_name": "ProgressStyleModel",
            "_view_count": null,
            "_view_module": "@jupyter-widgets/base",
            "_view_module_version": "1.2.0",
            "_view_name": "StyleView",
            "bar_color": null,
            "description_width": ""
          }
        },
        "97076137c07649119bc899f5f73a167e": {
          "model_module": "@jupyter-widgets/controls",
          "model_module_version": "1.5.0",
          "model_name": "DescriptionStyleModel",
          "state": {
            "_model_module": "@jupyter-widgets/controls",
            "_model_module_version": "1.5.0",
            "_model_name": "DescriptionStyleModel",
            "_view_count": null,
            "_view_module": "@jupyter-widgets/base",
            "_view_module_version": "1.2.0",
            "_view_name": "StyleView",
            "description_width": ""
          }
        },
        "986f882ab5b247d3854fc7ef4c9ba2e4": {
          "model_module": "@jupyter-widgets/base",
          "model_module_version": "1.2.0",
          "model_name": "LayoutModel",
          "state": {
            "_model_module": "@jupyter-widgets/base",
            "_model_module_version": "1.2.0",
            "_model_name": "LayoutModel",
            "_view_count": null,
            "_view_module": "@jupyter-widgets/base",
            "_view_module_version": "1.2.0",
            "_view_name": "LayoutView",
            "align_content": null,
            "align_items": null,
            "align_self": null,
            "border": null,
            "bottom": null,
            "display": null,
            "flex": null,
            "flex_flow": null,
            "grid_area": null,
            "grid_auto_columns": null,
            "grid_auto_flow": null,
            "grid_auto_rows": null,
            "grid_column": null,
            "grid_gap": null,
            "grid_row": null,
            "grid_template_areas": null,
            "grid_template_columns": null,
            "grid_template_rows": null,
            "height": null,
            "justify_content": null,
            "justify_items": null,
            "left": null,
            "margin": null,
            "max_height": null,
            "max_width": null,
            "min_height": null,
            "min_width": null,
            "object_fit": null,
            "object_position": null,
            "order": null,
            "overflow": null,
            "overflow_x": null,
            "overflow_y": null,
            "padding": null,
            "right": null,
            "top": null,
            "visibility": null,
            "width": null
          }
        },
        "9cc5cbb607ef411daac0e115cea67624": {
          "model_module": "@jupyter-widgets/base",
          "model_module_version": "1.2.0",
          "model_name": "LayoutModel",
          "state": {
            "_model_module": "@jupyter-widgets/base",
            "_model_module_version": "1.2.0",
            "_model_name": "LayoutModel",
            "_view_count": null,
            "_view_module": "@jupyter-widgets/base",
            "_view_module_version": "1.2.0",
            "_view_name": "LayoutView",
            "align_content": null,
            "align_items": null,
            "align_self": null,
            "border": null,
            "bottom": null,
            "display": null,
            "flex": null,
            "flex_flow": null,
            "grid_area": null,
            "grid_auto_columns": null,
            "grid_auto_flow": null,
            "grid_auto_rows": null,
            "grid_column": null,
            "grid_gap": null,
            "grid_row": null,
            "grid_template_areas": null,
            "grid_template_columns": null,
            "grid_template_rows": null,
            "height": null,
            "justify_content": null,
            "justify_items": null,
            "left": null,
            "margin": null,
            "max_height": null,
            "max_width": null,
            "min_height": null,
            "min_width": null,
            "object_fit": null,
            "object_position": null,
            "order": null,
            "overflow": null,
            "overflow_x": null,
            "overflow_y": null,
            "padding": null,
            "right": null,
            "top": null,
            "visibility": null,
            "width": null
          }
        },
        "9f19d90f1a9e43f99b0c9a48b5ff2351": {
          "model_module": "@jupyter-widgets/controls",
          "model_module_version": "1.5.0",
          "model_name": "DescriptionStyleModel",
          "state": {
            "_model_module": "@jupyter-widgets/controls",
            "_model_module_version": "1.5.0",
            "_model_name": "DescriptionStyleModel",
            "_view_count": null,
            "_view_module": "@jupyter-widgets/base",
            "_view_module_version": "1.2.0",
            "_view_name": "StyleView",
            "description_width": ""
          }
        },
        "a010f89e0ad24703a4b537bc967ea856": {
          "model_module": "@jupyter-widgets/base",
          "model_module_version": "1.2.0",
          "model_name": "LayoutModel",
          "state": {
            "_model_module": "@jupyter-widgets/base",
            "_model_module_version": "1.2.0",
            "_model_name": "LayoutModel",
            "_view_count": null,
            "_view_module": "@jupyter-widgets/base",
            "_view_module_version": "1.2.0",
            "_view_name": "LayoutView",
            "align_content": null,
            "align_items": null,
            "align_self": null,
            "border": null,
            "bottom": null,
            "display": null,
            "flex": null,
            "flex_flow": null,
            "grid_area": null,
            "grid_auto_columns": null,
            "grid_auto_flow": null,
            "grid_auto_rows": null,
            "grid_column": null,
            "grid_gap": null,
            "grid_row": null,
            "grid_template_areas": null,
            "grid_template_columns": null,
            "grid_template_rows": null,
            "height": null,
            "justify_content": null,
            "justify_items": null,
            "left": null,
            "margin": null,
            "max_height": null,
            "max_width": null,
            "min_height": null,
            "min_width": null,
            "object_fit": null,
            "object_position": null,
            "order": null,
            "overflow": null,
            "overflow_x": null,
            "overflow_y": null,
            "padding": null,
            "right": null,
            "top": null,
            "visibility": null,
            "width": null
          }
        },
        "a07f0595c1e346f3ae5efe856e9c1392": {
          "model_module": "@jupyter-widgets/controls",
          "model_module_version": "1.5.0",
          "model_name": "DescriptionStyleModel",
          "state": {
            "_model_module": "@jupyter-widgets/controls",
            "_model_module_version": "1.5.0",
            "_model_name": "DescriptionStyleModel",
            "_view_count": null,
            "_view_module": "@jupyter-widgets/base",
            "_view_module_version": "1.2.0",
            "_view_name": "StyleView",
            "description_width": ""
          }
        },
        "a0e95c7ce9f94603aa135dfccfff5575": {
          "model_module": "@jupyter-widgets/base",
          "model_module_version": "1.2.0",
          "model_name": "LayoutModel",
          "state": {
            "_model_module": "@jupyter-widgets/base",
            "_model_module_version": "1.2.0",
            "_model_name": "LayoutModel",
            "_view_count": null,
            "_view_module": "@jupyter-widgets/base",
            "_view_module_version": "1.2.0",
            "_view_name": "LayoutView",
            "align_content": null,
            "align_items": null,
            "align_self": null,
            "border": null,
            "bottom": null,
            "display": null,
            "flex": null,
            "flex_flow": null,
            "grid_area": null,
            "grid_auto_columns": null,
            "grid_auto_flow": null,
            "grid_auto_rows": null,
            "grid_column": null,
            "grid_gap": null,
            "grid_row": null,
            "grid_template_areas": null,
            "grid_template_columns": null,
            "grid_template_rows": null,
            "height": null,
            "justify_content": null,
            "justify_items": null,
            "left": null,
            "margin": null,
            "max_height": null,
            "max_width": null,
            "min_height": null,
            "min_width": null,
            "object_fit": null,
            "object_position": null,
            "order": null,
            "overflow": null,
            "overflow_x": null,
            "overflow_y": null,
            "padding": null,
            "right": null,
            "top": null,
            "visibility": null,
            "width": null
          }
        },
        "a5e5d0bf51cf4fa7899f5b4416ebf4cf": {
          "model_module": "@jupyter-widgets/controls",
          "model_module_version": "1.5.0",
          "model_name": "HTMLModel",
          "state": {
            "_dom_classes": [],
            "_model_module": "@jupyter-widgets/controls",
            "_model_module_version": "1.5.0",
            "_model_name": "HTMLModel",
            "_view_count": null,
            "_view_module": "@jupyter-widgets/controls",
            "_view_module_version": "1.5.0",
            "_view_name": "HTMLView",
            "description": "",
            "description_tooltip": null,
            "layout": "IPY_MODEL_9cc5cbb607ef411daac0e115cea67624",
            "placeholder": "​",
            "style": "IPY_MODEL_8ca978db6c1542a7a95c10cff9428ab7",
            "value": "Downloading builder script: "
          }
        },
        "a7475fb7a11a45269a1d209e3264844c": {
          "model_module": "@jupyter-widgets/controls",
          "model_module_version": "1.5.0",
          "model_name": "HBoxModel",
          "state": {
            "_dom_classes": [],
            "_model_module": "@jupyter-widgets/controls",
            "_model_module_version": "1.5.0",
            "_model_name": "HBoxModel",
            "_view_count": null,
            "_view_module": "@jupyter-widgets/controls",
            "_view_module_version": "1.5.0",
            "_view_name": "HBoxView",
            "box_style": "",
            "children": [
              "IPY_MODEL_a5e5d0bf51cf4fa7899f5b4416ebf4cf",
              "IPY_MODEL_0f803c19b48942bc8dd5e2d711b5d41b",
              "IPY_MODEL_226a43cbc8a24c8cb3a83acebb566534"
            ],
            "layout": "IPY_MODEL_b55552c2cdaf469ca6c2294d6306b5a8"
          }
        },
        "a83bb28b4584473bb188237e7448edd8": {
          "model_module": "@jupyter-widgets/controls",
          "model_module_version": "1.5.0",
          "model_name": "ProgressStyleModel",
          "state": {
            "_model_module": "@jupyter-widgets/controls",
            "_model_module_version": "1.5.0",
            "_model_name": "ProgressStyleModel",
            "_view_count": null,
            "_view_module": "@jupyter-widgets/base",
            "_view_module_version": "1.2.0",
            "_view_name": "StyleView",
            "bar_color": null,
            "description_width": ""
          }
        },
        "aa8a365873d140dcbb715a3a374040d8": {
          "model_module": "@jupyter-widgets/base",
          "model_module_version": "1.2.0",
          "model_name": "LayoutModel",
          "state": {
            "_model_module": "@jupyter-widgets/base",
            "_model_module_version": "1.2.0",
            "_model_name": "LayoutModel",
            "_view_count": null,
            "_view_module": "@jupyter-widgets/base",
            "_view_module_version": "1.2.0",
            "_view_name": "LayoutView",
            "align_content": null,
            "align_items": null,
            "align_self": null,
            "border": null,
            "bottom": null,
            "display": null,
            "flex": null,
            "flex_flow": null,
            "grid_area": null,
            "grid_auto_columns": null,
            "grid_auto_flow": null,
            "grid_auto_rows": null,
            "grid_column": null,
            "grid_gap": null,
            "grid_row": null,
            "grid_template_areas": null,
            "grid_template_columns": null,
            "grid_template_rows": null,
            "height": null,
            "justify_content": null,
            "justify_items": null,
            "left": null,
            "margin": null,
            "max_height": null,
            "max_width": null,
            "min_height": null,
            "min_width": null,
            "object_fit": null,
            "object_position": null,
            "order": null,
            "overflow": null,
            "overflow_x": null,
            "overflow_y": null,
            "padding": null,
            "right": null,
            "top": null,
            "visibility": null,
            "width": null
          }
        },
        "aabfb7a7ad7348e4bb3276bbb11108e3": {
          "model_module": "@jupyter-widgets/base",
          "model_module_version": "1.2.0",
          "model_name": "LayoutModel",
          "state": {
            "_model_module": "@jupyter-widgets/base",
            "_model_module_version": "1.2.0",
            "_model_name": "LayoutModel",
            "_view_count": null,
            "_view_module": "@jupyter-widgets/base",
            "_view_module_version": "1.2.0",
            "_view_name": "LayoutView",
            "align_content": null,
            "align_items": null,
            "align_self": null,
            "border": null,
            "bottom": null,
            "display": null,
            "flex": null,
            "flex_flow": null,
            "grid_area": null,
            "grid_auto_columns": null,
            "grid_auto_flow": null,
            "grid_auto_rows": null,
            "grid_column": null,
            "grid_gap": null,
            "grid_row": null,
            "grid_template_areas": null,
            "grid_template_columns": null,
            "grid_template_rows": null,
            "height": null,
            "justify_content": null,
            "justify_items": null,
            "left": null,
            "margin": null,
            "max_height": null,
            "max_width": null,
            "min_height": null,
            "min_width": null,
            "object_fit": null,
            "object_position": null,
            "order": null,
            "overflow": null,
            "overflow_x": null,
            "overflow_y": null,
            "padding": null,
            "right": null,
            "top": null,
            "visibility": null,
            "width": null
          }
        },
        "ae263dbc2be6471db093a1e674671658": {
          "model_module": "@jupyter-widgets/controls",
          "model_module_version": "1.5.0",
          "model_name": "ProgressStyleModel",
          "state": {
            "_model_module": "@jupyter-widgets/controls",
            "_model_module_version": "1.5.0",
            "_model_name": "ProgressStyleModel",
            "_view_count": null,
            "_view_module": "@jupyter-widgets/base",
            "_view_module_version": "1.2.0",
            "_view_name": "StyleView",
            "bar_color": null,
            "description_width": ""
          }
        },
        "aec42dcc30b34a4a97e54fe600409daa": {
          "model_module": "@jupyter-widgets/controls",
          "model_module_version": "1.5.0",
          "model_name": "FloatProgressModel",
          "state": {
            "_dom_classes": [],
            "_model_module": "@jupyter-widgets/controls",
            "_model_module_version": "1.5.0",
            "_model_name": "FloatProgressModel",
            "_view_count": null,
            "_view_module": "@jupyter-widgets/controls",
            "_view_module_version": "1.5.0",
            "_view_name": "ProgressView",
            "bar_style": "success",
            "description": "",
            "description_tooltip": null,
            "layout": "IPY_MODEL_64ea0b3c020e4680b6bbace8b18bae60",
            "max": 2575,
            "min": 0,
            "orientation": "horizontal",
            "style": "IPY_MODEL_ffb4a464a7754118ad9ed3c64e54c6ef",
            "value": 2575
          }
        },
        "b55552c2cdaf469ca6c2294d6306b5a8": {
          "model_module": "@jupyter-widgets/base",
          "model_module_version": "1.2.0",
          "model_name": "LayoutModel",
          "state": {
            "_model_module": "@jupyter-widgets/base",
            "_model_module_version": "1.2.0",
            "_model_name": "LayoutModel",
            "_view_count": null,
            "_view_module": "@jupyter-widgets/base",
            "_view_module_version": "1.2.0",
            "_view_name": "LayoutView",
            "align_content": null,
            "align_items": null,
            "align_self": null,
            "border": null,
            "bottom": null,
            "display": null,
            "flex": null,
            "flex_flow": null,
            "grid_area": null,
            "grid_auto_columns": null,
            "grid_auto_flow": null,
            "grid_auto_rows": null,
            "grid_column": null,
            "grid_gap": null,
            "grid_row": null,
            "grid_template_areas": null,
            "grid_template_columns": null,
            "grid_template_rows": null,
            "height": null,
            "justify_content": null,
            "justify_items": null,
            "left": null,
            "margin": null,
            "max_height": null,
            "max_width": null,
            "min_height": null,
            "min_width": null,
            "object_fit": null,
            "object_position": null,
            "order": null,
            "overflow": null,
            "overflow_x": null,
            "overflow_y": null,
            "padding": null,
            "right": null,
            "top": null,
            "visibility": null,
            "width": null
          }
        },
        "b9eae471c9bd4703a8cfc9e60b829e81": {
          "model_module": "@jupyter-widgets/controls",
          "model_module_version": "1.5.0",
          "model_name": "DescriptionStyleModel",
          "state": {
            "_model_module": "@jupyter-widgets/controls",
            "_model_module_version": "1.5.0",
            "_model_name": "DescriptionStyleModel",
            "_view_count": null,
            "_view_module": "@jupyter-widgets/base",
            "_view_module_version": "1.2.0",
            "_view_name": "StyleView",
            "description_width": ""
          }
        },
        "bea735d3ecf44c458558476a00c34024": {
          "model_module": "@jupyter-widgets/base",
          "model_module_version": "1.2.0",
          "model_name": "LayoutModel",
          "state": {
            "_model_module": "@jupyter-widgets/base",
            "_model_module_version": "1.2.0",
            "_model_name": "LayoutModel",
            "_view_count": null,
            "_view_module": "@jupyter-widgets/base",
            "_view_module_version": "1.2.0",
            "_view_name": "LayoutView",
            "align_content": null,
            "align_items": null,
            "align_self": null,
            "border": null,
            "bottom": null,
            "display": null,
            "flex": null,
            "flex_flow": null,
            "grid_area": null,
            "grid_auto_columns": null,
            "grid_auto_flow": null,
            "grid_auto_rows": null,
            "grid_column": null,
            "grid_gap": null,
            "grid_row": null,
            "grid_template_areas": null,
            "grid_template_columns": null,
            "grid_template_rows": null,
            "height": null,
            "justify_content": null,
            "justify_items": null,
            "left": null,
            "margin": null,
            "max_height": null,
            "max_width": null,
            "min_height": null,
            "min_width": null,
            "object_fit": null,
            "object_position": null,
            "order": null,
            "overflow": null,
            "overflow_x": null,
            "overflow_y": null,
            "padding": null,
            "right": null,
            "top": null,
            "visibility": null,
            "width": null
          }
        },
        "c080ee6084ae4e17844b29fcdd26b01b": {
          "model_module": "@jupyter-widgets/controls",
          "model_module_version": "1.5.0",
          "model_name": "HBoxModel",
          "state": {
            "_dom_classes": [],
            "_model_module": "@jupyter-widgets/controls",
            "_model_module_version": "1.5.0",
            "_model_name": "HBoxModel",
            "_view_count": null,
            "_view_module": "@jupyter-widgets/controls",
            "_view_module_version": "1.5.0",
            "_view_name": "HBoxView",
            "box_style": "",
            "children": [
              "IPY_MODEL_5c07ce56762f4fe5a432984b6689363e",
              "IPY_MODEL_dbd3d3046cc84a58b22f1a33c19e1e50",
              "IPY_MODEL_674783b9ceb64c1982ddc3f33762bb31"
            ],
            "layout": "IPY_MODEL_4c62d01f8cd24190901effff6f653dc5"
          }
        },
        "c3e7df88931648d499c514b2846489cc": {
          "model_module": "@jupyter-widgets/base",
          "model_module_version": "1.2.0",
          "model_name": "LayoutModel",
          "state": {
            "_model_module": "@jupyter-widgets/base",
            "_model_module_version": "1.2.0",
            "_model_name": "LayoutModel",
            "_view_count": null,
            "_view_module": "@jupyter-widgets/base",
            "_view_module_version": "1.2.0",
            "_view_name": "LayoutView",
            "align_content": null,
            "align_items": null,
            "align_self": null,
            "border": null,
            "bottom": null,
            "display": null,
            "flex": null,
            "flex_flow": null,
            "grid_area": null,
            "grid_auto_columns": null,
            "grid_auto_flow": null,
            "grid_auto_rows": null,
            "grid_column": null,
            "grid_gap": null,
            "grid_row": null,
            "grid_template_areas": null,
            "grid_template_columns": null,
            "grid_template_rows": null,
            "height": null,
            "justify_content": null,
            "justify_items": null,
            "left": null,
            "margin": null,
            "max_height": null,
            "max_width": null,
            "min_height": null,
            "min_width": null,
            "object_fit": null,
            "object_position": null,
            "order": null,
            "overflow": null,
            "overflow_x": null,
            "overflow_y": null,
            "padding": null,
            "right": null,
            "top": null,
            "visibility": null,
            "width": null
          }
        },
        "c69fd47b973f41e08de59e1e034219b0": {
          "model_module": "@jupyter-widgets/base",
          "model_module_version": "1.2.0",
          "model_name": "LayoutModel",
          "state": {
            "_model_module": "@jupyter-widgets/base",
            "_model_module_version": "1.2.0",
            "_model_name": "LayoutModel",
            "_view_count": null,
            "_view_module": "@jupyter-widgets/base",
            "_view_module_version": "1.2.0",
            "_view_name": "LayoutView",
            "align_content": null,
            "align_items": null,
            "align_self": null,
            "border": null,
            "bottom": null,
            "display": null,
            "flex": null,
            "flex_flow": null,
            "grid_area": null,
            "grid_auto_columns": null,
            "grid_auto_flow": null,
            "grid_auto_rows": null,
            "grid_column": null,
            "grid_gap": null,
            "grid_row": null,
            "grid_template_areas": null,
            "grid_template_columns": null,
            "grid_template_rows": null,
            "height": null,
            "justify_content": null,
            "justify_items": null,
            "left": null,
            "margin": null,
            "max_height": null,
            "max_width": null,
            "min_height": null,
            "min_width": null,
            "object_fit": null,
            "object_position": null,
            "order": null,
            "overflow": null,
            "overflow_x": null,
            "overflow_y": null,
            "padding": null,
            "right": null,
            "top": null,
            "visibility": null,
            "width": null
          }
        },
        "d4f7b136a8d64e9c9eada4ebaba385c8": {
          "model_module": "@jupyter-widgets/controls",
          "model_module_version": "1.5.0",
          "model_name": "ProgressStyleModel",
          "state": {
            "_model_module": "@jupyter-widgets/controls",
            "_model_module_version": "1.5.0",
            "_model_name": "ProgressStyleModel",
            "_view_count": null,
            "_view_module": "@jupyter-widgets/base",
            "_view_module_version": "1.2.0",
            "_view_name": "StyleView",
            "bar_color": null,
            "description_width": ""
          }
        },
        "daee9a040d1745a0965fb199d46649ac": {
          "model_module": "@jupyter-widgets/base",
          "model_module_version": "1.2.0",
          "model_name": "LayoutModel",
          "state": {
            "_model_module": "@jupyter-widgets/base",
            "_model_module_version": "1.2.0",
            "_model_name": "LayoutModel",
            "_view_count": null,
            "_view_module": "@jupyter-widgets/base",
            "_view_module_version": "1.2.0",
            "_view_name": "LayoutView",
            "align_content": null,
            "align_items": null,
            "align_self": null,
            "border": null,
            "bottom": null,
            "display": null,
            "flex": null,
            "flex_flow": null,
            "grid_area": null,
            "grid_auto_columns": null,
            "grid_auto_flow": null,
            "grid_auto_rows": null,
            "grid_column": null,
            "grid_gap": null,
            "grid_row": null,
            "grid_template_areas": null,
            "grid_template_columns": null,
            "grid_template_rows": null,
            "height": null,
            "justify_content": null,
            "justify_items": null,
            "left": null,
            "margin": null,
            "max_height": null,
            "max_width": null,
            "min_height": null,
            "min_width": null,
            "object_fit": null,
            "object_position": null,
            "order": null,
            "overflow": null,
            "overflow_x": null,
            "overflow_y": null,
            "padding": null,
            "right": null,
            "top": null,
            "visibility": null,
            "width": null
          }
        },
        "dbd3d3046cc84a58b22f1a33c19e1e50": {
          "model_module": "@jupyter-widgets/controls",
          "model_module_version": "1.5.0",
          "model_name": "FloatProgressModel",
          "state": {
            "_dom_classes": [],
            "_model_module": "@jupyter-widgets/controls",
            "_model_module_version": "1.5.0",
            "_model_name": "FloatProgressModel",
            "_view_count": null,
            "_view_module": "@jupyter-widgets/controls",
            "_view_module_version": "1.5.0",
            "_view_name": "ProgressView",
            "bar_style": "success",
            "description": "",
            "description_tooltip": null,
            "layout": "IPY_MODEL_2e4323e5cba54dfaa176dca9b489defe",
            "max": 1208,
            "min": 0,
            "orientation": "horizontal",
            "style": "IPY_MODEL_d4f7b136a8d64e9c9eada4ebaba385c8",
            "value": 1208
          }
        },
        "e6eedee662db41dc8bb54c6052565138": {
          "model_module": "@jupyter-widgets/base",
          "model_module_version": "1.2.0",
          "model_name": "LayoutModel",
          "state": {
            "_model_module": "@jupyter-widgets/base",
            "_model_module_version": "1.2.0",
            "_model_name": "LayoutModel",
            "_view_count": null,
            "_view_module": "@jupyter-widgets/base",
            "_view_module_version": "1.2.0",
            "_view_name": "LayoutView",
            "align_content": null,
            "align_items": null,
            "align_self": null,
            "border": null,
            "bottom": null,
            "display": null,
            "flex": null,
            "flex_flow": null,
            "grid_area": null,
            "grid_auto_columns": null,
            "grid_auto_flow": null,
            "grid_auto_rows": null,
            "grid_column": null,
            "grid_gap": null,
            "grid_row": null,
            "grid_template_areas": null,
            "grid_template_columns": null,
            "grid_template_rows": null,
            "height": null,
            "justify_content": null,
            "justify_items": null,
            "left": null,
            "margin": null,
            "max_height": null,
            "max_width": null,
            "min_height": null,
            "min_width": null,
            "object_fit": null,
            "object_position": null,
            "order": null,
            "overflow": null,
            "overflow_x": null,
            "overflow_y": null,
            "padding": null,
            "right": null,
            "top": null,
            "visibility": null,
            "width": null
          }
        },
        "e83b7cfdc06449c0949ab834b73b7bbe": {
          "model_module": "@jupyter-widgets/controls",
          "model_module_version": "1.5.0",
          "model_name": "HTMLModel",
          "state": {
            "_dom_classes": [],
            "_model_module": "@jupyter-widgets/controls",
            "_model_module_version": "1.5.0",
            "_model_name": "HTMLModel",
            "_view_count": null,
            "_view_module": "@jupyter-widgets/controls",
            "_view_module_version": "1.5.0",
            "_view_name": "HTMLView",
            "description": "",
            "description_tooltip": null,
            "layout": "IPY_MODEL_a0e95c7ce9f94603aa135dfccfff5575",
            "placeholder": "​",
            "style": "IPY_MODEL_5c315047660f4e2cb66a83c5f5d5797a",
            "value": " 1.39M/1.39M [00:00&lt;00:00, 16.9MB/s]"
          }
        },
        "e9bb33164d9a432896eda2288020b7eb": {
          "model_module": "@jupyter-widgets/base",
          "model_module_version": "1.2.0",
          "model_name": "LayoutModel",
          "state": {
            "_model_module": "@jupyter-widgets/base",
            "_model_module_version": "1.2.0",
            "_model_name": "LayoutModel",
            "_view_count": null,
            "_view_module": "@jupyter-widgets/base",
            "_view_module_version": "1.2.0",
            "_view_name": "LayoutView",
            "align_content": null,
            "align_items": null,
            "align_self": null,
            "border": null,
            "bottom": null,
            "display": null,
            "flex": null,
            "flex_flow": null,
            "grid_area": null,
            "grid_auto_columns": null,
            "grid_auto_flow": null,
            "grid_auto_rows": null,
            "grid_column": null,
            "grid_gap": null,
            "grid_row": null,
            "grid_template_areas": null,
            "grid_template_columns": null,
            "grid_template_rows": null,
            "height": null,
            "justify_content": null,
            "justify_items": null,
            "left": null,
            "margin": null,
            "max_height": null,
            "max_width": null,
            "min_height": null,
            "min_width": null,
            "object_fit": null,
            "object_position": null,
            "order": null,
            "overflow": null,
            "overflow_x": null,
            "overflow_y": null,
            "padding": null,
            "right": null,
            "top": null,
            "visibility": null,
            "width": null
          }
        },
        "eb47d8aa16cd48a2ba7984f75260c3ed": {
          "model_module": "@jupyter-widgets/controls",
          "model_module_version": "1.5.0",
          "model_name": "HTMLModel",
          "state": {
            "_dom_classes": [],
            "_model_module": "@jupyter-widgets/controls",
            "_model_module_version": "1.5.0",
            "_model_name": "HTMLModel",
            "_view_count": null,
            "_view_module": "@jupyter-widgets/controls",
            "_view_module_version": "1.5.0",
            "_view_name": "HTMLView",
            "description": "",
            "description_tooltip": null,
            "layout": "IPY_MODEL_7d55e4182d82437a83d9f98a8613c5b1",
            "placeholder": "​",
            "style": "IPY_MODEL_9f19d90f1a9e43f99b0c9a48b5ff2351",
            "value": "Downloading builder script: "
          }
        },
        "eb686f9f28a34481a4ff2fca1d837a34": {
          "model_module": "@jupyter-widgets/controls",
          "model_module_version": "1.5.0",
          "model_name": "DescriptionStyleModel",
          "state": {
            "_model_module": "@jupyter-widgets/controls",
            "_model_module_version": "1.5.0",
            "_model_name": "DescriptionStyleModel",
            "_view_count": null,
            "_view_module": "@jupyter-widgets/base",
            "_view_module_version": "1.2.0",
            "_view_name": "StyleView",
            "description_width": ""
          }
        },
        "eb734cbfc2024dd2a88c6819cb9ef82e": {
          "model_module": "@jupyter-widgets/base",
          "model_module_version": "1.2.0",
          "model_name": "LayoutModel",
          "state": {
            "_model_module": "@jupyter-widgets/base",
            "_model_module_version": "1.2.0",
            "_model_name": "LayoutModel",
            "_view_count": null,
            "_view_module": "@jupyter-widgets/base",
            "_view_module_version": "1.2.0",
            "_view_name": "LayoutView",
            "align_content": null,
            "align_items": null,
            "align_self": null,
            "border": null,
            "bottom": null,
            "display": null,
            "flex": null,
            "flex_flow": null,
            "grid_area": null,
            "grid_auto_columns": null,
            "grid_auto_flow": null,
            "grid_auto_rows": null,
            "grid_column": null,
            "grid_gap": null,
            "grid_row": null,
            "grid_template_areas": null,
            "grid_template_columns": null,
            "grid_template_rows": null,
            "height": null,
            "justify_content": null,
            "justify_items": null,
            "left": null,
            "margin": null,
            "max_height": null,
            "max_width": null,
            "min_height": null,
            "min_width": null,
            "object_fit": null,
            "object_position": null,
            "order": null,
            "overflow": null,
            "overflow_x": null,
            "overflow_y": null,
            "padding": null,
            "right": null,
            "top": null,
            "visibility": null,
            "width": null
          }
        },
        "f415a515d9dc4d4bad0374551449e9ec": {
          "model_module": "@jupyter-widgets/controls",
          "model_module_version": "1.5.0",
          "model_name": "HTMLModel",
          "state": {
            "_dom_classes": [],
            "_model_module": "@jupyter-widgets/controls",
            "_model_module_version": "1.5.0",
            "_model_name": "HTMLModel",
            "_view_count": null,
            "_view_module": "@jupyter-widgets/controls",
            "_view_module_version": "1.5.0",
            "_view_name": "HTMLView",
            "description": "",
            "description_tooltip": null,
            "layout": "IPY_MODEL_eb734cbfc2024dd2a88c6819cb9ef82e",
            "placeholder": "​",
            "style": "IPY_MODEL_8c5fa7832fb94b869c145d0dcf52c325",
            "value": "model.safetensors: 100%"
          }
        },
        "ffb4a464a7754118ad9ed3c64e54c6ef": {
          "model_module": "@jupyter-widgets/controls",
          "model_module_version": "1.5.0",
          "model_name": "ProgressStyleModel",
          "state": {
            "_model_module": "@jupyter-widgets/controls",
            "_model_module_version": "1.5.0",
            "_model_name": "ProgressStyleModel",
            "_view_count": null,
            "_view_module": "@jupyter-widgets/base",
            "_view_module_version": "1.2.0",
            "_view_name": "StyleView",
            "bar_color": null,
            "description_width": ""
          }
        }
      }
    }
  },
  "nbformat": 4,
  "nbformat_minor": 0
}
